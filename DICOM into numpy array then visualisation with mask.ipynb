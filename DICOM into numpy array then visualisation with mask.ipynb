{
 "cells": [
  {
   "cell_type": "code",
   "execution_count": 1,
   "id": "a964c9a1",
   "metadata": {},
   "outputs": [],
   "source": [
    "import pydicom\n",
    "from pydicom import dcmread\n",
    "import os\n",
    "import numpy\n",
    "import numpy as np\n",
    "import nrrd\n",
    "from os import listdir\n",
    "from os.path import isfile, join\n",
    "import pandas as pd\n",
    "from ipywidgets import interact\n",
    "import matplotlib.pyplot as plt\n",
    "from PIL import Image as im\n",
    "from matplotlib import pyplot, cm"
   ]
  },
  {
   "cell_type": "code",
   "execution_count": 2,
   "id": "6488fff7",
   "metadata": {},
   "outputs": [
    {
     "name": "stdout",
     "output_type": "stream",
     "text": [
      "['E:\\\\Internship Mass storage\\\\First 3 datasets\\\\Duke_breast_MRI dataset\\\\Duke-Breast-Cancer-MRI\\\\Breast_MRI_002\\\\01-01-1990-NA-MRI BREAST BILATERAL W  WO-51972\\\\600.000000-ax 3d dyn-25442/1-001.dcm', 'E:\\\\Internship Mass storage\\\\First 3 datasets\\\\Duke_breast_MRI dataset\\\\Duke-Breast-Cancer-MRI\\\\Breast_MRI_002\\\\01-01-1990-NA-MRI BREAST BILATERAL W  WO-51972\\\\600.000000-ax 3d dyn-25442/1-002.dcm', 'E:\\\\Internship Mass storage\\\\First 3 datasets\\\\Duke_breast_MRI dataset\\\\Duke-Breast-Cancer-MRI\\\\Breast_MRI_002\\\\01-01-1990-NA-MRI BREAST BILATERAL W  WO-51972\\\\600.000000-ax 3d dyn-25442/1-003.dcm', 'E:\\\\Internship Mass storage\\\\First 3 datasets\\\\Duke_breast_MRI dataset\\\\Duke-Breast-Cancer-MRI\\\\Breast_MRI_002\\\\01-01-1990-NA-MRI BREAST BILATERAL W  WO-51972\\\\600.000000-ax 3d dyn-25442/1-004.dcm', 'E:\\\\Internship Mass storage\\\\First 3 datasets\\\\Duke_breast_MRI dataset\\\\Duke-Breast-Cancer-MRI\\\\Breast_MRI_002\\\\01-01-1990-NA-MRI BREAST BILATERAL W  WO-51972\\\\600.000000-ax 3d dyn-25442/1-005.dcm', 'E:\\\\Internship Mass storage\\\\First 3 datasets\\\\Duke_breast_MRI dataset\\\\Duke-Breast-Cancer-MRI\\\\Breast_MRI_002\\\\01-01-1990-NA-MRI BREAST BILATERAL W  WO-51972\\\\600.000000-ax 3d dyn-25442/1-006.dcm', 'E:\\\\Internship Mass storage\\\\First 3 datasets\\\\Duke_breast_MRI dataset\\\\Duke-Breast-Cancer-MRI\\\\Breast_MRI_002\\\\01-01-1990-NA-MRI BREAST BILATERAL W  WO-51972\\\\600.000000-ax 3d dyn-25442/1-007.dcm', 'E:\\\\Internship Mass storage\\\\First 3 datasets\\\\Duke_breast_MRI dataset\\\\Duke-Breast-Cancer-MRI\\\\Breast_MRI_002\\\\01-01-1990-NA-MRI BREAST BILATERAL W  WO-51972\\\\600.000000-ax 3d dyn-25442/1-008.dcm', 'E:\\\\Internship Mass storage\\\\First 3 datasets\\\\Duke_breast_MRI dataset\\\\Duke-Breast-Cancer-MRI\\\\Breast_MRI_002\\\\01-01-1990-NA-MRI BREAST BILATERAL W  WO-51972\\\\600.000000-ax 3d dyn-25442/1-009.dcm', 'E:\\\\Internship Mass storage\\\\First 3 datasets\\\\Duke_breast_MRI dataset\\\\Duke-Breast-Cancer-MRI\\\\Breast_MRI_002\\\\01-01-1990-NA-MRI BREAST BILATERAL W  WO-51972\\\\600.000000-ax 3d dyn-25442/1-010.dcm', 'E:\\\\Internship Mass storage\\\\First 3 datasets\\\\Duke_breast_MRI dataset\\\\Duke-Breast-Cancer-MRI\\\\Breast_MRI_002\\\\01-01-1990-NA-MRI BREAST BILATERAL W  WO-51972\\\\600.000000-ax 3d dyn-25442/1-011.dcm', 'E:\\\\Internship Mass storage\\\\First 3 datasets\\\\Duke_breast_MRI dataset\\\\Duke-Breast-Cancer-MRI\\\\Breast_MRI_002\\\\01-01-1990-NA-MRI BREAST BILATERAL W  WO-51972\\\\600.000000-ax 3d dyn-25442/1-012.dcm', 'E:\\\\Internship Mass storage\\\\First 3 datasets\\\\Duke_breast_MRI dataset\\\\Duke-Breast-Cancer-MRI\\\\Breast_MRI_002\\\\01-01-1990-NA-MRI BREAST BILATERAL W  WO-51972\\\\600.000000-ax 3d dyn-25442/1-013.dcm', 'E:\\\\Internship Mass storage\\\\First 3 datasets\\\\Duke_breast_MRI dataset\\\\Duke-Breast-Cancer-MRI\\\\Breast_MRI_002\\\\01-01-1990-NA-MRI BREAST BILATERAL W  WO-51972\\\\600.000000-ax 3d dyn-25442/1-014.dcm', 'E:\\\\Internship Mass storage\\\\First 3 datasets\\\\Duke_breast_MRI dataset\\\\Duke-Breast-Cancer-MRI\\\\Breast_MRI_002\\\\01-01-1990-NA-MRI BREAST BILATERAL W  WO-51972\\\\600.000000-ax 3d dyn-25442/1-015.dcm', 'E:\\\\Internship Mass storage\\\\First 3 datasets\\\\Duke_breast_MRI dataset\\\\Duke-Breast-Cancer-MRI\\\\Breast_MRI_002\\\\01-01-1990-NA-MRI BREAST BILATERAL W  WO-51972\\\\600.000000-ax 3d dyn-25442/1-016.dcm', 'E:\\\\Internship Mass storage\\\\First 3 datasets\\\\Duke_breast_MRI dataset\\\\Duke-Breast-Cancer-MRI\\\\Breast_MRI_002\\\\01-01-1990-NA-MRI BREAST BILATERAL W  WO-51972\\\\600.000000-ax 3d dyn-25442/1-017.dcm', 'E:\\\\Internship Mass storage\\\\First 3 datasets\\\\Duke_breast_MRI dataset\\\\Duke-Breast-Cancer-MRI\\\\Breast_MRI_002\\\\01-01-1990-NA-MRI BREAST BILATERAL W  WO-51972\\\\600.000000-ax 3d dyn-25442/1-018.dcm', 'E:\\\\Internship Mass storage\\\\First 3 datasets\\\\Duke_breast_MRI dataset\\\\Duke-Breast-Cancer-MRI\\\\Breast_MRI_002\\\\01-01-1990-NA-MRI BREAST BILATERAL W  WO-51972\\\\600.000000-ax 3d dyn-25442/1-019.dcm', 'E:\\\\Internship Mass storage\\\\First 3 datasets\\\\Duke_breast_MRI dataset\\\\Duke-Breast-Cancer-MRI\\\\Breast_MRI_002\\\\01-01-1990-NA-MRI BREAST BILATERAL W  WO-51972\\\\600.000000-ax 3d dyn-25442/1-020.dcm', 'E:\\\\Internship Mass storage\\\\First 3 datasets\\\\Duke_breast_MRI dataset\\\\Duke-Breast-Cancer-MRI\\\\Breast_MRI_002\\\\01-01-1990-NA-MRI BREAST BILATERAL W  WO-51972\\\\600.000000-ax 3d dyn-25442/1-021.dcm', 'E:\\\\Internship Mass storage\\\\First 3 datasets\\\\Duke_breast_MRI dataset\\\\Duke-Breast-Cancer-MRI\\\\Breast_MRI_002\\\\01-01-1990-NA-MRI BREAST BILATERAL W  WO-51972\\\\600.000000-ax 3d dyn-25442/1-022.dcm', 'E:\\\\Internship Mass storage\\\\First 3 datasets\\\\Duke_breast_MRI dataset\\\\Duke-Breast-Cancer-MRI\\\\Breast_MRI_002\\\\01-01-1990-NA-MRI BREAST BILATERAL W  WO-51972\\\\600.000000-ax 3d dyn-25442/1-023.dcm', 'E:\\\\Internship Mass storage\\\\First 3 datasets\\\\Duke_breast_MRI dataset\\\\Duke-Breast-Cancer-MRI\\\\Breast_MRI_002\\\\01-01-1990-NA-MRI BREAST BILATERAL W  WO-51972\\\\600.000000-ax 3d dyn-25442/1-024.dcm', 'E:\\\\Internship Mass storage\\\\First 3 datasets\\\\Duke_breast_MRI dataset\\\\Duke-Breast-Cancer-MRI\\\\Breast_MRI_002\\\\01-01-1990-NA-MRI BREAST BILATERAL W  WO-51972\\\\600.000000-ax 3d dyn-25442/1-025.dcm', 'E:\\\\Internship Mass storage\\\\First 3 datasets\\\\Duke_breast_MRI dataset\\\\Duke-Breast-Cancer-MRI\\\\Breast_MRI_002\\\\01-01-1990-NA-MRI BREAST BILATERAL W  WO-51972\\\\600.000000-ax 3d dyn-25442/1-026.dcm', 'E:\\\\Internship Mass storage\\\\First 3 datasets\\\\Duke_breast_MRI dataset\\\\Duke-Breast-Cancer-MRI\\\\Breast_MRI_002\\\\01-01-1990-NA-MRI BREAST BILATERAL W  WO-51972\\\\600.000000-ax 3d dyn-25442/1-027.dcm', 'E:\\\\Internship Mass storage\\\\First 3 datasets\\\\Duke_breast_MRI dataset\\\\Duke-Breast-Cancer-MRI\\\\Breast_MRI_002\\\\01-01-1990-NA-MRI BREAST BILATERAL W  WO-51972\\\\600.000000-ax 3d dyn-25442/1-028.dcm', 'E:\\\\Internship Mass storage\\\\First 3 datasets\\\\Duke_breast_MRI dataset\\\\Duke-Breast-Cancer-MRI\\\\Breast_MRI_002\\\\01-01-1990-NA-MRI BREAST BILATERAL W  WO-51972\\\\600.000000-ax 3d dyn-25442/1-029.dcm', 'E:\\\\Internship Mass storage\\\\First 3 datasets\\\\Duke_breast_MRI dataset\\\\Duke-Breast-Cancer-MRI\\\\Breast_MRI_002\\\\01-01-1990-NA-MRI BREAST BILATERAL W  WO-51972\\\\600.000000-ax 3d dyn-25442/1-030.dcm', 'E:\\\\Internship Mass storage\\\\First 3 datasets\\\\Duke_breast_MRI dataset\\\\Duke-Breast-Cancer-MRI\\\\Breast_MRI_002\\\\01-01-1990-NA-MRI BREAST BILATERAL W  WO-51972\\\\600.000000-ax 3d dyn-25442/1-031.dcm', 'E:\\\\Internship Mass storage\\\\First 3 datasets\\\\Duke_breast_MRI dataset\\\\Duke-Breast-Cancer-MRI\\\\Breast_MRI_002\\\\01-01-1990-NA-MRI BREAST BILATERAL W  WO-51972\\\\600.000000-ax 3d dyn-25442/1-032.dcm', 'E:\\\\Internship Mass storage\\\\First 3 datasets\\\\Duke_breast_MRI dataset\\\\Duke-Breast-Cancer-MRI\\\\Breast_MRI_002\\\\01-01-1990-NA-MRI BREAST BILATERAL W  WO-51972\\\\600.000000-ax 3d dyn-25442/1-033.dcm', 'E:\\\\Internship Mass storage\\\\First 3 datasets\\\\Duke_breast_MRI dataset\\\\Duke-Breast-Cancer-MRI\\\\Breast_MRI_002\\\\01-01-1990-NA-MRI BREAST BILATERAL W  WO-51972\\\\600.000000-ax 3d dyn-25442/1-034.dcm', 'E:\\\\Internship Mass storage\\\\First 3 datasets\\\\Duke_breast_MRI dataset\\\\Duke-Breast-Cancer-MRI\\\\Breast_MRI_002\\\\01-01-1990-NA-MRI BREAST BILATERAL W  WO-51972\\\\600.000000-ax 3d dyn-25442/1-035.dcm', 'E:\\\\Internship Mass storage\\\\First 3 datasets\\\\Duke_breast_MRI dataset\\\\Duke-Breast-Cancer-MRI\\\\Breast_MRI_002\\\\01-01-1990-NA-MRI BREAST BILATERAL W  WO-51972\\\\600.000000-ax 3d dyn-25442/1-036.dcm', 'E:\\\\Internship Mass storage\\\\First 3 datasets\\\\Duke_breast_MRI dataset\\\\Duke-Breast-Cancer-MRI\\\\Breast_MRI_002\\\\01-01-1990-NA-MRI BREAST BILATERAL W  WO-51972\\\\600.000000-ax 3d dyn-25442/1-037.dcm', 'E:\\\\Internship Mass storage\\\\First 3 datasets\\\\Duke_breast_MRI dataset\\\\Duke-Breast-Cancer-MRI\\\\Breast_MRI_002\\\\01-01-1990-NA-MRI BREAST BILATERAL W  WO-51972\\\\600.000000-ax 3d dyn-25442/1-038.dcm', 'E:\\\\Internship Mass storage\\\\First 3 datasets\\\\Duke_breast_MRI dataset\\\\Duke-Breast-Cancer-MRI\\\\Breast_MRI_002\\\\01-01-1990-NA-MRI BREAST BILATERAL W  WO-51972\\\\600.000000-ax 3d dyn-25442/1-039.dcm', 'E:\\\\Internship Mass storage\\\\First 3 datasets\\\\Duke_breast_MRI dataset\\\\Duke-Breast-Cancer-MRI\\\\Breast_MRI_002\\\\01-01-1990-NA-MRI BREAST BILATERAL W  WO-51972\\\\600.000000-ax 3d dyn-25442/1-040.dcm', 'E:\\\\Internship Mass storage\\\\First 3 datasets\\\\Duke_breast_MRI dataset\\\\Duke-Breast-Cancer-MRI\\\\Breast_MRI_002\\\\01-01-1990-NA-MRI BREAST BILATERAL W  WO-51972\\\\600.000000-ax 3d dyn-25442/1-041.dcm', 'E:\\\\Internship Mass storage\\\\First 3 datasets\\\\Duke_breast_MRI dataset\\\\Duke-Breast-Cancer-MRI\\\\Breast_MRI_002\\\\01-01-1990-NA-MRI BREAST BILATERAL W  WO-51972\\\\600.000000-ax 3d dyn-25442/1-042.dcm', 'E:\\\\Internship Mass storage\\\\First 3 datasets\\\\Duke_breast_MRI dataset\\\\Duke-Breast-Cancer-MRI\\\\Breast_MRI_002\\\\01-01-1990-NA-MRI BREAST BILATERAL W  WO-51972\\\\600.000000-ax 3d dyn-25442/1-043.dcm', 'E:\\\\Internship Mass storage\\\\First 3 datasets\\\\Duke_breast_MRI dataset\\\\Duke-Breast-Cancer-MRI\\\\Breast_MRI_002\\\\01-01-1990-NA-MRI BREAST BILATERAL W  WO-51972\\\\600.000000-ax 3d dyn-25442/1-044.dcm', 'E:\\\\Internship Mass storage\\\\First 3 datasets\\\\Duke_breast_MRI dataset\\\\Duke-Breast-Cancer-MRI\\\\Breast_MRI_002\\\\01-01-1990-NA-MRI BREAST BILATERAL W  WO-51972\\\\600.000000-ax 3d dyn-25442/1-045.dcm', 'E:\\\\Internship Mass storage\\\\First 3 datasets\\\\Duke_breast_MRI dataset\\\\Duke-Breast-Cancer-MRI\\\\Breast_MRI_002\\\\01-01-1990-NA-MRI BREAST BILATERAL W  WO-51972\\\\600.000000-ax 3d dyn-25442/1-046.dcm', 'E:\\\\Internship Mass storage\\\\First 3 datasets\\\\Duke_breast_MRI dataset\\\\Duke-Breast-Cancer-MRI\\\\Breast_MRI_002\\\\01-01-1990-NA-MRI BREAST BILATERAL W  WO-51972\\\\600.000000-ax 3d dyn-25442/1-047.dcm', 'E:\\\\Internship Mass storage\\\\First 3 datasets\\\\Duke_breast_MRI dataset\\\\Duke-Breast-Cancer-MRI\\\\Breast_MRI_002\\\\01-01-1990-NA-MRI BREAST BILATERAL W  WO-51972\\\\600.000000-ax 3d dyn-25442/1-048.dcm', 'E:\\\\Internship Mass storage\\\\First 3 datasets\\\\Duke_breast_MRI dataset\\\\Duke-Breast-Cancer-MRI\\\\Breast_MRI_002\\\\01-01-1990-NA-MRI BREAST BILATERAL W  WO-51972\\\\600.000000-ax 3d dyn-25442/1-049.dcm', 'E:\\\\Internship Mass storage\\\\First 3 datasets\\\\Duke_breast_MRI dataset\\\\Duke-Breast-Cancer-MRI\\\\Breast_MRI_002\\\\01-01-1990-NA-MRI BREAST BILATERAL W  WO-51972\\\\600.000000-ax 3d dyn-25442/1-050.dcm', 'E:\\\\Internship Mass storage\\\\First 3 datasets\\\\Duke_breast_MRI dataset\\\\Duke-Breast-Cancer-MRI\\\\Breast_MRI_002\\\\01-01-1990-NA-MRI BREAST BILATERAL W  WO-51972\\\\600.000000-ax 3d dyn-25442/1-051.dcm', 'E:\\\\Internship Mass storage\\\\First 3 datasets\\\\Duke_breast_MRI dataset\\\\Duke-Breast-Cancer-MRI\\\\Breast_MRI_002\\\\01-01-1990-NA-MRI BREAST BILATERAL W  WO-51972\\\\600.000000-ax 3d dyn-25442/1-052.dcm', 'E:\\\\Internship Mass storage\\\\First 3 datasets\\\\Duke_breast_MRI dataset\\\\Duke-Breast-Cancer-MRI\\\\Breast_MRI_002\\\\01-01-1990-NA-MRI BREAST BILATERAL W  WO-51972\\\\600.000000-ax 3d dyn-25442/1-053.dcm', 'E:\\\\Internship Mass storage\\\\First 3 datasets\\\\Duke_breast_MRI dataset\\\\Duke-Breast-Cancer-MRI\\\\Breast_MRI_002\\\\01-01-1990-NA-MRI BREAST BILATERAL W  WO-51972\\\\600.000000-ax 3d dyn-25442/1-054.dcm', 'E:\\\\Internship Mass storage\\\\First 3 datasets\\\\Duke_breast_MRI dataset\\\\Duke-Breast-Cancer-MRI\\\\Breast_MRI_002\\\\01-01-1990-NA-MRI BREAST BILATERAL W  WO-51972\\\\600.000000-ax 3d dyn-25442/1-055.dcm', 'E:\\\\Internship Mass storage\\\\First 3 datasets\\\\Duke_breast_MRI dataset\\\\Duke-Breast-Cancer-MRI\\\\Breast_MRI_002\\\\01-01-1990-NA-MRI BREAST BILATERAL W  WO-51972\\\\600.000000-ax 3d dyn-25442/1-056.dcm', 'E:\\\\Internship Mass storage\\\\First 3 datasets\\\\Duke_breast_MRI dataset\\\\Duke-Breast-Cancer-MRI\\\\Breast_MRI_002\\\\01-01-1990-NA-MRI BREAST BILATERAL W  WO-51972\\\\600.000000-ax 3d dyn-25442/1-057.dcm', 'E:\\\\Internship Mass storage\\\\First 3 datasets\\\\Duke_breast_MRI dataset\\\\Duke-Breast-Cancer-MRI\\\\Breast_MRI_002\\\\01-01-1990-NA-MRI BREAST BILATERAL W  WO-51972\\\\600.000000-ax 3d dyn-25442/1-058.dcm', 'E:\\\\Internship Mass storage\\\\First 3 datasets\\\\Duke_breast_MRI dataset\\\\Duke-Breast-Cancer-MRI\\\\Breast_MRI_002\\\\01-01-1990-NA-MRI BREAST BILATERAL W  WO-51972\\\\600.000000-ax 3d dyn-25442/1-059.dcm', 'E:\\\\Internship Mass storage\\\\First 3 datasets\\\\Duke_breast_MRI dataset\\\\Duke-Breast-Cancer-MRI\\\\Breast_MRI_002\\\\01-01-1990-NA-MRI BREAST BILATERAL W  WO-51972\\\\600.000000-ax 3d dyn-25442/1-060.dcm', 'E:\\\\Internship Mass storage\\\\First 3 datasets\\\\Duke_breast_MRI dataset\\\\Duke-Breast-Cancer-MRI\\\\Breast_MRI_002\\\\01-01-1990-NA-MRI BREAST BILATERAL W  WO-51972\\\\600.000000-ax 3d dyn-25442/1-061.dcm', 'E:\\\\Internship Mass storage\\\\First 3 datasets\\\\Duke_breast_MRI dataset\\\\Duke-Breast-Cancer-MRI\\\\Breast_MRI_002\\\\01-01-1990-NA-MRI BREAST BILATERAL W  WO-51972\\\\600.000000-ax 3d dyn-25442/1-062.dcm', 'E:\\\\Internship Mass storage\\\\First 3 datasets\\\\Duke_breast_MRI dataset\\\\Duke-Breast-Cancer-MRI\\\\Breast_MRI_002\\\\01-01-1990-NA-MRI BREAST BILATERAL W  WO-51972\\\\600.000000-ax 3d dyn-25442/1-063.dcm', 'E:\\\\Internship Mass storage\\\\First 3 datasets\\\\Duke_breast_MRI dataset\\\\Duke-Breast-Cancer-MRI\\\\Breast_MRI_002\\\\01-01-1990-NA-MRI BREAST BILATERAL W  WO-51972\\\\600.000000-ax 3d dyn-25442/1-064.dcm', 'E:\\\\Internship Mass storage\\\\First 3 datasets\\\\Duke_breast_MRI dataset\\\\Duke-Breast-Cancer-MRI\\\\Breast_MRI_002\\\\01-01-1990-NA-MRI BREAST BILATERAL W  WO-51972\\\\600.000000-ax 3d dyn-25442/1-065.dcm', 'E:\\\\Internship Mass storage\\\\First 3 datasets\\\\Duke_breast_MRI dataset\\\\Duke-Breast-Cancer-MRI\\\\Breast_MRI_002\\\\01-01-1990-NA-MRI BREAST BILATERAL W  WO-51972\\\\600.000000-ax 3d dyn-25442/1-066.dcm', 'E:\\\\Internship Mass storage\\\\First 3 datasets\\\\Duke_breast_MRI dataset\\\\Duke-Breast-Cancer-MRI\\\\Breast_MRI_002\\\\01-01-1990-NA-MRI BREAST BILATERAL W  WO-51972\\\\600.000000-ax 3d dyn-25442/1-067.dcm', 'E:\\\\Internship Mass storage\\\\First 3 datasets\\\\Duke_breast_MRI dataset\\\\Duke-Breast-Cancer-MRI\\\\Breast_MRI_002\\\\01-01-1990-NA-MRI BREAST BILATERAL W  WO-51972\\\\600.000000-ax 3d dyn-25442/1-068.dcm', 'E:\\\\Internship Mass storage\\\\First 3 datasets\\\\Duke_breast_MRI dataset\\\\Duke-Breast-Cancer-MRI\\\\Breast_MRI_002\\\\01-01-1990-NA-MRI BREAST BILATERAL W  WO-51972\\\\600.000000-ax 3d dyn-25442/1-069.dcm', 'E:\\\\Internship Mass storage\\\\First 3 datasets\\\\Duke_breast_MRI dataset\\\\Duke-Breast-Cancer-MRI\\\\Breast_MRI_002\\\\01-01-1990-NA-MRI BREAST BILATERAL W  WO-51972\\\\600.000000-ax 3d dyn-25442/1-070.dcm', 'E:\\\\Internship Mass storage\\\\First 3 datasets\\\\Duke_breast_MRI dataset\\\\Duke-Breast-Cancer-MRI\\\\Breast_MRI_002\\\\01-01-1990-NA-MRI BREAST BILATERAL W  WO-51972\\\\600.000000-ax 3d dyn-25442/1-071.dcm', 'E:\\\\Internship Mass storage\\\\First 3 datasets\\\\Duke_breast_MRI dataset\\\\Duke-Breast-Cancer-MRI\\\\Breast_MRI_002\\\\01-01-1990-NA-MRI BREAST BILATERAL W  WO-51972\\\\600.000000-ax 3d dyn-25442/1-072.dcm', 'E:\\\\Internship Mass storage\\\\First 3 datasets\\\\Duke_breast_MRI dataset\\\\Duke-Breast-Cancer-MRI\\\\Breast_MRI_002\\\\01-01-1990-NA-MRI BREAST BILATERAL W  WO-51972\\\\600.000000-ax 3d dyn-25442/1-073.dcm', 'E:\\\\Internship Mass storage\\\\First 3 datasets\\\\Duke_breast_MRI dataset\\\\Duke-Breast-Cancer-MRI\\\\Breast_MRI_002\\\\01-01-1990-NA-MRI BREAST BILATERAL W  WO-51972\\\\600.000000-ax 3d dyn-25442/1-074.dcm', 'E:\\\\Internship Mass storage\\\\First 3 datasets\\\\Duke_breast_MRI dataset\\\\Duke-Breast-Cancer-MRI\\\\Breast_MRI_002\\\\01-01-1990-NA-MRI BREAST BILATERAL W  WO-51972\\\\600.000000-ax 3d dyn-25442/1-075.dcm', 'E:\\\\Internship Mass storage\\\\First 3 datasets\\\\Duke_breast_MRI dataset\\\\Duke-Breast-Cancer-MRI\\\\Breast_MRI_002\\\\01-01-1990-NA-MRI BREAST BILATERAL W  WO-51972\\\\600.000000-ax 3d dyn-25442/1-076.dcm', 'E:\\\\Internship Mass storage\\\\First 3 datasets\\\\Duke_breast_MRI dataset\\\\Duke-Breast-Cancer-MRI\\\\Breast_MRI_002\\\\01-01-1990-NA-MRI BREAST BILATERAL W  WO-51972\\\\600.000000-ax 3d dyn-25442/1-077.dcm', 'E:\\\\Internship Mass storage\\\\First 3 datasets\\\\Duke_breast_MRI dataset\\\\Duke-Breast-Cancer-MRI\\\\Breast_MRI_002\\\\01-01-1990-NA-MRI BREAST BILATERAL W  WO-51972\\\\600.000000-ax 3d dyn-25442/1-078.dcm', 'E:\\\\Internship Mass storage\\\\First 3 datasets\\\\Duke_breast_MRI dataset\\\\Duke-Breast-Cancer-MRI\\\\Breast_MRI_002\\\\01-01-1990-NA-MRI BREAST BILATERAL W  WO-51972\\\\600.000000-ax 3d dyn-25442/1-079.dcm', 'E:\\\\Internship Mass storage\\\\First 3 datasets\\\\Duke_breast_MRI dataset\\\\Duke-Breast-Cancer-MRI\\\\Breast_MRI_002\\\\01-01-1990-NA-MRI BREAST BILATERAL W  WO-51972\\\\600.000000-ax 3d dyn-25442/1-080.dcm', 'E:\\\\Internship Mass storage\\\\First 3 datasets\\\\Duke_breast_MRI dataset\\\\Duke-Breast-Cancer-MRI\\\\Breast_MRI_002\\\\01-01-1990-NA-MRI BREAST BILATERAL W  WO-51972\\\\600.000000-ax 3d dyn-25442/1-081.dcm', 'E:\\\\Internship Mass storage\\\\First 3 datasets\\\\Duke_breast_MRI dataset\\\\Duke-Breast-Cancer-MRI\\\\Breast_MRI_002\\\\01-01-1990-NA-MRI BREAST BILATERAL W  WO-51972\\\\600.000000-ax 3d dyn-25442/1-082.dcm', 'E:\\\\Internship Mass storage\\\\First 3 datasets\\\\Duke_breast_MRI dataset\\\\Duke-Breast-Cancer-MRI\\\\Breast_MRI_002\\\\01-01-1990-NA-MRI BREAST BILATERAL W  WO-51972\\\\600.000000-ax 3d dyn-25442/1-083.dcm', 'E:\\\\Internship Mass storage\\\\First 3 datasets\\\\Duke_breast_MRI dataset\\\\Duke-Breast-Cancer-MRI\\\\Breast_MRI_002\\\\01-01-1990-NA-MRI BREAST BILATERAL W  WO-51972\\\\600.000000-ax 3d dyn-25442/1-084.dcm', 'E:\\\\Internship Mass storage\\\\First 3 datasets\\\\Duke_breast_MRI dataset\\\\Duke-Breast-Cancer-MRI\\\\Breast_MRI_002\\\\01-01-1990-NA-MRI BREAST BILATERAL W  WO-51972\\\\600.000000-ax 3d dyn-25442/1-085.dcm', 'E:\\\\Internship Mass storage\\\\First 3 datasets\\\\Duke_breast_MRI dataset\\\\Duke-Breast-Cancer-MRI\\\\Breast_MRI_002\\\\01-01-1990-NA-MRI BREAST BILATERAL W  WO-51972\\\\600.000000-ax 3d dyn-25442/1-086.dcm', 'E:\\\\Internship Mass storage\\\\First 3 datasets\\\\Duke_breast_MRI dataset\\\\Duke-Breast-Cancer-MRI\\\\Breast_MRI_002\\\\01-01-1990-NA-MRI BREAST BILATERAL W  WO-51972\\\\600.000000-ax 3d dyn-25442/1-087.dcm', 'E:\\\\Internship Mass storage\\\\First 3 datasets\\\\Duke_breast_MRI dataset\\\\Duke-Breast-Cancer-MRI\\\\Breast_MRI_002\\\\01-01-1990-NA-MRI BREAST BILATERAL W  WO-51972\\\\600.000000-ax 3d dyn-25442/1-088.dcm', 'E:\\\\Internship Mass storage\\\\First 3 datasets\\\\Duke_breast_MRI dataset\\\\Duke-Breast-Cancer-MRI\\\\Breast_MRI_002\\\\01-01-1990-NA-MRI BREAST BILATERAL W  WO-51972\\\\600.000000-ax 3d dyn-25442/1-089.dcm', 'E:\\\\Internship Mass storage\\\\First 3 datasets\\\\Duke_breast_MRI dataset\\\\Duke-Breast-Cancer-MRI\\\\Breast_MRI_002\\\\01-01-1990-NA-MRI BREAST BILATERAL W  WO-51972\\\\600.000000-ax 3d dyn-25442/1-090.dcm', 'E:\\\\Internship Mass storage\\\\First 3 datasets\\\\Duke_breast_MRI dataset\\\\Duke-Breast-Cancer-MRI\\\\Breast_MRI_002\\\\01-01-1990-NA-MRI BREAST BILATERAL W  WO-51972\\\\600.000000-ax 3d dyn-25442/1-091.dcm', 'E:\\\\Internship Mass storage\\\\First 3 datasets\\\\Duke_breast_MRI dataset\\\\Duke-Breast-Cancer-MRI\\\\Breast_MRI_002\\\\01-01-1990-NA-MRI BREAST BILATERAL W  WO-51972\\\\600.000000-ax 3d dyn-25442/1-092.dcm', 'E:\\\\Internship Mass storage\\\\First 3 datasets\\\\Duke_breast_MRI dataset\\\\Duke-Breast-Cancer-MRI\\\\Breast_MRI_002\\\\01-01-1990-NA-MRI BREAST BILATERAL W  WO-51972\\\\600.000000-ax 3d dyn-25442/1-093.dcm', 'E:\\\\Internship Mass storage\\\\First 3 datasets\\\\Duke_breast_MRI dataset\\\\Duke-Breast-Cancer-MRI\\\\Breast_MRI_002\\\\01-01-1990-NA-MRI BREAST BILATERAL W  WO-51972\\\\600.000000-ax 3d dyn-25442/1-094.dcm', 'E:\\\\Internship Mass storage\\\\First 3 datasets\\\\Duke_breast_MRI dataset\\\\Duke-Breast-Cancer-MRI\\\\Breast_MRI_002\\\\01-01-1990-NA-MRI BREAST BILATERAL W  WO-51972\\\\600.000000-ax 3d dyn-25442/1-095.dcm', 'E:\\\\Internship Mass storage\\\\First 3 datasets\\\\Duke_breast_MRI dataset\\\\Duke-Breast-Cancer-MRI\\\\Breast_MRI_002\\\\01-01-1990-NA-MRI BREAST BILATERAL W  WO-51972\\\\600.000000-ax 3d dyn-25442/1-096.dcm', 'E:\\\\Internship Mass storage\\\\First 3 datasets\\\\Duke_breast_MRI dataset\\\\Duke-Breast-Cancer-MRI\\\\Breast_MRI_002\\\\01-01-1990-NA-MRI BREAST BILATERAL W  WO-51972\\\\600.000000-ax 3d dyn-25442/1-097.dcm', 'E:\\\\Internship Mass storage\\\\First 3 datasets\\\\Duke_breast_MRI dataset\\\\Duke-Breast-Cancer-MRI\\\\Breast_MRI_002\\\\01-01-1990-NA-MRI BREAST BILATERAL W  WO-51972\\\\600.000000-ax 3d dyn-25442/1-098.dcm', 'E:\\\\Internship Mass storage\\\\First 3 datasets\\\\Duke_breast_MRI dataset\\\\Duke-Breast-Cancer-MRI\\\\Breast_MRI_002\\\\01-01-1990-NA-MRI BREAST BILATERAL W  WO-51972\\\\600.000000-ax 3d dyn-25442/1-099.dcm', 'E:\\\\Internship Mass storage\\\\First 3 datasets\\\\Duke_breast_MRI dataset\\\\Duke-Breast-Cancer-MRI\\\\Breast_MRI_002\\\\01-01-1990-NA-MRI BREAST BILATERAL W  WO-51972\\\\600.000000-ax 3d dyn-25442/1-100.dcm', 'E:\\\\Internship Mass storage\\\\First 3 datasets\\\\Duke_breast_MRI dataset\\\\Duke-Breast-Cancer-MRI\\\\Breast_MRI_002\\\\01-01-1990-NA-MRI BREAST BILATERAL W  WO-51972\\\\600.000000-ax 3d dyn-25442/1-101.dcm', 'E:\\\\Internship Mass storage\\\\First 3 datasets\\\\Duke_breast_MRI dataset\\\\Duke-Breast-Cancer-MRI\\\\Breast_MRI_002\\\\01-01-1990-NA-MRI BREAST BILATERAL W  WO-51972\\\\600.000000-ax 3d dyn-25442/1-102.dcm', 'E:\\\\Internship Mass storage\\\\First 3 datasets\\\\Duke_breast_MRI dataset\\\\Duke-Breast-Cancer-MRI\\\\Breast_MRI_002\\\\01-01-1990-NA-MRI BREAST BILATERAL W  WO-51972\\\\600.000000-ax 3d dyn-25442/1-103.dcm', 'E:\\\\Internship Mass storage\\\\First 3 datasets\\\\Duke_breast_MRI dataset\\\\Duke-Breast-Cancer-MRI\\\\Breast_MRI_002\\\\01-01-1990-NA-MRI BREAST BILATERAL W  WO-51972\\\\600.000000-ax 3d dyn-25442/1-104.dcm', 'E:\\\\Internship Mass storage\\\\First 3 datasets\\\\Duke_breast_MRI dataset\\\\Duke-Breast-Cancer-MRI\\\\Breast_MRI_002\\\\01-01-1990-NA-MRI BREAST BILATERAL W  WO-51972\\\\600.000000-ax 3d dyn-25442/1-105.dcm', 'E:\\\\Internship Mass storage\\\\First 3 datasets\\\\Duke_breast_MRI dataset\\\\Duke-Breast-Cancer-MRI\\\\Breast_MRI_002\\\\01-01-1990-NA-MRI BREAST BILATERAL W  WO-51972\\\\600.000000-ax 3d dyn-25442/1-106.dcm', 'E:\\\\Internship Mass storage\\\\First 3 datasets\\\\Duke_breast_MRI dataset\\\\Duke-Breast-Cancer-MRI\\\\Breast_MRI_002\\\\01-01-1990-NA-MRI BREAST BILATERAL W  WO-51972\\\\600.000000-ax 3d dyn-25442/1-107.dcm', 'E:\\\\Internship Mass storage\\\\First 3 datasets\\\\Duke_breast_MRI dataset\\\\Duke-Breast-Cancer-MRI\\\\Breast_MRI_002\\\\01-01-1990-NA-MRI BREAST BILATERAL W  WO-51972\\\\600.000000-ax 3d dyn-25442/1-108.dcm', 'E:\\\\Internship Mass storage\\\\First 3 datasets\\\\Duke_breast_MRI dataset\\\\Duke-Breast-Cancer-MRI\\\\Breast_MRI_002\\\\01-01-1990-NA-MRI BREAST BILATERAL W  WO-51972\\\\600.000000-ax 3d dyn-25442/1-109.dcm', 'E:\\\\Internship Mass storage\\\\First 3 datasets\\\\Duke_breast_MRI dataset\\\\Duke-Breast-Cancer-MRI\\\\Breast_MRI_002\\\\01-01-1990-NA-MRI BREAST BILATERAL W  WO-51972\\\\600.000000-ax 3d dyn-25442/1-110.dcm', 'E:\\\\Internship Mass storage\\\\First 3 datasets\\\\Duke_breast_MRI dataset\\\\Duke-Breast-Cancer-MRI\\\\Breast_MRI_002\\\\01-01-1990-NA-MRI BREAST BILATERAL W  WO-51972\\\\600.000000-ax 3d dyn-25442/1-111.dcm', 'E:\\\\Internship Mass storage\\\\First 3 datasets\\\\Duke_breast_MRI dataset\\\\Duke-Breast-Cancer-MRI\\\\Breast_MRI_002\\\\01-01-1990-NA-MRI BREAST BILATERAL W  WO-51972\\\\600.000000-ax 3d dyn-25442/1-112.dcm', 'E:\\\\Internship Mass storage\\\\First 3 datasets\\\\Duke_breast_MRI dataset\\\\Duke-Breast-Cancer-MRI\\\\Breast_MRI_002\\\\01-01-1990-NA-MRI BREAST BILATERAL W  WO-51972\\\\600.000000-ax 3d dyn-25442/1-113.dcm', 'E:\\\\Internship Mass storage\\\\First 3 datasets\\\\Duke_breast_MRI dataset\\\\Duke-Breast-Cancer-MRI\\\\Breast_MRI_002\\\\01-01-1990-NA-MRI BREAST BILATERAL W  WO-51972\\\\600.000000-ax 3d dyn-25442/1-114.dcm', 'E:\\\\Internship Mass storage\\\\First 3 datasets\\\\Duke_breast_MRI dataset\\\\Duke-Breast-Cancer-MRI\\\\Breast_MRI_002\\\\01-01-1990-NA-MRI BREAST BILATERAL W  WO-51972\\\\600.000000-ax 3d dyn-25442/1-115.dcm', 'E:\\\\Internship Mass storage\\\\First 3 datasets\\\\Duke_breast_MRI dataset\\\\Duke-Breast-Cancer-MRI\\\\Breast_MRI_002\\\\01-01-1990-NA-MRI BREAST BILATERAL W  WO-51972\\\\600.000000-ax 3d dyn-25442/1-116.dcm', 'E:\\\\Internship Mass storage\\\\First 3 datasets\\\\Duke_breast_MRI dataset\\\\Duke-Breast-Cancer-MRI\\\\Breast_MRI_002\\\\01-01-1990-NA-MRI BREAST BILATERAL W  WO-51972\\\\600.000000-ax 3d dyn-25442/1-117.dcm', 'E:\\\\Internship Mass storage\\\\First 3 datasets\\\\Duke_breast_MRI dataset\\\\Duke-Breast-Cancer-MRI\\\\Breast_MRI_002\\\\01-01-1990-NA-MRI BREAST BILATERAL W  WO-51972\\\\600.000000-ax 3d dyn-25442/1-118.dcm', 'E:\\\\Internship Mass storage\\\\First 3 datasets\\\\Duke_breast_MRI dataset\\\\Duke-Breast-Cancer-MRI\\\\Breast_MRI_002\\\\01-01-1990-NA-MRI BREAST BILATERAL W  WO-51972\\\\600.000000-ax 3d dyn-25442/1-119.dcm', 'E:\\\\Internship Mass storage\\\\First 3 datasets\\\\Duke_breast_MRI dataset\\\\Duke-Breast-Cancer-MRI\\\\Breast_MRI_002\\\\01-01-1990-NA-MRI BREAST BILATERAL W  WO-51972\\\\600.000000-ax 3d dyn-25442/1-120.dcm', 'E:\\\\Internship Mass storage\\\\First 3 datasets\\\\Duke_breast_MRI dataset\\\\Duke-Breast-Cancer-MRI\\\\Breast_MRI_002\\\\01-01-1990-NA-MRI BREAST BILATERAL W  WO-51972\\\\600.000000-ax 3d dyn-25442/1-121.dcm', 'E:\\\\Internship Mass storage\\\\First 3 datasets\\\\Duke_breast_MRI dataset\\\\Duke-Breast-Cancer-MRI\\\\Breast_MRI_002\\\\01-01-1990-NA-MRI BREAST BILATERAL W  WO-51972\\\\600.000000-ax 3d dyn-25442/1-122.dcm', 'E:\\\\Internship Mass storage\\\\First 3 datasets\\\\Duke_breast_MRI dataset\\\\Duke-Breast-Cancer-MRI\\\\Breast_MRI_002\\\\01-01-1990-NA-MRI BREAST BILATERAL W  WO-51972\\\\600.000000-ax 3d dyn-25442/1-123.dcm', 'E:\\\\Internship Mass storage\\\\First 3 datasets\\\\Duke_breast_MRI dataset\\\\Duke-Breast-Cancer-MRI\\\\Breast_MRI_002\\\\01-01-1990-NA-MRI BREAST BILATERAL W  WO-51972\\\\600.000000-ax 3d dyn-25442/1-124.dcm', 'E:\\\\Internship Mass storage\\\\First 3 datasets\\\\Duke_breast_MRI dataset\\\\Duke-Breast-Cancer-MRI\\\\Breast_MRI_002\\\\01-01-1990-NA-MRI BREAST BILATERAL W  WO-51972\\\\600.000000-ax 3d dyn-25442/1-125.dcm', 'E:\\\\Internship Mass storage\\\\First 3 datasets\\\\Duke_breast_MRI dataset\\\\Duke-Breast-Cancer-MRI\\\\Breast_MRI_002\\\\01-01-1990-NA-MRI BREAST BILATERAL W  WO-51972\\\\600.000000-ax 3d dyn-25442/1-126.dcm', 'E:\\\\Internship Mass storage\\\\First 3 datasets\\\\Duke_breast_MRI dataset\\\\Duke-Breast-Cancer-MRI\\\\Breast_MRI_002\\\\01-01-1990-NA-MRI BREAST BILATERAL W  WO-51972\\\\600.000000-ax 3d dyn-25442/1-127.dcm', 'E:\\\\Internship Mass storage\\\\First 3 datasets\\\\Duke_breast_MRI dataset\\\\Duke-Breast-Cancer-MRI\\\\Breast_MRI_002\\\\01-01-1990-NA-MRI BREAST BILATERAL W  WO-51972\\\\600.000000-ax 3d dyn-25442/1-128.dcm', 'E:\\\\Internship Mass storage\\\\First 3 datasets\\\\Duke_breast_MRI dataset\\\\Duke-Breast-Cancer-MRI\\\\Breast_MRI_002\\\\01-01-1990-NA-MRI BREAST BILATERAL W  WO-51972\\\\600.000000-ax 3d dyn-25442/1-129.dcm', 'E:\\\\Internship Mass storage\\\\First 3 datasets\\\\Duke_breast_MRI dataset\\\\Duke-Breast-Cancer-MRI\\\\Breast_MRI_002\\\\01-01-1990-NA-MRI BREAST BILATERAL W  WO-51972\\\\600.000000-ax 3d dyn-25442/1-130.dcm', 'E:\\\\Internship Mass storage\\\\First 3 datasets\\\\Duke_breast_MRI dataset\\\\Duke-Breast-Cancer-MRI\\\\Breast_MRI_002\\\\01-01-1990-NA-MRI BREAST BILATERAL W  WO-51972\\\\600.000000-ax 3d dyn-25442/1-131.dcm', 'E:\\\\Internship Mass storage\\\\First 3 datasets\\\\Duke_breast_MRI dataset\\\\Duke-Breast-Cancer-MRI\\\\Breast_MRI_002\\\\01-01-1990-NA-MRI BREAST BILATERAL W  WO-51972\\\\600.000000-ax 3d dyn-25442/1-132.dcm', 'E:\\\\Internship Mass storage\\\\First 3 datasets\\\\Duke_breast_MRI dataset\\\\Duke-Breast-Cancer-MRI\\\\Breast_MRI_002\\\\01-01-1990-NA-MRI BREAST BILATERAL W  WO-51972\\\\600.000000-ax 3d dyn-25442/1-133.dcm', 'E:\\\\Internship Mass storage\\\\First 3 datasets\\\\Duke_breast_MRI dataset\\\\Duke-Breast-Cancer-MRI\\\\Breast_MRI_002\\\\01-01-1990-NA-MRI BREAST BILATERAL W  WO-51972\\\\600.000000-ax 3d dyn-25442/1-134.dcm', 'E:\\\\Internship Mass storage\\\\First 3 datasets\\\\Duke_breast_MRI dataset\\\\Duke-Breast-Cancer-MRI\\\\Breast_MRI_002\\\\01-01-1990-NA-MRI BREAST BILATERAL W  WO-51972\\\\600.000000-ax 3d dyn-25442/1-135.dcm', 'E:\\\\Internship Mass storage\\\\First 3 datasets\\\\Duke_breast_MRI dataset\\\\Duke-Breast-Cancer-MRI\\\\Breast_MRI_002\\\\01-01-1990-NA-MRI BREAST BILATERAL W  WO-51972\\\\600.000000-ax 3d dyn-25442/1-136.dcm', 'E:\\\\Internship Mass storage\\\\First 3 datasets\\\\Duke_breast_MRI dataset\\\\Duke-Breast-Cancer-MRI\\\\Breast_MRI_002\\\\01-01-1990-NA-MRI BREAST BILATERAL W  WO-51972\\\\600.000000-ax 3d dyn-25442/1-137.dcm', 'E:\\\\Internship Mass storage\\\\First 3 datasets\\\\Duke_breast_MRI dataset\\\\Duke-Breast-Cancer-MRI\\\\Breast_MRI_002\\\\01-01-1990-NA-MRI BREAST BILATERAL W  WO-51972\\\\600.000000-ax 3d dyn-25442/1-138.dcm', 'E:\\\\Internship Mass storage\\\\First 3 datasets\\\\Duke_breast_MRI dataset\\\\Duke-Breast-Cancer-MRI\\\\Breast_MRI_002\\\\01-01-1990-NA-MRI BREAST BILATERAL W  WO-51972\\\\600.000000-ax 3d dyn-25442/1-139.dcm', 'E:\\\\Internship Mass storage\\\\First 3 datasets\\\\Duke_breast_MRI dataset\\\\Duke-Breast-Cancer-MRI\\\\Breast_MRI_002\\\\01-01-1990-NA-MRI BREAST BILATERAL W  WO-51972\\\\600.000000-ax 3d dyn-25442/1-140.dcm', 'E:\\\\Internship Mass storage\\\\First 3 datasets\\\\Duke_breast_MRI dataset\\\\Duke-Breast-Cancer-MRI\\\\Breast_MRI_002\\\\01-01-1990-NA-MRI BREAST BILATERAL W  WO-51972\\\\600.000000-ax 3d dyn-25442/1-141.dcm', 'E:\\\\Internship Mass storage\\\\First 3 datasets\\\\Duke_breast_MRI dataset\\\\Duke-Breast-Cancer-MRI\\\\Breast_MRI_002\\\\01-01-1990-NA-MRI BREAST BILATERAL W  WO-51972\\\\600.000000-ax 3d dyn-25442/1-142.dcm']\n"
     ]
    }
   ],
   "source": [
    "target_folder = r\"E:\\Internship Mass storage\\First 3 datasets\\Duke_breast_MRI dataset\\Duke-Breast-Cancer-MRI\\Breast_MRI_002\\01-01-1990-NA-MRI BREAST BILATERAL W  WO-51972\\600.000000-ax 3d dyn-25442\"\n",
    "mypath = target_folder\n",
    "onlyfiles = [f for f in listdir(mypath) if isfile(join(mypath, f))]\n",
    "filepaths = [target_folder + \"/\" + s for s in onlyfiles]\n",
    "print(filepaths)"
   ]
  },
  {
   "cell_type": "code",
   "execution_count": 3,
   "id": "e1b7c557",
   "metadata": {},
   "outputs": [],
   "source": [
    "from os import listdir\n",
    "from os.path import isfile, join\n",
    "mypath = target_folder\n",
    "onlyfiles = [f for f in listdir(mypath) if isfile(join(mypath, f))]\n",
    "testdict = {}\n",
    "sorteddict = {}\n",
    "for x in onlyfiles: # for loop to make a dictionary with all the filenames\n",
    "    tempfile = mypath + \"/\" + str(x)\n",
    "    testds = dcmread(tempfile)\n",
    "    position = testds.ImagePositionPatient[2]\n",
    "    testdict.update({tempfile: position})\n",
    "\n",
    "    #then put them in another dictionary ordered by z-coordinate by first retrieving the key and value for the highest value and then using a while loop to each time add the highest value to the sorted dictionary and then removing it from the first \n",
    "highestkey = max(testdict, key=testdict.get)\n",
    "highestvalue = testdict[highestkey]       \n",
    "while len(testdict) > 0:\n",
    "    highestkey = max(testdict, key=testdict.get)\n",
    "    highestvalue = testdict[highestkey]\n",
    "    sorteddict.update({highestkey: highestvalue})\n",
    "    testdict.pop(highestkey)\n",
    "\n",
    "filetitles = list(sorteddict.keys())\n"
   ]
  },
  {
   "cell_type": "code",
   "execution_count": 4,
   "id": "386dbbb9",
   "metadata": {},
   "outputs": [
    {
     "name": "stdout",
     "output_type": "stream",
     "text": [
      "(512, 512, 142)\n",
      "(0.5859, 0.5859, 1.3)\n"
     ]
    }
   ],
   "source": [
    "# got this code from: https://gist.github.com/somada141/8dd67a02e330a657cf9e\n",
    "RefDs = pydicom.read_file(filetitles[0])\n",
    "ConstPixelDims = (int(RefDs.Rows), int(RefDs.Columns), len(filetitles))\n",
    "print(ConstPixelDims)\n",
    "ConstPixelSpacing = (float(RefDs.PixelSpacing[0]), float(RefDs.PixelSpacing[1]), float(RefDs.SliceThickness))\n",
    "print(ConstPixelSpacing)"
   ]
  },
  {
   "cell_type": "code",
   "execution_count": 5,
   "id": "b518054a",
   "metadata": {},
   "outputs": [],
   "source": [
    "ArrayDicom = numpy.zeros(ConstPixelDims, dtype=RefDs.pixel_array.dtype)"
   ]
  },
  {
   "cell_type": "code",
   "execution_count": 6,
   "id": "e52a5d96",
   "metadata": {},
   "outputs": [],
   "source": [
    "for filenameDCM in filetitles: \n",
    "    # read the file\n",
    "    ds = pydicom.read_file(filenameDCM)\n",
    "    \n",
    "    # store the raw image data\n",
    "    ArrayDicom[:, :, filetitles.index(filenameDCM)] = ds.pixel_array\n",
    "\n",
    "#print(ds.pixel_array)"
   ]
  },
  {
   "cell_type": "code",
   "execution_count": 7,
   "id": "ebef8b24",
   "metadata": {},
   "outputs": [],
   "source": [
    "#def show_image(slice):\n",
    "  #  plt.imshow(ds.pixel_array[:, :, slice], cmap=plt.cm.bone)\n",
    "    \n",
    "#n = len(sorteddict)\n",
    "#def imageselector(x):\n",
    " #   plt.figure(figsize=(20,10))\n",
    " #   plt.title(\"Image file: \" + filetitles[x])\n",
    " #   show_image(x)\n",
    " #   plt.axis('off')\n",
    "#interact(imageselector, x = (0, n-1)) # non-functional for now, I am now using the next one, can look more into this if I need to"
   ]
  },
  {
   "cell_type": "code",
   "execution_count": 8,
   "id": "445f0f24",
   "metadata": {},
   "outputs": [
    {
     "data": {
      "application/vnd.jupyter.widget-view+json": {
       "model_id": "236a7c46858e4b0a8490dcd44c2b3fdc",
       "version_major": 2,
       "version_minor": 0
      },
      "text/plain": [
       "interactive(children=(IntSlider(value=70, description='s', max=141), Output()), _dom_classes=('widget-interact…"
      ]
     },
     "metadata": {},
     "output_type": "display_data"
    },
    {
     "data": {
      "text/plain": [
       "<function __main__.imageselector(s)>"
      ]
     },
     "execution_count": 8,
     "metadata": {},
     "output_type": "execute_result"
    }
   ],
   "source": [
    "x = numpy.arange(0.0, (ConstPixelDims[0]))\n",
    "y = numpy.arange(0.0, (ConstPixelDims[1]))\n",
    "z = numpy.arange(0.0, (ConstPixelDims[2]))\n",
    "n = len(sorteddict)\n",
    "def imageselector(s):\n",
    "    pyplot.figure(dpi=300)\n",
    "    pyplot.axes().set_aspect('equal', 'datalim')\n",
    "    pyplot.set_cmap(pyplot.gray())\n",
    "    pyplot.pcolormesh(x, y, numpy.flipud(ArrayDicom[:, :, s]))\n",
    "    print(\"Image file: \" + filetitles[s]) #keeping this as plt.title makes the switching smoother however makes the image smaller because the titel is so big\n",
    "interact(imageselector, s = (0, n-1))\n"
   ]
  },
  {
   "cell_type": "code",
   "execution_count": 9,
   "id": "f5b72548",
   "metadata": {},
   "outputs": [
    {
     "name": "stdout",
     "output_type": "stream",
     "text": [
      "         Patient ID  Start Row  End Row  Start Column  End Column  \\\n",
      "0    Breast_MRI_001        234      271           308         341   \n",
      "1    Breast_MRI_002        251      294           108         136   \n",
      "2    Breast_MRI_003        351      412            82         139   \n",
      "3    Breast_MRI_004        262      280           193         204   \n",
      "4    Breast_MRI_005        188      213           138         178   \n",
      "..              ...        ...      ...           ...         ...   \n",
      "917  Breast_MRI_918        345      395           338         395   \n",
      "918  Breast_MRI_919        285      312           369         397   \n",
      "919  Breast_MRI_920        172      193           337         355   \n",
      "920  Breast_MRI_921        328      374           404         446   \n",
      "921  Breast_MRI_922        258      270           149         164   \n",
      "\n",
      "     Start Slice  End Slice  \n",
      "0             89        112  \n",
      "1             59         72  \n",
      "2             96        108  \n",
      "3             86         95  \n",
      "4             76        122  \n",
      "..           ...        ...  \n",
      "917           62         85  \n",
      "918           98        109  \n",
      "919           87        101  \n",
      "920           97        121  \n",
      "921           82         92  \n",
      "\n",
      "[922 rows x 7 columns]\n"
     ]
    }
   ],
   "source": [
    "df = pd.read_excel (r'E:\\Internship Mass storage\\First 3 datasets\\Duke_breast_MRI dataset\\Annotation_Boxes.xlsx')\n",
    "print (df)"
   ]
  },
  {
   "cell_type": "code",
   "execution_count": 10,
   "id": "03cd849b",
   "metadata": {},
   "outputs": [
    {
     "data": {
      "text/plain": [
       "array(['Breast_MRI_002', 251, 294, 108, 136, 59, 72], dtype=object)"
      ]
     },
     "execution_count": 10,
     "metadata": {},
     "output_type": "execute_result"
    }
   ],
   "source": [
    "test = df.iloc[1]\n",
    "maskstats = pd.Series(test).values\n",
    "pd.Series(test).values"
   ]
  },
  {
   "cell_type": "code",
   "execution_count": 11,
   "id": "67f0fd38",
   "metadata": {},
   "outputs": [],
   "source": [
    "ArrayMask = numpy.zeros(ConstPixelDims, dtype=RefDs.pixel_array.dtype)\n",
    "\n",
    "for x in range (maskstats[1],maskstats[2]):\n",
    "    for y in range (maskstats[3],maskstats[4]):\n",
    "        for z in range (maskstats[5],maskstats[6]+1):\n",
    "            ArrayMask[x,y,z] = 1\n"
   ]
  },
  {
   "cell_type": "code",
   "execution_count": 12,
   "id": "530dd1dc",
   "metadata": {},
   "outputs": [
    {
     "data": {
      "application/vnd.jupyter.widget-view+json": {
       "model_id": "6d7f2379950641c4be382093af1dedeb",
       "version_major": 2,
       "version_minor": 0
      },
      "text/plain": [
       "interactive(children=(IntSlider(value=70, description='s', max=141), Output()), _dom_classes=('widget-interact…"
      ]
     },
     "metadata": {},
     "output_type": "display_data"
    },
    {
     "data": {
      "text/plain": [
       "<function __main__.imageselector(s)>"
      ]
     },
     "execution_count": 12,
     "metadata": {},
     "output_type": "execute_result"
    }
   ],
   "source": [
    "x = numpy.arange(0.0, (ConstPixelDims[0]))\n",
    "y = numpy.arange(0.0, (ConstPixelDims[1]))\n",
    "z = numpy.arange(0.0, (ConstPixelDims[2]))\n",
    "n = len(sorteddict)\n",
    "def imageselector(s):\n",
    "    pyplot.figure(dpi=300)\n",
    "    pyplot.axes().set_aspect('equal', 'datalim')\n",
    "    pyplot.set_cmap(pyplot.gray())\n",
    "    pyplot.pcolormesh(x, y, numpy.flipud(ArrayDicom[:, :, s]))\n",
    "    plt.contour(numpy.flipud(ArrayMask[:, :, s]))\n",
    "    print(\"Image file: \" + filetitles[s]) #keeping this as plt.title makes the switching smoother however makes the image smaller because the titel is so big\n",
    "interact(imageselector, s = (0, n-1))\n"
   ]
  },
  {
   "cell_type": "code",
   "execution_count": null,
   "id": "b213c9ed",
   "metadata": {},
   "outputs": [],
   "source": []
  },
  {
   "cell_type": "code",
   "execution_count": null,
   "id": "688483a5",
   "metadata": {},
   "outputs": [],
   "source": []
  }
 ],
 "metadata": {
  "kernelspec": {
   "display_name": "Python 3 (ipykernel)",
   "language": "python",
   "name": "python3"
  },
  "language_info": {
   "codemirror_mode": {
    "name": "ipython",
    "version": 3
   },
   "file_extension": ".py",
   "mimetype": "text/x-python",
   "name": "python",
   "nbconvert_exporter": "python",
   "pygments_lexer": "ipython3",
   "version": "3.9.7"
  }
 },
 "nbformat": 4,
 "nbformat_minor": 5
}
