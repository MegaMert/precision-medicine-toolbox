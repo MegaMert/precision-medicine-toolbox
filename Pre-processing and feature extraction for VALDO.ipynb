{
 "cells": [
  {
   "cell_type": "code",
   "execution_count": 13,
   "id": "e5a5503b",
   "metadata": {},
   "outputs": [
    {
     "name": "stderr",
     "output_type": "stream",
     "text": [
      "100%|██████████| 12/12 [00:00<00:00, 200.42it/s]\n"
     ]
    }
   ],
   "source": [
    "data_ct_nrrd = ToolBox(data_path = r'E:\\Internship Mass storage\\First 3 datasets\\VALDO dataset\\Test', data_type='nrrd')"
   ]
  },
  {
   "cell_type": "code",
   "execution_count": 3,
   "id": "46a0f207",
   "metadata": {},
   "outputs": [
    {
     "name": "stderr",
     "output_type": "stream",
     "text": [
      "Patients processed: 100%|██████████| 12/12 [02:18<00:00, 11.58s/it]\n"
     ]
    }
   ],
   "source": [
    "data_ct_nrrd.get_jpegs(r'E:\\Internship Mass storage\\First 3 datasets\\VALDO dataset')"
   ]
  },
  {
   "cell_type": "code",
   "execution_count": 14,
   "id": "c0f32ed1",
   "metadata": {},
   "outputs": [
    {
     "name": "stderr",
     "output_type": "stream",
     "text": [
      "100%|██████████| 12/12 [00:00<00:00, 601.65it/s]\n",
      "  0%|          | 0/964 [00:00<?, ?it/s]"
     ]
    },
    {
     "name": "stdout",
     "output_type": "stream",
     "text": [
      "min:  0.0 max:  233.11404418945312 step:  0.9141727223115809\n"
     ]
    },
    {
     "name": "stderr",
     "output_type": "stream",
     "text": [
      "\r",
      "  0%|          | 1/964 [00:08<2:14:12,  8.36s/it]"
     ]
    },
    {
     "name": "stdout",
     "output_type": "stream",
     "text": [
      "min:  0.0 max:  233.11404418945312 step:  0.9141727223115809\n"
     ]
    },
    {
     "name": "stderr",
     "output_type": "stream",
     "text": [
      "\r",
      "  0%|          | 2/964 [00:16<2:13:09,  8.30s/it]"
     ]
    },
    {
     "name": "stdout",
     "output_type": "stream",
     "text": [
      "min:  0.0 max:  233.11404418945312 step:  0.9141727223115809\n"
     ]
    },
    {
     "name": "stderr",
     "output_type": "stream",
     "text": [
      "\r",
      "  0%|          | 3/964 [00:25<2:14:21,  8.39s/it]"
     ]
    },
    {
     "name": "stdout",
     "output_type": "stream",
     "text": [
      "min:  0.0 max:  233.11404418945312 step:  0.9141727223115809\n"
     ]
    },
    {
     "name": "stderr",
     "output_type": "stream",
     "text": [
      "\r",
      "  0%|          | 4/964 [00:34<2:18:35,  8.66s/it]"
     ]
    },
    {
     "name": "stdout",
     "output_type": "stream",
     "text": [
      "min:  0.0 max:  233.11404418945312 step:  0.9141727223115809\n"
     ]
    },
    {
     "name": "stderr",
     "output_type": "stream",
     "text": [
      "\r",
      "  1%|          | 5/964 [00:42<2:17:32,  8.61s/it]"
     ]
    },
    {
     "name": "stdout",
     "output_type": "stream",
     "text": [
      "min:  0.0 max:  233.11404418945312 step:  0.9141727223115809\n"
     ]
    },
    {
     "name": "stderr",
     "output_type": "stream",
     "text": [
      "\r",
      "  1%|          | 6/964 [00:51<2:19:07,  8.71s/it]"
     ]
    },
    {
     "name": "stdout",
     "output_type": "stream",
     "text": [
      "min:  0.0 max:  233.11404418945312 step:  0.9141727223115809\n"
     ]
    },
    {
     "name": "stderr",
     "output_type": "stream",
     "text": [
      "\r",
      "  1%|          | 7/964 [01:00<2:17:51,  8.64s/it]"
     ]
    },
    {
     "name": "stdout",
     "output_type": "stream",
     "text": [
      "min:  0.0 max:  233.11404418945312 step:  0.9141727223115809\n"
     ]
    },
    {
     "name": "stderr",
     "output_type": "stream",
     "text": [
      "\r",
      "  1%|          | 8/964 [01:10<2:26:29,  9.19s/it]"
     ]
    },
    {
     "name": "stdout",
     "output_type": "stream",
     "text": [
      "min:  0.0 max:  233.11404418945312 step:  0.9141727223115809\n"
     ]
    },
    {
     "name": "stderr",
     "output_type": "stream",
     "text": [
      "\r",
      "  1%|          | 9/964 [01:19<2:26:19,  9.19s/it]"
     ]
    },
    {
     "name": "stdout",
     "output_type": "stream",
     "text": [
      "min:  0.0 max:  233.11404418945312 step:  0.9141727223115809\n"
     ]
    },
    {
     "name": "stderr",
     "output_type": "stream",
     "text": [
      "\r",
      "  1%|          | 10/964 [01:28<2:25:19,  9.14s/it]"
     ]
    },
    {
     "name": "stdout",
     "output_type": "stream",
     "text": [
      "min:  0.0 max:  233.11404418945312 step:  0.9141727223115809\n"
     ]
    },
    {
     "name": "stderr",
     "output_type": "stream",
     "text": [
      "\r",
      "  1%|          | 11/964 [01:37<2:25:00,  9.13s/it]"
     ]
    },
    {
     "name": "stdout",
     "output_type": "stream",
     "text": [
      "min:  0.0 max:  233.11404418945312 step:  0.9141727223115809\n"
     ]
    },
    {
     "name": "stderr",
     "output_type": "stream",
     "text": [
      "\r",
      "  1%|          | 12/964 [01:46<2:24:14,  9.09s/it]"
     ]
    },
    {
     "name": "stdout",
     "output_type": "stream",
     "text": [
      "min:  0.0 max:  233.11404418945312 step:  0.9141727223115809\n"
     ]
    },
    {
     "name": "stderr",
     "output_type": "stream",
     "text": [
      "\r",
      "  1%|▏         | 13/964 [01:55<2:24:01,  9.09s/it]"
     ]
    },
    {
     "name": "stdout",
     "output_type": "stream",
     "text": [
      "min:  0.0 max:  233.11404418945312 step:  0.9141727223115809\n"
     ]
    },
    {
     "name": "stderr",
     "output_type": "stream",
     "text": [
      "\r",
      "  1%|▏         | 14/964 [02:04<2:22:15,  8.98s/it]"
     ]
    },
    {
     "name": "stdout",
     "output_type": "stream",
     "text": [
      "min:  0.0 max:  233.11404418945312 step:  0.9141727223115809\n"
     ]
    },
    {
     "name": "stderr",
     "output_type": "stream",
     "text": [
      "\r",
      "  2%|▏         | 15/964 [02:13<2:21:10,  8.93s/it]"
     ]
    },
    {
     "name": "stdout",
     "output_type": "stream",
     "text": [
      "min:  0.0 max:  233.11404418945312 step:  0.9141727223115809\n"
     ]
    },
    {
     "name": "stderr",
     "output_type": "stream",
     "text": [
      "\r",
      "  2%|▏         | 16/964 [02:22<2:22:27,  9.02s/it]"
     ]
    },
    {
     "name": "stdout",
     "output_type": "stream",
     "text": [
      "min:  0.0 max:  233.11404418945312 step:  0.9141727223115809\n"
     ]
    },
    {
     "name": "stderr",
     "output_type": "stream",
     "text": [
      "\r",
      "  2%|▏         | 17/964 [02:31<2:21:31,  8.97s/it]"
     ]
    },
    {
     "name": "stdout",
     "output_type": "stream",
     "text": [
      "min:  0.0 max:  233.11404418945312 step:  0.9141727223115809\n"
     ]
    },
    {
     "name": "stderr",
     "output_type": "stream",
     "text": [
      "\r",
      "  2%|▏         | 18/964 [02:40<2:23:18,  9.09s/it]"
     ]
    },
    {
     "name": "stdout",
     "output_type": "stream",
     "text": [
      "min:  0.0 max:  233.11404418945312 step:  0.9141727223115809\n"
     ]
    },
    {
     "name": "stderr",
     "output_type": "stream",
     "text": [
      "\r",
      "  2%|▏         | 19/964 [02:49<2:22:31,  9.05s/it]"
     ]
    },
    {
     "name": "stdout",
     "output_type": "stream",
     "text": [
      "min:  0.0 max:  233.11404418945312 step:  0.9141727223115809\n"
     ]
    },
    {
     "name": "stderr",
     "output_type": "stream",
     "text": [
      "\r",
      "  2%|▏         | 20/964 [02:58<2:22:45,  9.07s/it]"
     ]
    },
    {
     "name": "stdout",
     "output_type": "stream",
     "text": [
      "min:  0.0 max:  233.11404418945312 step:  0.9141727223115809\n"
     ]
    },
    {
     "name": "stderr",
     "output_type": "stream",
     "text": [
      "\r",
      "  2%|▏         | 21/964 [03:08<2:25:13,  9.24s/it]"
     ]
    },
    {
     "name": "stdout",
     "output_type": "stream",
     "text": [
      "min:  0.0 max:  233.11404418945312 step:  0.9141727223115809\n"
     ]
    },
    {
     "name": "stderr",
     "output_type": "stream",
     "text": [
      "\r",
      "  2%|▏         | 22/964 [03:18<2:27:30,  9.40s/it]"
     ]
    },
    {
     "name": "stdout",
     "output_type": "stream",
     "text": [
      "min:  0.0 max:  233.11404418945312 step:  0.9141727223115809\n"
     ]
    },
    {
     "name": "stderr",
     "output_type": "stream",
     "text": [
      "\r",
      "  2%|▏         | 23/964 [03:27<2:27:58,  9.43s/it]"
     ]
    },
    {
     "name": "stdout",
     "output_type": "stream",
     "text": [
      "min:  0.0 max:  233.11404418945312 step:  0.9141727223115809\n"
     ]
    },
    {
     "name": "stderr",
     "output_type": "stream",
     "text": [
      "\r",
      "  2%|▏         | 24/964 [03:37<2:28:13,  9.46s/it]"
     ]
    },
    {
     "name": "stdout",
     "output_type": "stream",
     "text": [
      "min:  0.0 max:  233.11404418945312 step:  0.9141727223115809\n"
     ]
    },
    {
     "name": "stderr",
     "output_type": "stream",
     "text": [
      "\r",
      "  3%|▎         | 25/964 [03:47<2:28:56,  9.52s/it]"
     ]
    },
    {
     "name": "stdout",
     "output_type": "stream",
     "text": [
      "min:  0.0 max:  233.11404418945312 step:  0.9141727223115809\n"
     ]
    },
    {
     "name": "stderr",
     "output_type": "stream",
     "text": [
      "\r",
      "  3%|▎         | 26/964 [03:55<2:25:26,  9.30s/it]"
     ]
    },
    {
     "name": "stdout",
     "output_type": "stream",
     "text": [
      "min:  0.0 max:  233.11404418945312 step:  0.9141727223115809\n"
     ]
    },
    {
     "name": "stderr",
     "output_type": "stream",
     "text": [
      "\r",
      "  3%|▎         | 27/964 [04:04<2:22:21,  9.12s/it]"
     ]
    },
    {
     "name": "stdout",
     "output_type": "stream",
     "text": [
      "min:  0.0 max:  233.11404418945312 step:  0.9141727223115809\n"
     ]
    },
    {
     "name": "stderr",
     "output_type": "stream",
     "text": [
      "\r",
      "  3%|▎         | 28/964 [04:13<2:20:27,  9.00s/it]"
     ]
    },
    {
     "name": "stdout",
     "output_type": "stream",
     "text": [
      "min:  0.0 max:  233.11404418945312 step:  0.9141727223115809\n"
     ]
    },
    {
     "name": "stderr",
     "output_type": "stream",
     "text": [
      "\r",
      "  3%|▎         | 29/964 [04:22<2:19:54,  8.98s/it]"
     ]
    },
    {
     "name": "stdout",
     "output_type": "stream",
     "text": [
      "min:  0.0 max:  233.11404418945312 step:  0.9141727223115809\n"
     ]
    },
    {
     "name": "stderr",
     "output_type": "stream",
     "text": [
      "\r",
      "  3%|▎         | 30/964 [04:31<2:19:19,  8.95s/it]"
     ]
    },
    {
     "name": "stdout",
     "output_type": "stream",
     "text": [
      "min:  0.0 max:  233.11404418945312 step:  0.9141727223115809\n"
     ]
    },
    {
     "name": "stderr",
     "output_type": "stream",
     "text": [
      "\r",
      "  3%|▎         | 31/964 [04:40<2:20:11,  9.02s/it]"
     ]
    },
    {
     "name": "stdout",
     "output_type": "stream",
     "text": [
      "min:  0.0 max:  233.11404418945312 step:  0.9141727223115809\n"
     ]
    },
    {
     "name": "stderr",
     "output_type": "stream",
     "text": [
      "\r",
      "  3%|▎         | 32/964 [04:49<2:19:09,  8.96s/it]"
     ]
    },
    {
     "name": "stdout",
     "output_type": "stream",
     "text": [
      "min:  0.0 max:  233.11404418945312 step:  0.9141727223115809\n"
     ]
    },
    {
     "name": "stderr",
     "output_type": "stream",
     "text": [
      "\r",
      "  3%|▎         | 33/964 [04:58<2:19:15,  8.97s/it]"
     ]
    },
    {
     "name": "stdout",
     "output_type": "stream",
     "text": [
      "min:  0.0 max:  233.11404418945312 step:  0.9141727223115809\n"
     ]
    },
    {
     "name": "stderr",
     "output_type": "stream",
     "text": [
      "\r",
      "  4%|▎         | 34/964 [05:06<2:17:56,  8.90s/it]"
     ]
    },
    {
     "name": "stdout",
     "output_type": "stream",
     "text": [
      "min:  0.0 max:  233.11404418945312 step:  0.9141727223115809\n"
     ]
    },
    {
     "name": "stderr",
     "output_type": "stream",
     "text": [
      "\r",
      "  4%|▎         | 35/964 [05:15<2:17:02,  8.85s/it]"
     ]
    },
    {
     "name": "stdout",
     "output_type": "stream",
     "text": [
      "min:  0.0 max:  233.11404418945312 step:  0.9141727223115809\n"
     ]
    },
    {
     "name": "stderr",
     "output_type": "stream",
     "text": [
      "\r",
      "  4%|▎         | 36/964 [05:24<2:18:58,  8.99s/it]"
     ]
    },
    {
     "name": "stdout",
     "output_type": "stream",
     "text": [
      "min:  0.0 max:  233.11404418945312 step:  0.9141727223115809\n"
     ]
    },
    {
     "name": "stderr",
     "output_type": "stream",
     "text": [
      "\r",
      "  4%|▍         | 37/964 [05:34<2:20:03,  9.07s/it]"
     ]
    },
    {
     "name": "stdout",
     "output_type": "stream",
     "text": [
      "min:  0.0 max:  233.11404418945312 step:  0.9141727223115809\n"
     ]
    },
    {
     "name": "stderr",
     "output_type": "stream",
     "text": [
      "\r",
      "  4%|▍         | 38/964 [05:43<2:23:03,  9.27s/it]"
     ]
    },
    {
     "name": "stdout",
     "output_type": "stream",
     "text": [
      "min:  0.0 max:  233.11404418945312 step:  0.9141727223115809\n"
     ]
    },
    {
     "name": "stderr",
     "output_type": "stream",
     "text": [
      "\r",
      "  4%|▍         | 39/964 [05:52<2:20:30,  9.11s/it]"
     ]
    },
    {
     "name": "stdout",
     "output_type": "stream",
     "text": [
      "min:  0.0 max:  233.11404418945312 step:  0.9141727223115809\n"
     ]
    },
    {
     "name": "stderr",
     "output_type": "stream",
     "text": [
      "\r",
      "  4%|▍         | 40/964 [06:01<2:19:23,  9.05s/it]"
     ]
    },
    {
     "name": "stdout",
     "output_type": "stream",
     "text": [
      "min:  0.0 max:  233.11404418945312 step:  0.9141727223115809\n"
     ]
    },
    {
     "name": "stderr",
     "output_type": "stream",
     "text": [
      "\r",
      "  4%|▍         | 41/964 [06:10<2:19:41,  9.08s/it]"
     ]
    },
    {
     "name": "stdout",
     "output_type": "stream",
     "text": [
      "min:  0.0 max:  233.11404418945312 step:  0.9141727223115809\n"
     ]
    },
    {
     "name": "stderr",
     "output_type": "stream",
     "text": [
      "\r",
      "  4%|▍         | 42/964 [06:19<2:20:21,  9.13s/it]"
     ]
    },
    {
     "name": "stdout",
     "output_type": "stream",
     "text": [
      "min:  0.0 max:  233.11404418945312 step:  0.9141727223115809\n"
     ]
    },
    {
     "name": "stderr",
     "output_type": "stream",
     "text": [
      "\r",
      "  4%|▍         | 43/964 [06:29<2:20:53,  9.18s/it]"
     ]
    },
    {
     "name": "stdout",
     "output_type": "stream",
     "text": [
      "min:  0.0 max:  233.11404418945312 step:  0.9141727223115809\n"
     ]
    },
    {
     "name": "stderr",
     "output_type": "stream",
     "text": [
      "\r",
      "  5%|▍         | 44/964 [06:38<2:19:22,  9.09s/it]"
     ]
    },
    {
     "name": "stdout",
     "output_type": "stream",
     "text": [
      "min:  0.0 max:  233.11404418945312 step:  0.9141727223115809\n"
     ]
    },
    {
     "name": "stderr",
     "output_type": "stream",
     "text": [
      "\r",
      "  5%|▍         | 45/964 [06:46<2:18:16,  9.03s/it]"
     ]
    },
    {
     "name": "stdout",
     "output_type": "stream",
     "text": [
      "min:  0.0 max:  233.11404418945312 step:  0.9141727223115809\n"
     ]
    },
    {
     "name": "stderr",
     "output_type": "stream",
     "text": [
      "\r",
      "  5%|▍         | 46/964 [06:55<2:17:48,  9.01s/it]"
     ]
    },
    {
     "name": "stdout",
     "output_type": "stream",
     "text": [
      "min:  0.0 max:  233.11404418945312 step:  0.9141727223115809\n"
     ]
    },
    {
     "name": "stderr",
     "output_type": "stream",
     "text": [
      "\r",
      "  5%|▍         | 47/964 [07:04<2:17:36,  9.00s/it]"
     ]
    },
    {
     "name": "stdout",
     "output_type": "stream",
     "text": [
      "min:  0.0 max:  233.11404418945312 step:  0.9141727223115809\n"
     ]
    },
    {
     "name": "stderr",
     "output_type": "stream",
     "text": [
      "\r",
      "  5%|▍         | 48/964 [07:14<2:20:45,  9.22s/it]"
     ]
    },
    {
     "name": "stdout",
     "output_type": "stream",
     "text": [
      "min:  0.0 max:  233.11404418945312 step:  0.9141727223115809\n"
     ]
    },
    {
     "name": "stderr",
     "output_type": "stream",
     "text": [
      "\r",
      "  5%|▌         | 49/964 [07:23<2:20:19,  9.20s/it]"
     ]
    },
    {
     "name": "stdout",
     "output_type": "stream",
     "text": [
      "min:  0.0 max:  233.11404418945312 step:  0.9141727223115809\n"
     ]
    },
    {
     "name": "stderr",
     "output_type": "stream",
     "text": [
      "\r",
      "  5%|▌         | 50/964 [07:32<2:19:06,  9.13s/it]"
     ]
    },
    {
     "name": "stdout",
     "output_type": "stream",
     "text": [
      "min:  0.0 max:  233.11404418945312 step:  0.9141727223115809\n"
     ]
    },
    {
     "name": "stderr",
     "output_type": "stream",
     "text": [
      "\r",
      "  5%|▌         | 51/964 [07:41<2:17:59,  9.07s/it]"
     ]
    },
    {
     "name": "stdout",
     "output_type": "stream",
     "text": [
      "min:  0.0 max:  233.11404418945312 step:  0.9141727223115809\n"
     ]
    },
    {
     "name": "stderr",
     "output_type": "stream",
     "text": [
      "\r",
      "  5%|▌         | 52/964 [07:50<2:16:13,  8.96s/it]"
     ]
    },
    {
     "name": "stdout",
     "output_type": "stream",
     "text": [
      "min:  0.0 max:  233.11404418945312 step:  0.9141727223115809\n"
     ]
    },
    {
     "name": "stderr",
     "output_type": "stream",
     "text": [
      "\r",
      "  5%|▌         | 53/964 [07:59<2:15:37,  8.93s/it]"
     ]
    },
    {
     "name": "stdout",
     "output_type": "stream",
     "text": [
      "min:  0.0 max:  233.11404418945312 step:  0.9141727223115809\n"
     ]
    },
    {
     "name": "stderr",
     "output_type": "stream",
     "text": [
      "\r",
      "  6%|▌         | 54/964 [08:07<2:14:26,  8.86s/it]"
     ]
    },
    {
     "name": "stdout",
     "output_type": "stream",
     "text": [
      "min:  0.0 max:  233.11404418945312 step:  0.9141727223115809\n"
     ]
    },
    {
     "name": "stderr",
     "output_type": "stream",
     "text": [
      "\r",
      "  6%|▌         | 55/964 [08:16<2:13:52,  8.84s/it]"
     ]
    },
    {
     "name": "stdout",
     "output_type": "stream",
     "text": [
      "min:  0.0 max:  233.11404418945312 step:  0.9141727223115809\n"
     ]
    },
    {
     "name": "stderr",
     "output_type": "stream",
     "text": [
      "\r",
      "  6%|▌         | 56/964 [08:25<2:13:25,  8.82s/it]"
     ]
    },
    {
     "name": "stdout",
     "output_type": "stream",
     "text": [
      "min:  0.0 max:  233.11404418945312 step:  0.9141727223115809\n"
     ]
    },
    {
     "name": "stderr",
     "output_type": "stream",
     "text": [
      "\r",
      "  6%|▌         | 57/964 [08:34<2:14:34,  8.90s/it]"
     ]
    },
    {
     "name": "stdout",
     "output_type": "stream",
     "text": [
      "min:  0.0 max:  233.11404418945312 step:  0.9141727223115809\n"
     ]
    },
    {
     "name": "stderr",
     "output_type": "stream",
     "text": [
      "\r",
      "  6%|▌         | 58/964 [08:43<2:13:59,  8.87s/it]"
     ]
    },
    {
     "name": "stdout",
     "output_type": "stream",
     "text": [
      "min:  0.0 max:  233.11404418945312 step:  0.9141727223115809\n"
     ]
    },
    {
     "name": "stderr",
     "output_type": "stream",
     "text": [
      "\r",
      "  6%|▌         | 59/964 [08:52<2:15:16,  8.97s/it]"
     ]
    },
    {
     "name": "stdout",
     "output_type": "stream",
     "text": [
      "min:  0.0 max:  233.11404418945312 step:  0.9141727223115809\n"
     ]
    },
    {
     "name": "stderr",
     "output_type": "stream",
     "text": [
      "\r",
      "  6%|▌         | 60/964 [09:01<2:14:42,  8.94s/it]"
     ]
    },
    {
     "name": "stdout",
     "output_type": "stream",
     "text": [
      "min:  0.0 max:  233.11404418945312 step:  0.9141727223115809\n"
     ]
    },
    {
     "name": "stderr",
     "output_type": "stream",
     "text": [
      "\r",
      "  6%|▋         | 61/964 [09:10<2:14:44,  8.95s/it]"
     ]
    },
    {
     "name": "stdout",
     "output_type": "stream",
     "text": [
      "min:  0.0 max:  233.11404418945312 step:  0.9141727223115809\n"
     ]
    },
    {
     "name": "stderr",
     "output_type": "stream",
     "text": [
      "\r",
      "  6%|▋         | 62/964 [09:18<2:11:53,  8.77s/it]"
     ]
    },
    {
     "name": "stdout",
     "output_type": "stream",
     "text": [
      "min:  0.0 max:  233.11404418945312 step:  0.9141727223115809\n"
     ]
    },
    {
     "name": "stderr",
     "output_type": "stream",
     "text": [
      "\r",
      "  7%|▋         | 63/964 [09:27<2:10:49,  8.71s/it]"
     ]
    },
    {
     "name": "stdout",
     "output_type": "stream",
     "text": [
      "min:  0.0 max:  233.11404418945312 step:  0.9141727223115809\n"
     ]
    },
    {
     "name": "stderr",
     "output_type": "stream",
     "text": [
      "\r",
      "  7%|▋         | 64/964 [09:36<2:10:36,  8.71s/it]"
     ]
    },
    {
     "name": "stdout",
     "output_type": "stream",
     "text": [
      "min:  0.0 max:  233.11404418945312 step:  0.9141727223115809\n"
     ]
    },
    {
     "name": "stderr",
     "output_type": "stream",
     "text": [
      "\r",
      "  7%|▋         | 65/964 [09:44<2:10:00,  8.68s/it]"
     ]
    },
    {
     "name": "stdout",
     "output_type": "stream",
     "text": [
      "min:  0.0 max:  233.11404418945312 step:  0.9141727223115809\n"
     ]
    },
    {
     "name": "stderr",
     "output_type": "stream",
     "text": [
      "\r",
      "  7%|▋         | 66/964 [09:53<2:09:31,  8.65s/it]"
     ]
    },
    {
     "name": "stdout",
     "output_type": "stream",
     "text": [
      "min:  0.0 max:  233.11404418945312 step:  0.9141727223115809\n"
     ]
    },
    {
     "name": "stderr",
     "output_type": "stream",
     "text": [
      "\r",
      "  7%|▋         | 67/964 [10:01<2:07:51,  8.55s/it]"
     ]
    },
    {
     "name": "stdout",
     "output_type": "stream",
     "text": [
      "min:  0.0 max:  233.11404418945312 step:  0.9141727223115809\n"
     ]
    },
    {
     "name": "stderr",
     "output_type": "stream",
     "text": [
      "\r",
      "  7%|▋         | 68/964 [10:09<2:06:54,  8.50s/it]"
     ]
    },
    {
     "name": "stdout",
     "output_type": "stream",
     "text": [
      "min:  0.0 max:  233.11404418945312 step:  0.9141727223115809\n"
     ]
    },
    {
     "name": "stderr",
     "output_type": "stream",
     "text": [
      "\r",
      "  7%|▋         | 69/964 [10:18<2:06:54,  8.51s/it]"
     ]
    },
    {
     "name": "stdout",
     "output_type": "stream",
     "text": [
      "min:  0.0 max:  233.11404418945312 step:  0.9141727223115809\n"
     ]
    },
    {
     "name": "stderr",
     "output_type": "stream",
     "text": [
      "\r",
      "  7%|▋         | 70/964 [10:27<2:06:53,  8.52s/it]"
     ]
    },
    {
     "name": "stdout",
     "output_type": "stream",
     "text": [
      "min:  0.0 max:  233.11404418945312 step:  0.9141727223115809\n"
     ]
    },
    {
     "name": "stderr",
     "output_type": "stream",
     "text": [
      "\r",
      "  7%|▋         | 71/964 [10:35<2:07:01,  8.53s/it]"
     ]
    },
    {
     "name": "stdout",
     "output_type": "stream",
     "text": [
      "min:  0.0 max:  233.11404418945312 step:  0.9141727223115809\n"
     ]
    },
    {
     "name": "stderr",
     "output_type": "stream",
     "text": [
      "\r",
      "  7%|▋         | 72/964 [10:44<2:06:16,  8.49s/it]"
     ]
    },
    {
     "name": "stdout",
     "output_type": "stream",
     "text": [
      "min:  0.0 max:  233.11404418945312 step:  0.9141727223115809\n"
     ]
    },
    {
     "name": "stderr",
     "output_type": "stream",
     "text": [
      "\r",
      "  8%|▊         | 73/964 [10:52<2:07:29,  8.59s/it]"
     ]
    },
    {
     "name": "stdout",
     "output_type": "stream",
     "text": [
      "min:  0.0 max:  233.11404418945312 step:  0.9141727223115809\n"
     ]
    },
    {
     "name": "stderr",
     "output_type": "stream",
     "text": [
      "\r",
      "  8%|▊         | 74/964 [11:01<2:09:05,  8.70s/it]"
     ]
    },
    {
     "name": "stdout",
     "output_type": "stream",
     "text": [
      "min:  0.0 max:  233.11404418945312 step:  0.9141727223115809\n"
     ]
    },
    {
     "name": "stderr",
     "output_type": "stream",
     "text": [
      "\r",
      "  8%|▊         | 75/964 [11:10<2:07:36,  8.61s/it]"
     ]
    },
    {
     "name": "stdout",
     "output_type": "stream",
     "text": [
      "min:  0.0 max:  233.11404418945312 step:  0.9141727223115809\n"
     ]
    },
    {
     "name": "stderr",
     "output_type": "stream",
     "text": [
      "\r",
      "  8%|▊         | 76/964 [11:18<2:07:25,  8.61s/it]"
     ]
    },
    {
     "name": "stdout",
     "output_type": "stream",
     "text": [
      "min:  0.0 max:  233.11404418945312 step:  0.9141727223115809\n"
     ]
    },
    {
     "name": "stderr",
     "output_type": "stream",
     "text": [
      "\r",
      "  8%|▊         | 77/964 [11:27<2:06:49,  8.58s/it]"
     ]
    },
    {
     "name": "stdout",
     "output_type": "stream",
     "text": [
      "min:  0.0 max:  233.11404418945312 step:  0.9141727223115809\n"
     ]
    },
    {
     "name": "stderr",
     "output_type": "stream",
     "text": [
      "\r",
      "  8%|▊         | 78/964 [11:35<2:06:17,  8.55s/it]"
     ]
    },
    {
     "name": "stdout",
     "output_type": "stream",
     "text": [
      "min:  0.0 max:  233.11404418945312 step:  0.9141727223115809\n"
     ]
    },
    {
     "name": "stderr",
     "output_type": "stream",
     "text": [
      "\r",
      "  8%|▊         | 79/964 [11:44<2:06:35,  8.58s/it]"
     ]
    },
    {
     "name": "stdout",
     "output_type": "stream",
     "text": [
      "min:  0.0 max:  233.11404418945312 step:  0.9141727223115809\n"
     ]
    },
    {
     "name": "stderr",
     "output_type": "stream",
     "text": [
      "\r",
      "  8%|▊         | 80/964 [11:53<2:06:44,  8.60s/it]"
     ]
    },
    {
     "name": "stdout",
     "output_type": "stream",
     "text": [
      "min:  0.0 max:  233.11404418945312 step:  0.9141727223115809\n"
     ]
    },
    {
     "name": "stderr",
     "output_type": "stream",
     "text": [
      "\r",
      "  8%|▊         | 81/964 [12:01<2:05:38,  8.54s/it]"
     ]
    },
    {
     "name": "stdout",
     "output_type": "stream",
     "text": [
      "min:  0.0 max:  233.11404418945312 step:  0.9141727223115809\n"
     ]
    },
    {
     "name": "stderr",
     "output_type": "stream",
     "text": [
      "\r",
      "  9%|▊         | 82/964 [12:10<2:07:19,  8.66s/it]"
     ]
    },
    {
     "name": "stdout",
     "output_type": "stream",
     "text": [
      "min:  0.0 max:  233.11404418945312 step:  0.9141727223115809\n"
     ]
    },
    {
     "name": "stderr",
     "output_type": "stream",
     "text": [
      "\r",
      "  9%|▊         | 83/964 [12:19<2:07:09,  8.66s/it]"
     ]
    },
    {
     "name": "stdout",
     "output_type": "stream",
     "text": [
      "min:  0.0 max:  233.11404418945312 step:  0.9141727223115809\n"
     ]
    },
    {
     "name": "stderr",
     "output_type": "stream",
     "text": [
      "\r",
      "  9%|▊         | 84/964 [12:28<2:08:42,  8.78s/it]"
     ]
    },
    {
     "name": "stdout",
     "output_type": "stream",
     "text": [
      "min:  0.0 max:  233.11404418945312 step:  0.9141727223115809\n"
     ]
    },
    {
     "name": "stderr",
     "output_type": "stream",
     "text": [
      "\r",
      "  9%|▉         | 85/964 [12:36<2:07:42,  8.72s/it]"
     ]
    },
    {
     "name": "stdout",
     "output_type": "stream",
     "text": [
      "min:  0.0 max:  233.11404418945312 step:  0.9141727223115809\n"
     ]
    },
    {
     "name": "stderr",
     "output_type": "stream",
     "text": [
      "\r",
      "  9%|▉         | 86/964 [12:45<2:06:44,  8.66s/it]"
     ]
    },
    {
     "name": "stdout",
     "output_type": "stream",
     "text": [
      "min:  0.0 max:  233.11404418945312 step:  0.9141727223115809\n"
     ]
    },
    {
     "name": "stderr",
     "output_type": "stream",
     "text": [
      "\r",
      "  9%|▉         | 87/964 [12:54<2:07:02,  8.69s/it]"
     ]
    },
    {
     "name": "stdout",
     "output_type": "stream",
     "text": [
      "min:  0.0 max:  233.11404418945312 step:  0.9141727223115809\n"
     ]
    },
    {
     "name": "stderr",
     "output_type": "stream",
     "text": [
      "\r",
      "  9%|▉         | 88/964 [13:02<2:05:16,  8.58s/it]"
     ]
    },
    {
     "name": "stdout",
     "output_type": "stream",
     "text": [
      "min:  0.0 max:  233.11404418945312 step:  0.9141727223115809\n"
     ]
    },
    {
     "name": "stderr",
     "output_type": "stream",
     "text": [
      "\r",
      "  9%|▉         | 89/964 [13:11<2:08:25,  8.81s/it]"
     ]
    },
    {
     "name": "stdout",
     "output_type": "stream",
     "text": [
      "min:  0.0 max:  233.11404418945312 step:  0.9141727223115809\n"
     ]
    },
    {
     "name": "stderr",
     "output_type": "stream",
     "text": [
      "\r",
      "  9%|▉         | 90/964 [13:20<2:07:54,  8.78s/it]"
     ]
    },
    {
     "name": "stdout",
     "output_type": "stream",
     "text": [
      "min:  0.0 max:  233.11404418945312 step:  0.9141727223115809\n"
     ]
    },
    {
     "name": "stderr",
     "output_type": "stream",
     "text": [
      "\r",
      "  9%|▉         | 91/964 [13:28<2:06:32,  8.70s/it]"
     ]
    },
    {
     "name": "stdout",
     "output_type": "stream",
     "text": [
      "min:  0.0 max:  233.11404418945312 step:  0.9141727223115809\n"
     ]
    },
    {
     "name": "stderr",
     "output_type": "stream",
     "text": [
      "\r",
      " 10%|▉         | 92/964 [13:37<2:06:04,  8.67s/it]"
     ]
    },
    {
     "name": "stdout",
     "output_type": "stream",
     "text": [
      "min:  0.0 max:  233.11404418945312 step:  0.9141727223115809\n"
     ]
    },
    {
     "name": "stderr",
     "output_type": "stream",
     "text": [
      "\r",
      " 10%|▉         | 93/964 [13:46<2:06:11,  8.69s/it]"
     ]
    },
    {
     "name": "stdout",
     "output_type": "stream",
     "text": [
      "min:  0.0 max:  233.11404418945312 step:  0.9141727223115809\n"
     ]
    },
    {
     "name": "stderr",
     "output_type": "stream",
     "text": [
      "\r",
      " 10%|▉         | 94/964 [13:55<2:07:56,  8.82s/it]"
     ]
    },
    {
     "name": "stdout",
     "output_type": "stream",
     "text": [
      "min:  0.0 max:  233.11404418945312 step:  0.9141727223115809\n"
     ]
    },
    {
     "name": "stderr",
     "output_type": "stream",
     "text": [
      "\r",
      " 10%|▉         | 95/964 [14:03<2:06:47,  8.75s/it]"
     ]
    },
    {
     "name": "stdout",
     "output_type": "stream",
     "text": [
      "min:  0.0 max:  233.11404418945312 step:  0.9141727223115809\n"
     ]
    },
    {
     "name": "stderr",
     "output_type": "stream",
     "text": [
      "\r",
      " 10%|▉         | 96/964 [14:12<2:05:28,  8.67s/it]"
     ]
    },
    {
     "name": "stdout",
     "output_type": "stream",
     "text": [
      "min:  0.0 max:  217.2849826812744 step:  0.8520979712991154\n"
     ]
    },
    {
     "name": "stderr",
     "output_type": "stream",
     "text": [
      "\r",
      " 10%|█         | 97/964 [14:21<2:05:09,  8.66s/it]"
     ]
    },
    {
     "name": "stdout",
     "output_type": "stream",
     "text": [
      "min:  0.0 max:  217.2849826812744 step:  0.8520979712991154\n"
     ]
    },
    {
     "name": "stderr",
     "output_type": "stream",
     "text": [
      "\r",
      " 10%|█         | 98/964 [14:29<2:04:26,  8.62s/it]"
     ]
    },
    {
     "name": "stdout",
     "output_type": "stream",
     "text": [
      "min:  0.0 max:  217.2849826812744 step:  0.8520979712991154\n"
     ]
    },
    {
     "name": "stderr",
     "output_type": "stream",
     "text": [
      "\r",
      " 10%|█         | 99/964 [14:38<2:04:55,  8.67s/it]"
     ]
    },
    {
     "name": "stdout",
     "output_type": "stream",
     "text": [
      "min:  0.0 max:  217.2849826812744 step:  0.8520979712991154\n"
     ]
    },
    {
     "name": "stderr",
     "output_type": "stream",
     "text": [
      "\r",
      " 10%|█         | 100/964 [14:46<2:04:15,  8.63s/it]"
     ]
    },
    {
     "name": "stdout",
     "output_type": "stream",
     "text": [
      "min:  0.0 max:  217.2849826812744 step:  0.8520979712991154\n"
     ]
    },
    {
     "name": "stderr",
     "output_type": "stream",
     "text": [
      "\r",
      " 10%|█         | 101/964 [14:55<2:04:03,  8.63s/it]"
     ]
    },
    {
     "name": "stdout",
     "output_type": "stream",
     "text": [
      "min:  0.0 max:  217.2849826812744 step:  0.8520979712991154\n"
     ]
    },
    {
     "name": "stderr",
     "output_type": "stream",
     "text": [
      "\r",
      " 11%|█         | 102/964 [15:04<2:05:32,  8.74s/it]"
     ]
    },
    {
     "name": "stdout",
     "output_type": "stream",
     "text": [
      "min:  0.0 max:  217.2849826812744 step:  0.8520979712991154\n"
     ]
    },
    {
     "name": "stderr",
     "output_type": "stream",
     "text": [
      "\r",
      " 11%|█         | 103/964 [15:14<2:10:53,  9.12s/it]"
     ]
    },
    {
     "name": "stdout",
     "output_type": "stream",
     "text": [
      "min:  0.0 max:  217.2849826812744 step:  0.8520979712991154\n"
     ]
    },
    {
     "name": "stderr",
     "output_type": "stream",
     "text": [
      "\r",
      " 11%|█         | 104/964 [15:23<2:11:22,  9.17s/it]"
     ]
    },
    {
     "name": "stdout",
     "output_type": "stream",
     "text": [
      "min:  0.0 max:  217.2849826812744 step:  0.8520979712991154\n"
     ]
    },
    {
     "name": "stderr",
     "output_type": "stream",
     "text": [
      "\r",
      " 11%|█         | 105/964 [15:32<2:09:39,  9.06s/it]"
     ]
    },
    {
     "name": "stdout",
     "output_type": "stream",
     "text": [
      "min:  0.0 max:  217.2849826812744 step:  0.8520979712991154\n"
     ]
    },
    {
     "name": "stderr",
     "output_type": "stream",
     "text": [
      "\r",
      " 11%|█         | 106/964 [15:41<2:09:02,  9.02s/it]"
     ]
    },
    {
     "name": "stdout",
     "output_type": "stream",
     "text": [
      "min:  0.0 max:  217.2849826812744 step:  0.8520979712991154\n"
     ]
    },
    {
     "name": "stderr",
     "output_type": "stream",
     "text": [
      "\r",
      " 11%|█         | 107/964 [15:50<2:06:54,  8.89s/it]"
     ]
    },
    {
     "name": "stdout",
     "output_type": "stream",
     "text": [
      "min:  0.0 max:  217.2849826812744 step:  0.8520979712991154\n"
     ]
    },
    {
     "name": "stderr",
     "output_type": "stream",
     "text": [
      "\r",
      " 11%|█         | 108/964 [16:05<2:34:45, 10.85s/it]"
     ]
    },
    {
     "name": "stdout",
     "output_type": "stream",
     "text": [
      "min:  0.0 max:  217.2849826812744 step:  0.8520979712991154\n"
     ]
    },
    {
     "name": "stderr",
     "output_type": "stream",
     "text": [
      "\r",
      " 11%|█▏        | 109/964 [16:14<2:26:04, 10.25s/it]"
     ]
    },
    {
     "name": "stdout",
     "output_type": "stream",
     "text": [
      "min:  0.0 max:  217.2849826812744 step:  0.8520979712991154\n"
     ]
    },
    {
     "name": "stderr",
     "output_type": "stream",
     "text": [
      "\r",
      " 11%|█▏        | 110/964 [16:23<2:21:32,  9.94s/it]"
     ]
    },
    {
     "name": "stdout",
     "output_type": "stream",
     "text": [
      "min:  0.0 max:  217.2849826812744 step:  0.8520979712991154\n"
     ]
    },
    {
     "name": "stderr",
     "output_type": "stream",
     "text": [
      "\r",
      " 12%|█▏        | 111/964 [16:32<2:16:24,  9.60s/it]"
     ]
    },
    {
     "name": "stdout",
     "output_type": "stream",
     "text": [
      "min:  0.0 max:  217.2849826812744 step:  0.8520979712991154\n"
     ]
    },
    {
     "name": "stderr",
     "output_type": "stream",
     "text": [
      "\r",
      " 12%|█▏        | 112/964 [16:41<2:13:20,  9.39s/it]"
     ]
    },
    {
     "name": "stdout",
     "output_type": "stream",
     "text": [
      "min:  0.0 max:  217.2849826812744 step:  0.8520979712991154\n"
     ]
    },
    {
     "name": "stderr",
     "output_type": "stream",
     "text": [
      "\r",
      " 12%|█▏        | 113/964 [16:49<2:09:54,  9.16s/it]"
     ]
    },
    {
     "name": "stdout",
     "output_type": "stream",
     "text": [
      "min:  0.0 max:  217.2849826812744 step:  0.8520979712991154\n"
     ]
    },
    {
     "name": "stderr",
     "output_type": "stream",
     "text": [
      "\r",
      " 12%|█▏        | 114/964 [16:58<2:06:58,  8.96s/it]"
     ]
    },
    {
     "name": "stdout",
     "output_type": "stream",
     "text": [
      "min:  0.0 max:  217.2849826812744 step:  0.8520979712991154\n"
     ]
    },
    {
     "name": "stderr",
     "output_type": "stream",
     "text": [
      "\r",
      " 12%|█▏        | 115/964 [17:08<2:09:18,  9.14s/it]"
     ]
    },
    {
     "name": "stdout",
     "output_type": "stream",
     "text": [
      "min:  0.0 max:  217.2849826812744 step:  0.8520979712991154\n"
     ]
    },
    {
     "name": "stderr",
     "output_type": "stream",
     "text": [
      "\r",
      " 12%|█▏        | 116/964 [17:16<2:07:31,  9.02s/it]"
     ]
    },
    {
     "name": "stdout",
     "output_type": "stream",
     "text": [
      "min:  0.0 max:  217.2849826812744 step:  0.8520979712991154\n"
     ]
    },
    {
     "name": "stderr",
     "output_type": "stream",
     "text": [
      "\r",
      " 12%|█▏        | 117/964 [17:25<2:06:42,  8.98s/it]"
     ]
    },
    {
     "name": "stdout",
     "output_type": "stream",
     "text": [
      "min:  0.0 max:  217.2849826812744 step:  0.8520979712991154\n"
     ]
    },
    {
     "name": "stderr",
     "output_type": "stream",
     "text": [
      "\r",
      " 12%|█▏        | 118/964 [17:34<2:05:03,  8.87s/it]"
     ]
    },
    {
     "name": "stdout",
     "output_type": "stream",
     "text": [
      "min:  0.0 max:  217.2849826812744 step:  0.8520979712991154\n"
     ]
    },
    {
     "name": "stderr",
     "output_type": "stream",
     "text": [
      "\r",
      " 12%|█▏        | 119/964 [17:42<2:02:00,  8.66s/it]"
     ]
    },
    {
     "name": "stdout",
     "output_type": "stream",
     "text": [
      "min:  0.0 max:  217.2849826812744 step:  0.8520979712991154\n"
     ]
    },
    {
     "name": "stderr",
     "output_type": "stream",
     "text": [
      "\r",
      " 12%|█▏        | 120/964 [17:50<1:59:14,  8.48s/it]"
     ]
    },
    {
     "name": "stdout",
     "output_type": "stream",
     "text": [
      "min:  0.0 max:  217.2849826812744 step:  0.8520979712991154\n"
     ]
    },
    {
     "name": "stderr",
     "output_type": "stream",
     "text": [
      "\r",
      " 13%|█▎        | 121/964 [18:00<2:03:37,  8.80s/it]"
     ]
    },
    {
     "name": "stdout",
     "output_type": "stream",
     "text": [
      "min:  0.0 max:  217.2849826812744 step:  0.8520979712991154\n"
     ]
    },
    {
     "name": "stderr",
     "output_type": "stream",
     "text": [
      "\r",
      " 13%|█▎        | 122/964 [18:08<2:04:03,  8.84s/it]"
     ]
    },
    {
     "name": "stdout",
     "output_type": "stream",
     "text": [
      "min:  0.0 max:  217.2849826812744 step:  0.8520979712991154\n"
     ]
    },
    {
     "name": "stderr",
     "output_type": "stream",
     "text": [
      "\r",
      " 13%|█▎        | 123/964 [18:17<2:04:39,  8.89s/it]"
     ]
    },
    {
     "name": "stdout",
     "output_type": "stream",
     "text": [
      "min:  0.0 max:  217.2849826812744 step:  0.8520979712991154\n"
     ]
    },
    {
     "name": "stderr",
     "output_type": "stream",
     "text": [
      "\r",
      " 13%|█▎        | 124/964 [18:26<2:02:53,  8.78s/it]"
     ]
    },
    {
     "name": "stdout",
     "output_type": "stream",
     "text": [
      "min:  0.0 max:  217.2849826812744 step:  0.8520979712991154\n"
     ]
    },
    {
     "name": "stderr",
     "output_type": "stream",
     "text": [
      "\r",
      " 13%|█▎        | 125/964 [18:34<2:00:17,  8.60s/it]"
     ]
    },
    {
     "name": "stdout",
     "output_type": "stream",
     "text": [
      "min:  0.0 max:  217.2849826812744 step:  0.8520979712991154\n"
     ]
    },
    {
     "name": "stderr",
     "output_type": "stream",
     "text": [
      "\r",
      " 13%|█▎        | 126/964 [18:43<1:59:27,  8.55s/it]"
     ]
    },
    {
     "name": "stdout",
     "output_type": "stream",
     "text": [
      "min:  0.0 max:  217.2849826812744 step:  0.8520979712991154\n"
     ]
    },
    {
     "name": "stderr",
     "output_type": "stream",
     "text": [
      "\r",
      " 13%|█▎        | 127/964 [18:51<1:58:46,  8.51s/it]"
     ]
    },
    {
     "name": "stdout",
     "output_type": "stream",
     "text": [
      "min:  0.0 max:  217.2849826812744 step:  0.8520979712991154\n"
     ]
    },
    {
     "name": "stderr",
     "output_type": "stream",
     "text": [
      "\r",
      " 13%|█▎        | 128/964 [19:00<1:59:51,  8.60s/it]"
     ]
    },
    {
     "name": "stdout",
     "output_type": "stream",
     "text": [
      "min:  0.0 max:  217.2849826812744 step:  0.8520979712991154\n"
     ]
    },
    {
     "name": "stderr",
     "output_type": "stream",
     "text": [
      "\r",
      " 13%|█▎        | 129/964 [19:08<1:57:35,  8.45s/it]"
     ]
    },
    {
     "name": "stdout",
     "output_type": "stream",
     "text": [
      "min:  0.0 max:  217.2849826812744 step:  0.8520979712991154\n"
     ]
    },
    {
     "name": "stderr",
     "output_type": "stream",
     "text": [
      "\r",
      " 13%|█▎        | 130/964 [19:16<1:56:46,  8.40s/it]"
     ]
    },
    {
     "name": "stdout",
     "output_type": "stream",
     "text": [
      "min:  0.0 max:  217.2849826812744 step:  0.8520979712991154\n"
     ]
    },
    {
     "name": "stderr",
     "output_type": "stream",
     "text": [
      "\r",
      " 14%|█▎        | 131/964 [19:25<1:58:06,  8.51s/it]"
     ]
    },
    {
     "name": "stdout",
     "output_type": "stream",
     "text": [
      "min:  0.0 max:  217.2849826812744 step:  0.8520979712991154\n"
     ]
    },
    {
     "name": "stderr",
     "output_type": "stream",
     "text": [
      "\r",
      " 14%|█▎        | 132/964 [19:34<1:58:49,  8.57s/it]"
     ]
    },
    {
     "name": "stdout",
     "output_type": "stream",
     "text": [
      "min:  0.0 max:  217.2849826812744 step:  0.8520979712991154\n"
     ]
    },
    {
     "name": "stderr",
     "output_type": "stream",
     "text": [
      "\r",
      " 14%|█▍        | 133/964 [19:42<1:58:44,  8.57s/it]"
     ]
    },
    {
     "name": "stdout",
     "output_type": "stream",
     "text": [
      "min:  0.0 max:  217.2849826812744 step:  0.8520979712991154\n"
     ]
    },
    {
     "name": "stderr",
     "output_type": "stream",
     "text": [
      "\r",
      " 14%|█▍        | 134/964 [19:51<2:00:48,  8.73s/it]"
     ]
    },
    {
     "name": "stdout",
     "output_type": "stream",
     "text": [
      "min:  0.0 max:  217.2849826812744 step:  0.8520979712991154\n"
     ]
    },
    {
     "name": "stderr",
     "output_type": "stream",
     "text": [
      "\r",
      " 14%|█▍        | 135/964 [20:00<2:01:06,  8.77s/it]"
     ]
    },
    {
     "name": "stdout",
     "output_type": "stream",
     "text": [
      "min:  0.0 max:  217.2849826812744 step:  0.8520979712991154\n"
     ]
    },
    {
     "name": "stderr",
     "output_type": "stream",
     "text": [
      "\r",
      " 14%|█▍        | 136/964 [20:08<1:58:11,  8.56s/it]"
     ]
    },
    {
     "name": "stdout",
     "output_type": "stream",
     "text": [
      "min:  0.0 max:  217.2849826812744 step:  0.8520979712991154\n"
     ]
    },
    {
     "name": "stderr",
     "output_type": "stream",
     "text": [
      "\r",
      " 14%|█▍        | 137/964 [20:16<1:55:57,  8.41s/it]"
     ]
    },
    {
     "name": "stdout",
     "output_type": "stream",
     "text": [
      "min:  0.0 max:  217.2849826812744 step:  0.8520979712991154\n"
     ]
    },
    {
     "name": "stderr",
     "output_type": "stream",
     "text": [
      "\r",
      " 14%|█▍        | 138/964 [20:25<1:57:17,  8.52s/it]"
     ]
    },
    {
     "name": "stdout",
     "output_type": "stream",
     "text": [
      "min:  0.0 max:  217.2849826812744 step:  0.8520979712991154\n"
     ]
    },
    {
     "name": "stderr",
     "output_type": "stream",
     "text": [
      "\r",
      " 14%|█▍        | 139/964 [20:34<1:57:24,  8.54s/it]"
     ]
    },
    {
     "name": "stdout",
     "output_type": "stream",
     "text": [
      "min:  0.0 max:  217.2849826812744 step:  0.8520979712991154\n"
     ]
    },
    {
     "name": "stderr",
     "output_type": "stream",
     "text": [
      "\r",
      " 15%|█▍        | 140/964 [20:43<1:59:15,  8.68s/it]"
     ]
    },
    {
     "name": "stdout",
     "output_type": "stream",
     "text": [
      "min:  0.0 max:  217.2849826812744 step:  0.8520979712991154\n"
     ]
    },
    {
     "name": "stderr",
     "output_type": "stream",
     "text": [
      "\r",
      " 15%|█▍        | 141/964 [20:52<1:59:59,  8.75s/it]"
     ]
    },
    {
     "name": "stdout",
     "output_type": "stream",
     "text": [
      "min:  0.0 max:  217.2849826812744 step:  0.8520979712991154\n"
     ]
    },
    {
     "name": "stderr",
     "output_type": "stream",
     "text": [
      "\r",
      " 15%|█▍        | 142/964 [21:00<1:57:59,  8.61s/it]"
     ]
    },
    {
     "name": "stdout",
     "output_type": "stream",
     "text": [
      "min:  0.0 max:  217.2849826812744 step:  0.8520979712991154\n"
     ]
    },
    {
     "name": "stderr",
     "output_type": "stream",
     "text": [
      "\r",
      " 15%|█▍        | 143/964 [21:08<1:56:24,  8.51s/it]"
     ]
    },
    {
     "name": "stdout",
     "output_type": "stream",
     "text": [
      "min:  0.0 max:  217.2849826812744 step:  0.8520979712991154\n"
     ]
    },
    {
     "name": "stderr",
     "output_type": "stream",
     "text": [
      "\r",
      " 15%|█▍        | 144/964 [21:17<1:55:34,  8.46s/it]"
     ]
    },
    {
     "name": "stdout",
     "output_type": "stream",
     "text": [
      "min:  0.0 max:  217.2849826812744 step:  0.8520979712991154\n"
     ]
    },
    {
     "name": "stderr",
     "output_type": "stream",
     "text": [
      "\r",
      " 15%|█▌        | 145/964 [21:25<1:55:28,  8.46s/it]"
     ]
    },
    {
     "name": "stdout",
     "output_type": "stream",
     "text": [
      "min:  0.0 max:  217.2849826812744 step:  0.8520979712991154\n"
     ]
    },
    {
     "name": "stderr",
     "output_type": "stream",
     "text": [
      "\r",
      " 15%|█▌        | 146/964 [21:33<1:54:41,  8.41s/it]"
     ]
    },
    {
     "name": "stdout",
     "output_type": "stream",
     "text": [
      "min:  0.0 max:  217.2849826812744 step:  0.8520979712991154\n"
     ]
    },
    {
     "name": "stderr",
     "output_type": "stream",
     "text": [
      "\r",
      " 15%|█▌        | 147/964 [21:42<1:55:42,  8.50s/it]"
     ]
    },
    {
     "name": "stdout",
     "output_type": "stream",
     "text": [
      "min:  0.0 max:  217.2849826812744 step:  0.8520979712991154\n"
     ]
    },
    {
     "name": "stderr",
     "output_type": "stream",
     "text": [
      "\r",
      " 15%|█▌        | 148/964 [21:51<1:55:58,  8.53s/it]"
     ]
    },
    {
     "name": "stdout",
     "output_type": "stream",
     "text": [
      "min:  0.0 max:  217.2849826812744 step:  0.8520979712991154\n"
     ]
    },
    {
     "name": "stderr",
     "output_type": "stream",
     "text": [
      "\r",
      " 15%|█▌        | 149/964 [21:59<1:55:29,  8.50s/it]"
     ]
    },
    {
     "name": "stdout",
     "output_type": "stream",
     "text": [
      "min:  0.0 max:  217.2849826812744 step:  0.8520979712991154\n"
     ]
    },
    {
     "name": "stderr",
     "output_type": "stream",
     "text": [
      "\r",
      " 16%|█▌        | 150/964 [22:07<1:53:52,  8.39s/it]"
     ]
    },
    {
     "name": "stdout",
     "output_type": "stream",
     "text": [
      "min:  0.0 max:  217.2849826812744 step:  0.8520979712991154\n"
     ]
    },
    {
     "name": "stderr",
     "output_type": "stream",
     "text": [
      "\r",
      " 16%|█▌        | 151/964 [22:16<1:53:45,  8.40s/it]"
     ]
    },
    {
     "name": "stdout",
     "output_type": "stream",
     "text": [
      "min:  0.0 max:  217.2849826812744 step:  0.8520979712991154\n"
     ]
    },
    {
     "name": "stderr",
     "output_type": "stream",
     "text": [
      "\r",
      " 16%|█▌        | 152/964 [22:24<1:52:30,  8.31s/it]"
     ]
    },
    {
     "name": "stdout",
     "output_type": "stream",
     "text": [
      "min:  0.0 max:  217.2849826812744 step:  0.8520979712991154\n"
     ]
    },
    {
     "name": "stderr",
     "output_type": "stream",
     "text": [
      "\r",
      " 16%|█▌        | 153/964 [22:32<1:52:48,  8.35s/it]"
     ]
    },
    {
     "name": "stdout",
     "output_type": "stream",
     "text": [
      "min:  0.0 max:  217.2849826812744 step:  0.8520979712991154\n"
     ]
    },
    {
     "name": "stderr",
     "output_type": "stream",
     "text": [
      "\r",
      " 16%|█▌        | 154/964 [22:40<1:51:55,  8.29s/it]"
     ]
    },
    {
     "name": "stdout",
     "output_type": "stream",
     "text": [
      "min:  0.0 max:  217.2849826812744 step:  0.8520979712991154\n"
     ]
    },
    {
     "name": "stderr",
     "output_type": "stream",
     "text": [
      "\r",
      " 16%|█▌        | 155/964 [22:49<1:52:07,  8.32s/it]"
     ]
    },
    {
     "name": "stdout",
     "output_type": "stream",
     "text": [
      "min:  0.0 max:  217.2849826812744 step:  0.8520979712991154\n"
     ]
    },
    {
     "name": "stderr",
     "output_type": "stream",
     "text": [
      "\r",
      " 16%|█▌        | 156/964 [22:57<1:53:10,  8.40s/it]"
     ]
    },
    {
     "name": "stdout",
     "output_type": "stream",
     "text": [
      "min:  0.0 max:  217.2849826812744 step:  0.8520979712991154\n"
     ]
    },
    {
     "name": "stderr",
     "output_type": "stream",
     "text": [
      "\r",
      " 16%|█▋        | 157/964 [23:06<1:53:36,  8.45s/it]"
     ]
    },
    {
     "name": "stdout",
     "output_type": "stream",
     "text": [
      "min:  0.0 max:  217.2849826812744 step:  0.8520979712991154\n"
     ]
    },
    {
     "name": "stderr",
     "output_type": "stream",
     "text": [
      "\r",
      " 16%|█▋        | 158/964 [23:14<1:53:59,  8.49s/it]"
     ]
    },
    {
     "name": "stdout",
     "output_type": "stream",
     "text": [
      "min:  0.0 max:  217.2849826812744 step:  0.8520979712991154\n"
     ]
    },
    {
     "name": "stderr",
     "output_type": "stream",
     "text": [
      "\r",
      " 16%|█▋        | 159/964 [23:23<1:52:12,  8.36s/it]"
     ]
    },
    {
     "name": "stdout",
     "output_type": "stream",
     "text": [
      "min:  0.0 max:  217.2849826812744 step:  0.8520979712991154\n"
     ]
    },
    {
     "name": "stderr",
     "output_type": "stream",
     "text": [
      "\r",
      " 17%|█▋        | 160/964 [23:31<1:51:21,  8.31s/it]"
     ]
    },
    {
     "name": "stdout",
     "output_type": "stream",
     "text": [
      "min:  0.0 max:  217.2849826812744 step:  0.8520979712991154\n"
     ]
    },
    {
     "name": "stderr",
     "output_type": "stream",
     "text": [
      "\r",
      " 17%|█▋        | 161/964 [23:39<1:50:45,  8.28s/it]"
     ]
    },
    {
     "name": "stdout",
     "output_type": "stream",
     "text": [
      "min:  0.0 max:  217.2849826812744 step:  0.8520979712991154\n"
     ]
    },
    {
     "name": "stderr",
     "output_type": "stream",
     "text": [
      "\r",
      " 17%|█▋        | 162/964 [23:47<1:50:04,  8.23s/it]"
     ]
    },
    {
     "name": "stdout",
     "output_type": "stream",
     "text": [
      "min:  0.0 max:  217.2849826812744 step:  0.8520979712991154\n"
     ]
    },
    {
     "name": "stderr",
     "output_type": "stream",
     "text": [
      "\r",
      " 17%|█▋        | 163/964 [23:55<1:50:14,  8.26s/it]"
     ]
    },
    {
     "name": "stdout",
     "output_type": "stream",
     "text": [
      "min:  0.0 max:  217.2849826812744 step:  0.8520979712991154\n"
     ]
    },
    {
     "name": "stderr",
     "output_type": "stream",
     "text": [
      "\r",
      " 17%|█▋        | 164/964 [24:03<1:48:42,  8.15s/it]"
     ]
    },
    {
     "name": "stdout",
     "output_type": "stream",
     "text": [
      "min:  0.0 max:  217.2849826812744 step:  0.8520979712991154\n"
     ]
    },
    {
     "name": "stderr",
     "output_type": "stream",
     "text": [
      "\r",
      " 17%|█▋        | 165/964 [24:11<1:47:19,  8.06s/it]"
     ]
    },
    {
     "name": "stdout",
     "output_type": "stream",
     "text": [
      "min:  0.0 max:  217.2849826812744 step:  0.8520979712991154\n"
     ]
    },
    {
     "name": "stderr",
     "output_type": "stream",
     "text": [
      "\r",
      " 17%|█▋        | 166/964 [24:19<1:47:14,  8.06s/it]"
     ]
    },
    {
     "name": "stdout",
     "output_type": "stream",
     "text": [
      "min:  0.0 max:  217.2849826812744 step:  0.8520979712991154\n"
     ]
    },
    {
     "name": "stderr",
     "output_type": "stream",
     "text": [
      "\r",
      " 17%|█▋        | 167/964 [24:27<1:46:41,  8.03s/it]"
     ]
    },
    {
     "name": "stdout",
     "output_type": "stream",
     "text": [
      "min:  0.0 max:  217.2849826812744 step:  0.8520979712991154\n"
     ]
    },
    {
     "name": "stderr",
     "output_type": "stream",
     "text": [
      "\r",
      " 17%|█▋        | 168/964 [24:35<1:46:47,  8.05s/it]"
     ]
    },
    {
     "name": "stdout",
     "output_type": "stream",
     "text": [
      "min:  0.0 max:  217.2849826812744 step:  0.8520979712991154\n"
     ]
    },
    {
     "name": "stderr",
     "output_type": "stream",
     "text": [
      "\r",
      " 18%|█▊        | 169/964 [24:43<1:46:25,  8.03s/it]"
     ]
    },
    {
     "name": "stdout",
     "output_type": "stream",
     "text": [
      "min:  0.0 max:  217.2849826812744 step:  0.8520979712991154\n"
     ]
    },
    {
     "name": "stderr",
     "output_type": "stream",
     "text": [
      "\r",
      " 18%|█▊        | 170/964 [24:51<1:46:35,  8.05s/it]"
     ]
    },
    {
     "name": "stdout",
     "output_type": "stream",
     "text": [
      "min:  0.0 max:  217.2849826812744 step:  0.8520979712991154\n"
     ]
    },
    {
     "name": "stderr",
     "output_type": "stream",
     "text": [
      "\r",
      " 18%|█▊        | 171/964 [25:00<1:47:33,  8.14s/it]"
     ]
    },
    {
     "name": "stdout",
     "output_type": "stream",
     "text": [
      "min:  0.0 max:  217.2849826812744 step:  0.8520979712991154\n"
     ]
    },
    {
     "name": "stderr",
     "output_type": "stream",
     "text": [
      "\r",
      " 18%|█▊        | 172/964 [25:08<1:46:29,  8.07s/it]"
     ]
    },
    {
     "name": "stdout",
     "output_type": "stream",
     "text": [
      "min:  0.0 max:  217.2849826812744 step:  0.8520979712991154\n"
     ]
    },
    {
     "name": "stderr",
     "output_type": "stream",
     "text": [
      "\r",
      " 18%|█▊        | 173/964 [25:16<1:46:45,  8.10s/it]"
     ]
    },
    {
     "name": "stdout",
     "output_type": "stream",
     "text": [
      "min:  0.0 max:  217.2849826812744 step:  0.8520979712991154\n"
     ]
    },
    {
     "name": "stderr",
     "output_type": "stream",
     "text": [
      "\r",
      " 18%|█▊        | 174/964 [25:24<1:46:28,  8.09s/it]"
     ]
    },
    {
     "name": "stdout",
     "output_type": "stream",
     "text": [
      "min:  0.0 max:  217.2849826812744 step:  0.8520979712991154\n"
     ]
    },
    {
     "name": "stderr",
     "output_type": "stream",
     "text": [
      "\r",
      " 18%|█▊        | 175/964 [25:32<1:45:52,  8.05s/it]"
     ]
    },
    {
     "name": "stdout",
     "output_type": "stream",
     "text": [
      "min:  0.0 max:  217.2849826812744 step:  0.8520979712991154\n"
     ]
    },
    {
     "name": "stderr",
     "output_type": "stream",
     "text": [
      "\r",
      " 18%|█▊        | 176/964 [25:40<1:46:02,  8.07s/it]"
     ]
    },
    {
     "name": "stdout",
     "output_type": "stream",
     "text": [
      "min:  0.0 max:  217.2849826812744 step:  0.8520979712991154\n"
     ]
    },
    {
     "name": "stderr",
     "output_type": "stream",
     "text": [
      "\r",
      " 18%|█▊        | 177/964 [25:48<1:45:23,  8.04s/it]"
     ]
    },
    {
     "name": "stdout",
     "output_type": "stream",
     "text": [
      "min:  0.0 max:  217.2849826812744 step:  0.8520979712991154\n"
     ]
    },
    {
     "name": "stderr",
     "output_type": "stream",
     "text": [
      "\r",
      " 18%|█▊        | 178/964 [25:56<1:46:12,  8.11s/it]"
     ]
    },
    {
     "name": "stdout",
     "output_type": "stream",
     "text": [
      "min:  0.0 max:  217.2849826812744 step:  0.8520979712991154\n"
     ]
    },
    {
     "name": "stderr",
     "output_type": "stream",
     "text": [
      "\r",
      " 19%|█▊        | 179/964 [26:04<1:46:41,  8.16s/it]"
     ]
    },
    {
     "name": "stdout",
     "output_type": "stream",
     "text": [
      "min:  0.0 max:  217.2849826812744 step:  0.8520979712991154\n"
     ]
    },
    {
     "name": "stderr",
     "output_type": "stream",
     "text": [
      "\r",
      " 19%|█▊        | 180/964 [26:13<1:47:07,  8.20s/it]"
     ]
    },
    {
     "name": "stdout",
     "output_type": "stream",
     "text": [
      "min:  0.0 max:  217.2849826812744 step:  0.8520979712991154\n"
     ]
    },
    {
     "name": "stderr",
     "output_type": "stream",
     "text": [
      "\r",
      " 19%|█▉        | 181/964 [26:21<1:47:03,  8.20s/it]"
     ]
    },
    {
     "name": "stdout",
     "output_type": "stream",
     "text": [
      "min:  0.0 max:  217.2849826812744 step:  0.8520979712991154\n"
     ]
    },
    {
     "name": "stderr",
     "output_type": "stream",
     "text": [
      "\r",
      " 19%|█▉        | 182/964 [26:29<1:46:28,  8.17s/it]"
     ]
    },
    {
     "name": "stdout",
     "output_type": "stream",
     "text": [
      "min:  0.0 max:  217.2849826812744 step:  0.8520979712991154\n"
     ]
    },
    {
     "name": "stderr",
     "output_type": "stream",
     "text": [
      "\r",
      " 19%|█▉        | 183/964 [26:37<1:47:31,  8.26s/it]"
     ]
    },
    {
     "name": "stdout",
     "output_type": "stream",
     "text": [
      "min:  0.0 max:  217.2849826812744 step:  0.8520979712991154\n"
     ]
    },
    {
     "name": "stderr",
     "output_type": "stream",
     "text": [
      "\r",
      " 19%|█▉        | 184/964 [26:46<1:47:26,  8.26s/it]"
     ]
    },
    {
     "name": "stdout",
     "output_type": "stream",
     "text": [
      "min:  0.0 max:  217.2849826812744 step:  0.8520979712991154\n"
     ]
    },
    {
     "name": "stderr",
     "output_type": "stream",
     "text": [
      "\r",
      " 19%|█▉        | 185/964 [26:54<1:46:19,  8.19s/it]"
     ]
    },
    {
     "name": "stdout",
     "output_type": "stream",
     "text": [
      "min:  0.0 max:  217.2849826812744 step:  0.8520979712991154\n"
     ]
    },
    {
     "name": "stderr",
     "output_type": "stream",
     "text": [
      "\r",
      " 19%|█▉        | 186/964 [27:02<1:46:03,  8.18s/it]"
     ]
    },
    {
     "name": "stdout",
     "output_type": "stream",
     "text": [
      "min:  0.0 max:  217.2849826812744 step:  0.8520979712991154\n"
     ]
    },
    {
     "name": "stderr",
     "output_type": "stream",
     "text": [
      "\r",
      " 19%|█▉        | 187/964 [27:10<1:45:00,  8.11s/it]"
     ]
    },
    {
     "name": "stdout",
     "output_type": "stream",
     "text": [
      "min:  0.0 max:  217.2849826812744 step:  0.8520979712991154\n"
     ]
    },
    {
     "name": "stderr",
     "output_type": "stream",
     "text": [
      "\r",
      " 20%|█▉        | 188/964 [27:18<1:45:20,  8.14s/it]"
     ]
    },
    {
     "name": "stdout",
     "output_type": "stream",
     "text": [
      "min:  0.0 max:  217.2849826812744 step:  0.8520979712991154\n"
     ]
    },
    {
     "name": "stderr",
     "output_type": "stream",
     "text": [
      "\r",
      " 20%|█▉        | 189/964 [27:26<1:45:10,  8.14s/it]"
     ]
    },
    {
     "name": "stdout",
     "output_type": "stream",
     "text": [
      "min:  0.0 max:  217.2849826812744 step:  0.8520979712991154\n"
     ]
    },
    {
     "name": "stderr",
     "output_type": "stream",
     "text": [
      "\r",
      " 20%|█▉        | 190/964 [27:34<1:44:35,  8.11s/it]"
     ]
    },
    {
     "name": "stdout",
     "output_type": "stream",
     "text": [
      "min:  0.0 max:  217.2849826812744 step:  0.8520979712991154\n"
     ]
    },
    {
     "name": "stderr",
     "output_type": "stream",
     "text": [
      "\r",
      " 20%|█▉        | 191/964 [27:43<1:45:22,  8.18s/it]"
     ]
    },
    {
     "name": "stdout",
     "output_type": "stream",
     "text": [
      "min:  0.0 max:  217.2849826812744 step:  0.8520979712991154\n"
     ]
    },
    {
     "name": "stderr",
     "output_type": "stream",
     "text": [
      "\r",
      " 20%|█▉        | 192/964 [27:51<1:44:55,  8.16s/it]"
     ]
    },
    {
     "name": "stdout",
     "output_type": "stream",
     "text": [
      "min:  0.0 max:  217.2849826812744 step:  0.8520979712991154\n"
     ]
    },
    {
     "name": "stderr",
     "output_type": "stream",
     "text": [
      "\r",
      " 20%|██        | 193/964 [27:59<1:44:18,  8.12s/it]"
     ]
    },
    {
     "name": "stdout",
     "output_type": "stream",
     "text": [
      "min:  0.0 max:  217.2849826812744 step:  0.8520979712991154\n"
     ]
    },
    {
     "name": "stderr",
     "output_type": "stream",
     "text": [
      "\r",
      " 20%|██        | 194/964 [28:07<1:44:43,  8.16s/it]"
     ]
    },
    {
     "name": "stdout",
     "output_type": "stream",
     "text": [
      "min:  0.0 max:  217.2849826812744 step:  0.8520979712991154\n"
     ]
    },
    {
     "name": "stderr",
     "output_type": "stream",
     "text": [
      "\r",
      " 20%|██        | 195/964 [28:15<1:45:51,  8.26s/it]"
     ]
    },
    {
     "name": "stdout",
     "output_type": "stream",
     "text": [
      "min:  0.0 max:  217.2849826812744 step:  0.8520979712991154\n"
     ]
    },
    {
     "name": "stderr",
     "output_type": "stream",
     "text": [
      "\r",
      " 20%|██        | 196/964 [28:24<1:47:42,  8.41s/it]"
     ]
    },
    {
     "name": "stdout",
     "output_type": "stream",
     "text": [
      "min:  0.0 max:  217.2849826812744 step:  0.8520979712991154\n"
     ]
    },
    {
     "name": "stderr",
     "output_type": "stream",
     "text": [
      "\r",
      " 20%|██        | 197/964 [28:33<1:47:06,  8.38s/it]"
     ]
    },
    {
     "name": "stdout",
     "output_type": "stream",
     "text": [
      "min:  0.0 max:  217.2849826812744 step:  0.8520979712991154\n"
     ]
    },
    {
     "name": "stderr",
     "output_type": "stream",
     "text": [
      "\r",
      " 21%|██        | 198/964 [28:42<1:49:21,  8.57s/it]"
     ]
    },
    {
     "name": "stdout",
     "output_type": "stream",
     "text": [
      "min:  0.0 max:  217.2849826812744 step:  0.8520979712991154\n"
     ]
    },
    {
     "name": "stderr",
     "output_type": "stream",
     "text": [
      "\r",
      " 21%|██        | 199/964 [28:50<1:48:43,  8.53s/it]"
     ]
    },
    {
     "name": "stdout",
     "output_type": "stream",
     "text": [
      "min:  0.0 max:  217.2849826812744 step:  0.8520979712991154\n"
     ]
    },
    {
     "name": "stderr",
     "output_type": "stream",
     "text": [
      "\r",
      " 21%|██        | 200/964 [28:58<1:48:08,  8.49s/it]"
     ]
    },
    {
     "name": "stdout",
     "output_type": "stream",
     "text": [
      "min:  0.0 max:  217.2849826812744 step:  0.8520979712991154\n"
     ]
    },
    {
     "name": "stderr",
     "output_type": "stream",
     "text": [
      "\r",
      " 21%|██        | 201/964 [29:07<1:48:29,  8.53s/it]"
     ]
    },
    {
     "name": "stdout",
     "output_type": "stream",
     "text": [
      "min:  0.0 max:  217.2849826812744 step:  0.8520979712991154\n"
     ]
    },
    {
     "name": "stderr",
     "output_type": "stream",
     "text": [
      "\r",
      " 21%|██        | 202/964 [29:15<1:47:30,  8.47s/it]"
     ]
    },
    {
     "name": "stdout",
     "output_type": "stream",
     "text": [
      "min:  0.0 max:  217.2849826812744 step:  0.8520979712991154\n"
     ]
    },
    {
     "name": "stderr",
     "output_type": "stream",
     "text": [
      "\r",
      " 21%|██        | 203/964 [29:24<1:47:16,  8.46s/it]"
     ]
    },
    {
     "name": "stdout",
     "output_type": "stream",
     "text": [
      "min:  0.0 max:  217.2849826812744 step:  0.8520979712991154\n"
     ]
    },
    {
     "name": "stderr",
     "output_type": "stream",
     "text": [
      "\r",
      " 21%|██        | 204/964 [29:32<1:47:32,  8.49s/it]"
     ]
    },
    {
     "name": "stdout",
     "output_type": "stream",
     "text": [
      "min:  0.0 max:  217.2849826812744 step:  0.8520979712991154\n"
     ]
    },
    {
     "name": "stderr",
     "output_type": "stream",
     "text": [
      "\r",
      " 21%|██▏       | 205/964 [29:41<1:47:03,  8.46s/it]"
     ]
    },
    {
     "name": "stdout",
     "output_type": "stream",
     "text": [
      "min:  0.0 max:  217.2849826812744 step:  0.8520979712991154\n"
     ]
    },
    {
     "name": "stderr",
     "output_type": "stream",
     "text": [
      "\r",
      " 21%|██▏       | 206/964 [29:49<1:47:02,  8.47s/it]"
     ]
    },
    {
     "name": "stdout",
     "output_type": "stream",
     "text": [
      "min:  0.0 max:  217.2849826812744 step:  0.8520979712991154\n"
     ]
    },
    {
     "name": "stderr",
     "output_type": "stream",
     "text": [
      "\r",
      " 21%|██▏       | 207/964 [29:58<1:48:25,  8.59s/it]"
     ]
    },
    {
     "name": "stdout",
     "output_type": "stream",
     "text": [
      "min:  0.0 max:  217.2849826812744 step:  0.8520979712991154\n"
     ]
    },
    {
     "name": "stderr",
     "output_type": "stream",
     "text": [
      "\r",
      " 22%|██▏       | 208/964 [30:06<1:47:14,  8.51s/it]"
     ]
    },
    {
     "name": "stdout",
     "output_type": "stream",
     "text": [
      "min:  0.0 max:  217.2849826812744 step:  0.8520979712991154\n"
     ]
    },
    {
     "name": "stderr",
     "output_type": "stream",
     "text": [
      "\r",
      " 22%|██▏       | 209/964 [30:15<1:46:50,  8.49s/it]"
     ]
    },
    {
     "name": "stdout",
     "output_type": "stream",
     "text": [
      "min:  0.0 max:  217.2849826812744 step:  0.8520979712991154\n"
     ]
    },
    {
     "name": "stderr",
     "output_type": "stream",
     "text": [
      "\r",
      " 22%|██▏       | 210/964 [30:23<1:47:04,  8.52s/it]"
     ]
    },
    {
     "name": "stdout",
     "output_type": "stream",
     "text": [
      "min:  0.0 max:  217.2849826812744 step:  0.8520979712991154\n"
     ]
    },
    {
     "name": "stderr",
     "output_type": "stream",
     "text": [
      "\r",
      " 22%|██▏       | 211/964 [30:32<1:46:45,  8.51s/it]"
     ]
    },
    {
     "name": "stdout",
     "output_type": "stream",
     "text": [
      "min:  0.0 max:  217.2849826812744 step:  0.8520979712991154\n"
     ]
    },
    {
     "name": "stderr",
     "output_type": "stream",
     "text": [
      "\r",
      " 22%|██▏       | 212/964 [30:40<1:44:51,  8.37s/it]"
     ]
    },
    {
     "name": "stdout",
     "output_type": "stream",
     "text": [
      "min:  0.0 max:  217.2849826812744 step:  0.8520979712991154\n"
     ]
    },
    {
     "name": "stderr",
     "output_type": "stream",
     "text": [
      "\r",
      " 22%|██▏       | 213/964 [30:48<1:43:48,  8.29s/it]"
     ]
    },
    {
     "name": "stdout",
     "output_type": "stream",
     "text": [
      "min:  0.0 max:  217.2849826812744 step:  0.8520979712991154\n"
     ]
    },
    {
     "name": "stderr",
     "output_type": "stream",
     "text": [
      "\r",
      " 22%|██▏       | 214/964 [30:56<1:43:40,  8.29s/it]"
     ]
    },
    {
     "name": "stdout",
     "output_type": "stream",
     "text": [
      "min:  0.0 max:  217.2849826812744 step:  0.8520979712991154\n"
     ]
    },
    {
     "name": "stderr",
     "output_type": "stream",
     "text": [
      "\r",
      " 22%|██▏       | 215/964 [31:04<1:42:31,  8.21s/it]"
     ]
    },
    {
     "name": "stdout",
     "output_type": "stream",
     "text": [
      "min:  0.0 max:  217.2849826812744 step:  0.8520979712991154\n"
     ]
    },
    {
     "name": "stderr",
     "output_type": "stream",
     "text": [
      "\r",
      " 22%|██▏       | 216/964 [31:12<1:41:50,  8.17s/it]"
     ]
    },
    {
     "name": "stdout",
     "output_type": "stream",
     "text": [
      "min:  0.0 max:  217.2849826812744 step:  0.8520979712991154\n"
     ]
    },
    {
     "name": "stderr",
     "output_type": "stream",
     "text": [
      "\r",
      " 23%|██▎       | 217/964 [31:21<1:42:27,  8.23s/it]"
     ]
    },
    {
     "name": "stdout",
     "output_type": "stream",
     "text": [
      "min:  0.0 max:  217.2849826812744 step:  0.8520979712991154\n"
     ]
    },
    {
     "name": "stderr",
     "output_type": "stream",
     "text": [
      "\r",
      " 23%|██▎       | 218/964 [31:29<1:41:07,  8.13s/it]"
     ]
    },
    {
     "name": "stdout",
     "output_type": "stream",
     "text": [
      "min:  0.0 max:  217.2849826812744 step:  0.8520979712991154\n"
     ]
    },
    {
     "name": "stderr",
     "output_type": "stream",
     "text": [
      "\r",
      " 23%|██▎       | 219/964 [31:37<1:41:05,  8.14s/it]"
     ]
    },
    {
     "name": "stdout",
     "output_type": "stream",
     "text": [
      "min:  0.0 max:  217.2849826812744 step:  0.8520979712991154\n"
     ]
    },
    {
     "name": "stderr",
     "output_type": "stream",
     "text": [
      "\r",
      " 23%|██▎       | 220/964 [31:45<1:41:57,  8.22s/it]"
     ]
    },
    {
     "name": "stdout",
     "output_type": "stream",
     "text": [
      "min:  0.0 max:  217.2849826812744 step:  0.8520979712991154\n"
     ]
    },
    {
     "name": "stderr",
     "output_type": "stream",
     "text": [
      "\r",
      " 23%|██▎       | 221/964 [31:54<1:42:25,  8.27s/it]"
     ]
    },
    {
     "name": "stdout",
     "output_type": "stream",
     "text": [
      "min:  0.0 max:  217.2849826812744 step:  0.8520979712991154\n"
     ]
    },
    {
     "name": "stderr",
     "output_type": "stream",
     "text": [
      "\r",
      " 23%|██▎       | 222/964 [32:02<1:42:05,  8.26s/it]"
     ]
    },
    {
     "name": "stdout",
     "output_type": "stream",
     "text": [
      "min:  0.0 max:  217.2849826812744 step:  0.8520979712991154\n"
     ]
    },
    {
     "name": "stderr",
     "output_type": "stream",
     "text": [
      "\r",
      " 23%|██▎       | 223/964 [32:10<1:41:37,  8.23s/it]"
     ]
    },
    {
     "name": "stdout",
     "output_type": "stream",
     "text": [
      "min:  0.0 max:  217.2849826812744 step:  0.8520979712991154\n"
     ]
    },
    {
     "name": "stderr",
     "output_type": "stream",
     "text": [
      "\r",
      " 23%|██▎       | 224/964 [32:18<1:41:32,  8.23s/it]"
     ]
    },
    {
     "name": "stdout",
     "output_type": "stream",
     "text": [
      "min:  0.0 max:  217.2849826812744 step:  0.8520979712991154\n"
     ]
    },
    {
     "name": "stderr",
     "output_type": "stream",
     "text": [
      "\r",
      " 23%|██▎       | 225/964 [32:26<1:40:46,  8.18s/it]"
     ]
    },
    {
     "name": "stdout",
     "output_type": "stream",
     "text": [
      "min:  0.0 max:  217.2849826812744 step:  0.8520979712991154\n"
     ]
    },
    {
     "name": "stderr",
     "output_type": "stream",
     "text": [
      "\r",
      " 23%|██▎       | 226/964 [32:35<1:40:51,  8.20s/it]"
     ]
    },
    {
     "name": "stdout",
     "output_type": "stream",
     "text": [
      "min:  0.0 max:  217.2849826812744 step:  0.8520979712991154\n"
     ]
    },
    {
     "name": "stderr",
     "output_type": "stream",
     "text": [
      "\r",
      " 24%|██▎       | 227/964 [32:43<1:39:58,  8.14s/it]"
     ]
    },
    {
     "name": "stdout",
     "output_type": "stream",
     "text": [
      "min:  0.0 max:  217.2849826812744 step:  0.8520979712991154\n"
     ]
    },
    {
     "name": "stderr",
     "output_type": "stream",
     "text": [
      "\r",
      " 24%|██▎       | 228/964 [32:51<1:39:38,  8.12s/it]"
     ]
    },
    {
     "name": "stdout",
     "output_type": "stream",
     "text": [
      "min:  0.0 max:  217.2849826812744 step:  0.8520979712991154\n"
     ]
    },
    {
     "name": "stderr",
     "output_type": "stream",
     "text": [
      "\r",
      " 24%|██▍       | 229/964 [32:59<1:39:30,  8.12s/it]"
     ]
    },
    {
     "name": "stdout",
     "output_type": "stream",
     "text": [
      "min:  0.0 max:  217.2849826812744 step:  0.8520979712991154\n"
     ]
    },
    {
     "name": "stderr",
     "output_type": "stream",
     "text": [
      "\r",
      " 24%|██▍       | 230/964 [33:07<1:38:33,  8.06s/it]"
     ]
    },
    {
     "name": "stdout",
     "output_type": "stream",
     "text": [
      "min:  0.0 max:  217.2849826812744 step:  0.8520979712991154\n"
     ]
    },
    {
     "name": "stderr",
     "output_type": "stream",
     "text": [
      "\r",
      " 24%|██▍       | 231/964 [33:15<1:38:11,  8.04s/it]"
     ]
    },
    {
     "name": "stdout",
     "output_type": "stream",
     "text": [
      "min:  0.0 max:  217.2849826812744 step:  0.8520979712991154\n"
     ]
    },
    {
     "name": "stderr",
     "output_type": "stream",
     "text": [
      "\r",
      " 24%|██▍       | 232/964 [33:23<1:37:57,  8.03s/it]"
     ]
    },
    {
     "name": "stdout",
     "output_type": "stream",
     "text": [
      "min:  0.0 max:  217.2849826812744 step:  0.8520979712991154\n"
     ]
    },
    {
     "name": "stderr",
     "output_type": "stream",
     "text": [
      "\r",
      " 24%|██▍       | 233/964 [33:31<1:37:13,  7.98s/it]"
     ]
    },
    {
     "name": "stdout",
     "output_type": "stream",
     "text": [
      "min:  0.0 max:  217.2849826812744 step:  0.8520979712991154\n"
     ]
    },
    {
     "name": "stderr",
     "output_type": "stream",
     "text": [
      "\r",
      " 24%|██▍       | 234/964 [33:39<1:37:59,  8.05s/it]"
     ]
    },
    {
     "name": "stdout",
     "output_type": "stream",
     "text": [
      "min:  0.0 max:  217.2849826812744 step:  0.8520979712991154\n"
     ]
    },
    {
     "name": "stderr",
     "output_type": "stream",
     "text": [
      "\r",
      " 24%|██▍       | 235/964 [33:47<1:37:20,  8.01s/it]"
     ]
    },
    {
     "name": "stdout",
     "output_type": "stream",
     "text": [
      "min:  0.0 max:  217.2849826812744 step:  0.8520979712991154\n"
     ]
    },
    {
     "name": "stderr",
     "output_type": "stream",
     "text": [
      "\r",
      " 24%|██▍       | 236/964 [33:55<1:37:25,  8.03s/it]"
     ]
    },
    {
     "name": "stdout",
     "output_type": "stream",
     "text": [
      "min:  0.0 max:  217.2849826812744 step:  0.8520979712991154\n"
     ]
    },
    {
     "name": "stderr",
     "output_type": "stream",
     "text": [
      "\r",
      " 25%|██▍       | 237/964 [34:03<1:37:22,  8.04s/it]"
     ]
    },
    {
     "name": "stdout",
     "output_type": "stream",
     "text": [
      "min:  0.0 max:  217.2849826812744 step:  0.8520979712991154\n"
     ]
    },
    {
     "name": "stderr",
     "output_type": "stream",
     "text": [
      "\r",
      " 25%|██▍       | 238/964 [34:11<1:37:21,  8.05s/it]"
     ]
    },
    {
     "name": "stdout",
     "output_type": "stream",
     "text": [
      "min:  0.0 max:  217.2849826812744 step:  0.8520979712991154\n"
     ]
    },
    {
     "name": "stderr",
     "output_type": "stream",
     "text": [
      "\r",
      " 25%|██▍       | 239/964 [34:19<1:37:44,  8.09s/it]"
     ]
    },
    {
     "name": "stdout",
     "output_type": "stream",
     "text": [
      "min:  0.0 max:  217.2849826812744 step:  0.8520979712991154\n"
     ]
    },
    {
     "name": "stderr",
     "output_type": "stream",
     "text": [
      "\r",
      " 25%|██▍       | 240/964 [34:27<1:37:45,  8.10s/it]"
     ]
    },
    {
     "name": "stdout",
     "output_type": "stream",
     "text": [
      "min:  0.0 max:  217.2849826812744 step:  0.8520979712991154\n"
     ]
    },
    {
     "name": "stderr",
     "output_type": "stream",
     "text": [
      "\r",
      " 25%|██▌       | 241/964 [34:35<1:38:04,  8.14s/it]"
     ]
    },
    {
     "name": "stdout",
     "output_type": "stream",
     "text": [
      "min:  0.0 max:  217.2849826812744 step:  0.8520979712991154\n"
     ]
    },
    {
     "name": "stderr",
     "output_type": "stream",
     "text": [
      "\r",
      " 25%|██▌       | 242/964 [34:43<1:37:31,  8.10s/it]"
     ]
    },
    {
     "name": "stdout",
     "output_type": "stream",
     "text": [
      "min:  0.0 max:  217.2849826812744 step:  0.8520979712991154\n"
     ]
    },
    {
     "name": "stderr",
     "output_type": "stream",
     "text": [
      "\r",
      " 25%|██▌       | 243/964 [34:52<1:37:40,  8.13s/it]"
     ]
    },
    {
     "name": "stdout",
     "output_type": "stream",
     "text": [
      "min:  0.0 max:  217.2849826812744 step:  0.8520979712991154\n"
     ]
    },
    {
     "name": "stderr",
     "output_type": "stream",
     "text": [
      "\r",
      " 25%|██▌       | 244/964 [35:00<1:37:32,  8.13s/it]"
     ]
    },
    {
     "name": "stdout",
     "output_type": "stream",
     "text": [
      "min:  0.0 max:  217.2849826812744 step:  0.8520979712991154\n"
     ]
    },
    {
     "name": "stderr",
     "output_type": "stream",
     "text": [
      "\r",
      " 25%|██▌       | 245/964 [35:08<1:36:54,  8.09s/it]"
     ]
    },
    {
     "name": "stdout",
     "output_type": "stream",
     "text": [
      "min:  0.0 max:  217.2849826812744 step:  0.8520979712991154\n"
     ]
    },
    {
     "name": "stderr",
     "output_type": "stream",
     "text": [
      "\r",
      " 26%|██▌       | 246/964 [35:16<1:36:51,  8.09s/it]"
     ]
    },
    {
     "name": "stdout",
     "output_type": "stream",
     "text": [
      "min:  0.0 max:  217.2849826812744 step:  0.8520979712991154\n"
     ]
    },
    {
     "name": "stderr",
     "output_type": "stream",
     "text": [
      "\r",
      " 26%|██▌       | 247/964 [35:24<1:36:24,  8.07s/it]"
     ]
    },
    {
     "name": "stdout",
     "output_type": "stream",
     "text": [
      "min:  0.0 max:  217.2849826812744 step:  0.8520979712991154\n"
     ]
    },
    {
     "name": "stderr",
     "output_type": "stream",
     "text": [
      "\r",
      " 26%|██▌       | 248/964 [35:32<1:36:00,  8.05s/it]"
     ]
    },
    {
     "name": "stdout",
     "output_type": "stream",
     "text": [
      "min:  0.0 max:  217.2849826812744 step:  0.8520979712991154\n"
     ]
    },
    {
     "name": "stderr",
     "output_type": "stream",
     "text": [
      "\r",
      " 26%|██▌       | 249/964 [35:40<1:37:16,  8.16s/it]"
     ]
    },
    {
     "name": "stdout",
     "output_type": "stream",
     "text": [
      "min:  0.0 max:  217.2849826812744 step:  0.8520979712991154\n"
     ]
    },
    {
     "name": "stderr",
     "output_type": "stream",
     "text": [
      "\r",
      " 26%|██▌       | 250/964 [35:49<1:37:17,  8.18s/it]"
     ]
    },
    {
     "name": "stdout",
     "output_type": "stream",
     "text": [
      "min:  0.0 max:  217.2849826812744 step:  0.8520979712991154\n"
     ]
    },
    {
     "name": "stderr",
     "output_type": "stream",
     "text": [
      "\r",
      " 26%|██▌       | 251/964 [35:57<1:37:15,  8.18s/it]"
     ]
    },
    {
     "name": "stdout",
     "output_type": "stream",
     "text": [
      "min:  0.0 max:  217.2849826812744 step:  0.8520979712991154\n"
     ]
    },
    {
     "name": "stderr",
     "output_type": "stream",
     "text": [
      "\r",
      " 26%|██▌       | 252/964 [36:05<1:38:49,  8.33s/it]"
     ]
    },
    {
     "name": "stdout",
     "output_type": "stream",
     "text": [
      "min:  0.0 max:  217.2849826812744 step:  0.8520979712991154\n"
     ]
    },
    {
     "name": "stderr",
     "output_type": "stream",
     "text": [
      "\r",
      " 26%|██▌       | 253/964 [36:14<1:39:00,  8.35s/it]"
     ]
    },
    {
     "name": "stdout",
     "output_type": "stream",
     "text": [
      "min:  0.0 max:  217.2849826812744 step:  0.8520979712991154\n"
     ]
    },
    {
     "name": "stderr",
     "output_type": "stream",
     "text": [
      "\r",
      " 26%|██▋       | 254/964 [36:23<1:40:24,  8.49s/it]"
     ]
    },
    {
     "name": "stdout",
     "output_type": "stream",
     "text": [
      "min:  0.0 max:  217.2849826812744 step:  0.8520979712991154\n"
     ]
    },
    {
     "name": "stderr",
     "output_type": "stream",
     "text": [
      "\r",
      " 26%|██▋       | 255/964 [36:31<1:40:34,  8.51s/it]"
     ]
    },
    {
     "name": "stdout",
     "output_type": "stream",
     "text": [
      "min:  0.0 max:  217.2849826812744 step:  0.8520979712991154\n"
     ]
    },
    {
     "name": "stderr",
     "output_type": "stream",
     "text": [
      "\r",
      " 27%|██▋       | 256/964 [36:40<1:40:27,  8.51s/it]"
     ]
    },
    {
     "name": "stdout",
     "output_type": "stream",
     "text": [
      "min:  0.0 max:  217.2849826812744 step:  0.8520979712991154\n"
     ]
    },
    {
     "name": "stderr",
     "output_type": "stream",
     "text": [
      "\r",
      " 27%|██▋       | 257/964 [36:49<1:41:23,  8.61s/it]"
     ]
    },
    {
     "name": "stdout",
     "output_type": "stream",
     "text": [
      "min:  0.0 max:  217.2849826812744 step:  0.8520979712991154\n"
     ]
    },
    {
     "name": "stderr",
     "output_type": "stream",
     "text": [
      "\r",
      " 27%|██▋       | 258/964 [36:57<1:41:21,  8.61s/it]"
     ]
    },
    {
     "name": "stdout",
     "output_type": "stream",
     "text": [
      "min:  0.0 max:  217.2849826812744 step:  0.8520979712991154\n"
     ]
    },
    {
     "name": "stderr",
     "output_type": "stream",
     "text": [
      "\r",
      " 27%|██▋       | 259/964 [37:06<1:41:34,  8.65s/it]"
     ]
    },
    {
     "name": "stdout",
     "output_type": "stream",
     "text": [
      "min:  0.0 max:  217.2849826812744 step:  0.8520979712991154\n"
     ]
    },
    {
     "name": "stderr",
     "output_type": "stream",
     "text": [
      "\r",
      " 27%|██▋       | 260/964 [37:14<1:40:59,  8.61s/it]"
     ]
    },
    {
     "name": "stdout",
     "output_type": "stream",
     "text": [
      "min:  0.0 max:  217.2849826812744 step:  0.8520979712991154\n"
     ]
    },
    {
     "name": "stderr",
     "output_type": "stream",
     "text": [
      "\r",
      " 27%|██▋       | 261/964 [37:23<1:40:38,  8.59s/it]"
     ]
    },
    {
     "name": "stdout",
     "output_type": "stream",
     "text": [
      "min:  0.0 max:  217.2849826812744 step:  0.8520979712991154\n"
     ]
    },
    {
     "name": "stderr",
     "output_type": "stream",
     "text": [
      "\r",
      " 27%|██▋       | 262/964 [37:31<1:39:33,  8.51s/it]"
     ]
    },
    {
     "name": "stdout",
     "output_type": "stream",
     "text": [
      "min:  0.0 max:  217.2849826812744 step:  0.8520979712991154\n"
     ]
    },
    {
     "name": "stderr",
     "output_type": "stream",
     "text": [
      "\r",
      " 27%|██▋       | 263/964 [37:40<1:38:59,  8.47s/it]"
     ]
    },
    {
     "name": "stdout",
     "output_type": "stream",
     "text": [
      "min:  0.0 max:  217.2849826812744 step:  0.8520979712991154\n"
     ]
    },
    {
     "name": "stderr",
     "output_type": "stream",
     "text": [
      "\r",
      " 27%|██▋       | 264/964 [37:48<1:38:26,  8.44s/it]"
     ]
    },
    {
     "name": "stdout",
     "output_type": "stream",
     "text": [
      "min:  0.0 max:  217.2849826812744 step:  0.8520979712991154\n"
     ]
    },
    {
     "name": "stderr",
     "output_type": "stream",
     "text": [
      "\r",
      " 27%|██▋       | 265/964 [37:56<1:37:29,  8.37s/it]"
     ]
    },
    {
     "name": "stdout",
     "output_type": "stream",
     "text": [
      "min:  0.0 max:  217.2849826812744 step:  0.8520979712991154\n"
     ]
    },
    {
     "name": "stderr",
     "output_type": "stream",
     "text": [
      "\r",
      " 28%|██▊       | 266/964 [38:05<1:37:29,  8.38s/it]"
     ]
    },
    {
     "name": "stdout",
     "output_type": "stream",
     "text": [
      "min:  0.0 max:  217.2849826812744 step:  0.8520979712991154\n"
     ]
    },
    {
     "name": "stderr",
     "output_type": "stream",
     "text": [
      "\r",
      " 28%|██▊       | 267/964 [38:13<1:37:09,  8.36s/it]"
     ]
    },
    {
     "name": "stdout",
     "output_type": "stream",
     "text": [
      "min:  0.0 max:  217.2849826812744 step:  0.8520979712991154\n"
     ]
    },
    {
     "name": "stderr",
     "output_type": "stream",
     "text": [
      "\r",
      " 28%|██▊       | 268/964 [38:22<1:37:59,  8.45s/it]"
     ]
    },
    {
     "name": "stdout",
     "output_type": "stream",
     "text": [
      "min:  0.0 max:  217.2849826812744 step:  0.8520979712991154\n"
     ]
    },
    {
     "name": "stderr",
     "output_type": "stream",
     "text": [
      "\r",
      " 28%|██▊       | 269/964 [38:30<1:37:59,  8.46s/it]"
     ]
    },
    {
     "name": "stdout",
     "output_type": "stream",
     "text": [
      "min:  0.0 max:  217.2849826812744 step:  0.8520979712991154\n"
     ]
    },
    {
     "name": "stderr",
     "output_type": "stream",
     "text": [
      "\r",
      " 28%|██▊       | 270/964 [38:39<1:38:16,  8.50s/it]"
     ]
    },
    {
     "name": "stdout",
     "output_type": "stream",
     "text": [
      "min:  0.0 max:  217.2849826812744 step:  0.8520979712991154\n"
     ]
    },
    {
     "name": "stderr",
     "output_type": "stream",
     "text": [
      "\r",
      " 28%|██▊       | 271/964 [38:47<1:38:18,  8.51s/it]"
     ]
    },
    {
     "name": "stdout",
     "output_type": "stream",
     "text": [
      "min:  0.0 max:  217.2849826812744 step:  0.8520979712991154\n"
     ]
    },
    {
     "name": "stderr",
     "output_type": "stream",
     "text": [
      "\r",
      " 28%|██▊       | 272/964 [38:56<1:38:51,  8.57s/it]"
     ]
    },
    {
     "name": "stdout",
     "output_type": "stream",
     "text": [
      "min:  0.0 max:  217.2849826812744 step:  0.8520979712991154\n"
     ]
    },
    {
     "name": "stderr",
     "output_type": "stream",
     "text": [
      "\r",
      " 28%|██▊       | 273/964 [39:04<1:38:30,  8.55s/it]"
     ]
    },
    {
     "name": "stdout",
     "output_type": "stream",
     "text": [
      "min:  0.0 max:  217.2849826812744 step:  0.8520979712991154\n"
     ]
    },
    {
     "name": "stderr",
     "output_type": "stream",
     "text": [
      "\r",
      " 28%|██▊       | 274/964 [39:13<1:38:26,  8.56s/it]"
     ]
    },
    {
     "name": "stdout",
     "output_type": "stream",
     "text": [
      "min:  0.0 max:  217.2849826812744 step:  0.8520979712991154\n"
     ]
    },
    {
     "name": "stderr",
     "output_type": "stream",
     "text": [
      "\r",
      " 29%|██▊       | 275/964 [39:22<1:38:57,  8.62s/it]"
     ]
    },
    {
     "name": "stdout",
     "output_type": "stream",
     "text": [
      "min:  0.0 max:  217.2849826812744 step:  0.8520979712991154\n"
     ]
    },
    {
     "name": "stderr",
     "output_type": "stream",
     "text": [
      "\r",
      " 29%|██▊       | 276/964 [39:31<1:40:21,  8.75s/it]"
     ]
    },
    {
     "name": "stdout",
     "output_type": "stream",
     "text": [
      "min:  0.0 max:  217.2849826812744 step:  0.8520979712991154\n"
     ]
    },
    {
     "name": "stderr",
     "output_type": "stream",
     "text": [
      "\r",
      " 29%|██▊       | 277/964 [39:39<1:38:55,  8.64s/it]"
     ]
    },
    {
     "name": "stdout",
     "output_type": "stream",
     "text": [
      "min:  0.0 max:  217.2849826812744 step:  0.8520979712991154\n"
     ]
    },
    {
     "name": "stderr",
     "output_type": "stream",
     "text": [
      "\r",
      " 29%|██▉       | 278/964 [39:48<1:37:57,  8.57s/it]"
     ]
    },
    {
     "name": "stdout",
     "output_type": "stream",
     "text": [
      "min:  0.0 max:  217.2849826812744 step:  0.8520979712991154\n"
     ]
    },
    {
     "name": "stderr",
     "output_type": "stream",
     "text": [
      "\r",
      " 29%|██▉       | 279/964 [39:56<1:36:37,  8.46s/it]"
     ]
    },
    {
     "name": "stdout",
     "output_type": "stream",
     "text": [
      "min:  0.0 max:  217.2849826812744 step:  0.8520979712991154\n"
     ]
    },
    {
     "name": "stderr",
     "output_type": "stream",
     "text": [
      "\r",
      " 29%|██▉       | 280/964 [40:04<1:36:32,  8.47s/it]"
     ]
    },
    {
     "name": "stdout",
     "output_type": "stream",
     "text": [
      "min:  0.0 max:  217.2849826812744 step:  0.8520979712991154\n"
     ]
    },
    {
     "name": "stderr",
     "output_type": "stream",
     "text": [
      "\r",
      " 29%|██▉       | 281/964 [40:13<1:36:19,  8.46s/it]"
     ]
    },
    {
     "name": "stdout",
     "output_type": "stream",
     "text": [
      "min:  0.0 max:  217.2849826812744 step:  0.8520979712991154\n"
     ]
    },
    {
     "name": "stderr",
     "output_type": "stream",
     "text": [
      "\r",
      " 29%|██▉       | 282/964 [40:21<1:36:27,  8.49s/it]"
     ]
    },
    {
     "name": "stdout",
     "output_type": "stream",
     "text": [
      "min:  0.0 max:  217.2849826812744 step:  0.8520979712991154\n"
     ]
    },
    {
     "name": "stderr",
     "output_type": "stream",
     "text": [
      "\r",
      " 29%|██▉       | 283/964 [40:30<1:35:54,  8.45s/it]"
     ]
    },
    {
     "name": "stdout",
     "output_type": "stream",
     "text": [
      "min:  0.0 max:  217.2849826812744 step:  0.8520979712991154\n"
     ]
    },
    {
     "name": "stderr",
     "output_type": "stream",
     "text": [
      "\r",
      " 29%|██▉       | 284/964 [40:38<1:35:44,  8.45s/it]"
     ]
    },
    {
     "name": "stdout",
     "output_type": "stream",
     "text": [
      "min:  0.0 max:  217.2849826812744 step:  0.8520979712991154\n"
     ]
    },
    {
     "name": "stderr",
     "output_type": "stream",
     "text": [
      "\r",
      " 30%|██▉       | 285/964 [40:47<1:36:20,  8.51s/it]"
     ]
    },
    {
     "name": "stdout",
     "output_type": "stream",
     "text": [
      "min:  0.0 max:  217.2849826812744 step:  0.8520979712991154\n"
     ]
    },
    {
     "name": "stderr",
     "output_type": "stream",
     "text": [
      "\r",
      " 30%|██▉       | 286/964 [40:55<1:34:58,  8.40s/it]"
     ]
    },
    {
     "name": "stdout",
     "output_type": "stream",
     "text": [
      "min:  0.0 max:  217.2849826812744 step:  0.8520979712991154\n"
     ]
    },
    {
     "name": "stderr",
     "output_type": "stream",
     "text": [
      "\r",
      " 30%|██▉       | 287/964 [41:03<1:34:15,  8.35s/it]"
     ]
    },
    {
     "name": "stdout",
     "output_type": "stream",
     "text": [
      "min:  0.0 max:  217.2849826812744 step:  0.8520979712991154\n"
     ]
    },
    {
     "name": "stderr",
     "output_type": "stream",
     "text": [
      "\r",
      " 30%|██▉       | 288/964 [41:12<1:35:20,  8.46s/it]"
     ]
    },
    {
     "name": "stdout",
     "output_type": "stream",
     "text": [
      "min:  0.0 max:  217.2849826812744 step:  0.8520979712991154\n"
     ]
    },
    {
     "name": "stderr",
     "output_type": "stream",
     "text": [
      "\r",
      " 30%|██▉       | 289/964 [41:20<1:35:15,  8.47s/it]"
     ]
    },
    {
     "name": "stdout",
     "output_type": "stream",
     "text": [
      "min:  0.0 max:  217.2849826812744 step:  0.8520979712991154\n"
     ]
    },
    {
     "name": "stderr",
     "output_type": "stream",
     "text": [
      "\r",
      " 30%|███       | 290/964 [41:29<1:35:38,  8.51s/it]"
     ]
    },
    {
     "name": "stdout",
     "output_type": "stream",
     "text": [
      "min:  0.0 max:  217.2849826812744 step:  0.8520979712991154\n"
     ]
    },
    {
     "name": "stderr",
     "output_type": "stream",
     "text": [
      "\r",
      " 30%|███       | 291/964 [41:38<1:35:34,  8.52s/it]"
     ]
    },
    {
     "name": "stdout",
     "output_type": "stream",
     "text": [
      "min:  0.0 max:  217.2849826812744 step:  0.8520979712991154\n"
     ]
    },
    {
     "name": "stderr",
     "output_type": "stream",
     "text": [
      "\r",
      " 30%|███       | 292/964 [41:46<1:33:47,  8.37s/it]"
     ]
    },
    {
     "name": "stdout",
     "output_type": "stream",
     "text": [
      "min:  0.0 max:  217.2849826812744 step:  0.8520979712991154\n"
     ]
    },
    {
     "name": "stderr",
     "output_type": "stream",
     "text": [
      "\r",
      " 30%|███       | 293/964 [41:54<1:33:28,  8.36s/it]"
     ]
    },
    {
     "name": "stdout",
     "output_type": "stream",
     "text": [
      "min:  0.0 max:  217.2849826812744 step:  0.8520979712991154\n"
     ]
    },
    {
     "name": "stderr",
     "output_type": "stream",
     "text": [
      "\r",
      " 30%|███       | 294/964 [42:02<1:33:16,  8.35s/it]"
     ]
    },
    {
     "name": "stdout",
     "output_type": "stream",
     "text": [
      "min:  0.0 max:  217.2849826812744 step:  0.8520979712991154\n"
     ]
    },
    {
     "name": "stderr",
     "output_type": "stream",
     "text": [
      "\r",
      " 31%|███       | 295/964 [42:10<1:31:56,  8.25s/it]"
     ]
    },
    {
     "name": "stdout",
     "output_type": "stream",
     "text": [
      "min:  0.0 max:  217.2849826812744 step:  0.8520979712991154\n"
     ]
    },
    {
     "name": "stderr",
     "output_type": "stream",
     "text": [
      "\r",
      " 31%|███       | 296/964 [42:19<1:32:06,  8.27s/it]"
     ]
    },
    {
     "name": "stdout",
     "output_type": "stream",
     "text": [
      "min:  0.0 max:  217.2849826812744 step:  0.8520979712991154\n"
     ]
    },
    {
     "name": "stderr",
     "output_type": "stream",
     "text": [
      "\r",
      " 31%|███       | 297/964 [42:27<1:31:32,  8.23s/it]"
     ]
    },
    {
     "name": "stdout",
     "output_type": "stream",
     "text": [
      "min:  0.0 max:  217.2849826812744 step:  0.8520979712991154\n"
     ]
    },
    {
     "name": "stderr",
     "output_type": "stream",
     "text": [
      "\r",
      " 31%|███       | 298/964 [42:35<1:31:22,  8.23s/it]"
     ]
    },
    {
     "name": "stdout",
     "output_type": "stream",
     "text": [
      "min:  0.0 max:  217.2849826812744 step:  0.8520979712991154\n"
     ]
    },
    {
     "name": "stderr",
     "output_type": "stream",
     "text": [
      "\r",
      " 31%|███       | 299/964 [42:44<1:32:40,  8.36s/it]"
     ]
    },
    {
     "name": "stdout",
     "output_type": "stream",
     "text": [
      "min:  0.0 max:  217.2849826812744 step:  0.8520979712991154\n"
     ]
    },
    {
     "name": "stderr",
     "output_type": "stream",
     "text": [
      "\r",
      " 31%|███       | 300/964 [42:52<1:33:50,  8.48s/it]"
     ]
    },
    {
     "name": "stdout",
     "output_type": "stream",
     "text": [
      "min:  0.0 max:  217.2849826812744 step:  0.8520979712991154\n"
     ]
    },
    {
     "name": "stderr",
     "output_type": "stream",
     "text": [
      "\r",
      " 31%|███       | 301/964 [43:01<1:33:11,  8.43s/it]"
     ]
    },
    {
     "name": "stdout",
     "output_type": "stream",
     "text": [
      "min:  0.0 max:  217.2849826812744 step:  0.8520979712991154\n"
     ]
    },
    {
     "name": "stderr",
     "output_type": "stream",
     "text": [
      "\r",
      " 31%|███▏      | 302/964 [43:09<1:33:25,  8.47s/it]"
     ]
    },
    {
     "name": "stdout",
     "output_type": "stream",
     "text": [
      "min:  0.0 max:  217.2849826812744 step:  0.8520979712991154\n"
     ]
    },
    {
     "name": "stderr",
     "output_type": "stream",
     "text": [
      "\r",
      " 31%|███▏      | 303/964 [43:18<1:33:26,  8.48s/it]"
     ]
    },
    {
     "name": "stdout",
     "output_type": "stream",
     "text": [
      "min:  0.0 max:  217.2849826812744 step:  0.8520979712991154\n"
     ]
    },
    {
     "name": "stderr",
     "output_type": "stream",
     "text": [
      "\r",
      " 32%|███▏      | 304/964 [43:26<1:33:14,  8.48s/it]"
     ]
    },
    {
     "name": "stdout",
     "output_type": "stream",
     "text": [
      "min:  0.0 max:  217.2849826812744 step:  0.8520979712991154\n"
     ]
    },
    {
     "name": "stderr",
     "output_type": "stream",
     "text": [
      "\r",
      " 32%|███▏      | 305/964 [43:35<1:34:19,  8.59s/it]"
     ]
    },
    {
     "name": "stdout",
     "output_type": "stream",
     "text": [
      "min:  0.0 max:  222.1772918701172 step:  0.8712834975298713\n"
     ]
    },
    {
     "name": "stderr",
     "output_type": "stream",
     "text": [
      "\r",
      " 32%|███▏      | 306/964 [43:44<1:35:12,  8.68s/it]"
     ]
    },
    {
     "name": "stdout",
     "output_type": "stream",
     "text": [
      "min:  0.0 max:  222.1772918701172 step:  0.8712834975298713\n"
     ]
    },
    {
     "name": "stderr",
     "output_type": "stream",
     "text": [
      "\r",
      " 32%|███▏      | 307/964 [43:52<1:34:17,  8.61s/it]"
     ]
    },
    {
     "name": "stdout",
     "output_type": "stream",
     "text": [
      "min:  0.0 max:  222.1772918701172 step:  0.8712834975298713\n"
     ]
    },
    {
     "name": "stderr",
     "output_type": "stream",
     "text": [
      "\r",
      " 32%|███▏      | 308/964 [44:01<1:34:20,  8.63s/it]"
     ]
    },
    {
     "name": "stdout",
     "output_type": "stream",
     "text": [
      "min:  0.0 max:  222.1772918701172 step:  0.8712834975298713\n"
     ]
    },
    {
     "name": "stderr",
     "output_type": "stream",
     "text": [
      "\r",
      " 32%|███▏      | 309/964 [44:10<1:33:49,  8.59s/it]"
     ]
    },
    {
     "name": "stdout",
     "output_type": "stream",
     "text": [
      "min:  0.0 max:  222.1772918701172 step:  0.8712834975298713\n"
     ]
    },
    {
     "name": "stderr",
     "output_type": "stream",
     "text": [
      "\r",
      " 32%|███▏      | 310/964 [44:18<1:33:32,  8.58s/it]"
     ]
    },
    {
     "name": "stdout",
     "output_type": "stream",
     "text": [
      "min:  0.0 max:  222.1772918701172 step:  0.8712834975298713\n"
     ]
    },
    {
     "name": "stderr",
     "output_type": "stream",
     "text": [
      "\r",
      " 32%|███▏      | 311/964 [44:27<1:33:15,  8.57s/it]"
     ]
    },
    {
     "name": "stdout",
     "output_type": "stream",
     "text": [
      "min:  0.0 max:  222.1772918701172 step:  0.8712834975298713\n"
     ]
    },
    {
     "name": "stderr",
     "output_type": "stream",
     "text": [
      "\r",
      " 32%|███▏      | 312/964 [44:35<1:32:10,  8.48s/it]"
     ]
    },
    {
     "name": "stdout",
     "output_type": "stream",
     "text": [
      "min:  0.0 max:  222.1772918701172 step:  0.8712834975298713\n"
     ]
    },
    {
     "name": "stderr",
     "output_type": "stream",
     "text": [
      "\r",
      " 32%|███▏      | 313/964 [44:44<1:32:43,  8.55s/it]"
     ]
    },
    {
     "name": "stdout",
     "output_type": "stream",
     "text": [
      "min:  0.0 max:  222.1772918701172 step:  0.8712834975298713\n"
     ]
    },
    {
     "name": "stderr",
     "output_type": "stream",
     "text": [
      "\r",
      " 33%|███▎      | 314/964 [44:52<1:32:29,  8.54s/it]"
     ]
    },
    {
     "name": "stdout",
     "output_type": "stream",
     "text": [
      "min:  0.0 max:  222.1772918701172 step:  0.8712834975298713\n"
     ]
    },
    {
     "name": "stderr",
     "output_type": "stream",
     "text": [
      "\r",
      " 33%|███▎      | 315/964 [45:01<1:32:47,  8.58s/it]"
     ]
    },
    {
     "name": "stdout",
     "output_type": "stream",
     "text": [
      "min:  0.0 max:  222.1772918701172 step:  0.8712834975298713\n"
     ]
    },
    {
     "name": "stderr",
     "output_type": "stream",
     "text": [
      "\r",
      " 33%|███▎      | 316/964 [45:09<1:32:45,  8.59s/it]"
     ]
    },
    {
     "name": "stdout",
     "output_type": "stream",
     "text": [
      "min:  0.0 max:  222.1772918701172 step:  0.8712834975298713\n"
     ]
    },
    {
     "name": "stderr",
     "output_type": "stream",
     "text": [
      "\r",
      " 33%|███▎      | 317/964 [45:18<1:31:28,  8.48s/it]"
     ]
    },
    {
     "name": "stdout",
     "output_type": "stream",
     "text": [
      "min:  0.0 max:  222.1772918701172 step:  0.8712834975298713\n"
     ]
    },
    {
     "name": "stderr",
     "output_type": "stream",
     "text": [
      "\r",
      " 33%|███▎      | 318/964 [45:26<1:31:20,  8.48s/it]"
     ]
    },
    {
     "name": "stdout",
     "output_type": "stream",
     "text": [
      "min:  0.0 max:  222.1772918701172 step:  0.8712834975298713\n"
     ]
    },
    {
     "name": "stderr",
     "output_type": "stream",
     "text": [
      "\r",
      " 33%|███▎      | 319/964 [45:35<1:31:25,  8.51s/it]"
     ]
    },
    {
     "name": "stdout",
     "output_type": "stream",
     "text": [
      "min:  0.0 max:  222.1772918701172 step:  0.8712834975298713\n"
     ]
    },
    {
     "name": "stderr",
     "output_type": "stream",
     "text": [
      "\r",
      " 33%|███▎      | 320/964 [45:43<1:31:05,  8.49s/it]"
     ]
    },
    {
     "name": "stdout",
     "output_type": "stream",
     "text": [
      "min:  0.0 max:  222.1772918701172 step:  0.8712834975298713\n"
     ]
    },
    {
     "name": "stderr",
     "output_type": "stream",
     "text": [
      "\r",
      " 33%|███▎      | 321/964 [45:52<1:30:49,  8.47s/it]"
     ]
    },
    {
     "name": "stdout",
     "output_type": "stream",
     "text": [
      "min:  0.0 max:  222.1772918701172 step:  0.8712834975298713\n"
     ]
    },
    {
     "name": "stderr",
     "output_type": "stream",
     "text": [
      "\r",
      " 33%|███▎      | 322/964 [46:00<1:30:45,  8.48s/it]"
     ]
    },
    {
     "name": "stdout",
     "output_type": "stream",
     "text": [
      "min:  0.0 max:  222.1772918701172 step:  0.8712834975298713\n"
     ]
    },
    {
     "name": "stderr",
     "output_type": "stream",
     "text": [
      "\r",
      " 34%|███▎      | 323/964 [46:08<1:30:04,  8.43s/it]"
     ]
    },
    {
     "name": "stdout",
     "output_type": "stream",
     "text": [
      "min:  0.0 max:  222.1772918701172 step:  0.8712834975298713\n"
     ]
    },
    {
     "name": "stderr",
     "output_type": "stream",
     "text": [
      "\r",
      " 34%|███▎      | 324/964 [46:17<1:30:48,  8.51s/it]"
     ]
    },
    {
     "name": "stdout",
     "output_type": "stream",
     "text": [
      "min:  0.0 max:  222.1772918701172 step:  0.8712834975298713\n"
     ]
    },
    {
     "name": "stderr",
     "output_type": "stream",
     "text": [
      "\r",
      " 34%|███▎      | 325/964 [46:25<1:29:46,  8.43s/it]"
     ]
    },
    {
     "name": "stdout",
     "output_type": "stream",
     "text": [
      "min:  0.0 max:  222.1772918701172 step:  0.8712834975298713\n"
     ]
    },
    {
     "name": "stderr",
     "output_type": "stream",
     "text": [
      "\r",
      " 34%|███▍      | 326/964 [46:34<1:28:44,  8.35s/it]"
     ]
    },
    {
     "name": "stdout",
     "output_type": "stream",
     "text": [
      "min:  0.0 max:  222.1772918701172 step:  0.8712834975298713\n"
     ]
    },
    {
     "name": "stderr",
     "output_type": "stream",
     "text": [
      "\r",
      " 34%|███▍      | 327/964 [46:42<1:28:09,  8.30s/it]"
     ]
    },
    {
     "name": "stdout",
     "output_type": "stream",
     "text": [
      "min:  0.0 max:  222.1772918701172 step:  0.8712834975298713\n"
     ]
    },
    {
     "name": "stderr",
     "output_type": "stream",
     "text": [
      "\r",
      " 34%|███▍      | 328/964 [46:50<1:27:49,  8.29s/it]"
     ]
    },
    {
     "name": "stdout",
     "output_type": "stream",
     "text": [
      "min:  0.0 max:  222.1772918701172 step:  0.8712834975298713\n"
     ]
    },
    {
     "name": "stderr",
     "output_type": "stream",
     "text": [
      "\r",
      " 34%|███▍      | 329/964 [46:58<1:26:58,  8.22s/it]"
     ]
    },
    {
     "name": "stdout",
     "output_type": "stream",
     "text": [
      "min:  0.0 max:  222.1772918701172 step:  0.8712834975298713\n"
     ]
    },
    {
     "name": "stderr",
     "output_type": "stream",
     "text": [
      "\r",
      " 34%|███▍      | 330/964 [47:06<1:26:46,  8.21s/it]"
     ]
    },
    {
     "name": "stdout",
     "output_type": "stream",
     "text": [
      "min:  0.0 max:  222.1772918701172 step:  0.8712834975298713\n"
     ]
    },
    {
     "name": "stderr",
     "output_type": "stream",
     "text": [
      "\r",
      " 34%|███▍      | 331/964 [47:15<1:27:21,  8.28s/it]"
     ]
    },
    {
     "name": "stdout",
     "output_type": "stream",
     "text": [
      "min:  0.0 max:  222.1772918701172 step:  0.8712834975298713\n"
     ]
    },
    {
     "name": "stderr",
     "output_type": "stream",
     "text": [
      "\r",
      " 34%|███▍      | 332/964 [47:23<1:28:13,  8.38s/it]"
     ]
    },
    {
     "name": "stdout",
     "output_type": "stream",
     "text": [
      "min:  0.0 max:  222.1772918701172 step:  0.8712834975298713\n"
     ]
    },
    {
     "name": "stderr",
     "output_type": "stream",
     "text": [
      "\r",
      " 35%|███▍      | 333/964 [47:32<1:27:43,  8.34s/it]"
     ]
    },
    {
     "name": "stdout",
     "output_type": "stream",
     "text": [
      "min:  0.0 max:  222.1772918701172 step:  0.8712834975298713\n"
     ]
    },
    {
     "name": "stderr",
     "output_type": "stream",
     "text": [
      "\r",
      " 35%|███▍      | 334/964 [47:40<1:28:08,  8.39s/it]"
     ]
    },
    {
     "name": "stdout",
     "output_type": "stream",
     "text": [
      "min:  0.0 max:  222.1772918701172 step:  0.8712834975298713\n"
     ]
    },
    {
     "name": "stderr",
     "output_type": "stream",
     "text": [
      "\r",
      " 35%|███▍      | 335/964 [47:48<1:27:53,  8.38s/it]"
     ]
    },
    {
     "name": "stdout",
     "output_type": "stream",
     "text": [
      "min:  0.0 max:  222.1772918701172 step:  0.8712834975298713\n"
     ]
    },
    {
     "name": "stderr",
     "output_type": "stream",
     "text": [
      "\r",
      " 35%|███▍      | 336/964 [47:57<1:28:19,  8.44s/it]"
     ]
    },
    {
     "name": "stdout",
     "output_type": "stream",
     "text": [
      "min:  0.0 max:  222.1772918701172 step:  0.8712834975298713\n"
     ]
    },
    {
     "name": "stderr",
     "output_type": "stream",
     "text": [
      "\r",
      " 35%|███▍      | 337/964 [48:06<1:28:51,  8.50s/it]"
     ]
    },
    {
     "name": "stdout",
     "output_type": "stream",
     "text": [
      "min:  0.0 max:  222.1772918701172 step:  0.8712834975298713\n"
     ]
    },
    {
     "name": "stderr",
     "output_type": "stream",
     "text": [
      "\r",
      " 35%|███▌      | 338/964 [48:14<1:29:23,  8.57s/it]"
     ]
    },
    {
     "name": "stdout",
     "output_type": "stream",
     "text": [
      "min:  0.0 max:  222.1772918701172 step:  0.8712834975298713\n"
     ]
    },
    {
     "name": "stderr",
     "output_type": "stream",
     "text": [
      "\r",
      " 35%|███▌      | 339/964 [48:23<1:29:02,  8.55s/it]"
     ]
    },
    {
     "name": "stdout",
     "output_type": "stream",
     "text": [
      "min:  0.0 max:  222.1772918701172 step:  0.8712834975298713\n"
     ]
    },
    {
     "name": "stderr",
     "output_type": "stream",
     "text": [
      "\r",
      " 35%|███▌      | 340/964 [48:31<1:29:15,  8.58s/it]"
     ]
    },
    {
     "name": "stdout",
     "output_type": "stream",
     "text": [
      "min:  0.0 max:  222.1772918701172 step:  0.8712834975298713\n"
     ]
    },
    {
     "name": "stderr",
     "output_type": "stream",
     "text": [
      "\r",
      " 35%|███▌      | 341/964 [48:40<1:28:17,  8.50s/it]"
     ]
    },
    {
     "name": "stdout",
     "output_type": "stream",
     "text": [
      "min:  0.0 max:  222.1772918701172 step:  0.8712834975298713\n"
     ]
    },
    {
     "name": "stderr",
     "output_type": "stream",
     "text": [
      "\r",
      " 35%|███▌      | 342/964 [48:48<1:28:13,  8.51s/it]"
     ]
    },
    {
     "name": "stdout",
     "output_type": "stream",
     "text": [
      "min:  0.0 max:  222.1772918701172 step:  0.8712834975298713\n"
     ]
    },
    {
     "name": "stderr",
     "output_type": "stream",
     "text": [
      "\r",
      " 36%|███▌      | 343/964 [48:57<1:28:24,  8.54s/it]"
     ]
    },
    {
     "name": "stdout",
     "output_type": "stream",
     "text": [
      "min:  0.0 max:  222.1772918701172 step:  0.8712834975298713\n"
     ]
    },
    {
     "name": "stderr",
     "output_type": "stream",
     "text": [
      "\r",
      " 36%|███▌      | 344/964 [49:05<1:27:42,  8.49s/it]"
     ]
    },
    {
     "name": "stdout",
     "output_type": "stream",
     "text": [
      "min:  0.0 max:  222.1772918701172 step:  0.8712834975298713\n"
     ]
    },
    {
     "name": "stderr",
     "output_type": "stream",
     "text": [
      "\r",
      " 36%|███▌      | 345/964 [49:14<1:27:18,  8.46s/it]"
     ]
    },
    {
     "name": "stdout",
     "output_type": "stream",
     "text": [
      "min:  0.0 max:  222.1772918701172 step:  0.8712834975298713\n"
     ]
    },
    {
     "name": "stderr",
     "output_type": "stream",
     "text": [
      "\r",
      " 36%|███▌      | 346/964 [49:22<1:26:57,  8.44s/it]"
     ]
    },
    {
     "name": "stdout",
     "output_type": "stream",
     "text": [
      "min:  0.0 max:  222.1772918701172 step:  0.8712834975298713\n"
     ]
    },
    {
     "name": "stderr",
     "output_type": "stream",
     "text": [
      "\r",
      " 36%|███▌      | 347/964 [49:30<1:25:45,  8.34s/it]"
     ]
    },
    {
     "name": "stdout",
     "output_type": "stream",
     "text": [
      "min:  0.0 max:  222.1772918701172 step:  0.8712834975298713\n"
     ]
    },
    {
     "name": "stderr",
     "output_type": "stream",
     "text": [
      "\r",
      " 36%|███▌      | 348/964 [49:39<1:25:35,  8.34s/it]"
     ]
    },
    {
     "name": "stdout",
     "output_type": "stream",
     "text": [
      "min:  0.0 max:  222.1772918701172 step:  0.8712834975298713\n"
     ]
    },
    {
     "name": "stderr",
     "output_type": "stream",
     "text": [
      "\r",
      " 36%|███▌      | 349/964 [49:47<1:25:27,  8.34s/it]"
     ]
    },
    {
     "name": "stdout",
     "output_type": "stream",
     "text": [
      "min:  0.0 max:  222.1772918701172 step:  0.8712834975298713\n"
     ]
    },
    {
     "name": "stderr",
     "output_type": "stream",
     "text": [
      "\r",
      " 36%|███▋      | 350/964 [49:55<1:24:15,  8.23s/it]"
     ]
    },
    {
     "name": "stdout",
     "output_type": "stream",
     "text": [
      "min:  0.0 max:  222.1772918701172 step:  0.8712834975298713\n"
     ]
    },
    {
     "name": "stderr",
     "output_type": "stream",
     "text": [
      "\r",
      " 36%|███▋      | 351/964 [50:03<1:24:04,  8.23s/it]"
     ]
    },
    {
     "name": "stdout",
     "output_type": "stream",
     "text": [
      "min:  0.0 max:  237.1794891357422 step:  0.9301156436695772\n"
     ]
    },
    {
     "name": "stderr",
     "output_type": "stream",
     "text": [
      "\r",
      " 37%|███▋      | 352/964 [50:12<1:24:47,  8.31s/it]"
     ]
    },
    {
     "name": "stdout",
     "output_type": "stream",
     "text": [
      "min:  0.0 max:  237.1794891357422 step:  0.9301156436695772\n"
     ]
    },
    {
     "name": "stderr",
     "output_type": "stream",
     "text": [
      "\r",
      " 37%|███▋      | 353/964 [50:20<1:25:22,  8.38s/it]"
     ]
    },
    {
     "name": "stdout",
     "output_type": "stream",
     "text": [
      "min:  0.0 max:  237.1794891357422 step:  0.9301156436695772\n"
     ]
    },
    {
     "name": "stderr",
     "output_type": "stream",
     "text": [
      "\r",
      " 37%|███▋      | 354/964 [50:29<1:25:07,  8.37s/it]"
     ]
    },
    {
     "name": "stdout",
     "output_type": "stream",
     "text": [
      "min:  0.0 max:  237.1794891357422 step:  0.9301156436695772\n"
     ]
    },
    {
     "name": "stderr",
     "output_type": "stream",
     "text": [
      "\r",
      " 37%|███▋      | 355/964 [50:37<1:24:05,  8.28s/it]"
     ]
    },
    {
     "name": "stdout",
     "output_type": "stream",
     "text": [
      "min:  0.0 max:  237.1794891357422 step:  0.9301156436695772\n"
     ]
    },
    {
     "name": "stderr",
     "output_type": "stream",
     "text": [
      "\r",
      " 37%|███▋      | 356/964 [50:45<1:24:27,  8.34s/it]"
     ]
    },
    {
     "name": "stdout",
     "output_type": "stream",
     "text": [
      "min:  0.0 max:  237.1794891357422 step:  0.9301156436695772\n"
     ]
    },
    {
     "name": "stderr",
     "output_type": "stream",
     "text": [
      "\r",
      " 37%|███▋      | 357/964 [50:53<1:24:26,  8.35s/it]"
     ]
    },
    {
     "name": "stdout",
     "output_type": "stream",
     "text": [
      "min:  0.0 max:  237.1794891357422 step:  0.9301156436695772\n"
     ]
    },
    {
     "name": "stderr",
     "output_type": "stream",
     "text": [
      "\r",
      " 37%|███▋      | 358/964 [51:02<1:23:55,  8.31s/it]"
     ]
    },
    {
     "name": "stdout",
     "output_type": "stream",
     "text": [
      "min:  0.0 max:  237.1794891357422 step:  0.9301156436695772\n"
     ]
    },
    {
     "name": "stderr",
     "output_type": "stream",
     "text": [
      "\r",
      " 37%|███▋      | 359/964 [51:10<1:23:03,  8.24s/it]"
     ]
    },
    {
     "name": "stdout",
     "output_type": "stream",
     "text": [
      "min:  0.0 max:  237.1794891357422 step:  0.9301156436695772\n"
     ]
    },
    {
     "name": "stderr",
     "output_type": "stream",
     "text": [
      "\r",
      " 37%|███▋      | 360/964 [51:18<1:23:04,  8.25s/it]"
     ]
    },
    {
     "name": "stdout",
     "output_type": "stream",
     "text": [
      "min:  0.0 max:  237.1794891357422 step:  0.9301156436695772\n"
     ]
    },
    {
     "name": "stderr",
     "output_type": "stream",
     "text": [
      "\r",
      " 37%|███▋      | 361/964 [51:26<1:23:04,  8.27s/it]"
     ]
    },
    {
     "name": "stdout",
     "output_type": "stream",
     "text": [
      "min:  0.0 max:  237.1794891357422 step:  0.9301156436695772\n"
     ]
    },
    {
     "name": "stderr",
     "output_type": "stream",
     "text": [
      "\r",
      " 38%|███▊      | 362/964 [51:35<1:23:11,  8.29s/it]"
     ]
    },
    {
     "name": "stdout",
     "output_type": "stream",
     "text": [
      "min:  0.0 max:  237.1794891357422 step:  0.9301156436695772\n"
     ]
    },
    {
     "name": "stderr",
     "output_type": "stream",
     "text": [
      "\r",
      " 38%|███▊      | 363/964 [51:43<1:23:21,  8.32s/it]"
     ]
    },
    {
     "name": "stdout",
     "output_type": "stream",
     "text": [
      "min:  0.0 max:  237.1794891357422 step:  0.9301156436695772\n"
     ]
    },
    {
     "name": "stderr",
     "output_type": "stream",
     "text": [
      "\r",
      " 38%|███▊      | 364/964 [51:52<1:23:50,  8.38s/it]"
     ]
    },
    {
     "name": "stdout",
     "output_type": "stream",
     "text": [
      "min:  0.0 max:  237.1794891357422 step:  0.9301156436695772\n"
     ]
    },
    {
     "name": "stderr",
     "output_type": "stream",
     "text": [
      "\r",
      " 38%|███▊      | 365/964 [52:00<1:23:46,  8.39s/it]"
     ]
    },
    {
     "name": "stdout",
     "output_type": "stream",
     "text": [
      "min:  0.0 max:  237.1794891357422 step:  0.9301156436695772\n"
     ]
    },
    {
     "name": "stderr",
     "output_type": "stream",
     "text": [
      "\r",
      " 38%|███▊      | 366/964 [52:08<1:23:23,  8.37s/it]"
     ]
    },
    {
     "name": "stdout",
     "output_type": "stream",
     "text": [
      "min:  0.0 max:  210.40439414978027 step:  0.8251152711756089\n"
     ]
    },
    {
     "name": "stderr",
     "output_type": "stream",
     "text": [
      "\r",
      " 38%|███▊      | 367/964 [52:17<1:23:43,  8.41s/it]"
     ]
    },
    {
     "name": "stdout",
     "output_type": "stream",
     "text": [
      "min:  0.0 max:  210.40439414978027 step:  0.8251152711756089\n"
     ]
    },
    {
     "name": "stderr",
     "output_type": "stream",
     "text": [
      "\r",
      " 38%|███▊      | 368/964 [52:25<1:23:41,  8.43s/it]"
     ]
    },
    {
     "name": "stdout",
     "output_type": "stream",
     "text": [
      "min:  0.0 max:  210.40439414978027 step:  0.8251152711756089\n"
     ]
    },
    {
     "name": "stderr",
     "output_type": "stream",
     "text": [
      "\r",
      " 38%|███▊      | 369/964 [52:34<1:23:38,  8.43s/it]"
     ]
    },
    {
     "name": "stdout",
     "output_type": "stream",
     "text": [
      "min:  0.0 max:  210.40439414978027 step:  0.8251152711756089\n"
     ]
    },
    {
     "name": "stderr",
     "output_type": "stream",
     "text": [
      "\r",
      " 38%|███▊      | 370/964 [52:42<1:23:37,  8.45s/it]"
     ]
    },
    {
     "name": "stdout",
     "output_type": "stream",
     "text": [
      "min:  0.0 max:  210.40439414978027 step:  0.8251152711756089\n"
     ]
    },
    {
     "name": "stderr",
     "output_type": "stream",
     "text": [
      "\r",
      " 38%|███▊      | 371/964 [52:51<1:23:18,  8.43s/it]"
     ]
    },
    {
     "name": "stdout",
     "output_type": "stream",
     "text": [
      "min:  0.0 max:  210.40439414978027 step:  0.8251152711756089\n"
     ]
    },
    {
     "name": "stderr",
     "output_type": "stream",
     "text": [
      "\r",
      " 39%|███▊      | 372/964 [52:59<1:22:40,  8.38s/it]"
     ]
    },
    {
     "name": "stdout",
     "output_type": "stream",
     "text": [
      "min:  0.0 max:  210.40439414978027 step:  0.8251152711756089\n"
     ]
    },
    {
     "name": "stderr",
     "output_type": "stream",
     "text": [
      "\r",
      " 39%|███▊      | 373/964 [53:07<1:21:50,  8.31s/it]"
     ]
    },
    {
     "name": "stdout",
     "output_type": "stream",
     "text": [
      "min:  0.0 max:  210.40439414978027 step:  0.8251152711756089\n"
     ]
    },
    {
     "name": "stderr",
     "output_type": "stream",
     "text": [
      "\r",
      " 39%|███▉      | 374/964 [53:15<1:21:29,  8.29s/it]"
     ]
    },
    {
     "name": "stdout",
     "output_type": "stream",
     "text": [
      "min:  0.0 max:  210.40439414978027 step:  0.8251152711756089\n"
     ]
    },
    {
     "name": "stderr",
     "output_type": "stream",
     "text": [
      "\r",
      " 39%|███▉      | 375/964 [53:23<1:21:18,  8.28s/it]"
     ]
    },
    {
     "name": "stdout",
     "output_type": "stream",
     "text": [
      "min:  0.0 max:  210.40439414978027 step:  0.8251152711756089\n"
     ]
    },
    {
     "name": "stderr",
     "output_type": "stream",
     "text": [
      "\r",
      " 39%|███▉      | 376/964 [53:32<1:20:38,  8.23s/it]"
     ]
    },
    {
     "name": "stdout",
     "output_type": "stream",
     "text": [
      "min:  0.0 max:  210.40439414978027 step:  0.8251152711756089\n"
     ]
    },
    {
     "name": "stderr",
     "output_type": "stream",
     "text": [
      "\r",
      " 39%|███▉      | 377/964 [53:40<1:20:22,  8.22s/it]"
     ]
    },
    {
     "name": "stdout",
     "output_type": "stream",
     "text": [
      "min:  0.0 max:  210.40439414978027 step:  0.8251152711756089\n"
     ]
    },
    {
     "name": "stderr",
     "output_type": "stream",
     "text": [
      "\r",
      " 39%|███▉      | 378/964 [53:48<1:20:05,  8.20s/it]"
     ]
    },
    {
     "name": "stdout",
     "output_type": "stream",
     "text": [
      "min:  0.0 max:  210.40439414978027 step:  0.8251152711756089\n"
     ]
    },
    {
     "name": "stderr",
     "output_type": "stream",
     "text": [
      "\r",
      " 39%|███▉      | 379/964 [53:56<1:19:56,  8.20s/it]"
     ]
    },
    {
     "name": "stdout",
     "output_type": "stream",
     "text": [
      "min:  0.0 max:  210.40439414978027 step:  0.8251152711756089\n"
     ]
    },
    {
     "name": "stderr",
     "output_type": "stream",
     "text": [
      "\r",
      " 39%|███▉      | 380/964 [54:05<1:20:19,  8.25s/it]"
     ]
    },
    {
     "name": "stdout",
     "output_type": "stream",
     "text": [
      "min:  0.0 max:  210.40439414978027 step:  0.8251152711756089\n"
     ]
    },
    {
     "name": "stderr",
     "output_type": "stream",
     "text": [
      "\r",
      " 40%|███▉      | 381/964 [54:13<1:20:08,  8.25s/it]"
     ]
    },
    {
     "name": "stdout",
     "output_type": "stream",
     "text": [
      "min:  0.0 max:  210.40439414978027 step:  0.8251152711756089\n"
     ]
    },
    {
     "name": "stderr",
     "output_type": "stream",
     "text": [
      "\r",
      " 40%|███▉      | 382/964 [54:21<1:19:30,  8.20s/it]"
     ]
    },
    {
     "name": "stdout",
     "output_type": "stream",
     "text": [
      "min:  0.0 max:  210.40439414978027 step:  0.8251152711756089\n"
     ]
    },
    {
     "name": "stderr",
     "output_type": "stream",
     "text": [
      "\r",
      " 40%|███▉      | 383/964 [54:29<1:19:24,  8.20s/it]"
     ]
    },
    {
     "name": "stdout",
     "output_type": "stream",
     "text": [
      "min:  0.0 max:  210.40439414978027 step:  0.8251152711756089\n"
     ]
    },
    {
     "name": "stderr",
     "output_type": "stream",
     "text": [
      "\r",
      " 40%|███▉      | 384/964 [54:37<1:19:06,  8.18s/it]"
     ]
    },
    {
     "name": "stdout",
     "output_type": "stream",
     "text": [
      "min:  0.0 max:  210.40439414978027 step:  0.8251152711756089\n"
     ]
    },
    {
     "name": "stderr",
     "output_type": "stream",
     "text": [
      "\r",
      " 40%|███▉      | 385/964 [54:45<1:18:36,  8.15s/it]"
     ]
    },
    {
     "name": "stdout",
     "output_type": "stream",
     "text": [
      "min:  0.0 max:  210.40439414978027 step:  0.8251152711756089\n"
     ]
    },
    {
     "name": "stderr",
     "output_type": "stream",
     "text": [
      "\r",
      " 40%|████      | 386/964 [54:53<1:18:31,  8.15s/it]"
     ]
    },
    {
     "name": "stdout",
     "output_type": "stream",
     "text": [
      "min:  0.0 max:  210.40439414978027 step:  0.8251152711756089\n"
     ]
    },
    {
     "name": "stderr",
     "output_type": "stream",
     "text": [
      "\r",
      " 40%|████      | 387/964 [55:02<1:18:44,  8.19s/it]"
     ]
    },
    {
     "name": "stdout",
     "output_type": "stream",
     "text": [
      "min:  0.0 max:  210.40439414978027 step:  0.8251152711756089\n"
     ]
    },
    {
     "name": "stderr",
     "output_type": "stream",
     "text": [
      "\r",
      " 40%|████      | 388/964 [55:10<1:19:10,  8.25s/it]"
     ]
    },
    {
     "name": "stdout",
     "output_type": "stream",
     "text": [
      "min:  0.0 max:  210.40439414978027 step:  0.8251152711756089\n"
     ]
    },
    {
     "name": "stderr",
     "output_type": "stream",
     "text": [
      "\r",
      " 40%|████      | 389/964 [55:19<1:19:37,  8.31s/it]"
     ]
    },
    {
     "name": "stdout",
     "output_type": "stream",
     "text": [
      "min:  0.0 max:  210.40439414978027 step:  0.8251152711756089\n"
     ]
    },
    {
     "name": "stderr",
     "output_type": "stream",
     "text": [
      "\r",
      " 40%|████      | 390/964 [55:27<1:19:50,  8.35s/it]"
     ]
    },
    {
     "name": "stdout",
     "output_type": "stream",
     "text": [
      "min:  0.0 max:  210.40439414978027 step:  0.8251152711756089\n"
     ]
    },
    {
     "name": "stderr",
     "output_type": "stream",
     "text": [
      "\r",
      " 41%|████      | 391/964 [55:35<1:20:14,  8.40s/it]"
     ]
    },
    {
     "name": "stdout",
     "output_type": "stream",
     "text": [
      "min:  0.0 max:  210.40439414978027 step:  0.8251152711756089\n"
     ]
    },
    {
     "name": "stderr",
     "output_type": "stream",
     "text": [
      "\r",
      " 41%|████      | 392/964 [55:44<1:20:57,  8.49s/it]"
     ]
    },
    {
     "name": "stdout",
     "output_type": "stream",
     "text": [
      "min:  0.0 max:  210.40439414978027 step:  0.8251152711756089\n"
     ]
    },
    {
     "name": "stderr",
     "output_type": "stream",
     "text": [
      "\r",
      " 41%|████      | 393/964 [55:52<1:20:14,  8.43s/it]"
     ]
    },
    {
     "name": "stdout",
     "output_type": "stream",
     "text": [
      "min:  0.0 max:  210.40439414978027 step:  0.8251152711756089\n"
     ]
    },
    {
     "name": "stderr",
     "output_type": "stream",
     "text": [
      "\r",
      " 41%|████      | 394/964 [56:01<1:20:21,  8.46s/it]"
     ]
    },
    {
     "name": "stdout",
     "output_type": "stream",
     "text": [
      "min:  0.0 max:  210.40439414978027 step:  0.8251152711756089\n"
     ]
    },
    {
     "name": "stderr",
     "output_type": "stream",
     "text": [
      "\r",
      " 41%|████      | 395/964 [56:09<1:19:05,  8.34s/it]"
     ]
    },
    {
     "name": "stdout",
     "output_type": "stream",
     "text": [
      "min:  0.0 max:  210.40439414978027 step:  0.8251152711756089\n"
     ]
    },
    {
     "name": "stderr",
     "output_type": "stream",
     "text": [
      "\r",
      " 41%|████      | 396/964 [56:17<1:17:36,  8.20s/it]"
     ]
    },
    {
     "name": "stdout",
     "output_type": "stream",
     "text": [
      "min:  0.0 max:  210.40439414978027 step:  0.8251152711756089\n"
     ]
    },
    {
     "name": "stderr",
     "output_type": "stream",
     "text": [
      "\r",
      " 41%|████      | 397/964 [56:25<1:17:19,  8.18s/it]"
     ]
    },
    {
     "name": "stdout",
     "output_type": "stream",
     "text": [
      "min:  0.0 max:  210.40439414978027 step:  0.8251152711756089\n"
     ]
    },
    {
     "name": "stderr",
     "output_type": "stream",
     "text": [
      "\r",
      " 41%|████▏     | 398/964 [56:33<1:16:39,  8.13s/it]"
     ]
    },
    {
     "name": "stdout",
     "output_type": "stream",
     "text": [
      "min:  0.0 max:  210.40439414978027 step:  0.8251152711756089\n"
     ]
    },
    {
     "name": "stderr",
     "output_type": "stream",
     "text": [
      "\r",
      " 41%|████▏     | 399/964 [56:41<1:16:32,  8.13s/it]"
     ]
    },
    {
     "name": "stdout",
     "output_type": "stream",
     "text": [
      "min:  0.0 max:  210.40439414978027 step:  0.8251152711756089\n"
     ]
    },
    {
     "name": "stderr",
     "output_type": "stream",
     "text": [
      "\r",
      " 41%|████▏     | 400/964 [56:49<1:16:49,  8.17s/it]"
     ]
    },
    {
     "name": "stdout",
     "output_type": "stream",
     "text": [
      "min:  0.0 max:  210.40439414978027 step:  0.8251152711756089\n"
     ]
    },
    {
     "name": "stderr",
     "output_type": "stream",
     "text": [
      "\r",
      " 42%|████▏     | 401/964 [56:58<1:16:27,  8.15s/it]"
     ]
    },
    {
     "name": "stdout",
     "output_type": "stream",
     "text": [
      "min:  0.0 max:  210.40439414978027 step:  0.8251152711756089\n"
     ]
    },
    {
     "name": "stderr",
     "output_type": "stream",
     "text": [
      "\r",
      " 42%|████▏     | 402/964 [57:06<1:17:14,  8.25s/it]"
     ]
    },
    {
     "name": "stdout",
     "output_type": "stream",
     "text": [
      "min:  0.0 max:  210.40439414978027 step:  0.8251152711756089\n"
     ]
    },
    {
     "name": "stderr",
     "output_type": "stream",
     "text": [
      "\r",
      " 42%|████▏     | 403/964 [57:14<1:16:51,  8.22s/it]"
     ]
    },
    {
     "name": "stdout",
     "output_type": "stream",
     "text": [
      "min:  0.0 max:  210.40439414978027 step:  0.8251152711756089\n"
     ]
    },
    {
     "name": "stderr",
     "output_type": "stream",
     "text": [
      "\r",
      " 42%|████▏     | 404/964 [57:22<1:16:25,  8.19s/it]"
     ]
    },
    {
     "name": "stdout",
     "output_type": "stream",
     "text": [
      "min:  0.0 max:  210.40439414978027 step:  0.8251152711756089\n"
     ]
    },
    {
     "name": "stderr",
     "output_type": "stream",
     "text": [
      "\r",
      " 42%|████▏     | 405/964 [57:31<1:16:26,  8.20s/it]"
     ]
    },
    {
     "name": "stdout",
     "output_type": "stream",
     "text": [
      "min:  0.0 max:  210.40439414978027 step:  0.8251152711756089\n"
     ]
    },
    {
     "name": "stderr",
     "output_type": "stream",
     "text": [
      "\r",
      " 42%|████▏     | 406/964 [57:39<1:16:36,  8.24s/it]"
     ]
    },
    {
     "name": "stdout",
     "output_type": "stream",
     "text": [
      "min:  0.0 max:  210.40439414978027 step:  0.8251152711756089\n"
     ]
    },
    {
     "name": "stderr",
     "output_type": "stream",
     "text": [
      "\r",
      " 42%|████▏     | 407/964 [57:47<1:17:32,  8.35s/it]"
     ]
    },
    {
     "name": "stdout",
     "output_type": "stream",
     "text": [
      "min:  0.0 max:  210.40439414978027 step:  0.8251152711756089\n"
     ]
    },
    {
     "name": "stderr",
     "output_type": "stream",
     "text": [
      "\r",
      " 42%|████▏     | 408/964 [57:56<1:19:04,  8.53s/it]"
     ]
    },
    {
     "name": "stdout",
     "output_type": "stream",
     "text": [
      "min:  0.0 max:  210.40439414978027 step:  0.8251152711756089\n"
     ]
    },
    {
     "name": "stderr",
     "output_type": "stream",
     "text": [
      "\r",
      " 42%|████▏     | 409/964 [58:05<1:18:15,  8.46s/it]"
     ]
    },
    {
     "name": "stdout",
     "output_type": "stream",
     "text": [
      "min:  0.0 max:  210.40439414978027 step:  0.8251152711756089\n"
     ]
    },
    {
     "name": "stderr",
     "output_type": "stream",
     "text": [
      "\r",
      " 43%|████▎     | 410/964 [58:14<1:21:12,  8.80s/it]"
     ]
    },
    {
     "name": "stdout",
     "output_type": "stream",
     "text": [
      "min:  0.0 max:  210.40439414978027 step:  0.8251152711756089\n"
     ]
    },
    {
     "name": "stderr",
     "output_type": "stream",
     "text": [
      "\r",
      " 43%|████▎     | 411/964 [58:24<1:22:11,  8.92s/it]"
     ]
    },
    {
     "name": "stdout",
     "output_type": "stream",
     "text": [
      "min:  0.0 max:  210.40439414978027 step:  0.8251152711756089\n"
     ]
    },
    {
     "name": "stderr",
     "output_type": "stream",
     "text": [
      "\r",
      " 43%|████▎     | 412/964 [58:33<1:23:40,  9.10s/it]"
     ]
    },
    {
     "name": "stdout",
     "output_type": "stream",
     "text": [
      "min:  0.0 max:  210.40439414978027 step:  0.8251152711756089\n"
     ]
    },
    {
     "name": "stderr",
     "output_type": "stream",
     "text": [
      "\r",
      " 43%|████▎     | 413/964 [58:42<1:22:34,  8.99s/it]"
     ]
    },
    {
     "name": "stdout",
     "output_type": "stream",
     "text": [
      "min:  0.0 max:  210.40439414978027 step:  0.8251152711756089\n"
     ]
    },
    {
     "name": "stderr",
     "output_type": "stream",
     "text": [
      "\r",
      " 43%|████▎     | 414/964 [58:50<1:20:33,  8.79s/it]"
     ]
    },
    {
     "name": "stdout",
     "output_type": "stream",
     "text": [
      "min:  0.0 max:  210.40439414978027 step:  0.8251152711756089\n"
     ]
    },
    {
     "name": "stderr",
     "output_type": "stream",
     "text": [
      "\r",
      " 43%|████▎     | 415/964 [58:59<1:20:20,  8.78s/it]"
     ]
    },
    {
     "name": "stdout",
     "output_type": "stream",
     "text": [
      "min:  0.0 max:  210.40439414978027 step:  0.8251152711756089\n"
     ]
    },
    {
     "name": "stderr",
     "output_type": "stream",
     "text": [
      "\r",
      " 43%|████▎     | 416/964 [59:08<1:20:12,  8.78s/it]"
     ]
    },
    {
     "name": "stdout",
     "output_type": "stream",
     "text": [
      "min:  0.0 max:  210.40439414978027 step:  0.8251152711756089\n"
     ]
    },
    {
     "name": "stderr",
     "output_type": "stream",
     "text": [
      "\r",
      " 43%|████▎     | 417/964 [59:16<1:19:43,  8.74s/it]"
     ]
    },
    {
     "name": "stdout",
     "output_type": "stream",
     "text": [
      "min:  0.0 max:  210.40439414978027 step:  0.8251152711756089\n"
     ]
    },
    {
     "name": "stderr",
     "output_type": "stream",
     "text": [
      "\r",
      " 43%|████▎     | 418/964 [59:25<1:19:17,  8.71s/it]"
     ]
    },
    {
     "name": "stdout",
     "output_type": "stream",
     "text": [
      "min:  0.0 max:  210.40439414978027 step:  0.8251152711756089\n"
     ]
    },
    {
     "name": "stderr",
     "output_type": "stream",
     "text": [
      "\r",
      " 43%|████▎     | 419/964 [59:34<1:19:09,  8.71s/it]"
     ]
    },
    {
     "name": "stdout",
     "output_type": "stream",
     "text": [
      "min:  0.0 max:  210.40439414978027 step:  0.8251152711756089\n"
     ]
    },
    {
     "name": "stderr",
     "output_type": "stream",
     "text": [
      "\r",
      " 44%|████▎     | 420/964 [59:43<1:19:29,  8.77s/it]"
     ]
    },
    {
     "name": "stdout",
     "output_type": "stream",
     "text": [
      "min:  0.0 max:  210.40439414978027 step:  0.8251152711756089\n"
     ]
    },
    {
     "name": "stderr",
     "output_type": "stream",
     "text": [
      "\r",
      " 44%|████▎     | 421/964 [59:51<1:18:56,  8.72s/it]"
     ]
    },
    {
     "name": "stdout",
     "output_type": "stream",
     "text": [
      "min:  0.0 max:  210.40439414978027 step:  0.8251152711756089\n"
     ]
    },
    {
     "name": "stderr",
     "output_type": "stream",
     "text": [
      "\r",
      " 44%|████▍     | 422/964 [1:00:00<1:19:12,  8.77s/it]"
     ]
    },
    {
     "name": "stdout",
     "output_type": "stream",
     "text": [
      "min:  0.0 max:  210.40439414978027 step:  0.8251152711756089\n"
     ]
    },
    {
     "name": "stderr",
     "output_type": "stream",
     "text": [
      "\r",
      " 44%|████▍     | 423/964 [1:00:09<1:19:09,  8.78s/it]"
     ]
    },
    {
     "name": "stdout",
     "output_type": "stream",
     "text": [
      "min:  0.0 max:  210.40439414978027 step:  0.8251152711756089\n"
     ]
    },
    {
     "name": "stderr",
     "output_type": "stream",
     "text": [
      "\r",
      " 44%|████▍     | 424/964 [1:00:18<1:19:35,  8.84s/it]"
     ]
    },
    {
     "name": "stdout",
     "output_type": "stream",
     "text": [
      "min:  0.0 max:  210.40439414978027 step:  0.8251152711756089\n"
     ]
    },
    {
     "name": "stderr",
     "output_type": "stream",
     "text": [
      "\r",
      " 44%|████▍     | 425/964 [1:00:27<1:19:52,  8.89s/it]"
     ]
    },
    {
     "name": "stdout",
     "output_type": "stream",
     "text": [
      "min:  0.0 max:  210.40439414978027 step:  0.8251152711756089\n"
     ]
    },
    {
     "name": "stderr",
     "output_type": "stream",
     "text": [
      "\r",
      " 44%|████▍     | 426/964 [1:00:36<1:19:57,  8.92s/it]"
     ]
    },
    {
     "name": "stdout",
     "output_type": "stream",
     "text": [
      "min:  0.0 max:  210.40439414978027 step:  0.8251152711756089\n"
     ]
    },
    {
     "name": "stderr",
     "output_type": "stream",
     "text": [
      "\r",
      " 44%|████▍     | 427/964 [1:00:45<1:19:32,  8.89s/it]"
     ]
    },
    {
     "name": "stdout",
     "output_type": "stream",
     "text": [
      "min:  0.0 max:  210.40439414978027 step:  0.8251152711756089\n"
     ]
    },
    {
     "name": "stderr",
     "output_type": "stream",
     "text": [
      "\r",
      " 44%|████▍     | 428/964 [1:00:54<1:20:00,  8.96s/it]"
     ]
    },
    {
     "name": "stdout",
     "output_type": "stream",
     "text": [
      "min:  0.0 max:  210.40439414978027 step:  0.8251152711756089\n"
     ]
    },
    {
     "name": "stderr",
     "output_type": "stream",
     "text": [
      "\r",
      " 45%|████▍     | 429/964 [1:01:03<1:21:30,  9.14s/it]"
     ]
    },
    {
     "name": "stdout",
     "output_type": "stream",
     "text": [
      "min:  0.0 max:  210.40439414978027 step:  0.8251152711756089\n"
     ]
    },
    {
     "name": "stderr",
     "output_type": "stream",
     "text": [
      "\r",
      " 45%|████▍     | 430/964 [1:01:12<1:21:23,  9.15s/it]"
     ]
    },
    {
     "name": "stdout",
     "output_type": "stream",
     "text": [
      "min:  0.0 max:  210.40439414978027 step:  0.8251152711756089\n"
     ]
    },
    {
     "name": "stderr",
     "output_type": "stream",
     "text": [
      "\r",
      " 45%|████▍     | 431/964 [1:01:22<1:21:28,  9.17s/it]"
     ]
    },
    {
     "name": "stdout",
     "output_type": "stream",
     "text": [
      "min:  0.0 max:  210.40439414978027 step:  0.8251152711756089\n"
     ]
    },
    {
     "name": "stderr",
     "output_type": "stream",
     "text": [
      "\r",
      " 45%|████▍     | 432/964 [1:01:31<1:20:40,  9.10s/it]"
     ]
    },
    {
     "name": "stdout",
     "output_type": "stream",
     "text": [
      "min:  0.0 max:  210.40439414978027 step:  0.8251152711756089\n"
     ]
    },
    {
     "name": "stderr",
     "output_type": "stream",
     "text": [
      "\r",
      " 45%|████▍     | 433/964 [1:01:40<1:20:33,  9.10s/it]"
     ]
    },
    {
     "name": "stdout",
     "output_type": "stream",
     "text": [
      "min:  0.0 max:  210.40439414978027 step:  0.8251152711756089\n"
     ]
    },
    {
     "name": "stderr",
     "output_type": "stream",
     "text": [
      "\r",
      " 45%|████▌     | 434/964 [1:01:49<1:20:15,  9.09s/it]"
     ]
    },
    {
     "name": "stdout",
     "output_type": "stream",
     "text": [
      "min:  0.0 max:  210.40439414978027 step:  0.8251152711756089\n"
     ]
    },
    {
     "name": "stderr",
     "output_type": "stream",
     "text": [
      "\r",
      " 45%|████▌     | 435/964 [1:01:58<1:19:53,  9.06s/it]"
     ]
    },
    {
     "name": "stdout",
     "output_type": "stream",
     "text": [
      "min:  0.0 max:  210.40439414978027 step:  0.8251152711756089\n"
     ]
    },
    {
     "name": "stderr",
     "output_type": "stream",
     "text": [
      "\r",
      " 45%|████▌     | 436/964 [1:02:07<1:19:22,  9.02s/it]"
     ]
    },
    {
     "name": "stdout",
     "output_type": "stream",
     "text": [
      "min:  0.0 max:  210.40439414978027 step:  0.8251152711756089\n"
     ]
    },
    {
     "name": "stderr",
     "output_type": "stream",
     "text": [
      "\r",
      " 45%|████▌     | 437/964 [1:02:16<1:19:39,  9.07s/it]"
     ]
    },
    {
     "name": "stdout",
     "output_type": "stream",
     "text": [
      "min:  0.0 max:  210.40439414978027 step:  0.8251152711756089\n"
     ]
    },
    {
     "name": "stderr",
     "output_type": "stream",
     "text": [
      "\r",
      " 45%|████▌     | 438/964 [1:02:25<1:19:28,  9.07s/it]"
     ]
    },
    {
     "name": "stdout",
     "output_type": "stream",
     "text": [
      "min:  0.0 max:  210.40439414978027 step:  0.8251152711756089\n"
     ]
    },
    {
     "name": "stderr",
     "output_type": "stream",
     "text": [
      "\r",
      " 46%|████▌     | 439/964 [1:02:34<1:18:10,  8.93s/it]"
     ]
    },
    {
     "name": "stdout",
     "output_type": "stream",
     "text": [
      "min:  0.0 max:  210.40439414978027 step:  0.8251152711756089\n"
     ]
    },
    {
     "name": "stderr",
     "output_type": "stream",
     "text": [
      "\r",
      " 46%|████▌     | 440/964 [1:02:42<1:17:57,  8.93s/it]"
     ]
    },
    {
     "name": "stdout",
     "output_type": "stream",
     "text": [
      "min:  0.0 max:  210.40439414978027 step:  0.8251152711756089\n"
     ]
    },
    {
     "name": "stderr",
     "output_type": "stream",
     "text": [
      "\r",
      " 46%|████▌     | 441/964 [1:02:51<1:17:08,  8.85s/it]"
     ]
    },
    {
     "name": "stdout",
     "output_type": "stream",
     "text": [
      "min:  0.0 max:  210.40439414978027 step:  0.8251152711756089\n"
     ]
    },
    {
     "name": "stderr",
     "output_type": "stream",
     "text": [
      "\r",
      " 46%|████▌     | 442/964 [1:03:01<1:18:35,  9.03s/it]"
     ]
    },
    {
     "name": "stdout",
     "output_type": "stream",
     "text": [
      "min:  0.0 max:  210.40439414978027 step:  0.8251152711756089\n"
     ]
    },
    {
     "name": "stderr",
     "output_type": "stream",
     "text": [
      "\r",
      " 46%|████▌     | 443/964 [1:03:09<1:17:38,  8.94s/it]"
     ]
    },
    {
     "name": "stdout",
     "output_type": "stream",
     "text": [
      "min:  0.0 max:  210.40439414978027 step:  0.8251152711756089\n"
     ]
    },
    {
     "name": "stderr",
     "output_type": "stream",
     "text": [
      "\r",
      " 46%|████▌     | 444/964 [1:03:18<1:17:41,  8.96s/it]"
     ]
    },
    {
     "name": "stdout",
     "output_type": "stream",
     "text": [
      "min:  0.0 max:  210.40439414978027 step:  0.8251152711756089\n"
     ]
    },
    {
     "name": "stderr",
     "output_type": "stream",
     "text": [
      "\r",
      " 46%|████▌     | 445/964 [1:03:27<1:17:32,  8.96s/it]"
     ]
    },
    {
     "name": "stdout",
     "output_type": "stream",
     "text": [
      "min:  0.0 max:  210.40439414978027 step:  0.8251152711756089\n"
     ]
    },
    {
     "name": "stderr",
     "output_type": "stream",
     "text": [
      "\r",
      " 46%|████▋     | 446/964 [1:03:36<1:17:32,  8.98s/it]"
     ]
    },
    {
     "name": "stdout",
     "output_type": "stream",
     "text": [
      "min:  0.0 max:  210.40439414978027 step:  0.8251152711756089\n"
     ]
    },
    {
     "name": "stderr",
     "output_type": "stream",
     "text": [
      "\r",
      " 46%|████▋     | 447/964 [1:03:46<1:19:15,  9.20s/it]"
     ]
    },
    {
     "name": "stdout",
     "output_type": "stream",
     "text": [
      "min:  0.0 max:  210.40439414978027 step:  0.8251152711756089\n"
     ]
    },
    {
     "name": "stderr",
     "output_type": "stream",
     "text": [
      "\r",
      " 46%|████▋     | 448/964 [1:03:55<1:18:02,  9.07s/it]"
     ]
    },
    {
     "name": "stdout",
     "output_type": "stream",
     "text": [
      "min:  0.0 max:  210.40439414978027 step:  0.8251152711756089\n"
     ]
    },
    {
     "name": "stderr",
     "output_type": "stream",
     "text": [
      "\r",
      " 47%|████▋     | 449/964 [1:04:04<1:17:37,  9.04s/it]"
     ]
    },
    {
     "name": "stdout",
     "output_type": "stream",
     "text": [
      "min:  0.0 max:  210.40439414978027 step:  0.8251152711756089\n"
     ]
    },
    {
     "name": "stderr",
     "output_type": "stream",
     "text": [
      "\r",
      " 47%|████▋     | 450/964 [1:04:13<1:16:44,  8.96s/it]"
     ]
    },
    {
     "name": "stdout",
     "output_type": "stream",
     "text": [
      "min:  0.0 max:  210.40439414978027 step:  0.8251152711756089\n"
     ]
    },
    {
     "name": "stderr",
     "output_type": "stream",
     "text": [
      "\r",
      " 47%|████▋     | 451/964 [1:04:22<1:17:42,  9.09s/it]"
     ]
    },
    {
     "name": "stdout",
     "output_type": "stream",
     "text": [
      "min:  0.0 max:  210.40439414978027 step:  0.8251152711756089\n"
     ]
    },
    {
     "name": "stderr",
     "output_type": "stream",
     "text": [
      "\r",
      " 47%|████▋     | 452/964 [1:04:31<1:17:22,  9.07s/it]"
     ]
    },
    {
     "name": "stdout",
     "output_type": "stream",
     "text": [
      "min:  0.0 max:  210.40439414978027 step:  0.8251152711756089\n"
     ]
    },
    {
     "name": "stderr",
     "output_type": "stream",
     "text": [
      "\r",
      " 47%|████▋     | 453/964 [1:04:40<1:17:36,  9.11s/it]"
     ]
    },
    {
     "name": "stdout",
     "output_type": "stream",
     "text": [
      "min:  0.0 max:  210.40439414978027 step:  0.8251152711756089\n"
     ]
    },
    {
     "name": "stderr",
     "output_type": "stream",
     "text": [
      "\r",
      " 47%|████▋     | 454/964 [1:04:49<1:17:40,  9.14s/it]"
     ]
    },
    {
     "name": "stdout",
     "output_type": "stream",
     "text": [
      "min:  0.0 max:  210.40439414978027 step:  0.8251152711756089\n"
     ]
    },
    {
     "name": "stderr",
     "output_type": "stream",
     "text": [
      "\r",
      " 47%|████▋     | 455/964 [1:04:59<1:17:24,  9.12s/it]"
     ]
    },
    {
     "name": "stdout",
     "output_type": "stream",
     "text": [
      "min:  0.0 max:  210.40439414978027 step:  0.8251152711756089\n"
     ]
    },
    {
     "name": "stderr",
     "output_type": "stream",
     "text": [
      "\r",
      " 47%|████▋     | 456/964 [1:05:08<1:17:31,  9.16s/it]"
     ]
    },
    {
     "name": "stdout",
     "output_type": "stream",
     "text": [
      "min:  0.0 max:  210.40439414978027 step:  0.8251152711756089\n"
     ]
    },
    {
     "name": "stderr",
     "output_type": "stream",
     "text": [
      "\r",
      " 47%|████▋     | 457/964 [1:05:17<1:17:24,  9.16s/it]"
     ]
    },
    {
     "name": "stdout",
     "output_type": "stream",
     "text": [
      "min:  0.0 max:  210.40439414978027 step:  0.8251152711756089\n"
     ]
    },
    {
     "name": "stderr",
     "output_type": "stream",
     "text": [
      "\r",
      " 48%|████▊     | 458/964 [1:05:26<1:16:30,  9.07s/it]"
     ]
    },
    {
     "name": "stdout",
     "output_type": "stream",
     "text": [
      "min:  0.0 max:  210.40439414978027 step:  0.8251152711756089\n"
     ]
    },
    {
     "name": "stderr",
     "output_type": "stream",
     "text": [
      "\r",
      " 48%|████▊     | 459/964 [1:05:35<1:16:31,  9.09s/it]"
     ]
    },
    {
     "name": "stdout",
     "output_type": "stream",
     "text": [
      "min:  0.0 max:  210.40439414978027 step:  0.8251152711756089\n"
     ]
    },
    {
     "name": "stderr",
     "output_type": "stream",
     "text": [
      "\r",
      " 48%|████▊     | 460/964 [1:05:44<1:15:38,  9.00s/it]"
     ]
    },
    {
     "name": "stdout",
     "output_type": "stream",
     "text": [
      "min:  0.0 max:  210.40439414978027 step:  0.8251152711756089\n"
     ]
    },
    {
     "name": "stderr",
     "output_type": "stream",
     "text": [
      "\r",
      " 48%|████▊     | 461/964 [1:05:52<1:14:06,  8.84s/it]"
     ]
    },
    {
     "name": "stdout",
     "output_type": "stream",
     "text": [
      "min:  0.0 max:  210.40439414978027 step:  0.8251152711756089\n"
     ]
    },
    {
     "name": "stderr",
     "output_type": "stream",
     "text": [
      "\r",
      " 48%|████▊     | 462/964 [1:06:02<1:15:17,  9.00s/it]"
     ]
    },
    {
     "name": "stdout",
     "output_type": "stream",
     "text": [
      "min:  0.0 max:  210.40439414978027 step:  0.8251152711756089\n"
     ]
    },
    {
     "name": "stderr",
     "output_type": "stream",
     "text": [
      "\r",
      " 48%|████▊     | 463/964 [1:06:11<1:15:33,  9.05s/it]"
     ]
    },
    {
     "name": "stdout",
     "output_type": "stream",
     "text": [
      "min:  0.0 max:  210.40439414978027 step:  0.8251152711756089\n"
     ]
    },
    {
     "name": "stderr",
     "output_type": "stream",
     "text": [
      "\r",
      " 48%|████▊     | 464/964 [1:06:19<1:14:00,  8.88s/it]"
     ]
    },
    {
     "name": "stdout",
     "output_type": "stream",
     "text": [
      "min:  0.0 max:  210.40439414978027 step:  0.8251152711756089\n"
     ]
    },
    {
     "name": "stderr",
     "output_type": "stream",
     "text": [
      "\r",
      " 48%|████▊     | 465/964 [1:06:28<1:13:19,  8.82s/it]"
     ]
    },
    {
     "name": "stdout",
     "output_type": "stream",
     "text": [
      "min:  0.0 max:  210.40439414978027 step:  0.8251152711756089\n"
     ]
    },
    {
     "name": "stderr",
     "output_type": "stream",
     "text": [
      "\r",
      " 48%|████▊     | 466/964 [1:06:37<1:12:54,  8.78s/it]"
     ]
    },
    {
     "name": "stdout",
     "output_type": "stream",
     "text": [
      "min:  0.0 max:  210.40439414978027 step:  0.8251152711756089\n"
     ]
    },
    {
     "name": "stderr",
     "output_type": "stream",
     "text": [
      "\r",
      " 48%|████▊     | 467/964 [1:06:45<1:11:38,  8.65s/it]"
     ]
    },
    {
     "name": "stdout",
     "output_type": "stream",
     "text": [
      "min:  0.0 max:  210.40439414978027 step:  0.8251152711756089\n"
     ]
    },
    {
     "name": "stderr",
     "output_type": "stream",
     "text": [
      "\r",
      " 49%|████▊     | 468/964 [1:06:54<1:11:42,  8.68s/it]"
     ]
    },
    {
     "name": "stdout",
     "output_type": "stream",
     "text": [
      "min:  0.0 max:  210.40439414978027 step:  0.8251152711756089\n"
     ]
    },
    {
     "name": "stderr",
     "output_type": "stream",
     "text": [
      "\r",
      " 49%|████▊     | 469/964 [1:07:02<1:11:39,  8.69s/it]"
     ]
    },
    {
     "name": "stdout",
     "output_type": "stream",
     "text": [
      "min:  0.0 max:  210.40439414978027 step:  0.8251152711756089\n"
     ]
    },
    {
     "name": "stderr",
     "output_type": "stream",
     "text": [
      "\r",
      " 49%|████▉     | 470/964 [1:07:12<1:14:51,  9.09s/it]"
     ]
    },
    {
     "name": "stdout",
     "output_type": "stream",
     "text": [
      "min:  0.0 max:  210.40439414978027 step:  0.8251152711756089\n"
     ]
    },
    {
     "name": "stderr",
     "output_type": "stream",
     "text": [
      "\r",
      " 49%|████▉     | 471/964 [1:07:21<1:14:10,  9.03s/it]"
     ]
    },
    {
     "name": "stdout",
     "output_type": "stream",
     "text": [
      "min:  0.0 max:  210.40439414978027 step:  0.8251152711756089\n"
     ]
    },
    {
     "name": "stderr",
     "output_type": "stream",
     "text": [
      "\r",
      " 49%|████▉     | 472/964 [1:07:31<1:14:45,  9.12s/it]"
     ]
    },
    {
     "name": "stdout",
     "output_type": "stream",
     "text": [
      "min:  0.0 max:  210.40439414978027 step:  0.8251152711756089\n"
     ]
    },
    {
     "name": "stderr",
     "output_type": "stream",
     "text": [
      "\r",
      " 49%|████▉     | 473/964 [1:07:40<1:14:53,  9.15s/it]"
     ]
    },
    {
     "name": "stdout",
     "output_type": "stream",
     "text": [
      "min:  0.0 max:  299.92674350738525 step:  1.1761833078720991\n"
     ]
    },
    {
     "name": "stderr",
     "output_type": "stream",
     "text": [
      "\r",
      " 49%|████▉     | 474/964 [1:07:50<1:16:28,  9.37s/it]"
     ]
    },
    {
     "name": "stdout",
     "output_type": "stream",
     "text": [
      "min:  0.0 max:  299.92674350738525 step:  1.1761833078720991\n"
     ]
    },
    {
     "name": "stderr",
     "output_type": "stream",
     "text": [
      "\r",
      " 49%|████▉     | 475/964 [1:07:59<1:16:06,  9.34s/it]"
     ]
    },
    {
     "name": "stdout",
     "output_type": "stream",
     "text": [
      "min:  0.0 max:  299.92674350738525 step:  1.1761833078720991\n"
     ]
    },
    {
     "name": "stderr",
     "output_type": "stream",
     "text": [
      "\r",
      " 49%|████▉     | 476/964 [1:08:08<1:16:12,  9.37s/it]"
     ]
    },
    {
     "name": "stdout",
     "output_type": "stream",
     "text": [
      "min:  0.0 max:  299.92674350738525 step:  1.1761833078720991\n"
     ]
    },
    {
     "name": "stderr",
     "output_type": "stream",
     "text": [
      "\r",
      " 49%|████▉     | 477/964 [1:08:17<1:15:07,  9.26s/it]"
     ]
    },
    {
     "name": "stdout",
     "output_type": "stream",
     "text": [
      "min:  0.0 max:  299.92674350738525 step:  1.1761833078720991\n"
     ]
    },
    {
     "name": "stderr",
     "output_type": "stream",
     "text": [
      "\r",
      " 50%|████▉     | 478/964 [1:08:26<1:13:40,  9.10s/it]"
     ]
    },
    {
     "name": "stdout",
     "output_type": "stream",
     "text": [
      "min:  0.0 max:  299.92674350738525 step:  1.1761833078720991\n"
     ]
    },
    {
     "name": "stderr",
     "output_type": "stream",
     "text": [
      "\r",
      " 50%|████▉     | 479/964 [1:08:35<1:13:43,  9.12s/it]"
     ]
    },
    {
     "name": "stdout",
     "output_type": "stream",
     "text": [
      "min:  0.0 max:  299.92674350738525 step:  1.1761833078720991\n"
     ]
    },
    {
     "name": "stderr",
     "output_type": "stream",
     "text": [
      "\r",
      " 50%|████▉     | 480/964 [1:08:44<1:13:29,  9.11s/it]"
     ]
    },
    {
     "name": "stdout",
     "output_type": "stream",
     "text": [
      "min:  0.0 max:  299.92674350738525 step:  1.1761833078720991\n"
     ]
    },
    {
     "name": "stderr",
     "output_type": "stream",
     "text": [
      "\r",
      " 50%|████▉     | 481/964 [1:08:53<1:13:19,  9.11s/it]"
     ]
    },
    {
     "name": "stdout",
     "output_type": "stream",
     "text": [
      "min:  0.0 max:  299.92674350738525 step:  1.1761833078720991\n"
     ]
    },
    {
     "name": "stderr",
     "output_type": "stream",
     "text": [
      "\r",
      " 50%|█████     | 482/964 [1:09:02<1:11:59,  8.96s/it]"
     ]
    },
    {
     "name": "stdout",
     "output_type": "stream",
     "text": [
      "min:  0.0 max:  299.92674350738525 step:  1.1761833078720991\n"
     ]
    },
    {
     "name": "stderr",
     "output_type": "stream",
     "text": [
      "\r",
      " 50%|█████     | 483/964 [1:09:11<1:11:09,  8.88s/it]"
     ]
    },
    {
     "name": "stdout",
     "output_type": "stream",
     "text": [
      "min:  0.0 max:  299.92674350738525 step:  1.1761833078720991\n"
     ]
    },
    {
     "name": "stderr",
     "output_type": "stream",
     "text": [
      "\r",
      " 50%|█████     | 484/964 [1:09:20<1:10:54,  8.86s/it]"
     ]
    },
    {
     "name": "stdout",
     "output_type": "stream",
     "text": [
      "min:  0.0 max:  299.92674350738525 step:  1.1761833078720991\n"
     ]
    },
    {
     "name": "stderr",
     "output_type": "stream",
     "text": [
      "\r",
      " 50%|█████     | 485/964 [1:09:29<1:11:36,  8.97s/it]"
     ]
    },
    {
     "name": "stdout",
     "output_type": "stream",
     "text": [
      "min:  0.0 max:  299.92674350738525 step:  1.1761833078720991\n"
     ]
    },
    {
     "name": "stderr",
     "output_type": "stream",
     "text": [
      "\r",
      " 50%|█████     | 486/964 [1:09:38<1:11:41,  9.00s/it]"
     ]
    },
    {
     "name": "stdout",
     "output_type": "stream",
     "text": [
      "min:  0.0 max:  299.92674350738525 step:  1.1761833078720991\n"
     ]
    },
    {
     "name": "stderr",
     "output_type": "stream",
     "text": [
      "\r",
      " 51%|█████     | 487/964 [1:09:47<1:11:39,  9.01s/it]"
     ]
    },
    {
     "name": "stdout",
     "output_type": "stream",
     "text": [
      "min:  0.0 max:  299.92674350738525 step:  1.1761833078720991\n"
     ]
    },
    {
     "name": "stderr",
     "output_type": "stream",
     "text": [
      "\r",
      " 51%|█████     | 488/964 [1:09:56<1:11:30,  9.01s/it]"
     ]
    },
    {
     "name": "stdout",
     "output_type": "stream",
     "text": [
      "min:  0.0 max:  299.92674350738525 step:  1.1761833078720991\n"
     ]
    },
    {
     "name": "stderr",
     "output_type": "stream",
     "text": [
      "\r",
      " 51%|█████     | 489/964 [1:10:05<1:10:48,  8.94s/it]"
     ]
    },
    {
     "name": "stdout",
     "output_type": "stream",
     "text": [
      "min:  0.0 max:  299.92674350738525 step:  1.1761833078720991\n"
     ]
    },
    {
     "name": "stderr",
     "output_type": "stream",
     "text": [
      "\r",
      " 51%|█████     | 490/964 [1:10:14<1:10:25,  8.91s/it]"
     ]
    },
    {
     "name": "stdout",
     "output_type": "stream",
     "text": [
      "min:  0.0 max:  299.92674350738525 step:  1.1761833078720991\n"
     ]
    },
    {
     "name": "stderr",
     "output_type": "stream",
     "text": [
      "\r",
      " 51%|█████     | 491/964 [1:10:22<1:10:12,  8.91s/it]"
     ]
    },
    {
     "name": "stdout",
     "output_type": "stream",
     "text": [
      "min:  0.0 max:  299.92674350738525 step:  1.1761833078720991\n"
     ]
    },
    {
     "name": "stderr",
     "output_type": "stream",
     "text": [
      "\r",
      " 51%|█████     | 492/964 [1:10:31<1:10:05,  8.91s/it]"
     ]
    },
    {
     "name": "stdout",
     "output_type": "stream",
     "text": [
      "min:  0.0 max:  299.92674350738525 step:  1.1761833078720991\n"
     ]
    },
    {
     "name": "stderr",
     "output_type": "stream",
     "text": [
      "\r",
      " 51%|█████     | 493/964 [1:10:40<1:09:16,  8.82s/it]"
     ]
    },
    {
     "name": "stdout",
     "output_type": "stream",
     "text": [
      "min:  0.0 max:  299.92674350738525 step:  1.1761833078720991\n"
     ]
    },
    {
     "name": "stderr",
     "output_type": "stream",
     "text": [
      "\r",
      " 51%|█████     | 494/964 [1:10:49<1:09:34,  8.88s/it]"
     ]
    },
    {
     "name": "stdout",
     "output_type": "stream",
     "text": [
      "min:  0.0 max:  299.92674350738525 step:  1.1761833078720991\n"
     ]
    },
    {
     "name": "stderr",
     "output_type": "stream",
     "text": [
      "\r",
      " 51%|█████▏    | 495/964 [1:10:58<1:08:59,  8.83s/it]"
     ]
    },
    {
     "name": "stdout",
     "output_type": "stream",
     "text": [
      "min:  0.0 max:  299.92674350738525 step:  1.1761833078720991\n"
     ]
    },
    {
     "name": "stderr",
     "output_type": "stream",
     "text": [
      "\r",
      " 51%|█████▏    | 496/964 [1:11:06<1:08:11,  8.74s/it]"
     ]
    },
    {
     "name": "stdout",
     "output_type": "stream",
     "text": [
      "min:  0.0 max:  299.92674350738525 step:  1.1761833078720991\n"
     ]
    },
    {
     "name": "stderr",
     "output_type": "stream",
     "text": [
      "\r",
      " 52%|█████▏    | 497/964 [1:11:15<1:08:13,  8.77s/it]"
     ]
    },
    {
     "name": "stdout",
     "output_type": "stream",
     "text": [
      "min:  0.0 max:  299.92674350738525 step:  1.1761833078720991\n"
     ]
    },
    {
     "name": "stderr",
     "output_type": "stream",
     "text": [
      "\r",
      " 52%|█████▏    | 498/964 [1:11:24<1:08:15,  8.79s/it]"
     ]
    },
    {
     "name": "stdout",
     "output_type": "stream",
     "text": [
      "min:  0.0 max:  299.92674350738525 step:  1.1761833078720991\n"
     ]
    },
    {
     "name": "stderr",
     "output_type": "stream",
     "text": [
      "\r",
      " 52%|█████▏    | 499/964 [1:11:33<1:08:53,  8.89s/it]"
     ]
    },
    {
     "name": "stdout",
     "output_type": "stream",
     "text": [
      "min:  0.0 max:  299.92674350738525 step:  1.1761833078720991\n"
     ]
    },
    {
     "name": "stderr",
     "output_type": "stream",
     "text": [
      "\r",
      " 52%|█████▏    | 500/964 [1:11:42<1:09:08,  8.94s/it]"
     ]
    },
    {
     "name": "stdout",
     "output_type": "stream",
     "text": [
      "min:  0.0 max:  299.92674350738525 step:  1.1761833078720991\n"
     ]
    },
    {
     "name": "stderr",
     "output_type": "stream",
     "text": [
      "\r",
      " 52%|█████▏    | 501/964 [1:11:51<1:08:28,  8.87s/it]"
     ]
    },
    {
     "name": "stdout",
     "output_type": "stream",
     "text": [
      "min:  0.0 max:  299.92674350738525 step:  1.1761833078720991\n"
     ]
    },
    {
     "name": "stderr",
     "output_type": "stream",
     "text": [
      "\r",
      " 52%|█████▏    | 502/964 [1:11:59<1:07:47,  8.80s/it]"
     ]
    },
    {
     "name": "stdout",
     "output_type": "stream",
     "text": [
      "min:  0.0 max:  299.92674350738525 step:  1.1761833078720991\n"
     ]
    },
    {
     "name": "stderr",
     "output_type": "stream",
     "text": [
      "\r",
      " 52%|█████▏    | 503/964 [1:12:08<1:07:49,  8.83s/it]"
     ]
    },
    {
     "name": "stdout",
     "output_type": "stream",
     "text": [
      "min:  0.0 max:  299.92674350738525 step:  1.1761833078720991\n"
     ]
    },
    {
     "name": "stderr",
     "output_type": "stream",
     "text": [
      "\r",
      " 52%|█████▏    | 504/964 [1:12:17<1:07:15,  8.77s/it]"
     ]
    },
    {
     "name": "stdout",
     "output_type": "stream",
     "text": [
      "min:  0.0 max:  299.92674350738525 step:  1.1761833078720991\n"
     ]
    },
    {
     "name": "stderr",
     "output_type": "stream",
     "text": [
      "\r",
      " 52%|█████▏    | 505/964 [1:12:26<1:07:19,  8.80s/it]"
     ]
    },
    {
     "name": "stdout",
     "output_type": "stream",
     "text": [
      "min:  0.0 max:  299.92674350738525 step:  1.1761833078720991\n"
     ]
    },
    {
     "name": "stderr",
     "output_type": "stream",
     "text": [
      "\r",
      " 52%|█████▏    | 506/964 [1:12:35<1:07:59,  8.91s/it]"
     ]
    },
    {
     "name": "stdout",
     "output_type": "stream",
     "text": [
      "min:  0.0 max:  299.92674350738525 step:  1.1761833078720991\n"
     ]
    },
    {
     "name": "stderr",
     "output_type": "stream",
     "text": [
      "\r",
      " 53%|█████▎    | 507/964 [1:12:44<1:08:29,  8.99s/it]"
     ]
    },
    {
     "name": "stdout",
     "output_type": "stream",
     "text": [
      "min:  0.0 max:  299.92674350738525 step:  1.1761833078720991\n"
     ]
    },
    {
     "name": "stderr",
     "output_type": "stream",
     "text": [
      "\r",
      " 53%|█████▎    | 508/964 [1:12:53<1:08:33,  9.02s/it]"
     ]
    },
    {
     "name": "stdout",
     "output_type": "stream",
     "text": [
      "min:  0.0 max:  299.92674350738525 step:  1.1761833078720991\n"
     ]
    },
    {
     "name": "stderr",
     "output_type": "stream",
     "text": [
      "\r",
      " 53%|█████▎    | 509/964 [1:13:02<1:07:34,  8.91s/it]"
     ]
    },
    {
     "name": "stdout",
     "output_type": "stream",
     "text": [
      "min:  0.0 max:  299.92674350738525 step:  1.1761833078720991\n"
     ]
    },
    {
     "name": "stderr",
     "output_type": "stream",
     "text": [
      "\r",
      " 53%|█████▎    | 510/964 [1:13:11<1:07:01,  8.86s/it]"
     ]
    },
    {
     "name": "stdout",
     "output_type": "stream",
     "text": [
      "min:  0.0 max:  299.92674350738525 step:  1.1761833078720991\n"
     ]
    },
    {
     "name": "stderr",
     "output_type": "stream",
     "text": [
      "\r",
      " 53%|█████▎    | 511/964 [1:13:20<1:07:00,  8.88s/it]"
     ]
    },
    {
     "name": "stdout",
     "output_type": "stream",
     "text": [
      "min:  0.0 max:  299.92674350738525 step:  1.1761833078720991\n"
     ]
    },
    {
     "name": "stderr",
     "output_type": "stream",
     "text": [
      "\r",
      " 53%|█████▎    | 512/964 [1:13:29<1:07:27,  8.95s/it]"
     ]
    },
    {
     "name": "stdout",
     "output_type": "stream",
     "text": [
      "min:  0.0 max:  299.92674350738525 step:  1.1761833078720991\n"
     ]
    },
    {
     "name": "stderr",
     "output_type": "stream",
     "text": [
      "\r",
      " 53%|█████▎    | 513/964 [1:13:38<1:07:07,  8.93s/it]"
     ]
    },
    {
     "name": "stdout",
     "output_type": "stream",
     "text": [
      "min:  0.0 max:  299.92674350738525 step:  1.1761833078720991\n"
     ]
    },
    {
     "name": "stderr",
     "output_type": "stream",
     "text": [
      "\r",
      " 53%|█████▎    | 514/964 [1:13:46<1:06:41,  8.89s/it]"
     ]
    },
    {
     "name": "stdout",
     "output_type": "stream",
     "text": [
      "min:  0.0 max:  299.92674350738525 step:  1.1761833078720991\n"
     ]
    },
    {
     "name": "stderr",
     "output_type": "stream",
     "text": [
      "\r",
      " 53%|█████▎    | 515/964 [1:13:55<1:06:52,  8.94s/it]"
     ]
    },
    {
     "name": "stdout",
     "output_type": "stream",
     "text": [
      "min:  0.0 max:  299.92674350738525 step:  1.1761833078720991\n"
     ]
    },
    {
     "name": "stderr",
     "output_type": "stream",
     "text": [
      "\r",
      " 54%|█████▎    | 516/964 [1:14:05<1:07:37,  9.06s/it]"
     ]
    },
    {
     "name": "stdout",
     "output_type": "stream",
     "text": [
      "min:  0.0 max:  299.92674350738525 step:  1.1761833078720991\n"
     ]
    },
    {
     "name": "stderr",
     "output_type": "stream",
     "text": [
      "\r",
      " 54%|█████▎    | 517/964 [1:14:14<1:07:47,  9.10s/it]"
     ]
    },
    {
     "name": "stdout",
     "output_type": "stream",
     "text": [
      "min:  0.0 max:  299.92674350738525 step:  1.1761833078720991\n"
     ]
    },
    {
     "name": "stderr",
     "output_type": "stream",
     "text": [
      "\r",
      " 54%|█████▎    | 518/964 [1:14:23<1:07:41,  9.11s/it]"
     ]
    },
    {
     "name": "stdout",
     "output_type": "stream",
     "text": [
      "min:  0.0 max:  299.92674350738525 step:  1.1761833078720991\n"
     ]
    },
    {
     "name": "stderr",
     "output_type": "stream",
     "text": [
      "\r",
      " 54%|█████▍    | 519/964 [1:14:32<1:07:29,  9.10s/it]"
     ]
    },
    {
     "name": "stdout",
     "output_type": "stream",
     "text": [
      "min:  0.0 max:  299.92674350738525 step:  1.1761833078720991\n"
     ]
    },
    {
     "name": "stderr",
     "output_type": "stream",
     "text": [
      "\r",
      " 54%|█████▍    | 520/964 [1:14:41<1:07:21,  9.10s/it]"
     ]
    },
    {
     "name": "stdout",
     "output_type": "stream",
     "text": [
      "min:  0.0 max:  299.92674350738525 step:  1.1761833078720991\n"
     ]
    },
    {
     "name": "stderr",
     "output_type": "stream",
     "text": [
      "\r",
      " 54%|█████▍    | 521/964 [1:14:51<1:07:27,  9.14s/it]"
     ]
    },
    {
     "name": "stdout",
     "output_type": "stream",
     "text": [
      "min:  0.0 max:  299.92674350738525 step:  1.1761833078720991\n"
     ]
    },
    {
     "name": "stderr",
     "output_type": "stream",
     "text": [
      "\r",
      " 54%|█████▍    | 522/964 [1:15:00<1:07:42,  9.19s/it]"
     ]
    },
    {
     "name": "stdout",
     "output_type": "stream",
     "text": [
      "min:  0.0 max:  299.92674350738525 step:  1.1761833078720991\n"
     ]
    },
    {
     "name": "stderr",
     "output_type": "stream",
     "text": [
      "\r",
      " 54%|█████▍    | 523/964 [1:15:09<1:07:57,  9.25s/it]"
     ]
    },
    {
     "name": "stdout",
     "output_type": "stream",
     "text": [
      "min:  0.0 max:  299.92674350738525 step:  1.1761833078720991\n"
     ]
    },
    {
     "name": "stderr",
     "output_type": "stream",
     "text": [
      "\r",
      " 54%|█████▍    | 524/964 [1:15:18<1:07:27,  9.20s/it]"
     ]
    },
    {
     "name": "stdout",
     "output_type": "stream",
     "text": [
      "min:  0.0 max:  299.92674350738525 step:  1.1761833078720991\n"
     ]
    },
    {
     "name": "stderr",
     "output_type": "stream",
     "text": [
      "\r",
      " 54%|█████▍    | 525/964 [1:15:28<1:07:21,  9.21s/it]"
     ]
    },
    {
     "name": "stdout",
     "output_type": "stream",
     "text": [
      "min:  0.0 max:  299.92674350738525 step:  1.1761833078720991\n"
     ]
    },
    {
     "name": "stderr",
     "output_type": "stream",
     "text": [
      "\r",
      " 55%|█████▍    | 526/964 [1:15:36<1:06:04,  9.05s/it]"
     ]
    },
    {
     "name": "stdout",
     "output_type": "stream",
     "text": [
      "min:  0.0 max:  299.92674350738525 step:  1.1761833078720991\n"
     ]
    },
    {
     "name": "stderr",
     "output_type": "stream",
     "text": [
      "\r",
      " 55%|█████▍    | 527/964 [1:15:45<1:06:03,  9.07s/it]"
     ]
    },
    {
     "name": "stdout",
     "output_type": "stream",
     "text": [
      "min:  0.0 max:  299.92674350738525 step:  1.1761833078720991\n"
     ]
    },
    {
     "name": "stderr",
     "output_type": "stream",
     "text": [
      "\r",
      " 55%|█████▍    | 528/964 [1:15:54<1:04:51,  8.93s/it]"
     ]
    },
    {
     "name": "stdout",
     "output_type": "stream",
     "text": [
      "min:  0.0 max:  299.92674350738525 step:  1.1761833078720991\n"
     ]
    },
    {
     "name": "stderr",
     "output_type": "stream",
     "text": [
      "\r",
      " 55%|█████▍    | 529/964 [1:16:03<1:04:06,  8.84s/it]"
     ]
    },
    {
     "name": "stdout",
     "output_type": "stream",
     "text": [
      "min:  0.0 max:  299.92674350738525 step:  1.1761833078720991\n"
     ]
    },
    {
     "name": "stderr",
     "output_type": "stream",
     "text": [
      "\r",
      " 55%|█████▍    | 530/964 [1:16:12<1:04:21,  8.90s/it]"
     ]
    },
    {
     "name": "stdout",
     "output_type": "stream",
     "text": [
      "min:  0.0 max:  299.92674350738525 step:  1.1761833078720991\n"
     ]
    },
    {
     "name": "stderr",
     "output_type": "stream",
     "text": [
      "\r",
      " 55%|█████▌    | 531/964 [1:16:21<1:04:40,  8.96s/it]"
     ]
    },
    {
     "name": "stdout",
     "output_type": "stream",
     "text": [
      "min:  0.0 max:  299.92674350738525 step:  1.1761833078720991\n"
     ]
    },
    {
     "name": "stderr",
     "output_type": "stream",
     "text": [
      "\r",
      " 55%|█████▌    | 532/964 [1:16:30<1:04:35,  8.97s/it]"
     ]
    },
    {
     "name": "stdout",
     "output_type": "stream",
     "text": [
      "min:  0.0 max:  299.92674350738525 step:  1.1761833078720991\n"
     ]
    },
    {
     "name": "stderr",
     "output_type": "stream",
     "text": [
      "\r",
      " 55%|█████▌    | 533/964 [1:16:39<1:04:29,  8.98s/it]"
     ]
    },
    {
     "name": "stdout",
     "output_type": "stream",
     "text": [
      "min:  0.0 max:  299.92674350738525 step:  1.1761833078720991\n"
     ]
    },
    {
     "name": "stderr",
     "output_type": "stream",
     "text": [
      "\r",
      " 55%|█████▌    | 534/964 [1:16:48<1:04:21,  8.98s/it]"
     ]
    },
    {
     "name": "stdout",
     "output_type": "stream",
     "text": [
      "min:  0.0 max:  299.92674350738525 step:  1.1761833078720991\n"
     ]
    },
    {
     "name": "stderr",
     "output_type": "stream",
     "text": [
      "\r",
      " 55%|█████▌    | 535/964 [1:16:57<1:03:56,  8.94s/it]"
     ]
    },
    {
     "name": "stdout",
     "output_type": "stream",
     "text": [
      "min:  0.0 max:  299.92674350738525 step:  1.1761833078720991\n"
     ]
    },
    {
     "name": "stderr",
     "output_type": "stream",
     "text": [
      "\r",
      " 56%|█████▌    | 536/964 [1:17:06<1:04:54,  9.10s/it]"
     ]
    },
    {
     "name": "stdout",
     "output_type": "stream",
     "text": [
      "min:  0.0 max:  299.92674350738525 step:  1.1761833078720991\n"
     ]
    },
    {
     "name": "stderr",
     "output_type": "stream",
     "text": [
      "\r",
      " 56%|█████▌    | 537/964 [1:17:15<1:04:55,  9.12s/it]"
     ]
    },
    {
     "name": "stdout",
     "output_type": "stream",
     "text": [
      "min:  0.0 max:  299.92674350738525 step:  1.1761833078720991\n"
     ]
    },
    {
     "name": "stderr",
     "output_type": "stream",
     "text": [
      "\r",
      " 56%|█████▌    | 538/964 [1:17:24<1:04:56,  9.15s/it]"
     ]
    },
    {
     "name": "stdout",
     "output_type": "stream",
     "text": [
      "min:  0.0 max:  299.92674350738525 step:  1.1761833078720991\n"
     ]
    },
    {
     "name": "stderr",
     "output_type": "stream",
     "text": [
      "\r",
      " 56%|█████▌    | 539/964 [1:17:34<1:04:47,  9.15s/it]"
     ]
    },
    {
     "name": "stdout",
     "output_type": "stream",
     "text": [
      "min:  0.0 max:  299.92674350738525 step:  1.1761833078720991\n"
     ]
    },
    {
     "name": "stderr",
     "output_type": "stream",
     "text": [
      "\r",
      " 56%|█████▌    | 540/964 [1:17:43<1:04:35,  9.14s/it]"
     ]
    },
    {
     "name": "stdout",
     "output_type": "stream",
     "text": [
      "min:  0.0 max:  299.92674350738525 step:  1.1761833078720991\n"
     ]
    },
    {
     "name": "stderr",
     "output_type": "stream",
     "text": [
      "\r",
      " 56%|█████▌    | 541/964 [1:17:52<1:04:20,  9.13s/it]"
     ]
    },
    {
     "name": "stdout",
     "output_type": "stream",
     "text": [
      "min:  0.0 max:  299.92674350738525 step:  1.1761833078720991\n"
     ]
    },
    {
     "name": "stderr",
     "output_type": "stream",
     "text": [
      "\r",
      " 56%|█████▌    | 542/964 [1:18:01<1:04:49,  9.22s/it]"
     ]
    },
    {
     "name": "stdout",
     "output_type": "stream",
     "text": [
      "min:  0.0 max:  299.92674350738525 step:  1.1761833078720991\n"
     ]
    },
    {
     "name": "stderr",
     "output_type": "stream",
     "text": [
      "\r",
      " 56%|█████▋    | 543/964 [1:18:11<1:05:02,  9.27s/it]"
     ]
    },
    {
     "name": "stdout",
     "output_type": "stream",
     "text": [
      "min:  0.0 max:  299.92674350738525 step:  1.1761833078720991\n"
     ]
    },
    {
     "name": "stderr",
     "output_type": "stream",
     "text": [
      "\r",
      " 56%|█████▋    | 544/964 [1:18:20<1:04:19,  9.19s/it]"
     ]
    },
    {
     "name": "stdout",
     "output_type": "stream",
     "text": [
      "min:  0.0 max:  299.92674350738525 step:  1.1761833078720991\n"
     ]
    },
    {
     "name": "stderr",
     "output_type": "stream",
     "text": [
      "\r",
      " 57%|█████▋    | 545/964 [1:18:29<1:04:02,  9.17s/it]"
     ]
    },
    {
     "name": "stdout",
     "output_type": "stream",
     "text": [
      "min:  0.0 max:  299.92674350738525 step:  1.1761833078720991\n"
     ]
    },
    {
     "name": "stderr",
     "output_type": "stream",
     "text": [
      "\r",
      " 57%|█████▋    | 546/964 [1:18:38<1:03:47,  9.16s/it]"
     ]
    },
    {
     "name": "stdout",
     "output_type": "stream",
     "text": [
      "min:  0.0 max:  299.92674350738525 step:  1.1761833078720991\n"
     ]
    },
    {
     "name": "stderr",
     "output_type": "stream",
     "text": [
      "\r",
      " 57%|█████▋    | 547/964 [1:18:47<1:03:32,  9.14s/it]"
     ]
    },
    {
     "name": "stdout",
     "output_type": "stream",
     "text": [
      "min:  0.0 max:  299.92674350738525 step:  1.1761833078720991\n"
     ]
    },
    {
     "name": "stderr",
     "output_type": "stream",
     "text": [
      "\r",
      " 57%|█████▋    | 548/964 [1:18:56<1:04:01,  9.23s/it]"
     ]
    },
    {
     "name": "stdout",
     "output_type": "stream",
     "text": [
      "min:  0.0 max:  299.92674350738525 step:  1.1761833078720991\n"
     ]
    },
    {
     "name": "stderr",
     "output_type": "stream",
     "text": [
      "\r",
      " 57%|█████▋    | 549/964 [1:19:05<1:03:24,  9.17s/it]"
     ]
    },
    {
     "name": "stdout",
     "output_type": "stream",
     "text": [
      "min:  0.0 max:  299.92674350738525 step:  1.1761833078720991\n"
     ]
    },
    {
     "name": "stderr",
     "output_type": "stream",
     "text": [
      "\r",
      " 57%|█████▋    | 550/964 [1:19:15<1:03:18,  9.17s/it]"
     ]
    },
    {
     "name": "stdout",
     "output_type": "stream",
     "text": [
      "min:  0.0 max:  299.92674350738525 step:  1.1761833078720991\n"
     ]
    },
    {
     "name": "stderr",
     "output_type": "stream",
     "text": [
      "\r",
      " 57%|█████▋    | 551/964 [1:19:24<1:03:08,  9.17s/it]"
     ]
    },
    {
     "name": "stdout",
     "output_type": "stream",
     "text": [
      "min:  0.0 max:  299.92674350738525 step:  1.1761833078720991\n"
     ]
    },
    {
     "name": "stderr",
     "output_type": "stream",
     "text": [
      "\r",
      " 57%|█████▋    | 552/964 [1:19:33<1:02:46,  9.14s/it]"
     ]
    },
    {
     "name": "stdout",
     "output_type": "stream",
     "text": [
      "min:  0.0 max:  299.92674350738525 step:  1.1761833078720991\n"
     ]
    },
    {
     "name": "stderr",
     "output_type": "stream",
     "text": [
      "\r",
      " 57%|█████▋    | 553/964 [1:19:42<1:02:35,  9.14s/it]"
     ]
    },
    {
     "name": "stdout",
     "output_type": "stream",
     "text": [
      "min:  0.0 max:  299.92674350738525 step:  1.1761833078720991\n"
     ]
    },
    {
     "name": "stderr",
     "output_type": "stream",
     "text": [
      "\r",
      " 57%|█████▋    | 554/964 [1:19:51<1:02:53,  9.20s/it]"
     ]
    },
    {
     "name": "stdout",
     "output_type": "stream",
     "text": [
      "min:  0.0 max:  299.92674350738525 step:  1.1761833078720991\n"
     ]
    },
    {
     "name": "stderr",
     "output_type": "stream",
     "text": [
      "\r",
      " 58%|█████▊    | 555/964 [1:20:01<1:03:58,  9.38s/it]"
     ]
    },
    {
     "name": "stdout",
     "output_type": "stream",
     "text": [
      "min:  0.0 max:  299.92674350738525 step:  1.1761833078720991\n"
     ]
    },
    {
     "name": "stderr",
     "output_type": "stream",
     "text": [
      "\r",
      " 58%|█████▊    | 556/964 [1:20:11<1:04:02,  9.42s/it]"
     ]
    },
    {
     "name": "stdout",
     "output_type": "stream",
     "text": [
      "min:  0.0 max:  299.92674350738525 step:  1.1761833078720991\n"
     ]
    },
    {
     "name": "stderr",
     "output_type": "stream",
     "text": [
      "\r",
      " 58%|█████▊    | 557/964 [1:20:20<1:02:58,  9.28s/it]"
     ]
    },
    {
     "name": "stdout",
     "output_type": "stream",
     "text": [
      "min:  0.0 max:  299.92674350738525 step:  1.1761833078720991\n"
     ]
    },
    {
     "name": "stderr",
     "output_type": "stream",
     "text": [
      "\r",
      " 58%|█████▊    | 558/964 [1:20:29<1:02:37,  9.25s/it]"
     ]
    },
    {
     "name": "stdout",
     "output_type": "stream",
     "text": [
      "min:  0.0 max:  299.92674350738525 step:  1.1761833078720991\n"
     ]
    },
    {
     "name": "stderr",
     "output_type": "stream",
     "text": [
      "\r",
      " 58%|█████▊    | 559/964 [1:20:38<1:02:01,  9.19s/it]"
     ]
    },
    {
     "name": "stdout",
     "output_type": "stream",
     "text": [
      "min:  0.0 max:  299.92674350738525 step:  1.1761833078720991\n"
     ]
    },
    {
     "name": "stderr",
     "output_type": "stream",
     "text": [
      "\r",
      " 58%|█████▊    | 560/964 [1:20:47<1:02:07,  9.23s/it]"
     ]
    },
    {
     "name": "stdout",
     "output_type": "stream",
     "text": [
      "min:  0.0 max:  299.92674350738525 step:  1.1761833078720991\n"
     ]
    },
    {
     "name": "stderr",
     "output_type": "stream",
     "text": [
      "\r",
      " 58%|█████▊    | 561/964 [1:20:56<1:01:51,  9.21s/it]"
     ]
    },
    {
     "name": "stdout",
     "output_type": "stream",
     "text": [
      "min:  0.0 max:  299.92674350738525 step:  1.1761833078720991\n"
     ]
    },
    {
     "name": "stderr",
     "output_type": "stream",
     "text": [
      "\r",
      " 58%|█████▊    | 562/964 [1:21:06<1:02:43,  9.36s/it]"
     ]
    },
    {
     "name": "stdout",
     "output_type": "stream",
     "text": [
      "min:  0.0 max:  299.92674350738525 step:  1.1761833078720991\n"
     ]
    },
    {
     "name": "stderr",
     "output_type": "stream",
     "text": [
      "\r",
      " 58%|█████▊    | 563/964 [1:21:15<1:01:56,  9.27s/it]"
     ]
    },
    {
     "name": "stdout",
     "output_type": "stream",
     "text": [
      "min:  0.0 max:  299.92674350738525 step:  1.1761833078720991\n"
     ]
    },
    {
     "name": "stderr",
     "output_type": "stream",
     "text": [
      "\r",
      " 59%|█████▊    | 564/964 [1:21:24<1:01:22,  9.21s/it]"
     ]
    },
    {
     "name": "stdout",
     "output_type": "stream",
     "text": [
      "min:  0.0 max:  299.92674350738525 step:  1.1761833078720991\n"
     ]
    },
    {
     "name": "stderr",
     "output_type": "stream",
     "text": [
      "\r",
      " 59%|█████▊    | 565/964 [1:21:33<1:00:48,  9.15s/it]"
     ]
    },
    {
     "name": "stdout",
     "output_type": "stream",
     "text": [
      "min:  0.0 max:  299.92674350738525 step:  1.1761833078720991\n"
     ]
    },
    {
     "name": "stderr",
     "output_type": "stream",
     "text": [
      "\r",
      " 59%|█████▊    | 566/964 [1:21:43<1:01:29,  9.27s/it]"
     ]
    },
    {
     "name": "stdout",
     "output_type": "stream",
     "text": [
      "min:  0.0 max:  299.92674350738525 step:  1.1761833078720991\n"
     ]
    },
    {
     "name": "stderr",
     "output_type": "stream",
     "text": [
      "\r",
      " 59%|█████▉    | 567/964 [1:21:52<1:01:27,  9.29s/it]"
     ]
    },
    {
     "name": "stdout",
     "output_type": "stream",
     "text": [
      "min:  0.0 max:  299.92674350738525 step:  1.1761833078720991\n"
     ]
    },
    {
     "name": "stderr",
     "output_type": "stream",
     "text": [
      "\r",
      " 59%|█████▉    | 568/964 [1:22:01<1:01:07,  9.26s/it]"
     ]
    },
    {
     "name": "stdout",
     "output_type": "stream",
     "text": [
      "min:  0.0 max:  299.92674350738525 step:  1.1761833078720991\n"
     ]
    },
    {
     "name": "stderr",
     "output_type": "stream",
     "text": [
      "\r",
      " 59%|█████▉    | 569/964 [1:22:11<1:01:11,  9.30s/it]"
     ]
    },
    {
     "name": "stdout",
     "output_type": "stream",
     "text": [
      "min:  0.0 max:  299.92674350738525 step:  1.1761833078720991\n"
     ]
    },
    {
     "name": "stderr",
     "output_type": "stream",
     "text": [
      "\r",
      " 59%|█████▉    | 570/964 [1:22:20<1:00:46,  9.25s/it]"
     ]
    },
    {
     "name": "stdout",
     "output_type": "stream",
     "text": [
      "min:  0.0 max:  299.92674350738525 step:  1.1761833078720991\n"
     ]
    },
    {
     "name": "stderr",
     "output_type": "stream",
     "text": [
      "\r",
      " 59%|█████▉    | 571/964 [1:22:29<1:00:23,  9.22s/it]"
     ]
    },
    {
     "name": "stdout",
     "output_type": "stream",
     "text": [
      "min:  0.0 max:  299.92674350738525 step:  1.1761833078720991\n"
     ]
    },
    {
     "name": "stderr",
     "output_type": "stream",
     "text": [
      "\r",
      " 59%|█████▉    | 572/964 [1:22:39<1:01:02,  9.34s/it]"
     ]
    },
    {
     "name": "stdout",
     "output_type": "stream",
     "text": [
      "min:  0.0 max:  299.92674350738525 step:  1.1761833078720991\n"
     ]
    },
    {
     "name": "stderr",
     "output_type": "stream",
     "text": [
      "\r",
      " 59%|█████▉    | 573/964 [1:22:48<1:00:41,  9.31s/it]"
     ]
    },
    {
     "name": "stdout",
     "output_type": "stream",
     "text": [
      "min:  0.0 max:  299.92674350738525 step:  1.1761833078720991\n"
     ]
    },
    {
     "name": "stderr",
     "output_type": "stream",
     "text": [
      "\r",
      " 60%|█████▉    | 574/964 [1:22:57<1:00:07,  9.25s/it]"
     ]
    },
    {
     "name": "stdout",
     "output_type": "stream",
     "text": [
      "min:  0.0 max:  299.92674350738525 step:  1.1761833078720991\n"
     ]
    },
    {
     "name": "stderr",
     "output_type": "stream",
     "text": [
      "\r",
      " 60%|█████▉    | 575/964 [1:23:06<59:48,  9.22s/it]  "
     ]
    },
    {
     "name": "stdout",
     "output_type": "stream",
     "text": [
      "min:  0.0 max:  299.92674350738525 step:  1.1761833078720991\n"
     ]
    },
    {
     "name": "stderr",
     "output_type": "stream",
     "text": [
      "\r",
      " 60%|█████▉    | 576/964 [1:23:15<59:24,  9.19s/it]"
     ]
    },
    {
     "name": "stdout",
     "output_type": "stream",
     "text": [
      "min:  0.0 max:  299.92674350738525 step:  1.1761833078720991\n"
     ]
    },
    {
     "name": "stderr",
     "output_type": "stream",
     "text": [
      "\r",
      " 60%|█████▉    | 577/964 [1:23:24<58:49,  9.12s/it]"
     ]
    },
    {
     "name": "stdout",
     "output_type": "stream",
     "text": [
      "min:  0.0 max:  299.92674350738525 step:  1.1761833078720991\n"
     ]
    },
    {
     "name": "stderr",
     "output_type": "stream",
     "text": [
      "\r",
      " 60%|█████▉    | 578/964 [1:23:33<59:06,  9.19s/it]"
     ]
    },
    {
     "name": "stdout",
     "output_type": "stream",
     "text": [
      "min:  0.0 max:  299.92674350738525 step:  1.1761833078720991\n"
     ]
    },
    {
     "name": "stderr",
     "output_type": "stream",
     "text": [
      "\r",
      " 60%|██████    | 579/964 [1:23:43<58:42,  9.15s/it]"
     ]
    },
    {
     "name": "stdout",
     "output_type": "stream",
     "text": [
      "min:  0.0 max:  299.92674350738525 step:  1.1761833078720991\n"
     ]
    },
    {
     "name": "stderr",
     "output_type": "stream",
     "text": [
      "\r",
      " 60%|██████    | 580/964 [1:23:52<58:40,  9.17s/it]"
     ]
    },
    {
     "name": "stdout",
     "output_type": "stream",
     "text": [
      "min:  0.0 max:  299.92674350738525 step:  1.1761833078720991\n"
     ]
    },
    {
     "name": "stderr",
     "output_type": "stream",
     "text": [
      "\r",
      " 60%|██████    | 581/964 [1:24:01<58:34,  9.18s/it]"
     ]
    },
    {
     "name": "stdout",
     "output_type": "stream",
     "text": [
      "min:  0.0 max:  299.92674350738525 step:  1.1761833078720991\n"
     ]
    },
    {
     "name": "stderr",
     "output_type": "stream",
     "text": [
      "\r",
      " 60%|██████    | 582/964 [1:24:10<58:58,  9.26s/it]"
     ]
    },
    {
     "name": "stdout",
     "output_type": "stream",
     "text": [
      "min:  0.0 max:  299.92674350738525 step:  1.1761833078720991\n"
     ]
    },
    {
     "name": "stderr",
     "output_type": "stream",
     "text": [
      "\r",
      " 60%|██████    | 583/964 [1:24:20<58:46,  9.26s/it]"
     ]
    },
    {
     "name": "stdout",
     "output_type": "stream",
     "text": [
      "min:  0.0 max:  299.92674350738525 step:  1.1761833078720991\n"
     ]
    },
    {
     "name": "stderr",
     "output_type": "stream",
     "text": [
      "\r",
      " 61%|██████    | 584/964 [1:24:29<58:32,  9.24s/it]"
     ]
    },
    {
     "name": "stdout",
     "output_type": "stream",
     "text": [
      "min:  0.0 max:  299.92674350738525 step:  1.1761833078720991\n"
     ]
    },
    {
     "name": "stderr",
     "output_type": "stream",
     "text": [
      "\r",
      " 61%|██████    | 585/964 [1:24:38<58:44,  9.30s/it]"
     ]
    },
    {
     "name": "stdout",
     "output_type": "stream",
     "text": [
      "min:  0.0 max:  299.92674350738525 step:  1.1761833078720991\n"
     ]
    },
    {
     "name": "stderr",
     "output_type": "stream",
     "text": [
      "\r",
      " 61%|██████    | 586/964 [1:24:47<58:20,  9.26s/it]"
     ]
    },
    {
     "name": "stdout",
     "output_type": "stream",
     "text": [
      "min:  0.0 max:  299.92674350738525 step:  1.1761833078720991\n"
     ]
    },
    {
     "name": "stderr",
     "output_type": "stream",
     "text": [
      "\r",
      " 61%|██████    | 587/964 [1:24:57<58:41,  9.34s/it]"
     ]
    },
    {
     "name": "stdout",
     "output_type": "stream",
     "text": [
      "min:  0.0 max:  299.92674350738525 step:  1.1761833078720991\n"
     ]
    },
    {
     "name": "stderr",
     "output_type": "stream",
     "text": [
      "\r",
      " 61%|██████    | 588/964 [1:25:06<58:10,  9.28s/it]"
     ]
    },
    {
     "name": "stdout",
     "output_type": "stream",
     "text": [
      "min:  0.0 max:  299.92674350738525 step:  1.1761833078720991\n"
     ]
    },
    {
     "name": "stderr",
     "output_type": "stream",
     "text": [
      "\r",
      " 61%|██████    | 589/964 [1:25:15<58:03,  9.29s/it]"
     ]
    },
    {
     "name": "stdout",
     "output_type": "stream",
     "text": [
      "min:  0.0 max:  299.92674350738525 step:  1.1761833078720991\n"
     ]
    },
    {
     "name": "stderr",
     "output_type": "stream",
     "text": [
      "\r",
      " 61%|██████    | 590/964 [1:25:25<57:46,  9.27s/it]"
     ]
    },
    {
     "name": "stdout",
     "output_type": "stream",
     "text": [
      "min:  0.0 max:  299.92674350738525 step:  1.1761833078720991\n"
     ]
    },
    {
     "name": "stderr",
     "output_type": "stream",
     "text": [
      "\r",
      " 61%|██████▏   | 591/964 [1:25:34<57:52,  9.31s/it]"
     ]
    },
    {
     "name": "stdout",
     "output_type": "stream",
     "text": [
      "min:  0.0 max:  299.92674350738525 step:  1.1761833078720991\n"
     ]
    },
    {
     "name": "stderr",
     "output_type": "stream",
     "text": [
      "\r",
      " 61%|██████▏   | 592/964 [1:25:43<57:24,  9.26s/it]"
     ]
    },
    {
     "name": "stdout",
     "output_type": "stream",
     "text": [
      "min:  0.0 max:  299.92674350738525 step:  1.1761833078720991\n"
     ]
    },
    {
     "name": "stderr",
     "output_type": "stream",
     "text": [
      "\r",
      " 62%|██████▏   | 593/964 [1:25:53<57:26,  9.29s/it]"
     ]
    },
    {
     "name": "stdout",
     "output_type": "stream",
     "text": [
      "min:  0.0 max:  299.92674350738525 step:  1.1761833078720991\n"
     ]
    },
    {
     "name": "stderr",
     "output_type": "stream",
     "text": [
      "\r",
      " 62%|██████▏   | 594/964 [1:26:02<57:57,  9.40s/it]"
     ]
    },
    {
     "name": "stdout",
     "output_type": "stream",
     "text": [
      "min:  0.0 max:  299.92674350738525 step:  1.1761833078720991\n"
     ]
    },
    {
     "name": "stderr",
     "output_type": "stream",
     "text": [
      "\r",
      " 62%|██████▏   | 595/964 [1:26:11<57:32,  9.36s/it]"
     ]
    },
    {
     "name": "stdout",
     "output_type": "stream",
     "text": [
      "min:  0.0 max:  299.92674350738525 step:  1.1761833078720991\n"
     ]
    },
    {
     "name": "stderr",
     "output_type": "stream",
     "text": [
      "\r",
      " 62%|██████▏   | 596/964 [1:26:21<56:57,  9.29s/it]"
     ]
    },
    {
     "name": "stdout",
     "output_type": "stream",
     "text": [
      "min:  0.0 max:  299.92674350738525 step:  1.1761833078720991\n"
     ]
    },
    {
     "name": "stderr",
     "output_type": "stream",
     "text": [
      "\r",
      " 62%|██████▏   | 597/964 [1:26:30<56:41,  9.27s/it]"
     ]
    },
    {
     "name": "stdout",
     "output_type": "stream",
     "text": [
      "min:  0.0 max:  299.92674350738525 step:  1.1761833078720991\n"
     ]
    },
    {
     "name": "stderr",
     "output_type": "stream",
     "text": [
      "\r",
      " 62%|██████▏   | 598/964 [1:26:39<56:37,  9.28s/it]"
     ]
    },
    {
     "name": "stdout",
     "output_type": "stream",
     "text": [
      "min:  0.0 max:  299.92674350738525 step:  1.1761833078720991\n"
     ]
    },
    {
     "name": "stderr",
     "output_type": "stream",
     "text": [
      "\r",
      " 62%|██████▏   | 599/964 [1:26:49<56:44,  9.33s/it]"
     ]
    },
    {
     "name": "stdout",
     "output_type": "stream",
     "text": [
      "min:  0.0 max:  299.92674350738525 step:  1.1761833078720991\n"
     ]
    },
    {
     "name": "stderr",
     "output_type": "stream",
     "text": [
      "\r",
      " 62%|██████▏   | 600/964 [1:26:58<56:23,  9.30s/it]"
     ]
    },
    {
     "name": "stdout",
     "output_type": "stream",
     "text": [
      "min:  0.0 max:  299.92674350738525 step:  1.1761833078720991\n"
     ]
    },
    {
     "name": "stderr",
     "output_type": "stream",
     "text": [
      "\r",
      " 62%|██████▏   | 601/964 [1:27:07<56:13,  9.29s/it]"
     ]
    },
    {
     "name": "stdout",
     "output_type": "stream",
     "text": [
      "min:  0.0 max:  299.92674350738525 step:  1.1761833078720991\n"
     ]
    },
    {
     "name": "stderr",
     "output_type": "stream",
     "text": [
      "\r",
      " 62%|██████▏   | 602/964 [1:27:16<56:04,  9.29s/it]"
     ]
    },
    {
     "name": "stdout",
     "output_type": "stream",
     "text": [
      "min:  0.0 max:  299.92674350738525 step:  1.1761833078720991\n"
     ]
    },
    {
     "name": "stderr",
     "output_type": "stream",
     "text": [
      "\r",
      " 63%|██████▎   | 603/964 [1:27:25<55:30,  9.23s/it]"
     ]
    },
    {
     "name": "stdout",
     "output_type": "stream",
     "text": [
      "min:  0.0 max:  299.92674350738525 step:  1.1761833078720991\n"
     ]
    },
    {
     "name": "stderr",
     "output_type": "stream",
     "text": [
      "\r",
      " 63%|██████▎   | 604/964 [1:27:35<55:52,  9.31s/it]"
     ]
    },
    {
     "name": "stdout",
     "output_type": "stream",
     "text": [
      "min:  0.0 max:  299.92674350738525 step:  1.1761833078720991\n"
     ]
    },
    {
     "name": "stderr",
     "output_type": "stream",
     "text": [
      "\r",
      " 63%|██████▎   | 605/964 [1:27:44<55:35,  9.29s/it]"
     ]
    },
    {
     "name": "stdout",
     "output_type": "stream",
     "text": [
      "min:  0.0 max:  299.92674350738525 step:  1.1761833078720991\n"
     ]
    },
    {
     "name": "stderr",
     "output_type": "stream",
     "text": [
      "\r",
      " 63%|██████▎   | 606/964 [1:27:53<55:25,  9.29s/it]"
     ]
    },
    {
     "name": "stdout",
     "output_type": "stream",
     "text": [
      "min:  0.0 max:  299.92674350738525 step:  1.1761833078720991\n"
     ]
    },
    {
     "name": "stderr",
     "output_type": "stream",
     "text": [
      "\r",
      " 63%|██████▎   | 607/964 [1:28:03<55:18,  9.30s/it]"
     ]
    },
    {
     "name": "stdout",
     "output_type": "stream",
     "text": [
      "min:  0.0 max:  150.0 step:  0.5882352941176471\n"
     ]
    },
    {
     "name": "stderr",
     "output_type": "stream",
     "text": [
      "\r",
      " 63%|██████▎   | 608/964 [1:28:32<1:30:03, 15.18s/it]"
     ]
    },
    {
     "name": "stdout",
     "output_type": "stream",
     "text": [
      "min:  0.0 max:  150.0 step:  0.5882352941176471\n"
     ]
    },
    {
     "name": "stderr",
     "output_type": "stream",
     "text": [
      "\r",
      " 63%|██████▎   | 609/964 [1:29:00<1:52:59, 19.10s/it]"
     ]
    },
    {
     "name": "stdout",
     "output_type": "stream",
     "text": [
      "min:  0.0 max:  150.0 step:  0.5882352941176471\n"
     ]
    },
    {
     "name": "stderr",
     "output_type": "stream",
     "text": [
      "\r",
      " 63%|██████▎   | 610/964 [1:29:28<2:09:22, 21.93s/it]"
     ]
    },
    {
     "name": "stdout",
     "output_type": "stream",
     "text": [
      "min:  0.0 max:  150.0 step:  0.5882352941176471\n"
     ]
    },
    {
     "name": "stderr",
     "output_type": "stream",
     "text": [
      "\r",
      " 63%|██████▎   | 611/964 [1:29:57<2:20:28, 23.88s/it]"
     ]
    },
    {
     "name": "stdout",
     "output_type": "stream",
     "text": [
      "min:  0.0 max:  150.0 step:  0.5882352941176471\n"
     ]
    },
    {
     "name": "stderr",
     "output_type": "stream",
     "text": [
      "\r",
      " 63%|██████▎   | 612/964 [1:30:25<2:27:18, 25.11s/it]"
     ]
    },
    {
     "name": "stdout",
     "output_type": "stream",
     "text": [
      "min:  0.0 max:  150.0 step:  0.5882352941176471\n"
     ]
    },
    {
     "name": "stderr",
     "output_type": "stream",
     "text": [
      "\r",
      " 64%|██████▎   | 613/964 [1:30:53<2:32:36, 26.09s/it]"
     ]
    },
    {
     "name": "stdout",
     "output_type": "stream",
     "text": [
      "min:  0.0 max:  150.0 step:  0.5882352941176471\n"
     ]
    },
    {
     "name": "stderr",
     "output_type": "stream",
     "text": [
      "\r",
      " 64%|██████▎   | 614/964 [1:31:20<2:34:09, 26.43s/it]"
     ]
    },
    {
     "name": "stdout",
     "output_type": "stream",
     "text": [
      "min:  0.0 max:  150.0 step:  0.5882352941176471\n"
     ]
    },
    {
     "name": "stderr",
     "output_type": "stream",
     "text": [
      "\r",
      " 64%|██████▍   | 615/964 [1:31:48<2:35:57, 26.81s/it]"
     ]
    },
    {
     "name": "stdout",
     "output_type": "stream",
     "text": [
      "min:  0.0 max:  150.0 step:  0.5882352941176471\n"
     ]
    },
    {
     "name": "stderr",
     "output_type": "stream",
     "text": [
      "\r",
      " 64%|██████▍   | 616/964 [1:32:17<2:38:59, 27.41s/it]"
     ]
    },
    {
     "name": "stdout",
     "output_type": "stream",
     "text": [
      "min:  0.0 max:  150.0 step:  0.5882352941176471\n"
     ]
    },
    {
     "name": "stderr",
     "output_type": "stream",
     "text": [
      "\r",
      " 64%|██████▍   | 617/964 [1:32:45<2:40:14, 27.71s/it]"
     ]
    },
    {
     "name": "stdout",
     "output_type": "stream",
     "text": [
      "min:  0.0 max:  150.0 step:  0.5882352941176471\n"
     ]
    },
    {
     "name": "stderr",
     "output_type": "stream",
     "text": [
      "\r",
      " 64%|██████▍   | 618/964 [1:33:14<2:42:10, 28.12s/it]"
     ]
    },
    {
     "name": "stdout",
     "output_type": "stream",
     "text": [
      "min:  0.0 max:  150.0 step:  0.5882352941176471\n"
     ]
    },
    {
     "name": "stderr",
     "output_type": "stream",
     "text": [
      "\r",
      " 64%|██████▍   | 619/964 [1:33:43<2:42:56, 28.34s/it]"
     ]
    },
    {
     "name": "stdout",
     "output_type": "stream",
     "text": [
      "min:  0.0 max:  150.0 step:  0.5882352941176471\n"
     ]
    },
    {
     "name": "stderr",
     "output_type": "stream",
     "text": [
      "\r",
      " 64%|██████▍   | 620/964 [1:34:12<2:42:35, 28.36s/it]"
     ]
    },
    {
     "name": "stdout",
     "output_type": "stream",
     "text": [
      "min:  0.0 max:  150.0 step:  0.5882352941176471\n"
     ]
    },
    {
     "name": "stderr",
     "output_type": "stream",
     "text": [
      "\r",
      " 64%|██████▍   | 621/964 [1:34:39<2:39:59, 27.99s/it]"
     ]
    },
    {
     "name": "stdout",
     "output_type": "stream",
     "text": [
      "min:  0.0 max:  150.0 step:  0.5882352941176471\n"
     ]
    },
    {
     "name": "stderr",
     "output_type": "stream",
     "text": [
      "\r",
      " 65%|██████▍   | 622/964 [1:35:07<2:39:33, 27.99s/it]"
     ]
    },
    {
     "name": "stdout",
     "output_type": "stream",
     "text": [
      "min:  0.0 max:  150.0 step:  0.5882352941176471\n"
     ]
    },
    {
     "name": "stderr",
     "output_type": "stream",
     "text": [
      "\r",
      " 65%|██████▍   | 623/964 [1:35:36<2:40:17, 28.21s/it]"
     ]
    },
    {
     "name": "stdout",
     "output_type": "stream",
     "text": [
      "min:  0.0 max:  150.0 step:  0.5882352941176471\n"
     ]
    },
    {
     "name": "stderr",
     "output_type": "stream",
     "text": [
      "\r",
      " 65%|██████▍   | 624/964 [1:36:03<2:39:09, 28.09s/it]"
     ]
    },
    {
     "name": "stdout",
     "output_type": "stream",
     "text": [
      "min:  0.0 max:  150.0 step:  0.5882352941176471\n"
     ]
    },
    {
     "name": "stderr",
     "output_type": "stream",
     "text": [
      "\r",
      " 65%|██████▍   | 625/964 [1:36:32<2:40:00, 28.32s/it]"
     ]
    },
    {
     "name": "stdout",
     "output_type": "stream",
     "text": [
      "min:  0.0 max:  150.0 step:  0.5882352941176471\n"
     ]
    },
    {
     "name": "stderr",
     "output_type": "stream",
     "text": [
      "\r",
      " 65%|██████▍   | 626/964 [1:37:00<2:39:16, 28.27s/it]"
     ]
    },
    {
     "name": "stdout",
     "output_type": "stream",
     "text": [
      "min:  0.0 max:  150.0 step:  0.5882352941176471\n"
     ]
    },
    {
     "name": "stderr",
     "output_type": "stream",
     "text": [
      "\r",
      " 65%|██████▌   | 627/964 [1:37:29<2:40:10, 28.52s/it]"
     ]
    },
    {
     "name": "stdout",
     "output_type": "stream",
     "text": [
      "min:  0.0 max:  150.0 step:  0.5882352941176471\n"
     ]
    },
    {
     "name": "stderr",
     "output_type": "stream",
     "text": [
      "\r",
      " 65%|██████▌   | 628/964 [1:37:58<2:40:31, 28.67s/it]"
     ]
    },
    {
     "name": "stdout",
     "output_type": "stream",
     "text": [
      "min:  0.0 max:  150.0 step:  0.5882352941176471\n"
     ]
    },
    {
     "name": "stderr",
     "output_type": "stream",
     "text": [
      "\r",
      " 65%|██████▌   | 629/964 [1:38:27<2:39:15, 28.52s/it]"
     ]
    },
    {
     "name": "stdout",
     "output_type": "stream",
     "text": [
      "min:  0.0 max:  150.0 step:  0.5882352941176471\n"
     ]
    },
    {
     "name": "stderr",
     "output_type": "stream",
     "text": [
      "\r",
      " 65%|██████▌   | 630/964 [1:38:56<2:39:30, 28.65s/it]"
     ]
    },
    {
     "name": "stdout",
     "output_type": "stream",
     "text": [
      "min:  0.0 max:  150.0 step:  0.5882352941176471\n"
     ]
    },
    {
     "name": "stderr",
     "output_type": "stream",
     "text": [
      "\r",
      " 65%|██████▌   | 631/964 [1:39:25<2:39:52, 28.81s/it]"
     ]
    },
    {
     "name": "stdout",
     "output_type": "stream",
     "text": [
      "min:  0.0 max:  150.0 step:  0.5882352941176471\n"
     ]
    },
    {
     "name": "stderr",
     "output_type": "stream",
     "text": [
      "\r",
      " 66%|██████▌   | 632/964 [1:39:54<2:40:03, 28.93s/it]"
     ]
    },
    {
     "name": "stdout",
     "output_type": "stream",
     "text": [
      "min:  0.0 max:  150.0 step:  0.5882352941176471\n"
     ]
    },
    {
     "name": "stderr",
     "output_type": "stream",
     "text": [
      "\r",
      " 66%|██████▌   | 633/964 [1:40:23<2:39:56, 28.99s/it]"
     ]
    },
    {
     "name": "stdout",
     "output_type": "stream",
     "text": [
      "min:  0.0 max:  150.0 step:  0.5882352941176471\n"
     ]
    },
    {
     "name": "stderr",
     "output_type": "stream",
     "text": [
      "\r",
      " 66%|██████▌   | 634/964 [1:40:52<2:38:26, 28.81s/it]"
     ]
    },
    {
     "name": "stdout",
     "output_type": "stream",
     "text": [
      "min:  0.0 max:  150.0 step:  0.5882352941176471\n"
     ]
    },
    {
     "name": "stderr",
     "output_type": "stream",
     "text": [
      "\r",
      " 66%|██████▌   | 635/964 [1:41:21<2:38:30, 28.91s/it]"
     ]
    },
    {
     "name": "stdout",
     "output_type": "stream",
     "text": [
      "min:  0.0 max:  150.0 step:  0.5882352941176471\n"
     ]
    },
    {
     "name": "stderr",
     "output_type": "stream",
     "text": [
      "\r",
      " 66%|██████▌   | 636/964 [1:41:50<2:38:25, 28.98s/it]"
     ]
    },
    {
     "name": "stdout",
     "output_type": "stream",
     "text": [
      "min:  0.0 max:  150.0 step:  0.5882352941176471\n"
     ]
    },
    {
     "name": "stderr",
     "output_type": "stream",
     "text": [
      "\r",
      " 66%|██████▌   | 637/964 [1:42:18<2:36:32, 28.72s/it]"
     ]
    },
    {
     "name": "stdout",
     "output_type": "stream",
     "text": [
      "min:  0.0 max:  150.0 step:  0.5882352941176471\n"
     ]
    },
    {
     "name": "stderr",
     "output_type": "stream",
     "text": [
      "\r",
      " 66%|██████▌   | 638/964 [1:42:47<2:36:19, 28.77s/it]"
     ]
    },
    {
     "name": "stdout",
     "output_type": "stream",
     "text": [
      "min:  0.0 max:  150.0 step:  0.5882352941176471\n"
     ]
    },
    {
     "name": "stderr",
     "output_type": "stream",
     "text": [
      "\r",
      " 66%|██████▋   | 639/964 [1:43:16<2:36:35, 28.91s/it]"
     ]
    },
    {
     "name": "stdout",
     "output_type": "stream",
     "text": [
      "min:  0.0 max:  150.0 step:  0.5882352941176471\n"
     ]
    },
    {
     "name": "stderr",
     "output_type": "stream",
     "text": [
      "\r",
      " 66%|██████▋   | 640/964 [1:43:44<2:34:30, 28.61s/it]"
     ]
    },
    {
     "name": "stdout",
     "output_type": "stream",
     "text": [
      "min:  0.0 max:  150.0 step:  0.5882352941176471\n"
     ]
    },
    {
     "name": "stderr",
     "output_type": "stream",
     "text": [
      "\r",
      " 66%|██████▋   | 641/964 [1:44:13<2:35:14, 28.84s/it]"
     ]
    },
    {
     "name": "stdout",
     "output_type": "stream",
     "text": [
      "min:  0.0 max:  150.0 step:  0.5882352941176471\n"
     ]
    },
    {
     "name": "stderr",
     "output_type": "stream",
     "text": [
      "\r",
      " 67%|██████▋   | 642/964 [1:44:43<2:35:35, 28.99s/it]"
     ]
    },
    {
     "name": "stdout",
     "output_type": "stream",
     "text": [
      "min:  0.0 max:  150.0 step:  0.5882352941176471\n"
     ]
    },
    {
     "name": "stderr",
     "output_type": "stream",
     "text": [
      "\r",
      " 67%|██████▋   | 643/964 [1:45:12<2:35:08, 29.00s/it]"
     ]
    },
    {
     "name": "stdout",
     "output_type": "stream",
     "text": [
      "min:  0.0 max:  150.0 step:  0.5882352941176471\n"
     ]
    },
    {
     "name": "stderr",
     "output_type": "stream",
     "text": [
      "\r",
      " 67%|██████▋   | 644/964 [1:45:40<2:33:55, 28.86s/it]"
     ]
    },
    {
     "name": "stdout",
     "output_type": "stream",
     "text": [
      "min:  0.0 max:  150.0 step:  0.5882352941176471\n"
     ]
    },
    {
     "name": "stderr",
     "output_type": "stream",
     "text": [
      "\r",
      " 67%|██████▋   | 645/964 [1:46:08<2:32:01, 28.59s/it]"
     ]
    },
    {
     "name": "stdout",
     "output_type": "stream",
     "text": [
      "min:  0.0 max:  150.0 step:  0.5882352941176471\n"
     ]
    },
    {
     "name": "stderr",
     "output_type": "stream",
     "text": [
      "\r",
      " 67%|██████▋   | 646/964 [1:46:37<2:31:14, 28.54s/it]"
     ]
    },
    {
     "name": "stdout",
     "output_type": "stream",
     "text": [
      "min:  0.0 max:  150.0 step:  0.5882352941176471\n"
     ]
    },
    {
     "name": "stderr",
     "output_type": "stream",
     "text": [
      "\r",
      " 67%|██████▋   | 647/964 [1:47:05<2:30:19, 28.45s/it]"
     ]
    },
    {
     "name": "stdout",
     "output_type": "stream",
     "text": [
      "min:  0.0 max:  150.0 step:  0.5882352941176471\n"
     ]
    },
    {
     "name": "stderr",
     "output_type": "stream",
     "text": [
      "\r",
      " 67%|██████▋   | 648/964 [1:47:35<2:31:55, 28.85s/it]"
     ]
    },
    {
     "name": "stdout",
     "output_type": "stream",
     "text": [
      "min:  0.0 max:  150.0 step:  0.5882352941176471\n"
     ]
    },
    {
     "name": "stderr",
     "output_type": "stream",
     "text": [
      "\r",
      " 67%|██████▋   | 649/964 [1:48:04<2:32:04, 28.97s/it]"
     ]
    },
    {
     "name": "stdout",
     "output_type": "stream",
     "text": [
      "min:  0.0 max:  150.0 step:  0.5882352941176471\n"
     ]
    },
    {
     "name": "stderr",
     "output_type": "stream",
     "text": [
      "\r",
      " 67%|██████▋   | 650/964 [1:48:32<2:30:20, 28.73s/it]"
     ]
    },
    {
     "name": "stdout",
     "output_type": "stream",
     "text": [
      "min:  0.0 max:  150.0 step:  0.5882352941176471\n"
     ]
    },
    {
     "name": "stderr",
     "output_type": "stream",
     "text": [
      "\r",
      " 68%|██████▊   | 651/964 [1:49:01<2:30:44, 28.90s/it]"
     ]
    },
    {
     "name": "stdout",
     "output_type": "stream",
     "text": [
      "min:  0.0 max:  150.0 step:  0.5882352941176471\n"
     ]
    },
    {
     "name": "stderr",
     "output_type": "stream",
     "text": [
      "\r",
      " 68%|██████▊   | 652/964 [1:49:31<2:30:52, 29.01s/it]"
     ]
    },
    {
     "name": "stdout",
     "output_type": "stream",
     "text": [
      "min:  0.0 max:  150.0 step:  0.5882352941176471\n"
     ]
    },
    {
     "name": "stderr",
     "output_type": "stream",
     "text": [
      "\r",
      " 68%|██████▊   | 653/964 [1:50:00<2:31:24, 29.21s/it]"
     ]
    },
    {
     "name": "stdout",
     "output_type": "stream",
     "text": [
      "min:  0.0 max:  150.0 step:  0.5882352941176471\n"
     ]
    },
    {
     "name": "stderr",
     "output_type": "stream",
     "text": [
      "\r",
      " 68%|██████▊   | 654/964 [1:50:30<2:31:00, 29.23s/it]"
     ]
    },
    {
     "name": "stdout",
     "output_type": "stream",
     "text": [
      "min:  0.0 max:  150.0 step:  0.5882352941176471\n"
     ]
    },
    {
     "name": "stderr",
     "output_type": "stream",
     "text": [
      "\r",
      " 68%|██████▊   | 655/964 [1:50:59<2:30:42, 29.26s/it]"
     ]
    },
    {
     "name": "stdout",
     "output_type": "stream",
     "text": [
      "min:  0.0 max:  150.0 step:  0.5882352941176471\n"
     ]
    },
    {
     "name": "stderr",
     "output_type": "stream",
     "text": [
      "\r",
      " 68%|██████▊   | 656/964 [1:51:28<2:30:07, 29.25s/it]"
     ]
    },
    {
     "name": "stdout",
     "output_type": "stream",
     "text": [
      "min:  0.0 max:  150.0 step:  0.5882352941176471\n"
     ]
    },
    {
     "name": "stderr",
     "output_type": "stream",
     "text": [
      "\r",
      " 68%|██████▊   | 657/964 [1:51:57<2:29:32, 29.23s/it]"
     ]
    },
    {
     "name": "stdout",
     "output_type": "stream",
     "text": [
      "min:  0.0 max:  150.0 step:  0.5882352941176471\n"
     ]
    },
    {
     "name": "stderr",
     "output_type": "stream",
     "text": [
      "\r",
      " 68%|██████▊   | 658/964 [1:52:26<2:28:58, 29.21s/it]"
     ]
    },
    {
     "name": "stdout",
     "output_type": "stream",
     "text": [
      "min:  0.0 max:  150.0 step:  0.5882352941176471\n"
     ]
    },
    {
     "name": "stderr",
     "output_type": "stream",
     "text": [
      "\r",
      " 68%|██████▊   | 659/964 [1:52:56<2:28:12, 29.15s/it]"
     ]
    },
    {
     "name": "stdout",
     "output_type": "stream",
     "text": [
      "min:  0.0 max:  150.0 step:  0.5882352941176471\n"
     ]
    },
    {
     "name": "stderr",
     "output_type": "stream",
     "text": [
      "\r",
      " 68%|██████▊   | 660/964 [1:53:25<2:27:46, 29.17s/it]"
     ]
    },
    {
     "name": "stdout",
     "output_type": "stream",
     "text": [
      "min:  0.0 max:  150.0 step:  0.5882352941176471\n"
     ]
    },
    {
     "name": "stderr",
     "output_type": "stream",
     "text": [
      "\r",
      " 69%|██████▊   | 661/964 [1:53:54<2:27:15, 29.16s/it]"
     ]
    },
    {
     "name": "stdout",
     "output_type": "stream",
     "text": [
      "min:  0.0 max:  150.0 step:  0.5882352941176471\n"
     ]
    },
    {
     "name": "stderr",
     "output_type": "stream",
     "text": [
      "\r",
      " 69%|██████▊   | 662/964 [1:54:23<2:26:58, 29.20s/it]"
     ]
    },
    {
     "name": "stdout",
     "output_type": "stream",
     "text": [
      "min:  0.0 max:  150.0 step:  0.5882352941176471\n"
     ]
    },
    {
     "name": "stderr",
     "output_type": "stream",
     "text": [
      "\r",
      " 69%|██████▉   | 663/964 [1:54:52<2:26:42, 29.24s/it]"
     ]
    },
    {
     "name": "stdout",
     "output_type": "stream",
     "text": [
      "min:  0.0 max:  150.0 step:  0.5882352941176471\n"
     ]
    },
    {
     "name": "stderr",
     "output_type": "stream",
     "text": [
      "\r",
      " 69%|██████▉   | 664/964 [1:55:22<2:26:00, 29.20s/it]"
     ]
    },
    {
     "name": "stdout",
     "output_type": "stream",
     "text": [
      "min:  0.0 max:  150.0 step:  0.5882352941176471\n"
     ]
    },
    {
     "name": "stderr",
     "output_type": "stream",
     "text": [
      "\r",
      " 69%|██████▉   | 665/964 [1:55:51<2:25:30, 29.20s/it]"
     ]
    },
    {
     "name": "stdout",
     "output_type": "stream",
     "text": [
      "min:  0.0 max:  150.0 step:  0.5882352941176471\n"
     ]
    },
    {
     "name": "stderr",
     "output_type": "stream",
     "text": [
      "\r",
      " 69%|██████▉   | 666/964 [1:56:20<2:25:17, 29.25s/it]"
     ]
    },
    {
     "name": "stdout",
     "output_type": "stream",
     "text": [
      "min:  0.0 max:  150.0 step:  0.5882352941176471\n"
     ]
    },
    {
     "name": "stderr",
     "output_type": "stream",
     "text": [
      "\r",
      " 69%|██████▉   | 667/964 [1:56:48<2:23:19, 28.95s/it]"
     ]
    },
    {
     "name": "stdout",
     "output_type": "stream",
     "text": [
      "min:  0.0 max:  150.0 step:  0.5882352941176471\n"
     ]
    },
    {
     "name": "stderr",
     "output_type": "stream",
     "text": [
      "\r",
      " 69%|██████▉   | 668/964 [1:57:18<2:23:47, 29.15s/it]"
     ]
    },
    {
     "name": "stdout",
     "output_type": "stream",
     "text": [
      "min:  0.0 max:  150.0 step:  0.5882352941176471\n"
     ]
    },
    {
     "name": "stderr",
     "output_type": "stream",
     "text": [
      "\r",
      " 69%|██████▉   | 669/964 [1:57:47<2:22:34, 29.00s/it]"
     ]
    },
    {
     "name": "stdout",
     "output_type": "stream",
     "text": [
      "min:  0.0 max:  150.0 step:  0.5882352941176471\n"
     ]
    },
    {
     "name": "stderr",
     "output_type": "stream",
     "text": [
      "\r",
      " 70%|██████▉   | 670/964 [1:58:16<2:22:20, 29.05s/it]"
     ]
    },
    {
     "name": "stdout",
     "output_type": "stream",
     "text": [
      "min:  0.0 max:  150.0 step:  0.5882352941176471\n"
     ]
    },
    {
     "name": "stderr",
     "output_type": "stream",
     "text": [
      "\r",
      " 70%|██████▉   | 671/964 [1:58:44<2:21:13, 28.92s/it]"
     ]
    },
    {
     "name": "stdout",
     "output_type": "stream",
     "text": [
      "min:  0.0 max:  150.0 step:  0.5882352941176471\n"
     ]
    },
    {
     "name": "stderr",
     "output_type": "stream",
     "text": [
      "\r",
      " 70%|██████▉   | 672/964 [1:59:13<2:20:18, 28.83s/it]"
     ]
    },
    {
     "name": "stdout",
     "output_type": "stream",
     "text": [
      "min:  0.0 max:  150.0 step:  0.5882352941176471\n"
     ]
    },
    {
     "name": "stderr",
     "output_type": "stream",
     "text": [
      "\r",
      " 70%|██████▉   | 673/964 [1:59:43<2:20:46, 29.03s/it]"
     ]
    },
    {
     "name": "stdout",
     "output_type": "stream",
     "text": [
      "min:  0.0 max:  150.0 step:  0.5882352941176471\n"
     ]
    },
    {
     "name": "stderr",
     "output_type": "stream",
     "text": [
      "\r",
      " 70%|██████▉   | 674/964 [2:00:11<2:18:56, 28.75s/it]"
     ]
    },
    {
     "name": "stdout",
     "output_type": "stream",
     "text": [
      "min:  0.0 max:  150.0 step:  0.5882352941176471\n"
     ]
    },
    {
     "name": "stderr",
     "output_type": "stream",
     "text": [
      "\r",
      " 70%|███████   | 675/964 [2:00:39<2:18:13, 28.70s/it]"
     ]
    },
    {
     "name": "stdout",
     "output_type": "stream",
     "text": [
      "min:  0.0 max:  150.0 step:  0.5882352941176471\n"
     ]
    },
    {
     "name": "stderr",
     "output_type": "stream",
     "text": [
      "\r",
      " 70%|███████   | 676/964 [2:01:08<2:17:59, 28.75s/it]"
     ]
    },
    {
     "name": "stdout",
     "output_type": "stream",
     "text": [
      "min:  0.0 max:  150.0 step:  0.5882352941176471\n"
     ]
    },
    {
     "name": "stderr",
     "output_type": "stream",
     "text": [
      "\r",
      " 70%|███████   | 677/964 [2:01:37<2:17:07, 28.67s/it]"
     ]
    },
    {
     "name": "stdout",
     "output_type": "stream",
     "text": [
      "min:  0.0 max:  150.0 step:  0.5882352941176471\n"
     ]
    },
    {
     "name": "stderr",
     "output_type": "stream",
     "text": [
      "\r",
      " 70%|███████   | 678/964 [2:02:06<2:17:56, 28.94s/it]"
     ]
    },
    {
     "name": "stdout",
     "output_type": "stream",
     "text": [
      "min:  0.0 max:  150.0 step:  0.5882352941176471\n"
     ]
    },
    {
     "name": "stderr",
     "output_type": "stream",
     "text": [
      "\r",
      " 70%|███████   | 679/964 [2:02:35<2:17:08, 28.87s/it]"
     ]
    },
    {
     "name": "stdout",
     "output_type": "stream",
     "text": [
      "min:  0.0 max:  150.0 step:  0.5882352941176471\n"
     ]
    },
    {
     "name": "stderr",
     "output_type": "stream",
     "text": [
      "\r",
      " 71%|███████   | 680/964 [2:03:04<2:16:29, 28.84s/it]"
     ]
    },
    {
     "name": "stdout",
     "output_type": "stream",
     "text": [
      "min:  0.0 max:  150.0 step:  0.5882352941176471\n"
     ]
    },
    {
     "name": "stderr",
     "output_type": "stream",
     "text": [
      "\r",
      " 71%|███████   | 681/964 [2:03:33<2:16:54, 29.03s/it]"
     ]
    },
    {
     "name": "stdout",
     "output_type": "stream",
     "text": [
      "min:  0.0 max:  150.0 step:  0.5882352941176471\n"
     ]
    },
    {
     "name": "stderr",
     "output_type": "stream",
     "text": [
      "\r",
      " 71%|███████   | 682/964 [2:04:02<2:16:09, 28.97s/it]"
     ]
    },
    {
     "name": "stdout",
     "output_type": "stream",
     "text": [
      "min:  0.0 max:  150.0 step:  0.5882352941176471\n"
     ]
    },
    {
     "name": "stderr",
     "output_type": "stream",
     "text": [
      "\r",
      " 71%|███████   | 683/964 [2:04:31<2:16:05, 29.06s/it]"
     ]
    },
    {
     "name": "stdout",
     "output_type": "stream",
     "text": [
      "min:  0.0 max:  150.0 step:  0.5882352941176471\n"
     ]
    },
    {
     "name": "stderr",
     "output_type": "stream",
     "text": [
      "\r",
      " 71%|███████   | 684/964 [2:05:00<2:15:47, 29.10s/it]"
     ]
    },
    {
     "name": "stdout",
     "output_type": "stream",
     "text": [
      "min:  0.0 max:  150.0 step:  0.5882352941176471\n"
     ]
    },
    {
     "name": "stderr",
     "output_type": "stream",
     "text": [
      "\r",
      " 71%|███████   | 685/964 [2:05:29<2:14:32, 28.93s/it]"
     ]
    },
    {
     "name": "stdout",
     "output_type": "stream",
     "text": [
      "min:  0.0 max:  150.0 step:  0.5882352941176471\n"
     ]
    },
    {
     "name": "stderr",
     "output_type": "stream",
     "text": [
      "\r",
      " 71%|███████   | 686/964 [2:05:58<2:14:51, 29.11s/it]"
     ]
    },
    {
     "name": "stdout",
     "output_type": "stream",
     "text": [
      "min:  0.0 max:  150.0 step:  0.5882352941176471\n"
     ]
    },
    {
     "name": "stderr",
     "output_type": "stream",
     "text": [
      "\r",
      " 71%|███████▏  | 687/964 [2:06:28<2:14:49, 29.20s/it]"
     ]
    },
    {
     "name": "stdout",
     "output_type": "stream",
     "text": [
      "min:  0.0 max:  150.0 step:  0.5882352941176471\n"
     ]
    },
    {
     "name": "stderr",
     "output_type": "stream",
     "text": [
      "\r",
      " 71%|███████▏  | 688/964 [2:06:57<2:14:31, 29.25s/it]"
     ]
    },
    {
     "name": "stdout",
     "output_type": "stream",
     "text": [
      "min:  0.0 max:  150.0 step:  0.5882352941176471\n"
     ]
    },
    {
     "name": "stderr",
     "output_type": "stream",
     "text": [
      "\r",
      " 71%|███████▏  | 689/964 [2:07:27<2:14:22, 29.32s/it]"
     ]
    },
    {
     "name": "stdout",
     "output_type": "stream",
     "text": [
      "min:  0.0 max:  150.0 step:  0.5882352941176471\n"
     ]
    },
    {
     "name": "stderr",
     "output_type": "stream",
     "text": [
      "\r",
      " 72%|███████▏  | 690/964 [2:07:55<2:12:46, 29.08s/it]"
     ]
    },
    {
     "name": "stdout",
     "output_type": "stream",
     "text": [
      "min:  0.0 max:  150.0 step:  0.5882352941176471\n"
     ]
    },
    {
     "name": "stderr",
     "output_type": "stream",
     "text": [
      "\r",
      " 72%|███████▏  | 691/964 [2:08:24<2:11:28, 28.89s/it]"
     ]
    },
    {
     "name": "stdout",
     "output_type": "stream",
     "text": [
      "min:  0.0 max:  150.0 step:  0.5882352941176471\n"
     ]
    },
    {
     "name": "stderr",
     "output_type": "stream",
     "text": [
      "\r",
      " 72%|███████▏  | 692/964 [2:08:53<2:11:14, 28.95s/it]"
     ]
    },
    {
     "name": "stdout",
     "output_type": "stream",
     "text": [
      "min:  0.0 max:  150.0 step:  0.5882352941176471\n"
     ]
    },
    {
     "name": "stderr",
     "output_type": "stream",
     "text": [
      "\r",
      " 72%|███████▏  | 693/964 [2:09:22<2:11:37, 29.14s/it]"
     ]
    },
    {
     "name": "stdout",
     "output_type": "stream",
     "text": [
      "min:  0.0 max:  150.0 step:  0.5882352941176471\n"
     ]
    },
    {
     "name": "stderr",
     "output_type": "stream",
     "text": [
      "\r",
      " 72%|███████▏  | 694/964 [2:09:51<2:10:59, 29.11s/it]"
     ]
    },
    {
     "name": "stdout",
     "output_type": "stream",
     "text": [
      "min:  0.0 max:  150.0 step:  0.5882352941176471\n"
     ]
    },
    {
     "name": "stderr",
     "output_type": "stream",
     "text": [
      "\r",
      " 72%|███████▏  | 695/964 [2:10:20<2:10:07, 29.02s/it]"
     ]
    },
    {
     "name": "stdout",
     "output_type": "stream",
     "text": [
      "min:  0.0 max:  150.0 step:  0.5882352941176471\n"
     ]
    },
    {
     "name": "stderr",
     "output_type": "stream",
     "text": [
      "\r",
      " 72%|███████▏  | 696/964 [2:10:50<2:10:35, 29.24s/it]"
     ]
    },
    {
     "name": "stdout",
     "output_type": "stream",
     "text": [
      "min:  0.0 max:  150.0 step:  0.5882352941176471\n"
     ]
    },
    {
     "name": "stderr",
     "output_type": "stream",
     "text": [
      "\r",
      " 72%|███████▏  | 697/964 [2:11:20<2:10:45, 29.39s/it]"
     ]
    },
    {
     "name": "stdout",
     "output_type": "stream",
     "text": [
      "min:  0.0 max:  150.0 step:  0.5882352941176471\n"
     ]
    },
    {
     "name": "stderr",
     "output_type": "stream",
     "text": [
      "\r",
      " 72%|███████▏  | 698/964 [2:11:49<2:10:27, 29.43s/it]"
     ]
    },
    {
     "name": "stdout",
     "output_type": "stream",
     "text": [
      "min:  0.0 max:  150.0 step:  0.5882352941176471\n"
     ]
    },
    {
     "name": "stderr",
     "output_type": "stream",
     "text": [
      "\r",
      " 73%|███████▎  | 699/964 [2:12:19<2:10:54, 29.64s/it]"
     ]
    },
    {
     "name": "stdout",
     "output_type": "stream",
     "text": [
      "min:  0.0 max:  150.0 step:  0.5882352941176471\n"
     ]
    },
    {
     "name": "stderr",
     "output_type": "stream",
     "text": [
      "\r",
      " 73%|███████▎  | 700/964 [2:12:49<2:10:31, 29.66s/it]"
     ]
    },
    {
     "name": "stdout",
     "output_type": "stream",
     "text": [
      "min:  0.0 max:  150.0 step:  0.5882352941176471\n"
     ]
    },
    {
     "name": "stderr",
     "output_type": "stream",
     "text": [
      "\r",
      " 73%|███████▎  | 701/964 [2:13:19<2:10:34, 29.79s/it]"
     ]
    },
    {
     "name": "stdout",
     "output_type": "stream",
     "text": [
      "min:  0.0 max:  150.0 step:  0.5882352941176471\n"
     ]
    },
    {
     "name": "stderr",
     "output_type": "stream",
     "text": [
      "\r",
      " 73%|███████▎  | 702/964 [2:13:49<2:09:33, 29.67s/it]"
     ]
    },
    {
     "name": "stdout",
     "output_type": "stream",
     "text": [
      "min:  0.0 max:  150.0 step:  0.5882352941176471\n"
     ]
    },
    {
     "name": "stderr",
     "output_type": "stream",
     "text": [
      "\r",
      " 73%|███████▎  | 703/964 [2:14:18<2:09:13, 29.71s/it]"
     ]
    },
    {
     "name": "stdout",
     "output_type": "stream",
     "text": [
      "min:  0.0 max:  150.0 step:  0.5882352941176471\n"
     ]
    },
    {
     "name": "stderr",
     "output_type": "stream",
     "text": [
      "\r",
      " 73%|███████▎  | 704/964 [2:14:47<2:07:31, 29.43s/it]"
     ]
    },
    {
     "name": "stdout",
     "output_type": "stream",
     "text": [
      "min:  0.0 max:  150.0 step:  0.5882352941176471\n"
     ]
    },
    {
     "name": "stderr",
     "output_type": "stream",
     "text": [
      "\r",
      " 73%|███████▎  | 705/964 [2:15:16<2:06:07, 29.22s/it]"
     ]
    },
    {
     "name": "stdout",
     "output_type": "stream",
     "text": [
      "min:  0.0 max:  150.0 step:  0.5882352941176471\n"
     ]
    },
    {
     "name": "stderr",
     "output_type": "stream",
     "text": [
      "\r",
      " 73%|███████▎  | 706/964 [2:15:45<2:06:09, 29.34s/it]"
     ]
    },
    {
     "name": "stdout",
     "output_type": "stream",
     "text": [
      "min:  0.0 max:  150.0 step:  0.5882352941176471\n"
     ]
    },
    {
     "name": "stderr",
     "output_type": "stream",
     "text": [
      "\r",
      " 73%|███████▎  | 707/964 [2:16:15<2:06:13, 29.47s/it]"
     ]
    },
    {
     "name": "stdout",
     "output_type": "stream",
     "text": [
      "min:  0.0 max:  150.0 step:  0.5882352941176471\n"
     ]
    },
    {
     "name": "stderr",
     "output_type": "stream",
     "text": [
      "\r",
      " 73%|███████▎  | 708/964 [2:16:44<2:04:39, 29.22s/it]"
     ]
    },
    {
     "name": "stdout",
     "output_type": "stream",
     "text": [
      "min:  0.0 max:  150.0 step:  0.5882352941176471\n"
     ]
    },
    {
     "name": "stderr",
     "output_type": "stream",
     "text": [
      "\r",
      " 74%|███████▎  | 709/964 [2:17:14<2:04:58, 29.41s/it]"
     ]
    },
    {
     "name": "stdout",
     "output_type": "stream",
     "text": [
      "min:  0.0 max:  150.0 step:  0.5882352941176471\n"
     ]
    },
    {
     "name": "stderr",
     "output_type": "stream",
     "text": [
      "\r",
      " 74%|███████▎  | 710/964 [2:17:43<2:04:54, 29.51s/it]"
     ]
    },
    {
     "name": "stdout",
     "output_type": "stream",
     "text": [
      "min:  0.0 max:  150.0 step:  0.5882352941176471\n"
     ]
    },
    {
     "name": "stderr",
     "output_type": "stream",
     "text": [
      "\r",
      " 74%|███████▍  | 711/964 [2:18:12<2:03:02, 29.18s/it]"
     ]
    },
    {
     "name": "stdout",
     "output_type": "stream",
     "text": [
      "min:  0.0 max:  150.0 step:  0.5882352941176471\n"
     ]
    },
    {
     "name": "stderr",
     "output_type": "stream",
     "text": [
      "\r",
      " 74%|███████▍  | 712/964 [2:18:42<2:03:15, 29.35s/it]"
     ]
    },
    {
     "name": "stdout",
     "output_type": "stream",
     "text": [
      "min:  0.0 max:  150.0 step:  0.5882352941176471\n"
     ]
    },
    {
     "name": "stderr",
     "output_type": "stream",
     "text": [
      "\r",
      " 74%|███████▍  | 713/964 [2:19:11<2:03:13, 29.45s/it]"
     ]
    },
    {
     "name": "stdout",
     "output_type": "stream",
     "text": [
      "min:  0.0 max:  150.0 step:  0.5882352941176471\n"
     ]
    },
    {
     "name": "stderr",
     "output_type": "stream",
     "text": [
      "\r",
      " 74%|███████▍  | 714/964 [2:19:42<2:04:43, 29.94s/it]"
     ]
    },
    {
     "name": "stdout",
     "output_type": "stream",
     "text": [
      "min:  0.0 max:  150.0 step:  0.5882352941176471\n"
     ]
    },
    {
     "name": "stderr",
     "output_type": "stream",
     "text": [
      "\r",
      " 74%|███████▍  | 715/964 [2:20:15<2:07:48, 30.80s/it]"
     ]
    },
    {
     "name": "stdout",
     "output_type": "stream",
     "text": [
      "min:  0.0 max:  150.0 step:  0.5882352941176471\n"
     ]
    },
    {
     "name": "stderr",
     "output_type": "stream",
     "text": [
      "\r",
      " 74%|███████▍  | 716/964 [2:20:45<2:06:07, 30.51s/it]"
     ]
    },
    {
     "name": "stdout",
     "output_type": "stream",
     "text": [
      "min:  0.0 max:  150.0 step:  0.5882352941176471\n"
     ]
    },
    {
     "name": "stderr",
     "output_type": "stream",
     "text": [
      "\r",
      " 74%|███████▍  | 717/964 [2:21:15<2:04:36, 30.27s/it]"
     ]
    },
    {
     "name": "stdout",
     "output_type": "stream",
     "text": [
      "min:  0.0 max:  150.0 step:  0.5882352941176471\n"
     ]
    },
    {
     "name": "stderr",
     "output_type": "stream",
     "text": [
      "\r",
      " 74%|███████▍  | 718/964 [2:21:44<2:03:29, 30.12s/it]"
     ]
    },
    {
     "name": "stdout",
     "output_type": "stream",
     "text": [
      "min:  0.0 max:  150.0 step:  0.5882352941176471\n"
     ]
    },
    {
     "name": "stderr",
     "output_type": "stream",
     "text": [
      "\r",
      " 75%|███████▍  | 719/964 [2:22:14<2:02:01, 29.88s/it]"
     ]
    },
    {
     "name": "stdout",
     "output_type": "stream",
     "text": [
      "min:  0.0 max:  150.0 step:  0.5882352941176471\n"
     ]
    },
    {
     "name": "stderr",
     "output_type": "stream",
     "text": [
      "\r",
      " 75%|███████▍  | 720/964 [2:22:43<2:00:33, 29.64s/it]"
     ]
    },
    {
     "name": "stdout",
     "output_type": "stream",
     "text": [
      "min:  0.0 max:  150.0 step:  0.5882352941176471\n"
     ]
    },
    {
     "name": "stderr",
     "output_type": "stream",
     "text": [
      "\r",
      " 75%|███████▍  | 721/964 [2:23:13<2:00:37, 29.78s/it]"
     ]
    },
    {
     "name": "stdout",
     "output_type": "stream",
     "text": [
      "min:  0.0 max:  150.0 step:  0.5882352941176471\n"
     ]
    },
    {
     "name": "stderr",
     "output_type": "stream",
     "text": [
      "\r",
      " 75%|███████▍  | 722/964 [2:23:42<1:58:34, 29.40s/it]"
     ]
    },
    {
     "name": "stdout",
     "output_type": "stream",
     "text": [
      "min:  0.0 max:  150.0 step:  0.5882352941176471\n"
     ]
    },
    {
     "name": "stderr",
     "output_type": "stream",
     "text": [
      "\r",
      " 75%|███████▌  | 723/964 [2:24:11<1:58:36, 29.53s/it]"
     ]
    },
    {
     "name": "stdout",
     "output_type": "stream",
     "text": [
      "min:  0.0 max:  150.0 step:  0.5882352941176471\n"
     ]
    },
    {
     "name": "stderr",
     "output_type": "stream",
     "text": [
      "\r",
      " 75%|███████▌  | 724/964 [2:24:41<1:58:40, 29.67s/it]"
     ]
    },
    {
     "name": "stdout",
     "output_type": "stream",
     "text": [
      "min:  0.0 max:  150.0 step:  0.5882352941176471\n"
     ]
    },
    {
     "name": "stderr",
     "output_type": "stream",
     "text": [
      "\r",
      " 75%|███████▌  | 725/964 [2:25:11<1:58:02, 29.63s/it]"
     ]
    },
    {
     "name": "stdout",
     "output_type": "stream",
     "text": [
      "min:  0.0 max:  150.0 step:  0.5882352941176471\n"
     ]
    },
    {
     "name": "stderr",
     "output_type": "stream",
     "text": [
      "\r",
      " 75%|███████▌  | 726/964 [2:25:40<1:57:26, 29.61s/it]"
     ]
    },
    {
     "name": "stdout",
     "output_type": "stream",
     "text": [
      "min:  0.0 max:  150.0 step:  0.5882352941176471\n"
     ]
    },
    {
     "name": "stderr",
     "output_type": "stream",
     "text": [
      "\r",
      " 75%|███████▌  | 727/964 [2:26:11<1:57:28, 29.74s/it]"
     ]
    },
    {
     "name": "stdout",
     "output_type": "stream",
     "text": [
      "min:  0.0 max:  150.0 step:  0.5882352941176471\n"
     ]
    },
    {
     "name": "stderr",
     "output_type": "stream",
     "text": [
      "\r",
      " 76%|███████▌  | 728/964 [2:26:40<1:56:23, 29.59s/it]"
     ]
    },
    {
     "name": "stdout",
     "output_type": "stream",
     "text": [
      "min:  0.0 max:  150.0 step:  0.5882352941176471\n"
     ]
    },
    {
     "name": "stderr",
     "output_type": "stream",
     "text": [
      "\r",
      " 76%|███████▌  | 729/964 [2:27:10<1:56:46, 29.82s/it]"
     ]
    },
    {
     "name": "stdout",
     "output_type": "stream",
     "text": [
      "min:  0.0 max:  150.0 step:  0.5882352941176471\n"
     ]
    },
    {
     "name": "stderr",
     "output_type": "stream",
     "text": [
      "\r",
      " 76%|███████▌  | 730/964 [2:27:39<1:55:10, 29.53s/it]"
     ]
    },
    {
     "name": "stdout",
     "output_type": "stream",
     "text": [
      "min:  0.0 max:  150.0 step:  0.5882352941176471\n"
     ]
    },
    {
     "name": "stderr",
     "output_type": "stream",
     "text": [
      "\r",
      " 76%|███████▌  | 731/964 [2:28:09<1:55:32, 29.75s/it]"
     ]
    },
    {
     "name": "stdout",
     "output_type": "stream",
     "text": [
      "min:  0.0 max:  150.0 step:  0.5882352941176471\n"
     ]
    },
    {
     "name": "stderr",
     "output_type": "stream",
     "text": [
      "\r",
      " 76%|███████▌  | 732/964 [2:28:39<1:55:19, 29.83s/it]"
     ]
    },
    {
     "name": "stdout",
     "output_type": "stream",
     "text": [
      "min:  0.0 max:  150.0 step:  0.5882352941176471\n"
     ]
    },
    {
     "name": "stderr",
     "output_type": "stream",
     "text": [
      "\r",
      " 76%|███████▌  | 733/964 [2:29:09<1:54:57, 29.86s/it]"
     ]
    },
    {
     "name": "stdout",
     "output_type": "stream",
     "text": [
      "min:  0.0 max:  150.0 step:  0.5882352941176471\n"
     ]
    },
    {
     "name": "stderr",
     "output_type": "stream",
     "text": [
      "\r",
      " 76%|███████▌  | 734/964 [2:29:38<1:53:37, 29.64s/it]"
     ]
    },
    {
     "name": "stdout",
     "output_type": "stream",
     "text": [
      "min:  0.0 max:  150.0 step:  0.5882352941176471\n"
     ]
    },
    {
     "name": "stderr",
     "output_type": "stream",
     "text": [
      "\r",
      " 76%|███████▌  | 735/964 [2:30:08<1:53:15, 29.67s/it]"
     ]
    },
    {
     "name": "stdout",
     "output_type": "stream",
     "text": [
      "min:  0.0 max:  150.0 step:  0.5882352941176471\n"
     ]
    },
    {
     "name": "stderr",
     "output_type": "stream",
     "text": [
      "\r",
      " 76%|███████▋  | 736/964 [2:30:38<1:52:39, 29.65s/it]"
     ]
    },
    {
     "name": "stdout",
     "output_type": "stream",
     "text": [
      "min:  0.0 max:  150.0 step:  0.5882352941176471\n"
     ]
    },
    {
     "name": "stderr",
     "output_type": "stream",
     "text": [
      "\r",
      " 76%|███████▋  | 737/964 [2:31:08<1:52:58, 29.86s/it]"
     ]
    },
    {
     "name": "stdout",
     "output_type": "stream",
     "text": [
      "min:  0.0 max:  150.0 step:  0.5882352941176471\n"
     ]
    },
    {
     "name": "stderr",
     "output_type": "stream",
     "text": [
      "\r",
      " 77%|███████▋  | 738/964 [2:31:38<1:52:37, 29.90s/it]"
     ]
    },
    {
     "name": "stdout",
     "output_type": "stream",
     "text": [
      "min:  0.0 max:  150.0 step:  0.5882352941176471\n"
     ]
    },
    {
     "name": "stderr",
     "output_type": "stream",
     "text": [
      "\r",
      " 77%|███████▋  | 739/964 [2:32:08<1:51:47, 29.81s/it]"
     ]
    },
    {
     "name": "stdout",
     "output_type": "stream",
     "text": [
      "min:  0.0 max:  150.0 step:  0.5882352941176471\n"
     ]
    },
    {
     "name": "stderr",
     "output_type": "stream",
     "text": [
      "\r",
      " 77%|███████▋  | 740/964 [2:32:38<1:51:43, 29.93s/it]"
     ]
    },
    {
     "name": "stdout",
     "output_type": "stream",
     "text": [
      "min:  0.0 max:  150.0 step:  0.5882352941176471\n"
     ]
    },
    {
     "name": "stderr",
     "output_type": "stream",
     "text": [
      "\r",
      " 77%|███████▋  | 741/964 [2:33:07<1:50:08, 29.63s/it]"
     ]
    },
    {
     "name": "stdout",
     "output_type": "stream",
     "text": [
      "min:  0.0 max:  150.0 step:  0.5882352941176471\n"
     ]
    },
    {
     "name": "stderr",
     "output_type": "stream",
     "text": [
      "\r",
      " 77%|███████▋  | 742/964 [2:33:37<1:50:15, 29.80s/it]"
     ]
    },
    {
     "name": "stdout",
     "output_type": "stream",
     "text": [
      "min:  0.0 max:  150.0 step:  0.5882352941176471\n"
     ]
    },
    {
     "name": "stderr",
     "output_type": "stream",
     "text": [
      "\r",
      " 77%|███████▋  | 743/964 [2:34:07<1:50:07, 29.90s/it]"
     ]
    },
    {
     "name": "stdout",
     "output_type": "stream",
     "text": [
      "min:  0.0 max:  150.0 step:  0.5882352941176471\n"
     ]
    },
    {
     "name": "stderr",
     "output_type": "stream",
     "text": [
      "\r",
      " 77%|███████▋  | 744/964 [2:34:37<1:49:22, 29.83s/it]"
     ]
    },
    {
     "name": "stdout",
     "output_type": "stream",
     "text": [
      "min:  0.0 max:  150.0 step:  0.5882352941176471\n"
     ]
    },
    {
     "name": "stderr",
     "output_type": "stream",
     "text": [
      "\r",
      " 77%|███████▋  | 745/964 [2:35:07<1:49:39, 30.04s/it]"
     ]
    },
    {
     "name": "stdout",
     "output_type": "stream",
     "text": [
      "min:  0.0 max:  150.0 step:  0.5882352941176471\n"
     ]
    },
    {
     "name": "stderr",
     "output_type": "stream",
     "text": [
      "\r",
      " 77%|███████▋  | 746/964 [2:35:38<1:49:32, 30.15s/it]"
     ]
    },
    {
     "name": "stdout",
     "output_type": "stream",
     "text": [
      "min:  0.0 max:  150.0 step:  0.5882352941176471\n"
     ]
    },
    {
     "name": "stderr",
     "output_type": "stream",
     "text": [
      "\r",
      " 77%|███████▋  | 747/964 [2:36:08<1:49:04, 30.16s/it]"
     ]
    },
    {
     "name": "stdout",
     "output_type": "stream",
     "text": [
      "min:  0.0 max:  150.0 step:  0.5882352941176471\n"
     ]
    },
    {
     "name": "stderr",
     "output_type": "stream",
     "text": [
      "\r",
      " 78%|███████▊  | 748/964 [2:36:38<1:48:51, 30.24s/it]"
     ]
    },
    {
     "name": "stdout",
     "output_type": "stream",
     "text": [
      "min:  0.0 max:  150.0 step:  0.5882352941176471\n"
     ]
    },
    {
     "name": "stderr",
     "output_type": "stream",
     "text": [
      "\r",
      " 78%|███████▊  | 749/964 [2:37:09<1:49:07, 30.45s/it]"
     ]
    },
    {
     "name": "stdout",
     "output_type": "stream",
     "text": [
      "min:  0.0 max:  150.0 step:  0.5882352941176471\n"
     ]
    },
    {
     "name": "stderr",
     "output_type": "stream",
     "text": [
      "\r",
      " 78%|███████▊  | 750/964 [2:37:38<1:46:58, 29.99s/it]"
     ]
    },
    {
     "name": "stdout",
     "output_type": "stream",
     "text": [
      "min:  0.0 max:  150.0 step:  0.5882352941176471\n"
     ]
    },
    {
     "name": "stderr",
     "output_type": "stream",
     "text": [
      "\r",
      " 78%|███████▊  | 751/964 [2:38:08<1:46:43, 30.06s/it]"
     ]
    },
    {
     "name": "stdout",
     "output_type": "stream",
     "text": [
      "min:  0.0 max:  150.0 step:  0.5882352941176471\n"
     ]
    },
    {
     "name": "stderr",
     "output_type": "stream",
     "text": [
      "\r",
      " 78%|███████▊  | 752/964 [2:38:39<1:46:35, 30.17s/it]"
     ]
    },
    {
     "name": "stdout",
     "output_type": "stream",
     "text": [
      "min:  0.0 max:  150.0 step:  0.5882352941176471\n"
     ]
    },
    {
     "name": "stderr",
     "output_type": "stream",
     "text": [
      "\r",
      " 78%|███████▊  | 753/964 [2:39:09<1:46:29, 30.28s/it]"
     ]
    },
    {
     "name": "stdout",
     "output_type": "stream",
     "text": [
      "min:  0.0 max:  150.0 step:  0.5882352941176471\n"
     ]
    },
    {
     "name": "stderr",
     "output_type": "stream",
     "text": [
      "\r",
      " 78%|███████▊  | 754/964 [2:39:38<1:44:48, 29.95s/it]"
     ]
    },
    {
     "name": "stdout",
     "output_type": "stream",
     "text": [
      "min:  0.0 max:  150.0 step:  0.5882352941176471\n"
     ]
    },
    {
     "name": "stderr",
     "output_type": "stream",
     "text": [
      "\r",
      " 78%|███████▊  | 755/964 [2:40:09<1:45:04, 30.17s/it]"
     ]
    },
    {
     "name": "stdout",
     "output_type": "stream",
     "text": [
      "min:  0.0 max:  150.0 step:  0.5882352941176471\n"
     ]
    },
    {
     "name": "stderr",
     "output_type": "stream",
     "text": [
      "\r",
      " 78%|███████▊  | 756/964 [2:40:40<1:44:48, 30.23s/it]"
     ]
    },
    {
     "name": "stdout",
     "output_type": "stream",
     "text": [
      "min:  0.0 max:  150.0 step:  0.5882352941176471\n"
     ]
    },
    {
     "name": "stderr",
     "output_type": "stream",
     "text": [
      "\r",
      " 79%|███████▊  | 757/964 [2:41:10<1:44:27, 30.28s/it]"
     ]
    },
    {
     "name": "stdout",
     "output_type": "stream",
     "text": [
      "min:  0.0 max:  150.0 step:  0.5882352941176471\n"
     ]
    },
    {
     "name": "stderr",
     "output_type": "stream",
     "text": [
      "\r",
      " 79%|███████▊  | 758/964 [2:41:39<1:42:46, 29.94s/it]"
     ]
    },
    {
     "name": "stdout",
     "output_type": "stream",
     "text": [
      "min:  0.0 max:  150.0 step:  0.5882352941176471\n"
     ]
    },
    {
     "name": "stderr",
     "output_type": "stream",
     "text": [
      "\r",
      " 79%|███████▊  | 759/964 [2:42:09<1:42:28, 29.99s/it]"
     ]
    },
    {
     "name": "stdout",
     "output_type": "stream",
     "text": [
      "min:  0.0 max:  150.0 step:  0.5882352941176471\n"
     ]
    },
    {
     "name": "stderr",
     "output_type": "stream",
     "text": [
      "\r",
      " 79%|███████▉  | 760/964 [2:42:40<1:42:37, 30.18s/it]"
     ]
    },
    {
     "name": "stdout",
     "output_type": "stream",
     "text": [
      "min:  0.0 max:  150.0 step:  0.5882352941176471\n"
     ]
    },
    {
     "name": "stderr",
     "output_type": "stream",
     "text": [
      "\r",
      " 79%|███████▉  | 761/964 [2:43:10<1:42:33, 30.31s/it]"
     ]
    },
    {
     "name": "stdout",
     "output_type": "stream",
     "text": [
      "min:  0.0 max:  150.0 step:  0.5882352941176471\n"
     ]
    },
    {
     "name": "stderr",
     "output_type": "stream",
     "text": [
      "\r",
      " 79%|███████▉  | 762/964 [2:43:41<1:41:52, 30.26s/it]"
     ]
    },
    {
     "name": "stdout",
     "output_type": "stream",
     "text": [
      "min:  0.0 max:  150.0 step:  0.5882352941176471\n"
     ]
    },
    {
     "name": "stderr",
     "output_type": "stream",
     "text": [
      "\r",
      " 79%|███████▉  | 763/964 [2:44:11<1:41:43, 30.36s/it]"
     ]
    },
    {
     "name": "stdout",
     "output_type": "stream",
     "text": [
      "min:  0.0 max:  150.0 step:  0.5882352941176471\n"
     ]
    },
    {
     "name": "stderr",
     "output_type": "stream",
     "text": [
      "\r",
      " 79%|███████▉  | 764/964 [2:44:42<1:42:08, 30.64s/it]"
     ]
    },
    {
     "name": "stdout",
     "output_type": "stream",
     "text": [
      "min:  0.0 max:  150.0 step:  0.5882352941176471\n"
     ]
    },
    {
     "name": "stderr",
     "output_type": "stream",
     "text": [
      "\r",
      " 79%|███████▉  | 765/964 [2:45:13<1:41:28, 30.60s/it]"
     ]
    },
    {
     "name": "stdout",
     "output_type": "stream",
     "text": [
      "min:  0.0 max:  150.0 step:  0.5882352941176471\n"
     ]
    },
    {
     "name": "stderr",
     "output_type": "stream",
     "text": [
      "\r",
      " 79%|███████▉  | 766/964 [2:45:43<1:40:53, 30.57s/it]"
     ]
    },
    {
     "name": "stdout",
     "output_type": "stream",
     "text": [
      "min:  0.0 max:  150.0 step:  0.5882352941176471\n"
     ]
    },
    {
     "name": "stderr",
     "output_type": "stream",
     "text": [
      "\r",
      " 80%|███████▉  | 767/964 [2:46:13<1:39:30, 30.31s/it]"
     ]
    },
    {
     "name": "stdout",
     "output_type": "stream",
     "text": [
      "min:  0.0 max:  150.0 step:  0.5882352941176471\n"
     ]
    },
    {
     "name": "stderr",
     "output_type": "stream",
     "text": [
      "\r",
      " 80%|███████▉  | 768/964 [2:46:44<1:39:02, 30.32s/it]"
     ]
    },
    {
     "name": "stdout",
     "output_type": "stream",
     "text": [
      "min:  0.0 max:  150.0 step:  0.5882352941176471\n"
     ]
    },
    {
     "name": "stderr",
     "output_type": "stream",
     "text": [
      "\r",
      " 80%|███████▉  | 769/964 [2:47:13<1:38:10, 30.21s/it]"
     ]
    },
    {
     "name": "stdout",
     "output_type": "stream",
     "text": [
      "min:  0.0 max:  150.0 step:  0.5882352941176471\n"
     ]
    },
    {
     "name": "stderr",
     "output_type": "stream",
     "text": [
      "\r",
      " 80%|███████▉  | 770/964 [2:47:44<1:38:15, 30.39s/it]"
     ]
    },
    {
     "name": "stdout",
     "output_type": "stream",
     "text": [
      "min:  0.0 max:  150.0 step:  0.5882352941176471\n"
     ]
    },
    {
     "name": "stderr",
     "output_type": "stream",
     "text": [
      "\r",
      " 80%|███████▉  | 771/964 [2:48:14<1:37:10, 30.21s/it]"
     ]
    },
    {
     "name": "stdout",
     "output_type": "stream",
     "text": [
      "min:  0.0 max:  150.0 step:  0.5882352941176471\n"
     ]
    },
    {
     "name": "stderr",
     "output_type": "stream",
     "text": [
      "\r",
      " 80%|████████  | 772/964 [2:48:44<1:36:00, 30.00s/it]"
     ]
    },
    {
     "name": "stdout",
     "output_type": "stream",
     "text": [
      "min:  0.0 max:  150.0 step:  0.5882352941176471\n"
     ]
    },
    {
     "name": "stderr",
     "output_type": "stream",
     "text": [
      "\r",
      " 80%|████████  | 773/964 [2:49:13<1:34:43, 29.76s/it]"
     ]
    },
    {
     "name": "stdout",
     "output_type": "stream",
     "text": [
      "min:  0.0 max:  150.0 step:  0.5882352941176471\n"
     ]
    },
    {
     "name": "stderr",
     "output_type": "stream",
     "text": [
      "\r",
      " 80%|████████  | 774/964 [2:49:43<1:34:48, 29.94s/it]"
     ]
    },
    {
     "name": "stdout",
     "output_type": "stream",
     "text": [
      "min:  0.0 max:  150.0 step:  0.5882352941176471\n"
     ]
    },
    {
     "name": "stderr",
     "output_type": "stream",
     "text": [
      "\r",
      " 80%|████████  | 775/964 [2:50:14<1:34:48, 30.10s/it]"
     ]
    },
    {
     "name": "stdout",
     "output_type": "stream",
     "text": [
      "min:  0.0 max:  150.0 step:  0.5882352941176471\n"
     ]
    },
    {
     "name": "stderr",
     "output_type": "stream",
     "text": [
      "\r",
      " 80%|████████  | 776/964 [2:50:44<1:34:38, 30.21s/it]"
     ]
    },
    {
     "name": "stdout",
     "output_type": "stream",
     "text": [
      "min:  0.0 max:  150.0 step:  0.5882352941176471\n"
     ]
    },
    {
     "name": "stderr",
     "output_type": "stream",
     "text": [
      "\r",
      " 81%|████████  | 777/964 [2:51:14<1:34:15, 30.24s/it]"
     ]
    },
    {
     "name": "stdout",
     "output_type": "stream",
     "text": [
      "min:  0.0 max:  150.0 step:  0.5882352941176471\n"
     ]
    },
    {
     "name": "stderr",
     "output_type": "stream",
     "text": [
      "\r",
      " 81%|████████  | 778/964 [2:51:44<1:33:22, 30.12s/it]"
     ]
    },
    {
     "name": "stdout",
     "output_type": "stream",
     "text": [
      "min:  0.0 max:  150.0 step:  0.5882352941176471\n"
     ]
    },
    {
     "name": "stderr",
     "output_type": "stream",
     "text": [
      "\r",
      " 81%|████████  | 779/964 [2:52:14<1:32:08, 29.88s/it]"
     ]
    },
    {
     "name": "stdout",
     "output_type": "stream",
     "text": [
      "min:  0.0 max:  150.0 step:  0.5882352941176471\n"
     ]
    },
    {
     "name": "stderr",
     "output_type": "stream",
     "text": [
      "\r",
      " 81%|████████  | 780/964 [2:52:44<1:32:09, 30.05s/it]"
     ]
    },
    {
     "name": "stdout",
     "output_type": "stream",
     "text": [
      "min:  0.0 max:  150.0 step:  0.5882352941176471\n"
     ]
    },
    {
     "name": "stderr",
     "output_type": "stream",
     "text": [
      "\r",
      " 81%|████████  | 781/964 [2:53:14<1:31:26, 29.98s/it]"
     ]
    },
    {
     "name": "stdout",
     "output_type": "stream",
     "text": [
      "min:  0.0 max:  150.0 step:  0.5882352941176471\n"
     ]
    },
    {
     "name": "stderr",
     "output_type": "stream",
     "text": [
      "\r",
      " 81%|████████  | 782/964 [2:53:44<1:31:33, 30.19s/it]"
     ]
    },
    {
     "name": "stdout",
     "output_type": "stream",
     "text": [
      "min:  0.0 max:  150.0 step:  0.5882352941176471\n"
     ]
    },
    {
     "name": "stderr",
     "output_type": "stream",
     "text": [
      "\r",
      " 81%|████████  | 783/964 [2:54:15<1:31:24, 30.30s/it]"
     ]
    },
    {
     "name": "stdout",
     "output_type": "stream",
     "text": [
      "min:  0.0 max:  150.0 step:  0.5882352941176471\n"
     ]
    },
    {
     "name": "stderr",
     "output_type": "stream",
     "text": [
      "\r",
      " 81%|████████▏ | 784/964 [2:54:46<1:31:16, 30.42s/it]"
     ]
    },
    {
     "name": "stdout",
     "output_type": "stream",
     "text": [
      "min:  0.0 max:  150.0 step:  0.5882352941176471\n"
     ]
    },
    {
     "name": "stderr",
     "output_type": "stream",
     "text": [
      "\r",
      " 81%|████████▏ | 785/964 [2:55:17<1:31:11, 30.57s/it]"
     ]
    },
    {
     "name": "stdout",
     "output_type": "stream",
     "text": [
      "min:  0.0 max:  150.0 step:  0.5882352941176471\n"
     ]
    },
    {
     "name": "stderr",
     "output_type": "stream",
     "text": [
      "\r",
      " 82%|████████▏ | 786/964 [2:55:48<1:31:03, 30.70s/it]"
     ]
    },
    {
     "name": "stdout",
     "output_type": "stream",
     "text": [
      "min:  0.0 max:  150.0 step:  0.5882352941176471\n"
     ]
    },
    {
     "name": "stderr",
     "output_type": "stream",
     "text": [
      "\r",
      " 82%|████████▏ | 787/964 [2:56:19<1:30:42, 30.75s/it]"
     ]
    },
    {
     "name": "stdout",
     "output_type": "stream",
     "text": [
      "min:  0.0 max:  150.0 step:  0.5882352941176471\n"
     ]
    },
    {
     "name": "stderr",
     "output_type": "stream",
     "text": [
      "\r",
      " 82%|████████▏ | 788/964 [2:56:49<1:30:13, 30.76s/it]"
     ]
    },
    {
     "name": "stdout",
     "output_type": "stream",
     "text": [
      "min:  0.0 max:  150.0 step:  0.5882352941176471\n"
     ]
    },
    {
     "name": "stderr",
     "output_type": "stream",
     "text": [
      "\r",
      " 82%|████████▏ | 789/964 [2:57:19<1:28:36, 30.38s/it]"
     ]
    },
    {
     "name": "stdout",
     "output_type": "stream",
     "text": [
      "min:  0.0 max:  150.0 step:  0.5882352941176471\n"
     ]
    },
    {
     "name": "stderr",
     "output_type": "stream",
     "text": [
      "\r",
      " 82%|████████▏ | 790/964 [2:57:49<1:28:21, 30.47s/it]"
     ]
    },
    {
     "name": "stdout",
     "output_type": "stream",
     "text": [
      "min:  0.0 max:  150.0 step:  0.5882352941176471\n"
     ]
    },
    {
     "name": "stderr",
     "output_type": "stream",
     "text": [
      "\r",
      " 82%|████████▏ | 791/964 [2:58:20<1:28:06, 30.56s/it]"
     ]
    },
    {
     "name": "stdout",
     "output_type": "stream",
     "text": [
      "min:  0.0 max:  150.0 step:  0.5882352941176471\n"
     ]
    },
    {
     "name": "stderr",
     "output_type": "stream",
     "text": [
      "\r",
      " 82%|████████▏ | 792/964 [2:58:51<1:27:48, 30.63s/it]"
     ]
    },
    {
     "name": "stdout",
     "output_type": "stream",
     "text": [
      "min:  0.0 max:  150.0 step:  0.5882352941176471\n"
     ]
    },
    {
     "name": "stderr",
     "output_type": "stream",
     "text": [
      "\r",
      " 82%|████████▏ | 793/964 [2:59:24<1:29:03, 31.25s/it]"
     ]
    },
    {
     "name": "stdout",
     "output_type": "stream",
     "text": [
      "min:  0.0 max:  150.0 step:  0.5882352941176471\n"
     ]
    },
    {
     "name": "stderr",
     "output_type": "stream",
     "text": [
      "\r",
      " 82%|████████▏ | 794/964 [2:59:58<1:30:44, 32.02s/it]"
     ]
    },
    {
     "name": "stdout",
     "output_type": "stream",
     "text": [
      "min:  0.0 max:  150.0 step:  0.5882352941176471\n"
     ]
    },
    {
     "name": "stderr",
     "output_type": "stream",
     "text": [
      "\r",
      " 82%|████████▏ | 795/964 [3:00:29<1:30:03, 31.98s/it]"
     ]
    },
    {
     "name": "stdout",
     "output_type": "stream",
     "text": [
      "min:  0.0 max:  150.0 step:  0.5882352941176471\n"
     ]
    },
    {
     "name": "stderr",
     "output_type": "stream",
     "text": [
      "\r",
      " 83%|████████▎ | 796/964 [3:01:00<1:28:37, 31.65s/it]"
     ]
    },
    {
     "name": "stdout",
     "output_type": "stream",
     "text": [
      "min:  0.0 max:  150.0 step:  0.5882352941176471\n"
     ]
    },
    {
     "name": "stderr",
     "output_type": "stream",
     "text": [
      "\r",
      " 83%|████████▎ | 797/964 [3:01:32<1:27:44, 31.52s/it]"
     ]
    },
    {
     "name": "stdout",
     "output_type": "stream",
     "text": [
      "min:  0.0 max:  150.0 step:  0.5882352941176471\n"
     ]
    },
    {
     "name": "stderr",
     "output_type": "stream",
     "text": [
      "\r",
      " 83%|████████▎ | 798/964 [3:02:03<1:26:51, 31.40s/it]"
     ]
    },
    {
     "name": "stdout",
     "output_type": "stream",
     "text": [
      "min:  0.0 max:  150.0 step:  0.5882352941176471\n"
     ]
    },
    {
     "name": "stderr",
     "output_type": "stream",
     "text": [
      "\r",
      " 83%|████████▎ | 799/964 [3:02:34<1:26:07, 31.32s/it]"
     ]
    },
    {
     "name": "stdout",
     "output_type": "stream",
     "text": [
      "min:  0.0 max:  150.0 step:  0.5882352941176471\n"
     ]
    },
    {
     "name": "stderr",
     "output_type": "stream",
     "text": [
      "\r",
      " 83%|████████▎ | 800/964 [3:03:05<1:25:22, 31.24s/it]"
     ]
    },
    {
     "name": "stdout",
     "output_type": "stream",
     "text": [
      "min:  0.0 max:  150.0 step:  0.5882352941176471\n"
     ]
    },
    {
     "name": "stderr",
     "output_type": "stream",
     "text": [
      "\r",
      " 83%|████████▎ | 801/964 [3:03:35<1:23:41, 30.81s/it]"
     ]
    },
    {
     "name": "stdout",
     "output_type": "stream",
     "text": [
      "min:  0.0 max:  150.0 step:  0.5882352941176471\n"
     ]
    },
    {
     "name": "stderr",
     "output_type": "stream",
     "text": [
      "\r",
      " 83%|████████▎ | 802/964 [3:04:06<1:23:24, 30.89s/it]"
     ]
    },
    {
     "name": "stdout",
     "output_type": "stream",
     "text": [
      "min:  0.0 max:  150.0 step:  0.5882352941176471\n"
     ]
    },
    {
     "name": "stderr",
     "output_type": "stream",
     "text": [
      "\r",
      " 83%|████████▎ | 803/964 [3:04:37<1:23:03, 30.95s/it]"
     ]
    },
    {
     "name": "stdout",
     "output_type": "stream",
     "text": [
      "min:  0.0 max:  150.0 step:  0.5882352941176471\n"
     ]
    },
    {
     "name": "stderr",
     "output_type": "stream",
     "text": [
      "\r",
      " 83%|████████▎ | 804/964 [3:05:07<1:21:44, 30.66s/it]"
     ]
    },
    {
     "name": "stdout",
     "output_type": "stream",
     "text": [
      "min:  0.0 max:  150.0 step:  0.5882352941176471\n"
     ]
    },
    {
     "name": "stderr",
     "output_type": "stream",
     "text": [
      "\r",
      " 84%|████████▎ | 805/964 [3:05:37<1:21:12, 30.65s/it]"
     ]
    },
    {
     "name": "stdout",
     "output_type": "stream",
     "text": [
      "min:  0.0 max:  150.0 step:  0.5882352941176471\n"
     ]
    },
    {
     "name": "stderr",
     "output_type": "stream",
     "text": [
      "\r",
      " 84%|████████▎ | 806/964 [3:06:08<1:20:55, 30.73s/it]"
     ]
    },
    {
     "name": "stdout",
     "output_type": "stream",
     "text": [
      "min:  0.0 max:  150.0 step:  0.5882352941176471\n"
     ]
    },
    {
     "name": "stderr",
     "output_type": "stream",
     "text": [
      "\r",
      " 84%|████████▎ | 807/964 [3:06:39<1:20:40, 30.83s/it]"
     ]
    },
    {
     "name": "stdout",
     "output_type": "stream",
     "text": [
      "min:  0.0 max:  150.0 step:  0.5882352941176471\n"
     ]
    },
    {
     "name": "stderr",
     "output_type": "stream",
     "text": [
      "\r",
      " 84%|████████▍ | 808/964 [3:07:11<1:20:29, 30.96s/it]"
     ]
    },
    {
     "name": "stdout",
     "output_type": "stream",
     "text": [
      "min:  0.0 max:  150.0 step:  0.5882352941176471\n"
     ]
    },
    {
     "name": "stderr",
     "output_type": "stream",
     "text": [
      "\r",
      " 84%|████████▍ | 809/964 [3:07:41<1:19:37, 30.83s/it]"
     ]
    },
    {
     "name": "stdout",
     "output_type": "stream",
     "text": [
      "min:  0.0 max:  150.0 step:  0.5882352941176471\n"
     ]
    },
    {
     "name": "stderr",
     "output_type": "stream",
     "text": [
      "\r",
      " 84%|████████▍ | 810/964 [3:08:11<1:18:31, 30.59s/it]"
     ]
    },
    {
     "name": "stdout",
     "output_type": "stream",
     "text": [
      "min:  0.0 max:  150.0 step:  0.5882352941176471\n"
     ]
    },
    {
     "name": "stderr",
     "output_type": "stream",
     "text": [
      "\r",
      " 84%|████████▍ | 811/964 [3:08:43<1:18:43, 30.87s/it]"
     ]
    },
    {
     "name": "stdout",
     "output_type": "stream",
     "text": [
      "min:  0.0 max:  150.0 step:  0.5882352941176471\n"
     ]
    },
    {
     "name": "stderr",
     "output_type": "stream",
     "text": [
      "\r",
      " 84%|████████▍ | 812/964 [3:09:14<1:18:18, 30.91s/it]"
     ]
    },
    {
     "name": "stdout",
     "output_type": "stream",
     "text": [
      "min:  0.0 max:  150.0 step:  0.5882352941176471\n"
     ]
    },
    {
     "name": "stderr",
     "output_type": "stream",
     "text": [
      "\r",
      " 84%|████████▍ | 813/964 [3:09:44<1:17:06, 30.64s/it]"
     ]
    },
    {
     "name": "stdout",
     "output_type": "stream",
     "text": [
      "min:  0.0 max:  150.0 step:  0.5882352941176471\n"
     ]
    },
    {
     "name": "stderr",
     "output_type": "stream",
     "text": [
      "\r",
      " 84%|████████▍ | 814/964 [3:10:14<1:16:23, 30.56s/it]"
     ]
    },
    {
     "name": "stdout",
     "output_type": "stream",
     "text": [
      "min:  0.0 max:  150.0 step:  0.5882352941176471\n"
     ]
    },
    {
     "name": "stderr",
     "output_type": "stream",
     "text": [
      "\r",
      " 85%|████████▍ | 815/964 [3:10:44<1:15:26, 30.38s/it]"
     ]
    },
    {
     "name": "stdout",
     "output_type": "stream",
     "text": [
      "min:  0.0 max:  150.0 step:  0.5882352941176471\n"
     ]
    },
    {
     "name": "stderr",
     "output_type": "stream",
     "text": [
      "\r",
      " 85%|████████▍ | 816/964 [3:11:15<1:15:08, 30.46s/it]"
     ]
    },
    {
     "name": "stdout",
     "output_type": "stream",
     "text": [
      "min:  0.0 max:  150.0 step:  0.5882352941176471\n"
     ]
    },
    {
     "name": "stderr",
     "output_type": "stream",
     "text": [
      "\r",
      " 85%|████████▍ | 817/964 [3:11:47<1:15:35, 30.85s/it]"
     ]
    },
    {
     "name": "stdout",
     "output_type": "stream",
     "text": [
      "min:  0.0 max:  150.0 step:  0.5882352941176471\n"
     ]
    },
    {
     "name": "stderr",
     "output_type": "stream",
     "text": [
      "\r",
      " 85%|████████▍ | 818/964 [3:12:19<1:16:27, 31.42s/it]"
     ]
    },
    {
     "name": "stdout",
     "output_type": "stream",
     "text": [
      "min:  0.0 max:  150.0 step:  0.5882352941176471\n"
     ]
    },
    {
     "name": "stderr",
     "output_type": "stream",
     "text": [
      "\r",
      " 85%|████████▍ | 819/964 [3:12:51<1:15:52, 31.39s/it]"
     ]
    },
    {
     "name": "stdout",
     "output_type": "stream",
     "text": [
      "min:  0.0 max:  150.0 step:  0.5882352941176471\n"
     ]
    },
    {
     "name": "stderr",
     "output_type": "stream",
     "text": [
      "\r",
      " 85%|████████▌ | 820/964 [3:13:21<1:14:45, 31.15s/it]"
     ]
    },
    {
     "name": "stdout",
     "output_type": "stream",
     "text": [
      "min:  0.0 max:  150.0 step:  0.5882352941176471\n"
     ]
    },
    {
     "name": "stderr",
     "output_type": "stream",
     "text": [
      "\r",
      " 85%|████████▌ | 821/964 [3:13:52<1:14:07, 31.10s/it]"
     ]
    },
    {
     "name": "stdout",
     "output_type": "stream",
     "text": [
      "min:  0.0 max:  150.0 step:  0.5882352941176471\n"
     ]
    },
    {
     "name": "stderr",
     "output_type": "stream",
     "text": [
      "\r",
      " 85%|████████▌ | 822/964 [3:14:23<1:13:24, 31.02s/it]"
     ]
    },
    {
     "name": "stdout",
     "output_type": "stream",
     "text": [
      "min:  0.0 max:  150.0 step:  0.5882352941176471\n"
     ]
    },
    {
     "name": "stderr",
     "output_type": "stream",
     "text": [
      "\r",
      " 85%|████████▌ | 823/964 [3:14:53<1:12:23, 30.81s/it]"
     ]
    },
    {
     "name": "stdout",
     "output_type": "stream",
     "text": [
      "min:  0.0 max:  150.0 step:  0.5882352941176471\n"
     ]
    },
    {
     "name": "stderr",
     "output_type": "stream",
     "text": [
      "\r",
      " 85%|████████▌ | 824/964 [3:15:24<1:11:59, 30.86s/it]"
     ]
    },
    {
     "name": "stdout",
     "output_type": "stream",
     "text": [
      "min:  0.0 max:  150.0 step:  0.5882352941176471\n"
     ]
    },
    {
     "name": "stderr",
     "output_type": "stream",
     "text": [
      "\r",
      " 86%|████████▌ | 825/964 [3:15:56<1:11:57, 31.06s/it]"
     ]
    },
    {
     "name": "stdout",
     "output_type": "stream",
     "text": [
      "min:  0.0 max:  150.0 step:  0.5882352941176471\n"
     ]
    },
    {
     "name": "stderr",
     "output_type": "stream",
     "text": [
      "\r",
      " 86%|████████▌ | 826/964 [3:16:27<1:11:14, 30.97s/it]"
     ]
    },
    {
     "name": "stdout",
     "output_type": "stream",
     "text": [
      "min:  0.0 max:  150.0 step:  0.5882352941176471\n"
     ]
    },
    {
     "name": "stderr",
     "output_type": "stream",
     "text": [
      "\r",
      " 86%|████████▌ | 827/964 [3:16:57<1:10:27, 30.85s/it]"
     ]
    },
    {
     "name": "stdout",
     "output_type": "stream",
     "text": [
      "min:  0.0 max:  150.0 step:  0.5882352941176471\n"
     ]
    },
    {
     "name": "stderr",
     "output_type": "stream",
     "text": [
      "\r",
      " 86%|████████▌ | 828/964 [3:17:29<1:10:41, 31.19s/it]"
     ]
    },
    {
     "name": "stdout",
     "output_type": "stream",
     "text": [
      "min:  0.0 max:  150.0 step:  0.5882352941176471\n"
     ]
    },
    {
     "name": "stderr",
     "output_type": "stream",
     "text": [
      "\r",
      " 86%|████████▌ | 829/964 [3:18:01<1:10:27, 31.31s/it]"
     ]
    },
    {
     "name": "stdout",
     "output_type": "stream",
     "text": [
      "min:  0.0 max:  150.0 step:  0.5882352941176471\n"
     ]
    },
    {
     "name": "stderr",
     "output_type": "stream",
     "text": [
      "\r",
      " 86%|████████▌ | 830/964 [3:18:33<1:10:14, 31.45s/it]"
     ]
    },
    {
     "name": "stdout",
     "output_type": "stream",
     "text": [
      "min:  0.0 max:  150.0 step:  0.5882352941176471\n"
     ]
    },
    {
     "name": "stderr",
     "output_type": "stream",
     "text": [
      "\r",
      " 86%|████████▌ | 831/964 [3:19:04<1:09:45, 31.47s/it]"
     ]
    },
    {
     "name": "stdout",
     "output_type": "stream",
     "text": [
      "min:  0.0 max:  150.0 step:  0.5882352941176471\n"
     ]
    },
    {
     "name": "stderr",
     "output_type": "stream",
     "text": [
      "\r",
      " 86%|████████▋ | 832/964 [3:19:35<1:09:02, 31.38s/it]"
     ]
    },
    {
     "name": "stdout",
     "output_type": "stream",
     "text": [
      "min:  0.0 max:  150.0 step:  0.5882352941176471\n"
     ]
    },
    {
     "name": "stderr",
     "output_type": "stream",
     "text": [
      "\r",
      " 86%|████████▋ | 833/964 [3:20:07<1:08:44, 31.48s/it]"
     ]
    },
    {
     "name": "stdout",
     "output_type": "stream",
     "text": [
      "min:  0.0 max:  150.0 step:  0.5882352941176471\n"
     ]
    },
    {
     "name": "stderr",
     "output_type": "stream",
     "text": [
      "\r",
      " 87%|████████▋ | 834/964 [3:20:38<1:07:38, 31.22s/it]"
     ]
    },
    {
     "name": "stdout",
     "output_type": "stream",
     "text": [
      "min:  0.0 max:  150.0 step:  0.5882352941176471\n"
     ]
    },
    {
     "name": "stderr",
     "output_type": "stream",
     "text": [
      "\r",
      " 87%|████████▋ | 835/964 [3:21:08<1:06:52, 31.10s/it]"
     ]
    },
    {
     "name": "stdout",
     "output_type": "stream",
     "text": [
      "min:  0.0 max:  150.0 step:  0.5882352941176471\n"
     ]
    },
    {
     "name": "stderr",
     "output_type": "stream",
     "text": [
      "\r",
      " 87%|████████▋ | 836/964 [3:21:39<1:06:03, 30.96s/it]"
     ]
    },
    {
     "name": "stdout",
     "output_type": "stream",
     "text": [
      "min:  0.0 max:  150.0 step:  0.5882352941176471\n"
     ]
    },
    {
     "name": "stderr",
     "output_type": "stream",
     "text": [
      "\r",
      " 87%|████████▋ | 837/964 [3:22:10<1:05:33, 30.97s/it]"
     ]
    },
    {
     "name": "stdout",
     "output_type": "stream",
     "text": [
      "min:  0.0 max:  150.0 step:  0.5882352941176471\n"
     ]
    },
    {
     "name": "stderr",
     "output_type": "stream",
     "text": [
      "\r",
      " 87%|████████▋ | 838/964 [3:22:42<1:05:29, 31.19s/it]"
     ]
    },
    {
     "name": "stdout",
     "output_type": "stream",
     "text": [
      "min:  0.0 max:  150.0 step:  0.5882352941176471\n"
     ]
    },
    {
     "name": "stderr",
     "output_type": "stream",
     "text": [
      "\r",
      " 87%|████████▋ | 839/964 [3:23:13<1:05:03, 31.23s/it]"
     ]
    },
    {
     "name": "stdout",
     "output_type": "stream",
     "text": [
      "min:  0.0 max:  150.0 step:  0.5882352941176471\n"
     ]
    },
    {
     "name": "stderr",
     "output_type": "stream",
     "text": [
      "\r",
      " 87%|████████▋ | 840/964 [3:23:45<1:04:47, 31.35s/it]"
     ]
    },
    {
     "name": "stdout",
     "output_type": "stream",
     "text": [
      "min:  0.0 max:  150.0 step:  0.5882352941176471\n"
     ]
    },
    {
     "name": "stderr",
     "output_type": "stream",
     "text": [
      "\r",
      " 87%|████████▋ | 841/964 [3:24:16<1:04:26, 31.44s/it]"
     ]
    },
    {
     "name": "stdout",
     "output_type": "stream",
     "text": [
      "min:  0.0 max:  150.0 step:  0.5882352941176471\n"
     ]
    },
    {
     "name": "stderr",
     "output_type": "stream",
     "text": [
      "\r",
      " 87%|████████▋ | 842/964 [3:24:47<1:03:37, 31.29s/it]"
     ]
    },
    {
     "name": "stdout",
     "output_type": "stream",
     "text": [
      "min:  0.0 max:  150.0 step:  0.5882352941176471\n"
     ]
    },
    {
     "name": "stderr",
     "output_type": "stream",
     "text": [
      "\r",
      " 87%|████████▋ | 843/964 [3:25:18<1:02:47, 31.14s/it]"
     ]
    },
    {
     "name": "stdout",
     "output_type": "stream",
     "text": [
      "min:  0.0 max:  150.0 step:  0.5882352941176471\n"
     ]
    },
    {
     "name": "stderr",
     "output_type": "stream",
     "text": [
      "\r",
      " 88%|████████▊ | 844/964 [3:25:50<1:02:39, 31.33s/it]"
     ]
    },
    {
     "name": "stdout",
     "output_type": "stream",
     "text": [
      "min:  0.0 max:  150.0 step:  0.5882352941176471\n"
     ]
    },
    {
     "name": "stderr",
     "output_type": "stream",
     "text": [
      "\r",
      " 88%|████████▊ | 845/964 [3:26:22<1:02:38, 31.58s/it]"
     ]
    },
    {
     "name": "stdout",
     "output_type": "stream",
     "text": [
      "min:  0.0 max:  150.0 step:  0.5882352941176471\n"
     ]
    },
    {
     "name": "stderr",
     "output_type": "stream",
     "text": [
      "\r",
      " 88%|████████▊ | 846/964 [3:26:53<1:02:02, 31.55s/it]"
     ]
    },
    {
     "name": "stdout",
     "output_type": "stream",
     "text": [
      "min:  0.0 max:  150.0 step:  0.5882352941176471\n"
     ]
    },
    {
     "name": "stderr",
     "output_type": "stream",
     "text": [
      "\r",
      " 88%|████████▊ | 847/964 [3:27:25<1:01:33, 31.57s/it]"
     ]
    },
    {
     "name": "stdout",
     "output_type": "stream",
     "text": [
      "min:  0.0 max:  150.0 step:  0.5882352941176471\n"
     ]
    },
    {
     "name": "stderr",
     "output_type": "stream",
     "text": [
      "\r",
      " 88%|████████▊ | 848/964 [3:27:57<1:01:12, 31.66s/it]"
     ]
    },
    {
     "name": "stdout",
     "output_type": "stream",
     "text": [
      "min:  0.0 max:  150.0 step:  0.5882352941176471\n"
     ]
    },
    {
     "name": "stderr",
     "output_type": "stream",
     "text": [
      "\r",
      " 88%|████████▊ | 849/964 [3:28:29<1:00:53, 31.77s/it]"
     ]
    },
    {
     "name": "stdout",
     "output_type": "stream",
     "text": [
      "min:  0.0 max:  150.0 step:  0.5882352941176471\n"
     ]
    },
    {
     "name": "stderr",
     "output_type": "stream",
     "text": [
      "\r",
      " 88%|████████▊ | 850/964 [3:29:02<1:01:07, 32.17s/it]"
     ]
    },
    {
     "name": "stdout",
     "output_type": "stream",
     "text": [
      "min:  0.0 max:  150.0 step:  0.5882352941176471\n"
     ]
    },
    {
     "name": "stderr",
     "output_type": "stream",
     "text": [
      "\r",
      " 88%|████████▊ | 851/964 [3:29:33<1:00:09, 31.94s/it]"
     ]
    },
    {
     "name": "stdout",
     "output_type": "stream",
     "text": [
      "min:  0.0 max:  150.0 step:  0.5882352941176471\n"
     ]
    },
    {
     "name": "stderr",
     "output_type": "stream",
     "text": [
      "\r",
      " 88%|████████▊ | 852/964 [3:30:05<59:13, 31.73s/it]  "
     ]
    },
    {
     "name": "stdout",
     "output_type": "stream",
     "text": [
      "min:  0.0 max:  150.0 step:  0.5882352941176471\n"
     ]
    },
    {
     "name": "stderr",
     "output_type": "stream",
     "text": [
      "\r",
      " 88%|████████▊ | 853/964 [3:30:36<58:32, 31.64s/it]"
     ]
    },
    {
     "name": "stdout",
     "output_type": "stream",
     "text": [
      "min:  0.0 max:  150.0 step:  0.5882352941176471\n"
     ]
    },
    {
     "name": "stderr",
     "output_type": "stream",
     "text": [
      "\r",
      " 89%|████████▊ | 854/964 [3:31:07<57:50, 31.55s/it]"
     ]
    },
    {
     "name": "stdout",
     "output_type": "stream",
     "text": [
      "min:  0.0 max:  150.0 step:  0.5882352941176471\n"
     ]
    },
    {
     "name": "stderr",
     "output_type": "stream",
     "text": [
      "\r",
      " 89%|████████▊ | 855/964 [3:31:40<57:36, 31.71s/it]"
     ]
    },
    {
     "name": "stdout",
     "output_type": "stream",
     "text": [
      "min:  0.0 max:  150.0 step:  0.5882352941176471\n"
     ]
    },
    {
     "name": "stderr",
     "output_type": "stream",
     "text": [
      "\r",
      " 89%|████████▉ | 856/964 [3:32:11<57:07, 31.74s/it]"
     ]
    },
    {
     "name": "stdout",
     "output_type": "stream",
     "text": [
      "min:  0.0 max:  150.0 step:  0.5882352941176471\n"
     ]
    },
    {
     "name": "stderr",
     "output_type": "stream",
     "text": [
      "\r",
      " 89%|████████▉ | 857/964 [3:32:43<56:46, 31.84s/it]"
     ]
    },
    {
     "name": "stdout",
     "output_type": "stream",
     "text": [
      "min:  0.0 max:  150.0 step:  0.5882352941176471\n"
     ]
    },
    {
     "name": "stderr",
     "output_type": "stream",
     "text": [
      "\r",
      " 89%|████████▉ | 858/964 [3:33:15<56:18, 31.87s/it]"
     ]
    },
    {
     "name": "stdout",
     "output_type": "stream",
     "text": [
      "min:  0.0 max:  150.0 step:  0.5882352941176471\n"
     ]
    },
    {
     "name": "stderr",
     "output_type": "stream",
     "text": [
      "\r",
      " 89%|████████▉ | 859/964 [3:33:47<55:26, 31.68s/it]"
     ]
    },
    {
     "name": "stdout",
     "output_type": "stream",
     "text": [
      "min:  0.0 max:  150.0 step:  0.5882352941176471\n"
     ]
    },
    {
     "name": "stderr",
     "output_type": "stream",
     "text": [
      "\r",
      " 89%|████████▉ | 860/964 [3:34:18<54:36, 31.51s/it]"
     ]
    },
    {
     "name": "stdout",
     "output_type": "stream",
     "text": [
      "min:  0.0 max:  150.0 step:  0.5882352941176471\n"
     ]
    },
    {
     "name": "stderr",
     "output_type": "stream",
     "text": [
      "\r",
      " 89%|████████▉ | 861/964 [3:34:49<53:58, 31.44s/it]"
     ]
    },
    {
     "name": "stdout",
     "output_type": "stream",
     "text": [
      "min:  0.0 max:  150.0 step:  0.5882352941176471\n"
     ]
    },
    {
     "name": "stderr",
     "output_type": "stream",
     "text": [
      "\r",
      " 89%|████████▉ | 862/964 [3:35:21<53:50, 31.67s/it]"
     ]
    },
    {
     "name": "stdout",
     "output_type": "stream",
     "text": [
      "min:  0.0 max:  150.0 step:  0.5882352941176471\n"
     ]
    },
    {
     "name": "stderr",
     "output_type": "stream",
     "text": [
      "\r",
      " 90%|████████▉ | 863/964 [3:35:54<53:40, 31.89s/it]"
     ]
    },
    {
     "name": "stdout",
     "output_type": "stream",
     "text": [
      "min:  0.0 max:  150.0 step:  0.5882352941176471\n"
     ]
    },
    {
     "name": "stderr",
     "output_type": "stream",
     "text": [
      "\r",
      " 90%|████████▉ | 864/964 [3:36:26<53:27, 32.07s/it]"
     ]
    },
    {
     "name": "stdout",
     "output_type": "stream",
     "text": [
      "min:  0.0 max:  150.0 step:  0.5882352941176471\n"
     ]
    },
    {
     "name": "stderr",
     "output_type": "stream",
     "text": [
      "\r",
      " 90%|████████▉ | 865/964 [3:36:59<53:07, 32.20s/it]"
     ]
    },
    {
     "name": "stdout",
     "output_type": "stream",
     "text": [
      "min:  0.0 max:  150.0 step:  0.5882352941176471\n"
     ]
    },
    {
     "name": "stderr",
     "output_type": "stream",
     "text": [
      "\r",
      " 90%|████████▉ | 866/964 [3:37:30<52:22, 32.07s/it]"
     ]
    },
    {
     "name": "stdout",
     "output_type": "stream",
     "text": [
      "min:  0.0 max:  150.0 step:  0.5882352941176471\n"
     ]
    },
    {
     "name": "stderr",
     "output_type": "stream",
     "text": [
      "\r",
      " 90%|████████▉ | 867/964 [3:38:02<51:35, 31.92s/it]"
     ]
    },
    {
     "name": "stdout",
     "output_type": "stream",
     "text": [
      "min:  0.0 max:  150.0 step:  0.5882352941176471\n"
     ]
    },
    {
     "name": "stderr",
     "output_type": "stream",
     "text": [
      "\r",
      " 90%|█████████ | 868/964 [3:38:28<48:27, 30.29s/it]"
     ]
    },
    {
     "name": "stdout",
     "output_type": "stream",
     "text": [
      "min:  0.0 max:  150.0 step:  0.5882352941176471\n"
     ]
    },
    {
     "name": "stderr",
     "output_type": "stream",
     "text": [
      "\r",
      " 90%|█████████ | 869/964 [3:38:55<46:14, 29.21s/it]"
     ]
    },
    {
     "name": "stdout",
     "output_type": "stream",
     "text": [
      "min:  0.0 max:  150.0 step:  0.5882352941176471\n"
     ]
    },
    {
     "name": "stderr",
     "output_type": "stream",
     "text": [
      "\r",
      " 90%|█████████ | 870/964 [3:39:21<44:04, 28.13s/it]"
     ]
    },
    {
     "name": "stdout",
     "output_type": "stream",
     "text": [
      "min:  0.0 max:  150.0 step:  0.5882352941176471\n"
     ]
    },
    {
     "name": "stderr",
     "output_type": "stream",
     "text": [
      "\r",
      " 90%|█████████ | 871/964 [3:39:47<42:56, 27.70s/it]"
     ]
    },
    {
     "name": "stdout",
     "output_type": "stream",
     "text": [
      "min:  0.0 max:  150.0 step:  0.5882352941176471\n"
     ]
    },
    {
     "name": "stderr",
     "output_type": "stream",
     "text": [
      "\r",
      " 90%|█████████ | 872/964 [3:40:14<42:00, 27.39s/it]"
     ]
    },
    {
     "name": "stdout",
     "output_type": "stream",
     "text": [
      "min:  0.0 max:  150.0 step:  0.5882352941176471\n"
     ]
    },
    {
     "name": "stderr",
     "output_type": "stream",
     "text": [
      "\r",
      " 91%|█████████ | 873/964 [3:40:41<41:13, 27.18s/it]"
     ]
    },
    {
     "name": "stdout",
     "output_type": "stream",
     "text": [
      "min:  0.0 max:  150.0 step:  0.5882352941176471\n"
     ]
    },
    {
     "name": "stderr",
     "output_type": "stream",
     "text": [
      "\r",
      " 91%|█████████ | 874/964 [3:41:08<40:37, 27.09s/it]"
     ]
    },
    {
     "name": "stdout",
     "output_type": "stream",
     "text": [
      "min:  0.0 max:  150.0 step:  0.5882352941176471\n"
     ]
    },
    {
     "name": "stderr",
     "output_type": "stream",
     "text": [
      "\r",
      " 91%|█████████ | 875/964 [3:41:35<40:06, 27.04s/it]"
     ]
    },
    {
     "name": "stdout",
     "output_type": "stream",
     "text": [
      "min:  0.0 max:  150.0 step:  0.5882352941176471\n"
     ]
    },
    {
     "name": "stderr",
     "output_type": "stream",
     "text": [
      "\r",
      " 91%|█████████ | 876/964 [3:42:00<39:10, 26.71s/it]"
     ]
    },
    {
     "name": "stdout",
     "output_type": "stream",
     "text": [
      "min:  0.0 max:  150.0 step:  0.5882352941176471\n"
     ]
    },
    {
     "name": "stderr",
     "output_type": "stream",
     "text": [
      "\r",
      " 91%|█████████ | 877/964 [3:42:27<38:30, 26.56s/it]"
     ]
    },
    {
     "name": "stdout",
     "output_type": "stream",
     "text": [
      "min:  0.0 max:  150.0 step:  0.5882352941176471\n"
     ]
    },
    {
     "name": "stderr",
     "output_type": "stream",
     "text": [
      "\r",
      " 91%|█████████ | 878/964 [3:42:53<38:04, 26.57s/it]"
     ]
    },
    {
     "name": "stdout",
     "output_type": "stream",
     "text": [
      "min:  0.0 max:  150.0 step:  0.5882352941176471\n"
     ]
    },
    {
     "name": "stderr",
     "output_type": "stream",
     "text": [
      "\r",
      " 91%|█████████ | 879/964 [3:43:19<37:24, 26.41s/it]"
     ]
    },
    {
     "name": "stdout",
     "output_type": "stream",
     "text": [
      "min:  0.0 max:  150.0 step:  0.5882352941176471\n"
     ]
    },
    {
     "name": "stderr",
     "output_type": "stream",
     "text": [
      "\r",
      " 91%|█████████▏| 880/964 [3:43:46<36:52, 26.34s/it]"
     ]
    },
    {
     "name": "stdout",
     "output_type": "stream",
     "text": [
      "min:  0.0 max:  150.0 step:  0.5882352941176471\n"
     ]
    },
    {
     "name": "stderr",
     "output_type": "stream",
     "text": [
      "\r",
      " 91%|█████████▏| 881/964 [3:44:13<36:43, 26.54s/it]"
     ]
    },
    {
     "name": "stdout",
     "output_type": "stream",
     "text": [
      "min:  0.0 max:  150.0 step:  0.5882352941176471\n"
     ]
    },
    {
     "name": "stderr",
     "output_type": "stream",
     "text": [
      "\r",
      " 91%|█████████▏| 882/964 [3:44:39<36:19, 26.58s/it]"
     ]
    },
    {
     "name": "stdout",
     "output_type": "stream",
     "text": [
      "min:  0.0 max:  150.0 step:  0.5882352941176471\n"
     ]
    },
    {
     "name": "stderr",
     "output_type": "stream",
     "text": [
      "\r",
      " 92%|█████████▏| 883/964 [3:45:06<36:00, 26.67s/it]"
     ]
    },
    {
     "name": "stdout",
     "output_type": "stream",
     "text": [
      "min:  0.0 max:  150.0 step:  0.5882352941176471\n"
     ]
    },
    {
     "name": "stderr",
     "output_type": "stream",
     "text": [
      "\r",
      " 92%|█████████▏| 884/964 [3:45:33<35:36, 26.71s/it]"
     ]
    },
    {
     "name": "stdout",
     "output_type": "stream",
     "text": [
      "min:  0.0 max:  150.0 step:  0.5882352941176471\n"
     ]
    },
    {
     "name": "stderr",
     "output_type": "stream",
     "text": [
      "\r",
      " 92%|█████████▏| 885/964 [3:46:01<35:47, 27.18s/it]"
     ]
    },
    {
     "name": "stdout",
     "output_type": "stream",
     "text": [
      "min:  0.0 max:  150.0 step:  0.5882352941176471\n"
     ]
    },
    {
     "name": "stderr",
     "output_type": "stream",
     "text": [
      "\r",
      " 92%|█████████▏| 886/964 [3:46:28<35:16, 27.14s/it]"
     ]
    },
    {
     "name": "stdout",
     "output_type": "stream",
     "text": [
      "min:  0.0 max:  150.0 step:  0.5882352941176471\n"
     ]
    },
    {
     "name": "stderr",
     "output_type": "stream",
     "text": [
      "\r",
      " 92%|█████████▏| 887/964 [3:46:55<34:47, 27.11s/it]"
     ]
    },
    {
     "name": "stdout",
     "output_type": "stream",
     "text": [
      "min:  0.0 max:  150.0 step:  0.5882352941176471\n"
     ]
    },
    {
     "name": "stderr",
     "output_type": "stream",
     "text": [
      "\r",
      " 92%|█████████▏| 888/964 [3:47:21<33:54, 26.77s/it]"
     ]
    },
    {
     "name": "stdout",
     "output_type": "stream",
     "text": [
      "min:  0.0 max:  150.0 step:  0.5882352941176471\n"
     ]
    },
    {
     "name": "stderr",
     "output_type": "stream",
     "text": [
      "\r",
      " 92%|█████████▏| 889/964 [3:47:48<33:23, 26.71s/it]"
     ]
    },
    {
     "name": "stdout",
     "output_type": "stream",
     "text": [
      "min:  0.0 max:  150.0 step:  0.5882352941176471\n"
     ]
    },
    {
     "name": "stderr",
     "output_type": "stream",
     "text": [
      "\r",
      " 92%|█████████▏| 890/964 [3:48:15<33:01, 26.77s/it]"
     ]
    },
    {
     "name": "stdout",
     "output_type": "stream",
     "text": [
      "min:  0.0 max:  150.0 step:  0.5882352941176471\n"
     ]
    },
    {
     "name": "stderr",
     "output_type": "stream",
     "text": [
      "\r",
      " 92%|█████████▏| 891/964 [3:48:41<32:19, 26.56s/it]"
     ]
    },
    {
     "name": "stdout",
     "output_type": "stream",
     "text": [
      "min:  0.0 max:  150.0 step:  0.5882352941176471\n"
     ]
    },
    {
     "name": "stderr",
     "output_type": "stream",
     "text": [
      "\r",
      " 93%|█████████▎| 892/964 [3:49:07<31:43, 26.43s/it]"
     ]
    },
    {
     "name": "stdout",
     "output_type": "stream",
     "text": [
      "min:  0.0 max:  150.0 step:  0.5882352941176471\n"
     ]
    },
    {
     "name": "stderr",
     "output_type": "stream",
     "text": [
      "\r",
      " 93%|█████████▎| 893/964 [3:49:32<30:56, 26.15s/it]"
     ]
    },
    {
     "name": "stdout",
     "output_type": "stream",
     "text": [
      "min:  0.0 max:  150.0 step:  0.5882352941176471\n"
     ]
    },
    {
     "name": "stderr",
     "output_type": "stream",
     "text": [
      "\r",
      " 93%|█████████▎| 894/964 [3:49:59<30:44, 26.35s/it]"
     ]
    },
    {
     "name": "stdout",
     "output_type": "stream",
     "text": [
      "min:  0.0 max:  150.0 step:  0.5882352941176471\n"
     ]
    },
    {
     "name": "stderr",
     "output_type": "stream",
     "text": [
      "\r",
      " 93%|█████████▎| 895/964 [3:50:26<30:21, 26.39s/it]"
     ]
    },
    {
     "name": "stdout",
     "output_type": "stream",
     "text": [
      "min:  0.0 max:  150.0 step:  0.5882352941176471\n"
     ]
    },
    {
     "name": "stderr",
     "output_type": "stream",
     "text": [
      "\r",
      " 93%|█████████▎| 896/964 [3:50:52<29:58, 26.46s/it]"
     ]
    },
    {
     "name": "stdout",
     "output_type": "stream",
     "text": [
      "min:  0.0 max:  150.0 step:  0.5882352941176471\n"
     ]
    },
    {
     "name": "stderr",
     "output_type": "stream",
     "text": [
      "\r",
      " 93%|█████████▎| 897/964 [3:51:19<29:44, 26.64s/it]"
     ]
    },
    {
     "name": "stdout",
     "output_type": "stream",
     "text": [
      "min:  0.0 max:  150.0 step:  0.5882352941176471\n"
     ]
    },
    {
     "name": "stderr",
     "output_type": "stream",
     "text": [
      "\r",
      " 93%|█████████▎| 898/964 [3:51:45<28:52, 26.24s/it]"
     ]
    },
    {
     "name": "stdout",
     "output_type": "stream",
     "text": [
      "min:  0.0 max:  150.0 step:  0.5882352941176471\n"
     ]
    },
    {
     "name": "stderr",
     "output_type": "stream",
     "text": [
      "\r",
      " 93%|█████████▎| 899/964 [3:52:12<28:38, 26.44s/it]"
     ]
    },
    {
     "name": "stdout",
     "output_type": "stream",
     "text": [
      "min:  0.0 max:  150.0 step:  0.5882352941176471\n"
     ]
    },
    {
     "name": "stderr",
     "output_type": "stream",
     "text": [
      "\r",
      " 93%|█████████▎| 900/964 [3:52:38<28:15, 26.50s/it]"
     ]
    },
    {
     "name": "stdout",
     "output_type": "stream",
     "text": [
      "min:  0.0 max:  150.0 step:  0.5882352941176471\n"
     ]
    },
    {
     "name": "stderr",
     "output_type": "stream",
     "text": [
      "\r",
      " 93%|█████████▎| 901/964 [3:53:04<27:27, 26.15s/it]"
     ]
    },
    {
     "name": "stdout",
     "output_type": "stream",
     "text": [
      "min:  0.0 max:  150.0 step:  0.5882352941176471\n"
     ]
    },
    {
     "name": "stderr",
     "output_type": "stream",
     "text": [
      "\r",
      " 94%|█████████▎| 902/964 [3:53:29<26:51, 25.99s/it]"
     ]
    },
    {
     "name": "stdout",
     "output_type": "stream",
     "text": [
      "min:  0.0 max:  150.0 step:  0.5882352941176471\n"
     ]
    },
    {
     "name": "stderr",
     "output_type": "stream",
     "text": [
      "\r",
      " 94%|█████████▎| 903/964 [3:53:55<26:16, 25.84s/it]"
     ]
    },
    {
     "name": "stdout",
     "output_type": "stream",
     "text": [
      "min:  0.0 max:  150.0 step:  0.5882352941176471\n"
     ]
    },
    {
     "name": "stderr",
     "output_type": "stream",
     "text": [
      "\r",
      " 94%|█████████▍| 904/964 [3:54:21<25:54, 25.90s/it]"
     ]
    },
    {
     "name": "stdout",
     "output_type": "stream",
     "text": [
      "min:  0.0 max:  150.0 step:  0.5882352941176471\n"
     ]
    },
    {
     "name": "stderr",
     "output_type": "stream",
     "text": [
      "\r",
      " 94%|█████████▍| 905/964 [3:54:47<25:39, 26.09s/it]"
     ]
    },
    {
     "name": "stdout",
     "output_type": "stream",
     "text": [
      "min:  0.0 max:  150.0 step:  0.5882352941176471\n"
     ]
    },
    {
     "name": "stderr",
     "output_type": "stream",
     "text": [
      "\r",
      " 94%|█████████▍| 906/964 [3:55:16<25:54, 26.81s/it]"
     ]
    },
    {
     "name": "stdout",
     "output_type": "stream",
     "text": [
      "min:  0.0 max:  150.0 step:  0.5882352941176471\n"
     ]
    },
    {
     "name": "stderr",
     "output_type": "stream",
     "text": [
      "\r",
      " 94%|█████████▍| 907/964 [3:55:44<25:49, 27.19s/it]"
     ]
    },
    {
     "name": "stdout",
     "output_type": "stream",
     "text": [
      "min:  0.0 max:  150.0 step:  0.5882352941176471\n"
     ]
    },
    {
     "name": "stderr",
     "output_type": "stream",
     "text": [
      "\r",
      " 94%|█████████▍| 908/964 [3:56:12<25:32, 27.37s/it]"
     ]
    },
    {
     "name": "stdout",
     "output_type": "stream",
     "text": [
      "min:  0.0 max:  150.0 step:  0.5882352941176471\n"
     ]
    },
    {
     "name": "stderr",
     "output_type": "stream",
     "text": [
      "\r",
      " 94%|█████████▍| 909/964 [3:56:39<25:11, 27.48s/it]"
     ]
    },
    {
     "name": "stdout",
     "output_type": "stream",
     "text": [
      "min:  0.0 max:  150.0 step:  0.5882352941176471\n"
     ]
    },
    {
     "name": "stderr",
     "output_type": "stream",
     "text": [
      "\r",
      " 94%|█████████▍| 910/964 [3:57:07<24:54, 27.68s/it]"
     ]
    },
    {
     "name": "stdout",
     "output_type": "stream",
     "text": [
      "min:  0.0 max:  150.0 step:  0.5882352941176471\n"
     ]
    },
    {
     "name": "stderr",
     "output_type": "stream",
     "text": [
      "\r",
      " 95%|█████████▍| 911/964 [3:57:36<24:34, 27.81s/it]"
     ]
    },
    {
     "name": "stdout",
     "output_type": "stream",
     "text": [
      "min:  0.0 max:  150.0 step:  0.5882352941176471\n"
     ]
    },
    {
     "name": "stderr",
     "output_type": "stream",
     "text": [
      "\r",
      " 95%|█████████▍| 912/964 [3:58:04<24:17, 28.03s/it]"
     ]
    },
    {
     "name": "stdout",
     "output_type": "stream",
     "text": [
      "min:  0.0 max:  150.0 step:  0.5882352941176471\n"
     ]
    },
    {
     "name": "stderr",
     "output_type": "stream",
     "text": [
      "\r",
      " 95%|█████████▍| 913/964 [3:58:33<23:58, 28.21s/it]"
     ]
    },
    {
     "name": "stdout",
     "output_type": "stream",
     "text": [
      "min:  0.0 max:  150.0 step:  0.5882352941176471\n"
     ]
    },
    {
     "name": "stderr",
     "output_type": "stream",
     "text": [
      "\r",
      " 95%|█████████▍| 914/964 [3:59:01<23:24, 28.09s/it]"
     ]
    },
    {
     "name": "stdout",
     "output_type": "stream",
     "text": [
      "min:  0.0 max:  150.0 step:  0.5882352941176471\n"
     ]
    },
    {
     "name": "stderr",
     "output_type": "stream",
     "text": [
      "\r",
      " 95%|█████████▍| 915/964 [3:59:28<22:50, 27.97s/it]"
     ]
    },
    {
     "name": "stdout",
     "output_type": "stream",
     "text": [
      "min:  0.0 max:  150.0 step:  0.5882352941176471\n"
     ]
    },
    {
     "name": "stderr",
     "output_type": "stream",
     "text": [
      "\r",
      " 95%|█████████▌| 916/964 [3:59:57<22:34, 28.23s/it]"
     ]
    },
    {
     "name": "stdout",
     "output_type": "stream",
     "text": [
      "min:  0.0 max:  150.0 step:  0.5882352941176471\n"
     ]
    },
    {
     "name": "stderr",
     "output_type": "stream",
     "text": [
      "\r",
      " 95%|█████████▌| 917/964 [4:00:27<22:36, 28.87s/it]"
     ]
    },
    {
     "name": "stdout",
     "output_type": "stream",
     "text": [
      "min:  0.0 max:  150.0 step:  0.5882352941176471\n"
     ]
    },
    {
     "name": "stderr",
     "output_type": "stream",
     "text": [
      "\r",
      " 95%|█████████▌| 918/964 [4:00:56<22:01, 28.73s/it]"
     ]
    },
    {
     "name": "stdout",
     "output_type": "stream",
     "text": [
      "min:  0.0 max:  150.0 step:  0.5882352941176471\n"
     ]
    },
    {
     "name": "stderr",
     "output_type": "stream",
     "text": [
      "\r",
      " 95%|█████████▌| 919/964 [4:01:25<21:35, 28.80s/it]"
     ]
    },
    {
     "name": "stdout",
     "output_type": "stream",
     "text": [
      "min:  0.0 max:  150.0 step:  0.5882352941176471\n"
     ]
    },
    {
     "name": "stderr",
     "output_type": "stream",
     "text": [
      "\r",
      " 95%|█████████▌| 920/964 [4:01:55<21:27, 29.25s/it]"
     ]
    },
    {
     "name": "stdout",
     "output_type": "stream",
     "text": [
      "min:  0.0 max:  150.0 step:  0.5882352941176471\n"
     ]
    },
    {
     "name": "stderr",
     "output_type": "stream",
     "text": [
      "\r",
      " 96%|█████████▌| 921/964 [4:02:25<21:11, 29.57s/it]"
     ]
    },
    {
     "name": "stdout",
     "output_type": "stream",
     "text": [
      "min:  0.0 max:  150.0 step:  0.5882352941176471\n"
     ]
    },
    {
     "name": "stderr",
     "output_type": "stream",
     "text": [
      "\r",
      " 96%|█████████▌| 922/964 [4:02:55<20:35, 29.42s/it]"
     ]
    },
    {
     "name": "stdout",
     "output_type": "stream",
     "text": [
      "min:  0.0 max:  150.0 step:  0.5882352941176471\n"
     ]
    },
    {
     "name": "stderr",
     "output_type": "stream",
     "text": [
      "\r",
      " 96%|█████████▌| 923/964 [4:03:24<20:01, 29.30s/it]"
     ]
    },
    {
     "name": "stdout",
     "output_type": "stream",
     "text": [
      "min:  0.0 max:  150.0 step:  0.5882352941176471\n"
     ]
    },
    {
     "name": "stderr",
     "output_type": "stream",
     "text": [
      "\r",
      " 96%|█████████▌| 924/964 [4:03:52<19:17, 28.94s/it]"
     ]
    },
    {
     "name": "stdout",
     "output_type": "stream",
     "text": [
      "min:  0.0 max:  150.0 step:  0.5882352941176471\n"
     ]
    },
    {
     "name": "stderr",
     "output_type": "stream",
     "text": [
      "\r",
      " 96%|█████████▌| 925/964 [4:04:21<18:54, 29.08s/it]"
     ]
    },
    {
     "name": "stdout",
     "output_type": "stream",
     "text": [
      "min:  0.0 max:  150.0 step:  0.5882352941176471\n"
     ]
    },
    {
     "name": "stderr",
     "output_type": "stream",
     "text": [
      "\r",
      " 96%|█████████▌| 926/964 [4:04:51<18:31, 29.25s/it]"
     ]
    },
    {
     "name": "stdout",
     "output_type": "stream",
     "text": [
      "min:  0.0 max:  150.0 step:  0.5882352941176471\n"
     ]
    },
    {
     "name": "stderr",
     "output_type": "stream",
     "text": [
      "\r",
      " 96%|█████████▌| 927/964 [4:05:20<18:02, 29.25s/it]"
     ]
    },
    {
     "name": "stdout",
     "output_type": "stream",
     "text": [
      "min:  0.0 max:  150.0 step:  0.5882352941176471\n"
     ]
    },
    {
     "name": "stderr",
     "output_type": "stream",
     "text": [
      "\r",
      " 96%|█████████▋| 928/964 [4:05:49<17:32, 29.23s/it]"
     ]
    },
    {
     "name": "stdout",
     "output_type": "stream",
     "text": [
      "min:  0.0 max:  150.0 step:  0.5882352941176471\n"
     ]
    },
    {
     "name": "stderr",
     "output_type": "stream",
     "text": [
      "\r",
      " 96%|█████████▋| 929/964 [4:06:18<16:54, 28.98s/it]"
     ]
    },
    {
     "name": "stdout",
     "output_type": "stream",
     "text": [
      "min:  0.0 max:  150.0 step:  0.5882352941176471\n"
     ]
    },
    {
     "name": "stderr",
     "output_type": "stream",
     "text": [
      "\r",
      " 96%|█████████▋| 930/964 [4:06:46<16:18, 28.79s/it]"
     ]
    },
    {
     "name": "stdout",
     "output_type": "stream",
     "text": [
      "min:  0.0 max:  150.0 step:  0.5882352941176471\n"
     ]
    },
    {
     "name": "stderr",
     "output_type": "stream",
     "text": [
      "\r",
      " 97%|█████████▋| 931/964 [4:07:15<15:54, 28.93s/it]"
     ]
    },
    {
     "name": "stdout",
     "output_type": "stream",
     "text": [
      "min:  0.0 max:  150.0 step:  0.5882352941176471\n"
     ]
    },
    {
     "name": "stderr",
     "output_type": "stream",
     "text": [
      "\r",
      " 97%|█████████▋| 932/964 [4:07:44<15:25, 28.92s/it]"
     ]
    },
    {
     "name": "stdout",
     "output_type": "stream",
     "text": [
      "min:  0.0 max:  150.0 step:  0.5882352941176471\n"
     ]
    },
    {
     "name": "stderr",
     "output_type": "stream",
     "text": [
      "\r",
      " 97%|█████████▋| 933/964 [4:08:13<14:59, 29.00s/it]"
     ]
    },
    {
     "name": "stdout",
     "output_type": "stream",
     "text": [
      "min:  0.0 max:  150.0 step:  0.5882352941176471\n"
     ]
    },
    {
     "name": "stderr",
     "output_type": "stream",
     "text": [
      "\r",
      " 97%|█████████▋| 934/964 [4:08:42<14:29, 29.00s/it]"
     ]
    },
    {
     "name": "stdout",
     "output_type": "stream",
     "text": [
      "min:  0.0 max:  150.0 step:  0.5882352941176471\n"
     ]
    },
    {
     "name": "stderr",
     "output_type": "stream",
     "text": [
      "\r",
      " 97%|█████████▋| 935/964 [4:09:11<14:03, 29.07s/it]"
     ]
    },
    {
     "name": "stdout",
     "output_type": "stream",
     "text": [
      "min:  0.0 max:  150.0 step:  0.5882352941176471\n"
     ]
    },
    {
     "name": "stderr",
     "output_type": "stream",
     "text": [
      "\r",
      " 97%|█████████▋| 936/964 [4:09:41<13:34, 29.09s/it]"
     ]
    },
    {
     "name": "stdout",
     "output_type": "stream",
     "text": [
      "min:  0.0 max:  150.0 step:  0.5882352941176471\n"
     ]
    },
    {
     "name": "stderr",
     "output_type": "stream",
     "text": [
      "\r",
      " 97%|█████████▋| 937/964 [4:10:10<13:05, 29.08s/it]"
     ]
    },
    {
     "name": "stdout",
     "output_type": "stream",
     "text": [
      "min:  0.0 max:  150.0 step:  0.5882352941176471\n"
     ]
    },
    {
     "name": "stderr",
     "output_type": "stream",
     "text": [
      "\r",
      " 97%|█████████▋| 938/964 [4:10:39<12:35, 29.07s/it]"
     ]
    },
    {
     "name": "stdout",
     "output_type": "stream",
     "text": [
      "min:  0.0 max:  150.0 step:  0.5882352941176471\n"
     ]
    },
    {
     "name": "stderr",
     "output_type": "stream",
     "text": [
      "\r",
      " 97%|█████████▋| 939/964 [4:11:08<12:10, 29.20s/it]"
     ]
    },
    {
     "name": "stdout",
     "output_type": "stream",
     "text": [
      "min:  0.0 max:  150.0 step:  0.5882352941176471\n"
     ]
    },
    {
     "name": "stderr",
     "output_type": "stream",
     "text": [
      "\r",
      " 98%|█████████▊| 940/964 [4:11:37<11:37, 29.08s/it]"
     ]
    },
    {
     "name": "stdout",
     "output_type": "stream",
     "text": [
      "min:  0.0 max:  150.0 step:  0.5882352941176471\n"
     ]
    },
    {
     "name": "stderr",
     "output_type": "stream",
     "text": [
      "\r",
      " 98%|█████████▊| 941/964 [4:12:06<11:06, 28.96s/it]"
     ]
    },
    {
     "name": "stdout",
     "output_type": "stream",
     "text": [
      "min:  0.0 max:  150.0 step:  0.5882352941176471\n"
     ]
    },
    {
     "name": "stderr",
     "output_type": "stream",
     "text": [
      "\r",
      " 98%|█████████▊| 942/964 [4:12:35<10:41, 29.15s/it]"
     ]
    },
    {
     "name": "stdout",
     "output_type": "stream",
     "text": [
      "min:  0.0 max:  150.0 step:  0.5882352941176471\n"
     ]
    },
    {
     "name": "stderr",
     "output_type": "stream",
     "text": [
      "\r",
      " 98%|█████████▊| 943/964 [4:13:05<10:13, 29.22s/it]"
     ]
    },
    {
     "name": "stdout",
     "output_type": "stream",
     "text": [
      "min:  0.0 max:  150.0 step:  0.5882352941176471\n"
     ]
    },
    {
     "name": "stderr",
     "output_type": "stream",
     "text": [
      "\r",
      " 98%|█████████▊| 944/964 [4:13:34<09:46, 29.30s/it]"
     ]
    },
    {
     "name": "stdout",
     "output_type": "stream",
     "text": [
      "min:  0.0 max:  150.0 step:  0.5882352941176471\n"
     ]
    },
    {
     "name": "stderr",
     "output_type": "stream",
     "text": [
      "\r",
      " 98%|█████████▊| 945/964 [4:14:03<09:12, 29.09s/it]"
     ]
    },
    {
     "name": "stdout",
     "output_type": "stream",
     "text": [
      "min:  0.0 max:  150.0 step:  0.5882352941176471\n"
     ]
    },
    {
     "name": "stderr",
     "output_type": "stream",
     "text": [
      "\r",
      " 98%|█████████▊| 946/964 [4:14:33<08:48, 29.38s/it]"
     ]
    },
    {
     "name": "stdout",
     "output_type": "stream",
     "text": [
      "min:  0.0 max:  150.0 step:  0.5882352941176471\n"
     ]
    },
    {
     "name": "stderr",
     "output_type": "stream",
     "text": [
      "\r",
      " 98%|█████████▊| 947/964 [4:15:03<08:23, 29.59s/it]"
     ]
    },
    {
     "name": "stdout",
     "output_type": "stream",
     "text": [
      "min:  0.0 max:  150.0 step:  0.5882352941176471\n"
     ]
    },
    {
     "name": "stderr",
     "output_type": "stream",
     "text": [
      "\r",
      " 98%|█████████▊| 948/964 [4:15:32<07:53, 29.59s/it]"
     ]
    },
    {
     "name": "stdout",
     "output_type": "stream",
     "text": [
      "min:  0.0 max:  150.0 step:  0.5882352941176471\n"
     ]
    },
    {
     "name": "stderr",
     "output_type": "stream",
     "text": [
      "\r",
      " 98%|█████████▊| 949/964 [4:16:01<07:19, 29.33s/it]"
     ]
    },
    {
     "name": "stdout",
     "output_type": "stream",
     "text": [
      "min:  0.0 max:  150.0 step:  0.5882352941176471\n"
     ]
    },
    {
     "name": "stderr",
     "output_type": "stream",
     "text": [
      "\r",
      " 99%|█████████▊| 950/964 [4:16:32<06:55, 29.70s/it]"
     ]
    },
    {
     "name": "stdout",
     "output_type": "stream",
     "text": [
      "min:  0.0 max:  150.0 step:  0.5882352941176471\n"
     ]
    },
    {
     "name": "stderr",
     "output_type": "stream",
     "text": [
      "\r",
      " 99%|█████████▊| 951/964 [4:17:02<06:29, 29.95s/it]"
     ]
    },
    {
     "name": "stdout",
     "output_type": "stream",
     "text": [
      "min:  0.0 max:  150.0 step:  0.5882352941176471\n"
     ]
    },
    {
     "name": "stderr",
     "output_type": "stream",
     "text": [
      "\r",
      " 99%|█████████▉| 952/964 [4:17:32<05:58, 29.87s/it]"
     ]
    },
    {
     "name": "stdout",
     "output_type": "stream",
     "text": [
      "min:  0.0 max:  150.0 step:  0.5882352941176471\n"
     ]
    },
    {
     "name": "stderr",
     "output_type": "stream",
     "text": [
      "\r",
      " 99%|█████████▉| 953/964 [4:18:03<05:31, 30.16s/it]"
     ]
    },
    {
     "name": "stdout",
     "output_type": "stream",
     "text": [
      "min:  0.0 max:  150.0 step:  0.5882352941176471\n"
     ]
    },
    {
     "name": "stderr",
     "output_type": "stream",
     "text": [
      "\r",
      " 99%|█████████▉| 954/964 [4:18:32<05:00, 30.01s/it]"
     ]
    },
    {
     "name": "stdout",
     "output_type": "stream",
     "text": [
      "min:  0.0 max:  150.0 step:  0.5882352941176471\n"
     ]
    },
    {
     "name": "stderr",
     "output_type": "stream",
     "text": [
      "\r",
      " 99%|█████████▉| 955/964 [4:19:03<04:31, 30.19s/it]"
     ]
    },
    {
     "name": "stdout",
     "output_type": "stream",
     "text": [
      "min:  0.0 max:  150.0 step:  0.5882352941176471\n"
     ]
    },
    {
     "name": "stderr",
     "output_type": "stream",
     "text": [
      "\r",
      " 99%|█████████▉| 956/964 [4:19:33<04:01, 30.13s/it]"
     ]
    },
    {
     "name": "stdout",
     "output_type": "stream",
     "text": [
      "min:  0.0 max:  150.0 step:  0.5882352941176471\n"
     ]
    },
    {
     "name": "stderr",
     "output_type": "stream",
     "text": [
      "\r",
      " 99%|█████████▉| 957/964 [4:20:02<03:28, 29.82s/it]"
     ]
    },
    {
     "name": "stdout",
     "output_type": "stream",
     "text": [
      "min:  0.0 max:  150.0 step:  0.5882352941176471\n"
     ]
    },
    {
     "name": "stderr",
     "output_type": "stream",
     "text": [
      "\r",
      " 99%|█████████▉| 958/964 [4:20:32<02:59, 29.87s/it]"
     ]
    },
    {
     "name": "stdout",
     "output_type": "stream",
     "text": [
      "min:  0.0 max:  150.0 step:  0.5882352941176471\n"
     ]
    },
    {
     "name": "stderr",
     "output_type": "stream",
     "text": [
      "\r",
      " 99%|█████████▉| 959/964 [4:21:02<02:28, 29.78s/it]"
     ]
    },
    {
     "name": "stdout",
     "output_type": "stream",
     "text": [
      "min:  0.0 max:  150.0 step:  0.5882352941176471\n"
     ]
    },
    {
     "name": "stderr",
     "output_type": "stream",
     "text": [
      "\r",
      "100%|█████████▉| 960/964 [4:21:32<01:59, 30.00s/it]"
     ]
    },
    {
     "name": "stdout",
     "output_type": "stream",
     "text": [
      "min:  0.0 max:  150.0 step:  0.5882352941176471\n"
     ]
    },
    {
     "name": "stderr",
     "output_type": "stream",
     "text": [
      "\r",
      "100%|█████████▉| 961/964 [4:22:02<01:30, 30.05s/it]"
     ]
    },
    {
     "name": "stdout",
     "output_type": "stream",
     "text": [
      "min:  0.0 max:  150.0 step:  0.5882352941176471\n"
     ]
    },
    {
     "name": "stderr",
     "output_type": "stream",
     "text": [
      "\r",
      "100%|█████████▉| 962/964 [4:22:31<00:59, 29.75s/it]"
     ]
    },
    {
     "name": "stdout",
     "output_type": "stream",
     "text": [
      "min:  0.0 max:  150.0 step:  0.5882352941176471\n"
     ]
    },
    {
     "name": "stderr",
     "output_type": "stream",
     "text": [
      "\r",
      "100%|█████████▉| 963/964 [4:23:02<00:30, 30.02s/it]"
     ]
    },
    {
     "name": "stdout",
     "output_type": "stream",
     "text": [
      "min:  0.0 max:  150.0 step:  0.5882352941176471\n"
     ]
    },
    {
     "name": "stderr",
     "output_type": "stream",
     "text": [
      "100%|██████████| 964/964 [4:23:33<00:00, 16.40s/it]\n"
     ]
    }
   ],
   "source": [
    "data_ct_nrrd = ToolBox(data_path = r'E:\\Internship Mass storage\\First 3 datasets\\VALDO dataset\\Test', data_type='nrrd')\n",
    "sb.set(context='poster', style='white')\n",
    "data_ct_nrrd.pre_process(ref_img_path = r'E:\\Internship Mass storage\\First 3 datasets\\VALDO dataset\\Test\\sub-101\\sub-101_space-T1_desc-image_FLAIR.nrrd',\n",
    "                         save_path = r\"E:\\Internship Mass storage\\First 3 datasets\\VALDO dataset\\nrrd_preprocessed\",\n",
    "                         hist_match = False,        # boolean\n",
    "                         subcateneus_fat = False,   # boolean\n",
    "                         fat_value = 774,           # this is a dummy value, \n",
    "                                                    # you would need to find that value for each image\n",
    "                         percentile_scaling = False, # boolean\n",
    "                         window_filtering_params = (1500,-600), #Window Filtering [WW,WL]\n",
    "                         binning = 255,             # this is a dummy value, it takes False or int \n",
    "                                                    # (# of bins for intensity resampling)\n",
    "                         verbosity = False,          # boolean\n",
    "                         z_score = True,           # boolean \n",
    "                         hist_equalize = False,     # boolean\n",
    "                         norm_coeff = (1000.,500.), # these are dummy values, you would need to estimate real mu and sigma\n",
    "                                                    # it takes None or tuple: (mu,sigma)\n",
    "                         visualize = False)"
   ]
  },
  {
   "cell_type": "code",
   "execution_count": 15,
   "id": "23caa08b",
   "metadata": {},
   "outputs": [
    {
     "name": "stderr",
     "output_type": "stream",
     "text": [
      "Fixed bin Count enabled! However, we recommend using a fixed bin Width. See http://pyradiomics.readthedocs.io/en/latest/faq.html#radiomics-fixed-bin-width for more details\n",
      "Patients processed:   0%|          | 2/964 [00:03<25:27,  1.59s/it]C:\\Users\\MegaMert\\Documents\\GitHub\\precision-medicine-toolbox\\pmtool\\ToolBox.py:144: UserWarning: region : sub-101_masksub-101 lesion11 skipped\n",
      "  warn('region : %s skipped'%pat)\n",
      "Patients processed:   0%|          | 3/964 [00:04<23:55,  1.49s/it]C:\\Users\\MegaMert\\Documents\\GitHub\\precision-medicine-toolbox\\pmtool\\ToolBox.py:144: UserWarning: region : sub-101_masksub-101 lesion12 skipped\n",
      "  warn('region : %s skipped'%pat)\n",
      "Patients processed:   1%|          | 5/964 [00:07<23:09,  1.45s/it]C:\\Users\\MegaMert\\Documents\\GitHub\\precision-medicine-toolbox\\pmtool\\ToolBox.py:144: UserWarning: region : sub-101_masksub-101 lesion14 skipped\n",
      "  warn('region : %s skipped'%pat)\n",
      "Patients processed:   1%|          | 6/964 [00:08<23:08,  1.45s/it]C:\\Users\\MegaMert\\Documents\\GitHub\\precision-medicine-toolbox\\pmtool\\ToolBox.py:144: UserWarning: region : sub-101_masksub-101 lesion15 skipped\n",
      "  warn('region : %s skipped'%pat)\n",
      "Patients processed:   1%|          | 8/964 [00:11<22:39,  1.42s/it]Encountered 1 eigenvalues < 0 and > -1e-10, rounding to 0\n",
      "Patients processed:   1%|          | 9/964 [00:13<22:20,  1.40s/it]C:\\Users\\MegaMert\\Documents\\GitHub\\precision-medicine-toolbox\\pmtool\\ToolBox.py:144: UserWarning: region : sub-101_masksub-101 lesion18 skipped\n",
      "  warn('region : %s skipped'%pat)\n",
      "Patients processed:   1%|▏         | 13/964 [00:18<21:56,  1.38s/it]C:\\Users\\MegaMert\\Documents\\GitHub\\precision-medicine-toolbox\\pmtool\\ToolBox.py:144: UserWarning: region : sub-101_masksub-101 lesion21 skipped\n",
      "  warn('region : %s skipped'%pat)\n",
      "Patients processed:   1%|▏         | 14/964 [00:19<21:46,  1.38s/it]C:\\Users\\MegaMert\\Documents\\GitHub\\precision-medicine-toolbox\\pmtool\\ToolBox.py:144: UserWarning: region : sub-101_masksub-101 lesion22 skipped\n",
      "  warn('region : %s skipped'%pat)\n",
      "Patients processed:   2%|▏         | 15/964 [00:21<21:44,  1.37s/it]C:\\Users\\MegaMert\\Documents\\GitHub\\precision-medicine-toolbox\\pmtool\\ToolBox.py:144: UserWarning: region : sub-101_masksub-101 lesion23 skipped\n",
      "  warn('region : %s skipped'%pat)\n",
      "Patients processed:   2%|▏         | 18/964 [00:25<21:59,  1.40s/it]C:\\Users\\MegaMert\\Documents\\GitHub\\precision-medicine-toolbox\\pmtool\\ToolBox.py:144: UserWarning: region : sub-101_masksub-101 lesion26 skipped\n",
      "  warn('region : %s skipped'%pat)\n",
      "Patients processed:   2%|▏         | 19/964 [00:26<21:43,  1.38s/it]C:\\Users\\MegaMert\\Documents\\GitHub\\precision-medicine-toolbox\\pmtool\\ToolBox.py:144: UserWarning: region : sub-101_masksub-101 lesion27 skipped\n",
      "  warn('region : %s skipped'%pat)\n",
      "Patients processed:   2%|▏         | 22/964 [00:31<22:07,  1.41s/it]C:\\Users\\MegaMert\\Documents\\GitHub\\precision-medicine-toolbox\\pmtool\\ToolBox.py:144: UserWarning: region : sub-101_masksub-101 lesion3 skipped\n",
      "  warn('region : %s skipped'%pat)\n",
      "Patients processed:   2%|▏         | 24/964 [00:33<22:02,  1.41s/it]C:\\Users\\MegaMert\\Documents\\GitHub\\precision-medicine-toolbox\\pmtool\\ToolBox.py:144: UserWarning: region : sub-101_masksub-101 lesion31 skipped\n",
      "  warn('region : %s skipped'%pat)\n",
      "Patients processed:   3%|▎         | 25/964 [00:35<22:02,  1.41s/it]C:\\Users\\MegaMert\\Documents\\GitHub\\precision-medicine-toolbox\\pmtool\\ToolBox.py:144: UserWarning: region : sub-101_masksub-101 lesion32 skipped\n",
      "  warn('region : %s skipped'%pat)\n",
      "Patients processed:   3%|▎         | 28/964 [00:39<21:47,  1.40s/it]C:\\Users\\MegaMert\\anaconda3\\lib\\site-packages\\radiomics\\firstorder.py:297: RuntimeWarning: Mean of empty slice\n",
      "  return numpy.nanmean(numpy.absolute(percentileArray - numpy.nanmean(percentileArray, 1, keepdims=True)), 1)\n",
      "Patients processed:   3%|▎         | 29/964 [00:40<21:47,  1.40s/it]C:\\Users\\MegaMert\\Documents\\GitHub\\precision-medicine-toolbox\\pmtool\\ToolBox.py:144: UserWarning: region : sub-101_masksub-101 lesion36 skipped\n",
      "  warn('region : %s skipped'%pat)\n",
      "Patients processed:   3%|▎         | 30/964 [00:42<21:34,  1.39s/it]C:\\Users\\MegaMert\\Documents\\GitHub\\precision-medicine-toolbox\\pmtool\\ToolBox.py:144: UserWarning: region : sub-101_masksub-101 lesion37 skipped\n",
      "  warn('region : %s skipped'%pat)\n",
      "Patients processed:   4%|▎         | 34/964 [00:47<21:37,  1.39s/it]C:\\Users\\MegaMert\\Documents\\GitHub\\precision-medicine-toolbox\\pmtool\\ToolBox.py:144: UserWarning: region : sub-101_masksub-101 lesion40 skipped\n",
      "  warn('region : %s skipped'%pat)\n",
      "Patients processed:   4%|▎         | 36/964 [00:50<21:23,  1.38s/it]C:\\Users\\MegaMert\\Documents\\GitHub\\precision-medicine-toolbox\\pmtool\\ToolBox.py:144: UserWarning: region : sub-101_masksub-101 lesion42 skipped\n",
      "  warn('region : %s skipped'%pat)\n",
      "Patients processed:   4%|▍         | 39/964 [00:54<21:25,  1.39s/it]C:\\Users\\MegaMert\\Documents\\GitHub\\precision-medicine-toolbox\\pmtool\\ToolBox.py:144: UserWarning: region : sub-101_masksub-101 lesion45 skipped\n",
      "  warn('region : %s skipped'%pat)\n",
      "Patients processed:   4%|▍         | 41/964 [00:57<21:27,  1.39s/it]C:\\Users\\MegaMert\\Documents\\GitHub\\precision-medicine-toolbox\\pmtool\\ToolBox.py:144: UserWarning: region : sub-101_masksub-101 lesion47 skipped\n",
      "  warn('region : %s skipped'%pat)\n",
      "Patients processed:   5%|▍         | 44/964 [01:01<21:16,  1.39s/it]C:\\Users\\MegaMert\\Documents\\GitHub\\precision-medicine-toolbox\\pmtool\\ToolBox.py:144: UserWarning: region : sub-101_masksub-101 lesion5 skipped\n",
      "  warn('region : %s skipped'%pat)\n",
      "Patients processed:   5%|▍         | 45/964 [01:02<21:10,  1.38s/it]C:\\Users\\MegaMert\\Documents\\GitHub\\precision-medicine-toolbox\\pmtool\\ToolBox.py:144: UserWarning: region : sub-101_masksub-101 lesion50 skipped\n",
      "  warn('region : %s skipped'%pat)\n",
      "Patients processed:   5%|▌         | 49/964 [01:08<20:58,  1.38s/it]C:\\Users\\MegaMert\\Documents\\GitHub\\precision-medicine-toolbox\\pmtool\\ToolBox.py:144: UserWarning: region : sub-101_masksub-101 lesion54 skipped\n",
      "  warn('region : %s skipped'%pat)\n",
      "Patients processed:   5%|▌         | 51/964 [01:11<21:01,  1.38s/it]C:\\Users\\MegaMert\\Documents\\GitHub\\precision-medicine-toolbox\\pmtool\\ToolBox.py:144: UserWarning: region : sub-101_masksub-101 lesion56 skipped\n",
      "  warn('region : %s skipped'%pat)\n",
      "Patients processed:   5%|▌         | 53/964 [01:13<20:41,  1.36s/it]C:\\Users\\MegaMert\\Documents\\GitHub\\precision-medicine-toolbox\\pmtool\\ToolBox.py:144: UserWarning: region : sub-101_masksub-101 lesion58 skipped\n",
      "  warn('region : %s skipped'%pat)\n",
      "Patients processed:   6%|▌         | 54/964 [01:15<20:41,  1.36s/it]C:\\Users\\MegaMert\\Documents\\GitHub\\precision-medicine-toolbox\\pmtool\\ToolBox.py:144: UserWarning: region : sub-101_masksub-101 lesion59 skipped\n",
      "  warn('region : %s skipped'%pat)\n",
      "Patients processed:   6%|▌         | 55/964 [01:16<20:43,  1.37s/it]C:\\Users\\MegaMert\\Documents\\GitHub\\precision-medicine-toolbox\\pmtool\\ToolBox.py:144: UserWarning: region : sub-101_masksub-101 lesion6 skipped\n",
      "  warn('region : %s skipped'%pat)\n",
      "Patients processed:   6%|▌         | 56/964 [01:18<20:40,  1.37s/it]C:\\Users\\MegaMert\\Documents\\GitHub\\precision-medicine-toolbox\\pmtool\\ToolBox.py:144: UserWarning: region : sub-101_masksub-101 lesion60 skipped\n",
      "  warn('region : %s skipped'%pat)\n",
      "Patients processed:   6%|▌         | 57/964 [01:19<20:36,  1.36s/it]C:\\Users\\MegaMert\\Documents\\GitHub\\precision-medicine-toolbox\\pmtool\\ToolBox.py:144: UserWarning: region : sub-101_masksub-101 lesion61 skipped\n",
      "  warn('region : %s skipped'%pat)\n",
      "Patients processed:   6%|▌         | 59/964 [01:22<20:30,  1.36s/it]C:\\Users\\MegaMert\\Documents\\GitHub\\precision-medicine-toolbox\\pmtool\\ToolBox.py:144: UserWarning: region : sub-101_masksub-101 lesion63 skipped\n",
      "  warn('region : %s skipped'%pat)\n",
      "Patients processed:   6%|▋         | 62/964 [01:26<20:50,  1.39s/it]C:\\Users\\MegaMert\\Documents\\GitHub\\precision-medicine-toolbox\\pmtool\\ToolBox.py:144: UserWarning: region : sub-101_masksub-101 lesion66 skipped\n",
      "  warn('region : %s skipped'%pat)\n",
      "Patients processed:   7%|▋         | 67/964 [01:33<20:35,  1.38s/it]C:\\Users\\MegaMert\\Documents\\GitHub\\precision-medicine-toolbox\\pmtool\\ToolBox.py:144: UserWarning: region : sub-101_masksub-101 lesion70 skipped\n",
      "  warn('region : %s skipped'%pat)\n"
     ]
    },
    {
     "name": "stderr",
     "output_type": "stream",
     "text": [
      "Patients processed:   7%|▋         | 68/964 [01:34<20:38,  1.38s/it]C:\\Users\\MegaMert\\Documents\\GitHub\\precision-medicine-toolbox\\pmtool\\ToolBox.py:144: UserWarning: region : sub-101_masksub-101 lesion71 skipped\n",
      "  warn('region : %s skipped'%pat)\n",
      "Patients processed:   7%|▋         | 70/964 [01:37<20:26,  1.37s/it]C:\\Users\\MegaMert\\Documents\\GitHub\\precision-medicine-toolbox\\pmtool\\ToolBox.py:144: UserWarning: region : sub-101_masksub-101 lesion73 skipped\n",
      "  warn('region : %s skipped'%pat)\n",
      "Patients processed:   8%|▊         | 76/964 [01:45<20:20,  1.37s/it]C:\\Users\\MegaMert\\Documents\\GitHub\\precision-medicine-toolbox\\pmtool\\ToolBox.py:144: UserWarning: region : sub-101_masksub-101 lesion79 skipped\n",
      "  warn('region : %s skipped'%pat)\n",
      "Patients processed:   9%|▊         | 83/964 [01:55<20:20,  1.39s/it]C:\\Users\\MegaMert\\Documents\\GitHub\\precision-medicine-toolbox\\pmtool\\ToolBox.py:144: UserWarning: region : sub-101_masksub-101 lesion85 skipped\n",
      "  warn('region : %s skipped'%pat)\n",
      "Patients processed:  10%|▉         | 92/964 [02:07<20:05,  1.38s/it]C:\\Users\\MegaMert\\Documents\\GitHub\\precision-medicine-toolbox\\pmtool\\ToolBox.py:144: UserWarning: region : sub-101_masksub-101 lesion93 skipped\n",
      "  warn('region : %s skipped'%pat)\n",
      "Patients processed:  10%|▉         | 93/964 [02:09<20:00,  1.38s/it]C:\\Users\\MegaMert\\Documents\\GitHub\\precision-medicine-toolbox\\pmtool\\ToolBox.py:144: UserWarning: region : sub-101_masksub-101 lesion94 skipped\n",
      "  warn('region : %s skipped'%pat)\n",
      "Patients processed:  10%|█         | 98/964 [02:16<20:12,  1.40s/it]Encountered 1 eigenvalues < 0 and > -1e-10, rounding to 0\n",
      "Patients processed:  10%|█         | 101/964 [02:20<20:25,  1.42s/it]C:\\Users\\MegaMert\\Documents\\GitHub\\precision-medicine-toolbox\\pmtool\\ToolBox.py:144: UserWarning: region : sub-102_masksub-102 lesion103 skipped\n",
      "  warn('region : %s skipped'%pat)\n",
      "Patients processed:  11%|█         | 102/964 [02:21<20:27,  1.42s/it]C:\\Users\\MegaMert\\Documents\\GitHub\\precision-medicine-toolbox\\pmtool\\ToolBox.py:144: UserWarning: region : sub-102_masksub-102 lesion104 skipped\n",
      "  warn('region : %s skipped'%pat)\n",
      "Patients processed:  11%|█         | 103/964 [02:23<20:22,  1.42s/it]C:\\Users\\MegaMert\\Documents\\GitHub\\precision-medicine-toolbox\\pmtool\\ToolBox.py:144: UserWarning: region : sub-102_masksub-102 lesion105 skipped\n",
      "  warn('region : %s skipped'%pat)\n",
      "Patients processed:  11%|█         | 107/964 [02:28<20:20,  1.42s/it]C:\\Users\\MegaMert\\Documents\\GitHub\\precision-medicine-toolbox\\pmtool\\ToolBox.py:144: UserWarning: region : sub-102_masksub-102 lesion109 skipped\n",
      "  warn('region : %s skipped'%pat)\n",
      "Patients processed:  12%|█▏        | 113/964 [02:37<20:02,  1.41s/it]Encountered 1 eigenvalues < 0 and > -1e-10, rounding to 0\n",
      "Patients processed:  12%|█▏        | 114/964 [02:38<20:04,  1.42s/it]C:\\Users\\MegaMert\\Documents\\GitHub\\precision-medicine-toolbox\\pmtool\\ToolBox.py:144: UserWarning: region : sub-102_masksub-102 lesion115 skipped\n",
      "  warn('region : %s skipped'%pat)\n",
      "Patients processed:  12%|█▏        | 115/964 [02:40<19:59,  1.41s/it]C:\\Users\\MegaMert\\Documents\\GitHub\\precision-medicine-toolbox\\pmtool\\ToolBox.py:144: UserWarning: region : sub-102_masksub-102 lesion116 skipped\n",
      "  warn('region : %s skipped'%pat)\n",
      "Patients processed:  12%|█▏        | 118/964 [02:44<20:01,  1.42s/it]C:\\Users\\MegaMert\\Documents\\GitHub\\precision-medicine-toolbox\\pmtool\\ToolBox.py:144: UserWarning: region : sub-102_masksub-102 lesion119 skipped\n",
      "  warn('region : %s skipped'%pat)\n",
      "Patients processed:  12%|█▏        | 120/964 [02:47<19:41,  1.40s/it]C:\\Users\\MegaMert\\Documents\\GitHub\\precision-medicine-toolbox\\pmtool\\ToolBox.py:144: UserWarning: region : sub-102_masksub-102 lesion120 skipped\n",
      "  warn('region : %s skipped'%pat)\n",
      "Patients processed:  13%|█▎        | 121/964 [02:48<19:44,  1.40s/it]C:\\Users\\MegaMert\\Documents\\GitHub\\precision-medicine-toolbox\\pmtool\\ToolBox.py:144: UserWarning: region : sub-102_masksub-102 lesion121 skipped\n",
      "  warn('region : %s skipped'%pat)\n",
      "Patients processed:  13%|█▎        | 122/964 [02:50<19:54,  1.42s/it]C:\\Users\\MegaMert\\Documents\\GitHub\\precision-medicine-toolbox\\pmtool\\ToolBox.py:144: UserWarning: region : sub-102_masksub-102 lesion122 skipped\n",
      "  warn('region : %s skipped'%pat)\n",
      "Patients processed:  13%|█▎        | 123/964 [02:51<19:49,  1.41s/it]C:\\Users\\MegaMert\\Documents\\GitHub\\precision-medicine-toolbox\\pmtool\\ToolBox.py:144: UserWarning: region : sub-102_masksub-102 lesion123 skipped\n",
      "  warn('region : %s skipped'%pat)\n",
      "Patients processed:  13%|█▎        | 124/964 [02:52<19:54,  1.42s/it]C:\\Users\\MegaMert\\Documents\\GitHub\\precision-medicine-toolbox\\pmtool\\ToolBox.py:144: UserWarning: region : sub-102_masksub-102 lesion124 skipped\n",
      "  warn('region : %s skipped'%pat)\n",
      "Patients processed:  13%|█▎        | 125/964 [02:54<19:58,  1.43s/it]C:\\Users\\MegaMert\\Documents\\GitHub\\precision-medicine-toolbox\\pmtool\\ToolBox.py:144: UserWarning: region : sub-102_masksub-102 lesion125 skipped\n",
      "  warn('region : %s skipped'%pat)\n",
      "Patients processed:  13%|█▎        | 126/964 [02:55<19:46,  1.42s/it]C:\\Users\\MegaMert\\Documents\\GitHub\\precision-medicine-toolbox\\pmtool\\ToolBox.py:144: UserWarning: region : sub-102_masksub-102 lesion126 skipped\n",
      "  warn('region : %s skipped'%pat)\n",
      "Patients processed:  13%|█▎        | 128/964 [02:58<19:45,  1.42s/it]Encountered 1 eigenvalues < 0 and > -1e-10, rounding to 0\n",
      "Patients processed:  14%|█▎        | 131/964 [03:02<19:49,  1.43s/it]C:\\Users\\MegaMert\\Documents\\GitHub\\precision-medicine-toolbox\\pmtool\\ToolBox.py:144: UserWarning: region : sub-102_masksub-102 lesion130 skipped\n",
      "  warn('region : %s skipped'%pat)\n",
      "Patients processed:  14%|█▍        | 134/964 [03:07<19:41,  1.42s/it]C:\\Users\\MegaMert\\Documents\\GitHub\\precision-medicine-toolbox\\pmtool\\ToolBox.py:144: UserWarning: region : sub-102_masksub-102 lesion133 skipped\n",
      "  warn('region : %s skipped'%pat)\n",
      "Patients processed:  14%|█▍        | 137/964 [03:11<19:26,  1.41s/it]C:\\Users\\MegaMert\\Documents\\GitHub\\precision-medicine-toolbox\\pmtool\\ToolBox.py:144: UserWarning: region : sub-102_masksub-102 lesion136 skipped\n",
      "  warn('region : %s skipped'%pat)\n",
      "Patients processed:  15%|█▍        | 141/964 [03:17<19:32,  1.42s/it]C:\\Users\\MegaMert\\Documents\\GitHub\\precision-medicine-toolbox\\pmtool\\ToolBox.py:144: UserWarning: region : sub-102_masksub-102 lesion14 skipped\n",
      "  warn('region : %s skipped'%pat)\n",
      "Patients processed:  15%|█▌        | 147/964 [03:25<19:39,  1.44s/it]C:\\Users\\MegaMert\\Documents\\GitHub\\precision-medicine-toolbox\\pmtool\\ToolBox.py:144: UserWarning: region : sub-102_masksub-102 lesion145 skipped\n",
      "  warn('region : %s skipped'%pat)\n",
      "Patients processed:  15%|█▌        | 148/964 [03:27<19:38,  1.44s/it]C:\\Users\\MegaMert\\Documents\\GitHub\\precision-medicine-toolbox\\pmtool\\ToolBox.py:144: UserWarning: region : sub-102_masksub-102 lesion146 skipped\n",
      "  warn('region : %s skipped'%pat)\n",
      "Patients processed:  15%|█▌        | 149/964 [03:28<19:25,  1.43s/it]C:\\Users\\MegaMert\\Documents\\GitHub\\precision-medicine-toolbox\\pmtool\\ToolBox.py:144: UserWarning: region : sub-102_masksub-102 lesion147 skipped\n",
      "  warn('region : %s skipped'%pat)\n",
      "Patients processed:  16%|█▌        | 153/964 [03:34<19:11,  1.42s/it]C:\\Users\\MegaMert\\Documents\\GitHub\\precision-medicine-toolbox\\pmtool\\ToolBox.py:144: UserWarning: region : sub-102_masksub-102 lesion150 skipped\n",
      "  warn('region : %s skipped'%pat)\n",
      "Patients processed:  16%|█▌        | 154/964 [03:35<19:09,  1.42s/it]C:\\Users\\MegaMert\\Documents\\GitHub\\precision-medicine-toolbox\\pmtool\\ToolBox.py:144: UserWarning: region : sub-102_masksub-102 lesion151 skipped\n",
      "  warn('region : %s skipped'%pat)\n",
      "Patients processed:  16%|█▌        | 155/964 [03:36<18:55,  1.40s/it]C:\\Users\\MegaMert\\Documents\\GitHub\\precision-medicine-toolbox\\pmtool\\ToolBox.py:144: UserWarning: region : sub-102_masksub-102 lesion152 skipped\n",
      "  warn('region : %s skipped'%pat)\n",
      "Patients processed:  16%|█▋        | 159/964 [03:42<19:31,  1.46s/it]Encountered 1 eigenvalues < 0 and > -1e-10, rounding to 0\n",
      "Patients processed:  17%|█▋        | 165/964 [03:51<19:01,  1.43s/it]C:\\Users\\MegaMert\\Documents\\GitHub\\precision-medicine-toolbox\\pmtool\\ToolBox.py:144: UserWarning: region : sub-102_masksub-102 lesion161 skipped\n",
      "  warn('region : %s skipped'%pat)\n",
      "Patients processed:  17%|█▋        | 167/964 [03:54<18:49,  1.42s/it]C:\\Users\\MegaMert\\Documents\\GitHub\\precision-medicine-toolbox\\pmtool\\ToolBox.py:144: UserWarning: region : sub-102_masksub-102 lesion163 skipped\n",
      "  warn('region : %s skipped'%pat)\n",
      "Patients processed:  18%|█▊        | 169/964 [03:56<18:46,  1.42s/it]C:\\Users\\MegaMert\\Documents\\GitHub\\precision-medicine-toolbox\\pmtool\\ToolBox.py:144: UserWarning: region : sub-102_masksub-102 lesion165 skipped\n",
      "  warn('region : %s skipped'%pat)\n",
      "Patients processed:  18%|█▊        | 177/964 [04:08<18:44,  1.43s/it]C:\\Users\\MegaMert\\Documents\\GitHub\\precision-medicine-toolbox\\pmtool\\ToolBox.py:144: UserWarning: region : sub-102_masksub-102 lesion172 skipped\n",
      "  warn('region : %s skipped'%pat)\n",
      "Patients processed:  18%|█▊        | 178/964 [04:09<18:29,  1.41s/it]C:\\Users\\MegaMert\\Documents\\GitHub\\precision-medicine-toolbox\\pmtool\\ToolBox.py:144: UserWarning: region : sub-102_masksub-102 lesion173 skipped\n",
      "  warn('region : %s skipped'%pat)\n",
      "Patients processed:  19%|█▊        | 179/964 [04:11<18:22,  1.40s/it]C:\\Users\\MegaMert\\Documents\\GitHub\\precision-medicine-toolbox\\pmtool\\ToolBox.py:144: UserWarning: region : sub-102_masksub-102 lesion174 skipped\n",
      "  warn('region : %s skipped'%pat)\n",
      "Patients processed:  19%|█▉        | 185/964 [04:19<18:24,  1.42s/it]C:\\Users\\MegaMert\\Documents\\GitHub\\precision-medicine-toolbox\\pmtool\\ToolBox.py:144: UserWarning: region : sub-102_masksub-102 lesion18 skipped\n",
      "  warn('region : %s skipped'%pat)\n",
      "Patients processed:  19%|█▉        | 186/964 [04:21<18:24,  1.42s/it]C:\\Users\\MegaMert\\Documents\\GitHub\\precision-medicine-toolbox\\pmtool\\ToolBox.py:144: UserWarning: region : sub-102_masksub-102 lesion180 skipped\n",
      "  warn('region : %s skipped'%pat)\n",
      "Patients processed:  20%|█▉        | 188/964 [04:23<18:26,  1.43s/it]C:\\Users\\MegaMert\\Documents\\GitHub\\precision-medicine-toolbox\\pmtool\\ToolBox.py:144: UserWarning: region : sub-102_masksub-102 lesion182 skipped\n",
      "  warn('region : %s skipped'%pat)\n",
      "Patients processed:  20%|█▉        | 189/964 [04:25<18:19,  1.42s/it]C:\\Users\\MegaMert\\Documents\\GitHub\\precision-medicine-toolbox\\pmtool\\ToolBox.py:144: UserWarning: region : sub-102_masksub-102 lesion183 skipped\n",
      "  warn('region : %s skipped'%pat)\n",
      "Patients processed:  20%|█▉        | 190/964 [04:26<18:12,  1.41s/it]C:\\Users\\MegaMert\\Documents\\GitHub\\precision-medicine-toolbox\\pmtool\\ToolBox.py:144: UserWarning: region : sub-102_masksub-102 lesion184 skipped\n",
      "  warn('region : %s skipped'%pat)\n",
      "Patients processed:  20%|██        | 197/964 [04:36<18:25,  1.44s/it]C:\\Users\\MegaMert\\Documents\\GitHub\\precision-medicine-toolbox\\pmtool\\ToolBox.py:144: UserWarning: region : sub-102_masksub-102 lesion190 skipped\n",
      "  warn('region : %s skipped'%pat)\n",
      "Patients processed:  21%|██        | 199/964 [04:39<18:25,  1.45s/it]C:\\Users\\MegaMert\\Documents\\GitHub\\precision-medicine-toolbox\\pmtool\\ToolBox.py:144: UserWarning: region : sub-102_masksub-102 lesion192 skipped\n",
      "  warn('region : %s skipped'%pat)\n",
      "Patients processed:  21%|██        | 201/964 [04:42<18:16,  1.44s/it]C:\\Users\\MegaMert\\Documents\\GitHub\\precision-medicine-toolbox\\pmtool\\ToolBox.py:144: UserWarning: region : sub-102_masksub-102 lesion194 skipped\n",
      "  warn('region : %s skipped'%pat)\n",
      "Patients processed:  21%|██        | 202/964 [04:44<18:11,  1.43s/it]C:\\Users\\MegaMert\\Documents\\GitHub\\precision-medicine-toolbox\\pmtool\\ToolBox.py:144: UserWarning: region : sub-102_masksub-102 lesion195 skipped\n",
      "  warn('region : %s skipped'%pat)\n",
      "Patients processed:  21%|██▏       | 206/964 [04:49<18:25,  1.46s/it]C:\\Users\\MegaMert\\Documents\\GitHub\\precision-medicine-toolbox\\pmtool\\ToolBox.py:144: UserWarning: region : sub-102_masksub-102 lesion199 skipped\n",
      "  warn('region : %s skipped'%pat)\n",
      "Patients processed:  22%|██▏       | 211/964 [04:56<17:38,  1.41s/it]C:\\Users\\MegaMert\\Documents\\GitHub\\precision-medicine-toolbox\\pmtool\\ToolBox.py:144: UserWarning: region : sub-102_masksub-102 lesion202 skipped\n",
      "  warn('region : %s skipped'%pat)\n",
      "Patients processed:  22%|██▏       | 212/964 [04:58<18:07,  1.45s/it]C:\\Users\\MegaMert\\Documents\\GitHub\\precision-medicine-toolbox\\pmtool\\ToolBox.py:144: UserWarning: region : sub-102_masksub-102 lesion203 skipped\n",
      "  warn('region : %s skipped'%pat)\n",
      "Patients processed:  22%|██▏       | 216/964 [05:04<18:06,  1.45s/it]C:\\Users\\MegaMert\\Documents\\GitHub\\precision-medicine-toolbox\\pmtool\\ToolBox.py:144: UserWarning: region : sub-102_masksub-102 lesion207 skipped\n",
      "  warn('region : %s skipped'%pat)\n",
      "Patients processed:  23%|██▎       | 218/964 [05:07<17:46,  1.43s/it]C:\\Users\\MegaMert\\Documents\\GitHub\\precision-medicine-toolbox\\pmtool\\ToolBox.py:144: UserWarning: region : sub-102_masksub-102 lesion209 skipped\n",
      "  warn('region : %s skipped'%pat)\n",
      "Patients processed:  23%|██▎       | 220/964 [05:09<17:32,  1.41s/it]C:\\Users\\MegaMert\\Documents\\GitHub\\precision-medicine-toolbox\\pmtool\\ToolBox.py:144: UserWarning: region : sub-102_masksub-102 lesion22 skipped\n",
      "  warn('region : %s skipped'%pat)\n",
      "Patients processed:  23%|██▎       | 221/964 [05:11<17:19,  1.40s/it]C:\\Users\\MegaMert\\Documents\\GitHub\\precision-medicine-toolbox\\pmtool\\ToolBox.py:144: UserWarning: region : sub-102_masksub-102 lesion23 skipped\n",
      "  warn('region : %s skipped'%pat)\n",
      "Patients processed:  23%|██▎       | 223/964 [05:13<17:05,  1.38s/it]C:\\Users\\MegaMert\\Documents\\GitHub\\precision-medicine-toolbox\\pmtool\\ToolBox.py:144: UserWarning: region : sub-102_masksub-102 lesion25 skipped\n",
      "  warn('region : %s skipped'%pat)\n",
      "Patients processed:  24%|██▎       | 228/964 [05:21<17:18,  1.41s/it]C:\\Users\\MegaMert\\Documents\\GitHub\\precision-medicine-toolbox\\pmtool\\ToolBox.py:144: UserWarning: region : sub-102_masksub-102 lesion3 skipped\n",
      "  warn('region : %s skipped'%pat)\n",
      "Patients processed:  24%|██▍       | 229/964 [05:22<17:05,  1.40s/it]C:\\Users\\MegaMert\\Documents\\GitHub\\precision-medicine-toolbox\\pmtool\\ToolBox.py:144: UserWarning: region : sub-102_masksub-102 lesion30 skipped\n",
      "  warn('region : %s skipped'%pat)\n",
      "Patients processed:  24%|██▍       | 230/964 [05:23<17:06,  1.40s/it]C:\\Users\\MegaMert\\Documents\\GitHub\\precision-medicine-toolbox\\pmtool\\ToolBox.py:144: UserWarning: region : sub-102_masksub-102 lesion31 skipped\n",
      "  warn('region : %s skipped'%pat)\n",
      "Patients processed:  24%|██▍       | 231/964 [05:25<16:54,  1.38s/it]C:\\Users\\MegaMert\\Documents\\GitHub\\precision-medicine-toolbox\\pmtool\\ToolBox.py:144: UserWarning: region : sub-102_masksub-102 lesion32 skipped\n",
      "  warn('region : %s skipped'%pat)\n",
      "Patients processed:  24%|██▍       | 234/964 [05:29<17:03,  1.40s/it]C:\\Users\\MegaMert\\Documents\\GitHub\\precision-medicine-toolbox\\pmtool\\ToolBox.py:144: UserWarning: region : sub-102_masksub-102 lesion35 skipped\n",
      "  warn('region : %s skipped'%pat)\n",
      "Patients processed:  24%|██▍       | 235/964 [05:30<16:52,  1.39s/it]C:\\Users\\MegaMert\\Documents\\GitHub\\precision-medicine-toolbox\\pmtool\\ToolBox.py:144: UserWarning: region : sub-102_masksub-102 lesion36 skipped\n",
      "  warn('region : %s skipped'%pat)\n",
      "Patients processed:  24%|██▍       | 236/964 [05:32<16:49,  1.39s/it]C:\\Users\\MegaMert\\Documents\\GitHub\\precision-medicine-toolbox\\pmtool\\ToolBox.py:144: UserWarning: region : sub-102_masksub-102 lesion37 skipped\n",
      "  warn('region : %s skipped'%pat)\n",
      "Patients processed:  25%|██▍       | 237/964 [05:33<16:48,  1.39s/it]C:\\Users\\MegaMert\\Documents\\GitHub\\precision-medicine-toolbox\\pmtool\\ToolBox.py:144: UserWarning: region : sub-102_masksub-102 lesion38 skipped\n",
      "  warn('region : %s skipped'%pat)\n",
      "Patients processed:  25%|██▍       | 238/964 [05:34<16:44,  1.38s/it]C:\\Users\\MegaMert\\Documents\\GitHub\\precision-medicine-toolbox\\pmtool\\ToolBox.py:144: UserWarning: region : sub-102_masksub-102 lesion39 skipped\n",
      "  warn('region : %s skipped'%pat)\n",
      "Patients processed:  25%|██▍       | 239/964 [05:36<16:36,  1.37s/it]C:\\Users\\MegaMert\\Documents\\GitHub\\precision-medicine-toolbox\\pmtool\\ToolBox.py:144: UserWarning: region : sub-102_masksub-102 lesion4 skipped\n",
      "  warn('region : %s skipped'%pat)\n",
      "Patients processed:  25%|██▌       | 241/964 [05:39<16:47,  1.39s/it]C:\\Users\\MegaMert\\Documents\\GitHub\\precision-medicine-toolbox\\pmtool\\ToolBox.py:144: UserWarning: region : sub-102_masksub-102 lesion41 skipped\n",
      "  warn('region : %s skipped'%pat)\n"
     ]
    },
    {
     "name": "stderr",
     "output_type": "stream",
     "text": [
      "Patients processed:  25%|██▌       | 242/964 [05:40<16:43,  1.39s/it]C:\\Users\\MegaMert\\Documents\\GitHub\\precision-medicine-toolbox\\pmtool\\ToolBox.py:144: UserWarning: region : sub-102_masksub-102 lesion42 skipped\n",
      "  warn('region : %s skipped'%pat)\n",
      "Patients processed:  25%|██▌       | 243/964 [05:41<16:43,  1.39s/it]C:\\Users\\MegaMert\\Documents\\GitHub\\precision-medicine-toolbox\\pmtool\\ToolBox.py:144: UserWarning: region : sub-102_masksub-102 lesion43 skipped\n",
      "  warn('region : %s skipped'%pat)\n",
      "Patients processed:  25%|██▌       | 245/964 [05:44<16:41,  1.39s/it]Encountered 1 eigenvalues < 0 and > -1e-10, rounding to 0\n",
      "Patients processed:  26%|██▌       | 251/964 [05:53<16:32,  1.39s/it]C:\\Users\\MegaMert\\Documents\\GitHub\\precision-medicine-toolbox\\pmtool\\ToolBox.py:144: UserWarning: region : sub-102_masksub-102 lesion50 skipped\n",
      "  warn('region : %s skipped'%pat)\n",
      "Patients processed:  26%|██▋       | 254/964 [05:57<16:29,  1.39s/it]C:\\Users\\MegaMert\\Documents\\GitHub\\precision-medicine-toolbox\\pmtool\\ToolBox.py:144: UserWarning: region : sub-102_masksub-102 lesion53 skipped\n",
      "  warn('region : %s skipped'%pat)\n",
      "Patients processed:  26%|██▋       | 255/964 [05:58<16:28,  1.39s/it]C:\\Users\\MegaMert\\Documents\\GitHub\\precision-medicine-toolbox\\pmtool\\ToolBox.py:144: UserWarning: region : sub-102_masksub-102 lesion54 skipped\n",
      "  warn('region : %s skipped'%pat)\n",
      "Patients processed:  27%|██▋       | 256/964 [05:59<16:33,  1.40s/it]C:\\Users\\MegaMert\\Documents\\GitHub\\precision-medicine-toolbox\\pmtool\\ToolBox.py:144: UserWarning: region : sub-102_masksub-102 lesion55 skipped\n",
      "  warn('region : %s skipped'%pat)\n",
      "Patients processed:  27%|██▋       | 260/964 [06:05<16:44,  1.43s/it]C:\\Users\\MegaMert\\Documents\\GitHub\\precision-medicine-toolbox\\pmtool\\ToolBox.py:144: UserWarning: region : sub-102_masksub-102 lesion59 skipped\n",
      "  warn('region : %s skipped'%pat)\n",
      "Patients processed:  27%|██▋       | 262/964 [06:08<16:31,  1.41s/it]Encountered 1 eigenvalues < 0 and > -1e-10, rounding to 0\n",
      "Patients processed:  27%|██▋       | 264/964 [06:11<16:32,  1.42s/it]C:\\Users\\MegaMert\\Documents\\GitHub\\precision-medicine-toolbox\\pmtool\\ToolBox.py:144: UserWarning: region : sub-102_masksub-102 lesion62 skipped\n",
      "  warn('region : %s skipped'%pat)\n",
      "Patients processed:  28%|██▊       | 267/964 [06:15<16:29,  1.42s/it]C:\\Users\\MegaMert\\Documents\\GitHub\\precision-medicine-toolbox\\pmtool\\ToolBox.py:144: UserWarning: region : sub-102_masksub-102 lesion65 skipped\n",
      "  warn('region : %s skipped'%pat)\n",
      "Patients processed:  29%|██▊       | 277/964 [06:30<16:45,  1.46s/it]C:\\Users\\MegaMert\\Documents\\GitHub\\precision-medicine-toolbox\\pmtool\\ToolBox.py:144: UserWarning: region : sub-102_masksub-102 lesion74 skipped\n",
      "  warn('region : %s skipped'%pat)\n",
      "Patients processed:  29%|██▉       | 278/964 [06:31<16:38,  1.46s/it]Encountered 1 eigenvalues < 0 and > -1e-10, rounding to 0\n",
      "Patients processed:  29%|██▉       | 279/964 [06:32<16:40,  1.46s/it]C:\\Users\\MegaMert\\Documents\\GitHub\\precision-medicine-toolbox\\pmtool\\ToolBox.py:144: UserWarning: region : sub-102_masksub-102 lesion76 skipped\n",
      "  warn('region : %s skipped'%pat)\n",
      "Patients processed:  29%|██▉       | 282/964 [06:37<16:44,  1.47s/it]C:\\Users\\MegaMert\\Documents\\GitHub\\precision-medicine-toolbox\\pmtool\\ToolBox.py:144: UserWarning: region : sub-102_masksub-102 lesion79 skipped\n",
      "  warn('region : %s skipped'%pat)\n",
      "Patients processed:  30%|███       | 290/964 [06:48<16:22,  1.46s/it]C:\\Users\\MegaMert\\Documents\\GitHub\\precision-medicine-toolbox\\pmtool\\ToolBox.py:144: UserWarning: region : sub-102_masksub-102 lesion86 skipped\n",
      "  warn('region : %s skipped'%pat)\n",
      "Patients processed:  30%|███       | 291/964 [06:50<16:20,  1.46s/it]C:\\Users\\MegaMert\\Documents\\GitHub\\precision-medicine-toolbox\\pmtool\\ToolBox.py:144: UserWarning: region : sub-102_masksub-102 lesion87 skipped\n",
      "  warn('region : %s skipped'%pat)\n",
      "Patients processed:  30%|███       | 292/964 [06:51<16:10,  1.44s/it]C:\\Users\\MegaMert\\Documents\\GitHub\\precision-medicine-toolbox\\pmtool\\ToolBox.py:144: UserWarning: region : sub-102_masksub-102 lesion88 skipped\n",
      "  warn('region : %s skipped'%pat)\n",
      "Patients processed:  31%|███       | 297/964 [06:58<15:52,  1.43s/it]C:\\Users\\MegaMert\\Documents\\GitHub\\precision-medicine-toolbox\\pmtool\\ToolBox.py:144: UserWarning: region : sub-102_masksub-102 lesion92 skipped\n",
      "  warn('region : %s skipped'%pat)\n",
      "Patients processed:  31%|███       | 298/964 [07:00<15:50,  1.43s/it]C:\\Users\\MegaMert\\Documents\\GitHub\\precision-medicine-toolbox\\pmtool\\ToolBox.py:144: UserWarning: region : sub-102_masksub-102 lesion93 skipped\n",
      "  warn('region : %s skipped'%pat)\n",
      "Patients processed:  31%|███       | 299/964 [07:01<15:45,  1.42s/it]C:\\Users\\MegaMert\\Documents\\GitHub\\precision-medicine-toolbox\\pmtool\\ToolBox.py:144: UserWarning: region : sub-102_masksub-102 lesion94 skipped\n",
      "  warn('region : %s skipped'%pat)\n",
      "Patients processed:  31%|███       | 300/964 [07:03<15:49,  1.43s/it]C:\\Users\\MegaMert\\Documents\\GitHub\\precision-medicine-toolbox\\pmtool\\ToolBox.py:144: UserWarning: region : sub-102_masksub-102 lesion95 skipped\n",
      "  warn('region : %s skipped'%pat)\n",
      "Patients processed:  31%|███▏      | 302/964 [07:06<15:45,  1.43s/it]C:\\Users\\MegaMert\\Documents\\GitHub\\precision-medicine-toolbox\\pmtool\\ToolBox.py:144: UserWarning: region : sub-102_masksub-102 lesion97 skipped\n",
      "  warn('region : %s skipped'%pat)\n",
      "Patients processed:  32%|███▏      | 304/964 [07:08<15:40,  1.42s/it]C:\\Users\\MegaMert\\Documents\\GitHub\\precision-medicine-toolbox\\pmtool\\ToolBox.py:144: UserWarning: region : sub-102_masksub-102 lesion99 skipped\n",
      "  warn('region : %s skipped'%pat)\n",
      "Patients processed:  32%|███▏      | 312/964 [07:20<15:35,  1.44s/it]C:\\Users\\MegaMert\\Documents\\GitHub\\precision-medicine-toolbox\\pmtool\\ToolBox.py:144: UserWarning: region : sub-103_masksub-103 lesion16 skipped\n",
      "  warn('region : %s skipped'%pat)\n",
      "Patients processed:  33%|███▎      | 314/964 [07:23<15:29,  1.43s/it]C:\\Users\\MegaMert\\Documents\\GitHub\\precision-medicine-toolbox\\pmtool\\ToolBox.py:144: UserWarning: region : sub-103_masksub-103 lesion18 skipped\n",
      "  warn('region : %s skipped'%pat)\n",
      "Patients processed:  33%|███▎      | 322/964 [07:34<15:36,  1.46s/it]C:\\Users\\MegaMert\\Documents\\GitHub\\precision-medicine-toolbox\\pmtool\\ToolBox.py:144: UserWarning: region : sub-103_masksub-103 lesion25 skipped\n",
      "  warn('region : %s skipped'%pat)\n",
      "Patients processed:  34%|███▎      | 323/964 [07:36<15:30,  1.45s/it]C:\\Users\\MegaMert\\Documents\\GitHub\\precision-medicine-toolbox\\pmtool\\ToolBox.py:144: UserWarning: region : sub-103_masksub-103 lesion26 skipped\n",
      "  warn('region : %s skipped'%pat)\n",
      "Patients processed:  34%|███▎      | 325/964 [07:39<15:26,  1.45s/it]C:\\Users\\MegaMert\\Documents\\GitHub\\precision-medicine-toolbox\\pmtool\\ToolBox.py:144: UserWarning: region : sub-103_masksub-103 lesion28 skipped\n",
      "  warn('region : %s skipped'%pat)\n",
      "Patients processed:  34%|███▍      | 326/964 [07:40<15:21,  1.44s/it]C:\\Users\\MegaMert\\Documents\\GitHub\\precision-medicine-toolbox\\pmtool\\ToolBox.py:144: UserWarning: region : sub-103_masksub-103 lesion29 skipped\n",
      "  warn('region : %s skipped'%pat)\n",
      "Patients processed:  36%|███▌      | 343/964 [08:05<15:14,  1.47s/it]C:\\Users\\MegaMert\\Documents\\GitHub\\precision-medicine-toolbox\\pmtool\\ToolBox.py:144: UserWarning: region : sub-103_masksub-103 lesion44 skipped\n",
      "  warn('region : %s skipped'%pat)\n",
      "Patients processed:  36%|███▌      | 345/964 [08:08<14:55,  1.45s/it]C:\\Users\\MegaMert\\Documents\\GitHub\\precision-medicine-toolbox\\pmtool\\ToolBox.py:144: UserWarning: region : sub-103_masksub-103 lesion46 skipped\n",
      "  warn('region : %s skipped'%pat)\n",
      "Patients processed:  36%|███▌      | 346/964 [08:09<14:46,  1.43s/it]C:\\Users\\MegaMert\\Documents\\GitHub\\precision-medicine-toolbox\\pmtool\\ToolBox.py:144: UserWarning: region : sub-103_masksub-103 lesion5 skipped\n",
      "  warn('region : %s skipped'%pat)\n",
      "Patients processed:  37%|███▋      | 354/964 [08:21<15:07,  1.49s/it]C:\\Users\\MegaMert\\Documents\\GitHub\\precision-medicine-toolbox\\pmtool\\ToolBox.py:144: UserWarning: region : sub-104_masksub-104 lesion12 skipped\n",
      "  warn('region : %s skipped'%pat)\n",
      "Patients processed:  37%|███▋      | 355/964 [08:23<14:55,  1.47s/it]C:\\Users\\MegaMert\\Documents\\GitHub\\precision-medicine-toolbox\\pmtool\\ToolBox.py:144: UserWarning: region : sub-104_masksub-104 lesion13 skipped\n",
      "  warn('region : %s skipped'%pat)\n"
     ]
    },
    {
     "name": "stderr",
     "output_type": "stream",
     "text": [
      "Patients processed:  37%|███▋      | 357/964 [08:25<14:34,  1.44s/it]C:\\Users\\MegaMert\\Documents\\GitHub\\precision-medicine-toolbox\\pmtool\\ToolBox.py:144: UserWarning: region : sub-104_masksub-104 lesion15 skipped\n",
      "  warn('region : %s skipped'%pat)\n",
      "Patients processed:  37%|███▋      | 359/964 [08:28<14:36,  1.45s/it]C:\\Users\\MegaMert\\Documents\\GitHub\\precision-medicine-toolbox\\pmtool\\ToolBox.py:144: UserWarning: region : sub-104_masksub-104 lesion3 skipped\n",
      "  warn('region : %s skipped'%pat)\n",
      "Patients processed:  38%|███▊      | 363/964 [08:34<14:40,  1.47s/it]C:\\Users\\MegaMert\\Documents\\GitHub\\precision-medicine-toolbox\\pmtool\\ToolBox.py:144: UserWarning: region : sub-104_masksub-104 lesion7 skipped\n",
      "  warn('region : %s skipped'%pat)\n",
      "Patients processed:  38%|███▊      | 365/964 [08:37<14:25,  1.44s/it]C:\\Users\\MegaMert\\Documents\\GitHub\\precision-medicine-toolbox\\pmtool\\ToolBox.py:144: UserWarning: region : sub-104_masksub-104 lesion9 skipped\n",
      "  warn('region : %s skipped'%pat)\n",
      "Patients processed:  38%|███▊      | 366/964 [08:38<14:21,  1.44s/it]C:\\Users\\MegaMert\\Documents\\GitHub\\precision-medicine-toolbox\\pmtool\\ToolBox.py:144: UserWarning: region : sub-105_masksub-105 lesion1 skipped\n",
      "  warn('region : %s skipped'%pat)\n",
      "Patients processed:  38%|███▊      | 367/964 [08:40<14:30,  1.46s/it]C:\\Users\\MegaMert\\Documents\\GitHub\\precision-medicine-toolbox\\pmtool\\ToolBox.py:144: UserWarning: region : sub-105_masksub-105 lesion10 skipped\n",
      "  warn('region : %s skipped'%pat)\n",
      "Patients processed:  38%|███▊      | 369/964 [08:43<14:16,  1.44s/it]C:\\Users\\MegaMert\\Documents\\GitHub\\precision-medicine-toolbox\\pmtool\\ToolBox.py:144: UserWarning: region : sub-105_masksub-105 lesion101 skipped\n",
      "  warn('region : %s skipped'%pat)\n",
      "Patients processed:  38%|███▊      | 370/964 [08:44<14:12,  1.44s/it]C:\\Users\\MegaMert\\Documents\\GitHub\\precision-medicine-toolbox\\pmtool\\ToolBox.py:144: UserWarning: region : sub-105_masksub-105 lesion102 skipped\n",
      "  warn('region : %s skipped'%pat)\n",
      "Patients processed:  38%|███▊      | 371/964 [08:46<14:02,  1.42s/it]C:\\Users\\MegaMert\\Documents\\GitHub\\precision-medicine-toolbox\\pmtool\\ToolBox.py:144: UserWarning: region : sub-105_masksub-105 lesion103 skipped\n",
      "  warn('region : %s skipped'%pat)\n",
      "Patients processed:  39%|███▉      | 374/964 [08:50<13:55,  1.42s/it]C:\\Users\\MegaMert\\Documents\\GitHub\\precision-medicine-toolbox\\pmtool\\ToolBox.py:144: UserWarning: region : sub-105_masksub-105 lesion106 skipped\n",
      "  warn('region : %s skipped'%pat)\n",
      "Patients processed:  39%|███▉      | 375/964 [08:51<13:47,  1.41s/it]C:\\Users\\MegaMert\\Documents\\GitHub\\precision-medicine-toolbox\\pmtool\\ToolBox.py:144: UserWarning: region : sub-105_masksub-105 lesion107 skipped\n",
      "  warn('region : %s skipped'%pat)\n",
      "Patients processed:  39%|███▉      | 377/964 [08:54<13:44,  1.40s/it]C:\\Users\\MegaMert\\Documents\\GitHub\\precision-medicine-toolbox\\pmtool\\ToolBox.py:144: UserWarning: region : sub-105_masksub-105 lesion12 skipped\n",
      "  warn('region : %s skipped'%pat)\n",
      "Patients processed:  40%|███▉      | 385/964 [09:05<13:44,  1.42s/it]C:\\Users\\MegaMert\\Documents\\GitHub\\precision-medicine-toolbox\\pmtool\\ToolBox.py:144: UserWarning: region : sub-105_masksub-105 lesion2 skipped\n",
      "  warn('region : %s skipped'%pat)\n",
      "Patients processed:  40%|████      | 387/964 [09:08<13:38,  1.42s/it]C:\\Users\\MegaMert\\Documents\\GitHub\\precision-medicine-toolbox\\pmtool\\ToolBox.py:144: UserWarning: region : sub-105_masksub-105 lesion21 skipped\n",
      "  warn('region : %s skipped'%pat)\n",
      "Patients processed:  40%|████      | 390/964 [09:13<13:37,  1.42s/it]C:\\Users\\MegaMert\\Documents\\GitHub\\precision-medicine-toolbox\\pmtool\\ToolBox.py:144: UserWarning: region : sub-105_masksub-105 lesion24 skipped\n",
      "  warn('region : %s skipped'%pat)\n",
      "Patients processed:  41%|████      | 391/964 [09:14<13:28,  1.41s/it]C:\\Users\\MegaMert\\Documents\\GitHub\\precision-medicine-toolbox\\pmtool\\ToolBox.py:144: UserWarning: region : sub-105_masksub-105 lesion25 skipped\n",
      "  warn('region : %s skipped'%pat)\n",
      "Patients processed:  41%|████      | 392/964 [09:15<13:21,  1.40s/it]C:\\Users\\MegaMert\\Documents\\GitHub\\precision-medicine-toolbox\\pmtool\\ToolBox.py:144: UserWarning: region : sub-105_masksub-105 lesion26 skipped\n",
      "  warn('region : %s skipped'%pat)\n",
      "Patients processed:  41%|████      | 393/964 [09:17<13:20,  1.40s/it]C:\\Users\\MegaMert\\Documents\\GitHub\\precision-medicine-toolbox\\pmtool\\ToolBox.py:144: UserWarning: region : sub-105_masksub-105 lesion27 skipped\n",
      "  warn('region : %s skipped'%pat)\n",
      "Patients processed:  41%|████      | 395/964 [09:20<13:15,  1.40s/it]C:\\Users\\MegaMert\\Documents\\GitHub\\precision-medicine-toolbox\\pmtool\\ToolBox.py:144: UserWarning: region : sub-105_masksub-105 lesion29 skipped\n",
      "  warn('region : %s skipped'%pat)\n",
      "Patients processed:  41%|████▏     | 398/964 [09:24<13:15,  1.41s/it]C:\\Users\\MegaMert\\Documents\\GitHub\\precision-medicine-toolbox\\pmtool\\ToolBox.py:144: UserWarning: region : sub-105_masksub-105 lesion31 skipped\n",
      "  warn('region : %s skipped'%pat)\n",
      "Patients processed:  41%|████▏     | 399/964 [09:25<13:12,  1.40s/it]C:\\Users\\MegaMert\\Documents\\GitHub\\precision-medicine-toolbox\\pmtool\\ToolBox.py:144: UserWarning: region : sub-105_masksub-105 lesion32 skipped\n",
      "  warn('region : %s skipped'%pat)\n",
      "Patients processed:  42%|████▏     | 401/964 [09:28<13:26,  1.43s/it]C:\\Users\\MegaMert\\Documents\\GitHub\\precision-medicine-toolbox\\pmtool\\ToolBox.py:144: UserWarning: region : sub-105_masksub-105 lesion34 skipped\n",
      "  warn('region : %s skipped'%pat)\n",
      "Patients processed:  42%|████▏     | 402/964 [09:29<13:19,  1.42s/it]C:\\Users\\MegaMert\\Documents\\GitHub\\precision-medicine-toolbox\\pmtool\\ToolBox.py:144: UserWarning: region : sub-105_masksub-105 lesion35 skipped\n",
      "  warn('region : %s skipped'%pat)\n",
      "Patients processed:  42%|████▏     | 408/964 [09:38<13:19,  1.44s/it]C:\\Users\\MegaMert\\Documents\\GitHub\\precision-medicine-toolbox\\pmtool\\ToolBox.py:144: UserWarning: region : sub-105_masksub-105 lesion40 skipped\n",
      "  warn('region : %s skipped'%pat)\n",
      "Patients processed:  43%|████▎     | 412/964 [09:44<13:13,  1.44s/it]C:\\Users\\MegaMert\\Documents\\GitHub\\precision-medicine-toolbox\\pmtool\\ToolBox.py:144: UserWarning: region : sub-105_masksub-105 lesion44 skipped\n",
      "  warn('region : %s skipped'%pat)\n",
      "Patients processed:  43%|████▎     | 413/964 [09:45<13:06,  1.43s/it]C:\\Users\\MegaMert\\Documents\\GitHub\\precision-medicine-toolbox\\pmtool\\ToolBox.py:144: UserWarning: region : sub-105_masksub-105 lesion45 skipped\n",
      "  warn('region : %s skipped'%pat)\n",
      "Patients processed:  43%|████▎     | 416/964 [09:50<13:08,  1.44s/it]C:\\Users\\MegaMert\\Documents\\GitHub\\precision-medicine-toolbox\\pmtool\\ToolBox.py:144: UserWarning: region : sub-105_masksub-105 lesion48 skipped\n",
      "  warn('region : %s skipped'%pat)\n",
      "Patients processed:  43%|████▎     | 419/964 [09:54<13:08,  1.45s/it]C:\\Users\\MegaMert\\Documents\\GitHub\\precision-medicine-toolbox\\pmtool\\ToolBox.py:144: UserWarning: region : sub-105_masksub-105 lesion50 skipped\n",
      "  warn('region : %s skipped'%pat)\n",
      "Patients processed:  44%|████▎     | 421/964 [09:57<12:58,  1.43s/it]C:\\Users\\MegaMert\\Documents\\GitHub\\precision-medicine-toolbox\\pmtool\\ToolBox.py:144: UserWarning: region : sub-105_masksub-105 lesion52 skipped\n",
      "  warn('region : %s skipped'%pat)\n",
      "Patients processed:  44%|████▍     | 422/964 [09:58<13:04,  1.45s/it]C:\\Users\\MegaMert\\Documents\\GitHub\\precision-medicine-toolbox\\pmtool\\ToolBox.py:144: UserWarning: region : sub-105_masksub-105 lesion53 skipped\n",
      "  warn('region : %s skipped'%pat)\n",
      "Patients processed:  44%|████▍     | 428/964 [10:07<12:58,  1.45s/it]C:\\Users\\MegaMert\\Documents\\GitHub\\precision-medicine-toolbox\\pmtool\\ToolBox.py:144: UserWarning: region : sub-105_masksub-105 lesion59 skipped\n",
      "  warn('region : %s skipped'%pat)\n",
      "Patients processed:  45%|████▍     | 430/964 [10:10<12:57,  1.46s/it]C:\\Users\\MegaMert\\Documents\\GitHub\\precision-medicine-toolbox\\pmtool\\ToolBox.py:144: UserWarning: region : sub-105_masksub-105 lesion60 skipped\n",
      "  warn('region : %s skipped'%pat)\n",
      "Patients processed:  45%|████▌     | 434/964 [10:16<12:49,  1.45s/it]C:\\Users\\MegaMert\\Documents\\GitHub\\precision-medicine-toolbox\\pmtool\\ToolBox.py:144: UserWarning: region : sub-105_masksub-105 lesion64 skipped\n",
      "  warn('region : %s skipped'%pat)\n",
      "Patients processed:  45%|████▌     | 435/964 [10:17<12:43,  1.44s/it]C:\\Users\\MegaMert\\Documents\\GitHub\\precision-medicine-toolbox\\pmtool\\ToolBox.py:144: UserWarning: region : sub-105_masksub-105 lesion65 skipped\n",
      "  warn('region : %s skipped'%pat)\n",
      "Patients processed:  45%|████▌     | 436/964 [10:18<12:41,  1.44s/it]C:\\Users\\MegaMert\\Documents\\GitHub\\precision-medicine-toolbox\\pmtool\\ToolBox.py:144: UserWarning: region : sub-105_masksub-105 lesion66 skipped\n",
      "  warn('region : %s skipped'%pat)\n",
      "Patients processed:  45%|████▌     | 438/964 [10:21<12:54,  1.47s/it]C:\\Users\\MegaMert\\Documents\\GitHub\\precision-medicine-toolbox\\pmtool\\ToolBox.py:144: UserWarning: region : sub-105_masksub-105 lesion68 skipped\n",
      "  warn('region : %s skipped'%pat)\n",
      "Patients processed:  46%|████▌     | 442/964 [10:27<12:36,  1.45s/it]C:\\Users\\MegaMert\\Documents\\GitHub\\precision-medicine-toolbox\\pmtool\\ToolBox.py:144: UserWarning: region : sub-105_masksub-105 lesion71 skipped\n",
      "  warn('region : %s skipped'%pat)\n",
      "Patients processed:  46%|████▌     | 443/964 [10:29<12:36,  1.45s/it]C:\\Users\\MegaMert\\Documents\\GitHub\\precision-medicine-toolbox\\pmtool\\ToolBox.py:144: UserWarning: region : sub-105_masksub-105 lesion72 skipped\n",
      "  warn('region : %s skipped'%pat)\n",
      "Patients processed:  46%|████▌     | 444/964 [10:30<12:32,  1.45s/it]C:\\Users\\MegaMert\\Documents\\GitHub\\precision-medicine-toolbox\\pmtool\\ToolBox.py:144: UserWarning: region : sub-105_masksub-105 lesion73 skipped\n",
      "  warn('region : %s skipped'%pat)\n",
      "Patients processed:  46%|████▋     | 446/964 [10:33<12:26,  1.44s/it]C:\\Users\\MegaMert\\Documents\\GitHub\\precision-medicine-toolbox\\pmtool\\ToolBox.py:144: UserWarning: region : sub-105_masksub-105 lesion75 skipped\n",
      "  warn('region : %s skipped'%pat)\n",
      "Patients processed:  47%|████▋     | 450/964 [10:39<12:22,  1.45s/it]C:\\Users\\MegaMert\\Documents\\GitHub\\precision-medicine-toolbox\\pmtool\\ToolBox.py:144: UserWarning: region : sub-105_masksub-105 lesion79 skipped\n",
      "  warn('region : %s skipped'%pat)\n",
      "Patients processed:  47%|████▋     | 452/964 [10:42<12:19,  1.44s/it]C:\\Users\\MegaMert\\Documents\\GitHub\\precision-medicine-toolbox\\pmtool\\ToolBox.py:144: UserWarning: region : sub-105_masksub-105 lesion80 skipped\n",
      "  warn('region : %s skipped'%pat)\n",
      "Patients processed:  47%|████▋     | 453/964 [10:43<12:08,  1.43s/it]C:\\Users\\MegaMert\\Documents\\GitHub\\precision-medicine-toolbox\\pmtool\\ToolBox.py:144: UserWarning: region : sub-105_masksub-105 lesion81 skipped\n",
      "  warn('region : %s skipped'%pat)\n",
      "Patients processed:  47%|████▋     | 457/964 [10:49<12:31,  1.48s/it]C:\\Users\\MegaMert\\Documents\\GitHub\\precision-medicine-toolbox\\pmtool\\ToolBox.py:144: UserWarning: region : sub-105_masksub-105 lesion85 skipped\n",
      "  warn('region : %s skipped'%pat)\n",
      "Patients processed:  48%|████▊     | 458/964 [10:50<12:26,  1.47s/it]C:\\Users\\MegaMert\\Documents\\GitHub\\precision-medicine-toolbox\\pmtool\\ToolBox.py:144: UserWarning: region : sub-105_masksub-105 lesion86 skipped\n",
      "  warn('region : %s skipped'%pat)\n",
      "Patients processed:  48%|████▊     | 459/964 [10:52<12:11,  1.45s/it]C:\\Users\\MegaMert\\Documents\\GitHub\\precision-medicine-toolbox\\pmtool\\ToolBox.py:144: UserWarning: region : sub-105_masksub-105 lesion87 skipped\n",
      "  warn('region : %s skipped'%pat)\n",
      "Patients processed:  48%|████▊     | 460/964 [10:53<12:15,  1.46s/it]C:\\Users\\MegaMert\\Documents\\GitHub\\precision-medicine-toolbox\\pmtool\\ToolBox.py:144: UserWarning: region : sub-105_masksub-105 lesion88 skipped\n",
      "  warn('region : %s skipped'%pat)\n",
      "Patients processed:  49%|████▊     | 469/964 [11:06<11:58,  1.45s/it]C:\\Users\\MegaMert\\Documents\\GitHub\\precision-medicine-toolbox\\pmtool\\ToolBox.py:144: UserWarning: region : sub-105_masksub-105 lesion96 skipped\n",
      "  warn('region : %s skipped'%pat)\n",
      "Patients processed:  49%|████▉     | 475/964 [11:15<12:02,  1.48s/it]Encountered 1 eigenvalues < 0 and > -1e-10, rounding to 0\n",
      "Patients processed:  49%|████▉     | 477/964 [11:18<11:48,  1.46s/it]C:\\Users\\MegaMert\\Documents\\GitHub\\precision-medicine-toolbox\\pmtool\\ToolBox.py:144: UserWarning: region : sub-106_masksub-106 lesion102 skipped\n",
      "  warn('region : %s skipped'%pat)\n",
      "Patients processed:  50%|████▉     | 478/964 [11:19<11:37,  1.43s/it]C:\\Users\\MegaMert\\Documents\\GitHub\\precision-medicine-toolbox\\pmtool\\ToolBox.py:144: UserWarning: region : sub-106_masksub-106 lesion103 skipped\n",
      "  warn('region : %s skipped'%pat)\n",
      "Patients processed:  50%|████▉     | 479/964 [11:21<11:29,  1.42s/it]C:\\Users\\MegaMert\\Documents\\GitHub\\precision-medicine-toolbox\\pmtool\\ToolBox.py:144: UserWarning: region : sub-106_masksub-106 lesion104 skipped\n",
      "  warn('region : %s skipped'%pat)\n",
      "Patients processed:  50%|████▉     | 480/964 [11:22<11:20,  1.41s/it]C:\\Users\\MegaMert\\Documents\\GitHub\\precision-medicine-toolbox\\pmtool\\ToolBox.py:144: UserWarning: region : sub-106_masksub-106 lesion105 skipped\n",
      "  warn('region : %s skipped'%pat)\n",
      "Patients processed:  50%|█████     | 482/964 [11:25<11:16,  1.40s/it]C:\\Users\\MegaMert\\Documents\\GitHub\\precision-medicine-toolbox\\pmtool\\ToolBox.py:144: UserWarning: region : sub-106_masksub-106 lesion107 skipped\n",
      "  warn('region : %s skipped'%pat)\n",
      "Patients processed:  50%|█████     | 483/964 [11:26<11:14,  1.40s/it]C:\\Users\\MegaMert\\Documents\\GitHub\\precision-medicine-toolbox\\pmtool\\ToolBox.py:144: UserWarning: region : sub-106_masksub-106 lesion108 skipped\n",
      "  warn('region : %s skipped'%pat)\n",
      "Patients processed:  50%|█████     | 484/964 [11:28<11:16,  1.41s/it]C:\\Users\\MegaMert\\Documents\\GitHub\\precision-medicine-toolbox\\pmtool\\ToolBox.py:144: UserWarning: region : sub-106_masksub-106 lesion109 skipped\n",
      "  warn('region : %s skipped'%pat)\n",
      "Patients processed:  50%|█████     | 485/964 [11:29<11:11,  1.40s/it]C:\\Users\\MegaMert\\Documents\\GitHub\\precision-medicine-toolbox\\pmtool\\ToolBox.py:144: UserWarning: region : sub-106_masksub-106 lesion11 skipped\n",
      "  warn('region : %s skipped'%pat)\n",
      "Patients processed:  51%|█████     | 489/964 [11:35<11:08,  1.41s/it]C:\\Users\\MegaMert\\Documents\\GitHub\\precision-medicine-toolbox\\pmtool\\ToolBox.py:144: UserWarning: region : sub-106_masksub-106 lesion113 skipped\n",
      "  warn('region : %s skipped'%pat)\n",
      "Patients processed:  51%|█████     | 492/964 [11:39<11:03,  1.41s/it]Encountered 1 eigenvalues < 0 and > -1e-10, rounding to 0\n",
      "Patients processed:  51%|█████     | 493/964 [11:40<11:03,  1.41s/it]Encountered 1 eigenvalues < 0 and > -1e-10, rounding to 0\n",
      "Patients processed:  51%|█████▏    | 495/964 [11:43<11:07,  1.42s/it]C:\\Users\\MegaMert\\Documents\\GitHub\\precision-medicine-toolbox\\pmtool\\ToolBox.py:144: UserWarning: region : sub-106_masksub-106 lesion119 skipped\n",
      "  warn('region : %s skipped'%pat)\n",
      "Patients processed:  51%|█████▏    | 496/964 [11:45<11:01,  1.41s/it]C:\\Users\\MegaMert\\Documents\\GitHub\\precision-medicine-toolbox\\pmtool\\ToolBox.py:144: UserWarning: region : sub-106_masksub-106 lesion12 skipped\n",
      "  warn('region : %s skipped'%pat)\n",
      "Patients processed:  52%|█████▏    | 497/964 [11:46<10:57,  1.41s/it]C:\\Users\\MegaMert\\Documents\\GitHub\\precision-medicine-toolbox\\pmtool\\ToolBox.py:144: UserWarning: region : sub-106_masksub-106 lesion120 skipped\n",
      "  warn('region : %s skipped'%pat)\n",
      "Patients processed:  52%|█████▏    | 501/964 [11:52<10:53,  1.41s/it]C:\\Users\\MegaMert\\Documents\\GitHub\\precision-medicine-toolbox\\pmtool\\ToolBox.py:144: UserWarning: region : sub-106_masksub-106 lesion124 skipped\n",
      "  warn('region : %s skipped'%pat)\n",
      "Patients processed:  52%|█████▏    | 502/964 [11:53<10:49,  1.40s/it]C:\\Users\\MegaMert\\Documents\\GitHub\\precision-medicine-toolbox\\pmtool\\ToolBox.py:144: UserWarning: region : sub-106_masksub-106 lesion125 skipped\n",
      "  warn('region : %s skipped'%pat)\n",
      "Patients processed:  52%|█████▏    | 506/964 [11:59<10:46,  1.41s/it]C:\\Users\\MegaMert\\Documents\\GitHub\\precision-medicine-toolbox\\pmtool\\ToolBox.py:144: UserWarning: region : sub-106_masksub-106 lesion129 skipped\n",
      "  warn('region : %s skipped'%pat)\n",
      "Patients processed:  53%|█████▎    | 507/964 [12:00<10:40,  1.40s/it]C:\\Users\\MegaMert\\Documents\\GitHub\\precision-medicine-toolbox\\pmtool\\ToolBox.py:144: UserWarning: region : sub-106_masksub-106 lesion13 skipped\n",
      "  warn('region : %s skipped'%pat)\n",
      "Patients processed:  53%|█████▎    | 508/964 [12:01<10:39,  1.40s/it]C:\\Users\\MegaMert\\Documents\\GitHub\\precision-medicine-toolbox\\pmtool\\ToolBox.py:144: UserWarning: region : sub-106_masksub-106 lesion130 skipped\n",
      "  warn('region : %s skipped'%pat)\n"
     ]
    },
    {
     "name": "stderr",
     "output_type": "stream",
     "text": [
      "Patients processed:  53%|█████▎    | 509/964 [12:03<10:37,  1.40s/it]C:\\Users\\MegaMert\\Documents\\GitHub\\precision-medicine-toolbox\\pmtool\\ToolBox.py:144: UserWarning: region : sub-106_masksub-106 lesion131 skipped\n",
      "  warn('region : %s skipped'%pat)\n",
      "Patients processed:  53%|█████▎    | 512/964 [12:07<10:42,  1.42s/it]C:\\Users\\MegaMert\\Documents\\GitHub\\precision-medicine-toolbox\\pmtool\\ToolBox.py:144: UserWarning: region : sub-106_masksub-106 lesion134 skipped\n",
      "  warn('region : %s skipped'%pat)\n",
      "Patients processed:  53%|█████▎    | 514/964 [12:10<10:36,  1.41s/it]C:\\Users\\MegaMert\\Documents\\GitHub\\precision-medicine-toolbox\\pmtool\\ToolBox.py:144: UserWarning: region : sub-106_masksub-106 lesion15 skipped\n",
      "  warn('region : %s skipped'%pat)\n",
      "Patients processed:  53%|█████▎    | 515/964 [12:11<10:33,  1.41s/it]C:\\Users\\MegaMert\\Documents\\GitHub\\precision-medicine-toolbox\\pmtool\\ToolBox.py:144: UserWarning: region : sub-106_masksub-106 lesion16 skipped\n",
      "  warn('region : %s skipped'%pat)\n",
      "Patients processed:  54%|█████▎    | 518/964 [12:16<10:43,  1.44s/it]C:\\Users\\MegaMert\\Documents\\GitHub\\precision-medicine-toolbox\\pmtool\\ToolBox.py:144: UserWarning: region : sub-106_masksub-106 lesion19 skipped\n",
      "  warn('region : %s skipped'%pat)\n",
      "Patients processed:  54%|█████▍    | 522/964 [12:21<10:28,  1.42s/it]C:\\Users\\MegaMert\\Documents\\GitHub\\precision-medicine-toolbox\\pmtool\\ToolBox.py:144: UserWarning: region : sub-106_masksub-106 lesion22 skipped\n",
      "  warn('region : %s skipped'%pat)\n",
      "Patients processed:  54%|█████▍    | 524/964 [12:24<10:27,  1.43s/it]C:\\Users\\MegaMert\\Documents\\GitHub\\precision-medicine-toolbox\\pmtool\\ToolBox.py:144: UserWarning: region : sub-106_masksub-106 lesion24 skipped\n",
      "  warn('region : %s skipped'%pat)\n",
      "Patients processed:  55%|█████▍    | 526/964 [12:27<10:23,  1.42s/it]C:\\Users\\MegaMert\\Documents\\GitHub\\precision-medicine-toolbox\\pmtool\\ToolBox.py:144: UserWarning: region : sub-106_masksub-106 lesion26 skipped\n",
      "  warn('region : %s skipped'%pat)\n",
      "Patients processed:  55%|█████▍    | 527/964 [12:29<10:20,  1.42s/it]C:\\Users\\MegaMert\\Documents\\GitHub\\precision-medicine-toolbox\\pmtool\\ToolBox.py:144: UserWarning: region : sub-106_masksub-106 lesion27 skipped\n",
      "  warn('region : %s skipped'%pat)\n",
      "Patients processed:  55%|█████▍    | 528/964 [12:30<10:25,  1.43s/it]C:\\Users\\MegaMert\\Documents\\GitHub\\precision-medicine-toolbox\\pmtool\\ToolBox.py:144: UserWarning: region : sub-106_masksub-106 lesion28 skipped\n",
      "  warn('region : %s skipped'%pat)\n",
      "Patients processed:  55%|█████▌    | 532/964 [12:36<10:19,  1.43s/it]C:\\Users\\MegaMert\\Documents\\GitHub\\precision-medicine-toolbox\\pmtool\\ToolBox.py:144: UserWarning: region : sub-106_masksub-106 lesion31 skipped\n",
      "  warn('region : %s skipped'%pat)\n",
      "Patients processed:  55%|█████▌    | 533/964 [12:37<10:14,  1.42s/it]C:\\Users\\MegaMert\\Documents\\GitHub\\precision-medicine-toolbox\\pmtool\\ToolBox.py:144: UserWarning: region : sub-106_masksub-106 lesion32 skipped\n",
      "  warn('region : %s skipped'%pat)\n",
      "Patients processed:  56%|█████▌    | 537/964 [12:43<10:02,  1.41s/it]C:\\Users\\MegaMert\\Documents\\GitHub\\precision-medicine-toolbox\\pmtool\\ToolBox.py:144: UserWarning: region : sub-106_masksub-106 lesion36 skipped\n",
      "  warn('region : %s skipped'%pat)\n",
      "Patients processed:  56%|█████▌    | 538/964 [12:44<10:01,  1.41s/it]C:\\Users\\MegaMert\\Documents\\GitHub\\precision-medicine-toolbox\\pmtool\\ToolBox.py:144: UserWarning: region : sub-106_masksub-106 lesion37 skipped\n",
      "  warn('region : %s skipped'%pat)\n",
      "Patients processed:  56%|█████▌    | 542/964 [12:50<09:58,  1.42s/it]C:\\Users\\MegaMert\\Documents\\GitHub\\precision-medicine-toolbox\\pmtool\\ToolBox.py:144: UserWarning: region : sub-106_masksub-106 lesion40 skipped\n",
      "  warn('region : %s skipped'%pat)\n",
      "Patients processed:  56%|█████▋    | 543/964 [12:51<09:50,  1.40s/it]C:\\Users\\MegaMert\\Documents\\GitHub\\precision-medicine-toolbox\\pmtool\\ToolBox.py:144: UserWarning: region : sub-106_masksub-106 lesion41 skipped\n",
      "  warn('region : %s skipped'%pat)\n",
      "Patients processed:  57%|█████▋    | 546/964 [12:55<09:47,  1.40s/it]C:\\Users\\MegaMert\\Documents\\GitHub\\precision-medicine-toolbox\\pmtool\\ToolBox.py:144: UserWarning: region : sub-106_masksub-106 lesion44 skipped\n",
      "  warn('region : %s skipped'%pat)\n",
      "Patients processed:  57%|█████▋    | 548/964 [12:58<09:44,  1.40s/it]C:\\Users\\MegaMert\\Documents\\GitHub\\precision-medicine-toolbox\\pmtool\\ToolBox.py:144: UserWarning: region : sub-106_masksub-106 lesion46 skipped\n",
      "  warn('region : %s skipped'%pat)\n",
      "Patients processed:  57%|█████▋    | 549/964 [13:00<09:43,  1.41s/it]C:\\Users\\MegaMert\\Documents\\GitHub\\precision-medicine-toolbox\\pmtool\\ToolBox.py:144: UserWarning: region : sub-106_masksub-106 lesion47 skipped\n",
      "  warn('region : %s skipped'%pat)\n",
      "Patients processed:  57%|█████▋    | 550/964 [13:01<09:38,  1.40s/it]C:\\Users\\MegaMert\\Documents\\GitHub\\precision-medicine-toolbox\\pmtool\\ToolBox.py:144: UserWarning: region : sub-106_masksub-106 lesion48 skipped\n",
      "  warn('region : %s skipped'%pat)\n",
      "Patients processed:  57%|█████▋    | 551/964 [13:02<09:35,  1.39s/it]C:\\Users\\MegaMert\\Documents\\GitHub\\precision-medicine-toolbox\\pmtool\\ToolBox.py:144: UserWarning: region : sub-106_masksub-106 lesion49 skipped\n",
      "  warn('region : %s skipped'%pat)\n",
      "Patients processed:  57%|█████▋    | 553/964 [13:05<09:33,  1.39s/it]C:\\Users\\MegaMert\\Documents\\GitHub\\precision-medicine-toolbox\\pmtool\\ToolBox.py:144: UserWarning: region : sub-106_masksub-106 lesion50 skipped\n",
      "  warn('region : %s skipped'%pat)\n",
      "Patients processed:  58%|█████▊    | 556/964 [13:09<09:36,  1.41s/it]C:\\Users\\MegaMert\\Documents\\GitHub\\precision-medicine-toolbox\\pmtool\\ToolBox.py:144: UserWarning: region : sub-106_masksub-106 lesion53 skipped\n",
      "  warn('region : %s skipped'%pat)\n",
      "Patients processed:  58%|█████▊    | 557/964 [13:11<09:31,  1.40s/it]C:\\Users\\MegaMert\\Documents\\GitHub\\precision-medicine-toolbox\\pmtool\\ToolBox.py:144: UserWarning: region : sub-106_masksub-106 lesion54 skipped\n",
      "  warn('region : %s skipped'%pat)\n",
      "Patients processed:  58%|█████▊    | 558/964 [13:12<09:24,  1.39s/it]C:\\Users\\MegaMert\\Documents\\GitHub\\precision-medicine-toolbox\\pmtool\\ToolBox.py:144: UserWarning: region : sub-106_masksub-106 lesion55 skipped\n",
      "  warn('region : %s skipped'%pat)\n",
      "Patients processed:  58%|█████▊    | 559/964 [13:14<09:22,  1.39s/it]C:\\Users\\MegaMert\\Documents\\GitHub\\precision-medicine-toolbox\\pmtool\\ToolBox.py:144: UserWarning: region : sub-106_masksub-106 lesion56 skipped\n",
      "  warn('region : %s skipped'%pat)\n",
      "Patients processed:  58%|█████▊    | 562/964 [13:18<09:22,  1.40s/it]C:\\Users\\MegaMert\\Documents\\GitHub\\precision-medicine-toolbox\\pmtool\\ToolBox.py:144: UserWarning: region : sub-106_masksub-106 lesion59 skipped\n",
      "  warn('region : %s skipped'%pat)\n",
      "Patients processed:  59%|█████▊    | 565/964 [13:22<09:27,  1.42s/it]C:\\Users\\MegaMert\\Documents\\GitHub\\precision-medicine-toolbox\\pmtool\\ToolBox.py:144: UserWarning: region : sub-106_masksub-106 lesion61 skipped\n",
      "  warn('region : %s skipped'%pat)\n",
      "Patients processed:  59%|█████▊    | 566/964 [13:23<09:25,  1.42s/it]C:\\Users\\MegaMert\\Documents\\GitHub\\precision-medicine-toolbox\\pmtool\\ToolBox.py:144: UserWarning: region : sub-106_masksub-106 lesion62 skipped\n",
      "  warn('region : %s skipped'%pat)\n",
      "Patients processed:  59%|█████▉    | 569/964 [13:28<09:20,  1.42s/it]C:\\Users\\MegaMert\\Documents\\GitHub\\precision-medicine-toolbox\\pmtool\\ToolBox.py:144: UserWarning: region : sub-106_masksub-106 lesion65 skipped\n",
      "  warn('region : %s skipped'%pat)\n",
      "Patients processed:  59%|█████▉    | 570/964 [13:29<09:19,  1.42s/it]C:\\Users\\MegaMert\\Documents\\GitHub\\precision-medicine-toolbox\\pmtool\\ToolBox.py:144: UserWarning: region : sub-106_masksub-106 lesion66 skipped\n",
      "  warn('region : %s skipped'%pat)\n",
      "Patients processed:  59%|█████▉    | 571/964 [13:30<09:19,  1.42s/it]C:\\Users\\MegaMert\\Documents\\GitHub\\precision-medicine-toolbox\\pmtool\\ToolBox.py:144: UserWarning: region : sub-106_masksub-106 lesion67 skipped\n",
      "  warn('region : %s skipped'%pat)\n",
      "Patients processed:  59%|█████▉    | 572/964 [13:32<09:18,  1.42s/it]C:\\Users\\MegaMert\\Documents\\GitHub\\precision-medicine-toolbox\\pmtool\\ToolBox.py:144: UserWarning: region : sub-106_masksub-106 lesion68 skipped\n",
      "  warn('region : %s skipped'%pat)\n",
      "Patients processed:  60%|█████▉    | 578/964 [13:41<09:13,  1.43s/it]C:\\Users\\MegaMert\\Documents\\GitHub\\precision-medicine-toolbox\\pmtool\\ToolBox.py:144: UserWarning: region : sub-106_masksub-106 lesion73 skipped\n",
      "  warn('region : %s skipped'%pat)\n",
      "Patients processed:  60%|██████    | 579/964 [13:42<09:07,  1.42s/it]C:\\Users\\MegaMert\\Documents\\GitHub\\precision-medicine-toolbox\\pmtool\\ToolBox.py:144: UserWarning: region : sub-106_masksub-106 lesion74 skipped\n",
      "  warn('region : %s skipped'%pat)\n",
      "Patients processed:  60%|██████    | 582/964 [13:46<08:58,  1.41s/it]C:\\Users\\MegaMert\\Documents\\GitHub\\precision-medicine-toolbox\\pmtool\\ToolBox.py:144: UserWarning: region : sub-106_masksub-106 lesion77 skipped\n",
      "  warn('region : %s skipped'%pat)\n",
      "Patients processed:  61%|██████    | 584/964 [13:49<09:02,  1.43s/it]C:\\Users\\MegaMert\\Documents\\GitHub\\precision-medicine-toolbox\\pmtool\\ToolBox.py:144: UserWarning: region : sub-106_masksub-106 lesion79 skipped\n",
      "  warn('region : %s skipped'%pat)\n",
      "Patients processed:  61%|██████    | 588/964 [13:55<08:47,  1.40s/it]C:\\Users\\MegaMert\\Documents\\GitHub\\precision-medicine-toolbox\\pmtool\\ToolBox.py:144: UserWarning: region : sub-106_masksub-106 lesion82 skipped\n",
      "  warn('region : %s skipped'%pat)\n",
      "Patients processed:  61%|██████    | 589/964 [13:56<08:44,  1.40s/it]Encountered 1 eigenvalues < 0 and > -1e-10, rounding to 0\n",
      "Patients processed:  62%|██████▏   | 598/964 [14:09<08:41,  1.42s/it]C:\\Users\\MegaMert\\Documents\\GitHub\\precision-medicine-toolbox\\pmtool\\ToolBox.py:144: UserWarning: region : sub-106_masksub-106 lesion91 skipped\n",
      "  warn('region : %s skipped'%pat)\n",
      "Patients processed:  62%|██████▏   | 599/964 [14:10<08:41,  1.43s/it]C:\\Users\\MegaMert\\Documents\\GitHub\\precision-medicine-toolbox\\pmtool\\ToolBox.py:144: UserWarning: region : sub-106_masksub-106 lesion92 skipped\n",
      "  warn('region : %s skipped'%pat)\n",
      "Patients processed:  63%|██████▎   | 603/964 [14:16<08:44,  1.45s/it]C:\\Users\\MegaMert\\Documents\\GitHub\\precision-medicine-toolbox\\pmtool\\ToolBox.py:144: UserWarning: region : sub-106_masksub-106 lesion96 skipped\n",
      "  warn('region : %s skipped'%pat)\n",
      "Patients processed:  63%|██████▎   | 605/964 [14:19<08:32,  1.43s/it]C:\\Users\\MegaMert\\Documents\\GitHub\\precision-medicine-toolbox\\pmtool\\ToolBox.py:144: UserWarning: region : sub-106_masksub-106 lesion98 skipped\n",
      "  warn('region : %s skipped'%pat)\n",
      "Patients processed:  75%|███████▌  | 723/964 [22:28<16:50,  4.19s/it]C:\\Users\\MegaMert\\Documents\\GitHub\\precision-medicine-toolbox\\pmtool\\ToolBox.py:144: UserWarning: region : sub-211_masksub-211 lesion84 skipped\n",
      "  warn('region : %s skipped'%pat)\n",
      "Patients processed: 100%|██████████| 964/964 [39:16<00:00,  2.44s/it]\n"
     ]
    }
   ],
   "source": [
    "parameters = r\"C:\\Users\\MegaMert\\Documents\\GitHub\\precision-medicine-toolbox\\examples\\example_mr_parameters.yml\"\n",
    "features = data_ct_nrrd.extract_features(parameters, loggenabled=True)"
   ]
  },
  {
   "cell_type": "code",
   "execution_count": 16,
   "id": "b61be31b",
   "metadata": {},
   "outputs": [
    {
     "data": {
      "text/html": [
       "<div>\n",
       "<style scoped>\n",
       "    .dataframe tbody tr th:only-of-type {\n",
       "        vertical-align: middle;\n",
       "    }\n",
       "\n",
       "    .dataframe tbody tr th {\n",
       "        vertical-align: top;\n",
       "    }\n",
       "\n",
       "    .dataframe thead th {\n",
       "        text-align: right;\n",
       "    }\n",
       "</style>\n",
       "<table border=\"1\" class=\"dataframe\">\n",
       "  <thead>\n",
       "    <tr style=\"text-align: right;\">\n",
       "      <th></th>\n",
       "      <th>diagnostics_Versions_PyRadiomics</th>\n",
       "      <th>diagnostics_Versions_Numpy</th>\n",
       "      <th>diagnostics_Versions_SimpleITK</th>\n",
       "      <th>diagnostics_Versions_PyWavelet</th>\n",
       "      <th>diagnostics_Versions_Python</th>\n",
       "      <th>diagnostics_Configuration_Settings</th>\n",
       "      <th>diagnostics_Configuration_EnabledImageTypes</th>\n",
       "      <th>diagnostics_Image-original_Hash</th>\n",
       "      <th>diagnostics_Image-original_Dimensionality</th>\n",
       "      <th>diagnostics_Image-original_Spacing</th>\n",
       "      <th>...</th>\n",
       "      <th>original_gldm_HighGrayLevelEmphasis</th>\n",
       "      <th>original_gldm_LargeDependenceEmphasis</th>\n",
       "      <th>original_gldm_LargeDependenceHighGrayLevelEmphasis</th>\n",
       "      <th>original_gldm_LargeDependenceLowGrayLevelEmphasis</th>\n",
       "      <th>original_gldm_LowGrayLevelEmphasis</th>\n",
       "      <th>original_gldm_SmallDependenceEmphasis</th>\n",
       "      <th>original_gldm_SmallDependenceHighGrayLevelEmphasis</th>\n",
       "      <th>original_gldm_SmallDependenceLowGrayLevelEmphasis</th>\n",
       "      <th>Patient</th>\n",
       "      <th>ROI</th>\n",
       "    </tr>\n",
       "  </thead>\n",
       "  <tbody>\n",
       "    <tr>\n",
       "      <th>0</th>\n",
       "      <td>v3.0.1</td>\n",
       "      <td>1.22.3</td>\n",
       "      <td>2.1.1</td>\n",
       "      <td>1.3.0</td>\n",
       "      <td>3.9.7</td>\n",
       "      <td>{'minimumROIDimensions': 2, 'minimumROISize': ...</td>\n",
       "      <td>{'Original': {}}</td>\n",
       "      <td>eb7da0994f348b7844569bedac8dd216996964ce</td>\n",
       "      <td>3D</td>\n",
       "      <td>(1.0, 1.0, 1.0)</td>\n",
       "      <td>...</td>\n",
       "      <td>593.625</td>\n",
       "      <td>1.0</td>\n",
       "      <td>593.625</td>\n",
       "      <td>0.13680966075909884</td>\n",
       "      <td>0.13680966075909884</td>\n",
       "      <td>1.0</td>\n",
       "      <td>593.625</td>\n",
       "      <td>0.13680966075909884</td>\n",
       "      <td>sub-101_masksub-101 lesion1</td>\n",
       "      <td>masksub-101 lesion1</td>\n",
       "    </tr>\n",
       "    <tr>\n",
       "      <th>1</th>\n",
       "      <td>v3.0.1</td>\n",
       "      <td>1.22.3</td>\n",
       "      <td>2.1.1</td>\n",
       "      <td>1.3.0</td>\n",
       "      <td>3.9.7</td>\n",
       "      <td>{'minimumROIDimensions': 2, 'minimumROISize': ...</td>\n",
       "      <td>{'Original': {}}</td>\n",
       "      <td>eb7da0994f348b7844569bedac8dd216996964ce</td>\n",
       "      <td>3D</td>\n",
       "      <td>(1.0, 1.0, 1.0)</td>\n",
       "      <td>...</td>\n",
       "      <td>1028.0</td>\n",
       "      <td>1.0</td>\n",
       "      <td>1028.0</td>\n",
       "      <td>0.16857082832493842</td>\n",
       "      <td>0.16857082832493842</td>\n",
       "      <td>1.0</td>\n",
       "      <td>1028.0</td>\n",
       "      <td>0.16857082832493842</td>\n",
       "      <td>sub-101_masksub-101 lesion10</td>\n",
       "      <td>masksub-101 lesion10</td>\n",
       "    </tr>\n",
       "    <tr>\n",
       "      <th>2</th>\n",
       "      <td>v3.0.1</td>\n",
       "      <td>1.22.3</td>\n",
       "      <td>2.1.1</td>\n",
       "      <td>1.3.0</td>\n",
       "      <td>3.9.7</td>\n",
       "      <td>{'minimumROIDimensions': 2, 'minimumROISize': ...</td>\n",
       "      <td>{'Original': {}}</td>\n",
       "      <td>eb7da0994f348b7844569bedac8dd216996964ce</td>\n",
       "      <td>3D</td>\n",
       "      <td>(1.0, 1.0, 1.0)</td>\n",
       "      <td>...</td>\n",
       "      <td>758.5</td>\n",
       "      <td>1.0</td>\n",
       "      <td>758.5</td>\n",
       "      <td>0.3130725897920605</td>\n",
       "      <td>0.3130725897920605</td>\n",
       "      <td>1.0</td>\n",
       "      <td>758.5</td>\n",
       "      <td>0.3130725897920605</td>\n",
       "      <td>sub-101_masksub-101 lesion13</td>\n",
       "      <td>masksub-101 lesion13</td>\n",
       "    </tr>\n",
       "    <tr>\n",
       "      <th>3</th>\n",
       "      <td>v3.0.1</td>\n",
       "      <td>1.22.3</td>\n",
       "      <td>2.1.1</td>\n",
       "      <td>1.3.0</td>\n",
       "      <td>3.9.7</td>\n",
       "      <td>{'minimumROIDimensions': 2, 'minimumROISize': ...</td>\n",
       "      <td>{'Original': {}}</td>\n",
       "      <td>eb7da0994f348b7844569bedac8dd216996964ce</td>\n",
       "      <td>3D</td>\n",
       "      <td>(1.0, 1.0, 1.0)</td>\n",
       "      <td>...</td>\n",
       "      <td>717.75</td>\n",
       "      <td>1.0</td>\n",
       "      <td>717.75</td>\n",
       "      <td>0.2540514716562006</td>\n",
       "      <td>0.2540514716562006</td>\n",
       "      <td>1.0</td>\n",
       "      <td>717.75</td>\n",
       "      <td>0.2540514716562006</td>\n",
       "      <td>sub-101_masksub-101 lesion16</td>\n",
       "      <td>masksub-101 lesion16</td>\n",
       "    </tr>\n",
       "    <tr>\n",
       "      <th>4</th>\n",
       "      <td>v3.0.1</td>\n",
       "      <td>1.22.3</td>\n",
       "      <td>2.1.1</td>\n",
       "      <td>1.3.0</td>\n",
       "      <td>3.9.7</td>\n",
       "      <td>{'minimumROIDimensions': 2, 'minimumROISize': ...</td>\n",
       "      <td>{'Original': {}}</td>\n",
       "      <td>eb7da0994f348b7844569bedac8dd216996964ce</td>\n",
       "      <td>3D</td>\n",
       "      <td>(1.0, 1.0, 1.0)</td>\n",
       "      <td>...</td>\n",
       "      <td>839.0</td>\n",
       "      <td>1.0</td>\n",
       "      <td>839.0</td>\n",
       "      <td>0.3543</td>\n",
       "      <td>0.3543</td>\n",
       "      <td>1.0</td>\n",
       "      <td>839.0</td>\n",
       "      <td>0.3543</td>\n",
       "      <td>sub-101_masksub-101 lesion17</td>\n",
       "      <td>masksub-101 lesion17</td>\n",
       "    </tr>\n",
       "    <tr>\n",
       "      <th>5</th>\n",
       "      <td>v3.0.1</td>\n",
       "      <td>1.22.3</td>\n",
       "      <td>2.1.1</td>\n",
       "      <td>1.3.0</td>\n",
       "      <td>3.9.7</td>\n",
       "      <td>{'minimumROIDimensions': 2, 'minimumROISize': ...</td>\n",
       "      <td>{'Original': {}}</td>\n",
       "      <td>eb7da0994f348b7844569bedac8dd216996964ce</td>\n",
       "      <td>3D</td>\n",
       "      <td>(1.0, 1.0, 1.0)</td>\n",
       "      <td>...</td>\n",
       "      <td>743.4615384615385</td>\n",
       "      <td>1.4615384615384615</td>\n",
       "      <td>847.3076923076923</td>\n",
       "      <td>0.08350290811677429</td>\n",
       "      <td>0.08145162606549225</td>\n",
       "      <td>0.8846153846153846</td>\n",
       "      <td>717.5</td>\n",
       "      <td>0.08093880555267172</td>\n",
       "      <td>sub-101_masksub-101 lesion19</td>\n",
       "      <td>masksub-101 lesion19</td>\n",
       "    </tr>\n",
       "    <tr>\n",
       "      <th>6</th>\n",
       "      <td>v3.0.1</td>\n",
       "      <td>1.22.3</td>\n",
       "      <td>2.1.1</td>\n",
       "      <td>1.3.0</td>\n",
       "      <td>3.9.7</td>\n",
       "      <td>{'minimumROIDimensions': 2, 'minimumROISize': ...</td>\n",
       "      <td>{'Original': {}}</td>\n",
       "      <td>eb7da0994f348b7844569bedac8dd216996964ce</td>\n",
       "      <td>3D</td>\n",
       "      <td>(1.0, 1.0, 1.0)</td>\n",
       "      <td>...</td>\n",
       "      <td>1015.0</td>\n",
       "      <td>1.0</td>\n",
       "      <td>1015.0</td>\n",
       "      <td>0.200900021859798</td>\n",
       "      <td>0.200900021859798</td>\n",
       "      <td>1.0</td>\n",
       "      <td>1015.0</td>\n",
       "      <td>0.200900021859798</td>\n",
       "      <td>sub-101_masksub-101 lesion2</td>\n",
       "      <td>masksub-101 lesion2</td>\n",
       "    </tr>\n",
       "    <tr>\n",
       "      <th>7</th>\n",
       "      <td>v3.0.1</td>\n",
       "      <td>1.22.3</td>\n",
       "      <td>2.1.1</td>\n",
       "      <td>1.3.0</td>\n",
       "      <td>3.9.7</td>\n",
       "      <td>{'minimumROIDimensions': 2, 'minimumROISize': ...</td>\n",
       "      <td>{'Original': {}}</td>\n",
       "      <td>eb7da0994f348b7844569bedac8dd216996964ce</td>\n",
       "      <td>3D</td>\n",
       "      <td>(1.0, 1.0, 1.0)</td>\n",
       "      <td>...</td>\n",
       "      <td>993.8888888888889</td>\n",
       "      <td>1.0</td>\n",
       "      <td>993.8888888888889</td>\n",
       "      <td>0.11362393117700129</td>\n",
       "      <td>0.11362393117700129</td>\n",
       "      <td>1.0</td>\n",
       "      <td>993.8888888888889</td>\n",
       "      <td>0.11362393117700129</td>\n",
       "      <td>sub-101_masksub-101 lesion20</td>\n",
       "      <td>masksub-101 lesion20</td>\n",
       "    </tr>\n",
       "    <tr>\n",
       "      <th>8</th>\n",
       "      <td>v3.0.1</td>\n",
       "      <td>1.22.3</td>\n",
       "      <td>2.1.1</td>\n",
       "      <td>1.3.0</td>\n",
       "      <td>3.9.7</td>\n",
       "      <td>{'minimumROIDimensions': 2, 'minimumROISize': ...</td>\n",
       "      <td>{'Original': {}}</td>\n",
       "      <td>eb7da0994f348b7844569bedac8dd216996964ce</td>\n",
       "      <td>3D</td>\n",
       "      <td>(1.0, 1.0, 1.0)</td>\n",
       "      <td>...</td>\n",
       "      <td>587.0</td>\n",
       "      <td>2.0</td>\n",
       "      <td>987.0</td>\n",
       "      <td>0.17758367346938775</td>\n",
       "      <td>0.17508367346938772</td>\n",
       "      <td>0.75</td>\n",
       "      <td>487.0</td>\n",
       "      <td>0.17445867346938773</td>\n",
       "      <td>sub-101_masksub-101 lesion24</td>\n",
       "      <td>masksub-101 lesion24</td>\n",
       "    </tr>\n",
       "    <tr>\n",
       "      <th>9</th>\n",
       "      <td>v3.0.1</td>\n",
       "      <td>1.22.3</td>\n",
       "      <td>2.1.1</td>\n",
       "      <td>1.3.0</td>\n",
       "      <td>3.9.7</td>\n",
       "      <td>{'minimumROIDimensions': 2, 'minimumROISize': ...</td>\n",
       "      <td>{'Original': {}}</td>\n",
       "      <td>eb7da0994f348b7844569bedac8dd216996964ce</td>\n",
       "      <td>3D</td>\n",
       "      <td>(1.0, 1.0, 1.0)</td>\n",
       "      <td>...</td>\n",
       "      <td>845.6666666666666</td>\n",
       "      <td>1.0</td>\n",
       "      <td>845.6666666666666</td>\n",
       "      <td>0.3427259259259259</td>\n",
       "      <td>0.3427259259259259</td>\n",
       "      <td>1.0</td>\n",
       "      <td>845.6666666666666</td>\n",
       "      <td>0.3427259259259259</td>\n",
       "      <td>sub-101_masksub-101 lesion25</td>\n",
       "      <td>masksub-101 lesion25</td>\n",
       "    </tr>\n",
       "    <tr>\n",
       "      <th>10</th>\n",
       "      <td>v3.0.1</td>\n",
       "      <td>1.22.3</td>\n",
       "      <td>2.1.1</td>\n",
       "      <td>1.3.0</td>\n",
       "      <td>3.9.7</td>\n",
       "      <td>{'minimumROIDimensions': 2, 'minimumROISize': ...</td>\n",
       "      <td>{'Original': {}}</td>\n",
       "      <td>eb7da0994f348b7844569bedac8dd216996964ce</td>\n",
       "      <td>3D</td>\n",
       "      <td>(1.0, 1.0, 1.0)</td>\n",
       "      <td>...</td>\n",
       "      <td>971.4</td>\n",
       "      <td>1.0</td>\n",
       "      <td>971.4</td>\n",
       "      <td>0.2009947663503724</td>\n",
       "      <td>0.2009947663503724</td>\n",
       "      <td>1.0</td>\n",
       "      <td>971.4</td>\n",
       "      <td>0.2009947663503724</td>\n",
       "      <td>sub-101_masksub-101 lesion28</td>\n",
       "      <td>masksub-101 lesion28</td>\n",
       "    </tr>\n",
       "    <tr>\n",
       "      <th>11</th>\n",
       "      <td>v3.0.1</td>\n",
       "      <td>1.22.3</td>\n",
       "      <td>2.1.1</td>\n",
       "      <td>1.3.0</td>\n",
       "      <td>3.9.7</td>\n",
       "      <td>{'minimumROIDimensions': 2, 'minimumROISize': ...</td>\n",
       "      <td>{'Original': {}}</td>\n",
       "      <td>eb7da0994f348b7844569bedac8dd216996964ce</td>\n",
       "      <td>3D</td>\n",
       "      <td>(1.0, 1.0, 1.0)</td>\n",
       "      <td>...</td>\n",
       "      <td>867.0</td>\n",
       "      <td>1.0</td>\n",
       "      <td>867.0</td>\n",
       "      <td>0.3368</td>\n",
       "      <td>0.3368</td>\n",
       "      <td>1.0</td>\n",
       "      <td>867.0</td>\n",
       "      <td>0.3368</td>\n",
       "      <td>sub-101_masksub-101 lesion29</td>\n",
       "      <td>masksub-101 lesion29</td>\n",
       "    </tr>\n",
       "  </tbody>\n",
       "</table>\n",
       "<p>12 rows × 124 columns</p>\n",
       "</div>"
      ],
      "text/plain": [
       "   diagnostics_Versions_PyRadiomics diagnostics_Versions_Numpy  \\\n",
       "0                            v3.0.1                     1.22.3   \n",
       "1                            v3.0.1                     1.22.3   \n",
       "2                            v3.0.1                     1.22.3   \n",
       "3                            v3.0.1                     1.22.3   \n",
       "4                            v3.0.1                     1.22.3   \n",
       "5                            v3.0.1                     1.22.3   \n",
       "6                            v3.0.1                     1.22.3   \n",
       "7                            v3.0.1                     1.22.3   \n",
       "8                            v3.0.1                     1.22.3   \n",
       "9                            v3.0.1                     1.22.3   \n",
       "10                           v3.0.1                     1.22.3   \n",
       "11                           v3.0.1                     1.22.3   \n",
       "\n",
       "   diagnostics_Versions_SimpleITK diagnostics_Versions_PyWavelet  \\\n",
       "0                           2.1.1                          1.3.0   \n",
       "1                           2.1.1                          1.3.0   \n",
       "2                           2.1.1                          1.3.0   \n",
       "3                           2.1.1                          1.3.0   \n",
       "4                           2.1.1                          1.3.0   \n",
       "5                           2.1.1                          1.3.0   \n",
       "6                           2.1.1                          1.3.0   \n",
       "7                           2.1.1                          1.3.0   \n",
       "8                           2.1.1                          1.3.0   \n",
       "9                           2.1.1                          1.3.0   \n",
       "10                          2.1.1                          1.3.0   \n",
       "11                          2.1.1                          1.3.0   \n",
       "\n",
       "   diagnostics_Versions_Python  \\\n",
       "0                        3.9.7   \n",
       "1                        3.9.7   \n",
       "2                        3.9.7   \n",
       "3                        3.9.7   \n",
       "4                        3.9.7   \n",
       "5                        3.9.7   \n",
       "6                        3.9.7   \n",
       "7                        3.9.7   \n",
       "8                        3.9.7   \n",
       "9                        3.9.7   \n",
       "10                       3.9.7   \n",
       "11                       3.9.7   \n",
       "\n",
       "                   diagnostics_Configuration_Settings  \\\n",
       "0   {'minimumROIDimensions': 2, 'minimumROISize': ...   \n",
       "1   {'minimumROIDimensions': 2, 'minimumROISize': ...   \n",
       "2   {'minimumROIDimensions': 2, 'minimumROISize': ...   \n",
       "3   {'minimumROIDimensions': 2, 'minimumROISize': ...   \n",
       "4   {'minimumROIDimensions': 2, 'minimumROISize': ...   \n",
       "5   {'minimumROIDimensions': 2, 'minimumROISize': ...   \n",
       "6   {'minimumROIDimensions': 2, 'minimumROISize': ...   \n",
       "7   {'minimumROIDimensions': 2, 'minimumROISize': ...   \n",
       "8   {'minimumROIDimensions': 2, 'minimumROISize': ...   \n",
       "9   {'minimumROIDimensions': 2, 'minimumROISize': ...   \n",
       "10  {'minimumROIDimensions': 2, 'minimumROISize': ...   \n",
       "11  {'minimumROIDimensions': 2, 'minimumROISize': ...   \n",
       "\n",
       "   diagnostics_Configuration_EnabledImageTypes  \\\n",
       "0                             {'Original': {}}   \n",
       "1                             {'Original': {}}   \n",
       "2                             {'Original': {}}   \n",
       "3                             {'Original': {}}   \n",
       "4                             {'Original': {}}   \n",
       "5                             {'Original': {}}   \n",
       "6                             {'Original': {}}   \n",
       "7                             {'Original': {}}   \n",
       "8                             {'Original': {}}   \n",
       "9                             {'Original': {}}   \n",
       "10                            {'Original': {}}   \n",
       "11                            {'Original': {}}   \n",
       "\n",
       "             diagnostics_Image-original_Hash  \\\n",
       "0   eb7da0994f348b7844569bedac8dd216996964ce   \n",
       "1   eb7da0994f348b7844569bedac8dd216996964ce   \n",
       "2   eb7da0994f348b7844569bedac8dd216996964ce   \n",
       "3   eb7da0994f348b7844569bedac8dd216996964ce   \n",
       "4   eb7da0994f348b7844569bedac8dd216996964ce   \n",
       "5   eb7da0994f348b7844569bedac8dd216996964ce   \n",
       "6   eb7da0994f348b7844569bedac8dd216996964ce   \n",
       "7   eb7da0994f348b7844569bedac8dd216996964ce   \n",
       "8   eb7da0994f348b7844569bedac8dd216996964ce   \n",
       "9   eb7da0994f348b7844569bedac8dd216996964ce   \n",
       "10  eb7da0994f348b7844569bedac8dd216996964ce   \n",
       "11  eb7da0994f348b7844569bedac8dd216996964ce   \n",
       "\n",
       "   diagnostics_Image-original_Dimensionality  \\\n",
       "0                                         3D   \n",
       "1                                         3D   \n",
       "2                                         3D   \n",
       "3                                         3D   \n",
       "4                                         3D   \n",
       "5                                         3D   \n",
       "6                                         3D   \n",
       "7                                         3D   \n",
       "8                                         3D   \n",
       "9                                         3D   \n",
       "10                                        3D   \n",
       "11                                        3D   \n",
       "\n",
       "   diagnostics_Image-original_Spacing  ...  \\\n",
       "0                     (1.0, 1.0, 1.0)  ...   \n",
       "1                     (1.0, 1.0, 1.0)  ...   \n",
       "2                     (1.0, 1.0, 1.0)  ...   \n",
       "3                     (1.0, 1.0, 1.0)  ...   \n",
       "4                     (1.0, 1.0, 1.0)  ...   \n",
       "5                     (1.0, 1.0, 1.0)  ...   \n",
       "6                     (1.0, 1.0, 1.0)  ...   \n",
       "7                     (1.0, 1.0, 1.0)  ...   \n",
       "8                     (1.0, 1.0, 1.0)  ...   \n",
       "9                     (1.0, 1.0, 1.0)  ...   \n",
       "10                    (1.0, 1.0, 1.0)  ...   \n",
       "11                    (1.0, 1.0, 1.0)  ...   \n",
       "\n",
       "   original_gldm_HighGrayLevelEmphasis original_gldm_LargeDependenceEmphasis  \\\n",
       "0                              593.625                                   1.0   \n",
       "1                               1028.0                                   1.0   \n",
       "2                                758.5                                   1.0   \n",
       "3                               717.75                                   1.0   \n",
       "4                                839.0                                   1.0   \n",
       "5                    743.4615384615385                    1.4615384615384615   \n",
       "6                               1015.0                                   1.0   \n",
       "7                    993.8888888888889                                   1.0   \n",
       "8                                587.0                                   2.0   \n",
       "9                    845.6666666666666                                   1.0   \n",
       "10                               971.4                                   1.0   \n",
       "11                               867.0                                   1.0   \n",
       "\n",
       "   original_gldm_LargeDependenceHighGrayLevelEmphasis  \\\n",
       "0                                             593.625   \n",
       "1                                              1028.0   \n",
       "2                                               758.5   \n",
       "3                                              717.75   \n",
       "4                                               839.0   \n",
       "5                                   847.3076923076923   \n",
       "6                                              1015.0   \n",
       "7                                   993.8888888888889   \n",
       "8                                               987.0   \n",
       "9                                   845.6666666666666   \n",
       "10                                              971.4   \n",
       "11                                              867.0   \n",
       "\n",
       "   original_gldm_LargeDependenceLowGrayLevelEmphasis  \\\n",
       "0                                0.13680966075909884   \n",
       "1                                0.16857082832493842   \n",
       "2                                 0.3130725897920605   \n",
       "3                                 0.2540514716562006   \n",
       "4                                             0.3543   \n",
       "5                                0.08350290811677429   \n",
       "6                                  0.200900021859798   \n",
       "7                                0.11362393117700129   \n",
       "8                                0.17758367346938775   \n",
       "9                                 0.3427259259259259   \n",
       "10                                0.2009947663503724   \n",
       "11                                            0.3368   \n",
       "\n",
       "   original_gldm_LowGrayLevelEmphasis original_gldm_SmallDependenceEmphasis  \\\n",
       "0                 0.13680966075909884                                   1.0   \n",
       "1                 0.16857082832493842                                   1.0   \n",
       "2                  0.3130725897920605                                   1.0   \n",
       "3                  0.2540514716562006                                   1.0   \n",
       "4                              0.3543                                   1.0   \n",
       "5                 0.08145162606549225                    0.8846153846153846   \n",
       "6                   0.200900021859798                                   1.0   \n",
       "7                 0.11362393117700129                                   1.0   \n",
       "8                 0.17508367346938772                                  0.75   \n",
       "9                  0.3427259259259259                                   1.0   \n",
       "10                 0.2009947663503724                                   1.0   \n",
       "11                             0.3368                                   1.0   \n",
       "\n",
       "   original_gldm_SmallDependenceHighGrayLevelEmphasis  \\\n",
       "0                                             593.625   \n",
       "1                                              1028.0   \n",
       "2                                               758.5   \n",
       "3                                              717.75   \n",
       "4                                               839.0   \n",
       "5                                               717.5   \n",
       "6                                              1015.0   \n",
       "7                                   993.8888888888889   \n",
       "8                                               487.0   \n",
       "9                                   845.6666666666666   \n",
       "10                                              971.4   \n",
       "11                                              867.0   \n",
       "\n",
       "   original_gldm_SmallDependenceLowGrayLevelEmphasis  \\\n",
       "0                                0.13680966075909884   \n",
       "1                                0.16857082832493842   \n",
       "2                                 0.3130725897920605   \n",
       "3                                 0.2540514716562006   \n",
       "4                                             0.3543   \n",
       "5                                0.08093880555267172   \n",
       "6                                  0.200900021859798   \n",
       "7                                0.11362393117700129   \n",
       "8                                0.17445867346938773   \n",
       "9                                 0.3427259259259259   \n",
       "10                                0.2009947663503724   \n",
       "11                                            0.3368   \n",
       "\n",
       "                         Patient                   ROI  \n",
       "0    sub-101_masksub-101 lesion1   masksub-101 lesion1  \n",
       "1   sub-101_masksub-101 lesion10  masksub-101 lesion10  \n",
       "2   sub-101_masksub-101 lesion13  masksub-101 lesion13  \n",
       "3   sub-101_masksub-101 lesion16  masksub-101 lesion16  \n",
       "4   sub-101_masksub-101 lesion17  masksub-101 lesion17  \n",
       "5   sub-101_masksub-101 lesion19  masksub-101 lesion19  \n",
       "6    sub-101_masksub-101 lesion2   masksub-101 lesion2  \n",
       "7   sub-101_masksub-101 lesion20  masksub-101 lesion20  \n",
       "8   sub-101_masksub-101 lesion24  masksub-101 lesion24  \n",
       "9   sub-101_masksub-101 lesion25  masksub-101 lesion25  \n",
       "10  sub-101_masksub-101 lesion28  masksub-101 lesion28  \n",
       "11  sub-101_masksub-101 lesion29  masksub-101 lesion29  \n",
       "\n",
       "[12 rows x 124 columns]"
      ]
     },
     "execution_count": 16,
     "metadata": {},
     "output_type": "execute_result"
    }
   ],
   "source": [
    "features.head(12)"
   ]
  },
  {
   "cell_type": "code",
   "execution_count": 17,
   "id": "bbeff04c",
   "metadata": {},
   "outputs": [],
   "source": [
    "writer = pd.ExcelWriter(r'E:\\Internship Mass storage\\First 3 datasets\\VALDO dataset\\extracted_features.xlsx') \n",
    "features.to_excel(writer, 'Sheet1')\n",
    "writer.save()"
   ]
  },
  {
   "cell_type": "code",
   "execution_count": null,
   "id": "d67b83e7",
   "metadata": {},
   "outputs": [],
   "source": []
  }
 ],
 "metadata": {
  "kernelspec": {
   "display_name": "Python 3 (ipykernel)",
   "language": "python",
   "name": "python3"
  },
  "language_info": {
   "codemirror_mode": {
    "name": "ipython",
    "version": 3
   },
   "file_extension": ".py",
   "mimetype": "text/x-python",
   "name": "python",
   "nbconvert_exporter": "python",
   "pygments_lexer": "ipython3",
   "version": "3.9.7"
  }
 },
 "nbformat": 4,
 "nbformat_minor": 5
}
