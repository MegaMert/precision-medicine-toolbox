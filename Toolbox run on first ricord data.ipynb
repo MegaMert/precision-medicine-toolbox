{
 "cells": [
  {
   "cell_type": "code",
   "execution_count": 1,
   "id": "63ce90a2",
   "metadata": {},
   "outputs": [],
   "source": [
    "import os,sys\n",
    "from pmtool.ToolBox import ToolBox\n",
    "import pandas as pd\n",
    "from pandas import DataFrame\n",
    "import matplotlib.pyplot as plt\n",
    "import numpy as np\n",
    "import seaborn as sb\n",
    "\n",
    "%matplotlib inline"
   ]
  },
  {
   "cell_type": "code",
   "execution_count": 2,
   "id": "d0f12090",
   "metadata": {},
   "outputs": [
    {
     "name": "stderr",
     "output_type": "stream",
     "text": [
      "100%|██████████| 9/9 [00:00<00:00, 112.80it/s]\n"
     ]
    }
   ],
   "source": [
    "parameters = {'data_path': r'E:\\Internship Mass storage\\First 3 datasets\\Ricord-1a chest only\\Second run', # path to your DICOM data\n",
    "              'data_type': 'dcm', # original data format: DICOM\n",
    "              'multi_rts_per_pat': False,\n",
    "             'image_only' : True}   #needed to add image only because no mask in the original folder\n",
    "\n",
    "\n",
    "data_dcms = ToolBox(**parameters)"
   ]
  },
  {
   "cell_type": "code",
   "execution_count": 3,
   "id": "072d3c18",
   "metadata": {},
   "outputs": [
    {
     "name": "stderr",
     "output_type": "stream",
     "text": [
      "Patients processed: 100%|██████████| 9/9 [00:10<00:00,  1.13s/it]\n"
     ]
    },
    {
     "data": {
      "text/html": [
       "<div>\n",
       "<style scoped>\n",
       "    .dataframe tbody tr th:only-of-type {\n",
       "        vertical-align: middle;\n",
       "    }\n",
       "\n",
       "    .dataframe tbody tr th {\n",
       "        vertical-align: top;\n",
       "    }\n",
       "\n",
       "    .dataframe thead th {\n",
       "        text-align: right;\n",
       "    }\n",
       "</style>\n",
       "<table border=\"1\" class=\"dataframe\">\n",
       "  <thead>\n",
       "    <tr style=\"text-align: right;\">\n",
       "      <th></th>\n",
       "      <th>Modality</th>\n",
       "      <th>SliceThickness</th>\n",
       "      <th>PixelSpacing</th>\n",
       "      <th>SeriesDate</th>\n",
       "      <th>Manufacturer</th>\n",
       "      <th>patient</th>\n",
       "      <th>slice#</th>\n",
       "    </tr>\n",
       "  </thead>\n",
       "  <tbody>\n",
       "    <tr>\n",
       "      <th>0</th>\n",
       "      <td>CT</td>\n",
       "      <td>1.25</td>\n",
       "      <td>[0.740234, 0.740234]</td>\n",
       "      <td>20061205</td>\n",
       "      <td>NaN</td>\n",
       "      <td>2.000000-CHEST WITHOUT CONTRAST-83326-000421</td>\n",
       "      <td>0</td>\n",
       "    </tr>\n",
       "    <tr>\n",
       "      <th>1</th>\n",
       "      <td>CT</td>\n",
       "      <td>1.25</td>\n",
       "      <td>[0.740234, 0.740234]</td>\n",
       "      <td>20061205</td>\n",
       "      <td>NaN</td>\n",
       "      <td>2.000000-CHEST WITHOUT CONTRAST-83326-000421</td>\n",
       "      <td>1</td>\n",
       "    </tr>\n",
       "    <tr>\n",
       "      <th>2</th>\n",
       "      <td>CT</td>\n",
       "      <td>1.25</td>\n",
       "      <td>[0.740234, 0.740234]</td>\n",
       "      <td>20061205</td>\n",
       "      <td>NaN</td>\n",
       "      <td>2.000000-CHEST WITHOUT CONTRAST-83326-000421</td>\n",
       "      <td>2</td>\n",
       "    </tr>\n",
       "    <tr>\n",
       "      <th>3</th>\n",
       "      <td>CT</td>\n",
       "      <td>1.25</td>\n",
       "      <td>[0.740234, 0.740234]</td>\n",
       "      <td>20061205</td>\n",
       "      <td>NaN</td>\n",
       "      <td>2.000000-CHEST WITHOUT CONTRAST-83326-000421</td>\n",
       "      <td>3</td>\n",
       "    </tr>\n",
       "    <tr>\n",
       "      <th>4</th>\n",
       "      <td>CT</td>\n",
       "      <td>1.25</td>\n",
       "      <td>[0.740234, 0.740234]</td>\n",
       "      <td>20061205</td>\n",
       "      <td>NaN</td>\n",
       "      <td>2.000000-CHEST WITHOUT CONTRAST-83326-000421</td>\n",
       "      <td>4</td>\n",
       "    </tr>\n",
       "    <tr>\n",
       "      <th>5</th>\n",
       "      <td>CT</td>\n",
       "      <td>1.25</td>\n",
       "      <td>[0.740234, 0.740234]</td>\n",
       "      <td>20061205</td>\n",
       "      <td>NaN</td>\n",
       "      <td>2.000000-CHEST WITHOUT CONTRAST-83326-000421</td>\n",
       "      <td>5</td>\n",
       "    </tr>\n",
       "    <tr>\n",
       "      <th>6</th>\n",
       "      <td>CT</td>\n",
       "      <td>1.25</td>\n",
       "      <td>[0.740234, 0.740234]</td>\n",
       "      <td>20061205</td>\n",
       "      <td>NaN</td>\n",
       "      <td>2.000000-CHEST WITHOUT CONTRAST-83326-000421</td>\n",
       "      <td>6</td>\n",
       "    </tr>\n",
       "    <tr>\n",
       "      <th>7</th>\n",
       "      <td>CT</td>\n",
       "      <td>1.25</td>\n",
       "      <td>[0.740234, 0.740234]</td>\n",
       "      <td>20061205</td>\n",
       "      <td>NaN</td>\n",
       "      <td>2.000000-CHEST WITHOUT CONTRAST-83326-000421</td>\n",
       "      <td>7</td>\n",
       "    </tr>\n",
       "    <tr>\n",
       "      <th>8</th>\n",
       "      <td>CT</td>\n",
       "      <td>1.25</td>\n",
       "      <td>[0.740234, 0.740234]</td>\n",
       "      <td>20061205</td>\n",
       "      <td>NaN</td>\n",
       "      <td>2.000000-CHEST WITHOUT CONTRAST-83326-000421</td>\n",
       "      <td>8</td>\n",
       "    </tr>\n",
       "    <tr>\n",
       "      <th>9</th>\n",
       "      <td>CT</td>\n",
       "      <td>1.25</td>\n",
       "      <td>[0.740234, 0.740234]</td>\n",
       "      <td>20061205</td>\n",
       "      <td>NaN</td>\n",
       "      <td>2.000000-CHEST WITHOUT CONTRAST-83326-000421</td>\n",
       "      <td>9</td>\n",
       "    </tr>\n",
       "  </tbody>\n",
       "</table>\n",
       "</div>"
      ],
      "text/plain": [
       "  Modality  SliceThickness          PixelSpacing SeriesDate Manufacturer  \\\n",
       "0       CT            1.25  [0.740234, 0.740234]   20061205          NaN   \n",
       "1       CT            1.25  [0.740234, 0.740234]   20061205          NaN   \n",
       "2       CT            1.25  [0.740234, 0.740234]   20061205          NaN   \n",
       "3       CT            1.25  [0.740234, 0.740234]   20061205          NaN   \n",
       "4       CT            1.25  [0.740234, 0.740234]   20061205          NaN   \n",
       "5       CT            1.25  [0.740234, 0.740234]   20061205          NaN   \n",
       "6       CT            1.25  [0.740234, 0.740234]   20061205          NaN   \n",
       "7       CT            1.25  [0.740234, 0.740234]   20061205          NaN   \n",
       "8       CT            1.25  [0.740234, 0.740234]   20061205          NaN   \n",
       "9       CT            1.25  [0.740234, 0.740234]   20061205          NaN   \n",
       "\n",
       "                                        patient slice#  \n",
       "0  2.000000-CHEST WITHOUT CONTRAST-83326-000421      0  \n",
       "1  2.000000-CHEST WITHOUT CONTRAST-83326-000421      1  \n",
       "2  2.000000-CHEST WITHOUT CONTRAST-83326-000421      2  \n",
       "3  2.000000-CHEST WITHOUT CONTRAST-83326-000421      3  \n",
       "4  2.000000-CHEST WITHOUT CONTRAST-83326-000421      4  \n",
       "5  2.000000-CHEST WITHOUT CONTRAST-83326-000421      5  \n",
       "6  2.000000-CHEST WITHOUT CONTRAST-83326-000421      6  \n",
       "7  2.000000-CHEST WITHOUT CONTRAST-83326-000421      7  \n",
       "8  2.000000-CHEST WITHOUT CONTRAST-83326-000421      8  \n",
       "9  2.000000-CHEST WITHOUT CONTRAST-83326-000421      9  "
      ]
     },
     "execution_count": 3,
     "metadata": {},
     "output_type": "execute_result"
    }
   ],
   "source": [
    "dataset_description = data_dcms.get_dataset_description() \n",
    "dataset_description.head(10)"
   ]
  },
  {
   "cell_type": "code",
   "execution_count": 4,
   "id": "4ab66475",
   "metadata": {},
   "outputs": [
    {
     "name": "stdout",
     "output_type": "stream",
     "text": [
      "Unique modalities found:  CT\n"
     ]
    }
   ],
   "source": [
    "print('Unique modalities found: ', np.unique(dataset_description.Modality.values)[0])"
   ]
  },
  {
   "cell_type": "code",
   "execution_count": 5,
   "id": "b1790f2b",
   "metadata": {},
   "outputs": [
    {
     "name": "stderr",
     "output_type": "stream",
     "text": [
      "100%|██████████| 9/9 [00:00<00:00, 192.06it/s]\n",
      "Patients processed: 100%|██████████| 9/9 [00:12<00:00,  1.36s/it]\n"
     ]
    },
    {
     "data": {
      "text/html": [
       "<div>\n",
       "<style scoped>\n",
       "    .dataframe tbody tr th:only-of-type {\n",
       "        vertical-align: middle;\n",
       "    }\n",
       "\n",
       "    .dataframe tbody tr th {\n",
       "        vertical-align: top;\n",
       "    }\n",
       "\n",
       "    .dataframe thead th {\n",
       "        text-align: right;\n",
       "    }\n",
       "</style>\n",
       "<table border=\"1\" class=\"dataframe\">\n",
       "  <thead>\n",
       "    <tr style=\"text-align: right;\">\n",
       "      <th></th>\n",
       "      <th>PatientName</th>\n",
       "      <th>ConvolutionKernel</th>\n",
       "      <th>SliceThickness</th>\n",
       "      <th>PixelSpacing</th>\n",
       "      <th>KVP</th>\n",
       "      <th>Exposure</th>\n",
       "      <th>XRayTubeCurrent</th>\n",
       "      <th>SeriesDate</th>\n",
       "      <th>patient</th>\n",
       "      <th>slice#</th>\n",
       "    </tr>\n",
       "  </thead>\n",
       "  <tbody>\n",
       "    <tr>\n",
       "      <th>0</th>\n",
       "      <td>(M, I, D, R, C, -, R, I, C, O, R, D, -, 1, A, ...</td>\n",
       "      <td>STANDARD</td>\n",
       "      <td>1.25</td>\n",
       "      <td>[0.740234, 0.740234]</td>\n",
       "      <td>120.0</td>\n",
       "      <td>2</td>\n",
       "      <td>486</td>\n",
       "      <td>20061205</td>\n",
       "      <td>2.000000-CHEST WITHOUT CONTRAST-83326-000421</td>\n",
       "      <td>0</td>\n",
       "    </tr>\n",
       "    <tr>\n",
       "      <th>1</th>\n",
       "      <td>(M, I, D, R, C, -, R, I, C, O, R, D, -, 1, A, ...</td>\n",
       "      <td>STANDARD</td>\n",
       "      <td>1.25</td>\n",
       "      <td>[0.740234, 0.740234]</td>\n",
       "      <td>120.0</td>\n",
       "      <td>2</td>\n",
       "      <td>486</td>\n",
       "      <td>20061205</td>\n",
       "      <td>2.000000-CHEST WITHOUT CONTRAST-83326-000421</td>\n",
       "      <td>1</td>\n",
       "    </tr>\n",
       "    <tr>\n",
       "      <th>2</th>\n",
       "      <td>(M, I, D, R, C, -, R, I, C, O, R, D, -, 1, A, ...</td>\n",
       "      <td>STANDARD</td>\n",
       "      <td>1.25</td>\n",
       "      <td>[0.740234, 0.740234]</td>\n",
       "      <td>120.0</td>\n",
       "      <td>2</td>\n",
       "      <td>486</td>\n",
       "      <td>20061205</td>\n",
       "      <td>2.000000-CHEST WITHOUT CONTRAST-83326-000421</td>\n",
       "      <td>2</td>\n",
       "    </tr>\n",
       "    <tr>\n",
       "      <th>3</th>\n",
       "      <td>(M, I, D, R, C, -, R, I, C, O, R, D, -, 1, A, ...</td>\n",
       "      <td>STANDARD</td>\n",
       "      <td>1.25</td>\n",
       "      <td>[0.740234, 0.740234]</td>\n",
       "      <td>120.0</td>\n",
       "      <td>2</td>\n",
       "      <td>486</td>\n",
       "      <td>20061205</td>\n",
       "      <td>2.000000-CHEST WITHOUT CONTRAST-83326-000421</td>\n",
       "      <td>3</td>\n",
       "    </tr>\n",
       "    <tr>\n",
       "      <th>4</th>\n",
       "      <td>(M, I, D, R, C, -, R, I, C, O, R, D, -, 1, A, ...</td>\n",
       "      <td>STANDARD</td>\n",
       "      <td>1.25</td>\n",
       "      <td>[0.740234, 0.740234]</td>\n",
       "      <td>120.0</td>\n",
       "      <td>2</td>\n",
       "      <td>486</td>\n",
       "      <td>20061205</td>\n",
       "      <td>2.000000-CHEST WITHOUT CONTRAST-83326-000421</td>\n",
       "      <td>4</td>\n",
       "    </tr>\n",
       "    <tr>\n",
       "      <th>5</th>\n",
       "      <td>(M, I, D, R, C, -, R, I, C, O, R, D, -, 1, A, ...</td>\n",
       "      <td>STANDARD</td>\n",
       "      <td>1.25</td>\n",
       "      <td>[0.740234, 0.740234]</td>\n",
       "      <td>120.0</td>\n",
       "      <td>2</td>\n",
       "      <td>486</td>\n",
       "      <td>20061205</td>\n",
       "      <td>2.000000-CHEST WITHOUT CONTRAST-83326-000421</td>\n",
       "      <td>5</td>\n",
       "    </tr>\n",
       "    <tr>\n",
       "      <th>6</th>\n",
       "      <td>(M, I, D, R, C, -, R, I, C, O, R, D, -, 1, A, ...</td>\n",
       "      <td>STANDARD</td>\n",
       "      <td>1.25</td>\n",
       "      <td>[0.740234, 0.740234]</td>\n",
       "      <td>120.0</td>\n",
       "      <td>2</td>\n",
       "      <td>486</td>\n",
       "      <td>20061205</td>\n",
       "      <td>2.000000-CHEST WITHOUT CONTRAST-83326-000421</td>\n",
       "      <td>6</td>\n",
       "    </tr>\n",
       "    <tr>\n",
       "      <th>7</th>\n",
       "      <td>(M, I, D, R, C, -, R, I, C, O, R, D, -, 1, A, ...</td>\n",
       "      <td>STANDARD</td>\n",
       "      <td>1.25</td>\n",
       "      <td>[0.740234, 0.740234]</td>\n",
       "      <td>120.0</td>\n",
       "      <td>2</td>\n",
       "      <td>486</td>\n",
       "      <td>20061205</td>\n",
       "      <td>2.000000-CHEST WITHOUT CONTRAST-83326-000421</td>\n",
       "      <td>7</td>\n",
       "    </tr>\n",
       "    <tr>\n",
       "      <th>8</th>\n",
       "      <td>(M, I, D, R, C, -, R, I, C, O, R, D, -, 1, A, ...</td>\n",
       "      <td>STANDARD</td>\n",
       "      <td>1.25</td>\n",
       "      <td>[0.740234, 0.740234]</td>\n",
       "      <td>120.0</td>\n",
       "      <td>2</td>\n",
       "      <td>486</td>\n",
       "      <td>20061205</td>\n",
       "      <td>2.000000-CHEST WITHOUT CONTRAST-83326-000421</td>\n",
       "      <td>8</td>\n",
       "    </tr>\n",
       "    <tr>\n",
       "      <th>9</th>\n",
       "      <td>(M, I, D, R, C, -, R, I, C, O, R, D, -, 1, A, ...</td>\n",
       "      <td>STANDARD</td>\n",
       "      <td>1.25</td>\n",
       "      <td>[0.740234, 0.740234]</td>\n",
       "      <td>120.0</td>\n",
       "      <td>2</td>\n",
       "      <td>486</td>\n",
       "      <td>20061205</td>\n",
       "      <td>2.000000-CHEST WITHOUT CONTRAST-83326-000421</td>\n",
       "      <td>9</td>\n",
       "    </tr>\n",
       "  </tbody>\n",
       "</table>\n",
       "</div>"
      ],
      "text/plain": [
       "                                         PatientName ConvolutionKernel  \\\n",
       "0  (M, I, D, R, C, -, R, I, C, O, R, D, -, 1, A, ...          STANDARD   \n",
       "1  (M, I, D, R, C, -, R, I, C, O, R, D, -, 1, A, ...          STANDARD   \n",
       "2  (M, I, D, R, C, -, R, I, C, O, R, D, -, 1, A, ...          STANDARD   \n",
       "3  (M, I, D, R, C, -, R, I, C, O, R, D, -, 1, A, ...          STANDARD   \n",
       "4  (M, I, D, R, C, -, R, I, C, O, R, D, -, 1, A, ...          STANDARD   \n",
       "5  (M, I, D, R, C, -, R, I, C, O, R, D, -, 1, A, ...          STANDARD   \n",
       "6  (M, I, D, R, C, -, R, I, C, O, R, D, -, 1, A, ...          STANDARD   \n",
       "7  (M, I, D, R, C, -, R, I, C, O, R, D, -, 1, A, ...          STANDARD   \n",
       "8  (M, I, D, R, C, -, R, I, C, O, R, D, -, 1, A, ...          STANDARD   \n",
       "9  (M, I, D, R, C, -, R, I, C, O, R, D, -, 1, A, ...          STANDARD   \n",
       "\n",
       "   SliceThickness          PixelSpacing    KVP Exposure XRayTubeCurrent  \\\n",
       "0            1.25  [0.740234, 0.740234]  120.0        2             486   \n",
       "1            1.25  [0.740234, 0.740234]  120.0        2             486   \n",
       "2            1.25  [0.740234, 0.740234]  120.0        2             486   \n",
       "3            1.25  [0.740234, 0.740234]  120.0        2             486   \n",
       "4            1.25  [0.740234, 0.740234]  120.0        2             486   \n",
       "5            1.25  [0.740234, 0.740234]  120.0        2             486   \n",
       "6            1.25  [0.740234, 0.740234]  120.0        2             486   \n",
       "7            1.25  [0.740234, 0.740234]  120.0        2             486   \n",
       "8            1.25  [0.740234, 0.740234]  120.0        2             486   \n",
       "9            1.25  [0.740234, 0.740234]  120.0        2             486   \n",
       "\n",
       "  SeriesDate                                       patient slice#  \n",
       "0   20061205  2.000000-CHEST WITHOUT CONTRAST-83326-000421      0  \n",
       "1   20061205  2.000000-CHEST WITHOUT CONTRAST-83326-000421      1  \n",
       "2   20061205  2.000000-CHEST WITHOUT CONTRAST-83326-000421      2  \n",
       "3   20061205  2.000000-CHEST WITHOUT CONTRAST-83326-000421      3  \n",
       "4   20061205  2.000000-CHEST WITHOUT CONTRAST-83326-000421      4  \n",
       "5   20061205  2.000000-CHEST WITHOUT CONTRAST-83326-000421      5  \n",
       "6   20061205  2.000000-CHEST WITHOUT CONTRAST-83326-000421      6  \n",
       "7   20061205  2.000000-CHEST WITHOUT CONTRAST-83326-000421      7  \n",
       "8   20061205  2.000000-CHEST WITHOUT CONTRAST-83326-000421      8  \n",
       "9   20061205  2.000000-CHEST WITHOUT CONTRAST-83326-000421      9  "
      ]
     },
     "execution_count": 5,
     "metadata": {},
     "output_type": "execute_result"
    }
   ],
   "source": [
    "CT_dcms = ToolBox(**parameters)\n",
    "dataset_description = CT_dcms.get_dataset_description('CT') \n",
    "dataset_description.head(10)"
   ]
  },
  {
   "cell_type": "code",
   "execution_count": 6,
   "id": "49121f98",
   "metadata": {},
   "outputs": [
    {
     "data": {
      "image/png": "[encoded data removed]",
      "text/plain": [
       "<Figure size 1800x1080 with 6 Axes>"
      ]
     },
     "metadata": {},
     "output_type": "display_data"
    }
   ],
   "source": [
    "sb.set(context='poster', style='whitegrid')\n",
    "\n",
    "study_date = sorted([ 'Nan' if x=='' or x=='NaN' else str(x[0:4]) for x in list(dataset_description['SeriesDate'])])[2:]\n",
    "conv_kernel =['Nan' if x=='' or x=='NaN' else x for x in list(dataset_description['ConvolutionKernel'])]\n",
    "tube_current =[-1 if x=='' or x=='NaN' else x for x in list(dataset_description['XRayTubeCurrent'])]\n",
    "exposure =[-1 if x=='' or x=='NaN' else x for x in list(dataset_description['Exposure'])]\n",
    "ps = sorted([(x[0]) for x in list(filter(lambda x: x != 'NaN', dataset_description['PixelSpacing'].values))])\n",
    "sl_th = sorted([str(x)[0:3] for x in list(filter(lambda x: x != 'NaN', dataset_description['SliceThickness'].values))])\n",
    "figures,descriptions = [study_date,conv_kernel,tube_current,exposure,ps,sl_th],['Study Date','Conv Kernel','Tube Current','Exposure','Pixel spacing','Slice Thickness']\n",
    "\n",
    "fig,ax = plt.subplots(2,3,figsize=(25,15))\n",
    "for i in range(2):\n",
    "    for j in range(3):\n",
    "        ax[i,j].hist(figures.pop(0),alpha=0.7)\n",
    "        ax[i,j].set_title(descriptions.pop(0),fontsize=20)"
   ]
  },
  {
   "cell_type": "code",
   "execution_count": 7,
   "id": "ef903443",
   "metadata": {},
   "outputs": [],
   "source": [
    "qc_params = {'specific_modality': 'CT', # target modality: CT\n",
    "            'thickness_range': [1,2], # slice thickness should be in range of 2..5 mm (changed to 1-2 for this set)\n",
    "            'spacing_range': [0.5,1.25], # pixel spacing should be in range of 0.5..1.25 mm\n",
    "            'scan_length_range': [5,170], # scan should contain from 5 to 170 slices\n",
    "            'axial_res': [512,512], # the axial resolution should be 512x512\n",
    "            'kernels_list': ['standard','lung','b19f']} # the following kernels are acceptable"
   ]
  },
  {
   "cell_type": "code",
   "execution_count": 8,
   "id": "e9a60b89",
   "metadata": {},
   "outputs": [
    {
     "name": "stderr",
     "output_type": "stream",
     "text": [
      "  0%|          | 0/9 [00:00<?, ?it/s]C:\\Users\\MegaMert\\Documents\\GitHub\\precision-medicine-toolbox\\pmtool\\ToolBox.py:575: UserWarning: Problems occured with rescaling intensities\n",
      "  warn('Problems occured with rescaling intensities')\n",
      " 11%|█         | 1/9 [00:00<00:04,  1.63it/s]"
     ]
    },
    {
     "name": "stdout",
     "output_type": "stream",
     "text": [
      "Cannot perform Intercept/slope and image shape check for pat: 2.000000-CHEST WITHOUT CONTRAST-83326-000421\n"
     ]
    },
    {
     "name": "stderr",
     "output_type": "stream",
     "text": [
      "\r",
      " 22%|██▏       | 2/9 [00:01<00:03,  1.85it/s]"
     ]
    },
    {
     "name": "stdout",
     "output_type": "stream",
     "text": [
      "Cannot perform Intercept/slope and image shape check for pat: 2.000000-ROUTINE CHEST NON-CON-43277-001085\n"
     ]
    },
    {
     "name": "stderr",
     "output_type": "stream",
     "text": [
      "\r",
      " 33%|███▎      | 3/9 [00:01<00:03,  1.90it/s]"
     ]
    },
    {
     "name": "stdout",
     "output_type": "stream",
     "text": [
      "Cannot perform Intercept/slope and image shape check for pat: 2.000000-ROUTINE CHEST NON-CON-46543-000906\n"
     ]
    },
    {
     "name": "stderr",
     "output_type": "stream",
     "text": [
      "\r",
      " 44%|████▍     | 4/9 [00:02<00:02,  1.91it/s]"
     ]
    },
    {
     "name": "stdout",
     "output_type": "stream",
     "text": [
      "Cannot perform Intercept/slope and image shape check for pat: 2.000000-ROUTINE CHEST NON-CON-49312-001012\n"
     ]
    },
    {
     "name": "stderr",
     "output_type": "stream",
     "text": [
      "\r",
      " 56%|█████▌    | 5/9 [00:02<00:01,  2.05it/s]"
     ]
    },
    {
     "name": "stdout",
     "output_type": "stream",
     "text": [
      "Cannot perform Intercept/slope and image shape check for pat: 2.000000-ROUTINE CHEST NON-CON-50599-000361\n"
     ]
    },
    {
     "name": "stderr",
     "output_type": "stream",
     "text": [
      "\r",
      " 67%|██████▋   | 6/9 [00:03<00:01,  2.05it/s]"
     ]
    },
    {
     "name": "stdout",
     "output_type": "stream",
     "text": [
      "Cannot perform Intercept/slope and image shape check for pat: 2.000000-ROUTINE CHEST NON-CON-70218-000800\n"
     ]
    },
    {
     "name": "stderr",
     "output_type": "stream",
     "text": [
      "\r",
      " 78%|███████▊  | 7/9 [00:03<00:01,  1.93it/s]"
     ]
    },
    {
     "name": "stdout",
     "output_type": "stream",
     "text": [
      "Cannot perform Intercept/slope and image shape check for pat: 2.000000-ROUTINE CHEST NON-CON-97100-000082\n"
     ]
    },
    {
     "name": "stderr",
     "output_type": "stream",
     "text": [
      "\r",
      " 89%|████████▉ | 8/9 [00:04<00:00,  2.02it/s]"
     ]
    },
    {
     "name": "stdout",
     "output_type": "stream",
     "text": [
      "Cannot perform Intercept/slope and image shape check for pat: 2.000000-ROUTINE CHEST NON-CON-97464-001446\n"
     ]
    },
    {
     "name": "stderr",
     "output_type": "stream",
     "text": [
      "100%|██████████| 9/9 [00:04<00:00,  1.97it/s]"
     ]
    },
    {
     "name": "stdout",
     "output_type": "stream",
     "text": [
      "Cannot perform Intercept/slope and image shape check for pat: 302.000000-chest-13428-001596\n"
     ]
    },
    {
     "name": "stderr",
     "output_type": "stream",
     "text": [
      "\n"
     ]
    }
   ],
   "source": [
    "qc_dataframe = CT_dcms.get_quality_checks(qc_params)"
   ]
  },
  {
   "cell_type": "code",
   "execution_count": 9,
   "id": "d18b31c8",
   "metadata": {},
   "outputs": [
    {
     "data": {
      "text/html": [
       "<div>\n",
       "<style scoped>\n",
       "    .dataframe tbody tr th:only-of-type {\n",
       "        vertical-align: middle;\n",
       "    }\n",
       "\n",
       "    .dataframe tbody tr th {\n",
       "        vertical-align: top;\n",
       "    }\n",
       "\n",
       "    .dataframe thead th {\n",
       "        text-align: right;\n",
       "    }\n",
       "</style>\n",
       "<table border=\"1\" class=\"dataframe\">\n",
       "  <thead>\n",
       "    <tr style=\"text-align: right;\">\n",
       "      <th></th>\n",
       "      <th>Patient id</th>\n",
       "      <th>Modality is acceptable</th>\n",
       "      <th>Projection is axial</th>\n",
       "      <th>Complete scan (no missing/overlapping slices)</th>\n",
       "      <th>Scan len is in range</th>\n",
       "      <th>Slice thickness is in range</th>\n",
       "      <th>Slice thickness is consistent</th>\n",
       "      <th>Pixel spacing is in range</th>\n",
       "      <th>Convolutional kernel tag is present</th>\n",
       "      <th>Convolutional kernel is acceptable</th>\n",
       "      <th>Axial pr. resolution is acceptable</th>\n",
       "      <th>Intensity intercept/slope tags are present</th>\n",
       "    </tr>\n",
       "  </thead>\n",
       "  <tbody>\n",
       "    <tr>\n",
       "      <th>0</th>\n",
       "      <td>2.000000-CHEST WITHOUT CONTRAST-83326-000421</td>\n",
       "      <td>1</td>\n",
       "      <td>1</td>\n",
       "      <td>0</td>\n",
       "      <td>0</td>\n",
       "      <td>1</td>\n",
       "      <td>1</td>\n",
       "      <td>1</td>\n",
       "      <td>1</td>\n",
       "      <td>1</td>\n",
       "      <td>NaN</td>\n",
       "      <td>NaN</td>\n",
       "    </tr>\n",
       "    <tr>\n",
       "      <th>1</th>\n",
       "      <td>2.000000-ROUTINE CHEST NON-CON-43277-001085</td>\n",
       "      <td>1</td>\n",
       "      <td>1</td>\n",
       "      <td>0</td>\n",
       "      <td>0</td>\n",
       "      <td>1</td>\n",
       "      <td>1</td>\n",
       "      <td>1</td>\n",
       "      <td>1</td>\n",
       "      <td>1</td>\n",
       "      <td>NaN</td>\n",
       "      <td>NaN</td>\n",
       "    </tr>\n",
       "    <tr>\n",
       "      <th>2</th>\n",
       "      <td>2.000000-ROUTINE CHEST NON-CON-46543-000906</td>\n",
       "      <td>1</td>\n",
       "      <td>1</td>\n",
       "      <td>0</td>\n",
       "      <td>0</td>\n",
       "      <td>1</td>\n",
       "      <td>1</td>\n",
       "      <td>1</td>\n",
       "      <td>1</td>\n",
       "      <td>1</td>\n",
       "      <td>NaN</td>\n",
       "      <td>NaN</td>\n",
       "    </tr>\n",
       "    <tr>\n",
       "      <th>3</th>\n",
       "      <td>2.000000-ROUTINE CHEST NON-CON-49312-001012</td>\n",
       "      <td>1</td>\n",
       "      <td>1</td>\n",
       "      <td>0</td>\n",
       "      <td>0</td>\n",
       "      <td>1</td>\n",
       "      <td>1</td>\n",
       "      <td>1</td>\n",
       "      <td>1</td>\n",
       "      <td>1</td>\n",
       "      <td>NaN</td>\n",
       "      <td>NaN</td>\n",
       "    </tr>\n",
       "    <tr>\n",
       "      <th>4</th>\n",
       "      <td>2.000000-ROUTINE CHEST NON-CON-50599-000361</td>\n",
       "      <td>1</td>\n",
       "      <td>1</td>\n",
       "      <td>0</td>\n",
       "      <td>0</td>\n",
       "      <td>1</td>\n",
       "      <td>1</td>\n",
       "      <td>1</td>\n",
       "      <td>1</td>\n",
       "      <td>1</td>\n",
       "      <td>NaN</td>\n",
       "      <td>NaN</td>\n",
       "    </tr>\n",
       "    <tr>\n",
       "      <th>5</th>\n",
       "      <td>2.000000-ROUTINE CHEST NON-CON-70218-000800</td>\n",
       "      <td>1</td>\n",
       "      <td>1</td>\n",
       "      <td>0</td>\n",
       "      <td>0</td>\n",
       "      <td>1</td>\n",
       "      <td>1</td>\n",
       "      <td>1</td>\n",
       "      <td>1</td>\n",
       "      <td>1</td>\n",
       "      <td>NaN</td>\n",
       "      <td>NaN</td>\n",
       "    </tr>\n",
       "    <tr>\n",
       "      <th>6</th>\n",
       "      <td>2.000000-ROUTINE CHEST NON-CON-97100-000082</td>\n",
       "      <td>1</td>\n",
       "      <td>1</td>\n",
       "      <td>0</td>\n",
       "      <td>0</td>\n",
       "      <td>1</td>\n",
       "      <td>1</td>\n",
       "      <td>1</td>\n",
       "      <td>1</td>\n",
       "      <td>1</td>\n",
       "      <td>NaN</td>\n",
       "      <td>NaN</td>\n",
       "    </tr>\n",
       "    <tr>\n",
       "      <th>7</th>\n",
       "      <td>2.000000-ROUTINE CHEST NON-CON-97464-001446</td>\n",
       "      <td>1</td>\n",
       "      <td>1</td>\n",
       "      <td>0</td>\n",
       "      <td>0</td>\n",
       "      <td>1</td>\n",
       "      <td>1</td>\n",
       "      <td>1</td>\n",
       "      <td>1</td>\n",
       "      <td>1</td>\n",
       "      <td>NaN</td>\n",
       "      <td>NaN</td>\n",
       "    </tr>\n",
       "    <tr>\n",
       "      <th>8</th>\n",
       "      <td>302.000000-chest-13428-001596</td>\n",
       "      <td>1</td>\n",
       "      <td>1</td>\n",
       "      <td>0</td>\n",
       "      <td>0</td>\n",
       "      <td>1</td>\n",
       "      <td>1</td>\n",
       "      <td>1</td>\n",
       "      <td>1</td>\n",
       "      <td>1</td>\n",
       "      <td>NaN</td>\n",
       "      <td>NaN</td>\n",
       "    </tr>\n",
       "  </tbody>\n",
       "</table>\n",
       "</div>"
      ],
      "text/plain": [
       "                                     Patient id Modality is acceptable  \\\n",
       "0  2.000000-CHEST WITHOUT CONTRAST-83326-000421                      1   \n",
       "1   2.000000-ROUTINE CHEST NON-CON-43277-001085                      1   \n",
       "2   2.000000-ROUTINE CHEST NON-CON-46543-000906                      1   \n",
       "3   2.000000-ROUTINE CHEST NON-CON-49312-001012                      1   \n",
       "4   2.000000-ROUTINE CHEST NON-CON-50599-000361                      1   \n",
       "5   2.000000-ROUTINE CHEST NON-CON-70218-000800                      1   \n",
       "6   2.000000-ROUTINE CHEST NON-CON-97100-000082                      1   \n",
       "7   2.000000-ROUTINE CHEST NON-CON-97464-001446                      1   \n",
       "8                 302.000000-chest-13428-001596                      1   \n",
       "\n",
       "  Projection is axial Complete scan (no missing/overlapping slices)  \\\n",
       "0                   1                                             0   \n",
       "1                   1                                             0   \n",
       "2                   1                                             0   \n",
       "3                   1                                             0   \n",
       "4                   1                                             0   \n",
       "5                   1                                             0   \n",
       "6                   1                                             0   \n",
       "7                   1                                             0   \n",
       "8                   1                                             0   \n",
       "\n",
       "  Scan len is in range Slice thickness is in range  \\\n",
       "0                    0                           1   \n",
       "1                    0                           1   \n",
       "2                    0                           1   \n",
       "3                    0                           1   \n",
       "4                    0                           1   \n",
       "5                    0                           1   \n",
       "6                    0                           1   \n",
       "7                    0                           1   \n",
       "8                    0                           1   \n",
       "\n",
       "  Slice thickness is consistent Pixel spacing is in range  \\\n",
       "0                             1                         1   \n",
       "1                             1                         1   \n",
       "2                             1                         1   \n",
       "3                             1                         1   \n",
       "4                             1                         1   \n",
       "5                             1                         1   \n",
       "6                             1                         1   \n",
       "7                             1                         1   \n",
       "8                             1                         1   \n",
       "\n",
       "  Convolutional kernel tag is present Convolutional kernel is acceptable  \\\n",
       "0                                   1                                  1   \n",
       "1                                   1                                  1   \n",
       "2                                   1                                  1   \n",
       "3                                   1                                  1   \n",
       "4                                   1                                  1   \n",
       "5                                   1                                  1   \n",
       "6                                   1                                  1   \n",
       "7                                   1                                  1   \n",
       "8                                   1                                  1   \n",
       "\n",
       "  Axial pr. resolution is acceptable  \\\n",
       "0                                NaN   \n",
       "1                                NaN   \n",
       "2                                NaN   \n",
       "3                                NaN   \n",
       "4                                NaN   \n",
       "5                                NaN   \n",
       "6                                NaN   \n",
       "7                                NaN   \n",
       "8                                NaN   \n",
       "\n",
       "  Intensity intercept/slope tags are present  \n",
       "0                                        NaN  \n",
       "1                                        NaN  \n",
       "2                                        NaN  \n",
       "3                                        NaN  \n",
       "4                                        NaN  \n",
       "5                                        NaN  \n",
       "6                                        NaN  \n",
       "7                                        NaN  \n",
       "8                                        NaN  "
      ]
     },
     "execution_count": 9,
     "metadata": {},
     "output_type": "execute_result"
    }
   ],
   "source": [
    "qc_dataframe"
   ]
  },
  {
   "cell_type": "code",
   "execution_count": 10,
   "id": "832d7cd1",
   "metadata": {},
   "outputs": [
    {
     "name": "stderr",
     "output_type": "stream",
     "text": [
      "100%|██████████| 9/9 [00:00<00:00, 237.48it/s]\n"
     ]
    }
   ],
   "source": [
    "export_path = r'E:\\Internship Mass storage\\First 3 datasets\\Ricord-1a chest only\\Converted First run'\n",
    "region_of_interest = 'all'\n",
    "data_ct = ToolBox(**parameters) \n"
   ]
  },
  {
   "cell_type": "code",
   "execution_count": 11,
   "id": "a891798c",
   "metadata": {},
   "outputs": [],
   "source": [
    "import pydicom\n",
    "\n",
    "img_dcm = pydicom.dcmread(r\"E:\\Internship Mass storage\\First 3 datasets\\Ricord-1a chest only\\First run\\MIDRC-RICORD-1A-419639-000082\\2.000000-ROUTINE CHEST NON-CON-97100\\1-004.dcm\")"
   ]
  },
  {
   "cell_type": "code",
   "execution_count": 12,
   "id": "0d9caf9c",
   "metadata": {},
   "outputs": [
    {
     "data": {
      "text/plain": [
       "array([[-2000, -2000, -2000, ..., -2000, -2000, -2000],\n",
       "       [-2000, -2000, -2000, ..., -2000, -2000, -2000],\n",
       "       [-2000, -2000, -2000, ..., -2000, -2000, -2000],\n",
       "       ...,\n",
       "       [-2000, -2000, -2000, ..., -2000, -2000, -2000],\n",
       "       [-2000, -2000, -2000, ..., -2000, -2000, -2000],\n",
       "       [-2000, -2000, -2000, ..., -2000, -2000, -2000]], dtype=int16)"
      ]
     },
     "execution_count": 12,
     "metadata": {},
     "output_type": "execute_result"
    }
   ],
   "source": [
    "img_dcm.pixel_array"
   ]
  },
  {
   "cell_type": "code",
   "execution_count": 13,
   "id": "a72192a4",
   "metadata": {
    "scrolled": false
   },
   "outputs": [
    {
     "name": "stdout",
     "output_type": "stream",
     "text": [
      "Dataset.file_meta -------------------------------\n",
      "(0002, 0000) File Meta Information Group Length  UL: 208\n",
      "(0002, 0001) File Meta Information Version       OB: b'\\x00\\x01'\n",
      "(0002, 0002) Media Storage SOP Class UID         UI: CT Image Storage\n",
      "(0002, 0003) Media Storage SOP Instance UID      UI: 1.2.826.0.1.3680043.10.474.419639.725969361775727502450095924067\n",
      "(0002, 0010) Transfer Syntax UID                 UI: JPEG Lossless, Non-Hierarchical, First-Order Prediction (Process 14 [Selection Value 1])\n",
      "(0002, 0012) Implementation Class UID            UI: 1.3.6.1.4.1.22213.1.143\n",
      "(0002, 0013) Implementation Version Name         SH: '0.5'\n",
      "(0002, 0016) Source Application Entity Title     AE: 'POSDA'\n",
      "-------------------------------------------------\n",
      "(0008, 0005) Specific Character Set              CS: 'ISO_IR 100'\n",
      "(0008, 0008) Image Type                          CS: ['ORIGINAL', 'PRIMARY', 'AXIAL']\n",
      "(0008, 0016) SOP Class UID                       UI: CT Image Storage\n",
      "(0008, 0018) SOP Instance UID                    UI: 1.2.826.0.1.3680043.10.474.419639.725969361775727502450095924067\n",
      "(0008, 0020) Study Date                          DA: '20020802'\n",
      "(0008, 0021) Series Date                         DA: '20020802'\n",
      "(0008, 0022) Acquisition Date                    DA: '20020802'\n",
      "(0008, 0023) Content Date                        DA: '20020802'\n",
      "(0008, 0030) Study Time                          TM: '004259.000000'\n",
      "(0008, 0031) Series Time                         TM: '004405'\n",
      "(0008, 0032) Acquisition Time                    TM: '004424.978760'\n",
      "(0008, 0033) Content Time                        TM: '004428'\n",
      "(0008, 0050) Accession Number                    SH: ''\n",
      "(0008, 0060) Modality                            CS: 'CT'\n",
      "(0008, 0070) Manufacturer                        LO: ''\n",
      "(0008, 0090) Referring Physician's Name          PN: ''\n",
      "(0008, 1030) Study Description                   LO: 'CT CHEST WITHOUT CONTRAST'\n",
      "(0008, 103e) Series Description                  LO: 'ROUTINE CHEST NON-CON'\n",
      "(0010, 0010) Patient's Name                      PN: 'MIDRC-RICORD-1A-419639-000082'\n",
      "(0010, 0020) Patient ID                          LO: 'MIDRC-RICORD-1A-419639-000082'\n",
      "(0010, 0030) Patient's Birth Date                DA: ''\n",
      "(0010, 0040) Patient's Sex                       CS: 'F'\n",
      "(0010, 1010) Patient's Age                       AS: '085Y'\n",
      "(0012, 0063) De-identification Method            LO: 'RSNA Covid-19 Dataset Default'\n",
      "(0012, 0064)  De-identification Method Code Sequence  4 item(s) ---- \n",
      "   (0008, 0100) Code Value                          SH: '113100'\n",
      "   (0008, 0102) Coding Scheme Designator            SH: 'DCM'\n",
      "   (0008, 0104) Code Meaning                        LO: 'Basic Application Confidentiality Profile'\n",
      "   ---------\n",
      "   (0008, 0100) Code Value                          SH: '113107'\n",
      "   (0008, 0102) Coding Scheme Designator            SH: 'DCM'\n",
      "   (0008, 0104) Code Meaning                        LO: 'Retain Longitudinal Temporal Information Modified Dates Option'\n",
      "   ---------\n",
      "   (0008, 0100) Code Value                          SH: '113108'\n",
      "   (0008, 0102) Coding Scheme Designator            SH: 'DCM'\n",
      "   (0008, 0104) Code Meaning                        LO: 'Retain Patient Characteristics Option'\n",
      "   ---------\n",
      "   (0008, 0100) Code Value                          SH: '113109'\n",
      "   (0008, 0102) Coding Scheme Designator            SH: 'DCM'\n",
      "   (0008, 0104) Code Meaning                        LO: 'Retain Device Identity Option'\n",
      "   ---------\n",
      "(0013, 0010) Private Creator                     LO: 'CTP'\n",
      "(0013, 1010) Private tag data                    LO: 'MIDRC-RICORD-1A'\n",
      "(0013, 1013) Private tag data                    LO: '49171302'\n",
      "(0018, 0022) Scan Options                        CS: 'HELICAL MODE'\n",
      "(0018, 0050) Slice Thickness                     DS: '1.25'\n",
      "(0018, 0060) KVP                                 DS: '120.0'\n",
      "(0018, 0088) Spacing Between Slices              DS: '1.25'\n",
      "(0018, 0090) Data Collection Diameter            DS: '500.0'\n",
      "(0018, 1020) Software Versions                   LO: 'sles_hde.132'\n",
      "(0018, 1100) Reconstruction Diameter             DS: '360.0'\n",
      "(0018, 1110) Distance Source to Detector         DS: '946.746'\n",
      "(0018, 1111) Distance Source to Patient          DS: '538.52'\n",
      "(0018, 1120) Gantry/Detector Tilt                DS: '0.0'\n",
      "(0018, 1130) Table Height                        DS: '162.5'\n",
      "(0018, 1140) Rotation Direction                  CS: 'CW'\n",
      "(0018, 1150) Exposure Time                       IS: '500'\n",
      "(0018, 1151) X-Ray Tube Current                  IS: '267'\n",
      "(0018, 1152) Exposure                            IS: '4'\n",
      "(0018, 1160) Filter Type                         SH: 'BODY FILTER'\n",
      "(0018, 1170) Generator Power                     IS: '72000'\n",
      "(0018, 1190) Focal Spot(s)                       DS: '1.2'\n",
      "(0018, 1210) Convolution Kernel                  SH: 'STANDARD'\n",
      "(0018, 5100) Patient Position                    CS: 'HFS'\n",
      "(0018, 9305) Revolution Time                     FD: 0.5\n",
      "(0018, 9306) Single Collimation Width            FD: 0.625\n",
      "(0018, 9307) Total Collimation Width             FD: 40.0\n",
      "(0018, 9309) Table Speed                         FD: 78.75\n",
      "(0018, 9310) Table Feed per Rotation             FD: 39.375\n",
      "(0018, 9311) Spiral Pitch Factor                 FD: 0.984375\n",
      "(0020, 000d) Study Instance UID                  UI: 1.2.826.0.1.3680043.10.474.419639.312580455409613733097488204614\n",
      "(0020, 000e) Series Instance UID                 UI: 1.2.826.0.1.3680043.10.474.419639.403650391453800318566197197100\n",
      "(0020, 0010) Study ID                            SH: ''\n",
      "(0020, 0011) Series Number                       IS: '2'\n",
      "(0020, 0012) Acquisition Number                  IS: '1'\n",
      "(0020, 0013) Instance Number                     IS: '4'\n",
      "(0020, 0032) Image Position (Patient)            DS: [-192.200, -180.000, -35.500]\n",
      "(0020, 0037) Image Orientation (Patient)         DS: [1.000000, 0.000000, 0.000000, 0.000000, 1.000000, 0.000000]\n",
      "(0020, 0052) Frame of Reference UID              UI: 1.2.826.0.1.3680043.10.474.419639.296611353308121109544688784770\n",
      "(0020, 1040) Position Reference Indicator        LO: 'SN'\n",
      "(0020, 1041) Slice Location                      DS: '-35.5'\n",
      "(0028, 0002) Samples per Pixel                   US: 1\n",
      "(0028, 0004) Photometric Interpretation          CS: 'MONOCHROME2'\n",
      "(0028, 0010) Rows                                US: 512\n",
      "(0028, 0011) Columns                             US: 512\n",
      "(0028, 0030) Pixel Spacing                       DS: [0.703125, 0.703125]\n",
      "(0028, 0100) Bits Allocated                      US: 16\n",
      "(0028, 0101) Bits Stored                         US: 16\n",
      "(0028, 0102) High Bit                            US: 15\n",
      "(0028, 0103) Pixel Representation                US: 1\n",
      "(0028, 0120) Pixel Padding Value                 SS: -2000\n",
      "(0028, 1050) Window Center                       DS: '40.0'\n",
      "(0028, 1051) Window Width                        DS: '400.0'\n",
      "(0028, 1052) Rescale Intercept                   DS: '-1024.0'\n",
      "(0028, 1053) Rescale Slope                       DS: '1.0'\n",
      "(0028, 1054) Rescale Type                        LO: 'HU'\n",
      "(7fe0, 0010) Pixel Data                          OB: Array of 203788 elements\n"
     ]
    }
   ],
   "source": [
    "print(img_dcm)"
   ]
  },
  {
   "cell_type": "code",
   "execution_count": 14,
   "id": "75339b83",
   "metadata": {},
   "outputs": [
    {
     "name": "stderr",
     "output_type": "stream",
     "text": [
      "Patients converted:   0%|          | 0/9 [00:00<?, ?it/s]C:\\Users\\MegaMert\\Documents\\GitHub\\precision-medicine-toolbox\\pmtool\\ToolBox.py:575: UserWarning: Problems occured with rescaling intensities\n",
      "  warn('Problems occured with rescaling intensities')\n",
      "Patients converted:   0%|          | 0/9 [00:00<?, ?it/s]\n"
     ]
    },
    {
     "ename": "ValueError",
     "evalue": "The length of the pixel data in the dataset (204444 bytes) doesn't match the expected length (524288 bytes). The dataset may be corrupted or there may be an issue with the pixel data handler.",
     "output_type": "error",
     "traceback": [
      "\u001b[1;31m---------------------------------------------------------------------------\u001b[0m",
      "\u001b[1;31mValueError\u001b[0m                                Traceback (most recent call last)",
      "\u001b[1;32m~\\Documents\\GitHub\\precision-medicine-toolbox\\pmtool\\ToolBox.py\u001b[0m in \u001b[0;36m__get_pixel_values\u001b[1;34m(self, scans, image_type, qa, image_res)\u001b[0m\n\u001b[0;32m    565\u001b[0m         \u001b[1;32mtry\u001b[0m\u001b[1;33m:\u001b[0m\u001b[1;33m\u001b[0m\u001b[1;33m\u001b[0m\u001b[0m\n\u001b[1;32m--> 566\u001b[1;33m             \u001b[0mimage\u001b[0m \u001b[1;33m=\u001b[0m \u001b[0mnp\u001b[0m\u001b[1;33m.\u001b[0m\u001b[0mstack\u001b[0m\u001b[1;33m(\u001b[0m\u001b[1;33m[\u001b[0m\u001b[0ms\u001b[0m\u001b[1;33m.\u001b[0m\u001b[0mpixel_array\u001b[0m\u001b[1;33m*\u001b[0m\u001b[0ms\u001b[0m\u001b[1;33m.\u001b[0m\u001b[0mRescaleSlope\u001b[0m\u001b[1;33m+\u001b[0m\u001b[0ms\u001b[0m\u001b[1;33m.\u001b[0m\u001b[0mRescaleIntercept\u001b[0m \u001b[1;32mfor\u001b[0m \u001b[0ms\u001b[0m \u001b[1;32min\u001b[0m \u001b[0mscans\u001b[0m\u001b[1;33m]\u001b[0m\u001b[1;33m)\u001b[0m\u001b[1;33m\u001b[0m\u001b[1;33m\u001b[0m\u001b[0m\n\u001b[0m\u001b[0;32m    567\u001b[0m             \u001b[1;32mif\u001b[0m \u001b[0mqa\u001b[0m\u001b[1;33m:\u001b[0m\u001b[1;33m\u001b[0m\u001b[1;33m\u001b[0m\u001b[0m\n",
      "\u001b[1;32m~\\Documents\\GitHub\\precision-medicine-toolbox\\pmtool\\ToolBox.py\u001b[0m in \u001b[0;36m<listcomp>\u001b[1;34m(.0)\u001b[0m\n\u001b[0;32m    565\u001b[0m         \u001b[1;32mtry\u001b[0m\u001b[1;33m:\u001b[0m\u001b[1;33m\u001b[0m\u001b[1;33m\u001b[0m\u001b[0m\n\u001b[1;32m--> 566\u001b[1;33m             \u001b[0mimage\u001b[0m \u001b[1;33m=\u001b[0m \u001b[0mnp\u001b[0m\u001b[1;33m.\u001b[0m\u001b[0mstack\u001b[0m\u001b[1;33m(\u001b[0m\u001b[1;33m[\u001b[0m\u001b[0ms\u001b[0m\u001b[1;33m.\u001b[0m\u001b[0mpixel_array\u001b[0m\u001b[1;33m*\u001b[0m\u001b[0ms\u001b[0m\u001b[1;33m.\u001b[0m\u001b[0mRescaleSlope\u001b[0m\u001b[1;33m+\u001b[0m\u001b[0ms\u001b[0m\u001b[1;33m.\u001b[0m\u001b[0mRescaleIntercept\u001b[0m \u001b[1;32mfor\u001b[0m \u001b[0ms\u001b[0m \u001b[1;32min\u001b[0m \u001b[0mscans\u001b[0m\u001b[1;33m]\u001b[0m\u001b[1;33m)\u001b[0m\u001b[1;33m\u001b[0m\u001b[1;33m\u001b[0m\u001b[0m\n\u001b[0m\u001b[0;32m    567\u001b[0m             \u001b[1;32mif\u001b[0m \u001b[0mqa\u001b[0m\u001b[1;33m:\u001b[0m\u001b[1;33m\u001b[0m\u001b[1;33m\u001b[0m\u001b[0m\n",
      "\u001b[1;32m~\\anaconda3\\lib\\site-packages\\pydicom\\dataset.py\u001b[0m in \u001b[0;36mpixel_array\u001b[1;34m(self)\u001b[0m\n\u001b[0;32m   1886\u001b[0m         \"\"\"\n\u001b[1;32m-> 1887\u001b[1;33m         \u001b[0mself\u001b[0m\u001b[1;33m.\u001b[0m\u001b[0mconvert_pixel_data\u001b[0m\u001b[1;33m(\u001b[0m\u001b[1;33m)\u001b[0m\u001b[1;33m\u001b[0m\u001b[1;33m\u001b[0m\u001b[0m\n\u001b[0m\u001b[0;32m   1888\u001b[0m         \u001b[1;32mreturn\u001b[0m \u001b[0mcast\u001b[0m\u001b[1;33m(\u001b[0m\u001b[1;34m\"numpy.ndarray\"\u001b[0m\u001b[1;33m,\u001b[0m \u001b[0mself\u001b[0m\u001b[1;33m.\u001b[0m\u001b[0m_pixel_array\u001b[0m\u001b[1;33m)\u001b[0m\u001b[1;33m\u001b[0m\u001b[1;33m\u001b[0m\u001b[0m\n",
      "\u001b[1;32m~\\anaconda3\\lib\\site-packages\\pydicom\\dataset.py\u001b[0m in \u001b[0;36mconvert_pixel_data\u001b[1;34m(self, handler_name)\u001b[0m\n\u001b[0;32m   1443\u001b[0m         \u001b[1;32melse\u001b[0m\u001b[1;33m:\u001b[0m\u001b[1;33m\u001b[0m\u001b[1;33m\u001b[0m\u001b[0m\n\u001b[1;32m-> 1444\u001b[1;33m             \u001b[0mself\u001b[0m\u001b[1;33m.\u001b[0m\u001b[0m_convert_pixel_data_without_handler\u001b[0m\u001b[1;33m(\u001b[0m\u001b[1;33m)\u001b[0m\u001b[1;33m\u001b[0m\u001b[1;33m\u001b[0m\u001b[0m\n\u001b[0m\u001b[0;32m   1445\u001b[0m \u001b[1;33m\u001b[0m\u001b[0m\n",
      "\u001b[1;32m~\\anaconda3\\lib\\site-packages\\pydicom\\dataset.py\u001b[0m in \u001b[0;36m_convert_pixel_data_without_handler\u001b[1;34m(self)\u001b[0m\n\u001b[0;32m   1555\u001b[0m         )\n\u001b[1;32m-> 1556\u001b[1;33m         \u001b[1;32mraise\u001b[0m \u001b[0mlast_exception\u001b[0m  \u001b[1;31m# type: ignore[misc]\u001b[0m\u001b[1;33m\u001b[0m\u001b[1;33m\u001b[0m\u001b[0m\n\u001b[0m\u001b[0;32m   1557\u001b[0m \u001b[1;33m\u001b[0m\u001b[0m\n",
      "\u001b[1;32m~\\anaconda3\\lib\\site-packages\\pydicom\\dataset.py\u001b[0m in \u001b[0;36m_convert_pixel_data_without_handler\u001b[1;34m(self)\u001b[0m\n\u001b[0;32m   1535\u001b[0m             \u001b[1;32mtry\u001b[0m\u001b[1;33m:\u001b[0m\u001b[1;33m\u001b[0m\u001b[1;33m\u001b[0m\u001b[0m\n\u001b[1;32m-> 1536\u001b[1;33m                 \u001b[0mself\u001b[0m\u001b[1;33m.\u001b[0m\u001b[0m_do_pixel_data_conversion\u001b[0m\u001b[1;33m(\u001b[0m\u001b[0mhandler\u001b[0m\u001b[1;33m)\u001b[0m\u001b[1;33m\u001b[0m\u001b[1;33m\u001b[0m\u001b[0m\n\u001b[0m\u001b[0;32m   1537\u001b[0m                 \u001b[1;32mreturn\u001b[0m\u001b[1;33m\u001b[0m\u001b[1;33m\u001b[0m\u001b[0m\n",
      "\u001b[1;32m~\\anaconda3\\lib\\site-packages\\pydicom\\dataset.py\u001b[0m in \u001b[0;36m_do_pixel_data_conversion\u001b[1;34m(self, handler)\u001b[0m\n\u001b[0;32m   1562\u001b[0m         \u001b[1;31m# Will raise an exception if no pixel data element\u001b[0m\u001b[1;33m\u001b[0m\u001b[1;33m\u001b[0m\u001b[0m\n\u001b[1;32m-> 1563\u001b[1;33m         \u001b[0marr\u001b[0m \u001b[1;33m=\u001b[0m \u001b[0mhandler\u001b[0m\u001b[1;33m.\u001b[0m\u001b[0mget_pixeldata\u001b[0m\u001b[1;33m(\u001b[0m\u001b[0mself\u001b[0m\u001b[1;33m)\u001b[0m\u001b[1;33m\u001b[0m\u001b[1;33m\u001b[0m\u001b[0m\n\u001b[0m\u001b[0;32m   1564\u001b[0m         \u001b[0mself\u001b[0m\u001b[1;33m.\u001b[0m\u001b[0m_pixel_array\u001b[0m \u001b[1;33m=\u001b[0m \u001b[0mreshape_pixel_array\u001b[0m\u001b[1;33m(\u001b[0m\u001b[0mself\u001b[0m\u001b[1;33m,\u001b[0m \u001b[0marr\u001b[0m\u001b[1;33m)\u001b[0m\u001b[1;33m\u001b[0m\u001b[1;33m\u001b[0m\u001b[0m\n",
      "\u001b[1;32m~\\anaconda3\\lib\\site-packages\\pydicom\\pixel_data_handlers\\numpy_handler.py\u001b[0m in \u001b[0;36mget_pixeldata\u001b[1;34m(ds, read_only)\u001b[0m\n\u001b[0;32m    220\u001b[0m         \u001b[1;32melse\u001b[0m\u001b[1;33m:\u001b[0m\u001b[1;33m\u001b[0m\u001b[1;33m\u001b[0m\u001b[0m\n\u001b[1;32m--> 221\u001b[1;33m             raise ValueError(\n\u001b[0m\u001b[0;32m    222\u001b[0m                 \u001b[1;34m\"The length of the pixel data in the dataset ({} bytes) \"\u001b[0m\u001b[1;33m\u001b[0m\u001b[1;33m\u001b[0m\u001b[0m\n",
      "\u001b[1;31mValueError\u001b[0m: The length of the pixel data in the dataset (204444 bytes) doesn't match the expected length (524288 bytes). The dataset may be corrupted or there may be an issue with the pixel data handler.",
      "\nDuring handling of the above exception, another exception occurred:\n",
      "\u001b[1;31mValueError\u001b[0m                                Traceback (most recent call last)",
      "\u001b[1;32m~\\AppData\\Local\\Temp/ipykernel_5204/1650419876.py\u001b[0m in \u001b[0;36m<module>\u001b[1;34m\u001b[0m\n\u001b[1;32m----> 1\u001b[1;33m \u001b[0mdata_ct\u001b[0m\u001b[1;33m.\u001b[0m\u001b[0mconvert_to_nrrd\u001b[0m\u001b[1;33m(\u001b[0m\u001b[0mexport_path\u001b[0m\u001b[1;33m)\u001b[0m\u001b[1;33m\u001b[0m\u001b[1;33m\u001b[0m\u001b[0m\n\u001b[0m",
      "\u001b[1;32m~\\Documents\\GitHub\\precision-medicine-toolbox\\pmtool\\ToolBox.py\u001b[0m in \u001b[0;36mconvert_to_nrrd\u001b[1;34m(self, export_path, region_of_interest, image_type)\u001b[0m\n\u001b[0;32m    164\u001b[0m                 \u001b[1;32mfor\u001b[0m \u001b[0mpat\u001b[0m\u001b[1;33m,\u001b[0m \u001b[0mpat_path\u001b[0m \u001b[1;32min\u001b[0m \u001b[0mtqdm\u001b[0m\u001b[1;33m(\u001b[0m\u001b[0mself\u001b[0m\u001b[1;33m,\u001b[0m \u001b[0mdesc\u001b[0m\u001b[1;33m=\u001b[0m\u001b[1;34m'Patients converted'\u001b[0m\u001b[1;33m)\u001b[0m\u001b[1;33m:\u001b[0m\u001b[1;33m\u001b[0m\u001b[1;33m\u001b[0m\u001b[0m\n\u001b[0;32m    165\u001b[0m                     \u001b[0mimg_path\u001b[0m \u001b[1;33m=\u001b[0m \u001b[0mpat_path\u001b[0m\u001b[1;33m[\u001b[0m\u001b[1;36m0\u001b[0m\u001b[1;33m]\u001b[0m\u001b[1;33m\u001b[0m\u001b[1;33m\u001b[0m\u001b[0m\n\u001b[1;32m--> 166\u001b[1;33m                     \u001b[0mimage\u001b[0m \u001b[1;33m=\u001b[0m \u001b[0mself\u001b[0m\u001b[1;33m.\u001b[0m\u001b[0m__get_image\u001b[0m\u001b[1;33m(\u001b[0m\u001b[0mimg_path\u001b[0m\u001b[1;33m,\u001b[0m \u001b[0mimage_type\u001b[0m\u001b[1;33m)\u001b[0m\u001b[1;33m\u001b[0m\u001b[1;33m\u001b[0m\u001b[0m\n\u001b[0m\u001b[0;32m    167\u001b[0m \u001b[1;33m\u001b[0m\u001b[0m\n\u001b[0;32m    168\u001b[0m                     \u001b[0mexport_dir\u001b[0m \u001b[1;33m=\u001b[0m \u001b[0mos\u001b[0m\u001b[1;33m.\u001b[0m\u001b[0mpath\u001b[0m\u001b[1;33m.\u001b[0m\u001b[0mjoin\u001b[0m\u001b[1;33m(\u001b[0m\u001b[0mexport_path\u001b[0m\u001b[1;33m,\u001b[0m \u001b[1;34m'converted_nrrds'\u001b[0m\u001b[1;33m,\u001b[0m \u001b[0mpat\u001b[0m\u001b[1;33m)\u001b[0m\u001b[1;33m\u001b[0m\u001b[1;33m\u001b[0m\u001b[0m\n",
      "\u001b[1;32m~\\Documents\\GitHub\\precision-medicine-toolbox\\pmtool\\ToolBox.py\u001b[0m in \u001b[0;36m__get_image\u001b[1;34m(self, img_path, image_type)\u001b[0m\n\u001b[0;32m    584\u001b[0m         \u001b[0mimage\u001b[0m\u001b[1;33m,\u001b[0m \u001b[0m_\u001b[0m \u001b[1;33m=\u001b[0m \u001b[0mself\u001b[0m\u001b[1;33m.\u001b[0m\u001b[0m__read_scan\u001b[0m\u001b[1;33m(\u001b[0m\u001b[0mimg_path\u001b[0m\u001b[1;33m)\u001b[0m\u001b[1;33m\u001b[0m\u001b[1;33m\u001b[0m\u001b[0m\n\u001b[0;32m    585\u001b[0m         \u001b[0mimg_first_slice\u001b[0m \u001b[1;33m=\u001b[0m \u001b[0mimage\u001b[0m\u001b[1;33m[\u001b[0m\u001b[1;36m0\u001b[0m\u001b[1;33m]\u001b[0m\u001b[1;33m\u001b[0m\u001b[1;33m\u001b[0m\u001b[0m\n\u001b[1;32m--> 586\u001b[1;33m         \u001b[0mimg_array\u001b[0m \u001b[1;33m=\u001b[0m \u001b[0mself\u001b[0m\u001b[1;33m.\u001b[0m\u001b[0m__get_pixel_values\u001b[0m\u001b[1;33m(\u001b[0m\u001b[0mimage\u001b[0m\u001b[1;33m,\u001b[0m \u001b[0mimage_type\u001b[0m\u001b[1;33m)\u001b[0m\u001b[1;33m\u001b[0m\u001b[1;33m\u001b[0m\u001b[0m\n\u001b[0m\u001b[0;32m    587\u001b[0m \u001b[1;33m\u001b[0m\u001b[0m\n\u001b[0;32m    588\u001b[0m         \u001b[0mxres\u001b[0m \u001b[1;33m=\u001b[0m \u001b[0mnp\u001b[0m\u001b[1;33m.\u001b[0m\u001b[0marray\u001b[0m\u001b[1;33m(\u001b[0m\u001b[0mimg_first_slice\u001b[0m\u001b[1;33m.\u001b[0m\u001b[0mPixelSpacing\u001b[0m\u001b[1;33m[\u001b[0m\u001b[1;36m0\u001b[0m\u001b[1;33m]\u001b[0m\u001b[1;33m)\u001b[0m\u001b[1;33m\u001b[0m\u001b[1;33m\u001b[0m\u001b[0m\n",
      "\u001b[1;32m~\\Documents\\GitHub\\precision-medicine-toolbox\\pmtool\\ToolBox.py\u001b[0m in \u001b[0;36m__get_pixel_values\u001b[1;34m(self, scans, image_type, qa, image_res)\u001b[0m\n\u001b[0;32m    574\u001b[0m         \u001b[1;32mexcept\u001b[0m\u001b[1;33m:\u001b[0m\u001b[1;33m\u001b[0m\u001b[1;33m\u001b[0m\u001b[0m\n\u001b[0;32m    575\u001b[0m             \u001b[0mwarn\u001b[0m\u001b[1;33m(\u001b[0m\u001b[1;34m'Problems occured with rescaling intensities'\u001b[0m\u001b[1;33m)\u001b[0m\u001b[1;33m\u001b[0m\u001b[1;33m\u001b[0m\u001b[0m\n\u001b[1;32m--> 576\u001b[1;33m             \u001b[0mimage\u001b[0m \u001b[1;33m=\u001b[0m \u001b[0mnp\u001b[0m\u001b[1;33m.\u001b[0m\u001b[0mstack\u001b[0m\u001b[1;33m(\u001b[0m\u001b[1;33m[\u001b[0m\u001b[0ms\u001b[0m\u001b[1;33m.\u001b[0m\u001b[0mpixel_array\u001b[0m \u001b[1;32mfor\u001b[0m \u001b[0ms\u001b[0m \u001b[1;32min\u001b[0m \u001b[0mscans\u001b[0m\u001b[1;33m]\u001b[0m\u001b[1;33m)\u001b[0m\u001b[1;33m\u001b[0m\u001b[1;33m\u001b[0m\u001b[0m\n\u001b[0m\u001b[0;32m    577\u001b[0m             \u001b[1;32mif\u001b[0m \u001b[0mqa\u001b[0m\u001b[1;33m:\u001b[0m\u001b[1;33m\u001b[0m\u001b[1;33m\u001b[0m\u001b[0m\n\u001b[0;32m    578\u001b[0m                 \u001b[1;32mreturn\u001b[0m \u001b[1;36m0\u001b[0m\u001b[1;33m,\u001b[0m \u001b[1;36m0\u001b[0m\u001b[1;33m\u001b[0m\u001b[1;33m\u001b[0m\u001b[0m\n",
      "\u001b[1;32m~\\Documents\\GitHub\\precision-medicine-toolbox\\pmtool\\ToolBox.py\u001b[0m in \u001b[0;36m<listcomp>\u001b[1;34m(.0)\u001b[0m\n\u001b[0;32m    574\u001b[0m         \u001b[1;32mexcept\u001b[0m\u001b[1;33m:\u001b[0m\u001b[1;33m\u001b[0m\u001b[1;33m\u001b[0m\u001b[0m\n\u001b[0;32m    575\u001b[0m             \u001b[0mwarn\u001b[0m\u001b[1;33m(\u001b[0m\u001b[1;34m'Problems occured with rescaling intensities'\u001b[0m\u001b[1;33m)\u001b[0m\u001b[1;33m\u001b[0m\u001b[1;33m\u001b[0m\u001b[0m\n\u001b[1;32m--> 576\u001b[1;33m             \u001b[0mimage\u001b[0m \u001b[1;33m=\u001b[0m \u001b[0mnp\u001b[0m\u001b[1;33m.\u001b[0m\u001b[0mstack\u001b[0m\u001b[1;33m(\u001b[0m\u001b[1;33m[\u001b[0m\u001b[0ms\u001b[0m\u001b[1;33m.\u001b[0m\u001b[0mpixel_array\u001b[0m \u001b[1;32mfor\u001b[0m \u001b[0ms\u001b[0m \u001b[1;32min\u001b[0m \u001b[0mscans\u001b[0m\u001b[1;33m]\u001b[0m\u001b[1;33m)\u001b[0m\u001b[1;33m\u001b[0m\u001b[1;33m\u001b[0m\u001b[0m\n\u001b[0m\u001b[0;32m    577\u001b[0m             \u001b[1;32mif\u001b[0m \u001b[0mqa\u001b[0m\u001b[1;33m:\u001b[0m\u001b[1;33m\u001b[0m\u001b[1;33m\u001b[0m\u001b[0m\n\u001b[0;32m    578\u001b[0m                 \u001b[1;32mreturn\u001b[0m \u001b[1;36m0\u001b[0m\u001b[1;33m,\u001b[0m \u001b[1;36m0\u001b[0m\u001b[1;33m\u001b[0m\u001b[1;33m\u001b[0m\u001b[0m\n",
      "\u001b[1;32m~\\anaconda3\\lib\\site-packages\\pydicom\\dataset.py\u001b[0m in \u001b[0;36mpixel_array\u001b[1;34m(self)\u001b[0m\n\u001b[0;32m   1885\u001b[0m             \u001b[1;33m:\u001b[0m\u001b[1;32mclass\u001b[0m\u001b[1;33m:\u001b[0m\u001b[0;31m`\u001b[0m\u001b[0mnumpy\u001b[0m\u001b[1;33m.\u001b[0m\u001b[0mndarray\u001b[0m\u001b[0;31m`\u001b[0m\u001b[1;33m.\u001b[0m\u001b[1;33m\u001b[0m\u001b[1;33m\u001b[0m\u001b[0m\n\u001b[0;32m   1886\u001b[0m         \"\"\"\n\u001b[1;32m-> 1887\u001b[1;33m         \u001b[0mself\u001b[0m\u001b[1;33m.\u001b[0m\u001b[0mconvert_pixel_data\u001b[0m\u001b[1;33m(\u001b[0m\u001b[1;33m)\u001b[0m\u001b[1;33m\u001b[0m\u001b[1;33m\u001b[0m\u001b[0m\n\u001b[0m\u001b[0;32m   1888\u001b[0m         \u001b[1;32mreturn\u001b[0m \u001b[0mcast\u001b[0m\u001b[1;33m(\u001b[0m\u001b[1;34m\"numpy.ndarray\"\u001b[0m\u001b[1;33m,\u001b[0m \u001b[0mself\u001b[0m\u001b[1;33m.\u001b[0m\u001b[0m_pixel_array\u001b[0m\u001b[1;33m)\u001b[0m\u001b[1;33m\u001b[0m\u001b[1;33m\u001b[0m\u001b[0m\n\u001b[0;32m   1889\u001b[0m \u001b[1;33m\u001b[0m\u001b[0m\n",
      "\u001b[1;32m~\\anaconda3\\lib\\site-packages\\pydicom\\dataset.py\u001b[0m in \u001b[0;36mconvert_pixel_data\u001b[1;34m(self, handler_name)\u001b[0m\n\u001b[0;32m   1442\u001b[0m             \u001b[0mself\u001b[0m\u001b[1;33m.\u001b[0m\u001b[0m_convert_pixel_data_using_handler\u001b[0m\u001b[1;33m(\u001b[0m\u001b[0mhandler_name\u001b[0m\u001b[1;33m)\u001b[0m\u001b[1;33m\u001b[0m\u001b[1;33m\u001b[0m\u001b[0m\n\u001b[0;32m   1443\u001b[0m         \u001b[1;32melse\u001b[0m\u001b[1;33m:\u001b[0m\u001b[1;33m\u001b[0m\u001b[1;33m\u001b[0m\u001b[0m\n\u001b[1;32m-> 1444\u001b[1;33m             \u001b[0mself\u001b[0m\u001b[1;33m.\u001b[0m\u001b[0m_convert_pixel_data_without_handler\u001b[0m\u001b[1;33m(\u001b[0m\u001b[1;33m)\u001b[0m\u001b[1;33m\u001b[0m\u001b[1;33m\u001b[0m\u001b[0m\n\u001b[0m\u001b[0;32m   1445\u001b[0m \u001b[1;33m\u001b[0m\u001b[0m\n\u001b[0;32m   1446\u001b[0m     \u001b[1;32mdef\u001b[0m \u001b[0m_convert_pixel_data_using_handler\u001b[0m\u001b[1;33m(\u001b[0m\u001b[0mself\u001b[0m\u001b[1;33m,\u001b[0m \u001b[0mname\u001b[0m\u001b[1;33m:\u001b[0m \u001b[0mstr\u001b[0m\u001b[1;33m)\u001b[0m \u001b[1;33m->\u001b[0m \u001b[1;32mNone\u001b[0m\u001b[1;33m:\u001b[0m\u001b[1;33m\u001b[0m\u001b[1;33m\u001b[0m\u001b[0m\n",
      "\u001b[1;32m~\\anaconda3\\lib\\site-packages\\pydicom\\dataset.py\u001b[0m in \u001b[0;36m_convert_pixel_data_without_handler\u001b[1;34m(self)\u001b[0m\n\u001b[0;32m   1554\u001b[0m             \u001b[1;33m.\u001b[0m\u001b[0mformat\u001b[0m\u001b[1;33m(\u001b[0m\u001b[1;34m\", \"\u001b[0m\u001b[1;33m.\u001b[0m\u001b[0mjoin\u001b[0m\u001b[1;33m(\u001b[0m\u001b[1;33m[\u001b[0m\u001b[0mstr\u001b[0m\u001b[1;33m(\u001b[0m\u001b[0mhh\u001b[0m\u001b[1;33m)\u001b[0m \u001b[1;32mfor\u001b[0m \u001b[0mhh\u001b[0m \u001b[1;32min\u001b[0m \u001b[0mavailable_handlers\u001b[0m\u001b[1;33m]\u001b[0m\u001b[1;33m)\u001b[0m\u001b[1;33m)\u001b[0m\u001b[1;33m\u001b[0m\u001b[1;33m\u001b[0m\u001b[0m\n\u001b[0;32m   1555\u001b[0m         )\n\u001b[1;32m-> 1556\u001b[1;33m         \u001b[1;32mraise\u001b[0m \u001b[0mlast_exception\u001b[0m  \u001b[1;31m# type: ignore[misc]\u001b[0m\u001b[1;33m\u001b[0m\u001b[1;33m\u001b[0m\u001b[0m\n\u001b[0m\u001b[0;32m   1557\u001b[0m \u001b[1;33m\u001b[0m\u001b[0m\n\u001b[0;32m   1558\u001b[0m     \u001b[1;32mdef\u001b[0m \u001b[0m_do_pixel_data_conversion\u001b[0m\u001b[1;33m(\u001b[0m\u001b[0mself\u001b[0m\u001b[1;33m,\u001b[0m \u001b[0mhandler\u001b[0m\u001b[1;33m:\u001b[0m \u001b[0mAny\u001b[0m\u001b[1;33m)\u001b[0m \u001b[1;33m->\u001b[0m \u001b[1;32mNone\u001b[0m\u001b[1;33m:\u001b[0m\u001b[1;33m\u001b[0m\u001b[1;33m\u001b[0m\u001b[0m\n",
      "\u001b[1;32m~\\anaconda3\\lib\\site-packages\\pydicom\\dataset.py\u001b[0m in \u001b[0;36m_convert_pixel_data_without_handler\u001b[1;34m(self)\u001b[0m\n\u001b[0;32m   1534\u001b[0m         \u001b[1;32mfor\u001b[0m \u001b[0mhandler\u001b[0m \u001b[1;32min\u001b[0m \u001b[0mavailable_handlers\u001b[0m\u001b[1;33m:\u001b[0m\u001b[1;33m\u001b[0m\u001b[1;33m\u001b[0m\u001b[0m\n\u001b[0;32m   1535\u001b[0m             \u001b[1;32mtry\u001b[0m\u001b[1;33m:\u001b[0m\u001b[1;33m\u001b[0m\u001b[1;33m\u001b[0m\u001b[0m\n\u001b[1;32m-> 1536\u001b[1;33m                 \u001b[0mself\u001b[0m\u001b[1;33m.\u001b[0m\u001b[0m_do_pixel_data_conversion\u001b[0m\u001b[1;33m(\u001b[0m\u001b[0mhandler\u001b[0m\u001b[1;33m)\u001b[0m\u001b[1;33m\u001b[0m\u001b[1;33m\u001b[0m\u001b[0m\n\u001b[0m\u001b[0;32m   1537\u001b[0m                 \u001b[1;32mreturn\u001b[0m\u001b[1;33m\u001b[0m\u001b[1;33m\u001b[0m\u001b[0m\n\u001b[0;32m   1538\u001b[0m             \u001b[1;32mexcept\u001b[0m \u001b[0mException\u001b[0m \u001b[1;32mas\u001b[0m \u001b[0mexc\u001b[0m\u001b[1;33m:\u001b[0m\u001b[1;33m\u001b[0m\u001b[1;33m\u001b[0m\u001b[0m\n",
      "\u001b[1;32m~\\anaconda3\\lib\\site-packages\\pydicom\\dataset.py\u001b[0m in \u001b[0;36m_do_pixel_data_conversion\u001b[1;34m(self, handler)\u001b[0m\n\u001b[0;32m   1561\u001b[0m         \u001b[1;31m# Use the handler to get a 1D numpy array of the pixel data\u001b[0m\u001b[1;33m\u001b[0m\u001b[1;33m\u001b[0m\u001b[0m\n\u001b[0;32m   1562\u001b[0m         \u001b[1;31m# Will raise an exception if no pixel data element\u001b[0m\u001b[1;33m\u001b[0m\u001b[1;33m\u001b[0m\u001b[0m\n\u001b[1;32m-> 1563\u001b[1;33m         \u001b[0marr\u001b[0m \u001b[1;33m=\u001b[0m \u001b[0mhandler\u001b[0m\u001b[1;33m.\u001b[0m\u001b[0mget_pixeldata\u001b[0m\u001b[1;33m(\u001b[0m\u001b[0mself\u001b[0m\u001b[1;33m)\u001b[0m\u001b[1;33m\u001b[0m\u001b[1;33m\u001b[0m\u001b[0m\n\u001b[0m\u001b[0;32m   1564\u001b[0m         \u001b[0mself\u001b[0m\u001b[1;33m.\u001b[0m\u001b[0m_pixel_array\u001b[0m \u001b[1;33m=\u001b[0m \u001b[0mreshape_pixel_array\u001b[0m\u001b[1;33m(\u001b[0m\u001b[0mself\u001b[0m\u001b[1;33m,\u001b[0m \u001b[0marr\u001b[0m\u001b[1;33m)\u001b[0m\u001b[1;33m\u001b[0m\u001b[1;33m\u001b[0m\u001b[0m\n\u001b[0;32m   1565\u001b[0m \u001b[1;33m\u001b[0m\u001b[0m\n",
      "\u001b[1;32m~\\anaconda3\\lib\\site-packages\\pydicom\\pixel_data_handlers\\numpy_handler.py\u001b[0m in \u001b[0;36mget_pixeldata\u001b[1;34m(ds, read_only)\u001b[0m\n\u001b[0;32m    219\u001b[0m             )\n\u001b[0;32m    220\u001b[0m         \u001b[1;32melse\u001b[0m\u001b[1;33m:\u001b[0m\u001b[1;33m\u001b[0m\u001b[1;33m\u001b[0m\u001b[0m\n\u001b[1;32m--> 221\u001b[1;33m             raise ValueError(\n\u001b[0m\u001b[0;32m    222\u001b[0m                 \u001b[1;34m\"The length of the pixel data in the dataset ({} bytes) \"\u001b[0m\u001b[1;33m\u001b[0m\u001b[1;33m\u001b[0m\u001b[0m\n\u001b[0;32m    223\u001b[0m                 \u001b[1;34m\"doesn't match the expected length ({} bytes). \"\u001b[0m\u001b[1;33m\u001b[0m\u001b[1;33m\u001b[0m\u001b[0m\n",
      "\u001b[1;31mValueError\u001b[0m: The length of the pixel data in the dataset (204444 bytes) doesn't match the expected length (524288 bytes). The dataset may be corrupted or there may be an issue with the pixel data handler."
     ]
    }
   ],
   "source": [
    "data_ct.convert_to_nrrd(export_path)"
   ]
  },
  {
   "cell_type": "code",
   "execution_count": null,
   "id": "8b07a5e8",
   "metadata": {},
   "outputs": [],
   "source": [
    "data_ct_nrrd = ToolBox(data_path = r'E:\\Internship Mass storage\\First 3 datasets\\Ricord-1a chest only\\Converted second run\\Test', data_type='nrrd')\n"
   ]
  },
  {
   "cell_type": "code",
   "execution_count": null,
   "id": "fd6ee3cb",
   "metadata": {},
   "outputs": [],
   "source": [
    "data_ct_nrrd.get_jpegs(r'E:\\Internship Mass storage\\First 3 datasets\\Ricord-1a chest only\\Converted second run') # the function will create 'images_quick_check' folder in the specified directory "
   ]
  },
  {
   "cell_type": "code",
   "execution_count": null,
   "id": "e8ac7494",
   "metadata": {},
   "outputs": [],
   "source": [
    "from ipywidgets import interact\n",
    "import numpy as np\n",
    "from PIL import Image\n",
    "\n",
    "def browse_images(images,names):\n",
    "    n = len(images)\n",
    "    def view_image(i):\n",
    "        plt.figure(figsize=(20,10))\n",
    "        plt.imshow(images[i])#, cmap=plt.cm.gray_r, interpolation='nearest')\n",
    "        plt.title('Slice: %s' % names[i])\n",
    "        plt.axis('off')\n",
    "        plt.show()\n",
    "    interact(view_image, i=(0,n-1))\n",
    "\n",
    "for pat,_ in data_ct_nrrd:\n",
    "    _,file_struct = [*os.walk(os.path.join(r'E:\\Internship Mass storage\\First 3 datasets\\Ricord-1a chest only\\Converted second run\\images_quick_check',pat))]\n",
    "    root,images = file_struct[0],file_struct[2]\n",
    "    imgs =[np.array(Image.open(os.path.join(root,img))) for img in images]\n",
    "    print(pat)\n",
    "    browse_images(imgs,images)\n",
    "    break"
   ]
  },
  {
   "cell_type": "code",
   "execution_count": null,
   "id": "96b2aa43",
   "metadata": {},
   "outputs": [],
   "source": [
    "parameters = r\"C:\\Users\\MegaMert\\Documents\\GitHub\\precision-medicine-toolbox\\examples\\example_ct_parameters.yaml\"\n",
    "features = data_ct_nrrd.extract_features(parameters, loggenabled=True)"
   ]
  },
  {
   "cell_type": "code",
   "execution_count": null,
   "id": "f9451d64",
   "metadata": {},
   "outputs": [],
   "source": [
    "sb.set(context='poster', style='white')\n",
    "data_ct_nrrd.pre_process(ref_img_path = r'E:\\Internship Mass storage\\First 3 datasets\\Ricord-1a chest only\\Converted second run\\converted_nrrds\\LUNG1-001_1-1\\image.nrrd',\n",
    "                         save_path = r'E:\\Internship Mass storage\\First 3 datasets\\Ricord-1a chest only\\Converted second run\\Preprocessed',\n",
    "                         hist_match = False,        # boolean\n",
    "                         subcateneus_fat = False,   # boolean\n",
    "                         fat_value = 774,           # this is a dummy value, \n",
    "                                                    # you would need to find that value for each image\n",
    "                         percentile_scaling = False, # boolean\n",
    "                         window_filtering_params = (1500,-600), #Window Filtering [WW,WL]\n",
    "                         binning = 255,             # this is a dummy value, it takes False or int \n",
    "                                                    # (# of bins for intensity resampling)\n",
    "                         verbosity = True,          # boolean\n",
    "                         z_score = True,           # boolean \n",
    "                         hist_equalize = True,     # boolean\n",
    "                         norm_coeff = (1000.,500.), # these are dummy values, you would need to estimate real mu and sigma\n",
    "                                                    # it takes None or tuple: (mu,sigma)\n",
    "                         visualize = True)"
   ]
  },
  {
   "cell_type": "code",
   "execution_count": null,
   "id": "05256868",
   "metadata": {},
   "outputs": [],
   "source": [
    "features.head(3)"
   ]
  },
  {
   "cell_type": "code",
   "execution_count": null,
   "id": "447e8ff5",
   "metadata": {},
   "outputs": [],
   "source": [
    "writer = pd.ExcelWriter(r'C:\\Users\\MegaMert\\Documents\\GitHub\\precision-medicine-toolbox\\data/features/extracted_features.xlsx') \n",
    "features.to_excel(writer, 'Sheet1')\n",
    "writer.save()"
   ]
  },
  {
   "cell_type": "code",
   "execution_count": 25,
   "id": "9c97cbec",
   "metadata": {},
   "outputs": [
    {
     "name": "stdout",
     "output_type": "stream",
     "text": [
      "Collecting python-gdcm\n",
      "  Downloading python_gdcm-3.0.12-cp39-cp39-win_amd64.whl (26.0 MB)\n",
      "Installing collected packages: python-gdcm\n",
      "Successfully installed python-gdcm-3.0.12\n"
     ]
    }
   ],
   "source": [
    "!pip install python-gdcm"
   ]
  },
  {
   "cell_type": "code",
   "execution_count": null,
   "id": "292ee04d",
   "metadata": {},
   "outputs": [],
   "source": []
  }
 ],
 "metadata": {
  "kernelspec": {
   "display_name": "Python 3 (ipykernel)",
   "language": "python",
   "name": "python3"
  },
  "language_info": {
   "codemirror_mode": {
    "name": "ipython",
    "version": 3
   },
   "file_extension": ".py",
   "mimetype": "text/x-python",
   "name": "python",
   "nbconvert_exporter": "python",
   "pygments_lexer": "ipython3",
   "version": "3.9.7"
  }
 },
 "nbformat": 4,
 "nbformat_minor": 5
}
