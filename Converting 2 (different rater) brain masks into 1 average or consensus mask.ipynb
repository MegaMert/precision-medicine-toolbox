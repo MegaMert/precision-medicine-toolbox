{
 "cells": [
  {
   "cell_type": "code",
   "execution_count": 1,
   "id": "dab2521c",
   "metadata": {},
   "outputs": [],
   "source": [
    "import numpy as np\n",
    "import nrrd\n",
    "import os\n",
    "from os import listdir\n",
    "from os.path import isfile, join"
   ]
  },
  {
   "cell_type": "code",
   "execution_count": 26,
   "id": "5fd55c73",
   "metadata": {},
   "outputs": [
    {
     "name": "stdout",
     "output_type": "stream",
     "text": [
      "['sub-101', 'sub-102', 'sub-103', 'sub-104', 'sub-105', 'sub-106', 'sub-209', 'sub-211', 'sub-219', 'sub-223', 'sub-224', 'sub-231']\n",
      "['E:\\\\Internship Mass storage\\\\First 3 datasets\\\\VALDO dataset\\\\Task1 nrrds/sub-101', 'E:\\\\Internship Mass storage\\\\First 3 datasets\\\\VALDO dataset\\\\Task1 nrrds/sub-102', 'E:\\\\Internship Mass storage\\\\First 3 datasets\\\\VALDO dataset\\\\Task1 nrrds/sub-103', 'E:\\\\Internship Mass storage\\\\First 3 datasets\\\\VALDO dataset\\\\Task1 nrrds/sub-104', 'E:\\\\Internship Mass storage\\\\First 3 datasets\\\\VALDO dataset\\\\Task1 nrrds/sub-105', 'E:\\\\Internship Mass storage\\\\First 3 datasets\\\\VALDO dataset\\\\Task1 nrrds/sub-106', 'E:\\\\Internship Mass storage\\\\First 3 datasets\\\\VALDO dataset\\\\Task1 nrrds/sub-209', 'E:\\\\Internship Mass storage\\\\First 3 datasets\\\\VALDO dataset\\\\Task1 nrrds/sub-211', 'E:\\\\Internship Mass storage\\\\First 3 datasets\\\\VALDO dataset\\\\Task1 nrrds/sub-219', 'E:\\\\Internship Mass storage\\\\First 3 datasets\\\\VALDO dataset\\\\Task1 nrrds/sub-223', 'E:\\\\Internship Mass storage\\\\First 3 datasets\\\\VALDO dataset\\\\Task1 nrrds/sub-224', 'E:\\\\Internship Mass storage\\\\First 3 datasets\\\\VALDO dataset\\\\Task1 nrrds/sub-231']\n"
     ]
    }
   ],
   "source": [
    "mypath = r\"E:\\Internship Mass storage\\First 3 datasets\\VALDO dataset\\Task1 nrrds\"\n",
    "maskidentifier = \"Seg\" #part of the filename that is only in the masks in order to later on only select the masks\n",
    "patients = os.listdir(mypath)\n",
    "print(patients)\n",
    "patientpaths = []\n",
    "for sub in patients:\n",
    "    patientpath = mypath + \"/\" + sub\n",
    "    patientpaths.append(patientpath)\n",
    "print(patientpaths)"
   ]
  },
  {
   "cell_type": "code",
   "execution_count": 27,
   "id": "edf1da2a",
   "metadata": {},
   "outputs": [],
   "source": [
    "for patientdirectory in patientpaths:\n",
    "    onlyfiles = [f for f in listdir(patientdirectory) if isfile(join(patientdirectory, f))]\n",
    "    filepaths = [patientdirectory + \"/\" + s for s in onlyfiles]\n",
    "    allmaskfiles = []\n",
    "    allmasks = []\n",
    "    imagevolume0, imageheader0 = nrrd.read(filepaths[0])\n",
    "    consensusmaskarray = np.where(imagevolume0 != 1, 1, imagevolume0)\n",
    "    for nrrds in filepaths:\n",
    "        if maskidentifier in nrrds:\n",
    "            allmaskfiles.append(nrrds)\n",
    "    if len(allmaskfiles) > 1:\n",
    "        for mask in allmaskfiles:\n",
    "            imagevolume1, imageheader1 = nrrd.read(mask)\n",
    "            allmasks.append(imagevolume1)\n",
    "        for arr in allmasks:\n",
    "            for x in range(0, imagevolume0.shape[0]):\n",
    "                for y in range(0, imagevolume0.shape[1] ):\n",
    "                    for z in range(0, imagevolume0.shape[2]):\n",
    "                        if  arr[x,y,z] == 1 and consensusmaskarray[x,y,z] == 1:\n",
    "                            consensusmaskarray[x,y,z] = 1\n",
    "                        else:\n",
    "                            consensusmaskarray[x,y,z] = 0\n",
    "            \n",
    "        target_file = patientdirectory + r'\\consensusmask.nrrd'\n",
    "        nrrd.write(target_file, consensusmaskarray)  "
   ]
  },
  {
   "cell_type": "code",
   "execution_count": null,
   "id": "e256f4a3",
   "metadata": {},
   "outputs": [],
   "source": [
    " "
   ]
  },
  {
   "cell_type": "code",
   "execution_count": null,
   "id": "c0c91e1d",
   "metadata": {},
   "outputs": [],
   "source": []
  }
 ],
 "metadata": {
  "kernelspec": {
   "display_name": "Python 3 (ipykernel)",
   "language": "python",
   "name": "python3"
  },
  "language_info": {
   "codemirror_mode": {
    "name": "ipython",
    "version": 3
   },
   "file_extension": ".py",
   "mimetype": "text/x-python",
   "name": "python",
   "nbconvert_exporter": "python",
   "pygments_lexer": "ipython3",
   "version": "3.9.7"
  }
 },
 "nbformat": 4,
 "nbformat_minor": 5
}
