{
 "cells": [
  {
   "cell_type": "code",
   "execution_count": 1,
   "id": "63ce90a2",
   "metadata": {},
   "outputs": [],
   "source": [
    "import os,sys\n",
    "from pmtool.ToolBox import ToolBox\n",
    "import pandas as pd\n",
    "from pandas import DataFrame\n",
    "import matplotlib.pyplot as plt\n",
    "import numpy as np\n",
    "import seaborn as sb\n",
    "\n",
    "%matplotlib inline"
   ]
  },
  {
   "cell_type": "code",
   "execution_count": 3,
   "id": "1ad101d7",
   "metadata": {},
   "outputs": [
    {
     "name": "stderr",
     "output_type": "stream",
     "text": [
      "100%|██████████| 3/3 [00:00<00:00, 150.65it/s]\n"
     ]
    }
   ],
   "source": [
    "parameters = {'data_path': r'E:\\Internship Mass storage\\First 3 datasets\\Duke_breast_MRI dataset\\Testfiles', # path to your DICOM data\n",
    "              'data_type': 'dcm', # original data format: DICOM\n",
    "              'multi_rts_per_pat': False,\n",
    "              'image_only' : True}   # when False, it will look only for 1 rtstruct in the patient folder, \n",
    "                                            # this will speed up the process, \n",
    "                                            # if you have more then 1 rtstruct per patient, set it to True\n",
    "data_dcms = ToolBox(**parameters)"
   ]
  },
  {
   "cell_type": "code",
   "execution_count": 4,
   "id": "2ff7d648",
   "metadata": {},
   "outputs": [
    {
     "name": "stderr",
     "output_type": "stream",
     "text": [
      "Patients processed: 100%|██████████| 3/3 [00:01<00:00,  2.43it/s]\n"
     ]
    },
    {
     "data": {
      "text/html": [
       "<div>\n",
       "<style scoped>\n",
       "    .dataframe tbody tr th:only-of-type {\n",
       "        vertical-align: middle;\n",
       "    }\n",
       "\n",
       "    .dataframe tbody tr th {\n",
       "        vertical-align: top;\n",
       "    }\n",
       "\n",
       "    .dataframe thead th {\n",
       "        text-align: right;\n",
       "    }\n",
       "</style>\n",
       "<table border=\"1\" class=\"dataframe\">\n",
       "  <thead>\n",
       "    <tr style=\"text-align: right;\">\n",
       "      <th></th>\n",
       "      <th>Modality</th>\n",
       "      <th>SliceThickness</th>\n",
       "      <th>PixelSpacing</th>\n",
       "      <th>SeriesDate</th>\n",
       "      <th>Manufacturer</th>\n",
       "      <th>patient</th>\n",
       "      <th>slice#</th>\n",
       "    </tr>\n",
       "  </thead>\n",
       "  <tbody>\n",
       "    <tr>\n",
       "      <th>0</th>\n",
       "      <td>MR</td>\n",
       "      <td>1.1</td>\n",
       "      <td>[0.80357140302658, 0.80357140302658]</td>\n",
       "      <td>19900101</td>\n",
       "      <td>SIEMENS</td>\n",
       "      <td>Breast_MRI_001</td>\n",
       "      <td>0</td>\n",
       "    </tr>\n",
       "    <tr>\n",
       "      <th>1</th>\n",
       "      <td>MR</td>\n",
       "      <td>1.1</td>\n",
       "      <td>[0.80357140302658, 0.80357140302658]</td>\n",
       "      <td>19900101</td>\n",
       "      <td>SIEMENS</td>\n",
       "      <td>Breast_MRI_001</td>\n",
       "      <td>1</td>\n",
       "    </tr>\n",
       "    <tr>\n",
       "      <th>2</th>\n",
       "      <td>MR</td>\n",
       "      <td>1.1</td>\n",
       "      <td>[0.80357140302658, 0.80357140302658]</td>\n",
       "      <td>19900101</td>\n",
       "      <td>SIEMENS</td>\n",
       "      <td>Breast_MRI_001</td>\n",
       "      <td>2</td>\n",
       "    </tr>\n",
       "    <tr>\n",
       "      <th>3</th>\n",
       "      <td>MR</td>\n",
       "      <td>1.1</td>\n",
       "      <td>[0.80357140302658, 0.80357140302658]</td>\n",
       "      <td>19900101</td>\n",
       "      <td>SIEMENS</td>\n",
       "      <td>Breast_MRI_001</td>\n",
       "      <td>3</td>\n",
       "    </tr>\n",
       "    <tr>\n",
       "      <th>4</th>\n",
       "      <td>MR</td>\n",
       "      <td>1.1</td>\n",
       "      <td>[0.80357140302658, 0.80357140302658]</td>\n",
       "      <td>19900101</td>\n",
       "      <td>SIEMENS</td>\n",
       "      <td>Breast_MRI_001</td>\n",
       "      <td>4</td>\n",
       "    </tr>\n",
       "    <tr>\n",
       "      <th>5</th>\n",
       "      <td>MR</td>\n",
       "      <td>1.1</td>\n",
       "      <td>[0.80357140302658, 0.80357140302658]</td>\n",
       "      <td>19900101</td>\n",
       "      <td>SIEMENS</td>\n",
       "      <td>Breast_MRI_001</td>\n",
       "      <td>5</td>\n",
       "    </tr>\n",
       "    <tr>\n",
       "      <th>6</th>\n",
       "      <td>MR</td>\n",
       "      <td>1.1</td>\n",
       "      <td>[0.80357140302658, 0.80357140302658]</td>\n",
       "      <td>19900101</td>\n",
       "      <td>SIEMENS</td>\n",
       "      <td>Breast_MRI_001</td>\n",
       "      <td>6</td>\n",
       "    </tr>\n",
       "    <tr>\n",
       "      <th>7</th>\n",
       "      <td>MR</td>\n",
       "      <td>1.1</td>\n",
       "      <td>[0.80357140302658, 0.80357140302658]</td>\n",
       "      <td>19900101</td>\n",
       "      <td>SIEMENS</td>\n",
       "      <td>Breast_MRI_001</td>\n",
       "      <td>7</td>\n",
       "    </tr>\n",
       "    <tr>\n",
       "      <th>8</th>\n",
       "      <td>MR</td>\n",
       "      <td>1.1</td>\n",
       "      <td>[0.80357140302658, 0.80357140302658]</td>\n",
       "      <td>19900101</td>\n",
       "      <td>SIEMENS</td>\n",
       "      <td>Breast_MRI_001</td>\n",
       "      <td>8</td>\n",
       "    </tr>\n",
       "    <tr>\n",
       "      <th>9</th>\n",
       "      <td>MR</td>\n",
       "      <td>1.1</td>\n",
       "      <td>[0.80357140302658, 0.80357140302658]</td>\n",
       "      <td>19900101</td>\n",
       "      <td>SIEMENS</td>\n",
       "      <td>Breast_MRI_001</td>\n",
       "      <td>9</td>\n",
       "    </tr>\n",
       "  </tbody>\n",
       "</table>\n",
       "</div>"
      ],
      "text/plain": [
       "  Modality  SliceThickness                          PixelSpacing SeriesDate  \\\n",
       "0       MR             1.1  [0.80357140302658, 0.80357140302658]   19900101   \n",
       "1       MR             1.1  [0.80357140302658, 0.80357140302658]   19900101   \n",
       "2       MR             1.1  [0.80357140302658, 0.80357140302658]   19900101   \n",
       "3       MR             1.1  [0.80357140302658, 0.80357140302658]   19900101   \n",
       "4       MR             1.1  [0.80357140302658, 0.80357140302658]   19900101   \n",
       "5       MR             1.1  [0.80357140302658, 0.80357140302658]   19900101   \n",
       "6       MR             1.1  [0.80357140302658, 0.80357140302658]   19900101   \n",
       "7       MR             1.1  [0.80357140302658, 0.80357140302658]   19900101   \n",
       "8       MR             1.1  [0.80357140302658, 0.80357140302658]   19900101   \n",
       "9       MR             1.1  [0.80357140302658, 0.80357140302658]   19900101   \n",
       "\n",
       "  Manufacturer         patient slice#  \n",
       "0      SIEMENS  Breast_MRI_001      0  \n",
       "1      SIEMENS  Breast_MRI_001      1  \n",
       "2      SIEMENS  Breast_MRI_001      2  \n",
       "3      SIEMENS  Breast_MRI_001      3  \n",
       "4      SIEMENS  Breast_MRI_001      4  \n",
       "5      SIEMENS  Breast_MRI_001      5  \n",
       "6      SIEMENS  Breast_MRI_001      6  \n",
       "7      SIEMENS  Breast_MRI_001      7  \n",
       "8      SIEMENS  Breast_MRI_001      8  \n",
       "9      SIEMENS  Breast_MRI_001      9  "
      ]
     },
     "execution_count": 4,
     "metadata": {},
     "output_type": "execute_result"
    }
   ],
   "source": [
    "dataset_description = data_dcms.get_dataset_description() \n",
    "dataset_description.head(10)"
   ]
  },
  {
   "cell_type": "code",
   "execution_count": 5,
   "id": "4ab66475",
   "metadata": {},
   "outputs": [
    {
     "name": "stdout",
     "output_type": "stream",
     "text": [
      "Unique modalities found:  MR\n"
     ]
    }
   ],
   "source": [
    "print('Unique modalities found: ', np.unique(dataset_description.Modality.values)[0])"
   ]
  },
  {
   "cell_type": "code",
   "execution_count": 6,
   "id": "b1790f2b",
   "metadata": {},
   "outputs": [
    {
     "name": "stderr",
     "output_type": "stream",
     "text": [
      "100%|██████████| 3/3 [00:00<00:00, 115.55it/s]\n",
      "Patients processed: 100%|██████████| 3/3 [00:01<00:00,  2.34it/s]\n"
     ]
    },
    {
     "data": {
      "text/html": [
       "<div>\n",
       "<style scoped>\n",
       "    .dataframe tbody tr th:only-of-type {\n",
       "        vertical-align: middle;\n",
       "    }\n",
       "\n",
       "    .dataframe tbody tr th {\n",
       "        vertical-align: top;\n",
       "    }\n",
       "\n",
       "    .dataframe thead th {\n",
       "        text-align: right;\n",
       "    }\n",
       "</style>\n",
       "<table border=\"1\" class=\"dataframe\">\n",
       "  <thead>\n",
       "    <tr style=\"text-align: right;\">\n",
       "      <th></th>\n",
       "      <th>Manufacturer</th>\n",
       "      <th>SliceThickness</th>\n",
       "      <th>PixelSpacing</th>\n",
       "      <th>StudyDate</th>\n",
       "      <th>MagneticFieldStrength</th>\n",
       "      <th>EchoTime</th>\n",
       "      <th>patient</th>\n",
       "      <th>slice#</th>\n",
       "    </tr>\n",
       "  </thead>\n",
       "  <tbody>\n",
       "    <tr>\n",
       "      <th>0</th>\n",
       "      <td>SIEMENS</td>\n",
       "      <td>1.1</td>\n",
       "      <td>[0.80357140302658, 0.80357140302658]</td>\n",
       "      <td>19900101</td>\n",
       "      <td>1.5</td>\n",
       "      <td>1.36</td>\n",
       "      <td>Breast_MRI_001</td>\n",
       "      <td>0</td>\n",
       "    </tr>\n",
       "    <tr>\n",
       "      <th>1</th>\n",
       "      <td>SIEMENS</td>\n",
       "      <td>1.1</td>\n",
       "      <td>[0.80357140302658, 0.80357140302658]</td>\n",
       "      <td>19900101</td>\n",
       "      <td>1.5</td>\n",
       "      <td>1.36</td>\n",
       "      <td>Breast_MRI_001</td>\n",
       "      <td>1</td>\n",
       "    </tr>\n",
       "    <tr>\n",
       "      <th>2</th>\n",
       "      <td>SIEMENS</td>\n",
       "      <td>1.1</td>\n",
       "      <td>[0.80357140302658, 0.80357140302658]</td>\n",
       "      <td>19900101</td>\n",
       "      <td>1.5</td>\n",
       "      <td>1.36</td>\n",
       "      <td>Breast_MRI_001</td>\n",
       "      <td>2</td>\n",
       "    </tr>\n",
       "    <tr>\n",
       "      <th>3</th>\n",
       "      <td>SIEMENS</td>\n",
       "      <td>1.1</td>\n",
       "      <td>[0.80357140302658, 0.80357140302658]</td>\n",
       "      <td>19900101</td>\n",
       "      <td>1.5</td>\n",
       "      <td>1.36</td>\n",
       "      <td>Breast_MRI_001</td>\n",
       "      <td>3</td>\n",
       "    </tr>\n",
       "    <tr>\n",
       "      <th>4</th>\n",
       "      <td>SIEMENS</td>\n",
       "      <td>1.1</td>\n",
       "      <td>[0.80357140302658, 0.80357140302658]</td>\n",
       "      <td>19900101</td>\n",
       "      <td>1.5</td>\n",
       "      <td>1.36</td>\n",
       "      <td>Breast_MRI_001</td>\n",
       "      <td>4</td>\n",
       "    </tr>\n",
       "    <tr>\n",
       "      <th>5</th>\n",
       "      <td>SIEMENS</td>\n",
       "      <td>1.1</td>\n",
       "      <td>[0.80357140302658, 0.80357140302658]</td>\n",
       "      <td>19900101</td>\n",
       "      <td>1.5</td>\n",
       "      <td>1.36</td>\n",
       "      <td>Breast_MRI_001</td>\n",
       "      <td>5</td>\n",
       "    </tr>\n",
       "    <tr>\n",
       "      <th>6</th>\n",
       "      <td>SIEMENS</td>\n",
       "      <td>1.1</td>\n",
       "      <td>[0.80357140302658, 0.80357140302658]</td>\n",
       "      <td>19900101</td>\n",
       "      <td>1.5</td>\n",
       "      <td>1.36</td>\n",
       "      <td>Breast_MRI_001</td>\n",
       "      <td>6</td>\n",
       "    </tr>\n",
       "    <tr>\n",
       "      <th>7</th>\n",
       "      <td>SIEMENS</td>\n",
       "      <td>1.1</td>\n",
       "      <td>[0.80357140302658, 0.80357140302658]</td>\n",
       "      <td>19900101</td>\n",
       "      <td>1.5</td>\n",
       "      <td>1.36</td>\n",
       "      <td>Breast_MRI_001</td>\n",
       "      <td>7</td>\n",
       "    </tr>\n",
       "    <tr>\n",
       "      <th>8</th>\n",
       "      <td>SIEMENS</td>\n",
       "      <td>1.1</td>\n",
       "      <td>[0.80357140302658, 0.80357140302658]</td>\n",
       "      <td>19900101</td>\n",
       "      <td>1.5</td>\n",
       "      <td>1.36</td>\n",
       "      <td>Breast_MRI_001</td>\n",
       "      <td>8</td>\n",
       "    </tr>\n",
       "    <tr>\n",
       "      <th>9</th>\n",
       "      <td>SIEMENS</td>\n",
       "      <td>1.1</td>\n",
       "      <td>[0.80357140302658, 0.80357140302658]</td>\n",
       "      <td>19900101</td>\n",
       "      <td>1.5</td>\n",
       "      <td>1.36</td>\n",
       "      <td>Breast_MRI_001</td>\n",
       "      <td>9</td>\n",
       "    </tr>\n",
       "  </tbody>\n",
       "</table>\n",
       "</div>"
      ],
      "text/plain": [
       "  Manufacturer  SliceThickness                          PixelSpacing  \\\n",
       "0      SIEMENS             1.1  [0.80357140302658, 0.80357140302658]   \n",
       "1      SIEMENS             1.1  [0.80357140302658, 0.80357140302658]   \n",
       "2      SIEMENS             1.1  [0.80357140302658, 0.80357140302658]   \n",
       "3      SIEMENS             1.1  [0.80357140302658, 0.80357140302658]   \n",
       "4      SIEMENS             1.1  [0.80357140302658, 0.80357140302658]   \n",
       "5      SIEMENS             1.1  [0.80357140302658, 0.80357140302658]   \n",
       "6      SIEMENS             1.1  [0.80357140302658, 0.80357140302658]   \n",
       "7      SIEMENS             1.1  [0.80357140302658, 0.80357140302658]   \n",
       "8      SIEMENS             1.1  [0.80357140302658, 0.80357140302658]   \n",
       "9      SIEMENS             1.1  [0.80357140302658, 0.80357140302658]   \n",
       "\n",
       "  StudyDate  MagneticFieldStrength  EchoTime         patient slice#  \n",
       "0  19900101                    1.5      1.36  Breast_MRI_001      0  \n",
       "1  19900101                    1.5      1.36  Breast_MRI_001      1  \n",
       "2  19900101                    1.5      1.36  Breast_MRI_001      2  \n",
       "3  19900101                    1.5      1.36  Breast_MRI_001      3  \n",
       "4  19900101                    1.5      1.36  Breast_MRI_001      4  \n",
       "5  19900101                    1.5      1.36  Breast_MRI_001      5  \n",
       "6  19900101                    1.5      1.36  Breast_MRI_001      6  \n",
       "7  19900101                    1.5      1.36  Breast_MRI_001      7  \n",
       "8  19900101                    1.5      1.36  Breast_MRI_001      8  \n",
       "9  19900101                    1.5      1.36  Breast_MRI_001      9  "
      ]
     },
     "execution_count": 6,
     "metadata": {},
     "output_type": "execute_result"
    }
   ],
   "source": [
    "MRI_dcms = ToolBox(**parameters)\n",
    "dataset_description = MRI_dcms.get_dataset_description('MRI') \n",
    "dataset_description.head(10)"
   ]
  },
  {
   "cell_type": "code",
   "execution_count": 10,
   "id": "49121f98",
   "metadata": {},
   "outputs": [
    {
     "data": {
      "image/png": "[encoded data removed]",
      "text/plain": [
       "<Figure size 1800x1080 with 6 Axes>"
      ]
     },
     "metadata": {},
     "output_type": "display_data"
    }
   ],
   "source": [
    "sb.set(context='poster', style='whitegrid')\n",
    "#changed some of these to fit this dataset\n",
    "study_date = sorted([ 'Nan' if x=='' or x=='NaN' else str(x[0:4]) for x in list(dataset_description['StudyDate'])])[2:]\n",
    "manu =['Nan' if x=='' or x=='NaN' else x for x in list(dataset_description['Manufacturer'])]\n",
    "magfield_strength =[-1 if x=='' or x=='NaN' else x for x in list(dataset_description['MagneticFieldStrength'])]\n",
    "echot =[-1 if x=='' or x=='NaN' else x for x in list(dataset_description['EchoTime'])]\n",
    "ps = sorted([(x[0]) for x in list(filter(lambda x: x != 'NaN', dataset_description['PixelSpacing'].values))])\n",
    "sl_th = sorted([str(x)[0:3] for x in list(filter(lambda x: x != 'NaN', dataset_description['SliceThickness'].values))])\n",
    "figures,descriptions = [study_date,manu,magfield_strength,echot,ps,sl_th],['Study Date','Manufacturer','MagneticFieldStrength','EchoTime','Pixel spacing','Slice Thickness']\n",
    "\n",
    "fig,ax = plt.subplots(2,3,figsize=(25,15))\n",
    "for i in range(2):\n",
    "    for j in range(3):\n",
    "        ax[i,j].hist(figures.pop(0),alpha=0.7)\n",
    "        ax[i,j].set_title(descriptions.pop(0),fontsize=20)"
   ]
  },
  {
   "cell_type": "code",
   "execution_count": 14,
   "id": "ef903443",
   "metadata": {},
   "outputs": [],
   "source": [
    "qc_params = {'specific_modality': 'MR', # target modality: CT\n",
    "            'thickness_range': [1,2], # slice thickness should be in range of 2..5 mm (changed to 1-2 for this set)\n",
    "            'spacing_range': [0.5,1.25], # pixel spacing should be in range of 0.5..1.25 mm\n",
    "            'scan_length_range': [5,170], # scan should contain from 5 to 170 slices\n",
    "            'axial_res': [512,512], # the axial resolution should be 512x512\n",
    "            'kernels_list': ['standard','lung','b19f']} # the following kernels are acceptable"
   ]
  },
  {
   "cell_type": "code",
   "execution_count": 15,
   "id": "e9a60b89",
   "metadata": {},
   "outputs": [
    {
     "name": "stderr",
     "output_type": "stream",
     "text": [
      "  0%|          | 0/3 [00:00<?, ?it/s]C:\\Users\\MegaMert\\Documents\\GitHub\\precision-medicine-toolbox\\pmtool\\ToolBox.py:559: UserWarning: Problems occured with rescaling intensities\n",
      "  warn('Problems occured with rescaling intensities')\n",
      " 67%|██████▋   | 2/3 [00:00<00:00,  4.41it/s]"
     ]
    },
    {
     "name": "stdout",
     "output_type": "stream",
     "text": [
      "Cannot perform conv kernel check for pat: Breast_MRI_001\n",
      "Cannot perform conv kernel check for pat: Breast_MRI_002\n"
     ]
    },
    {
     "name": "stderr",
     "output_type": "stream",
     "text": [
      "100%|██████████| 3/3 [00:00<00:00,  4.68it/s]"
     ]
    },
    {
     "name": "stdout",
     "output_type": "stream",
     "text": [
      "Cannot perform conv kernel check for pat: Breast_MRI_003\n"
     ]
    },
    {
     "name": "stderr",
     "output_type": "stream",
     "text": [
      "\n"
     ]
    }
   ],
   "source": [
    "qc_dataframe = MRI_dcms.get_quality_checks(qc_params)"
   ]
  },
  {
   "cell_type": "code",
   "execution_count": 16,
   "id": "d18b31c8",
   "metadata": {},
   "outputs": [
    {
     "data": {
      "text/html": [
       "<div>\n",
       "<style scoped>\n",
       "    .dataframe tbody tr th:only-of-type {\n",
       "        vertical-align: middle;\n",
       "    }\n",
       "\n",
       "    .dataframe tbody tr th {\n",
       "        vertical-align: top;\n",
       "    }\n",
       "\n",
       "    .dataframe thead th {\n",
       "        text-align: right;\n",
       "    }\n",
       "</style>\n",
       "<table border=\"1\" class=\"dataframe\">\n",
       "  <thead>\n",
       "    <tr style=\"text-align: right;\">\n",
       "      <th></th>\n",
       "      <th>Patient id</th>\n",
       "      <th>Modality is acceptable</th>\n",
       "      <th>Projection is axial</th>\n",
       "      <th>Complete scan (no missing/overlapping slices)</th>\n",
       "      <th>Scan len is in range</th>\n",
       "      <th>Slice thickness is in range</th>\n",
       "      <th>Slice thickness is consistent</th>\n",
       "      <th>Pixel spacing is in range</th>\n",
       "      <th>Convolutional kernel tag is present</th>\n",
       "      <th>Convolutional kernel is acceptable</th>\n",
       "      <th>Axial pr. resolution is acceptable</th>\n",
       "      <th>Intensity intercept/slope tags are present</th>\n",
       "    </tr>\n",
       "  </thead>\n",
       "  <tbody>\n",
       "    <tr>\n",
       "      <th>0</th>\n",
       "      <td>Breast_MRI_001</td>\n",
       "      <td>1</td>\n",
       "      <td>0</td>\n",
       "      <td>0</td>\n",
       "      <td>1</td>\n",
       "      <td>1</td>\n",
       "      <td>1</td>\n",
       "      <td>1</td>\n",
       "      <td>0</td>\n",
       "      <td>NaN</td>\n",
       "      <td>0</td>\n",
       "      <td>0</td>\n",
       "    </tr>\n",
       "    <tr>\n",
       "      <th>1</th>\n",
       "      <td>Breast_MRI_002</td>\n",
       "      <td>1</td>\n",
       "      <td>1</td>\n",
       "      <td>1</td>\n",
       "      <td>1</td>\n",
       "      <td>0</td>\n",
       "      <td>1</td>\n",
       "      <td>1</td>\n",
       "      <td>0</td>\n",
       "      <td>NaN</td>\n",
       "      <td>0</td>\n",
       "      <td>0</td>\n",
       "    </tr>\n",
       "    <tr>\n",
       "      <th>2</th>\n",
       "      <td>Breast_MRI_003</td>\n",
       "      <td>1</td>\n",
       "      <td>1</td>\n",
       "      <td>1</td>\n",
       "      <td>1</td>\n",
       "      <td>1</td>\n",
       "      <td>1</td>\n",
       "      <td>1</td>\n",
       "      <td>0</td>\n",
       "      <td>NaN</td>\n",
       "      <td>0</td>\n",
       "      <td>0</td>\n",
       "    </tr>\n",
       "  </tbody>\n",
       "</table>\n",
       "</div>"
      ],
      "text/plain": [
       "       Patient id Modality is acceptable Projection is axial  \\\n",
       "0  Breast_MRI_001                      1                   0   \n",
       "1  Breast_MRI_002                      1                   1   \n",
       "2  Breast_MRI_003                      1                   1   \n",
       "\n",
       "  Complete scan (no missing/overlapping slices) Scan len is in range  \\\n",
       "0                                             0                    1   \n",
       "1                                             1                    1   \n",
       "2                                             1                    1   \n",
       "\n",
       "  Slice thickness is in range Slice thickness is consistent  \\\n",
       "0                           1                             1   \n",
       "1                           0                             1   \n",
       "2                           1                             1   \n",
       "\n",
       "  Pixel spacing is in range Convolutional kernel tag is present  \\\n",
       "0                         1                                   0   \n",
       "1                         1                                   0   \n",
       "2                         1                                   0   \n",
       "\n",
       "  Convolutional kernel is acceptable Axial pr. resolution is acceptable  \\\n",
       "0                                NaN                                  0   \n",
       "1                                NaN                                  0   \n",
       "2                                NaN                                  0   \n",
       "\n",
       "  Intensity intercept/slope tags are present  \n",
       "0                                          0  \n",
       "1                                          0  \n",
       "2                                          0  "
      ]
     },
     "execution_count": 16,
     "metadata": {},
     "output_type": "execute_result"
    }
   ],
   "source": [
    "qc_dataframe"
   ]
  },
  {
   "cell_type": "code",
   "execution_count": 17,
   "id": "832d7cd1",
   "metadata": {},
   "outputs": [
    {
     "name": "stderr",
     "output_type": "stream",
     "text": [
      "100%|██████████| 3/3 [00:00<00:00, 143.25it/s]\n"
     ]
    }
   ],
   "source": [
    "export_path = r'C:\\Users\\MegaMert\\Desktop\\Internship files\\Tutorial data\\Converted'\n",
    "region_of_interest = 'all'\n",
    "data_ct = ToolBox(**parameters) \n"
   ]
  },
  {
   "cell_type": "code",
   "execution_count": 18,
   "id": "75339b83",
   "metadata": {},
   "outputs": [
    {
     "name": "stderr",
     "output_type": "stream",
     "text": [
      "Patients converted:   0%|          | 0/3 [00:00<?, ?it/s]\n"
     ]
    },
    {
     "ename": "IndexError",
     "evalue": "list index out of range",
     "output_type": "error",
     "traceback": [
      "\u001b[1;31m---------------------------------------------------------------------------\u001b[0m",
      "\u001b[1;31mIndexError\u001b[0m                                Traceback (most recent call last)",
      "\u001b[1;32m~\\AppData\\Local\\Temp/ipykernel_8416/1650419876.py\u001b[0m in \u001b[0;36m<module>\u001b[1;34m\u001b[0m\n\u001b[1;32m----> 1\u001b[1;33m \u001b[0mdata_ct\u001b[0m\u001b[1;33m.\u001b[0m\u001b[0mconvert_to_nrrd\u001b[0m\u001b[1;33m(\u001b[0m\u001b[0mexport_path\u001b[0m\u001b[1;33m)\u001b[0m\u001b[1;33m\u001b[0m\u001b[1;33m\u001b[0m\u001b[0m\n\u001b[0m",
      "\u001b[1;32m~\\Documents\\GitHub\\precision-medicine-toolbox\\pmtool\\ToolBox.py\u001b[0m in \u001b[0;36mconvert_to_nrrd\u001b[1;34m(self, export_path, region_of_interest, image_type)\u001b[0m\n\u001b[0;32m    162\u001b[0m             \u001b[1;32mfor\u001b[0m \u001b[0mpat\u001b[0m\u001b[1;33m,\u001b[0m\u001b[0mpat_path\u001b[0m \u001b[1;32min\u001b[0m \u001b[0mtqdm\u001b[0m\u001b[1;33m(\u001b[0m\u001b[0mself\u001b[0m\u001b[1;33m,\u001b[0m\u001b[0mdesc\u001b[0m\u001b[1;33m=\u001b[0m\u001b[1;34m'Patients converted'\u001b[0m\u001b[1;33m)\u001b[0m\u001b[1;33m:\u001b[0m\u001b[1;33m\u001b[0m\u001b[1;33m\u001b[0m\u001b[0m\n\u001b[0;32m    163\u001b[0m                 \u001b[0mimg_path\u001b[0m \u001b[1;33m=\u001b[0m \u001b[0mpat_path\u001b[0m\u001b[1;33m[\u001b[0m\u001b[1;36m0\u001b[0m\u001b[1;33m]\u001b[0m\u001b[1;33m\u001b[0m\u001b[1;33m\u001b[0m\u001b[0m\n\u001b[1;32m--> 164\u001b[1;33m                 \u001b[0mrt_path\u001b[0m \u001b[1;33m=\u001b[0m \u001b[0mpat_path\u001b[0m\u001b[1;33m[\u001b[0m\u001b[1;36m1\u001b[0m\u001b[1;33m]\u001b[0m\u001b[1;33m\u001b[0m\u001b[1;33m\u001b[0m\u001b[0m\n\u001b[0m\u001b[0;32m    165\u001b[0m                 \u001b[1;32mtry\u001b[0m\u001b[1;33m:\u001b[0m\u001b[1;33m\u001b[0m\u001b[1;33m\u001b[0m\u001b[0m\n\u001b[0;32m    166\u001b[0m                     \u001b[0mrt_structure\u001b[0m\u001b[1;33m,\u001b[0m\u001b[0mroi_list\u001b[0m \u001b[1;33m=\u001b[0m \u001b[0mself\u001b[0m\u001b[1;33m.\u001b[0m\u001b[0m__get_roi\u001b[0m\u001b[1;33m(\u001b[0m\u001b[0mregion_of_interest\u001b[0m\u001b[1;33m,\u001b[0m\u001b[0mrt_path\u001b[0m\u001b[1;33m)\u001b[0m\u001b[1;33m\u001b[0m\u001b[1;33m\u001b[0m\u001b[0m\n",
      "\u001b[1;31mIndexError\u001b[0m: list index out of range"
     ]
    }
   ],
   "source": [
    "data_ct.convert_to_nrrd(export_path)"
   ]
  },
  {
   "cell_type": "code",
   "execution_count": null,
   "id": "8b07a5e8",
   "metadata": {},
   "outputs": [],
   "source": [
    "data_ct_nrrd = ToolBox(data_path = r'C:\\Users\\MegaMert\\Desktop\\Internship files\\Tutorial data\\Converted\\Test', data_type='nrrd')\n"
   ]
  },
  {
   "cell_type": "code",
   "execution_count": null,
   "id": "fd6ee3cb",
   "metadata": {},
   "outputs": [],
   "source": [
    "data_ct_nrrd.get_jpegs(r'C:\\Users\\MegaMert\\Desktop\\Internship files\\Tutorial data\\Converted') # the function will create 'images_quick_check' folder in the specified directory "
   ]
  },
  {
   "cell_type": "code",
   "execution_count": null,
   "id": "e8ac7494",
   "metadata": {},
   "outputs": [],
   "source": [
    "from ipywidgets import interact\n",
    "import numpy as np\n",
    "from PIL import Image\n",
    "\n",
    "def browse_images(images,names):\n",
    "    n = len(images)\n",
    "    def view_image(i):\n",
    "        plt.figure(figsize=(20,10))\n",
    "        plt.imshow(images[i])#, cmap=plt.cm.gray_r, interpolation='nearest')\n",
    "        plt.title('Slice: %s' % names[i])\n",
    "        plt.axis('off')\n",
    "        plt.show()\n",
    "    interact(view_image, i=(0,n-1))\n",
    "\n",
    "for pat,_ in data_ct_nrrd:\n",
    "    _,file_struct = [*os.walk(os.path.join(r'C:\\Users\\MegaMert\\Desktop\\Internship files\\Tutorial data\\Converted\\images_quick_check',pat))]\n",
    "    root,images = file_struct[0],file_struct[2]\n",
    "    imgs =[np.array(Image.open(os.path.join(root,img))) for img in images]\n",
    "    print(pat)\n",
    "    browse_images(imgs,images)\n",
    "    break"
   ]
  },
  {
   "cell_type": "code",
   "execution_count": null,
   "id": "96b2aa43",
   "metadata": {},
   "outputs": [],
   "source": [
    "parameters = r\"C:\\Users\\MegaMert\\Documents\\GitHub\\precision-medicine-toolbox\\examples\\example_ct_parameters.yaml\"\n",
    "features = data_ct_nrrd.extract_features(parameters, loggenabled=True)"
   ]
  },
  {
   "cell_type": "code",
   "execution_count": null,
   "id": "f9451d64",
   "metadata": {},
   "outputs": [],
   "source": [
    "sb.set(context='poster', style='white')\n",
    "data_ct_nrrd.pre_process(ref_img_path = r'C:\\Users\\MegaMert\\Desktop\\Internship files\\Tutorial data\\Converted\\converted_nrrds\\LUNG1-001_1-1\\image.nrrd',\n",
    "                         save_path = r'C:\\Users\\MegaMert\\Desktop\\Internship files\\Tutorial data\\Converted\\Preprocessed',\n",
    "                         hist_match = False,        # boolean\n",
    "                         subcateneus_fat = False,   # boolean\n",
    "                         fat_value = 774,           # this is a dummy value, \n",
    "                                                    # you would need to find that value for each image\n",
    "                         percentile_scaling = False, # boolean\n",
    "                         window_filtering_params = (1500,-600), #Window Filtering [WW,WL]\n",
    "                         binning = 255,             # this is a dummy value, it takes False or int \n",
    "                                                    # (# of bins for intensity resampling)\n",
    "                         verbosity = True,          # boolean\n",
    "                         z_score = True,           # boolean \n",
    "                         hist_equalize = True,     # boolean\n",
    "                         norm_coeff = (1000.,500.), # these are dummy values, you would need to estimate real mu and sigma\n",
    "                                                    # it takes None or tuple: (mu,sigma)\n",
    "                         visualize = True)"
   ]
  },
  {
   "cell_type": "code",
   "execution_count": null,
   "id": "05256868",
   "metadata": {},
   "outputs": [],
   "source": [
    "features.head(3)"
   ]
  },
  {
   "cell_type": "code",
   "execution_count": null,
   "id": "447e8ff5",
   "metadata": {},
   "outputs": [],
   "source": [
    "writer = pd.ExcelWriter(r'C:\\Users\\MegaMert\\Documents\\GitHub\\precision-medicine-toolbox\\data/features/extracted_features.xlsx') \n",
    "features.to_excel(writer, 'Sheet1')\n",
    "writer.save()"
   ]
  },
  {
   "cell_type": "code",
   "execution_count": null,
   "id": "9c97cbec",
   "metadata": {},
   "outputs": [],
   "source": []
  }
 ],
 "metadata": {
  "kernelspec": {
   "display_name": "Python 3 (ipykernel)",
   "language": "python",
   "name": "python3"
  },
  "language_info": {
   "codemirror_mode": {
    "name": "ipython",
    "version": 3
   },
   "file_extension": ".py",
   "mimetype": "text/x-python",
   "name": "python",
   "nbconvert_exporter": "python",
   "pygments_lexer": "ipython3",
   "version": "3.9.7"
  }
 },
 "nbformat": 4,
 "nbformat_minor": 5
}
