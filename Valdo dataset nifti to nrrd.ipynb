{
 "cells": [
  {
   "cell_type": "code",
   "execution_count": 17,
   "id": "17a3f03d",
   "metadata": {},
   "outputs": [],
   "source": [
    "import numpy as np\n",
    "import nibabel as nib\n",
    "import nrrd\n",
    "import os\n",
    "from os import listdir\n",
    "from os.path import isfile, join"
   ]
  },
  {
   "cell_type": "code",
   "execution_count": 33,
   "id": "0028596b",
   "metadata": {},
   "outputs": [
    {
     "name": "stdout",
     "output_type": "stream",
     "text": [
      "['sub-101', 'sub-102', 'sub-103', 'sub-104', 'sub-105', 'sub-106', 'sub-209', 'sub-211', 'sub-219', 'sub-223', 'sub-224', 'sub-231']\n",
      "['E:\\\\Internship Mass storage\\\\First 3 datasets\\\\VALDO dataset\\\\Task1/sub-101', 'E:\\\\Internship Mass storage\\\\First 3 datasets\\\\VALDO dataset\\\\Task1/sub-102', 'E:\\\\Internship Mass storage\\\\First 3 datasets\\\\VALDO dataset\\\\Task1/sub-103', 'E:\\\\Internship Mass storage\\\\First 3 datasets\\\\VALDO dataset\\\\Task1/sub-104', 'E:\\\\Internship Mass storage\\\\First 3 datasets\\\\VALDO dataset\\\\Task1/sub-105', 'E:\\\\Internship Mass storage\\\\First 3 datasets\\\\VALDO dataset\\\\Task1/sub-106', 'E:\\\\Internship Mass storage\\\\First 3 datasets\\\\VALDO dataset\\\\Task1/sub-209', 'E:\\\\Internship Mass storage\\\\First 3 datasets\\\\VALDO dataset\\\\Task1/sub-211', 'E:\\\\Internship Mass storage\\\\First 3 datasets\\\\VALDO dataset\\\\Task1/sub-219', 'E:\\\\Internship Mass storage\\\\First 3 datasets\\\\VALDO dataset\\\\Task1/sub-223', 'E:\\\\Internship Mass storage\\\\First 3 datasets\\\\VALDO dataset\\\\Task1/sub-224', 'E:\\\\Internship Mass storage\\\\First 3 datasets\\\\VALDO dataset\\\\Task1/sub-231']\n"
     ]
    }
   ],
   "source": [
    "mypath = r\"E:\\Internship Mass storage\\First 3 datasets\\VALDO dataset\\Task1\"\n",
    "target_location = r'E:\\Internship Mass storage\\First 3 datasets\\VALDO dataset\\Task1 nrrds/'\n",
    "patients = os.listdir(mypath)\n",
    "print(patients)\n",
    "patientpaths = []\n",
    "for sub in patients:\n",
    "    patientpath = mypath + \"/\" + sub\n",
    "    patientpaths.append(patientpath)\n",
    "print(patientpaths)"
   ]
  },
  {
   "cell_type": "code",
   "execution_count": 40,
   "id": "8ab5a997",
   "metadata": {},
   "outputs": [],
   "source": [
    "for patientdirectory in patientpaths:\n",
    "    createdirtarget = patientdirectory.removeprefix(mypath + \"/\")\n",
    "    dircreatepath = os.path.join(target_location, createdirtarget)\n",
    "    os.mkdir(dircreatepath)\n",
    "    onlyfiles = [f for f in listdir(patientdirectory) if isfile(join(patientdirectory, f))]\n",
    "    filepaths = [patientdirectory + \"/\" + s for s in onlyfiles]\n",
    "    for niftiname in filepaths:\n",
    "        img = nib.load(niftiname)\n",
    "\n",
    "        niftiarray = np.array(img.dataobj)\n",
    "\n",
    "        \n",
    "        nrrdname = niftiname.removesuffix('.nii') + \".nrrd\"\n",
    "        nrrdname = nrrdname.removeprefix(patientdirectory + \"/\")\n",
    "        target_file = target_location + createdirtarget + \"/\" + nrrdname\n",
    "        data = niftiarray\n",
    "        nrrd.write(target_file, data)\n"
   ]
  },
  {
   "cell_type": "code",
   "execution_count": 39,
   "id": "674612c8",
   "metadata": {},
   "outputs": [],
   "source": [
    "\n",
    "\n",
    "img = nib.load(r'E:\\Internship Mass storage\\First 3 datasets\\VALDO dataset\\Task1\\sub-101\\sub-101_space-T1_desc-masked_FLAIR.nii')\n",
    "\n",
    "niftiarray = np.array(img.dataobj)\n",
    "\n",
    "target_location = r'E:\\Internship Mass storage\\First 3 datasets\\VALDO dataset\\Task1 nrrds/'\n",
    "target_file = target_location + 'sub-101_space-T1_desc-masked_FLAIR.nrrd'\n",
    "data = niftiarray\n",
    "nrrd.write(target_file, data)"
   ]
  },
  {
   "cell_type": "code",
   "execution_count": 12,
   "id": "31aa9960",
   "metadata": {},
   "outputs": [
    {
     "name": "stdout",
     "output_type": "stream",
     "text": [
      "E:\\Internship Mass storage\\First 3 datasets\\VALDO dataset\\Task1\\sub-101\\sub-101_space-T1_desc-masked_FLAIR.nrrd\n"
     ]
    }
   ],
   "source": [
    "testnifti = r'E:\\Internship Mass storage\\First 3 datasets\\VALDO dataset\\Task1\\sub-101\\sub-101_space-T1_desc-masked_FLAIR.nii'\n",
    "testnrrd = testnifti.removesuffix('.nii') + \".nrrd\"\n",
    "print(testnrrd)"
   ]
  },
  {
   "cell_type": "code",
   "execution_count": null,
   "id": "0a233dde",
   "metadata": {},
   "outputs": [],
   "source": []
  }
 ],
 "metadata": {
  "kernelspec": {
   "display_name": "Python 3 (ipykernel)",
   "language": "python",
   "name": "python3"
  },
  "language_info": {
   "codemirror_mode": {
    "name": "ipython",
    "version": 3
   },
   "file_extension": ".py",
   "mimetype": "text/x-python",
   "name": "python",
   "nbconvert_exporter": "python",
   "pygments_lexer": "ipython3",
   "version": "3.9.7"
  }
 },
 "nbformat": 4,
 "nbformat_minor": 5
}
