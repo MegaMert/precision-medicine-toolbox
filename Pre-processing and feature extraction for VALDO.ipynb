{
 "cells": [
  {
   "cell_type": "code",
   "execution_count": 1,
   "id": "96c6b70a",
   "metadata": {},
   "outputs": [],
   "source": [
    "import os,sys\n",
    "from pmtool.ToolBox import ToolBox\n",
    "import pandas as pd\n",
    "from pandas import DataFrame\n",
    "import matplotlib.pyplot as plt\n",
    "import numpy as np\n",
    "import seaborn as sb\n",
    "\n",
    "%matplotlib inline"
   ]
  },
  {
   "cell_type": "code",
   "execution_count": 2,
   "id": "e5a5503b",
   "metadata": {},
   "outputs": [
    {
     "name": "stderr",
     "output_type": "stream",
     "text": [
      "100%|██████████| 12/12 [00:02<00:00,  5.05it/s]\n"
     ]
    }
   ],
   "source": [
    "data_ct_nrrd = ToolBox(data_path = r'E:\\Internship Mass storage\\First 3 datasets\\VALDO dataset\\Test', data_type='nrrd')"
   ]
  },
  {
   "cell_type": "code",
   "execution_count": 3,
   "id": "46a0f207",
   "metadata": {},
   "outputs": [
    {
     "name": "stderr",
     "output_type": "stream",
     "text": [
      "Patients processed: 100%|██████████| 12/12 [02:18<00:00, 11.58s/it]\n"
     ]
    }
   ],
   "source": [
    "data_ct_nrrd.get_jpegs(r'E:\\Internship Mass storage\\First 3 datasets\\VALDO dataset')"
   ]
  },
  {
   "cell_type": "code",
   "execution_count": 3,
   "id": "c0f32ed1",
   "metadata": {},
   "outputs": [
    {
     "name": "stderr",
     "output_type": "stream",
     "text": [
      "100%|██████████| 12/12 [00:00<00:00, 572.99it/s]\n",
      "  0%|          | 0/357 [00:00<?, ?it/s]"
     ]
    },
    {
     "name": "stdout",
     "output_type": "stream",
     "text": [
      "min:  0.0 max:  150.0 step:  0.5882352941176471\n"
     ]
    },
    {
     "name": "stderr",
     "output_type": "stream",
     "text": [
      "\r",
      "  0%|          | 1/357 [00:26<2:34:21, 26.01s/it]"
     ]
    },
    {
     "name": "stdout",
     "output_type": "stream",
     "text": [
      "min:  0.0 max:  150.0 step:  0.5882352941176471\n"
     ]
    },
    {
     "name": "stderr",
     "output_type": "stream",
     "text": [
      "\r",
      "  1%|          | 2/357 [00:52<2:35:46, 26.33s/it]"
     ]
    },
    {
     "name": "stdout",
     "output_type": "stream",
     "text": [
      "min:  0.0 max:  150.0 step:  0.5882352941176471\n"
     ]
    },
    {
     "name": "stderr",
     "output_type": "stream",
     "text": [
      "\r",
      "  1%|          | 3/357 [01:18<2:33:11, 25.97s/it]"
     ]
    },
    {
     "name": "stdout",
     "output_type": "stream",
     "text": [
      "min:  0.0 max:  150.0 step:  0.5882352941176471\n"
     ]
    },
    {
     "name": "stderr",
     "output_type": "stream",
     "text": [
      "\r",
      "  1%|          | 4/357 [01:44<2:34:26, 26.25s/it]"
     ]
    },
    {
     "name": "stdout",
     "output_type": "stream",
     "text": [
      "min:  0.0 max:  150.0 step:  0.5882352941176471\n"
     ]
    },
    {
     "name": "stderr",
     "output_type": "stream",
     "text": [
      "\r",
      "  1%|▏         | 5/357 [02:11<2:34:26, 26.33s/it]"
     ]
    },
    {
     "name": "stdout",
     "output_type": "stream",
     "text": [
      "min:  0.0 max:  150.0 step:  0.5882352941176471\n"
     ]
    },
    {
     "name": "stderr",
     "output_type": "stream",
     "text": [
      "\r",
      "  2%|▏         | 6/357 [02:36<2:32:44, 26.11s/it]"
     ]
    },
    {
     "name": "stdout",
     "output_type": "stream",
     "text": [
      "min:  0.0 max:  150.0 step:  0.5882352941176471\n"
     ]
    },
    {
     "name": "stderr",
     "output_type": "stream",
     "text": [
      "\r",
      "  2%|▏         | 7/357 [03:02<2:31:28, 25.97s/it]"
     ]
    },
    {
     "name": "stdout",
     "output_type": "stream",
     "text": [
      "min:  0.0 max:  150.0 step:  0.5882352941176471\n"
     ]
    },
    {
     "name": "stderr",
     "output_type": "stream",
     "text": [
      "\r",
      "  2%|▏         | 8/357 [03:28<2:30:55, 25.95s/it]"
     ]
    },
    {
     "name": "stdout",
     "output_type": "stream",
     "text": [
      "min:  0.0 max:  150.0 step:  0.5882352941176471\n"
     ]
    },
    {
     "name": "stderr",
     "output_type": "stream",
     "text": [
      "\r",
      "  3%|▎         | 9/357 [03:54<2:31:06, 26.05s/it]"
     ]
    },
    {
     "name": "stdout",
     "output_type": "stream",
     "text": [
      "min:  0.0 max:  150.0 step:  0.5882352941176471\n"
     ]
    },
    {
     "name": "stderr",
     "output_type": "stream",
     "text": [
      "\r",
      "  3%|▎         | 10/357 [04:20<2:30:05, 25.95s/it]"
     ]
    },
    {
     "name": "stdout",
     "output_type": "stream",
     "text": [
      "min:  0.0 max:  150.0 step:  0.5882352941176471\n"
     ]
    },
    {
     "name": "stderr",
     "output_type": "stream",
     "text": [
      "\r",
      "  3%|▎         | 11/357 [04:48<2:32:46, 26.49s/it]"
     ]
    },
    {
     "name": "stdout",
     "output_type": "stream",
     "text": [
      "min:  0.0 max:  150.0 step:  0.5882352941176471\n"
     ]
    },
    {
     "name": "stderr",
     "output_type": "stream",
     "text": [
      "\r",
      "  3%|▎         | 12/357 [05:15<2:33:34, 26.71s/it]"
     ]
    },
    {
     "name": "stdout",
     "output_type": "stream",
     "text": [
      "min:  0.0 max:  150.0 step:  0.5882352941176471\n"
     ]
    },
    {
     "name": "stderr",
     "output_type": "stream",
     "text": [
      "\r",
      "  4%|▎         | 13/357 [05:42<2:33:12, 26.72s/it]"
     ]
    },
    {
     "name": "stdout",
     "output_type": "stream",
     "text": [
      "min:  0.0 max:  150.0 step:  0.5882352941176471\n"
     ]
    },
    {
     "name": "stderr",
     "output_type": "stream",
     "text": [
      "\r",
      "  4%|▍         | 14/357 [06:08<2:31:22, 26.48s/it]"
     ]
    },
    {
     "name": "stdout",
     "output_type": "stream",
     "text": [
      "min:  0.0 max:  150.0 step:  0.5882352941176471\n"
     ]
    },
    {
     "name": "stderr",
     "output_type": "stream",
     "text": [
      "\r",
      "  4%|▍         | 15/357 [06:33<2:29:06, 26.16s/it]"
     ]
    },
    {
     "name": "stdout",
     "output_type": "stream",
     "text": [
      "min:  0.0 max:  150.0 step:  0.5882352941176471\n"
     ]
    },
    {
     "name": "stderr",
     "output_type": "stream",
     "text": [
      "\r",
      "  4%|▍         | 16/357 [06:59<2:27:45, 26.00s/it]"
     ]
    },
    {
     "name": "stdout",
     "output_type": "stream",
     "text": [
      "min:  0.0 max:  150.0 step:  0.5882352941176471\n"
     ]
    },
    {
     "name": "stderr",
     "output_type": "stream",
     "text": [
      "\r",
      "  5%|▍         | 17/357 [07:27<2:30:42, 26.59s/it]"
     ]
    },
    {
     "name": "stdout",
     "output_type": "stream",
     "text": [
      "min:  0.0 max:  150.0 step:  0.5882352941176471\n"
     ]
    },
    {
     "name": "stderr",
     "output_type": "stream",
     "text": [
      "\r",
      "  5%|▌         | 18/357 [07:53<2:29:53, 26.53s/it]"
     ]
    },
    {
     "name": "stdout",
     "output_type": "stream",
     "text": [
      "min:  0.0 max:  150.0 step:  0.5882352941176471\n"
     ]
    },
    {
     "name": "stderr",
     "output_type": "stream",
     "text": [
      "\r",
      "  5%|▌         | 19/357 [08:19<2:27:48, 26.24s/it]"
     ]
    },
    {
     "name": "stdout",
     "output_type": "stream",
     "text": [
      "min:  0.0 max:  150.0 step:  0.5882352941176471\n"
     ]
    },
    {
     "name": "stderr",
     "output_type": "stream",
     "text": [
      "\r",
      "  6%|▌         | 20/357 [08:43<2:23:50, 25.61s/it]"
     ]
    },
    {
     "name": "stdout",
     "output_type": "stream",
     "text": [
      "min:  0.0 max:  150.0 step:  0.5882352941176471\n"
     ]
    },
    {
     "name": "stderr",
     "output_type": "stream",
     "text": [
      "\r",
      "  6%|▌         | 21/357 [09:07<2:21:37, 25.29s/it]"
     ]
    },
    {
     "name": "stdout",
     "output_type": "stream",
     "text": [
      "min:  0.0 max:  150.0 step:  0.5882352941176471\n"
     ]
    },
    {
     "name": "stderr",
     "output_type": "stream",
     "text": [
      "\r",
      "  6%|▌         | 22/357 [09:31<2:19:10, 24.93s/it]"
     ]
    },
    {
     "name": "stdout",
     "output_type": "stream",
     "text": [
      "min:  0.0 max:  150.0 step:  0.5882352941176471\n"
     ]
    },
    {
     "name": "stderr",
     "output_type": "stream",
     "text": [
      "\r",
      "  6%|▋         | 23/357 [09:55<2:16:00, 24.43s/it]"
     ]
    },
    {
     "name": "stdout",
     "output_type": "stream",
     "text": [
      "min:  0.0 max:  150.0 step:  0.5882352941176471\n"
     ]
    },
    {
     "name": "stderr",
     "output_type": "stream",
     "text": [
      "\r",
      "  7%|▋         | 24/357 [10:19<2:15:15, 24.37s/it]"
     ]
    },
    {
     "name": "stdout",
     "output_type": "stream",
     "text": [
      "min:  0.0 max:  150.0 step:  0.5882352941176471\n"
     ]
    },
    {
     "name": "stderr",
     "output_type": "stream",
     "text": [
      "\r",
      "  7%|▋         | 25/357 [10:43<2:14:20, 24.28s/it]"
     ]
    },
    {
     "name": "stdout",
     "output_type": "stream",
     "text": [
      "min:  0.0 max:  150.0 step:  0.5882352941176471\n"
     ]
    },
    {
     "name": "stderr",
     "output_type": "stream",
     "text": [
      "\r",
      "  7%|▋         | 26/357 [11:07<2:13:24, 24.18s/it]"
     ]
    },
    {
     "name": "stdout",
     "output_type": "stream",
     "text": [
      "min:  0.0 max:  150.0 step:  0.5882352941176471\n"
     ]
    },
    {
     "name": "stderr",
     "output_type": "stream",
     "text": [
      "\r",
      "  8%|▊         | 27/357 [11:33<2:16:23, 24.80s/it]"
     ]
    },
    {
     "name": "stdout",
     "output_type": "stream",
     "text": [
      "min:  0.0 max:  150.0 step:  0.5882352941176471\n"
     ]
    },
    {
     "name": "stderr",
     "output_type": "stream",
     "text": [
      "\r",
      "  8%|▊         | 28/357 [11:59<2:17:37, 25.10s/it]"
     ]
    },
    {
     "name": "stdout",
     "output_type": "stream",
     "text": [
      "min:  0.0 max:  150.0 step:  0.5882352941176471\n"
     ]
    },
    {
     "name": "stderr",
     "output_type": "stream",
     "text": [
      "\r",
      "  8%|▊         | 29/357 [12:24<2:16:27, 24.96s/it]"
     ]
    },
    {
     "name": "stdout",
     "output_type": "stream",
     "text": [
      "min:  0.0 max:  150.0 step:  0.5882352941176471\n"
     ]
    },
    {
     "name": "stderr",
     "output_type": "stream",
     "text": [
      "\r",
      "  8%|▊         | 30/357 [12:50<2:18:47, 25.47s/it]"
     ]
    },
    {
     "name": "stdout",
     "output_type": "stream",
     "text": [
      "min:  0.0 max:  150.0 step:  0.5882352941176471\n"
     ]
    },
    {
     "name": "stderr",
     "output_type": "stream",
     "text": [
      "\r",
      "  9%|▊         | 31/357 [13:15<2:17:13, 25.26s/it]"
     ]
    },
    {
     "name": "stdout",
     "output_type": "stream",
     "text": [
      "min:  0.0 max:  150.0 step:  0.5882352941176471\n"
     ]
    },
    {
     "name": "stderr",
     "output_type": "stream",
     "text": [
      "\r",
      "  9%|▉         | 32/357 [13:39<2:14:55, 24.91s/it]"
     ]
    },
    {
     "name": "stdout",
     "output_type": "stream",
     "text": [
      "min:  0.0 max:  150.0 step:  0.5882352941176471\n"
     ]
    },
    {
     "name": "stderr",
     "output_type": "stream",
     "text": [
      "\r",
      "  9%|▉         | 33/357 [14:04<2:14:08, 24.84s/it]"
     ]
    },
    {
     "name": "stdout",
     "output_type": "stream",
     "text": [
      "min:  0.0 max:  150.0 step:  0.5882352941176471\n"
     ]
    },
    {
     "name": "stderr",
     "output_type": "stream",
     "text": [
      "\r",
      " 10%|▉         | 34/357 [14:28<2:12:42, 24.65s/it]"
     ]
    },
    {
     "name": "stdout",
     "output_type": "stream",
     "text": [
      "min:  0.0 max:  150.0 step:  0.5882352941176471\n"
     ]
    },
    {
     "name": "stderr",
     "output_type": "stream",
     "text": [
      "\r",
      " 10%|▉         | 35/357 [14:53<2:13:24, 24.86s/it]"
     ]
    },
    {
     "name": "stdout",
     "output_type": "stream",
     "text": [
      "min:  0.0 max:  150.0 step:  0.5882352941176471\n"
     ]
    },
    {
     "name": "stderr",
     "output_type": "stream",
     "text": [
      "\r",
      " 10%|█         | 36/357 [15:20<2:16:01, 25.43s/it]"
     ]
    },
    {
     "name": "stdout",
     "output_type": "stream",
     "text": [
      "min:  0.0 max:  150.0 step:  0.5882352941176471\n"
     ]
    },
    {
     "name": "stderr",
     "output_type": "stream",
     "text": [
      "\r",
      " 10%|█         | 37/357 [15:44<2:13:54, 25.11s/it]"
     ]
    },
    {
     "name": "stdout",
     "output_type": "stream",
     "text": [
      "min:  0.0 max:  150.0 step:  0.5882352941176471\n"
     ]
    },
    {
     "name": "stderr",
     "output_type": "stream",
     "text": [
      "\r",
      " 11%|█         | 38/357 [16:11<2:15:09, 25.42s/it]"
     ]
    },
    {
     "name": "stdout",
     "output_type": "stream",
     "text": [
      "min:  0.0 max:  150.0 step:  0.5882352941176471\n"
     ]
    },
    {
     "name": "stderr",
     "output_type": "stream",
     "text": [
      "\r",
      " 11%|█         | 39/357 [16:37<2:16:24, 25.74s/it]"
     ]
    },
    {
     "name": "stdout",
     "output_type": "stream",
     "text": [
      "min:  0.0 max:  150.0 step:  0.5882352941176471\n"
     ]
    },
    {
     "name": "stderr",
     "output_type": "stream",
     "text": [
      "\r",
      " 11%|█         | 40/357 [17:03<2:16:32, 25.84s/it]"
     ]
    },
    {
     "name": "stdout",
     "output_type": "stream",
     "text": [
      "min:  0.0 max:  150.0 step:  0.5882352941176471\n"
     ]
    },
    {
     "name": "stderr",
     "output_type": "stream",
     "text": [
      "\r",
      " 11%|█▏        | 41/357 [17:29<2:16:15, 25.87s/it]"
     ]
    },
    {
     "name": "stdout",
     "output_type": "stream",
     "text": [
      "min:  0.0 max:  150.0 step:  0.5882352941176471\n"
     ]
    },
    {
     "name": "stderr",
     "output_type": "stream",
     "text": [
      "\r",
      " 12%|█▏        | 42/357 [17:54<2:14:46, 25.67s/it]"
     ]
    },
    {
     "name": "stdout",
     "output_type": "stream",
     "text": [
      "min:  0.0 max:  150.0 step:  0.5882352941176471\n"
     ]
    },
    {
     "name": "stderr",
     "output_type": "stream",
     "text": [
      "\r",
      " 12%|█▏        | 43/357 [18:20<2:14:50, 25.77s/it]"
     ]
    },
    {
     "name": "stdout",
     "output_type": "stream",
     "text": [
      "min:  0.0 max:  150.0 step:  0.5882352941176471\n"
     ]
    },
    {
     "name": "stderr",
     "output_type": "stream",
     "text": [
      "\r",
      " 12%|█▏        | 44/357 [18:46<2:14:01, 25.69s/it]"
     ]
    },
    {
     "name": "stdout",
     "output_type": "stream",
     "text": [
      "min:  0.0 max:  150.0 step:  0.5882352941176471\n"
     ]
    },
    {
     "name": "stderr",
     "output_type": "stream",
     "text": [
      "\r",
      " 13%|█▎        | 45/357 [19:11<2:12:54, 25.56s/it]"
     ]
    },
    {
     "name": "stdout",
     "output_type": "stream",
     "text": [
      "min:  0.0 max:  150.0 step:  0.5882352941176471\n"
     ]
    },
    {
     "name": "stderr",
     "output_type": "stream",
     "text": [
      "\r",
      " 13%|█▎        | 46/357 [19:36<2:12:00, 25.47s/it]"
     ]
    },
    {
     "name": "stdout",
     "output_type": "stream",
     "text": [
      "min:  0.0 max:  150.0 step:  0.5882352941176471\n"
     ]
    },
    {
     "name": "stderr",
     "output_type": "stream",
     "text": [
      "\r",
      " 13%|█▎        | 47/357 [20:01<2:10:52, 25.33s/it]"
     ]
    },
    {
     "name": "stdout",
     "output_type": "stream",
     "text": [
      "min:  0.0 max:  150.0 step:  0.5882352941176471\n"
     ]
    },
    {
     "name": "stderr",
     "output_type": "stream",
     "text": [
      "\r",
      " 13%|█▎        | 48/357 [20:27<2:10:19, 25.31s/it]"
     ]
    },
    {
     "name": "stdout",
     "output_type": "stream",
     "text": [
      "min:  0.0 max:  150.0 step:  0.5882352941176471\n"
     ]
    },
    {
     "name": "stderr",
     "output_type": "stream",
     "text": [
      "\r",
      " 14%|█▎        | 49/357 [20:52<2:10:27, 25.41s/it]"
     ]
    },
    {
     "name": "stdout",
     "output_type": "stream",
     "text": [
      "min:  0.0 max:  150.0 step:  0.5882352941176471\n"
     ]
    },
    {
     "name": "stderr",
     "output_type": "stream",
     "text": [
      "\r",
      " 14%|█▍        | 50/357 [21:18<2:10:56, 25.59s/it]"
     ]
    },
    {
     "name": "stdout",
     "output_type": "stream",
     "text": [
      "min:  0.0 max:  150.0 step:  0.5882352941176471\n"
     ]
    },
    {
     "name": "stderr",
     "output_type": "stream",
     "text": [
      "\r",
      " 14%|█▍        | 51/357 [21:44<2:11:23, 25.76s/it]"
     ]
    },
    {
     "name": "stdout",
     "output_type": "stream",
     "text": [
      "min:  0.0 max:  150.0 step:  0.5882352941176471\n"
     ]
    },
    {
     "name": "stderr",
     "output_type": "stream",
     "text": [
      "\r",
      " 15%|█▍        | 52/357 [22:10<2:10:58, 25.77s/it]"
     ]
    },
    {
     "name": "stdout",
     "output_type": "stream",
     "text": [
      "min:  0.0 max:  150.0 step:  0.5882352941176471\n"
     ]
    },
    {
     "name": "stderr",
     "output_type": "stream",
     "text": [
      "\r",
      " 15%|█▍        | 53/357 [22:36<2:10:48, 25.82s/it]"
     ]
    },
    {
     "name": "stdout",
     "output_type": "stream",
     "text": [
      "min:  0.0 max:  150.0 step:  0.5882352941176471\n"
     ]
    },
    {
     "name": "stderr",
     "output_type": "stream",
     "text": [
      "\r",
      " 15%|█▌        | 54/357 [23:01<2:09:20, 25.61s/it]"
     ]
    },
    {
     "name": "stdout",
     "output_type": "stream",
     "text": [
      "min:  0.0 max:  150.0 step:  0.5882352941176471\n"
     ]
    },
    {
     "name": "stderr",
     "output_type": "stream",
     "text": [
      "\r",
      " 15%|█▌        | 55/357 [23:26<2:07:42, 25.37s/it]"
     ]
    },
    {
     "name": "stdout",
     "output_type": "stream",
     "text": [
      "min:  0.0 max:  150.0 step:  0.5882352941176471\n"
     ]
    },
    {
     "name": "stderr",
     "output_type": "stream",
     "text": [
      "\r",
      " 16%|█▌        | 56/357 [23:51<2:06:34, 25.23s/it]"
     ]
    },
    {
     "name": "stdout",
     "output_type": "stream",
     "text": [
      "min:  0.0 max:  150.0 step:  0.5882352941176471\n"
     ]
    },
    {
     "name": "stderr",
     "output_type": "stream",
     "text": [
      "\r",
      " 16%|█▌        | 57/357 [24:16<2:06:19, 25.26s/it]"
     ]
    },
    {
     "name": "stdout",
     "output_type": "stream",
     "text": [
      "min:  0.0 max:  150.0 step:  0.5882352941176471\n"
     ]
    },
    {
     "name": "stderr",
     "output_type": "stream",
     "text": [
      "\r",
      " 16%|█▌        | 58/357 [24:41<2:05:00, 25.09s/it]"
     ]
    },
    {
     "name": "stdout",
     "output_type": "stream",
     "text": [
      "min:  0.0 max:  150.0 step:  0.5882352941176471\n"
     ]
    },
    {
     "name": "stderr",
     "output_type": "stream",
     "text": [
      "\r",
      " 17%|█▋        | 59/357 [25:06<2:04:53, 25.14s/it]"
     ]
    },
    {
     "name": "stdout",
     "output_type": "stream",
     "text": [
      "min:  0.0 max:  150.0 step:  0.5882352941176471\n"
     ]
    },
    {
     "name": "stderr",
     "output_type": "stream",
     "text": [
      "\r",
      " 17%|█▋        | 60/357 [25:31<2:03:28, 24.95s/it]"
     ]
    },
    {
     "name": "stdout",
     "output_type": "stream",
     "text": [
      "min:  0.0 max:  150.0 step:  0.5882352941176471\n"
     ]
    },
    {
     "name": "stderr",
     "output_type": "stream",
     "text": [
      "\r",
      " 17%|█▋        | 61/357 [25:56<2:03:26, 25.02s/it]"
     ]
    },
    {
     "name": "stdout",
     "output_type": "stream",
     "text": [
      "min:  0.0 max:  150.0 step:  0.5882352941176471\n"
     ]
    },
    {
     "name": "stderr",
     "output_type": "stream",
     "text": [
      "\r",
      " 17%|█▋        | 62/357 [26:20<2:01:24, 24.69s/it]"
     ]
    },
    {
     "name": "stdout",
     "output_type": "stream",
     "text": [
      "min:  0.0 max:  150.0 step:  0.5882352941176471\n"
     ]
    },
    {
     "name": "stderr",
     "output_type": "stream",
     "text": [
      "\r",
      " 18%|█▊        | 63/357 [26:45<2:01:05, 24.71s/it]"
     ]
    },
    {
     "name": "stdout",
     "output_type": "stream",
     "text": [
      "min:  0.0 max:  150.0 step:  0.5882352941176471\n"
     ]
    },
    {
     "name": "stderr",
     "output_type": "stream",
     "text": [
      "\r",
      " 18%|█▊        | 64/357 [27:09<2:00:36, 24.70s/it]"
     ]
    },
    {
     "name": "stdout",
     "output_type": "stream",
     "text": [
      "min:  0.0 max:  150.0 step:  0.5882352941176471\n"
     ]
    },
    {
     "name": "stderr",
     "output_type": "stream",
     "text": [
      "\r",
      " 18%|█▊        | 65/357 [27:34<2:00:11, 24.70s/it]"
     ]
    },
    {
     "name": "stdout",
     "output_type": "stream",
     "text": [
      "min:  0.0 max:  150.0 step:  0.5882352941176471\n"
     ]
    },
    {
     "name": "stderr",
     "output_type": "stream",
     "text": [
      "\r",
      " 18%|█▊        | 66/357 [27:59<2:00:07, 24.77s/it]"
     ]
    },
    {
     "name": "stdout",
     "output_type": "stream",
     "text": [
      "min:  0.0 max:  150.0 step:  0.5882352941176471\n"
     ]
    },
    {
     "name": "stderr",
     "output_type": "stream",
     "text": [
      "\r",
      " 19%|█▉        | 67/357 [28:24<2:00:21, 24.90s/it]"
     ]
    },
    {
     "name": "stdout",
     "output_type": "stream",
     "text": [
      "min:  0.0 max:  150.0 step:  0.5882352941176471\n"
     ]
    },
    {
     "name": "stderr",
     "output_type": "stream",
     "text": [
      "\r",
      " 19%|█▉        | 68/357 [28:49<1:59:49, 24.88s/it]"
     ]
    },
    {
     "name": "stdout",
     "output_type": "stream",
     "text": [
      "min:  0.0 max:  150.0 step:  0.5882352941176471\n"
     ]
    },
    {
     "name": "stderr",
     "output_type": "stream",
     "text": [
      "\r",
      " 19%|█▉        | 69/357 [29:14<1:59:12, 24.84s/it]"
     ]
    },
    {
     "name": "stdout",
     "output_type": "stream",
     "text": [
      "min:  0.0 max:  150.0 step:  0.5882352941176471\n"
     ]
    },
    {
     "name": "stderr",
     "output_type": "stream",
     "text": [
      "\r",
      " 20%|█▉        | 70/357 [29:38<1:58:28, 24.77s/it]"
     ]
    },
    {
     "name": "stdout",
     "output_type": "stream",
     "text": [
      "min:  0.0 max:  150.0 step:  0.5882352941176471\n"
     ]
    },
    {
     "name": "stderr",
     "output_type": "stream",
     "text": [
      "\r",
      " 20%|█▉        | 71/357 [30:03<1:57:43, 24.70s/it]"
     ]
    },
    {
     "name": "stdout",
     "output_type": "stream",
     "text": [
      "min:  0.0 max:  150.0 step:  0.5882352941176471\n"
     ]
    },
    {
     "name": "stderr",
     "output_type": "stream",
     "text": [
      "\r",
      " 20%|██        | 72/357 [30:27<1:56:53, 24.61s/it]"
     ]
    },
    {
     "name": "stdout",
     "output_type": "stream",
     "text": [
      "min:  0.0 max:  150.0 step:  0.5882352941176471\n"
     ]
    },
    {
     "name": "stderr",
     "output_type": "stream",
     "text": [
      "\r",
      " 20%|██        | 73/357 [30:52<1:56:12, 24.55s/it]"
     ]
    },
    {
     "name": "stdout",
     "output_type": "stream",
     "text": [
      "min:  0.0 max:  150.0 step:  0.5882352941176471\n"
     ]
    },
    {
     "name": "stderr",
     "output_type": "stream",
     "text": [
      "\r",
      " 21%|██        | 74/357 [31:16<1:56:12, 24.64s/it]"
     ]
    },
    {
     "name": "stdout",
     "output_type": "stream",
     "text": [
      "min:  0.0 max:  150.0 step:  0.5882352941176471\n"
     ]
    },
    {
     "name": "stderr",
     "output_type": "stream",
     "text": [
      "\r",
      " 21%|██        | 75/357 [31:42<1:56:34, 24.80s/it]"
     ]
    },
    {
     "name": "stdout",
     "output_type": "stream",
     "text": [
      "min:  0.0 max:  150.0 step:  0.5882352941176471\n"
     ]
    },
    {
     "name": "stderr",
     "output_type": "stream",
     "text": [
      "\r",
      " 21%|██▏       | 76/357 [32:08<1:58:08, 25.23s/it]"
     ]
    },
    {
     "name": "stdout",
     "output_type": "stream",
     "text": [
      "min:  0.0 max:  150.0 step:  0.5882352941176471\n"
     ]
    },
    {
     "name": "stderr",
     "output_type": "stream",
     "text": [
      "\r",
      " 22%|██▏       | 77/357 [32:33<1:57:17, 25.14s/it]"
     ]
    },
    {
     "name": "stdout",
     "output_type": "stream",
     "text": [
      "min:  0.0 max:  150.0 step:  0.5882352941176471\n"
     ]
    },
    {
     "name": "stderr",
     "output_type": "stream",
     "text": [
      "\r",
      " 22%|██▏       | 78/357 [32:59<1:58:02, 25.39s/it]"
     ]
    },
    {
     "name": "stdout",
     "output_type": "stream",
     "text": [
      "min:  0.0 max:  150.0 step:  0.5882352941176471\n"
     ]
    },
    {
     "name": "stderr",
     "output_type": "stream",
     "text": [
      "\r",
      " 22%|██▏       | 79/357 [33:24<1:57:27, 25.35s/it]"
     ]
    },
    {
     "name": "stdout",
     "output_type": "stream",
     "text": [
      "min:  0.0 max:  150.0 step:  0.5882352941176471\n"
     ]
    },
    {
     "name": "stderr",
     "output_type": "stream",
     "text": [
      "\r",
      " 22%|██▏       | 80/357 [33:50<1:57:14, 25.39s/it]"
     ]
    },
    {
     "name": "stdout",
     "output_type": "stream",
     "text": [
      "min:  0.0 max:  150.0 step:  0.5882352941176471\n"
     ]
    },
    {
     "name": "stderr",
     "output_type": "stream",
     "text": [
      "\r",
      " 23%|██▎       | 81/357 [34:16<1:57:37, 25.57s/it]"
     ]
    },
    {
     "name": "stdout",
     "output_type": "stream",
     "text": [
      "min:  0.0 max:  150.0 step:  0.5882352941176471\n"
     ]
    },
    {
     "name": "stderr",
     "output_type": "stream",
     "text": [
      "\r",
      " 23%|██▎       | 82/357 [34:41<1:56:28, 25.41s/it]"
     ]
    },
    {
     "name": "stdout",
     "output_type": "stream",
     "text": [
      "min:  0.0 max:  150.0 step:  0.5882352941176471\n"
     ]
    },
    {
     "name": "stderr",
     "output_type": "stream",
     "text": [
      "\r",
      " 23%|██▎       | 83/357 [35:05<1:55:18, 25.25s/it]"
     ]
    },
    {
     "name": "stdout",
     "output_type": "stream",
     "text": [
      "min:  0.0 max:  150.0 step:  0.5882352941176471\n"
     ]
    },
    {
     "name": "stderr",
     "output_type": "stream",
     "text": [
      "\r",
      " 24%|██▎       | 84/357 [35:30<1:54:26, 25.15s/it]"
     ]
    },
    {
     "name": "stdout",
     "output_type": "stream",
     "text": [
      "min:  0.0 max:  150.0 step:  0.5882352941176471\n"
     ]
    },
    {
     "name": "stderr",
     "output_type": "stream",
     "text": [
      "\r",
      " 24%|██▍       | 85/357 [35:55<1:53:23, 25.01s/it]"
     ]
    },
    {
     "name": "stdout",
     "output_type": "stream",
     "text": [
      "min:  0.0 max:  150.0 step:  0.5882352941176471\n"
     ]
    },
    {
     "name": "stderr",
     "output_type": "stream",
     "text": [
      "\r",
      " 24%|██▍       | 86/357 [36:19<1:52:05, 24.82s/it]"
     ]
    },
    {
     "name": "stdout",
     "output_type": "stream",
     "text": [
      "min:  0.0 max:  150.0 step:  0.5882352941176471\n"
     ]
    },
    {
     "name": "stderr",
     "output_type": "stream",
     "text": [
      "\r",
      " 24%|██▍       | 87/357 [36:44<1:51:13, 24.72s/it]"
     ]
    },
    {
     "name": "stdout",
     "output_type": "stream",
     "text": [
      "min:  0.0 max:  150.0 step:  0.5882352941176471\n"
     ]
    },
    {
     "name": "stderr",
     "output_type": "stream",
     "text": [
      "\r",
      " 25%|██▍       | 88/357 [37:09<1:50:44, 24.70s/it]"
     ]
    },
    {
     "name": "stdout",
     "output_type": "stream",
     "text": [
      "min:  0.0 max:  150.0 step:  0.5882352941176471\n"
     ]
    },
    {
     "name": "stderr",
     "output_type": "stream",
     "text": [
      "\r",
      " 25%|██▍       | 89/357 [37:34<1:50:49, 24.81s/it]"
     ]
    },
    {
     "name": "stdout",
     "output_type": "stream",
     "text": [
      "min:  0.0 max:  150.0 step:  0.5882352941176471\n"
     ]
    },
    {
     "name": "stderr",
     "output_type": "stream",
     "text": [
      "\r",
      " 25%|██▌       | 90/357 [37:59<1:51:45, 25.11s/it]"
     ]
    },
    {
     "name": "stdout",
     "output_type": "stream",
     "text": [
      "min:  0.0 max:  150.0 step:  0.5882352941176471\n"
     ]
    },
    {
     "name": "stderr",
     "output_type": "stream",
     "text": [
      "\r",
      " 25%|██▌       | 91/357 [38:25<1:52:27, 25.37s/it]"
     ]
    },
    {
     "name": "stdout",
     "output_type": "stream",
     "text": [
      "min:  0.0 max:  150.0 step:  0.5882352941176471\n"
     ]
    },
    {
     "name": "stderr",
     "output_type": "stream",
     "text": [
      "\r",
      " 26%|██▌       | 92/357 [38:50<1:50:45, 25.08s/it]"
     ]
    },
    {
     "name": "stdout",
     "output_type": "stream",
     "text": [
      "min:  0.0 max:  150.0 step:  0.5882352941176471\n"
     ]
    },
    {
     "name": "stderr",
     "output_type": "stream",
     "text": [
      "\r",
      " 26%|██▌       | 93/357 [39:14<1:49:20, 24.85s/it]"
     ]
    },
    {
     "name": "stdout",
     "output_type": "stream",
     "text": [
      "min:  0.0 max:  150.0 step:  0.5882352941176471\n"
     ]
    },
    {
     "name": "stderr",
     "output_type": "stream",
     "text": [
      "\r",
      " 26%|██▋       | 94/357 [39:39<1:48:27, 24.74s/it]"
     ]
    },
    {
     "name": "stdout",
     "output_type": "stream",
     "text": [
      "min:  0.0 max:  150.0 step:  0.5882352941176471\n"
     ]
    },
    {
     "name": "stderr",
     "output_type": "stream",
     "text": [
      "\r",
      " 27%|██▋       | 95/357 [40:03<1:47:21, 24.58s/it]"
     ]
    },
    {
     "name": "stdout",
     "output_type": "stream",
     "text": [
      "min:  0.0 max:  150.0 step:  0.5882352941176471\n"
     ]
    },
    {
     "name": "stderr",
     "output_type": "stream",
     "text": [
      "\r",
      " 27%|██▋       | 96/357 [40:28<1:47:07, 24.63s/it]"
     ]
    },
    {
     "name": "stdout",
     "output_type": "stream",
     "text": [
      "min:  0.0 max:  150.0 step:  0.5882352941176471\n"
     ]
    },
    {
     "name": "stderr",
     "output_type": "stream",
     "text": [
      "\r",
      " 27%|██▋       | 97/357 [40:52<1:46:57, 24.68s/it]"
     ]
    },
    {
     "name": "stdout",
     "output_type": "stream",
     "text": [
      "min:  0.0 max:  150.0 step:  0.5882352941176471\n"
     ]
    },
    {
     "name": "stderr",
     "output_type": "stream",
     "text": [
      "\r",
      " 27%|██▋       | 98/357 [41:16<1:45:40, 24.48s/it]"
     ]
    },
    {
     "name": "stdout",
     "output_type": "stream",
     "text": [
      "min:  0.0 max:  150.0 step:  0.5882352941176471\n"
     ]
    },
    {
     "name": "stderr",
     "output_type": "stream",
     "text": [
      "\r",
      " 28%|██▊       | 99/357 [41:41<1:45:37, 24.57s/it]"
     ]
    },
    {
     "name": "stdout",
     "output_type": "stream",
     "text": [
      "min:  0.0 max:  150.0 step:  0.5882352941176471\n"
     ]
    },
    {
     "name": "stderr",
     "output_type": "stream",
     "text": [
      "\r",
      " 28%|██▊       | 100/357 [42:06<1:45:07, 24.54s/it]"
     ]
    },
    {
     "name": "stdout",
     "output_type": "stream",
     "text": [
      "min:  0.0 max:  150.0 step:  0.5882352941176471\n"
     ]
    },
    {
     "name": "stderr",
     "output_type": "stream",
     "text": [
      "\r",
      " 28%|██▊       | 101/357 [42:30<1:45:06, 24.64s/it]"
     ]
    },
    {
     "name": "stdout",
     "output_type": "stream",
     "text": [
      "min:  0.0 max:  150.0 step:  0.5882352941176471\n"
     ]
    },
    {
     "name": "stderr",
     "output_type": "stream",
     "text": [
      "\r",
      " 29%|██▊       | 102/357 [42:55<1:44:31, 24.59s/it]"
     ]
    },
    {
     "name": "stdout",
     "output_type": "stream",
     "text": [
      "min:  0.0 max:  150.0 step:  0.5882352941176471\n"
     ]
    },
    {
     "name": "stderr",
     "output_type": "stream",
     "text": [
      "\r",
      " 29%|██▉       | 103/357 [43:19<1:43:53, 24.54s/it]"
     ]
    },
    {
     "name": "stdout",
     "output_type": "stream",
     "text": [
      "min:  0.0 max:  150.0 step:  0.5882352941176471\n"
     ]
    },
    {
     "name": "stderr",
     "output_type": "stream",
     "text": [
      "\r",
      " 29%|██▉       | 104/357 [43:44<1:43:47, 24.61s/it]"
     ]
    },
    {
     "name": "stdout",
     "output_type": "stream",
     "text": [
      "min:  0.0 max:  150.0 step:  0.5882352941176471\n"
     ]
    },
    {
     "name": "stderr",
     "output_type": "stream",
     "text": [
      "\r",
      " 29%|██▉       | 105/357 [44:09<1:43:34, 24.66s/it]"
     ]
    },
    {
     "name": "stdout",
     "output_type": "stream",
     "text": [
      "min:  0.0 max:  150.0 step:  0.5882352941176471\n"
     ]
    },
    {
     "name": "stderr",
     "output_type": "stream",
     "text": [
      "\r",
      " 30%|██▉       | 106/357 [44:35<1:44:40, 25.02s/it]"
     ]
    },
    {
     "name": "stdout",
     "output_type": "stream",
     "text": [
      "min:  0.0 max:  150.0 step:  0.5882352941176471\n"
     ]
    },
    {
     "name": "stderr",
     "output_type": "stream",
     "text": [
      "\r",
      " 30%|██▉       | 107/357 [45:04<1:49:18, 26.23s/it]"
     ]
    },
    {
     "name": "stdout",
     "output_type": "stream",
     "text": [
      "min:  0.0 max:  150.0 step:  0.5882352941176471\n"
     ]
    },
    {
     "name": "stderr",
     "output_type": "stream",
     "text": [
      "\r",
      " 30%|███       | 108/357 [45:33<1:52:00, 26.99s/it]"
     ]
    },
    {
     "name": "stdout",
     "output_type": "stream",
     "text": [
      "min:  0.0 max:  150.0 step:  0.5882352941176471\n"
     ]
    },
    {
     "name": "stderr",
     "output_type": "stream",
     "text": [
      "\r",
      " 31%|███       | 109/357 [46:00<1:51:52, 27.07s/it]"
     ]
    },
    {
     "name": "stdout",
     "output_type": "stream",
     "text": [
      "min:  0.0 max:  150.0 step:  0.5882352941176471\n"
     ]
    },
    {
     "name": "stderr",
     "output_type": "stream",
     "text": [
      "\r",
      " 31%|███       | 110/357 [46:26<1:50:18, 26.80s/it]"
     ]
    },
    {
     "name": "stdout",
     "output_type": "stream",
     "text": [
      "min:  0.0 max:  150.0 step:  0.5882352941176471\n"
     ]
    },
    {
     "name": "stderr",
     "output_type": "stream",
     "text": [
      "\r",
      " 31%|███       | 111/357 [46:51<1:47:34, 26.24s/it]"
     ]
    },
    {
     "name": "stdout",
     "output_type": "stream",
     "text": [
      "min:  0.0 max:  150.0 step:  0.5882352941176471\n"
     ]
    },
    {
     "name": "stderr",
     "output_type": "stream",
     "text": [
      "\r",
      " 31%|███▏      | 112/357 [47:16<1:45:55, 25.94s/it]"
     ]
    },
    {
     "name": "stdout",
     "output_type": "stream",
     "text": [
      "min:  0.0 max:  150.0 step:  0.5882352941176471\n"
     ]
    },
    {
     "name": "stderr",
     "output_type": "stream",
     "text": [
      "\r",
      " 32%|███▏      | 113/357 [47:42<1:45:22, 25.91s/it]"
     ]
    },
    {
     "name": "stdout",
     "output_type": "stream",
     "text": [
      "min:  0.0 max:  150.0 step:  0.5882352941176471\n"
     ]
    },
    {
     "name": "stderr",
     "output_type": "stream",
     "text": [
      "\r",
      " 32%|███▏      | 114/357 [48:07<1:43:44, 25.62s/it]"
     ]
    },
    {
     "name": "stdout",
     "output_type": "stream",
     "text": [
      "min:  0.0 max:  150.0 step:  0.5882352941176471\n"
     ]
    },
    {
     "name": "stderr",
     "output_type": "stream",
     "text": [
      "\r",
      " 32%|███▏      | 115/357 [48:33<1:44:20, 25.87s/it]"
     ]
    },
    {
     "name": "stdout",
     "output_type": "stream",
     "text": [
      "min:  0.0 max:  150.0 step:  0.5882352941176471\n"
     ]
    },
    {
     "name": "stderr",
     "output_type": "stream",
     "text": [
      "\r",
      " 32%|███▏      | 116/357 [49:01<1:45:45, 26.33s/it]"
     ]
    },
    {
     "name": "stdout",
     "output_type": "stream",
     "text": [
      "min:  0.0 max:  150.0 step:  0.5882352941176471\n"
     ]
    },
    {
     "name": "stderr",
     "output_type": "stream",
     "text": [
      "\r",
      " 33%|███▎      | 117/357 [49:27<1:45:03, 26.26s/it]"
     ]
    },
    {
     "name": "stdout",
     "output_type": "stream",
     "text": [
      "min:  0.0 max:  150.0 step:  0.5882352941176471\n"
     ]
    },
    {
     "name": "stderr",
     "output_type": "stream",
     "text": [
      "\r",
      " 33%|███▎      | 118/357 [49:54<1:45:14, 26.42s/it]"
     ]
    },
    {
     "name": "stdout",
     "output_type": "stream",
     "text": [
      "min:  0.0 max:  150.0 step:  0.5882352941176471\n"
     ]
    },
    {
     "name": "stderr",
     "output_type": "stream",
     "text": [
      "\r",
      " 33%|███▎      | 119/357 [50:21<1:45:46, 26.66s/it]"
     ]
    },
    {
     "name": "stdout",
     "output_type": "stream",
     "text": [
      "min:  0.0 max:  150.0 step:  0.5882352941176471\n"
     ]
    },
    {
     "name": "stderr",
     "output_type": "stream",
     "text": [
      "\r",
      " 34%|███▎      | 120/357 [50:46<1:43:18, 26.16s/it]"
     ]
    },
    {
     "name": "stdout",
     "output_type": "stream",
     "text": [
      "min:  0.0 max:  150.0 step:  0.5882352941176471\n"
     ]
    },
    {
     "name": "stderr",
     "output_type": "stream",
     "text": [
      "\r",
      " 34%|███▍      | 121/357 [51:12<1:42:41, 26.11s/it]"
     ]
    },
    {
     "name": "stdout",
     "output_type": "stream",
     "text": [
      "min:  0.0 max:  150.0 step:  0.5882352941176471\n"
     ]
    },
    {
     "name": "stderr",
     "output_type": "stream",
     "text": [
      "\r",
      " 34%|███▍      | 122/357 [51:37<1:41:20, 25.87s/it]"
     ]
    },
    {
     "name": "stdout",
     "output_type": "stream",
     "text": [
      "min:  0.0 max:  150.0 step:  0.5882352941176471\n"
     ]
    },
    {
     "name": "stderr",
     "output_type": "stream",
     "text": [
      "\r",
      " 34%|███▍      | 123/357 [52:02<1:39:27, 25.50s/it]"
     ]
    },
    {
     "name": "stdout",
     "output_type": "stream",
     "text": [
      "min:  0.0 max:  150.0 step:  0.5882352941176471\n"
     ]
    },
    {
     "name": "stderr",
     "output_type": "stream",
     "text": [
      "\r",
      " 35%|███▍      | 124/357 [52:26<1:37:52, 25.20s/it]"
     ]
    },
    {
     "name": "stdout",
     "output_type": "stream",
     "text": [
      "min:  0.0 max:  150.0 step:  0.5882352941176471\n"
     ]
    },
    {
     "name": "stderr",
     "output_type": "stream",
     "text": [
      "\r",
      " 35%|███▌      | 125/357 [52:51<1:36:58, 25.08s/it]"
     ]
    },
    {
     "name": "stdout",
     "output_type": "stream",
     "text": [
      "min:  0.0 max:  150.0 step:  0.5882352941176471\n"
     ]
    },
    {
     "name": "stderr",
     "output_type": "stream",
     "text": [
      "\r",
      " 35%|███▌      | 126/357 [53:16<1:35:40, 24.85s/it]"
     ]
    },
    {
     "name": "stdout",
     "output_type": "stream",
     "text": [
      "min:  0.0 max:  150.0 step:  0.5882352941176471\n"
     ]
    },
    {
     "name": "stderr",
     "output_type": "stream",
     "text": [
      "\r",
      " 36%|███▌      | 127/357 [53:40<1:34:48, 24.73s/it]"
     ]
    },
    {
     "name": "stdout",
     "output_type": "stream",
     "text": [
      "min:  0.0 max:  150.0 step:  0.5882352941176471\n"
     ]
    },
    {
     "name": "stderr",
     "output_type": "stream",
     "text": [
      "\r",
      " 36%|███▌      | 128/357 [54:04<1:33:49, 24.58s/it]"
     ]
    },
    {
     "name": "stdout",
     "output_type": "stream",
     "text": [
      "min:  0.0 max:  150.0 step:  0.5882352941176471\n"
     ]
    },
    {
     "name": "stderr",
     "output_type": "stream",
     "text": [
      "\r",
      " 36%|███▌      | 129/357 [54:29<1:33:46, 24.68s/it]"
     ]
    },
    {
     "name": "stdout",
     "output_type": "stream",
     "text": [
      "min:  0.0 max:  150.0 step:  0.5882352941176471\n"
     ]
    },
    {
     "name": "stderr",
     "output_type": "stream",
     "text": [
      "\r",
      " 36%|███▋      | 130/357 [54:55<1:35:06, 25.14s/it]"
     ]
    },
    {
     "name": "stdout",
     "output_type": "stream",
     "text": [
      "min:  0.0 max:  150.0 step:  0.5882352941176471\n"
     ]
    },
    {
     "name": "stderr",
     "output_type": "stream",
     "text": [
      "\r",
      " 37%|███▋      | 131/357 [55:20<1:34:31, 25.09s/it]"
     ]
    },
    {
     "name": "stdout",
     "output_type": "stream",
     "text": [
      "min:  0.0 max:  150.0 step:  0.5882352941176471\n"
     ]
    },
    {
     "name": "stderr",
     "output_type": "stream",
     "text": [
      "\r",
      " 37%|███▋      | 132/357 [55:45<1:33:45, 25.00s/it]"
     ]
    },
    {
     "name": "stdout",
     "output_type": "stream",
     "text": [
      "min:  0.0 max:  150.0 step:  0.5882352941176471\n"
     ]
    },
    {
     "name": "stderr",
     "output_type": "stream",
     "text": [
      "\r",
      " 37%|███▋      | 133/357 [56:10<1:32:56, 24.90s/it]"
     ]
    },
    {
     "name": "stdout",
     "output_type": "stream",
     "text": [
      "min:  0.0 max:  150.0 step:  0.5882352941176471\n"
     ]
    },
    {
     "name": "stderr",
     "output_type": "stream",
     "text": [
      "\r",
      " 38%|███▊      | 134/357 [56:34<1:32:12, 24.81s/it]"
     ]
    },
    {
     "name": "stdout",
     "output_type": "stream",
     "text": [
      "min:  0.0 max:  150.0 step:  0.5882352941176471\n"
     ]
    },
    {
     "name": "stderr",
     "output_type": "stream",
     "text": [
      "\r",
      " 38%|███▊      | 135/357 [56:59<1:31:08, 24.63s/it]"
     ]
    },
    {
     "name": "stdout",
     "output_type": "stream",
     "text": [
      "min:  0.0 max:  150.0 step:  0.5882352941176471\n"
     ]
    },
    {
     "name": "stderr",
     "output_type": "stream",
     "text": [
      "\r",
      " 38%|███▊      | 136/357 [57:23<1:30:08, 24.47s/it]"
     ]
    },
    {
     "name": "stdout",
     "output_type": "stream",
     "text": [
      "min:  0.0 max:  150.0 step:  0.5882352941176471\n"
     ]
    },
    {
     "name": "stderr",
     "output_type": "stream",
     "text": [
      "\r",
      " 38%|███▊      | 137/357 [57:48<1:30:15, 24.62s/it]"
     ]
    },
    {
     "name": "stdout",
     "output_type": "stream",
     "text": [
      "min:  0.0 max:  150.0 step:  0.5882352941176471\n"
     ]
    },
    {
     "name": "stderr",
     "output_type": "stream",
     "text": [
      "\r",
      " 39%|███▊      | 138/357 [58:14<1:31:14, 25.00s/it]"
     ]
    },
    {
     "name": "stdout",
     "output_type": "stream",
     "text": [
      "min:  0.0 max:  150.0 step:  0.5882352941176471\n"
     ]
    },
    {
     "name": "stderr",
     "output_type": "stream",
     "text": [
      "\r",
      " 39%|███▉      | 139/357 [58:39<1:31:44, 25.25s/it]"
     ]
    },
    {
     "name": "stdout",
     "output_type": "stream",
     "text": [
      "min:  0.0 max:  150.0 step:  0.5882352941176471\n"
     ]
    },
    {
     "name": "stderr",
     "output_type": "stream",
     "text": [
      "\r",
      " 39%|███▉      | 140/357 [59:05<1:32:17, 25.52s/it]"
     ]
    },
    {
     "name": "stdout",
     "output_type": "stream",
     "text": [
      "min:  0.0 max:  150.0 step:  0.5882352941176471\n"
     ]
    },
    {
     "name": "stderr",
     "output_type": "stream",
     "text": [
      "\r",
      " 39%|███▉      | 141/357 [59:31<1:32:09, 25.60s/it]"
     ]
    },
    {
     "name": "stdout",
     "output_type": "stream",
     "text": [
      "min:  0.0 max:  150.0 step:  0.5882352941176471\n"
     ]
    },
    {
     "name": "stderr",
     "output_type": "stream",
     "text": [
      "\r",
      " 40%|███▉      | 142/357 [59:56<1:31:16, 25.47s/it]"
     ]
    },
    {
     "name": "stdout",
     "output_type": "stream",
     "text": [
      "min:  0.0 max:  150.0 step:  0.5882352941176471\n"
     ]
    },
    {
     "name": "stderr",
     "output_type": "stream",
     "text": [
      "\r",
      " 40%|████      | 143/357 [1:00:22<1:31:23, 25.63s/it]"
     ]
    },
    {
     "name": "stdout",
     "output_type": "stream",
     "text": [
      "min:  0.0 max:  150.0 step:  0.5882352941176471\n"
     ]
    },
    {
     "name": "stderr",
     "output_type": "stream",
     "text": [
      "\r",
      " 40%|████      | 144/357 [1:00:49<1:31:32, 25.79s/it]"
     ]
    },
    {
     "name": "stdout",
     "output_type": "stream",
     "text": [
      "min:  0.0 max:  150.0 step:  0.5882352941176471\n"
     ]
    },
    {
     "name": "stderr",
     "output_type": "stream",
     "text": [
      "\r",
      " 41%|████      | 145/357 [1:01:14<1:30:26, 25.60s/it]"
     ]
    },
    {
     "name": "stdout",
     "output_type": "stream",
     "text": [
      "min:  0.0 max:  150.0 step:  0.5882352941176471\n"
     ]
    },
    {
     "name": "stderr",
     "output_type": "stream",
     "text": [
      "\r",
      " 41%|████      | 146/357 [1:01:41<1:31:39, 26.06s/it]"
     ]
    },
    {
     "name": "stdout",
     "output_type": "stream",
     "text": [
      "min:  0.0 max:  150.0 step:  0.5882352941176471\n"
     ]
    },
    {
     "name": "stderr",
     "output_type": "stream",
     "text": [
      "\r",
      " 41%|████      | 147/357 [1:02:07<1:31:42, 26.20s/it]"
     ]
    },
    {
     "name": "stdout",
     "output_type": "stream",
     "text": [
      "min:  0.0 max:  150.0 step:  0.5882352941176471\n"
     ]
    },
    {
     "name": "stderr",
     "output_type": "stream",
     "text": [
      "\r",
      " 41%|████▏     | 148/357 [1:02:33<1:30:29, 25.98s/it]"
     ]
    },
    {
     "name": "stdout",
     "output_type": "stream",
     "text": [
      "min:  0.0 max:  150.0 step:  0.5882352941176471\n"
     ]
    },
    {
     "name": "stderr",
     "output_type": "stream",
     "text": [
      "\r",
      " 42%|████▏     | 149/357 [1:02:59<1:30:36, 26.14s/it]"
     ]
    },
    {
     "name": "stdout",
     "output_type": "stream",
     "text": [
      "min:  0.0 max:  150.0 step:  0.5882352941176471\n"
     ]
    },
    {
     "name": "stderr",
     "output_type": "stream",
     "text": [
      "\r",
      " 42%|████▏     | 150/357 [1:03:24<1:28:35, 25.68s/it]"
     ]
    },
    {
     "name": "stdout",
     "output_type": "stream",
     "text": [
      "min:  0.0 max:  150.0 step:  0.5882352941176471\n"
     ]
    },
    {
     "name": "stderr",
     "output_type": "stream",
     "text": [
      "\r",
      " 42%|████▏     | 151/357 [1:03:49<1:27:14, 25.41s/it]"
     ]
    },
    {
     "name": "stdout",
     "output_type": "stream",
     "text": [
      "min:  0.0 max:  150.0 step:  0.5882352941176471\n"
     ]
    },
    {
     "name": "stderr",
     "output_type": "stream",
     "text": [
      "\r",
      " 43%|████▎     | 152/357 [1:04:15<1:27:27, 25.60s/it]"
     ]
    },
    {
     "name": "stdout",
     "output_type": "stream",
     "text": [
      "min:  0.0 max:  150.0 step:  0.5882352941176471\n"
     ]
    },
    {
     "name": "stderr",
     "output_type": "stream",
     "text": [
      "\r",
      " 43%|████▎     | 153/357 [1:04:41<1:27:47, 25.82s/it]"
     ]
    },
    {
     "name": "stdout",
     "output_type": "stream",
     "text": [
      "min:  0.0 max:  150.0 step:  0.5882352941176471\n"
     ]
    },
    {
     "name": "stderr",
     "output_type": "stream",
     "text": [
      "\r",
      " 43%|████▎     | 154/357 [1:05:07<1:27:37, 25.90s/it]"
     ]
    },
    {
     "name": "stdout",
     "output_type": "stream",
     "text": [
      "min:  0.0 max:  150.0 step:  0.5882352941176471\n"
     ]
    },
    {
     "name": "stderr",
     "output_type": "stream",
     "text": [
      "\r",
      " 43%|████▎     | 155/357 [1:05:32<1:26:21, 25.65s/it]"
     ]
    },
    {
     "name": "stdout",
     "output_type": "stream",
     "text": [
      "min:  0.0 max:  150.0 step:  0.5882352941176471\n"
     ]
    },
    {
     "name": "stderr",
     "output_type": "stream",
     "text": [
      "\r",
      " 44%|████▎     | 156/357 [1:05:59<1:26:33, 25.84s/it]"
     ]
    },
    {
     "name": "stdout",
     "output_type": "stream",
     "text": [
      "min:  0.0 max:  150.0 step:  0.5882352941176471\n"
     ]
    },
    {
     "name": "stderr",
     "output_type": "stream",
     "text": [
      "\r",
      " 44%|████▍     | 157/357 [1:06:25<1:26:37, 25.99s/it]"
     ]
    },
    {
     "name": "stdout",
     "output_type": "stream",
     "text": [
      "min:  0.0 max:  150.0 step:  0.5882352941176471\n"
     ]
    },
    {
     "name": "stderr",
     "output_type": "stream",
     "text": [
      "\r",
      " 44%|████▍     | 158/357 [1:06:51<1:26:32, 26.09s/it]"
     ]
    },
    {
     "name": "stdout",
     "output_type": "stream",
     "text": [
      "min:  0.0 max:  150.0 step:  0.5882352941176471\n"
     ]
    },
    {
     "name": "stderr",
     "output_type": "stream",
     "text": [
      "\r",
      " 45%|████▍     | 159/357 [1:07:17<1:26:03, 26.08s/it]"
     ]
    },
    {
     "name": "stdout",
     "output_type": "stream",
     "text": [
      "min:  0.0 max:  150.0 step:  0.5882352941176471\n"
     ]
    },
    {
     "name": "stderr",
     "output_type": "stream",
     "text": [
      "\r",
      " 45%|████▍     | 160/357 [1:07:44<1:26:10, 26.25s/it]"
     ]
    },
    {
     "name": "stdout",
     "output_type": "stream",
     "text": [
      "min:  0.0 max:  150.0 step:  0.5882352941176471\n"
     ]
    },
    {
     "name": "stderr",
     "output_type": "stream",
     "text": [
      "\r",
      " 45%|████▌     | 161/357 [1:08:11<1:26:19, 26.42s/it]"
     ]
    },
    {
     "name": "stdout",
     "output_type": "stream",
     "text": [
      "min:  0.0 max:  150.0 step:  0.5882352941176471\n"
     ]
    },
    {
     "name": "stderr",
     "output_type": "stream",
     "text": [
      "\r",
      " 45%|████▌     | 162/357 [1:08:36<1:24:45, 26.08s/it]"
     ]
    },
    {
     "name": "stdout",
     "output_type": "stream",
     "text": [
      "min:  0.0 max:  150.0 step:  0.5882352941176471\n"
     ]
    },
    {
     "name": "stderr",
     "output_type": "stream",
     "text": [
      "\r",
      " 46%|████▌     | 163/357 [1:09:01<1:22:54, 25.64s/it]"
     ]
    },
    {
     "name": "stdout",
     "output_type": "stream",
     "text": [
      "min:  0.0 max:  150.0 step:  0.5882352941176471\n"
     ]
    },
    {
     "name": "stderr",
     "output_type": "stream",
     "text": [
      "\r",
      " 46%|████▌     | 164/357 [1:09:26<1:21:46, 25.42s/it]"
     ]
    },
    {
     "name": "stdout",
     "output_type": "stream",
     "text": [
      "min:  0.0 max:  150.0 step:  0.5882352941176471\n"
     ]
    },
    {
     "name": "stderr",
     "output_type": "stream",
     "text": [
      "\r",
      " 46%|████▌     | 165/357 [1:09:52<1:22:34, 25.80s/it]"
     ]
    },
    {
     "name": "stdout",
     "output_type": "stream",
     "text": [
      "min:  0.0 max:  150.0 step:  0.5882352941176471\n"
     ]
    },
    {
     "name": "stderr",
     "output_type": "stream",
     "text": [
      "\r",
      " 46%|████▋     | 166/357 [1:10:19<1:23:05, 26.10s/it]"
     ]
    },
    {
     "name": "stdout",
     "output_type": "stream",
     "text": [
      "min:  0.0 max:  150.0 step:  0.5882352941176471\n"
     ]
    },
    {
     "name": "stderr",
     "output_type": "stream",
     "text": [
      "\r",
      " 47%|████▋     | 167/357 [1:10:45<1:22:10, 25.95s/it]"
     ]
    },
    {
     "name": "stdout",
     "output_type": "stream",
     "text": [
      "min:  0.0 max:  150.0 step:  0.5882352941176471\n"
     ]
    },
    {
     "name": "stderr",
     "output_type": "stream",
     "text": [
      "\r",
      " 47%|████▋     | 168/357 [1:11:11<1:21:50, 25.98s/it]"
     ]
    },
    {
     "name": "stdout",
     "output_type": "stream",
     "text": [
      "min:  0.0 max:  150.0 step:  0.5882352941176471\n"
     ]
    },
    {
     "name": "stderr",
     "output_type": "stream",
     "text": [
      "\r",
      " 47%|████▋     | 169/357 [1:11:36<1:20:23, 25.65s/it]"
     ]
    },
    {
     "name": "stdout",
     "output_type": "stream",
     "text": [
      "min:  0.0 max:  150.0 step:  0.5882352941176471\n"
     ]
    },
    {
     "name": "stderr",
     "output_type": "stream",
     "text": [
      "\r",
      " 48%|████▊     | 170/357 [1:12:00<1:18:56, 25.33s/it]"
     ]
    },
    {
     "name": "stdout",
     "output_type": "stream",
     "text": [
      "min:  0.0 max:  150.0 step:  0.5882352941176471\n"
     ]
    },
    {
     "name": "stderr",
     "output_type": "stream",
     "text": [
      "\r",
      " 48%|████▊     | 171/357 [1:12:25<1:18:16, 25.25s/it]"
     ]
    },
    {
     "name": "stdout",
     "output_type": "stream",
     "text": [
      "min:  0.0 max:  150.0 step:  0.5882352941176471\n"
     ]
    },
    {
     "name": "stderr",
     "output_type": "stream",
     "text": [
      "\r",
      " 48%|████▊     | 172/357 [1:12:51<1:18:06, 25.33s/it]"
     ]
    },
    {
     "name": "stdout",
     "output_type": "stream",
     "text": [
      "min:  0.0 max:  150.0 step:  0.5882352941176471\n"
     ]
    },
    {
     "name": "stderr",
     "output_type": "stream",
     "text": [
      "\r",
      " 48%|████▊     | 173/357 [1:13:16<1:17:55, 25.41s/it]"
     ]
    },
    {
     "name": "stdout",
     "output_type": "stream",
     "text": [
      "min:  0.0 max:  150.0 step:  0.5882352941176471\n"
     ]
    },
    {
     "name": "stderr",
     "output_type": "stream",
     "text": [
      "\r",
      " 49%|████▊     | 174/357 [1:13:42<1:17:31, 25.42s/it]"
     ]
    },
    {
     "name": "stdout",
     "output_type": "stream",
     "text": [
      "min:  0.0 max:  150.0 step:  0.5882352941176471\n"
     ]
    },
    {
     "name": "stderr",
     "output_type": "stream",
     "text": [
      "\r",
      " 49%|████▉     | 175/357 [1:14:07<1:17:14, 25.47s/it]"
     ]
    },
    {
     "name": "stdout",
     "output_type": "stream",
     "text": [
      "min:  0.0 max:  150.0 step:  0.5882352941176471\n"
     ]
    },
    {
     "name": "stderr",
     "output_type": "stream",
     "text": [
      "\r",
      " 49%|████▉     | 176/357 [1:14:33<1:16:51, 25.48s/it]"
     ]
    },
    {
     "name": "stdout",
     "output_type": "stream",
     "text": [
      "min:  0.0 max:  150.0 step:  0.5882352941176471\n"
     ]
    },
    {
     "name": "stderr",
     "output_type": "stream",
     "text": [
      "\r",
      " 50%|████▉     | 177/357 [1:14:58<1:16:17, 25.43s/it]"
     ]
    },
    {
     "name": "stdout",
     "output_type": "stream",
     "text": [
      "min:  0.0 max:  150.0 step:  0.5882352941176471\n"
     ]
    },
    {
     "name": "stderr",
     "output_type": "stream",
     "text": [
      "\r",
      " 50%|████▉     | 178/357 [1:15:23<1:15:32, 25.32s/it]"
     ]
    },
    {
     "name": "stdout",
     "output_type": "stream",
     "text": [
      "min:  0.0 max:  150.0 step:  0.5882352941176471\n"
     ]
    },
    {
     "name": "stderr",
     "output_type": "stream",
     "text": [
      "\r",
      " 50%|█████     | 179/357 [1:15:49<1:15:17, 25.38s/it]"
     ]
    },
    {
     "name": "stdout",
     "output_type": "stream",
     "text": [
      "min:  0.0 max:  150.0 step:  0.5882352941176471\n"
     ]
    },
    {
     "name": "stderr",
     "output_type": "stream",
     "text": [
      "\r",
      " 50%|█████     | 180/357 [1:16:15<1:15:12, 25.50s/it]"
     ]
    },
    {
     "name": "stdout",
     "output_type": "stream",
     "text": [
      "min:  0.0 max:  150.0 step:  0.5882352941176471\n"
     ]
    },
    {
     "name": "stderr",
     "output_type": "stream",
     "text": [
      "\r",
      " 51%|█████     | 181/357 [1:16:40<1:14:48, 25.51s/it]"
     ]
    },
    {
     "name": "stdout",
     "output_type": "stream",
     "text": [
      "min:  0.0 max:  150.0 step:  0.5882352941176471\n"
     ]
    },
    {
     "name": "stderr",
     "output_type": "stream",
     "text": [
      "\r",
      " 51%|█████     | 182/357 [1:17:06<1:14:26, 25.52s/it]"
     ]
    },
    {
     "name": "stdout",
     "output_type": "stream",
     "text": [
      "min:  0.0 max:  150.0 step:  0.5882352941176471\n"
     ]
    },
    {
     "name": "stderr",
     "output_type": "stream",
     "text": [
      "\r",
      " 51%|█████▏    | 183/357 [1:17:33<1:15:09, 25.92s/it]"
     ]
    },
    {
     "name": "stdout",
     "output_type": "stream",
     "text": [
      "min:  0.0 max:  150.0 step:  0.5882352941176471\n"
     ]
    },
    {
     "name": "stderr",
     "output_type": "stream",
     "text": [
      "\r",
      " 52%|█████▏    | 184/357 [1:17:59<1:15:04, 26.04s/it]"
     ]
    },
    {
     "name": "stdout",
     "output_type": "stream",
     "text": [
      "min:  0.0 max:  150.0 step:  0.5882352941176471\n"
     ]
    },
    {
     "name": "stderr",
     "output_type": "stream",
     "text": [
      "\r",
      " 52%|█████▏    | 185/357 [1:18:26<1:15:36, 26.37s/it]"
     ]
    },
    {
     "name": "stdout",
     "output_type": "stream",
     "text": [
      "min:  0.0 max:  150.0 step:  0.5882352941176471\n"
     ]
    },
    {
     "name": "stderr",
     "output_type": "stream",
     "text": [
      "\r",
      " 52%|█████▏    | 186/357 [1:18:53<1:15:49, 26.61s/it]"
     ]
    },
    {
     "name": "stdout",
     "output_type": "stream",
     "text": [
      "min:  0.0 max:  150.0 step:  0.5882352941176471\n"
     ]
    },
    {
     "name": "stderr",
     "output_type": "stream",
     "text": [
      "\r",
      " 52%|█████▏    | 187/357 [1:19:20<1:15:49, 26.76s/it]"
     ]
    },
    {
     "name": "stdout",
     "output_type": "stream",
     "text": [
      "min:  0.0 max:  150.0 step:  0.5882352941176471\n"
     ]
    },
    {
     "name": "stderr",
     "output_type": "stream",
     "text": [
      "\r",
      " 53%|█████▎    | 188/357 [1:19:46<1:14:27, 26.44s/it]"
     ]
    },
    {
     "name": "stdout",
     "output_type": "stream",
     "text": [
      "min:  0.0 max:  150.0 step:  0.5882352941176471\n"
     ]
    },
    {
     "name": "stderr",
     "output_type": "stream",
     "text": [
      "\r",
      " 53%|█████▎    | 189/357 [1:20:13<1:14:26, 26.59s/it]"
     ]
    },
    {
     "name": "stdout",
     "output_type": "stream",
     "text": [
      "min:  0.0 max:  150.0 step:  0.5882352941176471\n"
     ]
    },
    {
     "name": "stderr",
     "output_type": "stream",
     "text": [
      "\r",
      " 53%|█████▎    | 190/357 [1:20:40<1:14:18, 26.70s/it]"
     ]
    },
    {
     "name": "stdout",
     "output_type": "stream",
     "text": [
      "min:  0.0 max:  150.0 step:  0.5882352941176471\n"
     ]
    },
    {
     "name": "stderr",
     "output_type": "stream",
     "text": [
      "\r",
      " 54%|█████▎    | 191/357 [1:21:07<1:14:09, 26.80s/it]"
     ]
    },
    {
     "name": "stdout",
     "output_type": "stream",
     "text": [
      "min:  0.0 max:  150.0 step:  0.5882352941176471\n"
     ]
    },
    {
     "name": "stderr",
     "output_type": "stream",
     "text": [
      "\r",
      " 54%|█████▍    | 192/357 [1:21:34<1:13:45, 26.82s/it]"
     ]
    },
    {
     "name": "stdout",
     "output_type": "stream",
     "text": [
      "min:  0.0 max:  150.0 step:  0.5882352941176471\n"
     ]
    },
    {
     "name": "stderr",
     "output_type": "stream",
     "text": [
      "\r",
      " 54%|█████▍    | 193/357 [1:22:01<1:13:24, 26.86s/it]"
     ]
    },
    {
     "name": "stdout",
     "output_type": "stream",
     "text": [
      "min:  0.0 max:  150.0 step:  0.5882352941176471\n"
     ]
    },
    {
     "name": "stderr",
     "output_type": "stream",
     "text": [
      "\r",
      " 54%|█████▍    | 194/357 [1:22:28<1:13:30, 27.06s/it]"
     ]
    },
    {
     "name": "stdout",
     "output_type": "stream",
     "text": [
      "min:  0.0 max:  150.0 step:  0.5882352941176471\n"
     ]
    },
    {
     "name": "stderr",
     "output_type": "stream",
     "text": [
      "\r",
      " 55%|█████▍    | 195/357 [1:22:55<1:13:07, 27.09s/it]"
     ]
    },
    {
     "name": "stdout",
     "output_type": "stream",
     "text": [
      "min:  0.0 max:  150.0 step:  0.5882352941176471\n"
     ]
    },
    {
     "name": "stderr",
     "output_type": "stream",
     "text": [
      "\r",
      " 55%|█████▍    | 196/357 [1:23:22<1:11:58, 26.82s/it]"
     ]
    },
    {
     "name": "stdout",
     "output_type": "stream",
     "text": [
      "min:  0.0 max:  150.0 step:  0.5882352941176471\n"
     ]
    },
    {
     "name": "stderr",
     "output_type": "stream",
     "text": [
      "\r",
      " 55%|█████▌    | 197/357 [1:23:47<1:10:48, 26.55s/it]"
     ]
    },
    {
     "name": "stdout",
     "output_type": "stream",
     "text": [
      "min:  0.0 max:  150.0 step:  0.5882352941176471\n"
     ]
    },
    {
     "name": "stderr",
     "output_type": "stream",
     "text": [
      "\r",
      " 55%|█████▌    | 198/357 [1:24:15<1:11:04, 26.82s/it]"
     ]
    },
    {
     "name": "stdout",
     "output_type": "stream",
     "text": [
      "min:  0.0 max:  150.0 step:  0.5882352941176471\n"
     ]
    },
    {
     "name": "stderr",
     "output_type": "stream",
     "text": [
      "\r",
      " 56%|█████▌    | 199/357 [1:24:43<1:11:29, 27.15s/it]"
     ]
    },
    {
     "name": "stdout",
     "output_type": "stream",
     "text": [
      "min:  0.0 max:  150.0 step:  0.5882352941176471\n"
     ]
    },
    {
     "name": "stderr",
     "output_type": "stream",
     "text": [
      "\r",
      " 56%|█████▌    | 200/357 [1:25:11<1:11:59, 27.51s/it]"
     ]
    },
    {
     "name": "stdout",
     "output_type": "stream",
     "text": [
      "min:  0.0 max:  150.0 step:  0.5882352941176471\n"
     ]
    },
    {
     "name": "stderr",
     "output_type": "stream",
     "text": [
      "\r",
      " 56%|█████▋    | 201/357 [1:25:37<1:10:25, 27.08s/it]"
     ]
    },
    {
     "name": "stdout",
     "output_type": "stream",
     "text": [
      "min:  0.0 max:  150.0 step:  0.5882352941176471\n"
     ]
    },
    {
     "name": "stderr",
     "output_type": "stream",
     "text": [
      "\r",
      " 57%|█████▋    | 202/357 [1:26:05<1:10:31, 27.30s/it]"
     ]
    },
    {
     "name": "stdout",
     "output_type": "stream",
     "text": [
      "min:  0.0 max:  150.0 step:  0.5882352941176471\n"
     ]
    },
    {
     "name": "stderr",
     "output_type": "stream",
     "text": [
      "\r",
      " 57%|█████▋    | 203/357 [1:26:34<1:11:06, 27.70s/it]"
     ]
    },
    {
     "name": "stdout",
     "output_type": "stream",
     "text": [
      "min:  0.0 max:  150.0 step:  0.5882352941176471\n"
     ]
    },
    {
     "name": "stderr",
     "output_type": "stream",
     "text": [
      "\r",
      " 57%|█████▋    | 204/357 [1:26:59<1:08:58, 27.05s/it]"
     ]
    },
    {
     "name": "stdout",
     "output_type": "stream",
     "text": [
      "min:  0.0 max:  150.0 step:  0.5882352941176471\n"
     ]
    },
    {
     "name": "stderr",
     "output_type": "stream",
     "text": [
      "\r",
      " 57%|█████▋    | 205/357 [1:27:26<1:08:37, 27.09s/it]"
     ]
    },
    {
     "name": "stdout",
     "output_type": "stream",
     "text": [
      "min:  0.0 max:  150.0 step:  0.5882352941176471\n"
     ]
    },
    {
     "name": "stderr",
     "output_type": "stream",
     "text": [
      "\r",
      " 58%|█████▊    | 206/357 [1:27:55<1:09:09, 27.48s/it]"
     ]
    },
    {
     "name": "stdout",
     "output_type": "stream",
     "text": [
      "min:  0.0 max:  150.0 step:  0.5882352941176471\n"
     ]
    },
    {
     "name": "stderr",
     "output_type": "stream",
     "text": [
      "\r",
      " 58%|█████▊    | 207/357 [1:28:23<1:09:14, 27.70s/it]"
     ]
    },
    {
     "name": "stdout",
     "output_type": "stream",
     "text": [
      "min:  0.0 max:  150.0 step:  0.5882352941176471\n"
     ]
    },
    {
     "name": "stderr",
     "output_type": "stream",
     "text": [
      "\r",
      " 58%|█████▊    | 208/357 [1:28:52<1:09:24, 27.95s/it]"
     ]
    },
    {
     "name": "stdout",
     "output_type": "stream",
     "text": [
      "min:  0.0 max:  150.0 step:  0.5882352941176471\n"
     ]
    },
    {
     "name": "stderr",
     "output_type": "stream",
     "text": [
      "\r",
      " 59%|█████▊    | 209/357 [1:29:20<1:09:16, 28.09s/it]"
     ]
    },
    {
     "name": "stdout",
     "output_type": "stream",
     "text": [
      "min:  0.0 max:  150.0 step:  0.5882352941176471\n"
     ]
    },
    {
     "name": "stderr",
     "output_type": "stream",
     "text": [
      "\r",
      " 59%|█████▉    | 210/357 [1:29:49<1:09:18, 28.29s/it]"
     ]
    },
    {
     "name": "stdout",
     "output_type": "stream",
     "text": [
      "min:  0.0 max:  150.0 step:  0.5882352941176471\n"
     ]
    },
    {
     "name": "stderr",
     "output_type": "stream",
     "text": [
      "\r",
      " 59%|█████▉    | 211/357 [1:30:17<1:09:04, 28.39s/it]"
     ]
    },
    {
     "name": "stdout",
     "output_type": "stream",
     "text": [
      "min:  0.0 max:  150.0 step:  0.5882352941176471\n"
     ]
    },
    {
     "name": "stderr",
     "output_type": "stream",
     "text": [
      "\r",
      " 59%|█████▉    | 212/357 [1:30:46<1:08:32, 28.36s/it]"
     ]
    },
    {
     "name": "stdout",
     "output_type": "stream",
     "text": [
      "min:  0.0 max:  150.0 step:  0.5882352941176471\n"
     ]
    },
    {
     "name": "stderr",
     "output_type": "stream",
     "text": [
      "\r",
      " 60%|█████▉    | 213/357 [1:31:14<1:08:10, 28.41s/it]"
     ]
    },
    {
     "name": "stdout",
     "output_type": "stream",
     "text": [
      "min:  0.0 max:  150.0 step:  0.5882352941176471\n"
     ]
    },
    {
     "name": "stderr",
     "output_type": "stream",
     "text": [
      "\r",
      " 60%|█████▉    | 214/357 [1:31:42<1:07:00, 28.11s/it]"
     ]
    },
    {
     "name": "stdout",
     "output_type": "stream",
     "text": [
      "min:  0.0 max:  150.0 step:  0.5882352941176471\n"
     ]
    },
    {
     "name": "stderr",
     "output_type": "stream",
     "text": [
      "\r",
      " 60%|██████    | 215/357 [1:32:10<1:06:39, 28.17s/it]"
     ]
    },
    {
     "name": "stdout",
     "output_type": "stream",
     "text": [
      "min:  0.0 max:  150.0 step:  0.5882352941176471\n"
     ]
    },
    {
     "name": "stderr",
     "output_type": "stream",
     "text": [
      "\r",
      " 61%|██████    | 216/357 [1:32:38<1:06:27, 28.28s/it]"
     ]
    },
    {
     "name": "stdout",
     "output_type": "stream",
     "text": [
      "min:  0.0 max:  150.0 step:  0.5882352941176471\n"
     ]
    },
    {
     "name": "stderr",
     "output_type": "stream",
     "text": [
      "\r",
      " 61%|██████    | 217/357 [1:33:05<1:04:57, 27.84s/it]"
     ]
    },
    {
     "name": "stdout",
     "output_type": "stream",
     "text": [
      "min:  0.0 max:  150.0 step:  0.5882352941176471\n"
     ]
    },
    {
     "name": "stderr",
     "output_type": "stream",
     "text": [
      "\r",
      " 61%|██████    | 218/357 [1:33:33<1:04:06, 27.67s/it]"
     ]
    },
    {
     "name": "stdout",
     "output_type": "stream",
     "text": [
      "min:  0.0 max:  150.0 step:  0.5882352941176471\n"
     ]
    },
    {
     "name": "stderr",
     "output_type": "stream",
     "text": [
      "\r",
      " 61%|██████▏   | 219/357 [1:34:01<1:04:24, 28.00s/it]"
     ]
    },
    {
     "name": "stdout",
     "output_type": "stream",
     "text": [
      "min:  0.0 max:  150.0 step:  0.5882352941176471\n"
     ]
    },
    {
     "name": "stderr",
     "output_type": "stream",
     "text": [
      "\r",
      " 62%|██████▏   | 220/357 [1:34:30<1:04:10, 28.10s/it]"
     ]
    },
    {
     "name": "stdout",
     "output_type": "stream",
     "text": [
      "min:  0.0 max:  150.0 step:  0.5882352941176471\n"
     ]
    },
    {
     "name": "stderr",
     "output_type": "stream",
     "text": [
      "\r",
      " 62%|██████▏   | 221/357 [1:34:58<1:03:59, 28.23s/it]"
     ]
    },
    {
     "name": "stdout",
     "output_type": "stream",
     "text": [
      "min:  0.0 max:  150.0 step:  0.5882352941176471\n"
     ]
    },
    {
     "name": "stderr",
     "output_type": "stream",
     "text": [
      "\r",
      " 62%|██████▏   | 222/357 [1:35:25<1:02:43, 27.88s/it]"
     ]
    },
    {
     "name": "stdout",
     "output_type": "stream",
     "text": [
      "min:  0.0 max:  150.0 step:  0.5882352941176471\n"
     ]
    },
    {
     "name": "stderr",
     "output_type": "stream",
     "text": [
      "\r",
      " 62%|██████▏   | 223/357 [1:35:53<1:02:04, 27.79s/it]"
     ]
    },
    {
     "name": "stdout",
     "output_type": "stream",
     "text": [
      "min:  0.0 max:  150.0 step:  0.5882352941176471\n"
     ]
    },
    {
     "name": "stderr",
     "output_type": "stream",
     "text": [
      "\r",
      " 63%|██████▎   | 224/357 [1:36:21<1:01:42, 27.84s/it]"
     ]
    },
    {
     "name": "stdout",
     "output_type": "stream",
     "text": [
      "min:  0.0 max:  150.0 step:  0.5882352941176471\n"
     ]
    },
    {
     "name": "stderr",
     "output_type": "stream",
     "text": [
      "\r",
      " 63%|██████▎   | 225/357 [1:36:50<1:01:53, 28.13s/it]"
     ]
    },
    {
     "name": "stdout",
     "output_type": "stream",
     "text": [
      "min:  0.0 max:  150.0 step:  0.5882352941176471\n"
     ]
    },
    {
     "name": "stderr",
     "output_type": "stream",
     "text": [
      "\r",
      " 63%|██████▎   | 226/357 [1:37:18<1:01:29, 28.16s/it]"
     ]
    },
    {
     "name": "stdout",
     "output_type": "stream",
     "text": [
      "min:  0.0 max:  150.0 step:  0.5882352941176471\n"
     ]
    },
    {
     "name": "stderr",
     "output_type": "stream",
     "text": [
      "\r",
      " 64%|██████▎   | 227/357 [1:37:47<1:01:44, 28.50s/it]"
     ]
    },
    {
     "name": "stdout",
     "output_type": "stream",
     "text": [
      "min:  0.0 max:  150.0 step:  0.5882352941176471\n"
     ]
    },
    {
     "name": "stderr",
     "output_type": "stream",
     "text": [
      "\r",
      " 64%|██████▍   | 228/357 [1:38:15<1:01:04, 28.41s/it]"
     ]
    },
    {
     "name": "stdout",
     "output_type": "stream",
     "text": [
      "min:  0.0 max:  150.0 step:  0.5882352941176471\n"
     ]
    },
    {
     "name": "stderr",
     "output_type": "stream",
     "text": [
      "\r",
      " 64%|██████▍   | 229/357 [1:38:44<1:00:34, 28.39s/it]"
     ]
    },
    {
     "name": "stdout",
     "output_type": "stream",
     "text": [
      "min:  0.0 max:  150.0 step:  0.5882352941176471\n"
     ]
    },
    {
     "name": "stderr",
     "output_type": "stream",
     "text": [
      "\r",
      " 64%|██████▍   | 230/357 [1:39:13<1:00:24, 28.54s/it]"
     ]
    },
    {
     "name": "stdout",
     "output_type": "stream",
     "text": [
      "min:  0.0 max:  150.0 step:  0.5882352941176471\n"
     ]
    },
    {
     "name": "stderr",
     "output_type": "stream",
     "text": [
      "\r",
      " 65%|██████▍   | 231/357 [1:39:41<59:56, 28.54s/it]  "
     ]
    },
    {
     "name": "stdout",
     "output_type": "stream",
     "text": [
      "min:  0.0 max:  150.0 step:  0.5882352941176471\n"
     ]
    },
    {
     "name": "stderr",
     "output_type": "stream",
     "text": [
      "\r",
      " 65%|██████▍   | 232/357 [1:40:10<59:25, 28.52s/it]"
     ]
    },
    {
     "name": "stdout",
     "output_type": "stream",
     "text": [
      "min:  0.0 max:  150.0 step:  0.5882352941176471\n"
     ]
    },
    {
     "name": "stderr",
     "output_type": "stream",
     "text": [
      "\r",
      " 65%|██████▌   | 233/357 [1:40:39<59:36, 28.84s/it]"
     ]
    },
    {
     "name": "stdout",
     "output_type": "stream",
     "text": [
      "min:  0.0 max:  150.0 step:  0.5882352941176471\n"
     ]
    },
    {
     "name": "stderr",
     "output_type": "stream",
     "text": [
      "\r",
      " 66%|██████▌   | 234/357 [1:41:07<58:47, 28.68s/it]"
     ]
    },
    {
     "name": "stdout",
     "output_type": "stream",
     "text": [
      "min:  0.0 max:  150.0 step:  0.5882352941176471\n"
     ]
    },
    {
     "name": "stderr",
     "output_type": "stream",
     "text": [
      "\r",
      " 66%|██████▌   | 235/357 [1:41:37<59:05, 29.06s/it]"
     ]
    },
    {
     "name": "stdout",
     "output_type": "stream",
     "text": [
      "min:  0.0 max:  150.0 step:  0.5882352941176471\n"
     ]
    },
    {
     "name": "stderr",
     "output_type": "stream",
     "text": [
      "\r",
      " 66%|██████▌   | 236/357 [1:42:06<58:10, 28.85s/it]"
     ]
    },
    {
     "name": "stdout",
     "output_type": "stream",
     "text": [
      "min:  0.0 max:  150.0 step:  0.5882352941176471\n"
     ]
    },
    {
     "name": "stderr",
     "output_type": "stream",
     "text": [
      "\r",
      " 66%|██████▋   | 237/357 [1:42:35<58:11, 29.09s/it]"
     ]
    },
    {
     "name": "stdout",
     "output_type": "stream",
     "text": [
      "min:  0.0 max:  150.0 step:  0.5882352941176471\n"
     ]
    },
    {
     "name": "stderr",
     "output_type": "stream",
     "text": [
      "\r",
      " 67%|██████▋   | 238/357 [1:43:05<58:11, 29.34s/it]"
     ]
    },
    {
     "name": "stdout",
     "output_type": "stream",
     "text": [
      "min:  0.0 max:  150.0 step:  0.5882352941176471\n"
     ]
    },
    {
     "name": "stderr",
     "output_type": "stream",
     "text": [
      "\r",
      " 67%|██████▋   | 239/357 [1:43:36<58:22, 29.68s/it]"
     ]
    },
    {
     "name": "stdout",
     "output_type": "stream",
     "text": [
      "min:  0.0 max:  150.0 step:  0.5882352941176471\n"
     ]
    },
    {
     "name": "stderr",
     "output_type": "stream",
     "text": [
      "\r",
      " 67%|██████▋   | 240/357 [1:44:04<57:15, 29.37s/it]"
     ]
    },
    {
     "name": "stdout",
     "output_type": "stream",
     "text": [
      "min:  0.0 max:  150.0 step:  0.5882352941176471\n"
     ]
    },
    {
     "name": "stderr",
     "output_type": "stream",
     "text": [
      "\r",
      " 68%|██████▊   | 241/357 [1:44:33<56:07, 29.03s/it]"
     ]
    },
    {
     "name": "stdout",
     "output_type": "stream",
     "text": [
      "min:  0.0 max:  150.0 step:  0.5882352941176471\n"
     ]
    },
    {
     "name": "stderr",
     "output_type": "stream",
     "text": [
      "\r",
      " 68%|██████▊   | 242/357 [1:45:01<55:06, 28.75s/it]"
     ]
    },
    {
     "name": "stdout",
     "output_type": "stream",
     "text": [
      "min:  0.0 max:  150.0 step:  0.5882352941176471\n"
     ]
    },
    {
     "name": "stderr",
     "output_type": "stream",
     "text": [
      "\r",
      " 68%|██████▊   | 243/357 [1:45:29<54:13, 28.54s/it]"
     ]
    },
    {
     "name": "stdout",
     "output_type": "stream",
     "text": [
      "min:  0.0 max:  150.0 step:  0.5882352941176471\n"
     ]
    },
    {
     "name": "stderr",
     "output_type": "stream",
     "text": [
      "\r",
      " 68%|██████▊   | 244/357 [1:45:57<53:42, 28.52s/it]"
     ]
    },
    {
     "name": "stdout",
     "output_type": "stream",
     "text": [
      "min:  0.0 max:  150.0 step:  0.5882352941176471\n"
     ]
    },
    {
     "name": "stderr",
     "output_type": "stream",
     "text": [
      "\r",
      " 69%|██████▊   | 245/357 [1:46:26<53:32, 28.68s/it]"
     ]
    },
    {
     "name": "stdout",
     "output_type": "stream",
     "text": [
      "min:  0.0 max:  150.0 step:  0.5882352941176471\n"
     ]
    },
    {
     "name": "stderr",
     "output_type": "stream",
     "text": [
      "\r",
      " 69%|██████▉   | 246/357 [1:46:55<53:05, 28.70s/it]"
     ]
    },
    {
     "name": "stdout",
     "output_type": "stream",
     "text": [
      "min:  0.0 max:  150.0 step:  0.5882352941176471\n"
     ]
    },
    {
     "name": "stderr",
     "output_type": "stream",
     "text": [
      "\r",
      " 69%|██████▉   | 247/357 [1:47:25<53:12, 29.02s/it]"
     ]
    },
    {
     "name": "stdout",
     "output_type": "stream",
     "text": [
      "min:  0.0 max:  150.0 step:  0.5882352941176471\n"
     ]
    },
    {
     "name": "stderr",
     "output_type": "stream",
     "text": [
      "\r",
      " 69%|██████▉   | 248/357 [1:47:54<52:37, 28.97s/it]"
     ]
    },
    {
     "name": "stdout",
     "output_type": "stream",
     "text": [
      "min:  0.0 max:  150.0 step:  0.5882352941176471\n"
     ]
    },
    {
     "name": "stderr",
     "output_type": "stream",
     "text": [
      "\r",
      " 70%|██████▉   | 249/357 [1:48:22<51:35, 28.66s/it]"
     ]
    },
    {
     "name": "stdout",
     "output_type": "stream",
     "text": [
      "min:  0.0 max:  150.0 step:  0.5882352941176471\n"
     ]
    },
    {
     "name": "stderr",
     "output_type": "stream",
     "text": [
      "\r",
      " 70%|███████   | 250/357 [1:48:51<51:26, 28.85s/it]"
     ]
    },
    {
     "name": "stdout",
     "output_type": "stream",
     "text": [
      "min:  0.0 max:  150.0 step:  0.5882352941176471\n"
     ]
    },
    {
     "name": "stderr",
     "output_type": "stream",
     "text": [
      "\r",
      " 70%|███████   | 251/357 [1:49:19<50:37, 28.65s/it]"
     ]
    },
    {
     "name": "stdout",
     "output_type": "stream",
     "text": [
      "min:  0.0 max:  150.0 step:  0.5882352941176471\n"
     ]
    },
    {
     "name": "stderr",
     "output_type": "stream",
     "text": [
      "\r",
      " 71%|███████   | 252/357 [1:49:48<50:23, 28.80s/it]"
     ]
    },
    {
     "name": "stdout",
     "output_type": "stream",
     "text": [
      "min:  0.0 max:  150.0 step:  0.5882352941176471\n"
     ]
    },
    {
     "name": "stderr",
     "output_type": "stream",
     "text": [
      "\r",
      " 71%|███████   | 253/357 [1:50:17<49:41, 28.67s/it]"
     ]
    },
    {
     "name": "stdout",
     "output_type": "stream",
     "text": [
      "min:  0.0 max:  150.0 step:  0.5882352941176471\n"
     ]
    },
    {
     "name": "stderr",
     "output_type": "stream",
     "text": [
      "\r",
      " 71%|███████   | 254/357 [1:50:46<49:33, 28.86s/it]"
     ]
    },
    {
     "name": "stdout",
     "output_type": "stream",
     "text": [
      "min:  0.0 max:  150.0 step:  0.5882352941176471\n"
     ]
    },
    {
     "name": "stderr",
     "output_type": "stream",
     "text": [
      "\r",
      " 71%|███████▏  | 255/357 [1:51:16<49:26, 29.08s/it]"
     ]
    },
    {
     "name": "stdout",
     "output_type": "stream",
     "text": [
      "min:  0.0 max:  150.0 step:  0.5882352941176471\n"
     ]
    },
    {
     "name": "stderr",
     "output_type": "stream",
     "text": [
      "\r",
      " 72%|███████▏  | 256/357 [1:51:46<49:49, 29.60s/it]"
     ]
    },
    {
     "name": "stdout",
     "output_type": "stream",
     "text": [
      "min:  0.0 max:  150.0 step:  0.5882352941176471\n"
     ]
    },
    {
     "name": "stderr",
     "output_type": "stream",
     "text": [
      "\r",
      " 72%|███████▏  | 257/357 [1:52:17<49:59, 30.00s/it]"
     ]
    },
    {
     "name": "stdout",
     "output_type": "stream",
     "text": [
      "min:  0.0 max:  150.0 step:  0.5882352941176471\n"
     ]
    },
    {
     "name": "stderr",
     "output_type": "stream",
     "text": [
      "\r",
      " 72%|███████▏  | 258/357 [1:52:47<49:14, 29.84s/it]"
     ]
    },
    {
     "name": "stdout",
     "output_type": "stream",
     "text": [
      "min:  0.0 max:  150.0 step:  0.5882352941176471\n"
     ]
    },
    {
     "name": "stderr",
     "output_type": "stream",
     "text": [
      "\r",
      " 73%|███████▎  | 259/357 [1:53:16<48:13, 29.53s/it]"
     ]
    },
    {
     "name": "stdout",
     "output_type": "stream",
     "text": [
      "min:  0.0 max:  150.0 step:  0.5882352941176471\n"
     ]
    },
    {
     "name": "stderr",
     "output_type": "stream",
     "text": [
      "\r",
      " 73%|███████▎  | 260/357 [1:53:44<47:15, 29.24s/it]"
     ]
    },
    {
     "name": "stdout",
     "output_type": "stream",
     "text": [
      "min:  0.0 max:  150.0 step:  0.5882352941176471\n"
     ]
    },
    {
     "name": "stderr",
     "output_type": "stream",
     "text": [
      "\r",
      " 73%|███████▎  | 261/357 [1:54:11<45:52, 28.68s/it]"
     ]
    },
    {
     "name": "stdout",
     "output_type": "stream",
     "text": [
      "min:  0.0 max:  150.0 step:  0.5882352941176471\n"
     ]
    },
    {
     "name": "stderr",
     "output_type": "stream",
     "text": [
      "\r",
      " 73%|███████▎  | 262/357 [1:54:40<45:11, 28.54s/it]"
     ]
    },
    {
     "name": "stdout",
     "output_type": "stream",
     "text": [
      "min:  0.0 max:  150.0 step:  0.5882352941176471\n"
     ]
    },
    {
     "name": "stderr",
     "output_type": "stream",
     "text": [
      "\r",
      " 74%|███████▎  | 263/357 [1:55:09<44:57, 28.70s/it]"
     ]
    },
    {
     "name": "stdout",
     "output_type": "stream",
     "text": [
      "min:  0.0 max:  150.0 step:  0.5882352941176471\n"
     ]
    },
    {
     "name": "stderr",
     "output_type": "stream",
     "text": [
      "\r",
      " 74%|███████▍  | 264/357 [1:55:38<44:55, 28.99s/it]"
     ]
    },
    {
     "name": "stdout",
     "output_type": "stream",
     "text": [
      "min:  0.0 max:  150.0 step:  0.5882352941176471\n"
     ]
    },
    {
     "name": "stderr",
     "output_type": "stream",
     "text": [
      "\r",
      " 74%|███████▍  | 265/357 [1:56:10<45:32, 29.70s/it]"
     ]
    },
    {
     "name": "stdout",
     "output_type": "stream",
     "text": [
      "min:  0.0 max:  150.0 step:  0.5882352941176471\n"
     ]
    },
    {
     "name": "stderr",
     "output_type": "stream",
     "text": [
      "\r",
      " 75%|███████▍  | 266/357 [1:56:39<44:59, 29.66s/it]"
     ]
    },
    {
     "name": "stdout",
     "output_type": "stream",
     "text": [
      "min:  0.0 max:  150.0 step:  0.5882352941176471\n"
     ]
    },
    {
     "name": "stderr",
     "output_type": "stream",
     "text": [
      "\r",
      " 75%|███████▍  | 267/357 [1:57:09<44:33, 29.71s/it]"
     ]
    },
    {
     "name": "stdout",
     "output_type": "stream",
     "text": [
      "min:  0.0 max:  150.0 step:  0.5882352941176471\n"
     ]
    },
    {
     "name": "stderr",
     "output_type": "stream",
     "text": [
      "\r",
      " 75%|███████▌  | 268/357 [1:57:37<43:21, 29.23s/it]"
     ]
    },
    {
     "name": "stdout",
     "output_type": "stream",
     "text": [
      "min:  0.0 max:  150.0 step:  0.5882352941176471\n"
     ]
    },
    {
     "name": "stderr",
     "output_type": "stream",
     "text": [
      "\r",
      " 75%|███████▌  | 269/357 [1:58:07<43:00, 29.33s/it]"
     ]
    },
    {
     "name": "stdout",
     "output_type": "stream",
     "text": [
      "min:  0.0 max:  150.0 step:  0.5882352941176471\n"
     ]
    },
    {
     "name": "stderr",
     "output_type": "stream",
     "text": [
      "\r",
      " 76%|███████▌  | 270/357 [1:58:37<42:43, 29.46s/it]"
     ]
    },
    {
     "name": "stdout",
     "output_type": "stream",
     "text": [
      "min:  0.0 max:  150.0 step:  0.5882352941176471\n"
     ]
    },
    {
     "name": "stderr",
     "output_type": "stream",
     "text": [
      "\r",
      " 76%|███████▌  | 271/357 [1:59:04<41:28, 28.93s/it]"
     ]
    },
    {
     "name": "stdout",
     "output_type": "stream",
     "text": [
      "min:  0.0 max:  150.0 step:  0.5882352941176471\n"
     ]
    },
    {
     "name": "stderr",
     "output_type": "stream",
     "text": [
      "\r",
      " 76%|███████▌  | 272/357 [1:59:32<40:27, 28.56s/it]"
     ]
    },
    {
     "name": "stdout",
     "output_type": "stream",
     "text": [
      "min:  0.0 max:  150.0 step:  0.5882352941176471\n"
     ]
    },
    {
     "name": "stderr",
     "output_type": "stream",
     "text": [
      "\r",
      " 76%|███████▋  | 273/357 [2:00:01<40:04, 28.62s/it]"
     ]
    },
    {
     "name": "stdout",
     "output_type": "stream",
     "text": [
      "min:  0.0 max:  150.0 step:  0.5882352941176471\n"
     ]
    },
    {
     "name": "stderr",
     "output_type": "stream",
     "text": [
      "\r",
      " 77%|███████▋  | 274/357 [2:00:29<39:37, 28.64s/it]"
     ]
    },
    {
     "name": "stdout",
     "output_type": "stream",
     "text": [
      "min:  0.0 max:  150.0 step:  0.5882352941176471\n"
     ]
    },
    {
     "name": "stderr",
     "output_type": "stream",
     "text": [
      "\r",
      " 77%|███████▋  | 275/357 [2:00:58<39:02, 28.56s/it]"
     ]
    },
    {
     "name": "stdout",
     "output_type": "stream",
     "text": [
      "min:  0.0 max:  150.0 step:  0.5882352941176471\n"
     ]
    },
    {
     "name": "stderr",
     "output_type": "stream",
     "text": [
      "\r",
      " 77%|███████▋  | 276/357 [2:01:25<38:00, 28.15s/it]"
     ]
    },
    {
     "name": "stdout",
     "output_type": "stream",
     "text": [
      "min:  0.0 max:  150.0 step:  0.5882352941176471\n"
     ]
    },
    {
     "name": "stderr",
     "output_type": "stream",
     "text": [
      "\r",
      " 78%|███████▊  | 277/357 [2:01:52<37:04, 27.81s/it]"
     ]
    },
    {
     "name": "stdout",
     "output_type": "stream",
     "text": [
      "min:  0.0 max:  150.0 step:  0.5882352941176471\n"
     ]
    },
    {
     "name": "stderr",
     "output_type": "stream",
     "text": [
      "\r",
      " 78%|███████▊  | 278/357 [2:02:23<37:39, 28.60s/it]"
     ]
    },
    {
     "name": "stdout",
     "output_type": "stream",
     "text": [
      "min:  0.0 max:  150.0 step:  0.5882352941176471\n"
     ]
    },
    {
     "name": "stderr",
     "output_type": "stream",
     "text": [
      "\r",
      " 78%|███████▊  | 279/357 [2:02:52<37:22, 28.75s/it]"
     ]
    },
    {
     "name": "stdout",
     "output_type": "stream",
     "text": [
      "min:  0.0 max:  150.0 step:  0.5882352941176471\n"
     ]
    },
    {
     "name": "stderr",
     "output_type": "stream",
     "text": [
      "\r",
      " 78%|███████▊  | 280/357 [2:03:20<36:52, 28.74s/it]"
     ]
    },
    {
     "name": "stdout",
     "output_type": "stream",
     "text": [
      "min:  0.0 max:  150.0 step:  0.5882352941176471\n"
     ]
    },
    {
     "name": "stderr",
     "output_type": "stream",
     "text": [
      "\r",
      " 79%|███████▊  | 281/357 [2:03:49<36:29, 28.81s/it]"
     ]
    },
    {
     "name": "stdout",
     "output_type": "stream",
     "text": [
      "min:  0.0 max:  150.0 step:  0.5882352941176471\n"
     ]
    },
    {
     "name": "stderr",
     "output_type": "stream",
     "text": [
      "\r",
      " 79%|███████▉  | 282/357 [2:04:18<36:00, 28.80s/it]"
     ]
    },
    {
     "name": "stdout",
     "output_type": "stream",
     "text": [
      "min:  0.0 max:  150.0 step:  0.5882352941176471\n"
     ]
    },
    {
     "name": "stderr",
     "output_type": "stream",
     "text": [
      "\r",
      " 79%|███████▉  | 283/357 [2:04:47<35:38, 28.89s/it]"
     ]
    },
    {
     "name": "stdout",
     "output_type": "stream",
     "text": [
      "min:  0.0 max:  150.0 step:  0.5882352941176471\n"
     ]
    },
    {
     "name": "stderr",
     "output_type": "stream",
     "text": [
      "\r",
      " 80%|███████▉  | 284/357 [2:05:16<35:06, 28.86s/it]"
     ]
    },
    {
     "name": "stdout",
     "output_type": "stream",
     "text": [
      "min:  0.0 max:  150.0 step:  0.5882352941176471\n"
     ]
    },
    {
     "name": "stderr",
     "output_type": "stream",
     "text": [
      "\r",
      " 80%|███████▉  | 285/357 [2:05:45<34:38, 28.87s/it]"
     ]
    },
    {
     "name": "stdout",
     "output_type": "stream",
     "text": [
      "min:  0.0 max:  150.0 step:  0.5882352941176471\n"
     ]
    },
    {
     "name": "stderr",
     "output_type": "stream",
     "text": [
      "\r",
      " 80%|████████  | 286/357 [2:06:14<34:14, 28.93s/it]"
     ]
    },
    {
     "name": "stdout",
     "output_type": "stream",
     "text": [
      "min:  0.0 max:  150.0 step:  0.5882352941176471\n"
     ]
    },
    {
     "name": "stderr",
     "output_type": "stream",
     "text": [
      "\r",
      " 80%|████████  | 287/357 [2:06:44<34:14, 29.34s/it]"
     ]
    },
    {
     "name": "stdout",
     "output_type": "stream",
     "text": [
      "min:  0.0 max:  150.0 step:  0.5882352941176471\n"
     ]
    },
    {
     "name": "stderr",
     "output_type": "stream",
     "text": [
      "\r",
      " 81%|████████  | 288/357 [2:07:14<33:59, 29.56s/it]"
     ]
    },
    {
     "name": "stdout",
     "output_type": "stream",
     "text": [
      "min:  0.0 max:  150.0 step:  0.5882352941176471\n"
     ]
    },
    {
     "name": "stderr",
     "output_type": "stream",
     "text": [
      "\r",
      " 81%|████████  | 289/357 [2:07:43<33:14, 29.33s/it]"
     ]
    },
    {
     "name": "stdout",
     "output_type": "stream",
     "text": [
      "min:  0.0 max:  150.0 step:  0.5882352941176471\n"
     ]
    },
    {
     "name": "stderr",
     "output_type": "stream",
     "text": [
      "\r",
      " 81%|████████  | 290/357 [2:08:12<32:32, 29.14s/it]"
     ]
    },
    {
     "name": "stdout",
     "output_type": "stream",
     "text": [
      "min:  0.0 max:  150.0 step:  0.5882352941176471\n"
     ]
    },
    {
     "name": "stderr",
     "output_type": "stream",
     "text": [
      "\r",
      " 82%|████████▏ | 291/357 [2:08:39<31:29, 28.62s/it]"
     ]
    },
    {
     "name": "stdout",
     "output_type": "stream",
     "text": [
      "min:  0.0 max:  150.0 step:  0.5882352941176471\n"
     ]
    },
    {
     "name": "stderr",
     "output_type": "stream",
     "text": [
      "\r",
      " 82%|████████▏ | 292/357 [2:09:09<31:24, 28.99s/it]"
     ]
    },
    {
     "name": "stdout",
     "output_type": "stream",
     "text": [
      "min:  0.0 max:  150.0 step:  0.5882352941176471\n"
     ]
    },
    {
     "name": "stderr",
     "output_type": "stream",
     "text": [
      "\r",
      " 82%|████████▏ | 293/357 [2:09:39<31:11, 29.25s/it]"
     ]
    },
    {
     "name": "stdout",
     "output_type": "stream",
     "text": [
      "min:  0.0 max:  150.0 step:  0.5882352941176471\n"
     ]
    },
    {
     "name": "stderr",
     "output_type": "stream",
     "text": [
      "\r",
      " 82%|████████▏ | 294/357 [2:10:09<30:53, 29.42s/it]"
     ]
    },
    {
     "name": "stdout",
     "output_type": "stream",
     "text": [
      "min:  0.0 max:  150.0 step:  0.5882352941176471\n"
     ]
    },
    {
     "name": "stderr",
     "output_type": "stream",
     "text": [
      "\r",
      " 83%|████████▎ | 295/357 [2:10:39<30:48, 29.82s/it]"
     ]
    },
    {
     "name": "stdout",
     "output_type": "stream",
     "text": [
      "min:  0.0 max:  150.0 step:  0.5882352941176471\n"
     ]
    },
    {
     "name": "stderr",
     "output_type": "stream",
     "text": [
      "\r",
      " 83%|████████▎ | 296/357 [2:11:10<30:23, 29.90s/it]"
     ]
    },
    {
     "name": "stdout",
     "output_type": "stream",
     "text": [
      "min:  0.0 max:  150.0 step:  0.5882352941176471\n"
     ]
    },
    {
     "name": "stderr",
     "output_type": "stream",
     "text": [
      "\r",
      " 83%|████████▎ | 297/357 [2:11:40<30:04, 30.07s/it]"
     ]
    },
    {
     "name": "stdout",
     "output_type": "stream",
     "text": [
      "min:  0.0 max:  150.0 step:  0.5882352941176471\n"
     ]
    },
    {
     "name": "stderr",
     "output_type": "stream",
     "text": [
      "\r",
      " 83%|████████▎ | 298/357 [2:12:08<29:04, 29.57s/it]"
     ]
    },
    {
     "name": "stdout",
     "output_type": "stream",
     "text": [
      "min:  0.0 max:  150.0 step:  0.5882352941176471\n"
     ]
    },
    {
     "name": "stderr",
     "output_type": "stream",
     "text": [
      "\r",
      " 84%|████████▍ | 299/357 [2:12:39<28:53, 29.88s/it]"
     ]
    },
    {
     "name": "stdout",
     "output_type": "stream",
     "text": [
      "min:  0.0 max:  150.0 step:  0.5882352941176471\n"
     ]
    },
    {
     "name": "stderr",
     "output_type": "stream",
     "text": [
      "\r",
      " 84%|████████▍ | 300/357 [2:13:09<28:31, 30.02s/it]"
     ]
    },
    {
     "name": "stdout",
     "output_type": "stream",
     "text": [
      "min:  0.0 max:  150.0 step:  0.5882352941176471\n"
     ]
    },
    {
     "name": "stderr",
     "output_type": "stream",
     "text": [
      "\r",
      " 84%|████████▍ | 301/357 [2:13:41<28:19, 30.35s/it]"
     ]
    },
    {
     "name": "stdout",
     "output_type": "stream",
     "text": [
      "min:  0.0 max:  150.0 step:  0.5882352941176471\n"
     ]
    },
    {
     "name": "stderr",
     "output_type": "stream",
     "text": [
      "\r",
      " 85%|████████▍ | 302/357 [2:14:12<28:09, 30.72s/it]"
     ]
    },
    {
     "name": "stdout",
     "output_type": "stream",
     "text": [
      "min:  0.0 max:  150.0 step:  0.5882352941176471\n"
     ]
    },
    {
     "name": "stderr",
     "output_type": "stream",
     "text": [
      "\r",
      " 85%|████████▍ | 303/357 [2:14:42<27:26, 30.49s/it]"
     ]
    },
    {
     "name": "stdout",
     "output_type": "stream",
     "text": [
      "min:  0.0 max:  150.0 step:  0.5882352941176471\n"
     ]
    },
    {
     "name": "stderr",
     "output_type": "stream",
     "text": [
      "\r",
      " 85%|████████▌ | 304/357 [2:15:11<26:36, 30.13s/it]"
     ]
    },
    {
     "name": "stdout",
     "output_type": "stream",
     "text": [
      "min:  0.0 max:  150.0 step:  0.5882352941176471\n"
     ]
    },
    {
     "name": "stderr",
     "output_type": "stream",
     "text": [
      "\r",
      " 85%|████████▌ | 305/357 [2:15:41<25:58, 29.98s/it]"
     ]
    },
    {
     "name": "stdout",
     "output_type": "stream",
     "text": [
      "min:  0.0 max:  150.0 step:  0.5882352941176471\n"
     ]
    },
    {
     "name": "stderr",
     "output_type": "stream",
     "text": [
      "\r",
      " 86%|████████▌ | 306/357 [2:16:12<25:39, 30.19s/it]"
     ]
    },
    {
     "name": "stdout",
     "output_type": "stream",
     "text": [
      "min:  0.0 max:  150.0 step:  0.5882352941176471\n"
     ]
    },
    {
     "name": "stderr",
     "output_type": "stream",
     "text": [
      "\r",
      " 86%|████████▌ | 307/357 [2:16:41<24:54, 29.90s/it]"
     ]
    },
    {
     "name": "stdout",
     "output_type": "stream",
     "text": [
      "min:  0.0 max:  150.0 step:  0.5882352941176471\n"
     ]
    },
    {
     "name": "stderr",
     "output_type": "stream",
     "text": [
      "\r",
      " 86%|████████▋ | 308/357 [2:17:11<24:23, 29.87s/it]"
     ]
    },
    {
     "name": "stdout",
     "output_type": "stream",
     "text": [
      "min:  0.0 max:  150.0 step:  0.5882352941176471\n"
     ]
    },
    {
     "name": "stderr",
     "output_type": "stream",
     "text": [
      "\r",
      " 87%|████████▋ | 309/357 [2:17:41<23:57, 29.96s/it]"
     ]
    },
    {
     "name": "stdout",
     "output_type": "stream",
     "text": [
      "min:  0.0 max:  150.0 step:  0.5882352941176471\n"
     ]
    },
    {
     "name": "stderr",
     "output_type": "stream",
     "text": [
      "\r",
      " 87%|████████▋ | 310/357 [2:18:11<23:24, 29.89s/it]"
     ]
    },
    {
     "name": "stdout",
     "output_type": "stream",
     "text": [
      "min:  0.0 max:  150.0 step:  0.5882352941176471\n"
     ]
    },
    {
     "name": "stderr",
     "output_type": "stream",
     "text": [
      "\r",
      " 87%|████████▋ | 311/357 [2:18:41<22:56, 29.93s/it]"
     ]
    },
    {
     "name": "stdout",
     "output_type": "stream",
     "text": [
      "min:  0.0 max:  150.0 step:  0.5882352941176471\n"
     ]
    },
    {
     "name": "stderr",
     "output_type": "stream",
     "text": [
      "\r",
      " 87%|████████▋ | 312/357 [2:19:11<22:32, 30.06s/it]"
     ]
    },
    {
     "name": "stdout",
     "output_type": "stream",
     "text": [
      "min:  0.0 max:  150.0 step:  0.5882352941176471\n"
     ]
    },
    {
     "name": "stderr",
     "output_type": "stream",
     "text": [
      "\r",
      " 88%|████████▊ | 313/357 [2:19:42<22:13, 30.30s/it]"
     ]
    },
    {
     "name": "stdout",
     "output_type": "stream",
     "text": [
      "min:  0.0 max:  150.0 step:  0.5882352941176471\n"
     ]
    },
    {
     "name": "stderr",
     "output_type": "stream",
     "text": [
      "\r",
      " 88%|████████▊ | 314/357 [2:20:10<21:19, 29.76s/it]"
     ]
    },
    {
     "name": "stdout",
     "output_type": "stream",
     "text": [
      "min:  0.0 max:  150.0 step:  0.5882352941176471\n"
     ]
    },
    {
     "name": "stderr",
     "output_type": "stream",
     "text": [
      "\r",
      " 88%|████████▊ | 315/357 [2:20:38<20:21, 29.07s/it]"
     ]
    },
    {
     "name": "stdout",
     "output_type": "stream",
     "text": [
      "min:  0.0 max:  150.0 step:  0.5882352941176471\n"
     ]
    },
    {
     "name": "stderr",
     "output_type": "stream",
     "text": [
      "\r",
      " 89%|████████▊ | 316/357 [2:21:08<20:05, 29.40s/it]"
     ]
    },
    {
     "name": "stdout",
     "output_type": "stream",
     "text": [
      "min:  0.0 max:  150.0 step:  0.5882352941176471\n"
     ]
    },
    {
     "name": "stderr",
     "output_type": "stream",
     "text": [
      "\r",
      " 89%|████████▉ | 317/357 [2:21:38<19:44, 29.60s/it]"
     ]
    },
    {
     "name": "stdout",
     "output_type": "stream",
     "text": [
      "min:  0.0 max:  150.0 step:  0.5882352941176471\n"
     ]
    },
    {
     "name": "stderr",
     "output_type": "stream",
     "text": [
      "\r",
      " 89%|████████▉ | 318/357 [2:22:06<18:57, 29.16s/it]"
     ]
    },
    {
     "name": "stdout",
     "output_type": "stream",
     "text": [
      "min:  0.0 max:  150.0 step:  0.5882352941176471\n"
     ]
    },
    {
     "name": "stderr",
     "output_type": "stream",
     "text": [
      "\r",
      " 89%|████████▉ | 319/357 [2:22:33<18:06, 28.59s/it]"
     ]
    },
    {
     "name": "stdout",
     "output_type": "stream",
     "text": [
      "min:  0.0 max:  150.0 step:  0.5882352941176471\n"
     ]
    },
    {
     "name": "stderr",
     "output_type": "stream",
     "text": [
      "\r",
      " 90%|████████▉ | 320/357 [2:23:01<17:30, 28.40s/it]"
     ]
    },
    {
     "name": "stdout",
     "output_type": "stream",
     "text": [
      "min:  0.0 max:  150.0 step:  0.5882352941176471\n"
     ]
    },
    {
     "name": "stderr",
     "output_type": "stream",
     "text": [
      "\r",
      " 90%|████████▉ | 321/357 [2:23:29<16:56, 28.25s/it]"
     ]
    },
    {
     "name": "stdout",
     "output_type": "stream",
     "text": [
      "min:  0.0 max:  150.0 step:  0.5882352941176471\n"
     ]
    },
    {
     "name": "stderr",
     "output_type": "stream",
     "text": [
      "\r",
      " 90%|█████████ | 322/357 [2:23:57<16:26, 28.19s/it]"
     ]
    },
    {
     "name": "stdout",
     "output_type": "stream",
     "text": [
      "min:  0.0 max:  150.0 step:  0.5882352941176471\n"
     ]
    },
    {
     "name": "stderr",
     "output_type": "stream",
     "text": [
      "\r",
      " 90%|█████████ | 323/357 [2:24:25<15:55, 28.11s/it]"
     ]
    },
    {
     "name": "stdout",
     "output_type": "stream",
     "text": [
      "min:  0.0 max:  150.0 step:  0.5882352941176471\n"
     ]
    },
    {
     "name": "stderr",
     "output_type": "stream",
     "text": [
      "\r",
      " 91%|█████████ | 324/357 [2:24:53<15:25, 28.04s/it]"
     ]
    },
    {
     "name": "stdout",
     "output_type": "stream",
     "text": [
      "min:  0.0 max:  150.0 step:  0.5882352941176471\n"
     ]
    },
    {
     "name": "stderr",
     "output_type": "stream",
     "text": [
      "\r",
      " 91%|█████████ | 325/357 [2:25:21<14:56, 28.03s/it]"
     ]
    },
    {
     "name": "stdout",
     "output_type": "stream",
     "text": [
      "min:  0.0 max:  150.0 step:  0.5882352941176471\n"
     ]
    },
    {
     "name": "stderr",
     "output_type": "stream",
     "text": [
      "\r",
      " 91%|█████████▏| 326/357 [2:25:49<14:29, 28.04s/it]"
     ]
    },
    {
     "name": "stdout",
     "output_type": "stream",
     "text": [
      "min:  0.0 max:  150.0 step:  0.5882352941176471\n"
     ]
    },
    {
     "name": "stderr",
     "output_type": "stream",
     "text": [
      "\r",
      " 92%|█████████▏| 327/357 [2:26:17<14:00, 28.02s/it]"
     ]
    },
    {
     "name": "stdout",
     "output_type": "stream",
     "text": [
      "min:  0.0 max:  150.0 step:  0.5882352941176471\n"
     ]
    },
    {
     "name": "stderr",
     "output_type": "stream",
     "text": [
      "\r",
      " 92%|█████████▏| 328/357 [2:26:45<13:31, 27.99s/it]"
     ]
    },
    {
     "name": "stdout",
     "output_type": "stream",
     "text": [
      "min:  0.0 max:  150.0 step:  0.5882352941176471\n"
     ]
    },
    {
     "name": "stderr",
     "output_type": "stream",
     "text": [
      "\r",
      " 92%|█████████▏| 329/357 [2:27:13<13:02, 27.94s/it]"
     ]
    },
    {
     "name": "stdout",
     "output_type": "stream",
     "text": [
      "min:  0.0 max:  150.0 step:  0.5882352941176471\n"
     ]
    },
    {
     "name": "stderr",
     "output_type": "stream",
     "text": [
      "\r",
      " 92%|█████████▏| 330/357 [2:27:41<12:36, 28.00s/it]"
     ]
    },
    {
     "name": "stdout",
     "output_type": "stream",
     "text": [
      "min:  0.0 max:  150.0 step:  0.5882352941176471\n"
     ]
    },
    {
     "name": "stderr",
     "output_type": "stream",
     "text": [
      "\r",
      " 93%|█████████▎| 331/357 [2:28:09<12:08, 28.03s/it]"
     ]
    },
    {
     "name": "stdout",
     "output_type": "stream",
     "text": [
      "min:  0.0 max:  150.0 step:  0.5882352941176471\n"
     ]
    },
    {
     "name": "stderr",
     "output_type": "stream",
     "text": [
      "\r",
      " 93%|█████████▎| 332/357 [2:28:38<11:50, 28.43s/it]"
     ]
    },
    {
     "name": "stdout",
     "output_type": "stream",
     "text": [
      "min:  0.0 max:  150.0 step:  0.5882352941176471\n"
     ]
    },
    {
     "name": "stderr",
     "output_type": "stream",
     "text": [
      "\r",
      " 93%|█████████▎| 333/357 [2:29:09<11:38, 29.09s/it]"
     ]
    },
    {
     "name": "stdout",
     "output_type": "stream",
     "text": [
      "min:  0.0 max:  150.0 step:  0.5882352941176471\n"
     ]
    },
    {
     "name": "stderr",
     "output_type": "stream",
     "text": [
      "\r",
      " 94%|█████████▎| 334/357 [2:29:37<11:03, 28.83s/it]"
     ]
    },
    {
     "name": "stdout",
     "output_type": "stream",
     "text": [
      "min:  0.0 max:  150.0 step:  0.5882352941176471\n"
     ]
    },
    {
     "name": "stderr",
     "output_type": "stream",
     "text": [
      "\r",
      " 94%|█████████▍| 335/357 [2:30:06<10:36, 28.93s/it]"
     ]
    },
    {
     "name": "stdout",
     "output_type": "stream",
     "text": [
      "min:  0.0 max:  150.0 step:  0.5882352941176471\n"
     ]
    },
    {
     "name": "stderr",
     "output_type": "stream",
     "text": [
      "\r",
      " 94%|█████████▍| 336/357 [2:30:36<10:11, 29.11s/it]"
     ]
    },
    {
     "name": "stdout",
     "output_type": "stream",
     "text": [
      "min:  0.0 max:  150.0 step:  0.5882352941176471\n"
     ]
    },
    {
     "name": "stderr",
     "output_type": "stream",
     "text": [
      "\r",
      " 94%|█████████▍| 337/357 [2:31:06<09:47, 29.40s/it]"
     ]
    },
    {
     "name": "stdout",
     "output_type": "stream",
     "text": [
      "min:  0.0 max:  150.0 step:  0.5882352941176471\n"
     ]
    },
    {
     "name": "stderr",
     "output_type": "stream",
     "text": [
      "\r",
      " 95%|█████████▍| 338/357 [2:31:35<09:15, 29.25s/it]"
     ]
    },
    {
     "name": "stdout",
     "output_type": "stream",
     "text": [
      "min:  0.0 max:  150.0 step:  0.5882352941176471\n"
     ]
    },
    {
     "name": "stderr",
     "output_type": "stream",
     "text": [
      "\r",
      " 95%|█████████▍| 339/357 [2:32:04<08:45, 29.19s/it]"
     ]
    },
    {
     "name": "stdout",
     "output_type": "stream",
     "text": [
      "min:  0.0 max:  150.0 step:  0.5882352941176471\n"
     ]
    },
    {
     "name": "stderr",
     "output_type": "stream",
     "text": [
      "\r",
      " 95%|█████████▌| 340/357 [2:32:33<08:14, 29.08s/it]"
     ]
    },
    {
     "name": "stdout",
     "output_type": "stream",
     "text": [
      "min:  0.0 max:  150.0 step:  0.5882352941176471\n"
     ]
    },
    {
     "name": "stderr",
     "output_type": "stream",
     "text": [
      "\r",
      " 96%|█████████▌| 341/357 [2:33:02<07:45, 29.11s/it]"
     ]
    },
    {
     "name": "stdout",
     "output_type": "stream",
     "text": [
      "min:  0.0 max:  150.0 step:  0.5882352941176471\n"
     ]
    },
    {
     "name": "stderr",
     "output_type": "stream",
     "text": [
      "\r",
      " 96%|█████████▌| 342/357 [2:33:31<07:14, 28.97s/it]"
     ]
    },
    {
     "name": "stdout",
     "output_type": "stream",
     "text": [
      "min:  0.0 max:  150.0 step:  0.5882352941176471\n"
     ]
    },
    {
     "name": "stderr",
     "output_type": "stream",
     "text": [
      "\r",
      " 96%|█████████▌| 343/357 [2:34:00<06:45, 28.93s/it]"
     ]
    },
    {
     "name": "stdout",
     "output_type": "stream",
     "text": [
      "min:  0.0 max:  150.0 step:  0.5882352941176471\n"
     ]
    },
    {
     "name": "stderr",
     "output_type": "stream",
     "text": [
      "\r",
      " 96%|█████████▋| 344/357 [2:34:30<06:21, 29.31s/it]"
     ]
    },
    {
     "name": "stdout",
     "output_type": "stream",
     "text": [
      "min:  0.0 max:  150.0 step:  0.5882352941176471\n"
     ]
    },
    {
     "name": "stderr",
     "output_type": "stream",
     "text": [
      "\r",
      " 97%|█████████▋| 345/357 [2:35:00<05:56, 29.70s/it]"
     ]
    },
    {
     "name": "stdout",
     "output_type": "stream",
     "text": [
      "min:  0.0 max:  150.0 step:  0.5882352941176471\n"
     ]
    },
    {
     "name": "stderr",
     "output_type": "stream",
     "text": [
      "\r",
      " 97%|█████████▋| 346/357 [2:35:35<05:42, 31.12s/it]"
     ]
    },
    {
     "name": "stdout",
     "output_type": "stream",
     "text": [
      "min:  0.0 max:  150.0 step:  0.5882352941176471\n"
     ]
    },
    {
     "name": "stderr",
     "output_type": "stream",
     "text": [
      "\r",
      " 97%|█████████▋| 347/357 [2:36:05<05:08, 30.83s/it]"
     ]
    },
    {
     "name": "stdout",
     "output_type": "stream",
     "text": [
      "min:  0.0 max:  150.0 step:  0.5882352941176471\n"
     ]
    },
    {
     "name": "stderr",
     "output_type": "stream",
     "text": [
      "\r",
      " 97%|█████████▋| 348/357 [2:36:36<04:36, 30.78s/it]"
     ]
    },
    {
     "name": "stdout",
     "output_type": "stream",
     "text": [
      "min:  0.0 max:  150.0 step:  0.5882352941176471\n"
     ]
    },
    {
     "name": "stderr",
     "output_type": "stream",
     "text": [
      "\r",
      " 98%|█████████▊| 349/357 [2:37:05<04:03, 30.50s/it]"
     ]
    },
    {
     "name": "stdout",
     "output_type": "stream",
     "text": [
      "min:  0.0 max:  150.0 step:  0.5882352941176471\n"
     ]
    },
    {
     "name": "stderr",
     "output_type": "stream",
     "text": [
      "\r",
      " 98%|█████████▊| 350/357 [2:37:35<03:30, 30.10s/it]"
     ]
    },
    {
     "name": "stdout",
     "output_type": "stream",
     "text": [
      "min:  0.0 max:  150.0 step:  0.5882352941176471\n"
     ]
    },
    {
     "name": "stderr",
     "output_type": "stream",
     "text": [
      "\r",
      " 98%|█████████▊| 351/357 [2:38:04<02:59, 29.96s/it]"
     ]
    },
    {
     "name": "stdout",
     "output_type": "stream",
     "text": [
      "min:  0.0 max:  150.0 step:  0.5882352941176471\n"
     ]
    },
    {
     "name": "stderr",
     "output_type": "stream",
     "text": [
      "\r",
      " 99%|█████████▊| 352/357 [2:38:33<02:28, 29.62s/it]"
     ]
    },
    {
     "name": "stdout",
     "output_type": "stream",
     "text": [
      "min:  0.0 max:  150.0 step:  0.5882352941176471\n"
     ]
    },
    {
     "name": "stderr",
     "output_type": "stream",
     "text": [
      "\r",
      " 99%|█████████▉| 353/357 [2:39:02<01:57, 29.43s/it]"
     ]
    },
    {
     "name": "stdout",
     "output_type": "stream",
     "text": [
      "min:  0.0 max:  150.0 step:  0.5882352941176471\n"
     ]
    },
    {
     "name": "stderr",
     "output_type": "stream",
     "text": [
      "\r",
      " 99%|█████████▉| 354/357 [2:39:30<01:26, 28.90s/it]"
     ]
    },
    {
     "name": "stdout",
     "output_type": "stream",
     "text": [
      "min:  0.0 max:  150.0 step:  0.5882352941176471\n"
     ]
    },
    {
     "name": "stderr",
     "output_type": "stream",
     "text": [
      "\r",
      " 99%|█████████▉| 355/357 [2:39:57<00:56, 28.41s/it]"
     ]
    },
    {
     "name": "stdout",
     "output_type": "stream",
     "text": [
      "min:  0.0 max:  150.0 step:  0.5882352941176471\n"
     ]
    },
    {
     "name": "stderr",
     "output_type": "stream",
     "text": [
      "\r",
      "100%|█████████▉| 356/357 [2:40:26<00:28, 28.51s/it]"
     ]
    },
    {
     "name": "stdout",
     "output_type": "stream",
     "text": [
      "min:  0.0 max:  150.0 step:  0.5882352941176471\n"
     ]
    },
    {
     "name": "stderr",
     "output_type": "stream",
     "text": [
      "100%|██████████| 357/357 [2:40:54<00:00, 27.04s/it]\n"
     ]
    }
   ],
   "source": [
    "data_ct_nrrd = ToolBox(data_path = r'E:\\Internship Mass storage\\First 3 datasets\\VALDO dataset\\Test', data_type='nrrd')\n",
    "sb.set(context='poster', style='white')\n",
    "data_ct_nrrd.pre_process(ref_img_path = r'E:\\Internship Mass storage\\First 3 datasets\\VALDO dataset\\Test\\sub-101\\sub-101_space-T1_desc-image_FLAIR.nrrd',\n",
    "                         save_path = r\"E:\\Internship Mass storage\\First 3 datasets\\VALDO dataset\\nrrd_preprocessed\",\n",
    "                         hist_match = False,        # boolean\n",
    "                         subcateneus_fat = False,   # boolean\n",
    "                         fat_value = 774,           # this is a dummy value, \n",
    "                                                    # you would need to find that value for each image\n",
    "                         percentile_scaling = False, # boolean\n",
    "                         window_filtering_params = (1500,-600), #Window Filtering [WW,WL]\n",
    "                         binning = 255,             # this is a dummy value, it takes False or int \n",
    "                                                    # (# of bins for intensity resampling)\n",
    "                         verbosity = False,          # boolean\n",
    "                         z_score = True,           # boolean \n",
    "                         hist_equalize = False,     # boolean\n",
    "                         norm_coeff = (1000.,500.), # these are dummy values, you would need to estimate real mu and sigma\n",
    "                                                    # it takes None or tuple: (mu,sigma)\n",
    "                         visualize = False)"
   ]
  },
  {
   "cell_type": "code",
   "execution_count": 3,
   "id": "23caa08b",
   "metadata": {},
   "outputs": [
    {
     "name": "stderr",
     "output_type": "stream",
     "text": [
      "Fixed bin Count enabled! However, we recommend using a fixed bin Width. See http://pyradiomics.readthedocs.io/en/latest/faq.html#radiomics-fixed-bin-width for more details\n",
      "Patients processed:  32%|███▏      | 116/357 [08:02<15:49,  3.94s/it]C:\\Users\\MegaMert\\Documents\\GitHub\\precision-medicine-toolbox\\pmtool\\ToolBox.py:144: UserWarning: region : sub-211_masksub-211 lesion84 skipped\n",
      "  warn('region : %s skipped'%pat)\n",
      "Patients processed: 100%|██████████| 357/357 [24:00<00:00,  4.03s/it]\n"
     ]
    }
   ],
   "source": [
    "parameters = r\"C:\\Users\\MegaMert\\Documents\\GitHub\\precision-medicine-toolbox\\examples\\example_mr_parameters.yml\"\n",
    "features = data_ct_nrrd.extract_features(parameters, loggenabled=True)"
   ]
  },
  {
   "cell_type": "code",
   "execution_count": 5,
   "id": "b61be31b",
   "metadata": {},
   "outputs": [
    {
     "data": {
      "text/html": [
       "<div>\n",
       "<style scoped>\n",
       "    .dataframe tbody tr th:only-of-type {\n",
       "        vertical-align: middle;\n",
       "    }\n",
       "\n",
       "    .dataframe tbody tr th {\n",
       "        vertical-align: top;\n",
       "    }\n",
       "\n",
       "    .dataframe thead th {\n",
       "        text-align: right;\n",
       "    }\n",
       "</style>\n",
       "<table border=\"1\" class=\"dataframe\">\n",
       "  <thead>\n",
       "    <tr style=\"text-align: right;\">\n",
       "      <th></th>\n",
       "      <th>diagnostics_Versions_PyRadiomics</th>\n",
       "      <th>diagnostics_Versions_Numpy</th>\n",
       "      <th>diagnostics_Versions_SimpleITK</th>\n",
       "      <th>diagnostics_Versions_PyWavelet</th>\n",
       "      <th>diagnostics_Versions_Python</th>\n",
       "      <th>diagnostics_Configuration_Settings</th>\n",
       "      <th>diagnostics_Configuration_EnabledImageTypes</th>\n",
       "      <th>diagnostics_Image-original_Hash</th>\n",
       "      <th>diagnostics_Image-original_Dimensionality</th>\n",
       "      <th>diagnostics_Image-original_Spacing</th>\n",
       "      <th>...</th>\n",
       "      <th>original_gldm_HighGrayLevelEmphasis</th>\n",
       "      <th>original_gldm_LargeDependenceEmphasis</th>\n",
       "      <th>original_gldm_LargeDependenceHighGrayLevelEmphasis</th>\n",
       "      <th>original_gldm_LargeDependenceLowGrayLevelEmphasis</th>\n",
       "      <th>original_gldm_LowGrayLevelEmphasis</th>\n",
       "      <th>original_gldm_SmallDependenceEmphasis</th>\n",
       "      <th>original_gldm_SmallDependenceHighGrayLevelEmphasis</th>\n",
       "      <th>original_gldm_SmallDependenceLowGrayLevelEmphasis</th>\n",
       "      <th>Patient</th>\n",
       "      <th>ROI</th>\n",
       "    </tr>\n",
       "  </thead>\n",
       "  <tbody>\n",
       "    <tr>\n",
       "      <th>0</th>\n",
       "      <td>v3.0.1</td>\n",
       "      <td>1.22.3</td>\n",
       "      <td>2.1.1</td>\n",
       "      <td>1.3.0</td>\n",
       "      <td>3.9.7</td>\n",
       "      <td>{'minimumROIDimensions': 2, 'minimumROISize': ...</td>\n",
       "      <td>{'Original': {}}</td>\n",
       "      <td>c469672b59d6db89593ea4b25b58b4e1b037d5d9</td>\n",
       "      <td>3D</td>\n",
       "      <td>(1.0, 1.0, 1.0)</td>\n",
       "      <td>...</td>\n",
       "      <td>1003.5</td>\n",
       "      <td>1.0</td>\n",
       "      <td>1003.5</td>\n",
       "      <td>0.12931783237110733</td>\n",
       "      <td>0.12931783237110733</td>\n",
       "      <td>1.0</td>\n",
       "      <td>1003.5</td>\n",
       "      <td>0.12931783237110733</td>\n",
       "      <td>sub-209_masksub-209 lesion1</td>\n",
       "      <td>masksub-209 lesion1</td>\n",
       "    </tr>\n",
       "    <tr>\n",
       "      <th>1</th>\n",
       "      <td>v3.0.1</td>\n",
       "      <td>1.22.3</td>\n",
       "      <td>2.1.1</td>\n",
       "      <td>1.3.0</td>\n",
       "      <td>3.9.7</td>\n",
       "      <td>{'minimumROIDimensions': 2, 'minimumROISize': ...</td>\n",
       "      <td>{'Original': {}}</td>\n",
       "      <td>c469672b59d6db89593ea4b25b58b4e1b037d5d9</td>\n",
       "      <td>3D</td>\n",
       "      <td>(1.0, 1.0, 1.0)</td>\n",
       "      <td>...</td>\n",
       "      <td>512.2</td>\n",
       "      <td>1.6</td>\n",
       "      <td>560.8</td>\n",
       "      <td>0.11755241879597375</td>\n",
       "      <td>0.11014501138856633</td>\n",
       "      <td>0.85</td>\n",
       "      <td>500.05</td>\n",
       "      <td>0.10829315953671448</td>\n",
       "      <td>sub-209_masksub-209 lesion10</td>\n",
       "      <td>masksub-209 lesion10</td>\n",
       "    </tr>\n",
       "    <tr>\n",
       "      <th>2</th>\n",
       "      <td>v3.0.1</td>\n",
       "      <td>1.22.3</td>\n",
       "      <td>2.1.1</td>\n",
       "      <td>1.3.0</td>\n",
       "      <td>3.9.7</td>\n",
       "      <td>{'minimumROIDimensions': 2, 'minimumROISize': ...</td>\n",
       "      <td>{'Original': {}}</td>\n",
       "      <td>c469672b59d6db89593ea4b25b58b4e1b037d5d9</td>\n",
       "      <td>3D</td>\n",
       "      <td>(1.0, 1.0, 1.0)</td>\n",
       "      <td>...</td>\n",
       "      <td>923.8333333333334</td>\n",
       "      <td>2.0</td>\n",
       "      <td>2079.8333333333335</td>\n",
       "      <td>0.16884136608891923</td>\n",
       "      <td>0.16797631418580503</td>\n",
       "      <td>0.75</td>\n",
       "      <td>634.8333333333334</td>\n",
       "      <td>0.1677600512100265</td>\n",
       "      <td>sub-209_masksub-209 lesion11</td>\n",
       "      <td>masksub-209 lesion11</td>\n",
       "    </tr>\n",
       "    <tr>\n",
       "      <th>3</th>\n",
       "      <td>v3.0.1</td>\n",
       "      <td>1.22.3</td>\n",
       "      <td>2.1.1</td>\n",
       "      <td>1.3.0</td>\n",
       "      <td>3.9.7</td>\n",
       "      <td>{'minimumROIDimensions': 2, 'minimumROISize': ...</td>\n",
       "      <td>{'Original': {}}</td>\n",
       "      <td>c469672b59d6db89593ea4b25b58b4e1b037d5d9</td>\n",
       "      <td>3D</td>\n",
       "      <td>(1.0, 1.0, 1.0)</td>\n",
       "      <td>...</td>\n",
       "      <td>1295.4444444444443</td>\n",
       "      <td>4.333333333333333</td>\n",
       "      <td>8732.777777777777</td>\n",
       "      <td>0.11662398475678575</td>\n",
       "      <td>0.11498061682137628</td>\n",
       "      <td>0.537037037037037</td>\n",
       "      <td>362.03703703703707</td>\n",
       "      <td>0.11471792298567207</td>\n",
       "      <td>sub-209_masksub-209 lesion12</td>\n",
       "      <td>masksub-209 lesion12</td>\n",
       "    </tr>\n",
       "    <tr>\n",
       "      <th>4</th>\n",
       "      <td>v3.0.1</td>\n",
       "      <td>1.22.3</td>\n",
       "      <td>2.1.1</td>\n",
       "      <td>1.3.0</td>\n",
       "      <td>3.9.7</td>\n",
       "      <td>{'minimumROIDimensions': 2, 'minimumROISize': ...</td>\n",
       "      <td>{'Original': {}}</td>\n",
       "      <td>c469672b59d6db89593ea4b25b58b4e1b037d5d9</td>\n",
       "      <td>3D</td>\n",
       "      <td>(1.0, 1.0, 1.0)</td>\n",
       "      <td>...</td>\n",
       "      <td>736.125</td>\n",
       "      <td>1.75</td>\n",
       "      <td>736.875</td>\n",
       "      <td>1.001553849251787</td>\n",
       "      <td>0.25155384925178687</td>\n",
       "      <td>0.8125</td>\n",
       "      <td>735.9375</td>\n",
       "      <td>0.0640538492517869</td>\n",
       "      <td>sub-209_masksub-209 lesion13</td>\n",
       "      <td>masksub-209 lesion13</td>\n",
       "    </tr>\n",
       "    <tr>\n",
       "      <th>5</th>\n",
       "      <td>v3.0.1</td>\n",
       "      <td>1.22.3</td>\n",
       "      <td>2.1.1</td>\n",
       "      <td>1.3.0</td>\n",
       "      <td>3.9.7</td>\n",
       "      <td>{'minimumROIDimensions': 2, 'minimumROISize': ...</td>\n",
       "      <td>{'Original': {}}</td>\n",
       "      <td>c469672b59d6db89593ea4b25b58b4e1b037d5d9</td>\n",
       "      <td>3D</td>\n",
       "      <td>(1.0, 1.0, 1.0)</td>\n",
       "      <td>...</td>\n",
       "      <td>746.1428571428571</td>\n",
       "      <td>1.8571428571428572</td>\n",
       "      <td>801.0</td>\n",
       "      <td>0.16127676646493935</td>\n",
       "      <td>0.14788390932208223</td>\n",
       "      <td>0.7857142857142857</td>\n",
       "      <td>732.4285714285714</td>\n",
       "      <td>0.14453569503636793</td>\n",
       "      <td>sub-209_masksub-209 lesion14</td>\n",
       "      <td>masksub-209 lesion14</td>\n",
       "    </tr>\n",
       "    <tr>\n",
       "      <th>6</th>\n",
       "      <td>v3.0.1</td>\n",
       "      <td>1.22.3</td>\n",
       "      <td>2.1.1</td>\n",
       "      <td>1.3.0</td>\n",
       "      <td>3.9.7</td>\n",
       "      <td>{'minimumROIDimensions': 2, 'minimumROISize': ...</td>\n",
       "      <td>{'Original': {}}</td>\n",
       "      <td>c469672b59d6db89593ea4b25b58b4e1b037d5d9</td>\n",
       "      <td>3D</td>\n",
       "      <td>(1.0, 1.0, 1.0)</td>\n",
       "      <td>...</td>\n",
       "      <td>998.1111111111111</td>\n",
       "      <td>1.0</td>\n",
       "      <td>998.1111111111111</td>\n",
       "      <td>0.11350579859100983</td>\n",
       "      <td>0.11350579859100983</td>\n",
       "      <td>1.0</td>\n",
       "      <td>998.1111111111111</td>\n",
       "      <td>0.11350579859100983</td>\n",
       "      <td>sub-209_masksub-209 lesion15</td>\n",
       "      <td>masksub-209 lesion15</td>\n",
       "    </tr>\n",
       "    <tr>\n",
       "      <th>7</th>\n",
       "      <td>v3.0.1</td>\n",
       "      <td>1.22.3</td>\n",
       "      <td>2.1.1</td>\n",
       "      <td>1.3.0</td>\n",
       "      <td>3.9.7</td>\n",
       "      <td>{'minimumROIDimensions': 2, 'minimumROISize': ...</td>\n",
       "      <td>{'Original': {}}</td>\n",
       "      <td>c469672b59d6db89593ea4b25b58b4e1b037d5d9</td>\n",
       "      <td>3D</td>\n",
       "      <td>(1.0, 1.0, 1.0)</td>\n",
       "      <td>...</td>\n",
       "      <td>866.4166666666666</td>\n",
       "      <td>1.5</td>\n",
       "      <td>866.9166666666666</td>\n",
       "      <td>0.6884666714073885</td>\n",
       "      <td>0.18846667140738851</td>\n",
       "      <td>0.875</td>\n",
       "      <td>866.2916666666666</td>\n",
       "      <td>0.0634666714073885</td>\n",
       "      <td>sub-209_masksub-209 lesion16</td>\n",
       "      <td>masksub-209 lesion16</td>\n",
       "    </tr>\n",
       "    <tr>\n",
       "      <th>8</th>\n",
       "      <td>v3.0.1</td>\n",
       "      <td>1.22.3</td>\n",
       "      <td>2.1.1</td>\n",
       "      <td>1.3.0</td>\n",
       "      <td>3.9.7</td>\n",
       "      <td>{'minimumROIDimensions': 2, 'minimumROISize': ...</td>\n",
       "      <td>{'Original': {}}</td>\n",
       "      <td>c469672b59d6db89593ea4b25b58b4e1b037d5d9</td>\n",
       "      <td>3D</td>\n",
       "      <td>(1.0, 1.0, 1.0)</td>\n",
       "      <td>...</td>\n",
       "      <td>1175.0</td>\n",
       "      <td>1.6</td>\n",
       "      <td>1439.6</td>\n",
       "      <td>0.10242417900301193</td>\n",
       "      <td>0.10106363478532485</td>\n",
       "      <td>0.85</td>\n",
       "      <td>1108.85</td>\n",
       "      <td>0.10072349873090307</td>\n",
       "      <td>sub-209_masksub-209 lesion17</td>\n",
       "      <td>masksub-209 lesion17</td>\n",
       "    </tr>\n",
       "    <tr>\n",
       "      <th>9</th>\n",
       "      <td>v3.0.1</td>\n",
       "      <td>1.22.3</td>\n",
       "      <td>2.1.1</td>\n",
       "      <td>1.3.0</td>\n",
       "      <td>3.9.7</td>\n",
       "      <td>{'minimumROIDimensions': 2, 'minimumROISize': ...</td>\n",
       "      <td>{'Original': {}}</td>\n",
       "      <td>c469672b59d6db89593ea4b25b58b4e1b037d5d9</td>\n",
       "      <td>3D</td>\n",
       "      <td>(1.0, 1.0, 1.0)</td>\n",
       "      <td>...</td>\n",
       "      <td>1137.2222222222222</td>\n",
       "      <td>1.6666666666666667</td>\n",
       "      <td>2151.222222222222</td>\n",
       "      <td>0.11275378719586739</td>\n",
       "      <td>0.11231547906525156</td>\n",
       "      <td>0.8333333333333334</td>\n",
       "      <td>883.7222222222222</td>\n",
       "      <td>0.11220590203259759</td>\n",
       "      <td>sub-209_masksub-209 lesion18</td>\n",
       "      <td>masksub-209 lesion18</td>\n",
       "    </tr>\n",
       "    <tr>\n",
       "      <th>10</th>\n",
       "      <td>v3.0.1</td>\n",
       "      <td>1.22.3</td>\n",
       "      <td>2.1.1</td>\n",
       "      <td>1.3.0</td>\n",
       "      <td>3.9.7</td>\n",
       "      <td>{'minimumROIDimensions': 2, 'minimumROISize': ...</td>\n",
       "      <td>{'Original': {}}</td>\n",
       "      <td>c469672b59d6db89593ea4b25b58b4e1b037d5d9</td>\n",
       "      <td>3D</td>\n",
       "      <td>(1.0, 1.0, 1.0)</td>\n",
       "      <td>...</td>\n",
       "      <td>677.0526315789474</td>\n",
       "      <td>1.6842105263157894</td>\n",
       "      <td>1358.842105263158</td>\n",
       "      <td>0.0390415192543562</td>\n",
       "      <td>0.03557843086303815</td>\n",
       "      <td>0.858187134502924</td>\n",
       "      <td>558.1842105263158</td>\n",
       "      <td>0.0347292345963208</td>\n",
       "      <td>sub-209_masksub-209 lesion19</td>\n",
       "      <td>masksub-209 lesion19</td>\n",
       "    </tr>\n",
       "    <tr>\n",
       "      <th>11</th>\n",
       "      <td>v3.0.1</td>\n",
       "      <td>1.22.3</td>\n",
       "      <td>2.1.1</td>\n",
       "      <td>1.3.0</td>\n",
       "      <td>3.9.7</td>\n",
       "      <td>{'minimumROIDimensions': 2, 'minimumROISize': ...</td>\n",
       "      <td>{'Original': {}}</td>\n",
       "      <td>c469672b59d6db89593ea4b25b58b4e1b037d5d9</td>\n",
       "      <td>3D</td>\n",
       "      <td>(1.0, 1.0, 1.0)</td>\n",
       "      <td>...</td>\n",
       "      <td>1225.0</td>\n",
       "      <td>2.2</td>\n",
       "      <td>4225.0</td>\n",
       "      <td>0.20283531250000003</td>\n",
       "      <td>0.2023553125</td>\n",
       "      <td>0.7</td>\n",
       "      <td>475.0</td>\n",
       "      <td>0.2022353125</td>\n",
       "      <td>sub-209_masksub-209 lesion2</td>\n",
       "      <td>masksub-209 lesion2</td>\n",
       "    </tr>\n",
       "  </tbody>\n",
       "</table>\n",
       "<p>12 rows × 124 columns</p>\n",
       "</div>"
      ],
      "text/plain": [
       "   diagnostics_Versions_PyRadiomics diagnostics_Versions_Numpy  \\\n",
       "0                            v3.0.1                     1.22.3   \n",
       "1                            v3.0.1                     1.22.3   \n",
       "2                            v3.0.1                     1.22.3   \n",
       "3                            v3.0.1                     1.22.3   \n",
       "4                            v3.0.1                     1.22.3   \n",
       "5                            v3.0.1                     1.22.3   \n",
       "6                            v3.0.1                     1.22.3   \n",
       "7                            v3.0.1                     1.22.3   \n",
       "8                            v3.0.1                     1.22.3   \n",
       "9                            v3.0.1                     1.22.3   \n",
       "10                           v3.0.1                     1.22.3   \n",
       "11                           v3.0.1                     1.22.3   \n",
       "\n",
       "   diagnostics_Versions_SimpleITK diagnostics_Versions_PyWavelet  \\\n",
       "0                           2.1.1                          1.3.0   \n",
       "1                           2.1.1                          1.3.0   \n",
       "2                           2.1.1                          1.3.0   \n",
       "3                           2.1.1                          1.3.0   \n",
       "4                           2.1.1                          1.3.0   \n",
       "5                           2.1.1                          1.3.0   \n",
       "6                           2.1.1                          1.3.0   \n",
       "7                           2.1.1                          1.3.0   \n",
       "8                           2.1.1                          1.3.0   \n",
       "9                           2.1.1                          1.3.0   \n",
       "10                          2.1.1                          1.3.0   \n",
       "11                          2.1.1                          1.3.0   \n",
       "\n",
       "   diagnostics_Versions_Python  \\\n",
       "0                        3.9.7   \n",
       "1                        3.9.7   \n",
       "2                        3.9.7   \n",
       "3                        3.9.7   \n",
       "4                        3.9.7   \n",
       "5                        3.9.7   \n",
       "6                        3.9.7   \n",
       "7                        3.9.7   \n",
       "8                        3.9.7   \n",
       "9                        3.9.7   \n",
       "10                       3.9.7   \n",
       "11                       3.9.7   \n",
       "\n",
       "                   diagnostics_Configuration_Settings  \\\n",
       "0   {'minimumROIDimensions': 2, 'minimumROISize': ...   \n",
       "1   {'minimumROIDimensions': 2, 'minimumROISize': ...   \n",
       "2   {'minimumROIDimensions': 2, 'minimumROISize': ...   \n",
       "3   {'minimumROIDimensions': 2, 'minimumROISize': ...   \n",
       "4   {'minimumROIDimensions': 2, 'minimumROISize': ...   \n",
       "5   {'minimumROIDimensions': 2, 'minimumROISize': ...   \n",
       "6   {'minimumROIDimensions': 2, 'minimumROISize': ...   \n",
       "7   {'minimumROIDimensions': 2, 'minimumROISize': ...   \n",
       "8   {'minimumROIDimensions': 2, 'minimumROISize': ...   \n",
       "9   {'minimumROIDimensions': 2, 'minimumROISize': ...   \n",
       "10  {'minimumROIDimensions': 2, 'minimumROISize': ...   \n",
       "11  {'minimumROIDimensions': 2, 'minimumROISize': ...   \n",
       "\n",
       "   diagnostics_Configuration_EnabledImageTypes  \\\n",
       "0                             {'Original': {}}   \n",
       "1                             {'Original': {}}   \n",
       "2                             {'Original': {}}   \n",
       "3                             {'Original': {}}   \n",
       "4                             {'Original': {}}   \n",
       "5                             {'Original': {}}   \n",
       "6                             {'Original': {}}   \n",
       "7                             {'Original': {}}   \n",
       "8                             {'Original': {}}   \n",
       "9                             {'Original': {}}   \n",
       "10                            {'Original': {}}   \n",
       "11                            {'Original': {}}   \n",
       "\n",
       "             diagnostics_Image-original_Hash  \\\n",
       "0   c469672b59d6db89593ea4b25b58b4e1b037d5d9   \n",
       "1   c469672b59d6db89593ea4b25b58b4e1b037d5d9   \n",
       "2   c469672b59d6db89593ea4b25b58b4e1b037d5d9   \n",
       "3   c469672b59d6db89593ea4b25b58b4e1b037d5d9   \n",
       "4   c469672b59d6db89593ea4b25b58b4e1b037d5d9   \n",
       "5   c469672b59d6db89593ea4b25b58b4e1b037d5d9   \n",
       "6   c469672b59d6db89593ea4b25b58b4e1b037d5d9   \n",
       "7   c469672b59d6db89593ea4b25b58b4e1b037d5d9   \n",
       "8   c469672b59d6db89593ea4b25b58b4e1b037d5d9   \n",
       "9   c469672b59d6db89593ea4b25b58b4e1b037d5d9   \n",
       "10  c469672b59d6db89593ea4b25b58b4e1b037d5d9   \n",
       "11  c469672b59d6db89593ea4b25b58b4e1b037d5d9   \n",
       "\n",
       "   diagnostics_Image-original_Dimensionality  \\\n",
       "0                                         3D   \n",
       "1                                         3D   \n",
       "2                                         3D   \n",
       "3                                         3D   \n",
       "4                                         3D   \n",
       "5                                         3D   \n",
       "6                                         3D   \n",
       "7                                         3D   \n",
       "8                                         3D   \n",
       "9                                         3D   \n",
       "10                                        3D   \n",
       "11                                        3D   \n",
       "\n",
       "   diagnostics_Image-original_Spacing  ...  \\\n",
       "0                     (1.0, 1.0, 1.0)  ...   \n",
       "1                     (1.0, 1.0, 1.0)  ...   \n",
       "2                     (1.0, 1.0, 1.0)  ...   \n",
       "3                     (1.0, 1.0, 1.0)  ...   \n",
       "4                     (1.0, 1.0, 1.0)  ...   \n",
       "5                     (1.0, 1.0, 1.0)  ...   \n",
       "6                     (1.0, 1.0, 1.0)  ...   \n",
       "7                     (1.0, 1.0, 1.0)  ...   \n",
       "8                     (1.0, 1.0, 1.0)  ...   \n",
       "9                     (1.0, 1.0, 1.0)  ...   \n",
       "10                    (1.0, 1.0, 1.0)  ...   \n",
       "11                    (1.0, 1.0, 1.0)  ...   \n",
       "\n",
       "   original_gldm_HighGrayLevelEmphasis original_gldm_LargeDependenceEmphasis  \\\n",
       "0                               1003.5                                   1.0   \n",
       "1                                512.2                                   1.6   \n",
       "2                    923.8333333333334                                   2.0   \n",
       "3                   1295.4444444444443                     4.333333333333333   \n",
       "4                              736.125                                  1.75   \n",
       "5                    746.1428571428571                    1.8571428571428572   \n",
       "6                    998.1111111111111                                   1.0   \n",
       "7                    866.4166666666666                                   1.5   \n",
       "8                               1175.0                                   1.6   \n",
       "9                   1137.2222222222222                    1.6666666666666667   \n",
       "10                   677.0526315789474                    1.6842105263157894   \n",
       "11                              1225.0                                   2.2   \n",
       "\n",
       "   original_gldm_LargeDependenceHighGrayLevelEmphasis  \\\n",
       "0                                              1003.5   \n",
       "1                                               560.8   \n",
       "2                                  2079.8333333333335   \n",
       "3                                   8732.777777777777   \n",
       "4                                             736.875   \n",
       "5                                               801.0   \n",
       "6                                   998.1111111111111   \n",
       "7                                   866.9166666666666   \n",
       "8                                              1439.6   \n",
       "9                                   2151.222222222222   \n",
       "10                                  1358.842105263158   \n",
       "11                                             4225.0   \n",
       "\n",
       "   original_gldm_LargeDependenceLowGrayLevelEmphasis  \\\n",
       "0                                0.12931783237110733   \n",
       "1                                0.11755241879597375   \n",
       "2                                0.16884136608891923   \n",
       "3                                0.11662398475678575   \n",
       "4                                  1.001553849251787   \n",
       "5                                0.16127676646493935   \n",
       "6                                0.11350579859100983   \n",
       "7                                 0.6884666714073885   \n",
       "8                                0.10242417900301193   \n",
       "9                                0.11275378719586739   \n",
       "10                                0.0390415192543562   \n",
       "11                               0.20283531250000003   \n",
       "\n",
       "   original_gldm_LowGrayLevelEmphasis original_gldm_SmallDependenceEmphasis  \\\n",
       "0                 0.12931783237110733                                   1.0   \n",
       "1                 0.11014501138856633                                  0.85   \n",
       "2                 0.16797631418580503                                  0.75   \n",
       "3                 0.11498061682137628                     0.537037037037037   \n",
       "4                 0.25155384925178687                                0.8125   \n",
       "5                 0.14788390932208223                    0.7857142857142857   \n",
       "6                 0.11350579859100983                                   1.0   \n",
       "7                 0.18846667140738851                                 0.875   \n",
       "8                 0.10106363478532485                                  0.85   \n",
       "9                 0.11231547906525156                    0.8333333333333334   \n",
       "10                0.03557843086303815                     0.858187134502924   \n",
       "11                       0.2023553125                                   0.7   \n",
       "\n",
       "   original_gldm_SmallDependenceHighGrayLevelEmphasis  \\\n",
       "0                                              1003.5   \n",
       "1                                              500.05   \n",
       "2                                   634.8333333333334   \n",
       "3                                  362.03703703703707   \n",
       "4                                            735.9375   \n",
       "5                                   732.4285714285714   \n",
       "6                                   998.1111111111111   \n",
       "7                                   866.2916666666666   \n",
       "8                                             1108.85   \n",
       "9                                   883.7222222222222   \n",
       "10                                  558.1842105263158   \n",
       "11                                              475.0   \n",
       "\n",
       "   original_gldm_SmallDependenceLowGrayLevelEmphasis  \\\n",
       "0                                0.12931783237110733   \n",
       "1                                0.10829315953671448   \n",
       "2                                 0.1677600512100265   \n",
       "3                                0.11471792298567207   \n",
       "4                                 0.0640538492517869   \n",
       "5                                0.14453569503636793   \n",
       "6                                0.11350579859100983   \n",
       "7                                 0.0634666714073885   \n",
       "8                                0.10072349873090307   \n",
       "9                                0.11220590203259759   \n",
       "10                                0.0347292345963208   \n",
       "11                                      0.2022353125   \n",
       "\n",
       "                         Patient                   ROI  \n",
       "0    sub-209_masksub-209 lesion1   masksub-209 lesion1  \n",
       "1   sub-209_masksub-209 lesion10  masksub-209 lesion10  \n",
       "2   sub-209_masksub-209 lesion11  masksub-209 lesion11  \n",
       "3   sub-209_masksub-209 lesion12  masksub-209 lesion12  \n",
       "4   sub-209_masksub-209 lesion13  masksub-209 lesion13  \n",
       "5   sub-209_masksub-209 lesion14  masksub-209 lesion14  \n",
       "6   sub-209_masksub-209 lesion15  masksub-209 lesion15  \n",
       "7   sub-209_masksub-209 lesion16  masksub-209 lesion16  \n",
       "8   sub-209_masksub-209 lesion17  masksub-209 lesion17  \n",
       "9   sub-209_masksub-209 lesion18  masksub-209 lesion18  \n",
       "10  sub-209_masksub-209 lesion19  masksub-209 lesion19  \n",
       "11   sub-209_masksub-209 lesion2   masksub-209 lesion2  \n",
       "\n",
       "[12 rows x 124 columns]"
      ]
     },
     "execution_count": 5,
     "metadata": {},
     "output_type": "execute_result"
    }
   ],
   "source": [
    "features.head(12)"
   ]
  },
  {
   "cell_type": "code",
   "execution_count": 4,
   "id": "bbeff04c",
   "metadata": {},
   "outputs": [],
   "source": [
    "writer = pd.ExcelWriter(r'E:\\Internship Mass storage\\First 3 datasets\\VALDO dataset\\extracted_features.xlsx') \n",
    "features.to_excel(writer, 'Sheet1')\n",
    "writer.save()"
   ]
  },
  {
   "cell_type": "code",
   "execution_count": null,
   "id": "838da088",
   "metadata": {},
   "outputs": [],
   "source": []
  }
 ],
 "metadata": {
  "kernelspec": {
   "display_name": "Python 3 (ipykernel)",
   "language": "python",
   "name": "python3"
  },
  "language_info": {
   "codemirror_mode": {
    "name": "ipython",
    "version": 3
   },
   "file_extension": ".py",
   "mimetype": "text/x-python",
   "name": "python",
   "nbconvert_exporter": "python",
   "pygments_lexer": "ipython3",
   "version": "3.9.7"
  }
 },
 "nbformat": 4,
 "nbformat_minor": 5
}
