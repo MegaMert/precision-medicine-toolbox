{
 "cells": [
  {
   "cell_type": "code",
   "execution_count": 1,
   "id": "6cea06c6",
   "metadata": {},
   "outputs": [
    {
     "name": "stdout",
     "output_type": "stream",
     "text": [
      "Dataset.file_meta -------------------------------\n",
      "(0002, 0000) File Meta Information Group Length  UL: 204\n",
      "(0002, 0001) File Meta Information Version       OB: b'\\x00\\x01'\n",
      "(0002, 0002) Media Storage SOP Class UID         UI: MR Image Storage\n",
      "(0002, 0003) Media Storage SOP Instance UID      UI: 1.3.6.1.4.1.14519.5.2.1.162254382453384131622179020950511557028\n",
      "(0002, 0010) Transfer Syntax UID                 UI: Implicit VR Little Endian\n",
      "(0002, 0012) Implementation Class UID            UI: 1.3.6.1.4.1.22213.1.143\n",
      "(0002, 0013) Implementation Version Name         SH: '0.5'\n",
      "(0002, 0016) Source Application Entity Title     AE: 'POSDA'\n",
      "-------------------------------------------------\n",
      "(0008, 0005) Specific Character Set              CS: 'ISO_IR 100'\n",
      "(0008, 0008) Image Type                          CS: ['ORIGINAL', 'PRIMARY', 'M', 'DIS2D']\n",
      "(0008, 0012) Instance Creation Date              DA: '19900101'\n",
      "(0008, 0013) Instance Creation Time              TM: '082012.187000'\n",
      "(0008, 0016) SOP Class UID                       UI: MR Image Storage\n",
      "(0008, 0018) SOP Instance UID                    UI: 1.3.6.1.4.1.14519.5.2.1.162254382453384131622179020950511557028\n",
      "(0008, 0020) Study Date                          DA: '19900101'\n",
      "(0008, 0021) Series Date                         DA: '19900101'\n",
      "(0008, 0022) Acquisition Date                    DA: '19900101'\n",
      "(0008, 0023) Content Date                        DA: '19900101'\n",
      "(0008, 0030) Study Time                          TM: '080801.515000'\n",
      "(0008, 0031) Series Time                         TM: '081937.046000'\n",
      "(0008, 0032) Acquisition Time                    TM: '081732.400000'\n",
      "(0008, 0033) Content Time                        TM: '082012.187000'\n",
      "(0008, 0050) Accession Number                    SH: ''\n",
      "(0008, 0060) Modality                            CS: 'MR'\n",
      "(0008, 0070) Manufacturer                        LO: 'SIEMENS'\n",
      "(0008, 0090) Referring Physician's Name          PN: ''\n",
      "(0008, 1030) Study Description                   LO: 'MRI BREAST BILATERAL W/WO'\n",
      "(0008, 1032)  Procedure Code Sequence  1 item(s) ---- \n",
      "   (0008, 0100) Code Value                          SH: '0085X'\n",
      "   (0008, 0102) Coding Scheme Designator            SH: 'GEIIS'\n",
      "   (0008, 0103) Coding Scheme Version               SH: '0'\n",
      "   (0008, 0104) Code Meaning                        LO: 'MRI BREAST BILATERAL W WO'\n",
      "   ---------\n",
      "(0008, 103e) Series Description                  LO: 'ax dyn pre'\n",
      "(0008, 1090) Manufacturer's Model Name           LO: 'Avanto'\n",
      "(0010, 0010) Patient's Name                      PN: 'Breast_MRI_001'\n",
      "(0010, 0020) Patient ID                          LO: 'Breast_MRI_001'\n",
      "(0010, 0030) Patient's Birth Date                DA: ''\n",
      "(0010, 0040) Patient's Sex                       CS: 'F'\n",
      "(0010, 1010) Patient's Age                       AS: '041Y'\n",
      "(0010, 1020) Patient's Size                      DS: '1.6002032025'\n",
      "(0010, 1030) Patient's Weight                    DS: '90.2648931123'\n",
      "(0010, 21c0) Pregnancy Status                    US: 4\n",
      "(0010, 4000) Patient Comments                    LT: ''\n",
      "(0012, 0062) Patient Identity Removed            CS: 'YES'\n",
      "(0012, 0063) De-identification Method            LO: 'DICOMANON (rev R2010a) - PS 3.15-2008 Table E.1-1 - nondefault'\n",
      "(0013, 0010) Private Creator                     LO: 'CTP'\n",
      "(0013, 1010) Private tag data                    UN: Array of 22 elements\n",
      "(0013, 1013) Private tag data                    UN: b'88622928'\n",
      "(0018, 0015) Body Part Examined                  CS: 'BREAST'\n",
      "(0018, 0020) Scanning Sequence                   CS: 'GR'\n",
      "(0018, 0021) Sequence Variant                    CS: ['SP', 'OSP']\n",
      "(0018, 0022) Scan Options                        CS: ['PFP', 'FS']\n",
      "(0018, 0023) MR Acquisition Type                 CS: '3D'\n",
      "(0018, 0025) Angio Flag                          CS: 'Y'\n",
      "(0018, 0050) Slice Thickness                     DS: '1.1000000238419'\n",
      "(0018, 0080) Repetition Time                     DS: '4.12'\n",
      "(0018, 0081) Echo Time                           DS: '1.36'\n",
      "(0018, 0083) Number of Averages                  DS: '1.0'\n",
      "(0018, 0084) Imaging Frequency                   DS: '63.67661'\n",
      "(0018, 0085) Imaged Nucleus                      SH: '1H'\n",
      "(0018, 0086) Echo Number(s)                      IS: '1'\n",
      "(0018, 0087) Magnetic Field Strength             DS: '1.5'\n",
      "(0018, 0089) Number of Phase Encoding Steps      IS: '409'\n",
      "(0018, 0091) Echo Train Length                   IS: '1'\n",
      "(0018, 0093) Percent Sampling                    DS: '100.0'\n",
      "(0018, 0094) Percent Phase Field of View         DS: '100.0'\n",
      "(0018, 0095) Pixel Bandwidth                     DS: '320.0'\n",
      "(0018, 1000) Device Serial Number                LO: ''\n",
      "(0018, 1020) Software Versions                   LO: 'syngo MR B13 4VB13A'\n",
      "(0018, 1030) Protocol Name                       LO: ''\n",
      "(0018, 1200) Date of Last Calibration            DA: '19900101'\n",
      "(0018, 1251) Transmit Coil Name                  SH: 'Body'\n",
      "(0018, 1310) Acquisition Matrix                  US: [0, 448, 448, 0]\n",
      "(0018, 1312) In-plane Phase Encoding Direction   CS: 'ROW'\n",
      "(0018, 1314) Flip Angle                          DS: '12.0'\n",
      "(0018, 1315) Variable Flip Angle Flag            CS: 'N'\n",
      "(0018, 1316) SAR                                 DS: '0.3067459848455'\n",
      "(0018, 1318) dB/dt                               DS: '0.0'\n",
      "(0018, 5100) Patient Position                    CS: 'FFP'\n",
      "(0020, 000d) Study Instance UID                  UI: 1.3.6.1.4.1.14519.5.2.1.186051521067863971269584893740842397538\n",
      "(0020, 000e) Series Instance UID                 UI: 1.3.6.1.4.1.14519.5.2.1.185777849803665244536713316058283493877\n",
      "(0020, 0010) Study ID                            SH: ''\n",
      "(0020, 0011) Series Number                       IS: '3'\n",
      "(0020, 0012) Acquisition Number                  IS: '1'\n",
      "(0020, 0013) Instance Number                     IS: '1'\n",
      "(0020, 0032) Image Position (Patient)            DS: [-191.80030483817, -176.12590213898, 86.606538507263]\n",
      "(0020, 0037) Image Orientation (Patient)         DS: [0.9993283937409, -2.051034E-10, 0.036643709737, 2.049657E-10, 1, 7.5158E-12]\n",
      "(0020, 0052) Frame of Reference UID              UI: 1.3.6.1.4.1.14519.5.2.1.45736569925431297170708374639092465328\n",
      "(0020, 1040) Position Reference Indicator        LO: ''\n",
      "(0020, 1041) Slice Location                      DS: '93.576647711884'\n",
      "(0028, 0002) Samples per Pixel                   US: 1\n",
      "(0028, 0004) Photometric Interpretation          CS: 'MONOCHROME2'\n",
      "(0028, 0010) Rows                                US: 448\n",
      "(0028, 0011) Columns                             US: 448\n",
      "(0028, 0030) Pixel Spacing                       DS: [0.80357140302658, 0.80357140302658]\n",
      "(0028, 0100) Bits Allocated                      US: 16\n",
      "(0028, 0101) Bits Stored                         US: 12\n",
      "(0028, 0102) High Bit                            US: 11\n",
      "(0028, 0103) Pixel Representation                US: 0\n",
      "(0028, 0106) Smallest Image Pixel Value          US: 0\n",
      "(0028, 0107) Largest Image Pixel Value           US: 129\n",
      "(0028, 1050) Window Center                       DS: '53.0'\n",
      "(0028, 1051) Window Width                        DS: '145.0'\n",
      "(0032, 1060) Requested Procedure Description     LO: 'MRI BREAST BILATERAL W + W/O'\n",
      "(0040, 0254) Performed Procedure Step Descriptio LO: 'MRI BREAST BILATERAL W + W/O'\n",
      "(0040, 2017) Filler Order Number / Imaging Servi LO: ''\n",
      "(0088, 0140) Storage Media File-set UID          UI: 1.3.6.1.4.1.14519.5.2.1.281949768489412648962353822266799178366\n",
      "(7fe0, 0010) Pixel Data                          OW: Array of 401408 elements\n"
     ]
    }
   ],
   "source": [
    "from pydicom import dcmread\n",
    "ds = dcmread(r\"E:\\Internship Mass storage\\First 3 datasets\\Duke_breast_MRI dataset\\Duke-Breast-Cancer-MRI\\Breast_MRI_001\\01-01-1990-NA-MRI BREAST BILATERAL WWO-97538\\3.000000-ax dyn pre-93877\\1-001.dcm\")\n",
    "print(ds)"
   ]
  },
  {
   "cell_type": "code",
   "execution_count": 2,
   "id": "6d80d143",
   "metadata": {},
   "outputs": [
    {
     "data": {
      "text/plain": [
       "'ImagePositionPatient'"
      ]
     },
     "execution_count": 2,
     "metadata": {},
     "output_type": "execute_result"
    }
   ],
   "source": [
    "elem = ds[0x0020, 0x0032]\n",
    "elem.keyword"
   ]
  },
  {
   "cell_type": "code",
   "execution_count": 3,
   "id": "ac0ea7d9",
   "metadata": {},
   "outputs": [
    {
     "name": "stdout",
     "output_type": "stream",
     "text": [
      "86.606538507263\n"
     ]
    }
   ],
   "source": [
    "test = ds.ImagePositionPatient[2]\n",
    "print(test)"
   ]
  },
  {
   "cell_type": "code",
   "execution_count": 6,
   "id": "666e6549",
   "metadata": {},
   "outputs": [
    {
     "name": "stdout",
     "output_type": "stream",
     "text": [
      "['1-001.dcm', '1-002.dcm', '1-003.dcm', '1-004.dcm', '1-005.dcm', '1-006.dcm', '1-007.dcm', '1-008.dcm', '1-009.dcm', '1-010.dcm', '1-011.dcm', '1-012.dcm', '1-013.dcm', '1-014.dcm', '1-015.dcm', '1-016.dcm', '1-017.dcm', '1-018.dcm', '1-019.dcm', '1-020.dcm', '1-021.dcm', '1-022.dcm', '1-023.dcm', '1-024.dcm', '1-025.dcm', '1-026.dcm', '1-027.dcm', '1-028.dcm', '1-029.dcm', '1-030.dcm', '1-031.dcm', '1-032.dcm', '1-033.dcm', '1-034.dcm', '1-035.dcm', '1-036.dcm', '1-037.dcm', '1-038.dcm', '1-039.dcm', '1-040.dcm', '1-041.dcm', '1-042.dcm', '1-043.dcm', '1-044.dcm', '1-045.dcm', '1-046.dcm', '1-047.dcm', '1-048.dcm', '1-049.dcm', '1-050.dcm', '1-051.dcm', '1-052.dcm', '1-053.dcm', '1-054.dcm', '1-055.dcm', '1-056.dcm', '1-057.dcm', '1-058.dcm', '1-059.dcm', '1-060.dcm', '1-061.dcm', '1-062.dcm', '1-063.dcm', '1-064.dcm', '1-065.dcm', '1-066.dcm', '1-067.dcm', '1-068.dcm', '1-069.dcm', '1-070.dcm', '1-071.dcm', '1-072.dcm', '1-073.dcm', '1-074.dcm', '1-075.dcm', '1-076.dcm', '1-077.dcm', '1-078.dcm', '1-079.dcm', '1-080.dcm', '1-081.dcm', '1-082.dcm', '1-083.dcm', '1-084.dcm', '1-085.dcm', '1-086.dcm', '1-087.dcm', '1-088.dcm', '1-089.dcm', '1-090.dcm', '1-091.dcm', '1-092.dcm', '1-093.dcm', '1-094.dcm', '1-095.dcm', '1-096.dcm', '1-097.dcm', '1-098.dcm', '1-099.dcm', '1-100.dcm', '1-101.dcm', '1-102.dcm', '1-103.dcm', '1-104.dcm', '1-105.dcm', '1-106.dcm', '1-107.dcm', '1-108.dcm', '1-109.dcm', '1-110.dcm', '1-111.dcm', '1-112.dcm', '1-113.dcm', '1-114.dcm', '1-115.dcm', '1-116.dcm', '1-117.dcm', '1-118.dcm', '1-119.dcm', '1-120.dcm', '1-121.dcm', '1-122.dcm', '1-123.dcm', '1-124.dcm', '1-125.dcm', '1-126.dcm', '1-127.dcm', '1-128.dcm', '1-129.dcm', '1-130.dcm', '1-131.dcm', '1-132.dcm', '1-133.dcm', '1-134.dcm', '1-135.dcm', '1-136.dcm', '1-137.dcm', '1-138.dcm', '1-139.dcm', '1-140.dcm', '1-141.dcm', '1-142.dcm', '1-143.dcm', '1-144.dcm', '1-145.dcm', '1-146.dcm', '1-147.dcm', '1-148.dcm', '1-149.dcm', '1-150.dcm', '1-151.dcm', '1-152.dcm', '1-153.dcm', '1-154.dcm', '1-155.dcm', '1-156.dcm', '1-157.dcm', '1-158.dcm', '1-159.dcm', '1-160.dcm']\n"
     ]
    }
   ],
   "source": [
    "from os import listdir\n",
    "from os.path import isfile, join\n",
    "mypath = r\"E:\\Internship Mass storage\\First 3 datasets\\Duke_breast_MRI dataset\\Duke-Breast-Cancer-MRI\\Breast_MRI_001\\01-01-1990-NA-MRI BREAST BILATERAL WWO-97538\\5.000000-ax dyn 1st pass-59529\"\n",
    "onlyfiles = [f for f in listdir(mypath) if isfile(join(mypath, f))]\n",
    "print(onlyfiles)"
   ]
  },
  {
   "cell_type": "code",
   "execution_count": 40,
   "id": "0be50a2c",
   "metadata": {},
   "outputs": [
    {
     "name": "stdout",
     "output_type": "stream",
     "text": [
      "{}\n",
      "{'E:\\\\Internship Mass storage\\\\First 3 datasets\\\\Duke_breast_MRI dataset\\\\Duke-Breast-Cancer-MRI\\\\Breast_MRI_001\\\\01-01-1990-NA-MRI BREAST BILATERAL WWO-97538\\\\5.000000-ax dyn 1st pass-59529/1-001.dcm': '86.606538507263', 'E:\\\\Internship Mass storage\\\\First 3 datasets\\\\Duke_breast_MRI dataset\\\\Duke-Breast-Cancer-MRI\\\\Breast_MRI_001\\\\01-01-1990-NA-MRI BREAST BILATERAL WWO-97538\\\\5.000000-ax dyn 1st pass-59529/1-002.dcm': '85.507277274148', 'E:\\\\Internship Mass storage\\\\First 3 datasets\\\\Duke_breast_MRI dataset\\\\Duke-Breast-Cancer-MRI\\\\Breast_MRI_001\\\\01-01-1990-NA-MRI BREAST BILATERAL WWO-97538\\\\5.000000-ax dyn 1st pass-59529/1-003.dcm': '84.408016041033', 'E:\\\\Internship Mass storage\\\\First 3 datasets\\\\Duke_breast_MRI dataset\\\\Duke-Breast-Cancer-MRI\\\\Breast_MRI_001\\\\01-01-1990-NA-MRI BREAST BILATERAL WWO-97538\\\\5.000000-ax dyn 1st pass-59529/1-004.dcm': '83.308754807918', 'E:\\\\Internship Mass storage\\\\First 3 datasets\\\\Duke_breast_MRI dataset\\\\Duke-Breast-Cancer-MRI\\\\Breast_MRI_001\\\\01-01-1990-NA-MRI BREAST BILATERAL WWO-97538\\\\5.000000-ax dyn 1st pass-59529/1-005.dcm': '82.209493574803', 'E:\\\\Internship Mass storage\\\\First 3 datasets\\\\Duke_breast_MRI dataset\\\\Duke-Breast-Cancer-MRI\\\\Breast_MRI_001\\\\01-01-1990-NA-MRI BREAST BILATERAL WWO-97538\\\\5.000000-ax dyn 1st pass-59529/1-006.dcm': '81.110232341688', 'E:\\\\Internship Mass storage\\\\First 3 datasets\\\\Duke_breast_MRI dataset\\\\Duke-Breast-Cancer-MRI\\\\Breast_MRI_001\\\\01-01-1990-NA-MRI BREAST BILATERAL WWO-97538\\\\5.000000-ax dyn 1st pass-59529/1-007.dcm': '80.010971108573', 'E:\\\\Internship Mass storage\\\\First 3 datasets\\\\Duke_breast_MRI dataset\\\\Duke-Breast-Cancer-MRI\\\\Breast_MRI_001\\\\01-01-1990-NA-MRI BREAST BILATERAL WWO-97538\\\\5.000000-ax dyn 1st pass-59529/1-008.dcm': '78.911709875458', 'E:\\\\Internship Mass storage\\\\First 3 datasets\\\\Duke_breast_MRI dataset\\\\Duke-Breast-Cancer-MRI\\\\Breast_MRI_001\\\\01-01-1990-NA-MRI BREAST BILATERAL WWO-97538\\\\5.000000-ax dyn 1st pass-59529/1-009.dcm': '77.812448642343', 'E:\\\\Internship Mass storage\\\\First 3 datasets\\\\Duke_breast_MRI dataset\\\\Duke-Breast-Cancer-MRI\\\\Breast_MRI_001\\\\01-01-1990-NA-MRI BREAST BILATERAL WWO-97538\\\\5.000000-ax dyn 1st pass-59529/1-010.dcm': '76.713187409228', 'E:\\\\Internship Mass storage\\\\First 3 datasets\\\\Duke_breast_MRI dataset\\\\Duke-Breast-Cancer-MRI\\\\Breast_MRI_001\\\\01-01-1990-NA-MRI BREAST BILATERAL WWO-97538\\\\5.000000-ax dyn 1st pass-59529/1-011.dcm': '75.613926176113', 'E:\\\\Internship Mass storage\\\\First 3 datasets\\\\Duke_breast_MRI dataset\\\\Duke-Breast-Cancer-MRI\\\\Breast_MRI_001\\\\01-01-1990-NA-MRI BREAST BILATERAL WWO-97538\\\\5.000000-ax dyn 1st pass-59529/1-012.dcm': '74.514664942998', 'E:\\\\Internship Mass storage\\\\First 3 datasets\\\\Duke_breast_MRI dataset\\\\Duke-Breast-Cancer-MRI\\\\Breast_MRI_001\\\\01-01-1990-NA-MRI BREAST BILATERAL WWO-97538\\\\5.000000-ax dyn 1st pass-59529/1-013.dcm': '73.415403709883', 'E:\\\\Internship Mass storage\\\\First 3 datasets\\\\Duke_breast_MRI dataset\\\\Duke-Breast-Cancer-MRI\\\\Breast_MRI_001\\\\01-01-1990-NA-MRI BREAST BILATERAL WWO-97538\\\\5.000000-ax dyn 1st pass-59529/1-014.dcm': '72.316142476768', 'E:\\\\Internship Mass storage\\\\First 3 datasets\\\\Duke_breast_MRI dataset\\\\Duke-Breast-Cancer-MRI\\\\Breast_MRI_001\\\\01-01-1990-NA-MRI BREAST BILATERAL WWO-97538\\\\5.000000-ax dyn 1st pass-59529/1-015.dcm': '71.216881243653', 'E:\\\\Internship Mass storage\\\\First 3 datasets\\\\Duke_breast_MRI dataset\\\\Duke-Breast-Cancer-MRI\\\\Breast_MRI_001\\\\01-01-1990-NA-MRI BREAST BILATERAL WWO-97538\\\\5.000000-ax dyn 1st pass-59529/1-016.dcm': '70.117620010538', 'E:\\\\Internship Mass storage\\\\First 3 datasets\\\\Duke_breast_MRI dataset\\\\Duke-Breast-Cancer-MRI\\\\Breast_MRI_001\\\\01-01-1990-NA-MRI BREAST BILATERAL WWO-97538\\\\5.000000-ax dyn 1st pass-59529/1-017.dcm': '69.018358777423', 'E:\\\\Internship Mass storage\\\\First 3 datasets\\\\Duke_breast_MRI dataset\\\\Duke-Breast-Cancer-MRI\\\\Breast_MRI_001\\\\01-01-1990-NA-MRI BREAST BILATERAL WWO-97538\\\\5.000000-ax dyn 1st pass-59529/1-018.dcm': '67.919097544308', 'E:\\\\Internship Mass storage\\\\First 3 datasets\\\\Duke_breast_MRI dataset\\\\Duke-Breast-Cancer-MRI\\\\Breast_MRI_001\\\\01-01-1990-NA-MRI BREAST BILATERAL WWO-97538\\\\5.000000-ax dyn 1st pass-59529/1-019.dcm': '66.819836311193', 'E:\\\\Internship Mass storage\\\\First 3 datasets\\\\Duke_breast_MRI dataset\\\\Duke-Breast-Cancer-MRI\\\\Breast_MRI_001\\\\01-01-1990-NA-MRI BREAST BILATERAL WWO-97538\\\\5.000000-ax dyn 1st pass-59529/1-020.dcm': '65.720575078078', 'E:\\\\Internship Mass storage\\\\First 3 datasets\\\\Duke_breast_MRI dataset\\\\Duke-Breast-Cancer-MRI\\\\Breast_MRI_001\\\\01-01-1990-NA-MRI BREAST BILATERAL WWO-97538\\\\5.000000-ax dyn 1st pass-59529/1-021.dcm': '64.621313844963', 'E:\\\\Internship Mass storage\\\\First 3 datasets\\\\Duke_breast_MRI dataset\\\\Duke-Breast-Cancer-MRI\\\\Breast_MRI_001\\\\01-01-1990-NA-MRI BREAST BILATERAL WWO-97538\\\\5.000000-ax dyn 1st pass-59529/1-022.dcm': '63.522052611848', 'E:\\\\Internship Mass storage\\\\First 3 datasets\\\\Duke_breast_MRI dataset\\\\Duke-Breast-Cancer-MRI\\\\Breast_MRI_001\\\\01-01-1990-NA-MRI BREAST BILATERAL WWO-97538\\\\5.000000-ax dyn 1st pass-59529/1-023.dcm': '62.422791378733', 'E:\\\\Internship Mass storage\\\\First 3 datasets\\\\Duke_breast_MRI dataset\\\\Duke-Breast-Cancer-MRI\\\\Breast_MRI_001\\\\01-01-1990-NA-MRI BREAST BILATERAL WWO-97538\\\\5.000000-ax dyn 1st pass-59529/1-024.dcm': '61.323530145618', 'E:\\\\Internship Mass storage\\\\First 3 datasets\\\\Duke_breast_MRI dataset\\\\Duke-Breast-Cancer-MRI\\\\Breast_MRI_001\\\\01-01-1990-NA-MRI BREAST BILATERAL WWO-97538\\\\5.000000-ax dyn 1st pass-59529/1-025.dcm': '60.224268912504', 'E:\\\\Internship Mass storage\\\\First 3 datasets\\\\Duke_breast_MRI dataset\\\\Duke-Breast-Cancer-MRI\\\\Breast_MRI_001\\\\01-01-1990-NA-MRI BREAST BILATERAL WWO-97538\\\\5.000000-ax dyn 1st pass-59529/1-026.dcm': '59.125007679389', 'E:\\\\Internship Mass storage\\\\First 3 datasets\\\\Duke_breast_MRI dataset\\\\Duke-Breast-Cancer-MRI\\\\Breast_MRI_001\\\\01-01-1990-NA-MRI BREAST BILATERAL WWO-97538\\\\5.000000-ax dyn 1st pass-59529/1-027.dcm': '58.025746446274', 'E:\\\\Internship Mass storage\\\\First 3 datasets\\\\Duke_breast_MRI dataset\\\\Duke-Breast-Cancer-MRI\\\\Breast_MRI_001\\\\01-01-1990-NA-MRI BREAST BILATERAL WWO-97538\\\\5.000000-ax dyn 1st pass-59529/1-028.dcm': '56.926485213159', 'E:\\\\Internship Mass storage\\\\First 3 datasets\\\\Duke_breast_MRI dataset\\\\Duke-Breast-Cancer-MRI\\\\Breast_MRI_001\\\\01-01-1990-NA-MRI BREAST BILATERAL WWO-97538\\\\5.000000-ax dyn 1st pass-59529/1-029.dcm': '55.827223980044', 'E:\\\\Internship Mass storage\\\\First 3 datasets\\\\Duke_breast_MRI dataset\\\\Duke-Breast-Cancer-MRI\\\\Breast_MRI_001\\\\01-01-1990-NA-MRI BREAST BILATERAL WWO-97538\\\\5.000000-ax dyn 1st pass-59529/1-030.dcm': '54.727962746929', 'E:\\\\Internship Mass storage\\\\First 3 datasets\\\\Duke_breast_MRI dataset\\\\Duke-Breast-Cancer-MRI\\\\Breast_MRI_001\\\\01-01-1990-NA-MRI BREAST BILATERAL WWO-97538\\\\5.000000-ax dyn 1st pass-59529/1-031.dcm': '53.628701513814', 'E:\\\\Internship Mass storage\\\\First 3 datasets\\\\Duke_breast_MRI dataset\\\\Duke-Breast-Cancer-MRI\\\\Breast_MRI_001\\\\01-01-1990-NA-MRI BREAST BILATERAL WWO-97538\\\\5.000000-ax dyn 1st pass-59529/1-032.dcm': '52.529440280699', 'E:\\\\Internship Mass storage\\\\First 3 datasets\\\\Duke_breast_MRI dataset\\\\Duke-Breast-Cancer-MRI\\\\Breast_MRI_001\\\\01-01-1990-NA-MRI BREAST BILATERAL WWO-97538\\\\5.000000-ax dyn 1st pass-59529/1-033.dcm': '51.430179047584', 'E:\\\\Internship Mass storage\\\\First 3 datasets\\\\Duke_breast_MRI dataset\\\\Duke-Breast-Cancer-MRI\\\\Breast_MRI_001\\\\01-01-1990-NA-MRI BREAST BILATERAL WWO-97538\\\\5.000000-ax dyn 1st pass-59529/1-034.dcm': '50.330917814469', 'E:\\\\Internship Mass storage\\\\First 3 datasets\\\\Duke_breast_MRI dataset\\\\Duke-Breast-Cancer-MRI\\\\Breast_MRI_001\\\\01-01-1990-NA-MRI BREAST BILATERAL WWO-97538\\\\5.000000-ax dyn 1st pass-59529/1-035.dcm': '49.231656581354', 'E:\\\\Internship Mass storage\\\\First 3 datasets\\\\Duke_breast_MRI dataset\\\\Duke-Breast-Cancer-MRI\\\\Breast_MRI_001\\\\01-01-1990-NA-MRI BREAST BILATERAL WWO-97538\\\\5.000000-ax dyn 1st pass-59529/1-036.dcm': '48.132395348239', 'E:\\\\Internship Mass storage\\\\First 3 datasets\\\\Duke_breast_MRI dataset\\\\Duke-Breast-Cancer-MRI\\\\Breast_MRI_001\\\\01-01-1990-NA-MRI BREAST BILATERAL WWO-97538\\\\5.000000-ax dyn 1st pass-59529/1-037.dcm': '47.033134115124', 'E:\\\\Internship Mass storage\\\\First 3 datasets\\\\Duke_breast_MRI dataset\\\\Duke-Breast-Cancer-MRI\\\\Breast_MRI_001\\\\01-01-1990-NA-MRI BREAST BILATERAL WWO-97538\\\\5.000000-ax dyn 1st pass-59529/1-038.dcm': '45.933872882009', 'E:\\\\Internship Mass storage\\\\First 3 datasets\\\\Duke_breast_MRI dataset\\\\Duke-Breast-Cancer-MRI\\\\Breast_MRI_001\\\\01-01-1990-NA-MRI BREAST BILATERAL WWO-97538\\\\5.000000-ax dyn 1st pass-59529/1-039.dcm': '44.834611648894', 'E:\\\\Internship Mass storage\\\\First 3 datasets\\\\Duke_breast_MRI dataset\\\\Duke-Breast-Cancer-MRI\\\\Breast_MRI_001\\\\01-01-1990-NA-MRI BREAST BILATERAL WWO-97538\\\\5.000000-ax dyn 1st pass-59529/1-040.dcm': '43.735350415779', 'E:\\\\Internship Mass storage\\\\First 3 datasets\\\\Duke_breast_MRI dataset\\\\Duke-Breast-Cancer-MRI\\\\Breast_MRI_001\\\\01-01-1990-NA-MRI BREAST BILATERAL WWO-97538\\\\5.000000-ax dyn 1st pass-59529/1-041.dcm': '42.636089182664', 'E:\\\\Internship Mass storage\\\\First 3 datasets\\\\Duke_breast_MRI dataset\\\\Duke-Breast-Cancer-MRI\\\\Breast_MRI_001\\\\01-01-1990-NA-MRI BREAST BILATERAL WWO-97538\\\\5.000000-ax dyn 1st pass-59529/1-042.dcm': '41.536827949549', 'E:\\\\Internship Mass storage\\\\First 3 datasets\\\\Duke_breast_MRI dataset\\\\Duke-Breast-Cancer-MRI\\\\Breast_MRI_001\\\\01-01-1990-NA-MRI BREAST BILATERAL WWO-97538\\\\5.000000-ax dyn 1st pass-59529/1-043.dcm': '40.437566716434', 'E:\\\\Internship Mass storage\\\\First 3 datasets\\\\Duke_breast_MRI dataset\\\\Duke-Breast-Cancer-MRI\\\\Breast_MRI_001\\\\01-01-1990-NA-MRI BREAST BILATERAL WWO-97538\\\\5.000000-ax dyn 1st pass-59529/1-044.dcm': '39.338305483319', 'E:\\\\Internship Mass storage\\\\First 3 datasets\\\\Duke_breast_MRI dataset\\\\Duke-Breast-Cancer-MRI\\\\Breast_MRI_001\\\\01-01-1990-NA-MRI BREAST BILATERAL WWO-97538\\\\5.000000-ax dyn 1st pass-59529/1-045.dcm': '38.239044250204', 'E:\\\\Internship Mass storage\\\\First 3 datasets\\\\Duke_breast_MRI dataset\\\\Duke-Breast-Cancer-MRI\\\\Breast_MRI_001\\\\01-01-1990-NA-MRI BREAST BILATERAL WWO-97538\\\\5.000000-ax dyn 1st pass-59529/1-046.dcm': '37.139783017089', 'E:\\\\Internship Mass storage\\\\First 3 datasets\\\\Duke_breast_MRI dataset\\\\Duke-Breast-Cancer-MRI\\\\Breast_MRI_001\\\\01-01-1990-NA-MRI BREAST BILATERAL WWO-97538\\\\5.000000-ax dyn 1st pass-59529/1-047.dcm': '36.040521783974', 'E:\\\\Internship Mass storage\\\\First 3 datasets\\\\Duke_breast_MRI dataset\\\\Duke-Breast-Cancer-MRI\\\\Breast_MRI_001\\\\01-01-1990-NA-MRI BREAST BILATERAL WWO-97538\\\\5.000000-ax dyn 1st pass-59529/1-048.dcm': '34.94126055086', 'E:\\\\Internship Mass storage\\\\First 3 datasets\\\\Duke_breast_MRI dataset\\\\Duke-Breast-Cancer-MRI\\\\Breast_MRI_001\\\\01-01-1990-NA-MRI BREAST BILATERAL WWO-97538\\\\5.000000-ax dyn 1st pass-59529/1-049.dcm': '33.841999317745', 'E:\\\\Internship Mass storage\\\\First 3 datasets\\\\Duke_breast_MRI dataset\\\\Duke-Breast-Cancer-MRI\\\\Breast_MRI_001\\\\01-01-1990-NA-MRI BREAST BILATERAL WWO-97538\\\\5.000000-ax dyn 1st pass-59529/1-050.dcm': '32.74273808463', 'E:\\\\Internship Mass storage\\\\First 3 datasets\\\\Duke_breast_MRI dataset\\\\Duke-Breast-Cancer-MRI\\\\Breast_MRI_001\\\\01-01-1990-NA-MRI BREAST BILATERAL WWO-97538\\\\5.000000-ax dyn 1st pass-59529/1-051.dcm': '31.643476851515', 'E:\\\\Internship Mass storage\\\\First 3 datasets\\\\Duke_breast_MRI dataset\\\\Duke-Breast-Cancer-MRI\\\\Breast_MRI_001\\\\01-01-1990-NA-MRI BREAST BILATERAL WWO-97538\\\\5.000000-ax dyn 1st pass-59529/1-052.dcm': '30.5442156184', 'E:\\\\Internship Mass storage\\\\First 3 datasets\\\\Duke_breast_MRI dataset\\\\Duke-Breast-Cancer-MRI\\\\Breast_MRI_001\\\\01-01-1990-NA-MRI BREAST BILATERAL WWO-97538\\\\5.000000-ax dyn 1st pass-59529/1-053.dcm': '29.444954385285', 'E:\\\\Internship Mass storage\\\\First 3 datasets\\\\Duke_breast_MRI dataset\\\\Duke-Breast-Cancer-MRI\\\\Breast_MRI_001\\\\01-01-1990-NA-MRI BREAST BILATERAL WWO-97538\\\\5.000000-ax dyn 1st pass-59529/1-054.dcm': '28.34569315217', 'E:\\\\Internship Mass storage\\\\First 3 datasets\\\\Duke_breast_MRI dataset\\\\Duke-Breast-Cancer-MRI\\\\Breast_MRI_001\\\\01-01-1990-NA-MRI BREAST BILATERAL WWO-97538\\\\5.000000-ax dyn 1st pass-59529/1-055.dcm': '27.246431919055', 'E:\\\\Internship Mass storage\\\\First 3 datasets\\\\Duke_breast_MRI dataset\\\\Duke-Breast-Cancer-MRI\\\\Breast_MRI_001\\\\01-01-1990-NA-MRI BREAST BILATERAL WWO-97538\\\\5.000000-ax dyn 1st pass-59529/1-056.dcm': '26.14717068594', 'E:\\\\Internship Mass storage\\\\First 3 datasets\\\\Duke_breast_MRI dataset\\\\Duke-Breast-Cancer-MRI\\\\Breast_MRI_001\\\\01-01-1990-NA-MRI BREAST BILATERAL WWO-97538\\\\5.000000-ax dyn 1st pass-59529/1-057.dcm': '25.047909452825', 'E:\\\\Internship Mass storage\\\\First 3 datasets\\\\Duke_breast_MRI dataset\\\\Duke-Breast-Cancer-MRI\\\\Breast_MRI_001\\\\01-01-1990-NA-MRI BREAST BILATERAL WWO-97538\\\\5.000000-ax dyn 1st pass-59529/1-058.dcm': '23.94864821971', 'E:\\\\Internship Mass storage\\\\First 3 datasets\\\\Duke_breast_MRI dataset\\\\Duke-Breast-Cancer-MRI\\\\Breast_MRI_001\\\\01-01-1990-NA-MRI BREAST BILATERAL WWO-97538\\\\5.000000-ax dyn 1st pass-59529/1-059.dcm': '22.849386986595', 'E:\\\\Internship Mass storage\\\\First 3 datasets\\\\Duke_breast_MRI dataset\\\\Duke-Breast-Cancer-MRI\\\\Breast_MRI_001\\\\01-01-1990-NA-MRI BREAST BILATERAL WWO-97538\\\\5.000000-ax dyn 1st pass-59529/1-060.dcm': '21.75012575348', 'E:\\\\Internship Mass storage\\\\First 3 datasets\\\\Duke_breast_MRI dataset\\\\Duke-Breast-Cancer-MRI\\\\Breast_MRI_001\\\\01-01-1990-NA-MRI BREAST BILATERAL WWO-97538\\\\5.000000-ax dyn 1st pass-59529/1-061.dcm': '20.650864520365', 'E:\\\\Internship Mass storage\\\\First 3 datasets\\\\Duke_breast_MRI dataset\\\\Duke-Breast-Cancer-MRI\\\\Breast_MRI_001\\\\01-01-1990-NA-MRI BREAST BILATERAL WWO-97538\\\\5.000000-ax dyn 1st pass-59529/1-062.dcm': '19.55160328725', 'E:\\\\Internship Mass storage\\\\First 3 datasets\\\\Duke_breast_MRI dataset\\\\Duke-Breast-Cancer-MRI\\\\Breast_MRI_001\\\\01-01-1990-NA-MRI BREAST BILATERAL WWO-97538\\\\5.000000-ax dyn 1st pass-59529/1-063.dcm': '18.452342054135', 'E:\\\\Internship Mass storage\\\\First 3 datasets\\\\Duke_breast_MRI dataset\\\\Duke-Breast-Cancer-MRI\\\\Breast_MRI_001\\\\01-01-1990-NA-MRI BREAST BILATERAL WWO-97538\\\\5.000000-ax dyn 1st pass-59529/1-064.dcm': '17.35308082102', 'E:\\\\Internship Mass storage\\\\First 3 datasets\\\\Duke_breast_MRI dataset\\\\Duke-Breast-Cancer-MRI\\\\Breast_MRI_001\\\\01-01-1990-NA-MRI BREAST BILATERAL WWO-97538\\\\5.000000-ax dyn 1st pass-59529/1-065.dcm': '16.253819587905', 'E:\\\\Internship Mass storage\\\\First 3 datasets\\\\Duke_breast_MRI dataset\\\\Duke-Breast-Cancer-MRI\\\\Breast_MRI_001\\\\01-01-1990-NA-MRI BREAST BILATERAL WWO-97538\\\\5.000000-ax dyn 1st pass-59529/1-066.dcm': '15.15455835479', 'E:\\\\Internship Mass storage\\\\First 3 datasets\\\\Duke_breast_MRI dataset\\\\Duke-Breast-Cancer-MRI\\\\Breast_MRI_001\\\\01-01-1990-NA-MRI BREAST BILATERAL WWO-97538\\\\5.000000-ax dyn 1st pass-59529/1-067.dcm': '14.055297121675', 'E:\\\\Internship Mass storage\\\\First 3 datasets\\\\Duke_breast_MRI dataset\\\\Duke-Breast-Cancer-MRI\\\\Breast_MRI_001\\\\01-01-1990-NA-MRI BREAST BILATERAL WWO-97538\\\\5.000000-ax dyn 1st pass-59529/1-068.dcm': '12.95603588856', 'E:\\\\Internship Mass storage\\\\First 3 datasets\\\\Duke_breast_MRI dataset\\\\Duke-Breast-Cancer-MRI\\\\Breast_MRI_001\\\\01-01-1990-NA-MRI BREAST BILATERAL WWO-97538\\\\5.000000-ax dyn 1st pass-59529/1-069.dcm': '11.856774655445', 'E:\\\\Internship Mass storage\\\\First 3 datasets\\\\Duke_breast_MRI dataset\\\\Duke-Breast-Cancer-MRI\\\\Breast_MRI_001\\\\01-01-1990-NA-MRI BREAST BILATERAL WWO-97538\\\\5.000000-ax dyn 1st pass-59529/1-070.dcm': '10.75751342233', 'E:\\\\Internship Mass storage\\\\First 3 datasets\\\\Duke_breast_MRI dataset\\\\Duke-Breast-Cancer-MRI\\\\Breast_MRI_001\\\\01-01-1990-NA-MRI BREAST BILATERAL WWO-97538\\\\5.000000-ax dyn 1st pass-59529/1-071.dcm': '9.6582521892155', 'E:\\\\Internship Mass storage\\\\First 3 datasets\\\\Duke_breast_MRI dataset\\\\Duke-Breast-Cancer-MRI\\\\Breast_MRI_001\\\\01-01-1990-NA-MRI BREAST BILATERAL WWO-97538\\\\5.000000-ax dyn 1st pass-59529/1-072.dcm': '8.5589909561005', 'E:\\\\Internship Mass storage\\\\First 3 datasets\\\\Duke_breast_MRI dataset\\\\Duke-Breast-Cancer-MRI\\\\Breast_MRI_001\\\\01-01-1990-NA-MRI BREAST BILATERAL WWO-97538\\\\5.000000-ax dyn 1st pass-59529/1-073.dcm': '7.4597297229856', 'E:\\\\Internship Mass storage\\\\First 3 datasets\\\\Duke_breast_MRI dataset\\\\Duke-Breast-Cancer-MRI\\\\Breast_MRI_001\\\\01-01-1990-NA-MRI BREAST BILATERAL WWO-97538\\\\5.000000-ax dyn 1st pass-59529/1-074.dcm': '6.3604684898706', 'E:\\\\Internship Mass storage\\\\First 3 datasets\\\\Duke_breast_MRI dataset\\\\Duke-Breast-Cancer-MRI\\\\Breast_MRI_001\\\\01-01-1990-NA-MRI BREAST BILATERAL WWO-97538\\\\5.000000-ax dyn 1st pass-59529/1-075.dcm': '5.2612072567557', 'E:\\\\Internship Mass storage\\\\First 3 datasets\\\\Duke_breast_MRI dataset\\\\Duke-Breast-Cancer-MRI\\\\Breast_MRI_001\\\\01-01-1990-NA-MRI BREAST BILATERAL WWO-97538\\\\5.000000-ax dyn 1st pass-59529/1-076.dcm': '4.1619460236407', 'E:\\\\Internship Mass storage\\\\First 3 datasets\\\\Duke_breast_MRI dataset\\\\Duke-Breast-Cancer-MRI\\\\Breast_MRI_001\\\\01-01-1990-NA-MRI BREAST BILATERAL WWO-97538\\\\5.000000-ax dyn 1st pass-59529/1-077.dcm': '3.0626847905257', 'E:\\\\Internship Mass storage\\\\First 3 datasets\\\\Duke_breast_MRI dataset\\\\Duke-Breast-Cancer-MRI\\\\Breast_MRI_001\\\\01-01-1990-NA-MRI BREAST BILATERAL WWO-97538\\\\5.000000-ax dyn 1st pass-59529/1-078.dcm': '1.9634235574108', 'E:\\\\Internship Mass storage\\\\First 3 datasets\\\\Duke_breast_MRI dataset\\\\Duke-Breast-Cancer-MRI\\\\Breast_MRI_001\\\\01-01-1990-NA-MRI BREAST BILATERAL WWO-97538\\\\5.000000-ax dyn 1st pass-59529/1-079.dcm': '0.8641623242958', 'E:\\\\Internship Mass storage\\\\First 3 datasets\\\\Duke_breast_MRI dataset\\\\Duke-Breast-Cancer-MRI\\\\Breast_MRI_001\\\\01-01-1990-NA-MRI BREAST BILATERAL WWO-97538\\\\5.000000-ax dyn 1st pass-59529/1-080.dcm': '-0.2350989088191', 'E:\\\\Internship Mass storage\\\\First 3 datasets\\\\Duke_breast_MRI dataset\\\\Duke-Breast-Cancer-MRI\\\\Breast_MRI_001\\\\01-01-1990-NA-MRI BREAST BILATERAL WWO-97538\\\\5.000000-ax dyn 1st pass-59529/1-081.dcm': '-1.3343601419341', 'E:\\\\Internship Mass storage\\\\First 3 datasets\\\\Duke_breast_MRI dataset\\\\Duke-Breast-Cancer-MRI\\\\Breast_MRI_001\\\\01-01-1990-NA-MRI BREAST BILATERAL WWO-97538\\\\5.000000-ax dyn 1st pass-59529/1-082.dcm': '-2.433621375049', 'E:\\\\Internship Mass storage\\\\First 3 datasets\\\\Duke_breast_MRI dataset\\\\Duke-Breast-Cancer-MRI\\\\Breast_MRI_001\\\\01-01-1990-NA-MRI BREAST BILATERAL WWO-97538\\\\5.000000-ax dyn 1st pass-59529/1-083.dcm': '-3.532882608164', 'E:\\\\Internship Mass storage\\\\First 3 datasets\\\\Duke_breast_MRI dataset\\\\Duke-Breast-Cancer-MRI\\\\Breast_MRI_001\\\\01-01-1990-NA-MRI BREAST BILATERAL WWO-97538\\\\5.000000-ax dyn 1st pass-59529/1-084.dcm': '-4.632143841279', 'E:\\\\Internship Mass storage\\\\First 3 datasets\\\\Duke_breast_MRI dataset\\\\Duke-Breast-Cancer-MRI\\\\Breast_MRI_001\\\\01-01-1990-NA-MRI BREAST BILATERAL WWO-97538\\\\5.000000-ax dyn 1st pass-59529/1-085.dcm': '-5.7314050743939', 'E:\\\\Internship Mass storage\\\\First 3 datasets\\\\Duke_breast_MRI dataset\\\\Duke-Breast-Cancer-MRI\\\\Breast_MRI_001\\\\01-01-1990-NA-MRI BREAST BILATERAL WWO-97538\\\\5.000000-ax dyn 1st pass-59529/1-086.dcm': '-6.8306663075089', 'E:\\\\Internship Mass storage\\\\First 3 datasets\\\\Duke_breast_MRI dataset\\\\Duke-Breast-Cancer-MRI\\\\Breast_MRI_001\\\\01-01-1990-NA-MRI BREAST BILATERAL WWO-97538\\\\5.000000-ax dyn 1st pass-59529/1-087.dcm': '-7.9299275406238', 'E:\\\\Internship Mass storage\\\\First 3 datasets\\\\Duke_breast_MRI dataset\\\\Duke-Breast-Cancer-MRI\\\\Breast_MRI_001\\\\01-01-1990-NA-MRI BREAST BILATERAL WWO-97538\\\\5.000000-ax dyn 1st pass-59529/1-088.dcm': '-9.0291887737388', 'E:\\\\Internship Mass storage\\\\First 3 datasets\\\\Duke_breast_MRI dataset\\\\Duke-Breast-Cancer-MRI\\\\Breast_MRI_001\\\\01-01-1990-NA-MRI BREAST BILATERAL WWO-97538\\\\5.000000-ax dyn 1st pass-59529/1-089.dcm': '-10.128450006854', 'E:\\\\Internship Mass storage\\\\First 3 datasets\\\\Duke_breast_MRI dataset\\\\Duke-Breast-Cancer-MRI\\\\Breast_MRI_001\\\\01-01-1990-NA-MRI BREAST BILATERAL WWO-97538\\\\5.000000-ax dyn 1st pass-59529/1-090.dcm': '-11.227711239969', 'E:\\\\Internship Mass storage\\\\First 3 datasets\\\\Duke_breast_MRI dataset\\\\Duke-Breast-Cancer-MRI\\\\Breast_MRI_001\\\\01-01-1990-NA-MRI BREAST BILATERAL WWO-97538\\\\5.000000-ax dyn 1st pass-59529/1-091.dcm': '-12.326972473084', 'E:\\\\Internship Mass storage\\\\First 3 datasets\\\\Duke_breast_MRI dataset\\\\Duke-Breast-Cancer-MRI\\\\Breast_MRI_001\\\\01-01-1990-NA-MRI BREAST BILATERAL WWO-97538\\\\5.000000-ax dyn 1st pass-59529/1-092.dcm': '-13.426233706199', 'E:\\\\Internship Mass storage\\\\First 3 datasets\\\\Duke_breast_MRI dataset\\\\Duke-Breast-Cancer-MRI\\\\Breast_MRI_001\\\\01-01-1990-NA-MRI BREAST BILATERAL WWO-97538\\\\5.000000-ax dyn 1st pass-59529/1-093.dcm': '-14.525494939314', 'E:\\\\Internship Mass storage\\\\First 3 datasets\\\\Duke_breast_MRI dataset\\\\Duke-Breast-Cancer-MRI\\\\Breast_MRI_001\\\\01-01-1990-NA-MRI BREAST BILATERAL WWO-97538\\\\5.000000-ax dyn 1st pass-59529/1-094.dcm': '-15.624756172429', 'E:\\\\Internship Mass storage\\\\First 3 datasets\\\\Duke_breast_MRI dataset\\\\Duke-Breast-Cancer-MRI\\\\Breast_MRI_001\\\\01-01-1990-NA-MRI BREAST BILATERAL WWO-97538\\\\5.000000-ax dyn 1st pass-59529/1-095.dcm': '-16.724017405543', 'E:\\\\Internship Mass storage\\\\First 3 datasets\\\\Duke_breast_MRI dataset\\\\Duke-Breast-Cancer-MRI\\\\Breast_MRI_001\\\\01-01-1990-NA-MRI BREAST BILATERAL WWO-97538\\\\5.000000-ax dyn 1st pass-59529/1-096.dcm': '-17.823278638658', 'E:\\\\Internship Mass storage\\\\First 3 datasets\\\\Duke_breast_MRI dataset\\\\Duke-Breast-Cancer-MRI\\\\Breast_MRI_001\\\\01-01-1990-NA-MRI BREAST BILATERAL WWO-97538\\\\5.000000-ax dyn 1st pass-59529/1-097.dcm': '-18.922539871773', 'E:\\\\Internship Mass storage\\\\First 3 datasets\\\\Duke_breast_MRI dataset\\\\Duke-Breast-Cancer-MRI\\\\Breast_MRI_001\\\\01-01-1990-NA-MRI BREAST BILATERAL WWO-97538\\\\5.000000-ax dyn 1st pass-59529/1-098.dcm': '-20.021801104888', 'E:\\\\Internship Mass storage\\\\First 3 datasets\\\\Duke_breast_MRI dataset\\\\Duke-Breast-Cancer-MRI\\\\Breast_MRI_001\\\\01-01-1990-NA-MRI BREAST BILATERAL WWO-97538\\\\5.000000-ax dyn 1st pass-59529/1-099.dcm': '-21.121062338003', 'E:\\\\Internship Mass storage\\\\First 3 datasets\\\\Duke_breast_MRI dataset\\\\Duke-Breast-Cancer-MRI\\\\Breast_MRI_001\\\\01-01-1990-NA-MRI BREAST BILATERAL WWO-97538\\\\5.000000-ax dyn 1st pass-59529/1-100.dcm': '-22.220323571118', 'E:\\\\Internship Mass storage\\\\First 3 datasets\\\\Duke_breast_MRI dataset\\\\Duke-Breast-Cancer-MRI\\\\Breast_MRI_001\\\\01-01-1990-NA-MRI BREAST BILATERAL WWO-97538\\\\5.000000-ax dyn 1st pass-59529/1-101.dcm': '-23.319584804233', 'E:\\\\Internship Mass storage\\\\First 3 datasets\\\\Duke_breast_MRI dataset\\\\Duke-Breast-Cancer-MRI\\\\Breast_MRI_001\\\\01-01-1990-NA-MRI BREAST BILATERAL WWO-97538\\\\5.000000-ax dyn 1st pass-59529/1-102.dcm': '-24.418846037348', 'E:\\\\Internship Mass storage\\\\First 3 datasets\\\\Duke_breast_MRI dataset\\\\Duke-Breast-Cancer-MRI\\\\Breast_MRI_001\\\\01-01-1990-NA-MRI BREAST BILATERAL WWO-97538\\\\5.000000-ax dyn 1st pass-59529/1-103.dcm': '-25.518107270463', 'E:\\\\Internship Mass storage\\\\First 3 datasets\\\\Duke_breast_MRI dataset\\\\Duke-Breast-Cancer-MRI\\\\Breast_MRI_001\\\\01-01-1990-NA-MRI BREAST BILATERAL WWO-97538\\\\5.000000-ax dyn 1st pass-59529/1-104.dcm': '-26.617368503578', 'E:\\\\Internship Mass storage\\\\First 3 datasets\\\\Duke_breast_MRI dataset\\\\Duke-Breast-Cancer-MRI\\\\Breast_MRI_001\\\\01-01-1990-NA-MRI BREAST BILATERAL WWO-97538\\\\5.000000-ax dyn 1st pass-59529/1-105.dcm': '-27.716629736693', 'E:\\\\Internship Mass storage\\\\First 3 datasets\\\\Duke_breast_MRI dataset\\\\Duke-Breast-Cancer-MRI\\\\Breast_MRI_001\\\\01-01-1990-NA-MRI BREAST BILATERAL WWO-97538\\\\5.000000-ax dyn 1st pass-59529/1-106.dcm': '-28.815890969808', 'E:\\\\Internship Mass storage\\\\First 3 datasets\\\\Duke_breast_MRI dataset\\\\Duke-Breast-Cancer-MRI\\\\Breast_MRI_001\\\\01-01-1990-NA-MRI BREAST BILATERAL WWO-97538\\\\5.000000-ax dyn 1st pass-59529/1-107.dcm': '-29.915152202923', 'E:\\\\Internship Mass storage\\\\First 3 datasets\\\\Duke_breast_MRI dataset\\\\Duke-Breast-Cancer-MRI\\\\Breast_MRI_001\\\\01-01-1990-NA-MRI BREAST BILATERAL WWO-97538\\\\5.000000-ax dyn 1st pass-59529/1-108.dcm': '-31.014413436038', 'E:\\\\Internship Mass storage\\\\First 3 datasets\\\\Duke_breast_MRI dataset\\\\Duke-Breast-Cancer-MRI\\\\Breast_MRI_001\\\\01-01-1990-NA-MRI BREAST BILATERAL WWO-97538\\\\5.000000-ax dyn 1st pass-59529/1-109.dcm': '-32.113674669153', 'E:\\\\Internship Mass storage\\\\First 3 datasets\\\\Duke_breast_MRI dataset\\\\Duke-Breast-Cancer-MRI\\\\Breast_MRI_001\\\\01-01-1990-NA-MRI BREAST BILATERAL WWO-97538\\\\5.000000-ax dyn 1st pass-59529/1-110.dcm': '-33.212935902268', 'E:\\\\Internship Mass storage\\\\First 3 datasets\\\\Duke_breast_MRI dataset\\\\Duke-Breast-Cancer-MRI\\\\Breast_MRI_001\\\\01-01-1990-NA-MRI BREAST BILATERAL WWO-97538\\\\5.000000-ax dyn 1st pass-59529/1-111.dcm': '-34.312197135383', 'E:\\\\Internship Mass storage\\\\First 3 datasets\\\\Duke_breast_MRI dataset\\\\Duke-Breast-Cancer-MRI\\\\Breast_MRI_001\\\\01-01-1990-NA-MRI BREAST BILATERAL WWO-97538\\\\5.000000-ax dyn 1st pass-59529/1-112.dcm': '-35.411458368498', 'E:\\\\Internship Mass storage\\\\First 3 datasets\\\\Duke_breast_MRI dataset\\\\Duke-Breast-Cancer-MRI\\\\Breast_MRI_001\\\\01-01-1990-NA-MRI BREAST BILATERAL WWO-97538\\\\5.000000-ax dyn 1st pass-59529/1-113.dcm': '-36.510719601613', 'E:\\\\Internship Mass storage\\\\First 3 datasets\\\\Duke_breast_MRI dataset\\\\Duke-Breast-Cancer-MRI\\\\Breast_MRI_001\\\\01-01-1990-NA-MRI BREAST BILATERAL WWO-97538\\\\5.000000-ax dyn 1st pass-59529/1-114.dcm': '-37.609980834728', 'E:\\\\Internship Mass storage\\\\First 3 datasets\\\\Duke_breast_MRI dataset\\\\Duke-Breast-Cancer-MRI\\\\Breast_MRI_001\\\\01-01-1990-NA-MRI BREAST BILATERAL WWO-97538\\\\5.000000-ax dyn 1st pass-59529/1-115.dcm': '-38.709242067843', 'E:\\\\Internship Mass storage\\\\First 3 datasets\\\\Duke_breast_MRI dataset\\\\Duke-Breast-Cancer-MRI\\\\Breast_MRI_001\\\\01-01-1990-NA-MRI BREAST BILATERAL WWO-97538\\\\5.000000-ax dyn 1st pass-59529/1-116.dcm': '-39.808503300958', 'E:\\\\Internship Mass storage\\\\First 3 datasets\\\\Duke_breast_MRI dataset\\\\Duke-Breast-Cancer-MRI\\\\Breast_MRI_001\\\\01-01-1990-NA-MRI BREAST BILATERAL WWO-97538\\\\5.000000-ax dyn 1st pass-59529/1-117.dcm': '-40.907764534073', 'E:\\\\Internship Mass storage\\\\First 3 datasets\\\\Duke_breast_MRI dataset\\\\Duke-Breast-Cancer-MRI\\\\Breast_MRI_001\\\\01-01-1990-NA-MRI BREAST BILATERAL WWO-97538\\\\5.000000-ax dyn 1st pass-59529/1-118.dcm': '-42.007025767188', 'E:\\\\Internship Mass storage\\\\First 3 datasets\\\\Duke_breast_MRI dataset\\\\Duke-Breast-Cancer-MRI\\\\Breast_MRI_001\\\\01-01-1990-NA-MRI BREAST BILATERAL WWO-97538\\\\5.000000-ax dyn 1st pass-59529/1-119.dcm': '-43.106287000302', 'E:\\\\Internship Mass storage\\\\First 3 datasets\\\\Duke_breast_MRI dataset\\\\Duke-Breast-Cancer-MRI\\\\Breast_MRI_001\\\\01-01-1990-NA-MRI BREAST BILATERAL WWO-97538\\\\5.000000-ax dyn 1st pass-59529/1-120.dcm': '-44.205548233417', 'E:\\\\Internship Mass storage\\\\First 3 datasets\\\\Duke_breast_MRI dataset\\\\Duke-Breast-Cancer-MRI\\\\Breast_MRI_001\\\\01-01-1990-NA-MRI BREAST BILATERAL WWO-97538\\\\5.000000-ax dyn 1st pass-59529/1-121.dcm': '-45.304809466532', 'E:\\\\Internship Mass storage\\\\First 3 datasets\\\\Duke_breast_MRI dataset\\\\Duke-Breast-Cancer-MRI\\\\Breast_MRI_001\\\\01-01-1990-NA-MRI BREAST BILATERAL WWO-97538\\\\5.000000-ax dyn 1st pass-59529/1-122.dcm': '-46.404070699647', 'E:\\\\Internship Mass storage\\\\First 3 datasets\\\\Duke_breast_MRI dataset\\\\Duke-Breast-Cancer-MRI\\\\Breast_MRI_001\\\\01-01-1990-NA-MRI BREAST BILATERAL WWO-97538\\\\5.000000-ax dyn 1st pass-59529/1-123.dcm': '-47.503331932762', 'E:\\\\Internship Mass storage\\\\First 3 datasets\\\\Duke_breast_MRI dataset\\\\Duke-Breast-Cancer-MRI\\\\Breast_MRI_001\\\\01-01-1990-NA-MRI BREAST BILATERAL WWO-97538\\\\5.000000-ax dyn 1st pass-59529/1-124.dcm': '-48.602593165877', 'E:\\\\Internship Mass storage\\\\First 3 datasets\\\\Duke_breast_MRI dataset\\\\Duke-Breast-Cancer-MRI\\\\Breast_MRI_001\\\\01-01-1990-NA-MRI BREAST BILATERAL WWO-97538\\\\5.000000-ax dyn 1st pass-59529/1-125.dcm': '-49.701854398992', 'E:\\\\Internship Mass storage\\\\First 3 datasets\\\\Duke_breast_MRI dataset\\\\Duke-Breast-Cancer-MRI\\\\Breast_MRI_001\\\\01-01-1990-NA-MRI BREAST BILATERAL WWO-97538\\\\5.000000-ax dyn 1st pass-59529/1-126.dcm': '-50.801115632107', 'E:\\\\Internship Mass storage\\\\First 3 datasets\\\\Duke_breast_MRI dataset\\\\Duke-Breast-Cancer-MRI\\\\Breast_MRI_001\\\\01-01-1990-NA-MRI BREAST BILATERAL WWO-97538\\\\5.000000-ax dyn 1st pass-59529/1-127.dcm': '-51.900376865222', 'E:\\\\Internship Mass storage\\\\First 3 datasets\\\\Duke_breast_MRI dataset\\\\Duke-Breast-Cancer-MRI\\\\Breast_MRI_001\\\\01-01-1990-NA-MRI BREAST BILATERAL WWO-97538\\\\5.000000-ax dyn 1st pass-59529/1-128.dcm': '-52.999638098337', 'E:\\\\Internship Mass storage\\\\First 3 datasets\\\\Duke_breast_MRI dataset\\\\Duke-Breast-Cancer-MRI\\\\Breast_MRI_001\\\\01-01-1990-NA-MRI BREAST BILATERAL WWO-97538\\\\5.000000-ax dyn 1st pass-59529/1-129.dcm': '-54.098899331452', 'E:\\\\Internship Mass storage\\\\First 3 datasets\\\\Duke_breast_MRI dataset\\\\Duke-Breast-Cancer-MRI\\\\Breast_MRI_001\\\\01-01-1990-NA-MRI BREAST BILATERAL WWO-97538\\\\5.000000-ax dyn 1st pass-59529/1-130.dcm': '-55.198160564567', 'E:\\\\Internship Mass storage\\\\First 3 datasets\\\\Duke_breast_MRI dataset\\\\Duke-Breast-Cancer-MRI\\\\Breast_MRI_001\\\\01-01-1990-NA-MRI BREAST BILATERAL WWO-97538\\\\5.000000-ax dyn 1st pass-59529/1-131.dcm': '-56.297421797682', 'E:\\\\Internship Mass storage\\\\First 3 datasets\\\\Duke_breast_MRI dataset\\\\Duke-Breast-Cancer-MRI\\\\Breast_MRI_001\\\\01-01-1990-NA-MRI BREAST BILATERAL WWO-97538\\\\5.000000-ax dyn 1st pass-59529/1-132.dcm': '-57.396683030797', 'E:\\\\Internship Mass storage\\\\First 3 datasets\\\\Duke_breast_MRI dataset\\\\Duke-Breast-Cancer-MRI\\\\Breast_MRI_001\\\\01-01-1990-NA-MRI BREAST BILATERAL WWO-97538\\\\5.000000-ax dyn 1st pass-59529/1-133.dcm': '-58.495944263912', 'E:\\\\Internship Mass storage\\\\First 3 datasets\\\\Duke_breast_MRI dataset\\\\Duke-Breast-Cancer-MRI\\\\Breast_MRI_001\\\\01-01-1990-NA-MRI BREAST BILATERAL WWO-97538\\\\5.000000-ax dyn 1st pass-59529/1-134.dcm': '-59.595205497027', 'E:\\\\Internship Mass storage\\\\First 3 datasets\\\\Duke_breast_MRI dataset\\\\Duke-Breast-Cancer-MRI\\\\Breast_MRI_001\\\\01-01-1990-NA-MRI BREAST BILATERAL WWO-97538\\\\5.000000-ax dyn 1st pass-59529/1-135.dcm': '-60.694466730142', 'E:\\\\Internship Mass storage\\\\First 3 datasets\\\\Duke_breast_MRI dataset\\\\Duke-Breast-Cancer-MRI\\\\Breast_MRI_001\\\\01-01-1990-NA-MRI BREAST BILATERAL WWO-97538\\\\5.000000-ax dyn 1st pass-59529/1-136.dcm': '-61.793727963257', 'E:\\\\Internship Mass storage\\\\First 3 datasets\\\\Duke_breast_MRI dataset\\\\Duke-Breast-Cancer-MRI\\\\Breast_MRI_001\\\\01-01-1990-NA-MRI BREAST BILATERAL WWO-97538\\\\5.000000-ax dyn 1st pass-59529/1-137.dcm': '-62.892989196372', 'E:\\\\Internship Mass storage\\\\First 3 datasets\\\\Duke_breast_MRI dataset\\\\Duke-Breast-Cancer-MRI\\\\Breast_MRI_001\\\\01-01-1990-NA-MRI BREAST BILATERAL WWO-97538\\\\5.000000-ax dyn 1st pass-59529/1-138.dcm': '-63.992250429487', 'E:\\\\Internship Mass storage\\\\First 3 datasets\\\\Duke_breast_MRI dataset\\\\Duke-Breast-Cancer-MRI\\\\Breast_MRI_001\\\\01-01-1990-NA-MRI BREAST BILATERAL WWO-97538\\\\5.000000-ax dyn 1st pass-59529/1-139.dcm': '-65.091511662602', 'E:\\\\Internship Mass storage\\\\First 3 datasets\\\\Duke_breast_MRI dataset\\\\Duke-Breast-Cancer-MRI\\\\Breast_MRI_001\\\\01-01-1990-NA-MRI BREAST BILATERAL WWO-97538\\\\5.000000-ax dyn 1st pass-59529/1-140.dcm': '-66.190772895717', 'E:\\\\Internship Mass storage\\\\First 3 datasets\\\\Duke_breast_MRI dataset\\\\Duke-Breast-Cancer-MRI\\\\Breast_MRI_001\\\\01-01-1990-NA-MRI BREAST BILATERAL WWO-97538\\\\5.000000-ax dyn 1st pass-59529/1-141.dcm': '-67.290034128832', 'E:\\\\Internship Mass storage\\\\First 3 datasets\\\\Duke_breast_MRI dataset\\\\Duke-Breast-Cancer-MRI\\\\Breast_MRI_001\\\\01-01-1990-NA-MRI BREAST BILATERAL WWO-97538\\\\5.000000-ax dyn 1st pass-59529/1-142.dcm': '-68.389295361946', 'E:\\\\Internship Mass storage\\\\First 3 datasets\\\\Duke_breast_MRI dataset\\\\Duke-Breast-Cancer-MRI\\\\Breast_MRI_001\\\\01-01-1990-NA-MRI BREAST BILATERAL WWO-97538\\\\5.000000-ax dyn 1st pass-59529/1-143.dcm': '-69.488556595061', 'E:\\\\Internship Mass storage\\\\First 3 datasets\\\\Duke_breast_MRI dataset\\\\Duke-Breast-Cancer-MRI\\\\Breast_MRI_001\\\\01-01-1990-NA-MRI BREAST BILATERAL WWO-97538\\\\5.000000-ax dyn 1st pass-59529/1-144.dcm': '-70.587817828176', 'E:\\\\Internship Mass storage\\\\First 3 datasets\\\\Duke_breast_MRI dataset\\\\Duke-Breast-Cancer-MRI\\\\Breast_MRI_001\\\\01-01-1990-NA-MRI BREAST BILATERAL WWO-97538\\\\5.000000-ax dyn 1st pass-59529/1-145.dcm': '-71.687079061291', 'E:\\\\Internship Mass storage\\\\First 3 datasets\\\\Duke_breast_MRI dataset\\\\Duke-Breast-Cancer-MRI\\\\Breast_MRI_001\\\\01-01-1990-NA-MRI BREAST BILATERAL WWO-97538\\\\5.000000-ax dyn 1st pass-59529/1-146.dcm': '-72.786340294406', 'E:\\\\Internship Mass storage\\\\First 3 datasets\\\\Duke_breast_MRI dataset\\\\Duke-Breast-Cancer-MRI\\\\Breast_MRI_001\\\\01-01-1990-NA-MRI BREAST BILATERAL WWO-97538\\\\5.000000-ax dyn 1st pass-59529/1-147.dcm': '-73.885601527521', 'E:\\\\Internship Mass storage\\\\First 3 datasets\\\\Duke_breast_MRI dataset\\\\Duke-Breast-Cancer-MRI\\\\Breast_MRI_001\\\\01-01-1990-NA-MRI BREAST BILATERAL WWO-97538\\\\5.000000-ax dyn 1st pass-59529/1-148.dcm': '-74.984862760636', 'E:\\\\Internship Mass storage\\\\First 3 datasets\\\\Duke_breast_MRI dataset\\\\Duke-Breast-Cancer-MRI\\\\Breast_MRI_001\\\\01-01-1990-NA-MRI BREAST BILATERAL WWO-97538\\\\5.000000-ax dyn 1st pass-59529/1-149.dcm': '-76.084123993751', 'E:\\\\Internship Mass storage\\\\First 3 datasets\\\\Duke_breast_MRI dataset\\\\Duke-Breast-Cancer-MRI\\\\Breast_MRI_001\\\\01-01-1990-NA-MRI BREAST BILATERAL WWO-97538\\\\5.000000-ax dyn 1st pass-59529/1-150.dcm': '-77.183385226866', 'E:\\\\Internship Mass storage\\\\First 3 datasets\\\\Duke_breast_MRI dataset\\\\Duke-Breast-Cancer-MRI\\\\Breast_MRI_001\\\\01-01-1990-NA-MRI BREAST BILATERAL WWO-97538\\\\5.000000-ax dyn 1st pass-59529/1-151.dcm': '-78.282646459981', 'E:\\\\Internship Mass storage\\\\First 3 datasets\\\\Duke_breast_MRI dataset\\\\Duke-Breast-Cancer-MRI\\\\Breast_MRI_001\\\\01-01-1990-NA-MRI BREAST BILATERAL WWO-97538\\\\5.000000-ax dyn 1st pass-59529/1-152.dcm': '-79.381907693096', 'E:\\\\Internship Mass storage\\\\First 3 datasets\\\\Duke_breast_MRI dataset\\\\Duke-Breast-Cancer-MRI\\\\Breast_MRI_001\\\\01-01-1990-NA-MRI BREAST BILATERAL WWO-97538\\\\5.000000-ax dyn 1st pass-59529/1-153.dcm': '-80.481168926211', 'E:\\\\Internship Mass storage\\\\First 3 datasets\\\\Duke_breast_MRI dataset\\\\Duke-Breast-Cancer-MRI\\\\Breast_MRI_001\\\\01-01-1990-NA-MRI BREAST BILATERAL WWO-97538\\\\5.000000-ax dyn 1st pass-59529/1-154.dcm': '-81.580430159326', 'E:\\\\Internship Mass storage\\\\First 3 datasets\\\\Duke_breast_MRI dataset\\\\Duke-Breast-Cancer-MRI\\\\Breast_MRI_001\\\\01-01-1990-NA-MRI BREAST BILATERAL WWO-97538\\\\5.000000-ax dyn 1st pass-59529/1-155.dcm': '-82.679691392441', 'E:\\\\Internship Mass storage\\\\First 3 datasets\\\\Duke_breast_MRI dataset\\\\Duke-Breast-Cancer-MRI\\\\Breast_MRI_001\\\\01-01-1990-NA-MRI BREAST BILATERAL WWO-97538\\\\5.000000-ax dyn 1st pass-59529/1-156.dcm': '-83.778952625556', 'E:\\\\Internship Mass storage\\\\First 3 datasets\\\\Duke_breast_MRI dataset\\\\Duke-Breast-Cancer-MRI\\\\Breast_MRI_001\\\\01-01-1990-NA-MRI BREAST BILATERAL WWO-97538\\\\5.000000-ax dyn 1st pass-59529/1-157.dcm': '-84.878213858671', 'E:\\\\Internship Mass storage\\\\First 3 datasets\\\\Duke_breast_MRI dataset\\\\Duke-Breast-Cancer-MRI\\\\Breast_MRI_001\\\\01-01-1990-NA-MRI BREAST BILATERAL WWO-97538\\\\5.000000-ax dyn 1st pass-59529/1-158.dcm': '-85.977475091786', 'E:\\\\Internship Mass storage\\\\First 3 datasets\\\\Duke_breast_MRI dataset\\\\Duke-Breast-Cancer-MRI\\\\Breast_MRI_001\\\\01-01-1990-NA-MRI BREAST BILATERAL WWO-97538\\\\5.000000-ax dyn 1st pass-59529/1-159.dcm': '-87.076736324901', 'E:\\\\Internship Mass storage\\\\First 3 datasets\\\\Duke_breast_MRI dataset\\\\Duke-Breast-Cancer-MRI\\\\Breast_MRI_001\\\\01-01-1990-NA-MRI BREAST BILATERAL WWO-97538\\\\5.000000-ax dyn 1st pass-59529/1-160.dcm': '-88.175997558016'}\n"
     ]
    }
   ],
   "source": [
    "testdict = {}\n",
    "sorteddict = {}\n",
    "for x in onlyfiles: # for loop to make a dictionary with all the filenames\n",
    "    tempfile = r\"E:\\Internship Mass storage\\First 3 datasets\\Duke_breast_MRI dataset\\Duke-Breast-Cancer-MRI\\Breast_MRI_001\\01-01-1990-NA-MRI BREAST BILATERAL WWO-97538\\5.000000-ax dyn 1st pass-59529/\" + str(x)\n",
    "    testds = dcmread(tempfile)\n",
    "    position = testds.ImagePositionPatient[2]\n",
    "    testdict.update({tempfile: position})\n",
    "\n",
    "    #then put them in another dictionary ordered by z-coordinate\n",
    "highestkey = max(testdict, key=testdict.get)\n",
    "highestvalue = testdict[highestkey]\n",
    "\n",
    "        \n",
    "while len(testdict) > 0:\n",
    "    highestkey = max(testdict, key=testdict.get)\n",
    "    highestvalue = testdict[highestkey]\n",
    "    sorteddict.update({highestkey: highestvalue})\n",
    "    testdict.pop(highestkey)\n",
    "    \n",
    "\n",
    "print(testdict)\n",
    "print(sorteddict)"
   ]
  },
  {
   "cell_type": "code",
   "execution_count": 34,
   "id": "9ffb01e5",
   "metadata": {},
   "outputs": [
    {
     "name": "stdout",
     "output_type": "stream",
     "text": [
      "E:\\Internship Mass storage\\First 3 datasets\\Duke_breast_MRI dataset\\Duke-Breast-Cancer-MRI\\Breast_MRI_001\\01-01-1990-NA-MRI BREAST BILATERAL WWO-97538\\5.000000-ax dyn 1st pass-59529/1-001.dcm\n",
      "None\n"
     ]
    }
   ],
   "source": [
    "testdict = {}\n",
    "sorteddict = {}\n",
    "def get_filename(val):\n",
    "    for key, value in testdict.items():\n",
    "         if val == value:\n",
    "                return key\n",
    "for x in onlyfiles: # for loop to make a dictionary with all the filenames\n",
    "    tempfile = r\"E:\\Internship Mass storage\\First 3 datasets\\Duke_breast_MRI dataset\\Duke-Breast-Cancer-MRI\\Breast_MRI_001\\01-01-1990-NA-MRI BREAST BILATERAL WWO-97538\\5.000000-ax dyn 1st pass-59529/\" + str(x)\n",
    "    testds = dcmread(tempfile)\n",
    "    position = testds.ImagePositionPatient[2]\n",
    "    testdict.update({tempfile: position})\n",
    "highestvalue = max(testdict, key=testdict.get)\n",
    "print(highestvalue)\n",
    "print(get_filename(highestvalue))"
   ]
  },
  {
   "cell_type": "code",
   "execution_count": 14,
   "id": "d8ddfec1",
   "metadata": {},
   "outputs": [
    {
     "name": "stdout",
     "output_type": "stream",
     "text": [
      "E:\\Internship Mass storage\\First 3 datasets\\Duke_breast_MRI dataset\\Duke-Breast-Cancer-MRI\\Breast_MRI_001\\01-01-1990-NA-MRI BREAST BILATERAL WWO-97538\\5.000000-ax dyn 1st pass-59529/1-001.dcm\n"
     ]
    }
   ],
   "source": [
    "test2 = \"1-001.dcm\"\n",
    "test3 = r\"E:\\Internship Mass storage\\First 3 datasets\\Duke_breast_MRI dataset\\Duke-Breast-Cancer-MRI\\Breast_MRI_001\\01-01-1990-NA-MRI BREAST BILATERAL WWO-97538\\5.000000-ax dyn 1st pass-59529/\" + str(test2)\n",
    "print(test3)"
   ]
  },
  {
   "cell_type": "code",
   "execution_count": null,
   "id": "9df85af8",
   "metadata": {},
   "outputs": [],
   "source": [
    "dcmfile = input()\n",
    "inputfile = "
   ]
  },
  {
   "cell_type": "code",
   "execution_count": null,
   "id": "b80db9c3",
   "metadata": {},
   "outputs": [],
   "source": [
    "from pydicom import dcmread\n",
    "ds = dcmread(inputfile)\n",
    "print(ds)"
   ]
  },
  {
   "cell_type": "code",
   "execution_count": null,
   "id": "325d88cf",
   "metadata": {},
   "outputs": [],
   "source": [
    "elem = ds[0x0020, 0x0032]\n",
    "elem.keyword"
   ]
  },
  {
   "cell_type": "code",
   "execution_count": null,
   "id": "7d2eaac6",
   "metadata": {},
   "outputs": [],
   "source": [
    "test = ds.ImagePositionPatient[2]\n",
    "print(test)"
   ]
  }
 ],
 "metadata": {
  "kernelspec": {
   "display_name": "Python 3 (ipykernel)",
   "language": "python",
   "name": "python3"
  },
  "language_info": {
   "codemirror_mode": {
    "name": "ipython",
    "version": 3
   },
   "file_extension": ".py",
   "mimetype": "text/x-python",
   "name": "python",
   "nbconvert_exporter": "python",
   "pygments_lexer": "ipython3",
   "version": "3.9.7"
  }
 },
 "nbformat": 4,
 "nbformat_minor": 5
}
