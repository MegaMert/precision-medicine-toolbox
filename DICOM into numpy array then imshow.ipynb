{
 "cells": [
  {
   "cell_type": "code",
   "execution_count": 54,
   "id": "a964c9a1",
   "metadata": {},
   "outputs": [],
   "source": [
    "import pydicom\n",
    "from pydicom import dcmread\n",
    "import os\n",
    "import numpy\n",
    "from os import listdir\n",
    "from os.path import isfile, join\n",
    "import pandas as pd\n",
    "from ipywidgets import interact\n",
    "import matplotlib.pyplot as plt\n",
    "from PIL import Image as im"
   ]
  },
  {
   "cell_type": "code",
   "execution_count": 9,
   "id": "6488fff7",
   "metadata": {},
   "outputs": [
    {
     "name": "stdout",
     "output_type": "stream",
     "text": [
      "['E:\\\\Internship Mass storage\\\\First 3 datasets\\\\Duke_breast_MRI dataset\\\\Duke-Breast-Cancer-MRI\\\\Breast_MRI_002\\\\01-01-1990-NA-MRI BREAST BILATERAL W  WO-51972\\\\3.000000-ax t1-40797/1-01.dcm', 'E:\\\\Internship Mass storage\\\\First 3 datasets\\\\Duke_breast_MRI dataset\\\\Duke-Breast-Cancer-MRI\\\\Breast_MRI_002\\\\01-01-1990-NA-MRI BREAST BILATERAL W  WO-51972\\\\3.000000-ax t1-40797/1-02.dcm', 'E:\\\\Internship Mass storage\\\\First 3 datasets\\\\Duke_breast_MRI dataset\\\\Duke-Breast-Cancer-MRI\\\\Breast_MRI_002\\\\01-01-1990-NA-MRI BREAST BILATERAL W  WO-51972\\\\3.000000-ax t1-40797/1-03.dcm', 'E:\\\\Internship Mass storage\\\\First 3 datasets\\\\Duke_breast_MRI dataset\\\\Duke-Breast-Cancer-MRI\\\\Breast_MRI_002\\\\01-01-1990-NA-MRI BREAST BILATERAL W  WO-51972\\\\3.000000-ax t1-40797/1-04.dcm', 'E:\\\\Internship Mass storage\\\\First 3 datasets\\\\Duke_breast_MRI dataset\\\\Duke-Breast-Cancer-MRI\\\\Breast_MRI_002\\\\01-01-1990-NA-MRI BREAST BILATERAL W  WO-51972\\\\3.000000-ax t1-40797/1-05.dcm', 'E:\\\\Internship Mass storage\\\\First 3 datasets\\\\Duke_breast_MRI dataset\\\\Duke-Breast-Cancer-MRI\\\\Breast_MRI_002\\\\01-01-1990-NA-MRI BREAST BILATERAL W  WO-51972\\\\3.000000-ax t1-40797/1-06.dcm', 'E:\\\\Internship Mass storage\\\\First 3 datasets\\\\Duke_breast_MRI dataset\\\\Duke-Breast-Cancer-MRI\\\\Breast_MRI_002\\\\01-01-1990-NA-MRI BREAST BILATERAL W  WO-51972\\\\3.000000-ax t1-40797/1-07.dcm', 'E:\\\\Internship Mass storage\\\\First 3 datasets\\\\Duke_breast_MRI dataset\\\\Duke-Breast-Cancer-MRI\\\\Breast_MRI_002\\\\01-01-1990-NA-MRI BREAST BILATERAL W  WO-51972\\\\3.000000-ax t1-40797/1-08.dcm', 'E:\\\\Internship Mass storage\\\\First 3 datasets\\\\Duke_breast_MRI dataset\\\\Duke-Breast-Cancer-MRI\\\\Breast_MRI_002\\\\01-01-1990-NA-MRI BREAST BILATERAL W  WO-51972\\\\3.000000-ax t1-40797/1-09.dcm', 'E:\\\\Internship Mass storage\\\\First 3 datasets\\\\Duke_breast_MRI dataset\\\\Duke-Breast-Cancer-MRI\\\\Breast_MRI_002\\\\01-01-1990-NA-MRI BREAST BILATERAL W  WO-51972\\\\3.000000-ax t1-40797/1-10.dcm', 'E:\\\\Internship Mass storage\\\\First 3 datasets\\\\Duke_breast_MRI dataset\\\\Duke-Breast-Cancer-MRI\\\\Breast_MRI_002\\\\01-01-1990-NA-MRI BREAST BILATERAL W  WO-51972\\\\3.000000-ax t1-40797/1-11.dcm', 'E:\\\\Internship Mass storage\\\\First 3 datasets\\\\Duke_breast_MRI dataset\\\\Duke-Breast-Cancer-MRI\\\\Breast_MRI_002\\\\01-01-1990-NA-MRI BREAST BILATERAL W  WO-51972\\\\3.000000-ax t1-40797/1-12.dcm', 'E:\\\\Internship Mass storage\\\\First 3 datasets\\\\Duke_breast_MRI dataset\\\\Duke-Breast-Cancer-MRI\\\\Breast_MRI_002\\\\01-01-1990-NA-MRI BREAST BILATERAL W  WO-51972\\\\3.000000-ax t1-40797/1-13.dcm', 'E:\\\\Internship Mass storage\\\\First 3 datasets\\\\Duke_breast_MRI dataset\\\\Duke-Breast-Cancer-MRI\\\\Breast_MRI_002\\\\01-01-1990-NA-MRI BREAST BILATERAL W  WO-51972\\\\3.000000-ax t1-40797/1-14.dcm', 'E:\\\\Internship Mass storage\\\\First 3 datasets\\\\Duke_breast_MRI dataset\\\\Duke-Breast-Cancer-MRI\\\\Breast_MRI_002\\\\01-01-1990-NA-MRI BREAST BILATERAL W  WO-51972\\\\3.000000-ax t1-40797/1-15.dcm', 'E:\\\\Internship Mass storage\\\\First 3 datasets\\\\Duke_breast_MRI dataset\\\\Duke-Breast-Cancer-MRI\\\\Breast_MRI_002\\\\01-01-1990-NA-MRI BREAST BILATERAL W  WO-51972\\\\3.000000-ax t1-40797/1-16.dcm', 'E:\\\\Internship Mass storage\\\\First 3 datasets\\\\Duke_breast_MRI dataset\\\\Duke-Breast-Cancer-MRI\\\\Breast_MRI_002\\\\01-01-1990-NA-MRI BREAST BILATERAL W  WO-51972\\\\3.000000-ax t1-40797/1-17.dcm', 'E:\\\\Internship Mass storage\\\\First 3 datasets\\\\Duke_breast_MRI dataset\\\\Duke-Breast-Cancer-MRI\\\\Breast_MRI_002\\\\01-01-1990-NA-MRI BREAST BILATERAL W  WO-51972\\\\3.000000-ax t1-40797/1-18.dcm', 'E:\\\\Internship Mass storage\\\\First 3 datasets\\\\Duke_breast_MRI dataset\\\\Duke-Breast-Cancer-MRI\\\\Breast_MRI_002\\\\01-01-1990-NA-MRI BREAST BILATERAL W  WO-51972\\\\3.000000-ax t1-40797/1-19.dcm', 'E:\\\\Internship Mass storage\\\\First 3 datasets\\\\Duke_breast_MRI dataset\\\\Duke-Breast-Cancer-MRI\\\\Breast_MRI_002\\\\01-01-1990-NA-MRI BREAST BILATERAL W  WO-51972\\\\3.000000-ax t1-40797/1-20.dcm', 'E:\\\\Internship Mass storage\\\\First 3 datasets\\\\Duke_breast_MRI dataset\\\\Duke-Breast-Cancer-MRI\\\\Breast_MRI_002\\\\01-01-1990-NA-MRI BREAST BILATERAL W  WO-51972\\\\3.000000-ax t1-40797/1-21.dcm', 'E:\\\\Internship Mass storage\\\\First 3 datasets\\\\Duke_breast_MRI dataset\\\\Duke-Breast-Cancer-MRI\\\\Breast_MRI_002\\\\01-01-1990-NA-MRI BREAST BILATERAL W  WO-51972\\\\3.000000-ax t1-40797/1-22.dcm', 'E:\\\\Internship Mass storage\\\\First 3 datasets\\\\Duke_breast_MRI dataset\\\\Duke-Breast-Cancer-MRI\\\\Breast_MRI_002\\\\01-01-1990-NA-MRI BREAST BILATERAL W  WO-51972\\\\3.000000-ax t1-40797/1-23.dcm', 'E:\\\\Internship Mass storage\\\\First 3 datasets\\\\Duke_breast_MRI dataset\\\\Duke-Breast-Cancer-MRI\\\\Breast_MRI_002\\\\01-01-1990-NA-MRI BREAST BILATERAL W  WO-51972\\\\3.000000-ax t1-40797/1-24.dcm', 'E:\\\\Internship Mass storage\\\\First 3 datasets\\\\Duke_breast_MRI dataset\\\\Duke-Breast-Cancer-MRI\\\\Breast_MRI_002\\\\01-01-1990-NA-MRI BREAST BILATERAL W  WO-51972\\\\3.000000-ax t1-40797/1-25.dcm', 'E:\\\\Internship Mass storage\\\\First 3 datasets\\\\Duke_breast_MRI dataset\\\\Duke-Breast-Cancer-MRI\\\\Breast_MRI_002\\\\01-01-1990-NA-MRI BREAST BILATERAL W  WO-51972\\\\3.000000-ax t1-40797/1-26.dcm', 'E:\\\\Internship Mass storage\\\\First 3 datasets\\\\Duke_breast_MRI dataset\\\\Duke-Breast-Cancer-MRI\\\\Breast_MRI_002\\\\01-01-1990-NA-MRI BREAST BILATERAL W  WO-51972\\\\3.000000-ax t1-40797/1-27.dcm', 'E:\\\\Internship Mass storage\\\\First 3 datasets\\\\Duke_breast_MRI dataset\\\\Duke-Breast-Cancer-MRI\\\\Breast_MRI_002\\\\01-01-1990-NA-MRI BREAST BILATERAL W  WO-51972\\\\3.000000-ax t1-40797/1-28.dcm', 'E:\\\\Internship Mass storage\\\\First 3 datasets\\\\Duke_breast_MRI dataset\\\\Duke-Breast-Cancer-MRI\\\\Breast_MRI_002\\\\01-01-1990-NA-MRI BREAST BILATERAL W  WO-51972\\\\3.000000-ax t1-40797/1-29.dcm', 'E:\\\\Internship Mass storage\\\\First 3 datasets\\\\Duke_breast_MRI dataset\\\\Duke-Breast-Cancer-MRI\\\\Breast_MRI_002\\\\01-01-1990-NA-MRI BREAST BILATERAL W  WO-51972\\\\3.000000-ax t1-40797/1-30.dcm', 'E:\\\\Internship Mass storage\\\\First 3 datasets\\\\Duke_breast_MRI dataset\\\\Duke-Breast-Cancer-MRI\\\\Breast_MRI_002\\\\01-01-1990-NA-MRI BREAST BILATERAL W  WO-51972\\\\3.000000-ax t1-40797/1-31.dcm', 'E:\\\\Internship Mass storage\\\\First 3 datasets\\\\Duke_breast_MRI dataset\\\\Duke-Breast-Cancer-MRI\\\\Breast_MRI_002\\\\01-01-1990-NA-MRI BREAST BILATERAL W  WO-51972\\\\3.000000-ax t1-40797/1-32.dcm', 'E:\\\\Internship Mass storage\\\\First 3 datasets\\\\Duke_breast_MRI dataset\\\\Duke-Breast-Cancer-MRI\\\\Breast_MRI_002\\\\01-01-1990-NA-MRI BREAST BILATERAL W  WO-51972\\\\3.000000-ax t1-40797/1-33.dcm', 'E:\\\\Internship Mass storage\\\\First 3 datasets\\\\Duke_breast_MRI dataset\\\\Duke-Breast-Cancer-MRI\\\\Breast_MRI_002\\\\01-01-1990-NA-MRI BREAST BILATERAL W  WO-51972\\\\3.000000-ax t1-40797/1-34.dcm', 'E:\\\\Internship Mass storage\\\\First 3 datasets\\\\Duke_breast_MRI dataset\\\\Duke-Breast-Cancer-MRI\\\\Breast_MRI_002\\\\01-01-1990-NA-MRI BREAST BILATERAL W  WO-51972\\\\3.000000-ax t1-40797/1-35.dcm', 'E:\\\\Internship Mass storage\\\\First 3 datasets\\\\Duke_breast_MRI dataset\\\\Duke-Breast-Cancer-MRI\\\\Breast_MRI_002\\\\01-01-1990-NA-MRI BREAST BILATERAL W  WO-51972\\\\3.000000-ax t1-40797/1-36.dcm', 'E:\\\\Internship Mass storage\\\\First 3 datasets\\\\Duke_breast_MRI dataset\\\\Duke-Breast-Cancer-MRI\\\\Breast_MRI_002\\\\01-01-1990-NA-MRI BREAST BILATERAL W  WO-51972\\\\3.000000-ax t1-40797/1-37.dcm', 'E:\\\\Internship Mass storage\\\\First 3 datasets\\\\Duke_breast_MRI dataset\\\\Duke-Breast-Cancer-MRI\\\\Breast_MRI_002\\\\01-01-1990-NA-MRI BREAST BILATERAL W  WO-51972\\\\3.000000-ax t1-40797/1-38.dcm', 'E:\\\\Internship Mass storage\\\\First 3 datasets\\\\Duke_breast_MRI dataset\\\\Duke-Breast-Cancer-MRI\\\\Breast_MRI_002\\\\01-01-1990-NA-MRI BREAST BILATERAL W  WO-51972\\\\3.000000-ax t1-40797/1-39.dcm', 'E:\\\\Internship Mass storage\\\\First 3 datasets\\\\Duke_breast_MRI dataset\\\\Duke-Breast-Cancer-MRI\\\\Breast_MRI_002\\\\01-01-1990-NA-MRI BREAST BILATERAL W  WO-51972\\\\3.000000-ax t1-40797/1-40.dcm', 'E:\\\\Internship Mass storage\\\\First 3 datasets\\\\Duke_breast_MRI dataset\\\\Duke-Breast-Cancer-MRI\\\\Breast_MRI_002\\\\01-01-1990-NA-MRI BREAST BILATERAL W  WO-51972\\\\3.000000-ax t1-40797/1-41.dcm', 'E:\\\\Internship Mass storage\\\\First 3 datasets\\\\Duke_breast_MRI dataset\\\\Duke-Breast-Cancer-MRI\\\\Breast_MRI_002\\\\01-01-1990-NA-MRI BREAST BILATERAL W  WO-51972\\\\3.000000-ax t1-40797/1-42.dcm', 'E:\\\\Internship Mass storage\\\\First 3 datasets\\\\Duke_breast_MRI dataset\\\\Duke-Breast-Cancer-MRI\\\\Breast_MRI_002\\\\01-01-1990-NA-MRI BREAST BILATERAL W  WO-51972\\\\3.000000-ax t1-40797/1-43.dcm', 'E:\\\\Internship Mass storage\\\\First 3 datasets\\\\Duke_breast_MRI dataset\\\\Duke-Breast-Cancer-MRI\\\\Breast_MRI_002\\\\01-01-1990-NA-MRI BREAST BILATERAL W  WO-51972\\\\3.000000-ax t1-40797/1-44.dcm', 'E:\\\\Internship Mass storage\\\\First 3 datasets\\\\Duke_breast_MRI dataset\\\\Duke-Breast-Cancer-MRI\\\\Breast_MRI_002\\\\01-01-1990-NA-MRI BREAST BILATERAL W  WO-51972\\\\3.000000-ax t1-40797/1-45.dcm', 'E:\\\\Internship Mass storage\\\\First 3 datasets\\\\Duke_breast_MRI dataset\\\\Duke-Breast-Cancer-MRI\\\\Breast_MRI_002\\\\01-01-1990-NA-MRI BREAST BILATERAL W  WO-51972\\\\3.000000-ax t1-40797/1-46.dcm', 'E:\\\\Internship Mass storage\\\\First 3 datasets\\\\Duke_breast_MRI dataset\\\\Duke-Breast-Cancer-MRI\\\\Breast_MRI_002\\\\01-01-1990-NA-MRI BREAST BILATERAL W  WO-51972\\\\3.000000-ax t1-40797/1-47.dcm', 'E:\\\\Internship Mass storage\\\\First 3 datasets\\\\Duke_breast_MRI dataset\\\\Duke-Breast-Cancer-MRI\\\\Breast_MRI_002\\\\01-01-1990-NA-MRI BREAST BILATERAL W  WO-51972\\\\3.000000-ax t1-40797/1-48.dcm', 'E:\\\\Internship Mass storage\\\\First 3 datasets\\\\Duke_breast_MRI dataset\\\\Duke-Breast-Cancer-MRI\\\\Breast_MRI_002\\\\01-01-1990-NA-MRI BREAST BILATERAL W  WO-51972\\\\3.000000-ax t1-40797/1-49.dcm', 'E:\\\\Internship Mass storage\\\\First 3 datasets\\\\Duke_breast_MRI dataset\\\\Duke-Breast-Cancer-MRI\\\\Breast_MRI_002\\\\01-01-1990-NA-MRI BREAST BILATERAL W  WO-51972\\\\3.000000-ax t1-40797/1-50.dcm', 'E:\\\\Internship Mass storage\\\\First 3 datasets\\\\Duke_breast_MRI dataset\\\\Duke-Breast-Cancer-MRI\\\\Breast_MRI_002\\\\01-01-1990-NA-MRI BREAST BILATERAL W  WO-51972\\\\3.000000-ax t1-40797/1-51.dcm', 'E:\\\\Internship Mass storage\\\\First 3 datasets\\\\Duke_breast_MRI dataset\\\\Duke-Breast-Cancer-MRI\\\\Breast_MRI_002\\\\01-01-1990-NA-MRI BREAST BILATERAL W  WO-51972\\\\3.000000-ax t1-40797/1-52.dcm', 'E:\\\\Internship Mass storage\\\\First 3 datasets\\\\Duke_breast_MRI dataset\\\\Duke-Breast-Cancer-MRI\\\\Breast_MRI_002\\\\01-01-1990-NA-MRI BREAST BILATERAL W  WO-51972\\\\3.000000-ax t1-40797/1-53.dcm', 'E:\\\\Internship Mass storage\\\\First 3 datasets\\\\Duke_breast_MRI dataset\\\\Duke-Breast-Cancer-MRI\\\\Breast_MRI_002\\\\01-01-1990-NA-MRI BREAST BILATERAL W  WO-51972\\\\3.000000-ax t1-40797/1-54.dcm', 'E:\\\\Internship Mass storage\\\\First 3 datasets\\\\Duke_breast_MRI dataset\\\\Duke-Breast-Cancer-MRI\\\\Breast_MRI_002\\\\01-01-1990-NA-MRI BREAST BILATERAL W  WO-51972\\\\3.000000-ax t1-40797/1-55.dcm', 'E:\\\\Internship Mass storage\\\\First 3 datasets\\\\Duke_breast_MRI dataset\\\\Duke-Breast-Cancer-MRI\\\\Breast_MRI_002\\\\01-01-1990-NA-MRI BREAST BILATERAL W  WO-51972\\\\3.000000-ax t1-40797/1-56.dcm', 'E:\\\\Internship Mass storage\\\\First 3 datasets\\\\Duke_breast_MRI dataset\\\\Duke-Breast-Cancer-MRI\\\\Breast_MRI_002\\\\01-01-1990-NA-MRI BREAST BILATERAL W  WO-51972\\\\3.000000-ax t1-40797/1-57.dcm', 'E:\\\\Internship Mass storage\\\\First 3 datasets\\\\Duke_breast_MRI dataset\\\\Duke-Breast-Cancer-MRI\\\\Breast_MRI_002\\\\01-01-1990-NA-MRI BREAST BILATERAL W  WO-51972\\\\3.000000-ax t1-40797/1-58.dcm', 'E:\\\\Internship Mass storage\\\\First 3 datasets\\\\Duke_breast_MRI dataset\\\\Duke-Breast-Cancer-MRI\\\\Breast_MRI_002\\\\01-01-1990-NA-MRI BREAST BILATERAL W  WO-51972\\\\3.000000-ax t1-40797/1-59.dcm', 'E:\\\\Internship Mass storage\\\\First 3 datasets\\\\Duke_breast_MRI dataset\\\\Duke-Breast-Cancer-MRI\\\\Breast_MRI_002\\\\01-01-1990-NA-MRI BREAST BILATERAL W  WO-51972\\\\3.000000-ax t1-40797/1-60.dcm']\n"
     ]
    }
   ],
   "source": [
    "target_folder = r\"E:\\Internship Mass storage\\First 3 datasets\\Duke_breast_MRI dataset\\Duke-Breast-Cancer-MRI\\Breast_MRI_002\\01-01-1990-NA-MRI BREAST BILATERAL W  WO-51972\\3.000000-ax t1-40797\"\n",
    "mypath = target_folder\n",
    "onlyfiles = [f for f in listdir(mypath) if isfile(join(mypath, f))]\n",
    "filepaths = [target_folder + \"/\" + s for s in onlyfiles]\n",
    "print(filepaths)"
   ]
  },
  {
   "cell_type": "code",
   "execution_count": 42,
   "id": "e1b7c557",
   "metadata": {},
   "outputs": [],
   "source": [
    "from os import listdir\n",
    "from os.path import isfile, join\n",
    "mypath = target_folder\n",
    "onlyfiles = [f for f in listdir(mypath) if isfile(join(mypath, f))]\n",
    "testdict = {}\n",
    "sorteddict = {}\n",
    "for x in onlyfiles: # for loop to make a dictionary with all the filenames\n",
    "    tempfile = mypath + \"/\" + str(x)\n",
    "    testds = dcmread(tempfile)\n",
    "    position = testds.ImagePositionPatient[2]\n",
    "    testdict.update({tempfile: position})\n",
    "\n",
    "    #then put them in another dictionary ordered by z-coordinate by first retrieving the key and value for the highest value and then using a while loop to each time add the highest value to the sorted dictionary and then removing it from the first \n",
    "highestkey = max(testdict, key=testdict.get)\n",
    "highestvalue = testdict[highestkey]       \n",
    "while len(testdict) > 0:\n",
    "    highestkey = max(testdict, key=testdict.get)\n",
    "    highestvalue = testdict[highestkey]\n",
    "    sorteddict.update({highestkey: highestvalue})\n",
    "    testdict.pop(highestkey)\n",
    "\n",
    "filetitles = list(sorteddict.keys())\n"
   ]
  },
  {
   "cell_type": "code",
   "execution_count": 75,
   "id": "386dbbb9",
   "metadata": {},
   "outputs": [
    {
     "name": "stdout",
     "output_type": "stream",
     "text": [
      "(512, 512, 60)\n"
     ]
    }
   ],
   "source": [
    "# got this code from: https://gist.github.com/somada141/8dd67a02e330a657cf9e\n",
    "RefDs = pydicom.read_file(filetitles[0])\n",
    "ConstPixelDims = (int(RefDs.Rows), int(RefDs.Columns), len(filetitles))\n",
    "print(ConstPixelDims)\n",
    "ConstPixelSpacing = (float(RefDs.PixelSpacing[0]), float(RefDs.PixelSpacing[1]), float(RefDs.SliceThickness))"
   ]
  },
  {
   "cell_type": "code",
   "execution_count": 44,
   "id": "b518054a",
   "metadata": {},
   "outputs": [],
   "source": [
    "ArrayDicom = numpy.zeros(ConstPixelDims, dtype=RefDs.pixel_array.dtype)"
   ]
  },
  {
   "cell_type": "code",
   "execution_count": 67,
   "id": "e52a5d96",
   "metadata": {},
   "outputs": [],
   "source": [
    "for filenameDCM in filetitles: \n",
    "    # read the file\n",
    "    ds = pydicom.read_file(filenameDCM)\n",
    "    \n",
    "    # store the raw image data\n",
    "    ArrayDicom[:, :, filetitles.index(filenameDCM)] = ds.pixel_array"
   ]
  },
  {
   "cell_type": "code",
   "execution_count": 46,
   "id": "9de9fa46",
   "metadata": {},
   "outputs": [
    {
     "name": "stdout",
     "output_type": "stream",
     "text": [
      "[[0 0 0 ... 0 0 0]\n",
      " [0 0 0 ... 0 0 0]\n",
      " [0 0 0 ... 0 0 0]\n",
      " ...\n",
      " [0 0 0 ... 0 0 0]\n",
      " [0 0 0 ... 0 0 0]\n",
      " [0 0 0 ... 0 0 0]]\n"
     ]
    }
   ],
   "source": [
    "print(ds.pixel_array)"
   ]
  },
  {
   "cell_type": "code",
   "execution_count": 52,
   "id": "ebef8b24",
   "metadata": {},
   "outputs": [
    {
     "data": {
      "application/vnd.jupyter.widget-view+json": {
       "model_id": "245dc56ad56b4e96a47b16d14963e381",
       "version_major": 2,
       "version_minor": 0
      },
      "text/plain": [
       "interactive(children=(IntSlider(value=29, description='x', max=59), Output()), _dom_classes=('widget-interact'…"
      ]
     },
     "metadata": {},
     "output_type": "display_data"
    },
    {
     "data": {
      "text/plain": [
       "<function __main__.imageselector(x)>"
      ]
     },
     "execution_count": 52,
     "metadata": {},
     "output_type": "execute_result"
    },
    {
     "data": {
      "image/png": "[encoded data removed]",
      "text/plain": [
       "<Figure size 1440x720 with 1 Axes>"
      ]
     },
     "metadata": {
      "needs_background": "light"
     },
     "output_type": "display_data"
    }
   ],
   "source": [
    "def show_image(slice):\n",
    "    plt.imshow(ds.pixel_array, cmap=plt.cm.bone)\n",
    "    \n",
    "n = len(sorteddict)\n",
    "def imageselector(x):\n",
    "    plt.figure(figsize=(20,10))\n",
    "    plt.title(\"Image file: \" + filetitles[x])\n",
    "    show_image(filetitles[x])\n",
    "    plt.axis('off')\n",
    "interact(imageselector, x = (0, n-1))"
   ]
  },
  {
   "cell_type": "code",
   "execution_count": 65,
   "id": "46b2f93e",
   "metadata": {},
   "outputs": [
    {
     "ename": "IndexError",
     "evalue": "too many indices for array: array is 2-dimensional, but 3 were indexed",
     "output_type": "error",
     "traceback": [
      "\u001b[1;31m---------------------------------------------------------------------------\u001b[0m",
      "\u001b[1;31mIndexError\u001b[0m                                Traceback (most recent call last)",
      "\u001b[1;32m~\\AppData\\Local\\Temp/ipykernel_19044/1620031516.py\u001b[0m in \u001b[0;36m<module>\u001b[1;34m\u001b[0m\n\u001b[1;32m----> 1\u001b[1;33m \u001b[0mplt\u001b[0m\u001b[1;33m.\u001b[0m\u001b[0mimshow\u001b[0m\u001b[1;33m(\u001b[0m\u001b[0mds\u001b[0m\u001b[1;33m.\u001b[0m\u001b[0mpixel_array\u001b[0m\u001b[1;33m[\u001b[0m\u001b[0mint\u001b[0m\u001b[1;33m(\u001b[0m\u001b[0mRefDs\u001b[0m\u001b[1;33m.\u001b[0m\u001b[0mRows\u001b[0m\u001b[1;33m)\u001b[0m \u001b[1;33m-\u001b[0m \u001b[1;36m1\u001b[0m\u001b[1;33m,\u001b[0m\u001b[0mint\u001b[0m\u001b[1;33m(\u001b[0m\u001b[0mRefDs\u001b[0m\u001b[1;33m.\u001b[0m\u001b[0mColumns\u001b[0m\u001b[1;33m)\u001b[0m \u001b[1;33m-\u001b[0m\u001b[1;36m1\u001b[0m\u001b[1;33m,\u001b[0m \u001b[1;36m3\u001b[0m\u001b[1;33m]\u001b[0m\u001b[1;33m)\u001b[0m\u001b[1;33m\u001b[0m\u001b[1;33m\u001b[0m\u001b[0m\n\u001b[0m",
      "\u001b[1;31mIndexError\u001b[0m: too many indices for array: array is 2-dimensional, but 3 were indexed"
     ]
    }
   ],
   "source": [
    "plt.imshow(ds.pixel_array[int(RefDs.Rows) - 1,int(RefDs.Columns) -1, 3])"
   ]
  },
  {
   "cell_type": "code",
   "execution_count": 71,
   "id": "f5b72548",
   "metadata": {},
   "outputs": [
    {
     "name": "stdout",
     "output_type": "stream",
     "text": [
      "         Patient ID  Start Row  End Row  Start Column  End Column  \\\n",
      "0    Breast_MRI_001        234      271           308         341   \n",
      "1    Breast_MRI_002        251      294           108         136   \n",
      "2    Breast_MRI_003        351      412            82         139   \n",
      "3    Breast_MRI_004        262      280           193         204   \n",
      "4    Breast_MRI_005        188      213           138         178   \n",
      "..              ...        ...      ...           ...         ...   \n",
      "917  Breast_MRI_918        345      395           338         395   \n",
      "918  Breast_MRI_919        285      312           369         397   \n",
      "919  Breast_MRI_920        172      193           337         355   \n",
      "920  Breast_MRI_921        328      374           404         446   \n",
      "921  Breast_MRI_922        258      270           149         164   \n",
      "\n",
      "     Start Slice  End Slice  \n",
      "0             89        112  \n",
      "1             59         72  \n",
      "2             96        108  \n",
      "3             86         95  \n",
      "4             76        122  \n",
      "..           ...        ...  \n",
      "917           62         85  \n",
      "918           98        109  \n",
      "919           87        101  \n",
      "920           97        121  \n",
      "921           82         92  \n",
      "\n",
      "[922 rows x 7 columns]\n"
     ]
    }
   ],
   "source": [
    "df = pd.read_excel (r'E:\\Internship Mass storage\\First 3 datasets\\Duke_breast_MRI dataset\\Annotation_Boxes.xlsx')\n",
    "print (df)"
   ]
  },
  {
   "cell_type": "code",
   "execution_count": 76,
   "id": "03cd849b",
   "metadata": {},
   "outputs": [
    {
     "data": {
      "text/plain": [
       "array(['Breast_MRI_002', 251, 294, 108, 136, 59, 72], dtype=object)"
      ]
     },
     "execution_count": 76,
     "metadata": {},
     "output_type": "execute_result"
    }
   ],
   "source": [
    "test = df.iloc[1]\n",
    "maskstats = pd.Series(test).values\n",
    "pd.Series(test).values"
   ]
  },
  {
   "cell_type": "code",
   "execution_count": 66,
   "id": "67f0fd38",
   "metadata": {},
   "outputs": [],
   "source": [
    "ArrayMask = numpy.zeros(ConstPixelDims, dtype=RefDs.pixel_array.dtype)\n",
    "\n",
    "for x in range (maskstats[1],maskstats[2]):\n",
    "    for y in range (maskstats[3],maskstats[4]):\n",
    "        for z in range (maskstats[5],maskstats[6]):\n",
    "            ArrayMask[x,y,z] = 1\n"
   ]
  },
  {
   "cell_type": "code",
   "execution_count": null,
   "id": "530dd1dc",
   "metadata": {},
   "outputs": [],
   "source": []
  }
 ],
 "metadata": {
  "kernelspec": {
   "display_name": "Python 3 (ipykernel)",
   "language": "python",
   "name": "python3"
  },
  "language_info": {
   "codemirror_mode": {
    "name": "ipython",
    "version": 3
   },
   "file_extension": ".py",
   "mimetype": "text/x-python",
   "name": "python",
   "nbconvert_exporter": "python",
   "pygments_lexer": "ipython3",
   "version": "3.9.7"
  }
 },
 "nbformat": 4,
 "nbformat_minor": 5
}
