{
 "cells": [
  {
   "cell_type": "code",
   "execution_count": 1,
   "id": "b57c2930",
   "metadata": {},
   "outputs": [],
   "source": [
    "import os,sys\n",
    "from AnalysisBoxTest import AnalysisBox\n",
    "from FeaturesSetTest import FeaturesSet\n",
    "\n",
    "import pandas as pd"
   ]
  },
  {
   "cell_type": "code",
   "execution_count": 2,
   "id": "88d4e877",
   "metadata": {},
   "outputs": [],
   "source": [
    "parameters = {\n",
    "    'feature_path': r\"E:\\Internship Mass storage\\First 3 datasets\\VALDO dataset/extracted_features.xlsx\", # path to csv/xls file with features\n",
    "    'outcome_path': \"\", #unknown\n",
    "    'patient_column': 'Patient', # name of column with patient ID\n",
    "    'patient_in_outcome_column': 'PatientID', # name of column with patient ID in clinical data file\n",
    "    'outcome_column': '1yearsurvival' # name of outcome column\n",
    "}"
   ]
  },
  {
   "cell_type": "code",
   "execution_count": 3,
   "id": "35c0bdf0",
   "metadata": {},
   "outputs": [
    {
     "name": "stdout",
     "output_type": "stream",
     "text": [
      "Number of observations: 0\n",
      "Class labels: []\n",
      "Classes balance: []\n"
     ]
    }
   ],
   "source": [
    "fs = AnalysisBox(**parameters)"
   ]
  },
  {
   "cell_type": "code",
   "execution_count": 4,
   "id": "e5e2edd6",
   "metadata": {},
   "outputs": [],
   "source": [
    "#print ('Patient IDs: ', fs._patient_name[:10]) both based on outcome file which is not presented in this dataset\n",
    "#print ('\\nFeature names: ', fs._feature_column[:10])"
   ]
  },
  {
   "cell_type": "code",
   "execution_count": 4,
   "id": "dbd2eec2",
   "metadata": {},
   "outputs": [],
   "source": [
    "# put this here for the mutliclass setup: fs._feature_outcome_dataframe[fs._feature_outcome_dataframe['Overall.Stage'].isnull()]\n",
    "#fs.handle_nan(axis=0)\n",
    "\n"
   ]
  },
  {
   "cell_type": "code",
   "execution_count": 10,
   "id": "e17e40c9",
   "metadata": {},
   "outputs": [],
   "source": [
    "#fs._feature_outcome_dataframe.head(5) # not included in multiclass setup"
   ]
  },
  {
   "cell_type": "code",
   "execution_count": 4,
   "id": "7cab7276",
   "metadata": {},
   "outputs": [
    {
     "name": "stdout",
     "output_type": "stream",
     "text": [
      "Outcome column should be presented\n"
     ]
    }
   ],
   "source": [
    "fs.plot_distribution(fs._feature_column[:8]) # add: fs.plot_distribution(fs._feature_column[:8], ['I', 'IIIb'])"
   ]
  },
  {
   "cell_type": "code",
   "execution_count": 5,
   "id": "a9aac944",
   "metadata": {},
   "outputs": [
    {
     "name": "stdout",
     "output_type": "stream",
     "text": [
      "Outcome column should be presented\n"
     ]
    }
   ],
   "source": [
    "fs.plot_MW_p(fs._feature_column[:8]) # change for mutliclass to: fs.plot_MW_p(fs._feature_column[:100], ['I', 'IIIb'])"
   ]
  },
  {
   "cell_type": "code",
   "execution_count": 6,
   "id": "4b1f807a",
   "metadata": {},
   "outputs": [],
   "source": [
    "fs.plot_correlation_matrix(fs._feature_column[:]) # not included in multiclass instead: fs.plot_distribution(fs._feature_column[:8], ['I', 'IIIb'])\n"
   ]
  },
  {
   "cell_type": "code",
   "execution_count": 11,
   "id": "d4ce6cd8",
   "metadata": {},
   "outputs": [
    {
     "name": "stdout",
     "output_type": "stream",
     "text": [
      "Outcome column should be presented\n"
     ]
    }
   ],
   "source": [
    "fs.plot_univariate_roc(fs._feature_column[:8], auc_threshold=0.70) # change for mutliclass to: fs.plot_univariate_roc(fs._feature_column[:100], ['I', 'IIIb'])"
   ]
  },
  {
   "cell_type": "code",
   "execution_count": 7,
   "id": "3492076c",
   "metadata": {},
   "outputs": [],
   "source": [
    "fs.calculate_basic_stats(volume_feature='original_shape_VoxelVolume')"
   ]
  },
  {
   "cell_type": "code",
   "execution_count": 8,
   "id": "70408fcd",
   "metadata": {},
   "outputs": [
    {
     "name": "stdout",
     "output_type": "stream",
     "text": [
      "Basic statistics for each feature\n"
     ]
    },
    {
     "data": {
      "text/html": [
       "<div>\n",
       "<style scoped>\n",
       "    .dataframe tbody tr th:only-of-type {\n",
       "        vertical-align: middle;\n",
       "    }\n",
       "\n",
       "    .dataframe tbody tr th {\n",
       "        vertical-align: top;\n",
       "    }\n",
       "\n",
       "    .dataframe thead th {\n",
       "        text-align: right;\n",
       "    }\n",
       "</style>\n",
       "<table border=\"1\" class=\"dataframe\">\n",
       "  <thead>\n",
       "    <tr style=\"text-align: right;\">\n",
       "      <th></th>\n",
       "      <th>Unnamed: 0</th>\n",
       "      <th>NaN</th>\n",
       "      <th>Mean</th>\n",
       "      <th>Std</th>\n",
       "      <th>Min</th>\n",
       "      <th>Max</th>\n",
       "      <th>volume_corr</th>\n",
       "    </tr>\n",
       "  </thead>\n",
       "  <tbody>\n",
       "    <tr>\n",
       "      <th>0</th>\n",
       "      <td>original_shape_Elongation</td>\n",
       "      <td>0</td>\n",
       "      <td>0.663059</td>\n",
       "      <td>0.192222</td>\n",
       "      <td>0.198544</td>\n",
       "      <td>1.000000</td>\n",
       "      <td>-0.213153</td>\n",
       "    </tr>\n",
       "    <tr>\n",
       "      <th>1</th>\n",
       "      <td>original_shape_Flatness</td>\n",
       "      <td>0</td>\n",
       "      <td>0.036802</td>\n",
       "      <td>0.138309</td>\n",
       "      <td>0.000000</td>\n",
       "      <td>0.781392</td>\n",
       "      <td>0.422140</td>\n",
       "    </tr>\n",
       "    <tr>\n",
       "      <th>2</th>\n",
       "      <td>original_shape_LeastAxisLength</td>\n",
       "      <td>0</td>\n",
       "      <td>0.186606</td>\n",
       "      <td>0.704983</td>\n",
       "      <td>0.000000</td>\n",
       "      <td>4.566883</td>\n",
       "      <td>0.423027</td>\n",
       "    </tr>\n",
       "    <tr>\n",
       "      <th>3</th>\n",
       "      <td>original_shape_MajorAxisLength</td>\n",
       "      <td>0</td>\n",
       "      <td>4.867346</td>\n",
       "      <td>2.024737</td>\n",
       "      <td>2.000000</td>\n",
       "      <td>15.593099</td>\n",
       "      <td>0.834929</td>\n",
       "    </tr>\n",
       "    <tr>\n",
       "      <th>4</th>\n",
       "      <td>original_shape_Maximum2DDiameterColumn</td>\n",
       "      <td>0</td>\n",
       "      <td>4.004013</td>\n",
       "      <td>1.306069</td>\n",
       "      <td>2.000000</td>\n",
       "      <td>12.000000</td>\n",
       "      <td>0.718541</td>\n",
       "    </tr>\n",
       "    <tr>\n",
       "      <th>...</th>\n",
       "      <td>...</td>\n",
       "      <td>...</td>\n",
       "      <td>...</td>\n",
       "      <td>...</td>\n",
       "      <td>...</td>\n",
       "      <td>...</td>\n",
       "      <td>...</td>\n",
       "    </tr>\n",
       "    <tr>\n",
       "      <th>95</th>\n",
       "      <td>original_gldm_LargeDependenceLowGrayLevelEmphasis</td>\n",
       "      <td>0</td>\n",
       "      <td>0.192627</td>\n",
       "      <td>0.253471</td>\n",
       "      <td>0.019757</td>\n",
       "      <td>2.000256</td>\n",
       "      <td>-0.654496</td>\n",
       "    </tr>\n",
       "    <tr>\n",
       "      <th>96</th>\n",
       "      <td>original_gldm_LowGrayLevelEmphasis</td>\n",
       "      <td>0</td>\n",
       "      <td>0.118643</td>\n",
       "      <td>0.060384</td>\n",
       "      <td>0.018063</td>\n",
       "      <td>0.500256</td>\n",
       "      <td>-0.857134</td>\n",
       "    </tr>\n",
       "    <tr>\n",
       "      <th>97</th>\n",
       "      <td>original_gldm_SmallDependenceEmphasis</td>\n",
       "      <td>0</td>\n",
       "      <td>0.881253</td>\n",
       "      <td>0.128045</td>\n",
       "      <td>0.250000</td>\n",
       "      <td>1.000000</td>\n",
       "      <td>-0.213706</td>\n",
       "    </tr>\n",
       "    <tr>\n",
       "      <th>98</th>\n",
       "      <td>original_gldm_SmallDependenceHighGrayLevelEmph...</td>\n",
       "      <td>0</td>\n",
       "      <td>791.024647</td>\n",
       "      <td>214.821796</td>\n",
       "      <td>212.500000</td>\n",
       "      <td>1585.750000</td>\n",
       "      <td>-0.200830</td>\n",
       "    </tr>\n",
       "    <tr>\n",
       "      <th>99</th>\n",
       "      <td>original_gldm_SmallDependenceLowGrayLevelEmphasis</td>\n",
       "      <td>0</td>\n",
       "      <td>0.101013</td>\n",
       "      <td>0.050253</td>\n",
       "      <td>0.005451</td>\n",
       "      <td>0.333686</td>\n",
       "      <td>-0.917937</td>\n",
       "    </tr>\n",
       "  </tbody>\n",
       "</table>\n",
       "<p>100 rows × 7 columns</p>\n",
       "</div>"
      ],
      "text/plain": [
       "                                           Unnamed: 0  NaN        Mean  \\\n",
       "0                           original_shape_Elongation    0    0.663059   \n",
       "1                             original_shape_Flatness    0    0.036802   \n",
       "2                      original_shape_LeastAxisLength    0    0.186606   \n",
       "3                      original_shape_MajorAxisLength    0    4.867346   \n",
       "4              original_shape_Maximum2DDiameterColumn    0    4.004013   \n",
       "..                                                ...  ...         ...   \n",
       "95  original_gldm_LargeDependenceLowGrayLevelEmphasis    0    0.192627   \n",
       "96                 original_gldm_LowGrayLevelEmphasis    0    0.118643   \n",
       "97              original_gldm_SmallDependenceEmphasis    0    0.881253   \n",
       "98  original_gldm_SmallDependenceHighGrayLevelEmph...    0  791.024647   \n",
       "99  original_gldm_SmallDependenceLowGrayLevelEmphasis    0    0.101013   \n",
       "\n",
       "           Std         Min          Max  volume_corr  \n",
       "0     0.192222    0.198544     1.000000    -0.213153  \n",
       "1     0.138309    0.000000     0.781392     0.422140  \n",
       "2     0.704983    0.000000     4.566883     0.423027  \n",
       "3     2.024737    2.000000    15.593099     0.834929  \n",
       "4     1.306069    2.000000    12.000000     0.718541  \n",
       "..         ...         ...          ...          ...  \n",
       "95    0.253471    0.019757     2.000256    -0.654496  \n",
       "96    0.060384    0.018063     0.500256    -0.857134  \n",
       "97    0.128045    0.250000     1.000000    -0.213706  \n",
       "98  214.821796  212.500000  1585.750000    -0.200830  \n",
       "99    0.050253    0.005451     0.333686    -0.917937  \n",
       "\n",
       "[100 rows x 7 columns]"
      ]
     },
     "execution_count": 8,
     "metadata": {},
     "output_type": "execute_result"
    }
   ],
   "source": [
    "print('Basic statistics for each feature')\n",
    "pd.read_excel(r'E:\\Internship Mass storage\\First 3 datasets\\VALDO dataset/extracted_features_basic_stats.xlsx')"
   ]
  },
  {
   "cell_type": "code",
   "execution_count": 15,
   "id": "389ef0f8",
   "metadata": {},
   "outputs": [],
   "source": [
    "#fs.volume_analysis(volume_feature='original_shape_VoxelVolume')"
   ]
  },
  {
   "cell_type": "code",
   "execution_count": null,
   "id": "538ef936",
   "metadata": {},
   "outputs": [],
   "source": []
  }
 ],
 "metadata": {
  "kernelspec": {
   "display_name": "Python 3 (ipykernel)",
   "language": "python",
   "name": "python3"
  },
  "language_info": {
   "codemirror_mode": {
    "name": "ipython",
    "version": 3
   },
   "file_extension": ".py",
   "mimetype": "text/x-python",
   "name": "python",
   "nbconvert_exporter": "python",
   "pygments_lexer": "ipython3",
   "version": "3.9.7"
  }
 },
 "nbformat": 4,
 "nbformat_minor": 5
}
