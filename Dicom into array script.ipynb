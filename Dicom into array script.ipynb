{
 "cells": [
  {
   "cell_type": "code",
   "execution_count": 23,
   "id": "efe6d8dc",
   "metadata": {},
   "outputs": [],
   "source": [
    "import pydicom\n",
    "import os\n",
    "import numpy\n",
    "from os import listdir\n",
    "from os.path import isfile, join\n",
    "import pandas as pd"
   ]
  },
  {
   "cell_type": "code",
   "execution_count": 9,
   "id": "e651d9e6",
   "metadata": {},
   "outputs": [
    {
     "name": "stdout",
     "output_type": "stream",
     "text": [
      "['E:\\\\Internship Mass storage\\\\First 3 datasets\\\\Duke_breast_MRI dataset\\\\Duke-Breast-Cancer-MRI\\\\Breast_MRI_002\\\\01-01-1990-NA-MRI BREAST BILATERAL W  WO-51972\\\\3.000000-ax t1-40797/1-01.dcm', 'E:\\\\Internship Mass storage\\\\First 3 datasets\\\\Duke_breast_MRI dataset\\\\Duke-Breast-Cancer-MRI\\\\Breast_MRI_002\\\\01-01-1990-NA-MRI BREAST BILATERAL W  WO-51972\\\\3.000000-ax t1-40797/1-02.dcm', 'E:\\\\Internship Mass storage\\\\First 3 datasets\\\\Duke_breast_MRI dataset\\\\Duke-Breast-Cancer-MRI\\\\Breast_MRI_002\\\\01-01-1990-NA-MRI BREAST BILATERAL W  WO-51972\\\\3.000000-ax t1-40797/1-03.dcm', 'E:\\\\Internship Mass storage\\\\First 3 datasets\\\\Duke_breast_MRI dataset\\\\Duke-Breast-Cancer-MRI\\\\Breast_MRI_002\\\\01-01-1990-NA-MRI BREAST BILATERAL W  WO-51972\\\\3.000000-ax t1-40797/1-04.dcm', 'E:\\\\Internship Mass storage\\\\First 3 datasets\\\\Duke_breast_MRI dataset\\\\Duke-Breast-Cancer-MRI\\\\Breast_MRI_002\\\\01-01-1990-NA-MRI BREAST BILATERAL W  WO-51972\\\\3.000000-ax t1-40797/1-05.dcm', 'E:\\\\Internship Mass storage\\\\First 3 datasets\\\\Duke_breast_MRI dataset\\\\Duke-Breast-Cancer-MRI\\\\Breast_MRI_002\\\\01-01-1990-NA-MRI BREAST BILATERAL W  WO-51972\\\\3.000000-ax t1-40797/1-06.dcm', 'E:\\\\Internship Mass storage\\\\First 3 datasets\\\\Duke_breast_MRI dataset\\\\Duke-Breast-Cancer-MRI\\\\Breast_MRI_002\\\\01-01-1990-NA-MRI BREAST BILATERAL W  WO-51972\\\\3.000000-ax t1-40797/1-07.dcm', 'E:\\\\Internship Mass storage\\\\First 3 datasets\\\\Duke_breast_MRI dataset\\\\Duke-Breast-Cancer-MRI\\\\Breast_MRI_002\\\\01-01-1990-NA-MRI BREAST BILATERAL W  WO-51972\\\\3.000000-ax t1-40797/1-08.dcm', 'E:\\\\Internship Mass storage\\\\First 3 datasets\\\\Duke_breast_MRI dataset\\\\Duke-Breast-Cancer-MRI\\\\Breast_MRI_002\\\\01-01-1990-NA-MRI BREAST BILATERAL W  WO-51972\\\\3.000000-ax t1-40797/1-09.dcm', 'E:\\\\Internship Mass storage\\\\First 3 datasets\\\\Duke_breast_MRI dataset\\\\Duke-Breast-Cancer-MRI\\\\Breast_MRI_002\\\\01-01-1990-NA-MRI BREAST BILATERAL W  WO-51972\\\\3.000000-ax t1-40797/1-10.dcm', 'E:\\\\Internship Mass storage\\\\First 3 datasets\\\\Duke_breast_MRI dataset\\\\Duke-Breast-Cancer-MRI\\\\Breast_MRI_002\\\\01-01-1990-NA-MRI BREAST BILATERAL W  WO-51972\\\\3.000000-ax t1-40797/1-11.dcm', 'E:\\\\Internship Mass storage\\\\First 3 datasets\\\\Duke_breast_MRI dataset\\\\Duke-Breast-Cancer-MRI\\\\Breast_MRI_002\\\\01-01-1990-NA-MRI BREAST BILATERAL W  WO-51972\\\\3.000000-ax t1-40797/1-12.dcm', 'E:\\\\Internship Mass storage\\\\First 3 datasets\\\\Duke_breast_MRI dataset\\\\Duke-Breast-Cancer-MRI\\\\Breast_MRI_002\\\\01-01-1990-NA-MRI BREAST BILATERAL W  WO-51972\\\\3.000000-ax t1-40797/1-13.dcm', 'E:\\\\Internship Mass storage\\\\First 3 datasets\\\\Duke_breast_MRI dataset\\\\Duke-Breast-Cancer-MRI\\\\Breast_MRI_002\\\\01-01-1990-NA-MRI BREAST BILATERAL W  WO-51972\\\\3.000000-ax t1-40797/1-14.dcm', 'E:\\\\Internship Mass storage\\\\First 3 datasets\\\\Duke_breast_MRI dataset\\\\Duke-Breast-Cancer-MRI\\\\Breast_MRI_002\\\\01-01-1990-NA-MRI BREAST BILATERAL W  WO-51972\\\\3.000000-ax t1-40797/1-15.dcm', 'E:\\\\Internship Mass storage\\\\First 3 datasets\\\\Duke_breast_MRI dataset\\\\Duke-Breast-Cancer-MRI\\\\Breast_MRI_002\\\\01-01-1990-NA-MRI BREAST BILATERAL W  WO-51972\\\\3.000000-ax t1-40797/1-16.dcm', 'E:\\\\Internship Mass storage\\\\First 3 datasets\\\\Duke_breast_MRI dataset\\\\Duke-Breast-Cancer-MRI\\\\Breast_MRI_002\\\\01-01-1990-NA-MRI BREAST BILATERAL W  WO-51972\\\\3.000000-ax t1-40797/1-17.dcm', 'E:\\\\Internship Mass storage\\\\First 3 datasets\\\\Duke_breast_MRI dataset\\\\Duke-Breast-Cancer-MRI\\\\Breast_MRI_002\\\\01-01-1990-NA-MRI BREAST BILATERAL W  WO-51972\\\\3.000000-ax t1-40797/1-18.dcm', 'E:\\\\Internship Mass storage\\\\First 3 datasets\\\\Duke_breast_MRI dataset\\\\Duke-Breast-Cancer-MRI\\\\Breast_MRI_002\\\\01-01-1990-NA-MRI BREAST BILATERAL W  WO-51972\\\\3.000000-ax t1-40797/1-19.dcm', 'E:\\\\Internship Mass storage\\\\First 3 datasets\\\\Duke_breast_MRI dataset\\\\Duke-Breast-Cancer-MRI\\\\Breast_MRI_002\\\\01-01-1990-NA-MRI BREAST BILATERAL W  WO-51972\\\\3.000000-ax t1-40797/1-20.dcm', 'E:\\\\Internship Mass storage\\\\First 3 datasets\\\\Duke_breast_MRI dataset\\\\Duke-Breast-Cancer-MRI\\\\Breast_MRI_002\\\\01-01-1990-NA-MRI BREAST BILATERAL W  WO-51972\\\\3.000000-ax t1-40797/1-21.dcm', 'E:\\\\Internship Mass storage\\\\First 3 datasets\\\\Duke_breast_MRI dataset\\\\Duke-Breast-Cancer-MRI\\\\Breast_MRI_002\\\\01-01-1990-NA-MRI BREAST BILATERAL W  WO-51972\\\\3.000000-ax t1-40797/1-22.dcm', 'E:\\\\Internship Mass storage\\\\First 3 datasets\\\\Duke_breast_MRI dataset\\\\Duke-Breast-Cancer-MRI\\\\Breast_MRI_002\\\\01-01-1990-NA-MRI BREAST BILATERAL W  WO-51972\\\\3.000000-ax t1-40797/1-23.dcm', 'E:\\\\Internship Mass storage\\\\First 3 datasets\\\\Duke_breast_MRI dataset\\\\Duke-Breast-Cancer-MRI\\\\Breast_MRI_002\\\\01-01-1990-NA-MRI BREAST BILATERAL W  WO-51972\\\\3.000000-ax t1-40797/1-24.dcm', 'E:\\\\Internship Mass storage\\\\First 3 datasets\\\\Duke_breast_MRI dataset\\\\Duke-Breast-Cancer-MRI\\\\Breast_MRI_002\\\\01-01-1990-NA-MRI BREAST BILATERAL W  WO-51972\\\\3.000000-ax t1-40797/1-25.dcm', 'E:\\\\Internship Mass storage\\\\First 3 datasets\\\\Duke_breast_MRI dataset\\\\Duke-Breast-Cancer-MRI\\\\Breast_MRI_002\\\\01-01-1990-NA-MRI BREAST BILATERAL W  WO-51972\\\\3.000000-ax t1-40797/1-26.dcm', 'E:\\\\Internship Mass storage\\\\First 3 datasets\\\\Duke_breast_MRI dataset\\\\Duke-Breast-Cancer-MRI\\\\Breast_MRI_002\\\\01-01-1990-NA-MRI BREAST BILATERAL W  WO-51972\\\\3.000000-ax t1-40797/1-27.dcm', 'E:\\\\Internship Mass storage\\\\First 3 datasets\\\\Duke_breast_MRI dataset\\\\Duke-Breast-Cancer-MRI\\\\Breast_MRI_002\\\\01-01-1990-NA-MRI BREAST BILATERAL W  WO-51972\\\\3.000000-ax t1-40797/1-28.dcm', 'E:\\\\Internship Mass storage\\\\First 3 datasets\\\\Duke_breast_MRI dataset\\\\Duke-Breast-Cancer-MRI\\\\Breast_MRI_002\\\\01-01-1990-NA-MRI BREAST BILATERAL W  WO-51972\\\\3.000000-ax t1-40797/1-29.dcm', 'E:\\\\Internship Mass storage\\\\First 3 datasets\\\\Duke_breast_MRI dataset\\\\Duke-Breast-Cancer-MRI\\\\Breast_MRI_002\\\\01-01-1990-NA-MRI BREAST BILATERAL W  WO-51972\\\\3.000000-ax t1-40797/1-30.dcm', 'E:\\\\Internship Mass storage\\\\First 3 datasets\\\\Duke_breast_MRI dataset\\\\Duke-Breast-Cancer-MRI\\\\Breast_MRI_002\\\\01-01-1990-NA-MRI BREAST BILATERAL W  WO-51972\\\\3.000000-ax t1-40797/1-31.dcm', 'E:\\\\Internship Mass storage\\\\First 3 datasets\\\\Duke_breast_MRI dataset\\\\Duke-Breast-Cancer-MRI\\\\Breast_MRI_002\\\\01-01-1990-NA-MRI BREAST BILATERAL W  WO-51972\\\\3.000000-ax t1-40797/1-32.dcm', 'E:\\\\Internship Mass storage\\\\First 3 datasets\\\\Duke_breast_MRI dataset\\\\Duke-Breast-Cancer-MRI\\\\Breast_MRI_002\\\\01-01-1990-NA-MRI BREAST BILATERAL W  WO-51972\\\\3.000000-ax t1-40797/1-33.dcm', 'E:\\\\Internship Mass storage\\\\First 3 datasets\\\\Duke_breast_MRI dataset\\\\Duke-Breast-Cancer-MRI\\\\Breast_MRI_002\\\\01-01-1990-NA-MRI BREAST BILATERAL W  WO-51972\\\\3.000000-ax t1-40797/1-34.dcm', 'E:\\\\Internship Mass storage\\\\First 3 datasets\\\\Duke_breast_MRI dataset\\\\Duke-Breast-Cancer-MRI\\\\Breast_MRI_002\\\\01-01-1990-NA-MRI BREAST BILATERAL W  WO-51972\\\\3.000000-ax t1-40797/1-35.dcm', 'E:\\\\Internship Mass storage\\\\First 3 datasets\\\\Duke_breast_MRI dataset\\\\Duke-Breast-Cancer-MRI\\\\Breast_MRI_002\\\\01-01-1990-NA-MRI BREAST BILATERAL W  WO-51972\\\\3.000000-ax t1-40797/1-36.dcm', 'E:\\\\Internship Mass storage\\\\First 3 datasets\\\\Duke_breast_MRI dataset\\\\Duke-Breast-Cancer-MRI\\\\Breast_MRI_002\\\\01-01-1990-NA-MRI BREAST BILATERAL W  WO-51972\\\\3.000000-ax t1-40797/1-37.dcm', 'E:\\\\Internship Mass storage\\\\First 3 datasets\\\\Duke_breast_MRI dataset\\\\Duke-Breast-Cancer-MRI\\\\Breast_MRI_002\\\\01-01-1990-NA-MRI BREAST BILATERAL W  WO-51972\\\\3.000000-ax t1-40797/1-38.dcm', 'E:\\\\Internship Mass storage\\\\First 3 datasets\\\\Duke_breast_MRI dataset\\\\Duke-Breast-Cancer-MRI\\\\Breast_MRI_002\\\\01-01-1990-NA-MRI BREAST BILATERAL W  WO-51972\\\\3.000000-ax t1-40797/1-39.dcm', 'E:\\\\Internship Mass storage\\\\First 3 datasets\\\\Duke_breast_MRI dataset\\\\Duke-Breast-Cancer-MRI\\\\Breast_MRI_002\\\\01-01-1990-NA-MRI BREAST BILATERAL W  WO-51972\\\\3.000000-ax t1-40797/1-40.dcm', 'E:\\\\Internship Mass storage\\\\First 3 datasets\\\\Duke_breast_MRI dataset\\\\Duke-Breast-Cancer-MRI\\\\Breast_MRI_002\\\\01-01-1990-NA-MRI BREAST BILATERAL W  WO-51972\\\\3.000000-ax t1-40797/1-41.dcm', 'E:\\\\Internship Mass storage\\\\First 3 datasets\\\\Duke_breast_MRI dataset\\\\Duke-Breast-Cancer-MRI\\\\Breast_MRI_002\\\\01-01-1990-NA-MRI BREAST BILATERAL W  WO-51972\\\\3.000000-ax t1-40797/1-42.dcm', 'E:\\\\Internship Mass storage\\\\First 3 datasets\\\\Duke_breast_MRI dataset\\\\Duke-Breast-Cancer-MRI\\\\Breast_MRI_002\\\\01-01-1990-NA-MRI BREAST BILATERAL W  WO-51972\\\\3.000000-ax t1-40797/1-43.dcm', 'E:\\\\Internship Mass storage\\\\First 3 datasets\\\\Duke_breast_MRI dataset\\\\Duke-Breast-Cancer-MRI\\\\Breast_MRI_002\\\\01-01-1990-NA-MRI BREAST BILATERAL W  WO-51972\\\\3.000000-ax t1-40797/1-44.dcm', 'E:\\\\Internship Mass storage\\\\First 3 datasets\\\\Duke_breast_MRI dataset\\\\Duke-Breast-Cancer-MRI\\\\Breast_MRI_002\\\\01-01-1990-NA-MRI BREAST BILATERAL W  WO-51972\\\\3.000000-ax t1-40797/1-45.dcm', 'E:\\\\Internship Mass storage\\\\First 3 datasets\\\\Duke_breast_MRI dataset\\\\Duke-Breast-Cancer-MRI\\\\Breast_MRI_002\\\\01-01-1990-NA-MRI BREAST BILATERAL W  WO-51972\\\\3.000000-ax t1-40797/1-46.dcm', 'E:\\\\Internship Mass storage\\\\First 3 datasets\\\\Duke_breast_MRI dataset\\\\Duke-Breast-Cancer-MRI\\\\Breast_MRI_002\\\\01-01-1990-NA-MRI BREAST BILATERAL W  WO-51972\\\\3.000000-ax t1-40797/1-47.dcm', 'E:\\\\Internship Mass storage\\\\First 3 datasets\\\\Duke_breast_MRI dataset\\\\Duke-Breast-Cancer-MRI\\\\Breast_MRI_002\\\\01-01-1990-NA-MRI BREAST BILATERAL W  WO-51972\\\\3.000000-ax t1-40797/1-48.dcm', 'E:\\\\Internship Mass storage\\\\First 3 datasets\\\\Duke_breast_MRI dataset\\\\Duke-Breast-Cancer-MRI\\\\Breast_MRI_002\\\\01-01-1990-NA-MRI BREAST BILATERAL W  WO-51972\\\\3.000000-ax t1-40797/1-49.dcm', 'E:\\\\Internship Mass storage\\\\First 3 datasets\\\\Duke_breast_MRI dataset\\\\Duke-Breast-Cancer-MRI\\\\Breast_MRI_002\\\\01-01-1990-NA-MRI BREAST BILATERAL W  WO-51972\\\\3.000000-ax t1-40797/1-50.dcm', 'E:\\\\Internship Mass storage\\\\First 3 datasets\\\\Duke_breast_MRI dataset\\\\Duke-Breast-Cancer-MRI\\\\Breast_MRI_002\\\\01-01-1990-NA-MRI BREAST BILATERAL W  WO-51972\\\\3.000000-ax t1-40797/1-51.dcm', 'E:\\\\Internship Mass storage\\\\First 3 datasets\\\\Duke_breast_MRI dataset\\\\Duke-Breast-Cancer-MRI\\\\Breast_MRI_002\\\\01-01-1990-NA-MRI BREAST BILATERAL W  WO-51972\\\\3.000000-ax t1-40797/1-52.dcm', 'E:\\\\Internship Mass storage\\\\First 3 datasets\\\\Duke_breast_MRI dataset\\\\Duke-Breast-Cancer-MRI\\\\Breast_MRI_002\\\\01-01-1990-NA-MRI BREAST BILATERAL W  WO-51972\\\\3.000000-ax t1-40797/1-53.dcm', 'E:\\\\Internship Mass storage\\\\First 3 datasets\\\\Duke_breast_MRI dataset\\\\Duke-Breast-Cancer-MRI\\\\Breast_MRI_002\\\\01-01-1990-NA-MRI BREAST BILATERAL W  WO-51972\\\\3.000000-ax t1-40797/1-54.dcm', 'E:\\\\Internship Mass storage\\\\First 3 datasets\\\\Duke_breast_MRI dataset\\\\Duke-Breast-Cancer-MRI\\\\Breast_MRI_002\\\\01-01-1990-NA-MRI BREAST BILATERAL W  WO-51972\\\\3.000000-ax t1-40797/1-55.dcm', 'E:\\\\Internship Mass storage\\\\First 3 datasets\\\\Duke_breast_MRI dataset\\\\Duke-Breast-Cancer-MRI\\\\Breast_MRI_002\\\\01-01-1990-NA-MRI BREAST BILATERAL W  WO-51972\\\\3.000000-ax t1-40797/1-56.dcm', 'E:\\\\Internship Mass storage\\\\First 3 datasets\\\\Duke_breast_MRI dataset\\\\Duke-Breast-Cancer-MRI\\\\Breast_MRI_002\\\\01-01-1990-NA-MRI BREAST BILATERAL W  WO-51972\\\\3.000000-ax t1-40797/1-57.dcm', 'E:\\\\Internship Mass storage\\\\First 3 datasets\\\\Duke_breast_MRI dataset\\\\Duke-Breast-Cancer-MRI\\\\Breast_MRI_002\\\\01-01-1990-NA-MRI BREAST BILATERAL W  WO-51972\\\\3.000000-ax t1-40797/1-58.dcm', 'E:\\\\Internship Mass storage\\\\First 3 datasets\\\\Duke_breast_MRI dataset\\\\Duke-Breast-Cancer-MRI\\\\Breast_MRI_002\\\\01-01-1990-NA-MRI BREAST BILATERAL W  WO-51972\\\\3.000000-ax t1-40797/1-59.dcm', 'E:\\\\Internship Mass storage\\\\First 3 datasets\\\\Duke_breast_MRI dataset\\\\Duke-Breast-Cancer-MRI\\\\Breast_MRI_002\\\\01-01-1990-NA-MRI BREAST BILATERAL W  WO-51972\\\\3.000000-ax t1-40797/1-60.dcm']\n"
     ]
    }
   ],
   "source": [
    "target_folder = r\"E:\\Internship Mass storage\\First 3 datasets\\Duke_breast_MRI dataset\\Duke-Breast-Cancer-MRI\\Breast_MRI_002\\01-01-1990-NA-MRI BREAST BILATERAL W  WO-51972\\3.000000-ax t1-40797\"\n",
    "mypath = target_folder\n",
    "onlyfiles = [f for f in listdir(mypath) if isfile(join(mypath, f))]\n",
    "filepaths = [target_folder + \"/\" + s for s in onlyfiles]\n",
    "print(filepaths)"
   ]
  },
  {
   "cell_type": "code",
   "execution_count": 36,
   "id": "a68b749d",
   "metadata": {},
   "outputs": [],
   "source": [
    "# got this code from: https://gist.github.com/somada141/8dd67a02e330a657cf9e\n",
    "RefDs = pydicom.read_file(filepaths[0])\n",
    "ConstPixelDims = (int(RefDs.Rows), int(RefDs.Columns), len(filepaths))\n",
    "ConstPixelSpacing = (float(RefDs.PixelSpacing[0]), float(RefDs.PixelSpacing[1]), float(RefDs.SliceThickness))"
   ]
  },
  {
   "cell_type": "code",
   "execution_count": 14,
   "id": "4f1c5f98",
   "metadata": {},
   "outputs": [],
   "source": [
    "ArrayDicom = numpy.zeros(ConstPixelDims, dtype=RefDs.pixel_array.dtype)"
   ]
  },
  {
   "cell_type": "code",
   "execution_count": 16,
   "id": "759e2172",
   "metadata": {},
   "outputs": [],
   "source": [
    "for filenameDCM in filepaths:\n",
    "    # read the file\n",
    "    ds = pydicom.read_file(filenameDCM)\n",
    "    # store the raw image data\n",
    "    ArrayDicom[:, :, filepaths.index(filenameDCM)] = ds.pixel_array"
   ]
  },
  {
   "cell_type": "code",
   "execution_count": 17,
   "id": "57bf174c",
   "metadata": {},
   "outputs": [
    {
     "name": "stdout",
     "output_type": "stream",
     "text": [
      "[[0 0 0 ... 0 0 0]\n",
      " [0 0 0 ... 0 0 0]\n",
      " [0 0 0 ... 0 0 0]\n",
      " ...\n",
      " [0 0 0 ... 0 0 0]\n",
      " [0 0 0 ... 0 0 0]\n",
      " [0 0 0 ... 0 0 0]]\n"
     ]
    }
   ],
   "source": [
    "print(ds.pixel_array)"
   ]
  },
  {
   "cell_type": "code",
   "execution_count": 24,
   "id": "29fece4b",
   "metadata": {},
   "outputs": [
    {
     "name": "stdout",
     "output_type": "stream",
     "text": [
      "         Patient ID  Start Row  End Row  Start Column  End Column  \\\n",
      "0    Breast_MRI_001        234      271           308         341   \n",
      "1    Breast_MRI_002        251      294           108         136   \n",
      "2    Breast_MRI_003        351      412            82         139   \n",
      "3    Breast_MRI_004        262      280           193         204   \n",
      "4    Breast_MRI_005        188      213           138         178   \n",
      "..              ...        ...      ...           ...         ...   \n",
      "917  Breast_MRI_918        345      395           338         395   \n",
      "918  Breast_MRI_919        285      312           369         397   \n",
      "919  Breast_MRI_920        172      193           337         355   \n",
      "920  Breast_MRI_921        328      374           404         446   \n",
      "921  Breast_MRI_922        258      270           149         164   \n",
      "\n",
      "     Start Slice  End Slice  \n",
      "0             89        112  \n",
      "1             59         72  \n",
      "2             96        108  \n",
      "3             86         95  \n",
      "4             76        122  \n",
      "..           ...        ...  \n",
      "917           62         85  \n",
      "918           98        109  \n",
      "919           87        101  \n",
      "920           97        121  \n",
      "921           82         92  \n",
      "\n",
      "[922 rows x 7 columns]\n"
     ]
    }
   ],
   "source": [
    "df = pd.read_excel (r'E:\\Internship Mass storage\\First 3 datasets\\Duke_breast_MRI dataset\\Annotation_Boxes.xlsx')\n",
    "print (df)"
   ]
  },
  {
   "cell_type": "code",
   "execution_count": 32,
   "id": "a9105294",
   "metadata": {},
   "outputs": [
    {
     "data": {
      "text/plain": [
       "pandas.core.series.Series"
      ]
     },
     "execution_count": 32,
     "metadata": {},
     "output_type": "execute_result"
    }
   ],
   "source": [
    "test = df.iloc[1]\n",
    "type(test)"
   ]
  },
  {
   "cell_type": "code",
   "execution_count": 35,
   "id": "fcad973d",
   "metadata": {},
   "outputs": [
    {
     "data": {
      "text/plain": [
       "array(['Breast_MRI_002', 251, 294, 108, 136, 59, 72], dtype=object)"
      ]
     },
     "execution_count": 35,
     "metadata": {},
     "output_type": "execute_result"
    }
   ],
   "source": [
    "patient2 = pd.Series(test).values\n",
    "pd.Series(test).values"
   ]
  },
  {
   "cell_type": "code",
   "execution_count": null,
   "id": "5c5f1d46",
   "metadata": {},
   "outputs": [],
   "source": []
  }
 ],
 "metadata": {
  "kernelspec": {
   "display_name": "Python 3 (ipykernel)",
   "language": "python",
   "name": "python3"
  },
  "language_info": {
   "codemirror_mode": {
    "name": "ipython",
    "version": 3
   },
   "file_extension": ".py",
   "mimetype": "text/x-python",
   "name": "python",
   "nbconvert_exporter": "python",
   "pygments_lexer": "ipython3",
   "version": "3.9.7"
  }
 },
 "nbformat": 4,
 "nbformat_minor": 5
}
