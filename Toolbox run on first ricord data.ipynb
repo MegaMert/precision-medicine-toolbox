{
 "cells": [
  {
   "cell_type": "code",
   "execution_count": 10,
   "id": "63ce90a2",
   "metadata": {},
   "outputs": [],
   "source": [
    "import os,sys\n",
    "from pmtool.ToolBox import ToolBox\n",
    "import pandas as pd\n",
    "from pandas import DataFrame\n",
    "import matplotlib.pyplot as plt\n",
    "import numpy as np\n",
    "import seaborn as sb\n",
    "\n",
    "%matplotlib inline"
   ]
  },
  {
   "cell_type": "code",
   "execution_count": 11,
   "id": "d0f12090",
   "metadata": {},
   "outputs": [
    {
     "name": "stderr",
     "output_type": "stream",
     "text": [
      "100%|██████████| 9/9 [00:00<00:00, 231.20it/s]\n"
     ]
    }
   ],
   "source": [
    "parameters = {'data_path': r'E:\\Internship Mass storage\\First 3 datasets\\Ricord-1a chest only\\Second run', # path to your DICOM data\n",
    "              'data_type': 'dcm', # original data format: DICOM\n",
    "              'multi_rts_per_pat': False,\n",
    "             'image_only' : True}   #needed to add image only because no mask in the original folder\n",
    "\n",
    "\n",
    "data_dcms = ToolBox(**parameters)"
   ]
  },
  {
   "cell_type": "code",
   "execution_count": 4,
   "id": "072d3c18",
   "metadata": {},
   "outputs": [
    {
     "name": "stderr",
     "output_type": "stream",
     "text": [
      "Patients processed: 100%|██████████| 9/9 [00:15<00:00,  1.69s/it]\n"
     ]
    },
    {
     "data": {
      "text/html": [
       "<div>\n",
       "<style scoped>\n",
       "    .dataframe tbody tr th:only-of-type {\n",
       "        vertical-align: middle;\n",
       "    }\n",
       "\n",
       "    .dataframe tbody tr th {\n",
       "        vertical-align: top;\n",
       "    }\n",
       "\n",
       "    .dataframe thead th {\n",
       "        text-align: right;\n",
       "    }\n",
       "</style>\n",
       "<table border=\"1\" class=\"dataframe\">\n",
       "  <thead>\n",
       "    <tr style=\"text-align: right;\">\n",
       "      <th></th>\n",
       "      <th>Modality</th>\n",
       "      <th>SliceThickness</th>\n",
       "      <th>PixelSpacing</th>\n",
       "      <th>SeriesDate</th>\n",
       "      <th>Manufacturer</th>\n",
       "      <th>patient</th>\n",
       "      <th>slice#</th>\n",
       "    </tr>\n",
       "  </thead>\n",
       "  <tbody>\n",
       "    <tr>\n",
       "      <th>0</th>\n",
       "      <td>CT</td>\n",
       "      <td>1.25</td>\n",
       "      <td>[0.740234, 0.740234]</td>\n",
       "      <td>20061205</td>\n",
       "      <td>NaN</td>\n",
       "      <td>2.000000-CHEST WITHOUT CONTRAST-83326-000421</td>\n",
       "      <td>0</td>\n",
       "    </tr>\n",
       "    <tr>\n",
       "      <th>1</th>\n",
       "      <td>CT</td>\n",
       "      <td>1.25</td>\n",
       "      <td>[0.740234, 0.740234]</td>\n",
       "      <td>20061205</td>\n",
       "      <td>NaN</td>\n",
       "      <td>2.000000-CHEST WITHOUT CONTRAST-83326-000421</td>\n",
       "      <td>1</td>\n",
       "    </tr>\n",
       "    <tr>\n",
       "      <th>2</th>\n",
       "      <td>CT</td>\n",
       "      <td>1.25</td>\n",
       "      <td>[0.740234, 0.740234]</td>\n",
       "      <td>20061205</td>\n",
       "      <td>NaN</td>\n",
       "      <td>2.000000-CHEST WITHOUT CONTRAST-83326-000421</td>\n",
       "      <td>2</td>\n",
       "    </tr>\n",
       "    <tr>\n",
       "      <th>3</th>\n",
       "      <td>CT</td>\n",
       "      <td>1.25</td>\n",
       "      <td>[0.740234, 0.740234]</td>\n",
       "      <td>20061205</td>\n",
       "      <td>NaN</td>\n",
       "      <td>2.000000-CHEST WITHOUT CONTRAST-83326-000421</td>\n",
       "      <td>3</td>\n",
       "    </tr>\n",
       "    <tr>\n",
       "      <th>4</th>\n",
       "      <td>CT</td>\n",
       "      <td>1.25</td>\n",
       "      <td>[0.740234, 0.740234]</td>\n",
       "      <td>20061205</td>\n",
       "      <td>NaN</td>\n",
       "      <td>2.000000-CHEST WITHOUT CONTRAST-83326-000421</td>\n",
       "      <td>4</td>\n",
       "    </tr>\n",
       "    <tr>\n",
       "      <th>5</th>\n",
       "      <td>CT</td>\n",
       "      <td>1.25</td>\n",
       "      <td>[0.740234, 0.740234]</td>\n",
       "      <td>20061205</td>\n",
       "      <td>NaN</td>\n",
       "      <td>2.000000-CHEST WITHOUT CONTRAST-83326-000421</td>\n",
       "      <td>5</td>\n",
       "    </tr>\n",
       "    <tr>\n",
       "      <th>6</th>\n",
       "      <td>CT</td>\n",
       "      <td>1.25</td>\n",
       "      <td>[0.740234, 0.740234]</td>\n",
       "      <td>20061205</td>\n",
       "      <td>NaN</td>\n",
       "      <td>2.000000-CHEST WITHOUT CONTRAST-83326-000421</td>\n",
       "      <td>6</td>\n",
       "    </tr>\n",
       "    <tr>\n",
       "      <th>7</th>\n",
       "      <td>CT</td>\n",
       "      <td>1.25</td>\n",
       "      <td>[0.740234, 0.740234]</td>\n",
       "      <td>20061205</td>\n",
       "      <td>NaN</td>\n",
       "      <td>2.000000-CHEST WITHOUT CONTRAST-83326-000421</td>\n",
       "      <td>7</td>\n",
       "    </tr>\n",
       "    <tr>\n",
       "      <th>8</th>\n",
       "      <td>CT</td>\n",
       "      <td>1.25</td>\n",
       "      <td>[0.740234, 0.740234]</td>\n",
       "      <td>20061205</td>\n",
       "      <td>NaN</td>\n",
       "      <td>2.000000-CHEST WITHOUT CONTRAST-83326-000421</td>\n",
       "      <td>8</td>\n",
       "    </tr>\n",
       "    <tr>\n",
       "      <th>9</th>\n",
       "      <td>CT</td>\n",
       "      <td>1.25</td>\n",
       "      <td>[0.740234, 0.740234]</td>\n",
       "      <td>20061205</td>\n",
       "      <td>NaN</td>\n",
       "      <td>2.000000-CHEST WITHOUT CONTRAST-83326-000421</td>\n",
       "      <td>9</td>\n",
       "    </tr>\n",
       "  </tbody>\n",
       "</table>\n",
       "</div>"
      ],
      "text/plain": [
       "  Modality  SliceThickness          PixelSpacing SeriesDate Manufacturer  \\\n",
       "0       CT            1.25  [0.740234, 0.740234]   20061205          NaN   \n",
       "1       CT            1.25  [0.740234, 0.740234]   20061205          NaN   \n",
       "2       CT            1.25  [0.740234, 0.740234]   20061205          NaN   \n",
       "3       CT            1.25  [0.740234, 0.740234]   20061205          NaN   \n",
       "4       CT            1.25  [0.740234, 0.740234]   20061205          NaN   \n",
       "5       CT            1.25  [0.740234, 0.740234]   20061205          NaN   \n",
       "6       CT            1.25  [0.740234, 0.740234]   20061205          NaN   \n",
       "7       CT            1.25  [0.740234, 0.740234]   20061205          NaN   \n",
       "8       CT            1.25  [0.740234, 0.740234]   20061205          NaN   \n",
       "9       CT            1.25  [0.740234, 0.740234]   20061205          NaN   \n",
       "\n",
       "                                        patient slice#  \n",
       "0  2.000000-CHEST WITHOUT CONTRAST-83326-000421      0  \n",
       "1  2.000000-CHEST WITHOUT CONTRAST-83326-000421      1  \n",
       "2  2.000000-CHEST WITHOUT CONTRAST-83326-000421      2  \n",
       "3  2.000000-CHEST WITHOUT CONTRAST-83326-000421      3  \n",
       "4  2.000000-CHEST WITHOUT CONTRAST-83326-000421      4  \n",
       "5  2.000000-CHEST WITHOUT CONTRAST-83326-000421      5  \n",
       "6  2.000000-CHEST WITHOUT CONTRAST-83326-000421      6  \n",
       "7  2.000000-CHEST WITHOUT CONTRAST-83326-000421      7  \n",
       "8  2.000000-CHEST WITHOUT CONTRAST-83326-000421      8  \n",
       "9  2.000000-CHEST WITHOUT CONTRAST-83326-000421      9  "
      ]
     },
     "execution_count": 4,
     "metadata": {},
     "output_type": "execute_result"
    }
   ],
   "source": [
    "dataset_description = data_dcms.get_dataset_description() \n",
    "dataset_description.head(10)"
   ]
  },
  {
   "cell_type": "code",
   "execution_count": 5,
   "id": "4ab66475",
   "metadata": {},
   "outputs": [
    {
     "name": "stdout",
     "output_type": "stream",
     "text": [
      "Unique modalities found:  CT\n"
     ]
    }
   ],
   "source": [
    "print('Unique modalities found: ', np.unique(dataset_description.Modality.values)[0])"
   ]
  },
  {
   "cell_type": "code",
   "execution_count": 6,
   "id": "b1790f2b",
   "metadata": {},
   "outputs": [
    {
     "name": "stderr",
     "output_type": "stream",
     "text": [
      "100%|██████████| 9/9 [00:00<00:00, 237.28it/s]\n",
      "Patients processed: 100%|██████████| 9/9 [00:11<00:00,  1.26s/it]\n"
     ]
    },
    {
     "data": {
      "text/html": [
       "<div>\n",
       "<style scoped>\n",
       "    .dataframe tbody tr th:only-of-type {\n",
       "        vertical-align: middle;\n",
       "    }\n",
       "\n",
       "    .dataframe tbody tr th {\n",
       "        vertical-align: top;\n",
       "    }\n",
       "\n",
       "    .dataframe thead th {\n",
       "        text-align: right;\n",
       "    }\n",
       "</style>\n",
       "<table border=\"1\" class=\"dataframe\">\n",
       "  <thead>\n",
       "    <tr style=\"text-align: right;\">\n",
       "      <th></th>\n",
       "      <th>PatientName</th>\n",
       "      <th>ConvolutionKernel</th>\n",
       "      <th>SliceThickness</th>\n",
       "      <th>PixelSpacing</th>\n",
       "      <th>KVP</th>\n",
       "      <th>Exposure</th>\n",
       "      <th>XRayTubeCurrent</th>\n",
       "      <th>SeriesDate</th>\n",
       "      <th>patient</th>\n",
       "      <th>slice#</th>\n",
       "    </tr>\n",
       "  </thead>\n",
       "  <tbody>\n",
       "    <tr>\n",
       "      <th>0</th>\n",
       "      <td>(M, I, D, R, C, -, R, I, C, O, R, D, -, 1, A, ...</td>\n",
       "      <td>STANDARD</td>\n",
       "      <td>1.25</td>\n",
       "      <td>[0.740234, 0.740234]</td>\n",
       "      <td>120.0</td>\n",
       "      <td>2</td>\n",
       "      <td>486</td>\n",
       "      <td>20061205</td>\n",
       "      <td>2.000000-CHEST WITHOUT CONTRAST-83326-000421</td>\n",
       "      <td>0</td>\n",
       "    </tr>\n",
       "    <tr>\n",
       "      <th>1</th>\n",
       "      <td>(M, I, D, R, C, -, R, I, C, O, R, D, -, 1, A, ...</td>\n",
       "      <td>STANDARD</td>\n",
       "      <td>1.25</td>\n",
       "      <td>[0.740234, 0.740234]</td>\n",
       "      <td>120.0</td>\n",
       "      <td>2</td>\n",
       "      <td>486</td>\n",
       "      <td>20061205</td>\n",
       "      <td>2.000000-CHEST WITHOUT CONTRAST-83326-000421</td>\n",
       "      <td>1</td>\n",
       "    </tr>\n",
       "    <tr>\n",
       "      <th>2</th>\n",
       "      <td>(M, I, D, R, C, -, R, I, C, O, R, D, -, 1, A, ...</td>\n",
       "      <td>STANDARD</td>\n",
       "      <td>1.25</td>\n",
       "      <td>[0.740234, 0.740234]</td>\n",
       "      <td>120.0</td>\n",
       "      <td>2</td>\n",
       "      <td>486</td>\n",
       "      <td>20061205</td>\n",
       "      <td>2.000000-CHEST WITHOUT CONTRAST-83326-000421</td>\n",
       "      <td>2</td>\n",
       "    </tr>\n",
       "    <tr>\n",
       "      <th>3</th>\n",
       "      <td>(M, I, D, R, C, -, R, I, C, O, R, D, -, 1, A, ...</td>\n",
       "      <td>STANDARD</td>\n",
       "      <td>1.25</td>\n",
       "      <td>[0.740234, 0.740234]</td>\n",
       "      <td>120.0</td>\n",
       "      <td>2</td>\n",
       "      <td>486</td>\n",
       "      <td>20061205</td>\n",
       "      <td>2.000000-CHEST WITHOUT CONTRAST-83326-000421</td>\n",
       "      <td>3</td>\n",
       "    </tr>\n",
       "    <tr>\n",
       "      <th>4</th>\n",
       "      <td>(M, I, D, R, C, -, R, I, C, O, R, D, -, 1, A, ...</td>\n",
       "      <td>STANDARD</td>\n",
       "      <td>1.25</td>\n",
       "      <td>[0.740234, 0.740234]</td>\n",
       "      <td>120.0</td>\n",
       "      <td>2</td>\n",
       "      <td>486</td>\n",
       "      <td>20061205</td>\n",
       "      <td>2.000000-CHEST WITHOUT CONTRAST-83326-000421</td>\n",
       "      <td>4</td>\n",
       "    </tr>\n",
       "    <tr>\n",
       "      <th>5</th>\n",
       "      <td>(M, I, D, R, C, -, R, I, C, O, R, D, -, 1, A, ...</td>\n",
       "      <td>STANDARD</td>\n",
       "      <td>1.25</td>\n",
       "      <td>[0.740234, 0.740234]</td>\n",
       "      <td>120.0</td>\n",
       "      <td>2</td>\n",
       "      <td>486</td>\n",
       "      <td>20061205</td>\n",
       "      <td>2.000000-CHEST WITHOUT CONTRAST-83326-000421</td>\n",
       "      <td>5</td>\n",
       "    </tr>\n",
       "    <tr>\n",
       "      <th>6</th>\n",
       "      <td>(M, I, D, R, C, -, R, I, C, O, R, D, -, 1, A, ...</td>\n",
       "      <td>STANDARD</td>\n",
       "      <td>1.25</td>\n",
       "      <td>[0.740234, 0.740234]</td>\n",
       "      <td>120.0</td>\n",
       "      <td>2</td>\n",
       "      <td>486</td>\n",
       "      <td>20061205</td>\n",
       "      <td>2.000000-CHEST WITHOUT CONTRAST-83326-000421</td>\n",
       "      <td>6</td>\n",
       "    </tr>\n",
       "    <tr>\n",
       "      <th>7</th>\n",
       "      <td>(M, I, D, R, C, -, R, I, C, O, R, D, -, 1, A, ...</td>\n",
       "      <td>STANDARD</td>\n",
       "      <td>1.25</td>\n",
       "      <td>[0.740234, 0.740234]</td>\n",
       "      <td>120.0</td>\n",
       "      <td>2</td>\n",
       "      <td>486</td>\n",
       "      <td>20061205</td>\n",
       "      <td>2.000000-CHEST WITHOUT CONTRAST-83326-000421</td>\n",
       "      <td>7</td>\n",
       "    </tr>\n",
       "    <tr>\n",
       "      <th>8</th>\n",
       "      <td>(M, I, D, R, C, -, R, I, C, O, R, D, -, 1, A, ...</td>\n",
       "      <td>STANDARD</td>\n",
       "      <td>1.25</td>\n",
       "      <td>[0.740234, 0.740234]</td>\n",
       "      <td>120.0</td>\n",
       "      <td>2</td>\n",
       "      <td>486</td>\n",
       "      <td>20061205</td>\n",
       "      <td>2.000000-CHEST WITHOUT CONTRAST-83326-000421</td>\n",
       "      <td>8</td>\n",
       "    </tr>\n",
       "    <tr>\n",
       "      <th>9</th>\n",
       "      <td>(M, I, D, R, C, -, R, I, C, O, R, D, -, 1, A, ...</td>\n",
       "      <td>STANDARD</td>\n",
       "      <td>1.25</td>\n",
       "      <td>[0.740234, 0.740234]</td>\n",
       "      <td>120.0</td>\n",
       "      <td>2</td>\n",
       "      <td>486</td>\n",
       "      <td>20061205</td>\n",
       "      <td>2.000000-CHEST WITHOUT CONTRAST-83326-000421</td>\n",
       "      <td>9</td>\n",
       "    </tr>\n",
       "  </tbody>\n",
       "</table>\n",
       "</div>"
      ],
      "text/plain": [
       "                                         PatientName ConvolutionKernel  \\\n",
       "0  (M, I, D, R, C, -, R, I, C, O, R, D, -, 1, A, ...          STANDARD   \n",
       "1  (M, I, D, R, C, -, R, I, C, O, R, D, -, 1, A, ...          STANDARD   \n",
       "2  (M, I, D, R, C, -, R, I, C, O, R, D, -, 1, A, ...          STANDARD   \n",
       "3  (M, I, D, R, C, -, R, I, C, O, R, D, -, 1, A, ...          STANDARD   \n",
       "4  (M, I, D, R, C, -, R, I, C, O, R, D, -, 1, A, ...          STANDARD   \n",
       "5  (M, I, D, R, C, -, R, I, C, O, R, D, -, 1, A, ...          STANDARD   \n",
       "6  (M, I, D, R, C, -, R, I, C, O, R, D, -, 1, A, ...          STANDARD   \n",
       "7  (M, I, D, R, C, -, R, I, C, O, R, D, -, 1, A, ...          STANDARD   \n",
       "8  (M, I, D, R, C, -, R, I, C, O, R, D, -, 1, A, ...          STANDARD   \n",
       "9  (M, I, D, R, C, -, R, I, C, O, R, D, -, 1, A, ...          STANDARD   \n",
       "\n",
       "   SliceThickness          PixelSpacing    KVP Exposure XRayTubeCurrent  \\\n",
       "0            1.25  [0.740234, 0.740234]  120.0        2             486   \n",
       "1            1.25  [0.740234, 0.740234]  120.0        2             486   \n",
       "2            1.25  [0.740234, 0.740234]  120.0        2             486   \n",
       "3            1.25  [0.740234, 0.740234]  120.0        2             486   \n",
       "4            1.25  [0.740234, 0.740234]  120.0        2             486   \n",
       "5            1.25  [0.740234, 0.740234]  120.0        2             486   \n",
       "6            1.25  [0.740234, 0.740234]  120.0        2             486   \n",
       "7            1.25  [0.740234, 0.740234]  120.0        2             486   \n",
       "8            1.25  [0.740234, 0.740234]  120.0        2             486   \n",
       "9            1.25  [0.740234, 0.740234]  120.0        2             486   \n",
       "\n",
       "  SeriesDate                                       patient slice#  \n",
       "0   20061205  2.000000-CHEST WITHOUT CONTRAST-83326-000421      0  \n",
       "1   20061205  2.000000-CHEST WITHOUT CONTRAST-83326-000421      1  \n",
       "2   20061205  2.000000-CHEST WITHOUT CONTRAST-83326-000421      2  \n",
       "3   20061205  2.000000-CHEST WITHOUT CONTRAST-83326-000421      3  \n",
       "4   20061205  2.000000-CHEST WITHOUT CONTRAST-83326-000421      4  \n",
       "5   20061205  2.000000-CHEST WITHOUT CONTRAST-83326-000421      5  \n",
       "6   20061205  2.000000-CHEST WITHOUT CONTRAST-83326-000421      6  \n",
       "7   20061205  2.000000-CHEST WITHOUT CONTRAST-83326-000421      7  \n",
       "8   20061205  2.000000-CHEST WITHOUT CONTRAST-83326-000421      8  \n",
       "9   20061205  2.000000-CHEST WITHOUT CONTRAST-83326-000421      9  "
      ]
     },
     "execution_count": 6,
     "metadata": {},
     "output_type": "execute_result"
    }
   ],
   "source": [
    "CT_dcms = ToolBox(**parameters)\n",
    "dataset_description = CT_dcms.get_dataset_description('CT') \n",
    "dataset_description.head(10)"
   ]
  },
  {
   "cell_type": "code",
   "execution_count": 6,
   "id": "49121f98",
   "metadata": {},
   "outputs": [
    {
     "data": {
      "image/png": "[encoded data removed]",
      "text/plain": [
       "<Figure size 1800x1080 with 6 Axes>"
      ]
     },
     "metadata": {},
     "output_type": "display_data"
    }
   ],
   "source": [
    "sb.set(context='poster', style='whitegrid')\n",
    "\n",
    "study_date = sorted([ 'Nan' if x=='' or x=='NaN' else str(x[0:4]) for x in list(dataset_description['SeriesDate'])])[2:]\n",
    "conv_kernel =['Nan' if x=='' or x=='NaN' else x for x in list(dataset_description['ConvolutionKernel'])]\n",
    "tube_current =[-1 if x=='' or x=='NaN' else x for x in list(dataset_description['XRayTubeCurrent'])]\n",
    "exposure =[-1 if x=='' or x=='NaN' else x for x in list(dataset_description['Exposure'])]\n",
    "ps = sorted([(x[0]) for x in list(filter(lambda x: x != 'NaN', dataset_description['PixelSpacing'].values))])\n",
    "sl_th = sorted([str(x)[0:3] for x in list(filter(lambda x: x != 'NaN', dataset_description['SliceThickness'].values))])\n",
    "figures,descriptions = [study_date,conv_kernel,tube_current,exposure,ps,sl_th],['Study Date','Conv Kernel','Tube Current','Exposure','Pixel spacing','Slice Thickness']\n",
    "\n",
    "fig,ax = plt.subplots(2,3,figsize=(25,15))\n",
    "for i in range(2):\n",
    "    for j in range(3):\n",
    "        ax[i,j].hist(figures.pop(0),alpha=0.7)\n",
    "        ax[i,j].set_title(descriptions.pop(0),fontsize=20)"
   ]
  },
  {
   "cell_type": "code",
   "execution_count": 7,
   "id": "ef903443",
   "metadata": {},
   "outputs": [],
   "source": [
    "qc_params = {'specific_modality': 'CT', # target modality: CT\n",
    "            'thickness_range': [1,2], # slice thickness should be in range of 2..5 mm (changed to 1-2 for this set)\n",
    "            'spacing_range': [0.5,1.25], # pixel spacing should be in range of 0.5..1.25 mm\n",
    "            'scan_length_range': [5,170], # scan should contain from 5 to 170 slices\n",
    "            'axial_res': [512,512], # the axial resolution should be 512x512\n",
    "            'kernels_list': ['standard','lung','b19f']} # the following kernels are acceptable"
   ]
  },
  {
   "cell_type": "code",
   "execution_count": 8,
   "id": "e9a60b89",
   "metadata": {},
   "outputs": [
    {
     "name": "stderr",
     "output_type": "stream",
     "text": [
      "  0%|          | 0/1 [00:00<?, ?it/s]C:\\Users\\MegaMert\\Documents\\GitHub\\precision-medicine-toolbox\\ToolBoxTest.py:580: UserWarning: Problems occured with rescaling intensities\n",
      "  warn('Problems occured with rescaling intensities')\n",
      "100%|██████████| 1/1 [00:00<00:00,  2.14it/s]"
     ]
    },
    {
     "name": "stdout",
     "output_type": "stream",
     "text": [
      "Cannot perform Intercept/slope and image shape check for pat: 302.000000-chest-13428-001596\n"
     ]
    },
    {
     "name": "stderr",
     "output_type": "stream",
     "text": [
      "\n"
     ]
    }
   ],
   "source": [
    "qc_dataframe = CT_dcms.get_quality_checks(qc_params)"
   ]
  },
  {
   "cell_type": "code",
   "execution_count": 9,
   "id": "d18b31c8",
   "metadata": {},
   "outputs": [
    {
     "data": {
      "text/html": [
       "<div>\n",
       "<style scoped>\n",
       "    .dataframe tbody tr th:only-of-type {\n",
       "        vertical-align: middle;\n",
       "    }\n",
       "\n",
       "    .dataframe tbody tr th {\n",
       "        vertical-align: top;\n",
       "    }\n",
       "\n",
       "    .dataframe thead th {\n",
       "        text-align: right;\n",
       "    }\n",
       "</style>\n",
       "<table border=\"1\" class=\"dataframe\">\n",
       "  <thead>\n",
       "    <tr style=\"text-align: right;\">\n",
       "      <th></th>\n",
       "      <th>Patient id</th>\n",
       "      <th>Modality is acceptable</th>\n",
       "      <th>Projection is axial</th>\n",
       "      <th>Complete scan (no missing/overlapping slices)</th>\n",
       "      <th>Scan len is in range</th>\n",
       "      <th>Slice thickness is in range</th>\n",
       "      <th>Slice thickness is consistent</th>\n",
       "      <th>Pixel spacing is in range</th>\n",
       "      <th>Convolutional kernel tag is present</th>\n",
       "      <th>Convolutional kernel is acceptable</th>\n",
       "      <th>Axial pr. resolution is acceptable</th>\n",
       "      <th>Intensity intercept/slope tags are present</th>\n",
       "    </tr>\n",
       "  </thead>\n",
       "  <tbody>\n",
       "    <tr>\n",
       "      <th>0</th>\n",
       "      <td>302.000000-chest-13428-001596</td>\n",
       "      <td>1</td>\n",
       "      <td>1</td>\n",
       "      <td>0</td>\n",
       "      <td>0</td>\n",
       "      <td>1</td>\n",
       "      <td>1</td>\n",
       "      <td>1</td>\n",
       "      <td>1</td>\n",
       "      <td>1</td>\n",
       "      <td>NaN</td>\n",
       "      <td>NaN</td>\n",
       "    </tr>\n",
       "  </tbody>\n",
       "</table>\n",
       "</div>"
      ],
      "text/plain": [
       "                      Patient id Modality is acceptable Projection is axial  \\\n",
       "0  302.000000-chest-13428-001596                      1                   1   \n",
       "\n",
       "  Complete scan (no missing/overlapping slices) Scan len is in range  \\\n",
       "0                                             0                    0   \n",
       "\n",
       "  Slice thickness is in range Slice thickness is consistent  \\\n",
       "0                           1                             1   \n",
       "\n",
       "  Pixel spacing is in range Convolutional kernel tag is present  \\\n",
       "0                         1                                   1   \n",
       "\n",
       "  Convolutional kernel is acceptable Axial pr. resolution is acceptable  \\\n",
       "0                                  1                                NaN   \n",
       "\n",
       "  Intensity intercept/slope tags are present  \n",
       "0                                        NaN  "
      ]
     },
     "execution_count": 9,
     "metadata": {},
     "output_type": "execute_result"
    }
   ],
   "source": [
    "qc_dataframe"
   ]
  },
  {
   "cell_type": "code",
   "execution_count": 12,
   "id": "832d7cd1",
   "metadata": {},
   "outputs": [
    {
     "name": "stderr",
     "output_type": "stream",
     "text": [
      "100%|██████████| 9/9 [00:00<00:00, 231.20it/s]\n"
     ]
    }
   ],
   "source": [
    "export_path = r'E:\\Internship Mass storage\\First 3 datasets\\Ricord-1a chest only\\Converted second run'\n",
    "region_of_interest = 'all'\n",
    "data_ct = ToolBox(**parameters) \n"
   ]
  },
  {
   "cell_type": "code",
   "execution_count": 13,
   "id": "75339b83",
   "metadata": {},
   "outputs": [
    {
     "name": "stderr",
     "output_type": "stream",
     "text": [
      "Patients converted:   0%|          | 0/9 [00:00<?, ?it/s]C:\\Users\\MegaMert\\Documents\\GitHub\\precision-medicine-toolbox\\pmtool\\ToolBox.py:567: UserWarning: Problems occured with rescaling intensities\n",
      "  warn('Problems occured with rescaling intensities')\n",
      "Patients converted:   0%|          | 0/9 [00:00<?, ?it/s]\n"
     ]
    },
    {
     "ename": "ValueError",
     "evalue": "The length of the pixel data in the dataset (204444 bytes) doesn't match the expected length (524288 bytes). The dataset may be corrupted or there may be an issue with the pixel data handler.",
     "output_type": "error",
     "traceback": [
      "\u001b[1;31m---------------------------------------------------------------------------\u001b[0m",
      "\u001b[1;31mValueError\u001b[0m                                Traceback (most recent call last)",
      "\u001b[1;32m~\\Documents\\GitHub\\precision-medicine-toolbox\\pmtool\\ToolBox.py\u001b[0m in \u001b[0;36m__get_pixel_values\u001b[1;34m(self, scans, image_type, qa, image_res)\u001b[0m\n\u001b[0;32m    557\u001b[0m         \u001b[1;32mtry\u001b[0m\u001b[1;33m:\u001b[0m\u001b[1;33m\u001b[0m\u001b[1;33m\u001b[0m\u001b[0m\n\u001b[1;32m--> 558\u001b[1;33m             \u001b[0mimage\u001b[0m \u001b[1;33m=\u001b[0m \u001b[0mnp\u001b[0m\u001b[1;33m.\u001b[0m\u001b[0mstack\u001b[0m\u001b[1;33m(\u001b[0m\u001b[1;33m[\u001b[0m\u001b[0ms\u001b[0m\u001b[1;33m.\u001b[0m\u001b[0mpixel_array\u001b[0m\u001b[1;33m*\u001b[0m\u001b[0ms\u001b[0m\u001b[1;33m.\u001b[0m\u001b[0mRescaleSlope\u001b[0m\u001b[1;33m+\u001b[0m\u001b[0ms\u001b[0m\u001b[1;33m.\u001b[0m\u001b[0mRescaleIntercept\u001b[0m \u001b[1;32mfor\u001b[0m \u001b[0ms\u001b[0m \u001b[1;32min\u001b[0m \u001b[0mscans\u001b[0m\u001b[1;33m]\u001b[0m\u001b[1;33m)\u001b[0m\u001b[1;33m\u001b[0m\u001b[1;33m\u001b[0m\u001b[0m\n\u001b[0m\u001b[0;32m    559\u001b[0m             \u001b[1;32mif\u001b[0m \u001b[0mqa\u001b[0m\u001b[1;33m:\u001b[0m\u001b[1;33m\u001b[0m\u001b[1;33m\u001b[0m\u001b[0m\n",
      "\u001b[1;32m~\\Documents\\GitHub\\precision-medicine-toolbox\\pmtool\\ToolBox.py\u001b[0m in \u001b[0;36m<listcomp>\u001b[1;34m(.0)\u001b[0m\n\u001b[0;32m    557\u001b[0m         \u001b[1;32mtry\u001b[0m\u001b[1;33m:\u001b[0m\u001b[1;33m\u001b[0m\u001b[1;33m\u001b[0m\u001b[0m\n\u001b[1;32m--> 558\u001b[1;33m             \u001b[0mimage\u001b[0m \u001b[1;33m=\u001b[0m \u001b[0mnp\u001b[0m\u001b[1;33m.\u001b[0m\u001b[0mstack\u001b[0m\u001b[1;33m(\u001b[0m\u001b[1;33m[\u001b[0m\u001b[0ms\u001b[0m\u001b[1;33m.\u001b[0m\u001b[0mpixel_array\u001b[0m\u001b[1;33m*\u001b[0m\u001b[0ms\u001b[0m\u001b[1;33m.\u001b[0m\u001b[0mRescaleSlope\u001b[0m\u001b[1;33m+\u001b[0m\u001b[0ms\u001b[0m\u001b[1;33m.\u001b[0m\u001b[0mRescaleIntercept\u001b[0m \u001b[1;32mfor\u001b[0m \u001b[0ms\u001b[0m \u001b[1;32min\u001b[0m \u001b[0mscans\u001b[0m\u001b[1;33m]\u001b[0m\u001b[1;33m)\u001b[0m\u001b[1;33m\u001b[0m\u001b[1;33m\u001b[0m\u001b[0m\n\u001b[0m\u001b[0;32m    559\u001b[0m             \u001b[1;32mif\u001b[0m \u001b[0mqa\u001b[0m\u001b[1;33m:\u001b[0m\u001b[1;33m\u001b[0m\u001b[1;33m\u001b[0m\u001b[0m\n",
      "\u001b[1;32m~\\anaconda3\\lib\\site-packages\\pydicom\\dataset.py\u001b[0m in \u001b[0;36mpixel_array\u001b[1;34m(self)\u001b[0m\n\u001b[0;32m   1886\u001b[0m         \"\"\"\n\u001b[1;32m-> 1887\u001b[1;33m         \u001b[0mself\u001b[0m\u001b[1;33m.\u001b[0m\u001b[0mconvert_pixel_data\u001b[0m\u001b[1;33m(\u001b[0m\u001b[1;33m)\u001b[0m\u001b[1;33m\u001b[0m\u001b[1;33m\u001b[0m\u001b[0m\n\u001b[0m\u001b[0;32m   1888\u001b[0m         \u001b[1;32mreturn\u001b[0m \u001b[0mcast\u001b[0m\u001b[1;33m(\u001b[0m\u001b[1;34m\"numpy.ndarray\"\u001b[0m\u001b[1;33m,\u001b[0m \u001b[0mself\u001b[0m\u001b[1;33m.\u001b[0m\u001b[0m_pixel_array\u001b[0m\u001b[1;33m)\u001b[0m\u001b[1;33m\u001b[0m\u001b[1;33m\u001b[0m\u001b[0m\n",
      "\u001b[1;32m~\\anaconda3\\lib\\site-packages\\pydicom\\dataset.py\u001b[0m in \u001b[0;36mconvert_pixel_data\u001b[1;34m(self, handler_name)\u001b[0m\n\u001b[0;32m   1443\u001b[0m         \u001b[1;32melse\u001b[0m\u001b[1;33m:\u001b[0m\u001b[1;33m\u001b[0m\u001b[1;33m\u001b[0m\u001b[0m\n\u001b[1;32m-> 1444\u001b[1;33m             \u001b[0mself\u001b[0m\u001b[1;33m.\u001b[0m\u001b[0m_convert_pixel_data_without_handler\u001b[0m\u001b[1;33m(\u001b[0m\u001b[1;33m)\u001b[0m\u001b[1;33m\u001b[0m\u001b[1;33m\u001b[0m\u001b[0m\n\u001b[0m\u001b[0;32m   1445\u001b[0m \u001b[1;33m\u001b[0m\u001b[0m\n",
      "\u001b[1;32m~\\anaconda3\\lib\\site-packages\\pydicom\\dataset.py\u001b[0m in \u001b[0;36m_convert_pixel_data_without_handler\u001b[1;34m(self)\u001b[0m\n\u001b[0;32m   1555\u001b[0m         )\n\u001b[1;32m-> 1556\u001b[1;33m         \u001b[1;32mraise\u001b[0m \u001b[0mlast_exception\u001b[0m  \u001b[1;31m# type: ignore[misc]\u001b[0m\u001b[1;33m\u001b[0m\u001b[1;33m\u001b[0m\u001b[0m\n\u001b[0m\u001b[0;32m   1557\u001b[0m \u001b[1;33m\u001b[0m\u001b[0m\n",
      "\u001b[1;32m~\\anaconda3\\lib\\site-packages\\pydicom\\dataset.py\u001b[0m in \u001b[0;36m_convert_pixel_data_without_handler\u001b[1;34m(self)\u001b[0m\n\u001b[0;32m   1535\u001b[0m             \u001b[1;32mtry\u001b[0m\u001b[1;33m:\u001b[0m\u001b[1;33m\u001b[0m\u001b[1;33m\u001b[0m\u001b[0m\n\u001b[1;32m-> 1536\u001b[1;33m                 \u001b[0mself\u001b[0m\u001b[1;33m.\u001b[0m\u001b[0m_do_pixel_data_conversion\u001b[0m\u001b[1;33m(\u001b[0m\u001b[0mhandler\u001b[0m\u001b[1;33m)\u001b[0m\u001b[1;33m\u001b[0m\u001b[1;33m\u001b[0m\u001b[0m\n\u001b[0m\u001b[0;32m   1537\u001b[0m                 \u001b[1;32mreturn\u001b[0m\u001b[1;33m\u001b[0m\u001b[1;33m\u001b[0m\u001b[0m\n",
      "\u001b[1;32m~\\anaconda3\\lib\\site-packages\\pydicom\\dataset.py\u001b[0m in \u001b[0;36m_do_pixel_data_conversion\u001b[1;34m(self, handler)\u001b[0m\n\u001b[0;32m   1562\u001b[0m         \u001b[1;31m# Will raise an exception if no pixel data element\u001b[0m\u001b[1;33m\u001b[0m\u001b[1;33m\u001b[0m\u001b[0m\n\u001b[1;32m-> 1563\u001b[1;33m         \u001b[0marr\u001b[0m \u001b[1;33m=\u001b[0m \u001b[0mhandler\u001b[0m\u001b[1;33m.\u001b[0m\u001b[0mget_pixeldata\u001b[0m\u001b[1;33m(\u001b[0m\u001b[0mself\u001b[0m\u001b[1;33m)\u001b[0m\u001b[1;33m\u001b[0m\u001b[1;33m\u001b[0m\u001b[0m\n\u001b[0m\u001b[0;32m   1564\u001b[0m         \u001b[0mself\u001b[0m\u001b[1;33m.\u001b[0m\u001b[0m_pixel_array\u001b[0m \u001b[1;33m=\u001b[0m \u001b[0mreshape_pixel_array\u001b[0m\u001b[1;33m(\u001b[0m\u001b[0mself\u001b[0m\u001b[1;33m,\u001b[0m \u001b[0marr\u001b[0m\u001b[1;33m)\u001b[0m\u001b[1;33m\u001b[0m\u001b[1;33m\u001b[0m\u001b[0m\n",
      "\u001b[1;32m~\\anaconda3\\lib\\site-packages\\pydicom\\pixel_data_handlers\\numpy_handler.py\u001b[0m in \u001b[0;36mget_pixeldata\u001b[1;34m(ds, read_only)\u001b[0m\n\u001b[0;32m    220\u001b[0m         \u001b[1;32melse\u001b[0m\u001b[1;33m:\u001b[0m\u001b[1;33m\u001b[0m\u001b[1;33m\u001b[0m\u001b[0m\n\u001b[1;32m--> 221\u001b[1;33m             raise ValueError(\n\u001b[0m\u001b[0;32m    222\u001b[0m                 \u001b[1;34m\"The length of the pixel data in the dataset ({} bytes) \"\u001b[0m\u001b[1;33m\u001b[0m\u001b[1;33m\u001b[0m\u001b[0m\n",
      "\u001b[1;31mValueError\u001b[0m: The length of the pixel data in the dataset (204444 bytes) doesn't match the expected length (524288 bytes). The dataset may be corrupted or there may be an issue with the pixel data handler.",
      "\nDuring handling of the above exception, another exception occurred:\n",
      "\u001b[1;31mValueError\u001b[0m                                Traceback (most recent call last)",
      "\u001b[1;32m~\\AppData\\Local\\Temp/ipykernel_9384/1650419876.py\u001b[0m in \u001b[0;36m<module>\u001b[1;34m\u001b[0m\n\u001b[1;32m----> 1\u001b[1;33m \u001b[0mdata_ct\u001b[0m\u001b[1;33m.\u001b[0m\u001b[0mconvert_to_nrrd\u001b[0m\u001b[1;33m(\u001b[0m\u001b[0mexport_path\u001b[0m\u001b[1;33m)\u001b[0m\u001b[1;33m\u001b[0m\u001b[1;33m\u001b[0m\u001b[0m\n\u001b[0m",
      "\u001b[1;32m~\\Documents\\GitHub\\precision-medicine-toolbox\\pmtool\\ToolBox.py\u001b[0m in \u001b[0;36mconvert_to_nrrd\u001b[1;34m(self, export_path, region_of_interest, image_type)\u001b[0m\n\u001b[0;32m    158\u001b[0m                 \u001b[1;32mfor\u001b[0m \u001b[0mpat\u001b[0m\u001b[1;33m,\u001b[0m \u001b[0mpat_path\u001b[0m \u001b[1;32min\u001b[0m \u001b[0mtqdm\u001b[0m\u001b[1;33m(\u001b[0m\u001b[0mself\u001b[0m\u001b[1;33m,\u001b[0m \u001b[0mdesc\u001b[0m\u001b[1;33m=\u001b[0m\u001b[1;34m'Patients converted'\u001b[0m\u001b[1;33m)\u001b[0m\u001b[1;33m:\u001b[0m\u001b[1;33m\u001b[0m\u001b[1;33m\u001b[0m\u001b[0m\n\u001b[0;32m    159\u001b[0m                     \u001b[0mimg_path\u001b[0m \u001b[1;33m=\u001b[0m \u001b[0mpat_path\u001b[0m\u001b[1;33m[\u001b[0m\u001b[1;36m0\u001b[0m\u001b[1;33m]\u001b[0m\u001b[1;33m\u001b[0m\u001b[1;33m\u001b[0m\u001b[0m\n\u001b[1;32m--> 160\u001b[1;33m                     \u001b[0mimage\u001b[0m \u001b[1;33m=\u001b[0m \u001b[0mself\u001b[0m\u001b[1;33m.\u001b[0m\u001b[0m__get_image\u001b[0m\u001b[1;33m(\u001b[0m\u001b[0mimg_path\u001b[0m\u001b[1;33m,\u001b[0m \u001b[0mimage_type\u001b[0m\u001b[1;33m)\u001b[0m\u001b[1;33m\u001b[0m\u001b[1;33m\u001b[0m\u001b[0m\n\u001b[0m\u001b[0;32m    161\u001b[0m \u001b[1;33m\u001b[0m\u001b[0m\n\u001b[0;32m    162\u001b[0m                     \u001b[0mexport_dir\u001b[0m \u001b[1;33m=\u001b[0m \u001b[0mos\u001b[0m\u001b[1;33m.\u001b[0m\u001b[0mpath\u001b[0m\u001b[1;33m.\u001b[0m\u001b[0mjoin\u001b[0m\u001b[1;33m(\u001b[0m\u001b[0mexport_path\u001b[0m\u001b[1;33m,\u001b[0m \u001b[1;34m'converted_nrrds'\u001b[0m\u001b[1;33m,\u001b[0m \u001b[0mpat\u001b[0m\u001b[1;33m)\u001b[0m\u001b[1;33m\u001b[0m\u001b[1;33m\u001b[0m\u001b[0m\n",
      "\u001b[1;32m~\\Documents\\GitHub\\precision-medicine-toolbox\\pmtool\\ToolBox.py\u001b[0m in \u001b[0;36m__get_image\u001b[1;34m(self, img_path, image_type)\u001b[0m\n\u001b[0;32m    576\u001b[0m         \u001b[0mimage\u001b[0m\u001b[1;33m,\u001b[0m \u001b[0m_\u001b[0m \u001b[1;33m=\u001b[0m \u001b[0mself\u001b[0m\u001b[1;33m.\u001b[0m\u001b[0m__read_scan\u001b[0m\u001b[1;33m(\u001b[0m\u001b[0mimg_path\u001b[0m\u001b[1;33m)\u001b[0m\u001b[1;33m\u001b[0m\u001b[1;33m\u001b[0m\u001b[0m\n\u001b[0;32m    577\u001b[0m         \u001b[0mimg_first_slice\u001b[0m \u001b[1;33m=\u001b[0m \u001b[0mimage\u001b[0m\u001b[1;33m[\u001b[0m\u001b[1;36m0\u001b[0m\u001b[1;33m]\u001b[0m\u001b[1;33m\u001b[0m\u001b[1;33m\u001b[0m\u001b[0m\n\u001b[1;32m--> 578\u001b[1;33m         \u001b[0mimg_array\u001b[0m \u001b[1;33m=\u001b[0m \u001b[0mself\u001b[0m\u001b[1;33m.\u001b[0m\u001b[0m__get_pixel_values\u001b[0m\u001b[1;33m(\u001b[0m\u001b[0mimage\u001b[0m\u001b[1;33m,\u001b[0m \u001b[0mimage_type\u001b[0m\u001b[1;33m)\u001b[0m\u001b[1;33m\u001b[0m\u001b[1;33m\u001b[0m\u001b[0m\n\u001b[0m\u001b[0;32m    579\u001b[0m \u001b[1;33m\u001b[0m\u001b[0m\n\u001b[0;32m    580\u001b[0m         \u001b[0mxres\u001b[0m \u001b[1;33m=\u001b[0m \u001b[0mnp\u001b[0m\u001b[1;33m.\u001b[0m\u001b[0marray\u001b[0m\u001b[1;33m(\u001b[0m\u001b[0mimg_first_slice\u001b[0m\u001b[1;33m.\u001b[0m\u001b[0mPixelSpacing\u001b[0m\u001b[1;33m[\u001b[0m\u001b[1;36m0\u001b[0m\u001b[1;33m]\u001b[0m\u001b[1;33m)\u001b[0m\u001b[1;33m\u001b[0m\u001b[1;33m\u001b[0m\u001b[0m\n",
      "\u001b[1;32m~\\Documents\\GitHub\\precision-medicine-toolbox\\pmtool\\ToolBox.py\u001b[0m in \u001b[0;36m__get_pixel_values\u001b[1;34m(self, scans, image_type, qa, image_res)\u001b[0m\n\u001b[0;32m    566\u001b[0m         \u001b[1;32mexcept\u001b[0m\u001b[1;33m:\u001b[0m\u001b[1;33m\u001b[0m\u001b[1;33m\u001b[0m\u001b[0m\n\u001b[0;32m    567\u001b[0m             \u001b[0mwarn\u001b[0m\u001b[1;33m(\u001b[0m\u001b[1;34m'Problems occured with rescaling intensities'\u001b[0m\u001b[1;33m)\u001b[0m\u001b[1;33m\u001b[0m\u001b[1;33m\u001b[0m\u001b[0m\n\u001b[1;32m--> 568\u001b[1;33m             \u001b[0mimage\u001b[0m \u001b[1;33m=\u001b[0m \u001b[0mnp\u001b[0m\u001b[1;33m.\u001b[0m\u001b[0mstack\u001b[0m\u001b[1;33m(\u001b[0m\u001b[1;33m[\u001b[0m\u001b[0ms\u001b[0m\u001b[1;33m.\u001b[0m\u001b[0mpixel_array\u001b[0m \u001b[1;32mfor\u001b[0m \u001b[0ms\u001b[0m \u001b[1;32min\u001b[0m \u001b[0mscans\u001b[0m\u001b[1;33m]\u001b[0m\u001b[1;33m)\u001b[0m\u001b[1;33m\u001b[0m\u001b[1;33m\u001b[0m\u001b[0m\n\u001b[0m\u001b[0;32m    569\u001b[0m             \u001b[1;32mif\u001b[0m \u001b[0mqa\u001b[0m\u001b[1;33m:\u001b[0m\u001b[1;33m\u001b[0m\u001b[1;33m\u001b[0m\u001b[0m\n\u001b[0;32m    570\u001b[0m                 \u001b[1;32mreturn\u001b[0m \u001b[1;36m0\u001b[0m\u001b[1;33m,\u001b[0m \u001b[1;36m0\u001b[0m\u001b[1;33m\u001b[0m\u001b[1;33m\u001b[0m\u001b[0m\n",
      "\u001b[1;32m~\\Documents\\GitHub\\precision-medicine-toolbox\\pmtool\\ToolBox.py\u001b[0m in \u001b[0;36m<listcomp>\u001b[1;34m(.0)\u001b[0m\n\u001b[0;32m    566\u001b[0m         \u001b[1;32mexcept\u001b[0m\u001b[1;33m:\u001b[0m\u001b[1;33m\u001b[0m\u001b[1;33m\u001b[0m\u001b[0m\n\u001b[0;32m    567\u001b[0m             \u001b[0mwarn\u001b[0m\u001b[1;33m(\u001b[0m\u001b[1;34m'Problems occured with rescaling intensities'\u001b[0m\u001b[1;33m)\u001b[0m\u001b[1;33m\u001b[0m\u001b[1;33m\u001b[0m\u001b[0m\n\u001b[1;32m--> 568\u001b[1;33m             \u001b[0mimage\u001b[0m \u001b[1;33m=\u001b[0m \u001b[0mnp\u001b[0m\u001b[1;33m.\u001b[0m\u001b[0mstack\u001b[0m\u001b[1;33m(\u001b[0m\u001b[1;33m[\u001b[0m\u001b[0ms\u001b[0m\u001b[1;33m.\u001b[0m\u001b[0mpixel_array\u001b[0m \u001b[1;32mfor\u001b[0m \u001b[0ms\u001b[0m \u001b[1;32min\u001b[0m \u001b[0mscans\u001b[0m\u001b[1;33m]\u001b[0m\u001b[1;33m)\u001b[0m\u001b[1;33m\u001b[0m\u001b[1;33m\u001b[0m\u001b[0m\n\u001b[0m\u001b[0;32m    569\u001b[0m             \u001b[1;32mif\u001b[0m \u001b[0mqa\u001b[0m\u001b[1;33m:\u001b[0m\u001b[1;33m\u001b[0m\u001b[1;33m\u001b[0m\u001b[0m\n\u001b[0;32m    570\u001b[0m                 \u001b[1;32mreturn\u001b[0m \u001b[1;36m0\u001b[0m\u001b[1;33m,\u001b[0m \u001b[1;36m0\u001b[0m\u001b[1;33m\u001b[0m\u001b[1;33m\u001b[0m\u001b[0m\n",
      "\u001b[1;32m~\\anaconda3\\lib\\site-packages\\pydicom\\dataset.py\u001b[0m in \u001b[0;36mpixel_array\u001b[1;34m(self)\u001b[0m\n\u001b[0;32m   1885\u001b[0m             \u001b[1;33m:\u001b[0m\u001b[1;32mclass\u001b[0m\u001b[1;33m:\u001b[0m\u001b[0;31m`\u001b[0m\u001b[0mnumpy\u001b[0m\u001b[1;33m.\u001b[0m\u001b[0mndarray\u001b[0m\u001b[0;31m`\u001b[0m\u001b[1;33m.\u001b[0m\u001b[1;33m\u001b[0m\u001b[1;33m\u001b[0m\u001b[0m\n\u001b[0;32m   1886\u001b[0m         \"\"\"\n\u001b[1;32m-> 1887\u001b[1;33m         \u001b[0mself\u001b[0m\u001b[1;33m.\u001b[0m\u001b[0mconvert_pixel_data\u001b[0m\u001b[1;33m(\u001b[0m\u001b[1;33m)\u001b[0m\u001b[1;33m\u001b[0m\u001b[1;33m\u001b[0m\u001b[0m\n\u001b[0m\u001b[0;32m   1888\u001b[0m         \u001b[1;32mreturn\u001b[0m \u001b[0mcast\u001b[0m\u001b[1;33m(\u001b[0m\u001b[1;34m\"numpy.ndarray\"\u001b[0m\u001b[1;33m,\u001b[0m \u001b[0mself\u001b[0m\u001b[1;33m.\u001b[0m\u001b[0m_pixel_array\u001b[0m\u001b[1;33m)\u001b[0m\u001b[1;33m\u001b[0m\u001b[1;33m\u001b[0m\u001b[0m\n\u001b[0;32m   1889\u001b[0m \u001b[1;33m\u001b[0m\u001b[0m\n",
      "\u001b[1;32m~\\anaconda3\\lib\\site-packages\\pydicom\\dataset.py\u001b[0m in \u001b[0;36mconvert_pixel_data\u001b[1;34m(self, handler_name)\u001b[0m\n\u001b[0;32m   1442\u001b[0m             \u001b[0mself\u001b[0m\u001b[1;33m.\u001b[0m\u001b[0m_convert_pixel_data_using_handler\u001b[0m\u001b[1;33m(\u001b[0m\u001b[0mhandler_name\u001b[0m\u001b[1;33m)\u001b[0m\u001b[1;33m\u001b[0m\u001b[1;33m\u001b[0m\u001b[0m\n\u001b[0;32m   1443\u001b[0m         \u001b[1;32melse\u001b[0m\u001b[1;33m:\u001b[0m\u001b[1;33m\u001b[0m\u001b[1;33m\u001b[0m\u001b[0m\n\u001b[1;32m-> 1444\u001b[1;33m             \u001b[0mself\u001b[0m\u001b[1;33m.\u001b[0m\u001b[0m_convert_pixel_data_without_handler\u001b[0m\u001b[1;33m(\u001b[0m\u001b[1;33m)\u001b[0m\u001b[1;33m\u001b[0m\u001b[1;33m\u001b[0m\u001b[0m\n\u001b[0m\u001b[0;32m   1445\u001b[0m \u001b[1;33m\u001b[0m\u001b[0m\n\u001b[0;32m   1446\u001b[0m     \u001b[1;32mdef\u001b[0m \u001b[0m_convert_pixel_data_using_handler\u001b[0m\u001b[1;33m(\u001b[0m\u001b[0mself\u001b[0m\u001b[1;33m,\u001b[0m \u001b[0mname\u001b[0m\u001b[1;33m:\u001b[0m \u001b[0mstr\u001b[0m\u001b[1;33m)\u001b[0m \u001b[1;33m->\u001b[0m \u001b[1;32mNone\u001b[0m\u001b[1;33m:\u001b[0m\u001b[1;33m\u001b[0m\u001b[1;33m\u001b[0m\u001b[0m\n",
      "\u001b[1;32m~\\anaconda3\\lib\\site-packages\\pydicom\\dataset.py\u001b[0m in \u001b[0;36m_convert_pixel_data_without_handler\u001b[1;34m(self)\u001b[0m\n\u001b[0;32m   1554\u001b[0m             \u001b[1;33m.\u001b[0m\u001b[0mformat\u001b[0m\u001b[1;33m(\u001b[0m\u001b[1;34m\", \"\u001b[0m\u001b[1;33m.\u001b[0m\u001b[0mjoin\u001b[0m\u001b[1;33m(\u001b[0m\u001b[1;33m[\u001b[0m\u001b[0mstr\u001b[0m\u001b[1;33m(\u001b[0m\u001b[0mhh\u001b[0m\u001b[1;33m)\u001b[0m \u001b[1;32mfor\u001b[0m \u001b[0mhh\u001b[0m \u001b[1;32min\u001b[0m \u001b[0mavailable_handlers\u001b[0m\u001b[1;33m]\u001b[0m\u001b[1;33m)\u001b[0m\u001b[1;33m)\u001b[0m\u001b[1;33m\u001b[0m\u001b[1;33m\u001b[0m\u001b[0m\n\u001b[0;32m   1555\u001b[0m         )\n\u001b[1;32m-> 1556\u001b[1;33m         \u001b[1;32mraise\u001b[0m \u001b[0mlast_exception\u001b[0m  \u001b[1;31m# type: ignore[misc]\u001b[0m\u001b[1;33m\u001b[0m\u001b[1;33m\u001b[0m\u001b[0m\n\u001b[0m\u001b[0;32m   1557\u001b[0m \u001b[1;33m\u001b[0m\u001b[0m\n\u001b[0;32m   1558\u001b[0m     \u001b[1;32mdef\u001b[0m \u001b[0m_do_pixel_data_conversion\u001b[0m\u001b[1;33m(\u001b[0m\u001b[0mself\u001b[0m\u001b[1;33m,\u001b[0m \u001b[0mhandler\u001b[0m\u001b[1;33m:\u001b[0m \u001b[0mAny\u001b[0m\u001b[1;33m)\u001b[0m \u001b[1;33m->\u001b[0m \u001b[1;32mNone\u001b[0m\u001b[1;33m:\u001b[0m\u001b[1;33m\u001b[0m\u001b[1;33m\u001b[0m\u001b[0m\n",
      "\u001b[1;32m~\\anaconda3\\lib\\site-packages\\pydicom\\dataset.py\u001b[0m in \u001b[0;36m_convert_pixel_data_without_handler\u001b[1;34m(self)\u001b[0m\n\u001b[0;32m   1534\u001b[0m         \u001b[1;32mfor\u001b[0m \u001b[0mhandler\u001b[0m \u001b[1;32min\u001b[0m \u001b[0mavailable_handlers\u001b[0m\u001b[1;33m:\u001b[0m\u001b[1;33m\u001b[0m\u001b[1;33m\u001b[0m\u001b[0m\n\u001b[0;32m   1535\u001b[0m             \u001b[1;32mtry\u001b[0m\u001b[1;33m:\u001b[0m\u001b[1;33m\u001b[0m\u001b[1;33m\u001b[0m\u001b[0m\n\u001b[1;32m-> 1536\u001b[1;33m                 \u001b[0mself\u001b[0m\u001b[1;33m.\u001b[0m\u001b[0m_do_pixel_data_conversion\u001b[0m\u001b[1;33m(\u001b[0m\u001b[0mhandler\u001b[0m\u001b[1;33m)\u001b[0m\u001b[1;33m\u001b[0m\u001b[1;33m\u001b[0m\u001b[0m\n\u001b[0m\u001b[0;32m   1537\u001b[0m                 \u001b[1;32mreturn\u001b[0m\u001b[1;33m\u001b[0m\u001b[1;33m\u001b[0m\u001b[0m\n\u001b[0;32m   1538\u001b[0m             \u001b[1;32mexcept\u001b[0m \u001b[0mException\u001b[0m \u001b[1;32mas\u001b[0m \u001b[0mexc\u001b[0m\u001b[1;33m:\u001b[0m\u001b[1;33m\u001b[0m\u001b[1;33m\u001b[0m\u001b[0m\n",
      "\u001b[1;32m~\\anaconda3\\lib\\site-packages\\pydicom\\dataset.py\u001b[0m in \u001b[0;36m_do_pixel_data_conversion\u001b[1;34m(self, handler)\u001b[0m\n\u001b[0;32m   1561\u001b[0m         \u001b[1;31m# Use the handler to get a 1D numpy array of the pixel data\u001b[0m\u001b[1;33m\u001b[0m\u001b[1;33m\u001b[0m\u001b[0m\n\u001b[0;32m   1562\u001b[0m         \u001b[1;31m# Will raise an exception if no pixel data element\u001b[0m\u001b[1;33m\u001b[0m\u001b[1;33m\u001b[0m\u001b[0m\n\u001b[1;32m-> 1563\u001b[1;33m         \u001b[0marr\u001b[0m \u001b[1;33m=\u001b[0m \u001b[0mhandler\u001b[0m\u001b[1;33m.\u001b[0m\u001b[0mget_pixeldata\u001b[0m\u001b[1;33m(\u001b[0m\u001b[0mself\u001b[0m\u001b[1;33m)\u001b[0m\u001b[1;33m\u001b[0m\u001b[1;33m\u001b[0m\u001b[0m\n\u001b[0m\u001b[0;32m   1564\u001b[0m         \u001b[0mself\u001b[0m\u001b[1;33m.\u001b[0m\u001b[0m_pixel_array\u001b[0m \u001b[1;33m=\u001b[0m \u001b[0mreshape_pixel_array\u001b[0m\u001b[1;33m(\u001b[0m\u001b[0mself\u001b[0m\u001b[1;33m,\u001b[0m \u001b[0marr\u001b[0m\u001b[1;33m)\u001b[0m\u001b[1;33m\u001b[0m\u001b[1;33m\u001b[0m\u001b[0m\n\u001b[0;32m   1565\u001b[0m \u001b[1;33m\u001b[0m\u001b[0m\n",
      "\u001b[1;32m~\\anaconda3\\lib\\site-packages\\pydicom\\pixel_data_handlers\\numpy_handler.py\u001b[0m in \u001b[0;36mget_pixeldata\u001b[1;34m(ds, read_only)\u001b[0m\n\u001b[0;32m    219\u001b[0m             )\n\u001b[0;32m    220\u001b[0m         \u001b[1;32melse\u001b[0m\u001b[1;33m:\u001b[0m\u001b[1;33m\u001b[0m\u001b[1;33m\u001b[0m\u001b[0m\n\u001b[1;32m--> 221\u001b[1;33m             raise ValueError(\n\u001b[0m\u001b[0;32m    222\u001b[0m                 \u001b[1;34m\"The length of the pixel data in the dataset ({} bytes) \"\u001b[0m\u001b[1;33m\u001b[0m\u001b[1;33m\u001b[0m\u001b[0m\n\u001b[0;32m    223\u001b[0m                 \u001b[1;34m\"doesn't match the expected length ({} bytes). \"\u001b[0m\u001b[1;33m\u001b[0m\u001b[1;33m\u001b[0m\u001b[0m\n",
      "\u001b[1;31mValueError\u001b[0m: The length of the pixel data in the dataset (204444 bytes) doesn't match the expected length (524288 bytes). The dataset may be corrupted or there may be an issue with the pixel data handler."
     ]
    }
   ],
   "source": [
    "data_ct.convert_to_nrrd(export_path)"
   ]
  },
  {
   "cell_type": "code",
   "execution_count": null,
   "id": "8b07a5e8",
   "metadata": {},
   "outputs": [],
   "source": [
    "data_ct_nrrd = ToolBox(data_path = r'E:\\Internship Mass storage\\First 3 datasets\\Ricord-1a chest only\\Converted second run\\Test', data_type='nrrd')\n"
   ]
  },
  {
   "cell_type": "code",
   "execution_count": null,
   "id": "fd6ee3cb",
   "metadata": {},
   "outputs": [],
   "source": [
    "data_ct_nrrd.get_jpegs(r'E:\\Internship Mass storage\\First 3 datasets\\Ricord-1a chest only\\Converted second run') # the function will create 'images_quick_check' folder in the specified directory "
   ]
  },
  {
   "cell_type": "code",
   "execution_count": null,
   "id": "e8ac7494",
   "metadata": {},
   "outputs": [],
   "source": [
    "from ipywidgets import interact\n",
    "import numpy as np\n",
    "from PIL import Image\n",
    "\n",
    "def browse_images(images,names):\n",
    "    n = len(images)\n",
    "    def view_image(i):\n",
    "        plt.figure(figsize=(20,10))\n",
    "        plt.imshow(images[i])#, cmap=plt.cm.gray_r, interpolation='nearest')\n",
    "        plt.title('Slice: %s' % names[i])\n",
    "        plt.axis('off')\n",
    "        plt.show()\n",
    "    interact(view_image, i=(0,n-1))\n",
    "\n",
    "for pat,_ in data_ct_nrrd:\n",
    "    _,file_struct = [*os.walk(os.path.join(r'E:\\Internship Mass storage\\First 3 datasets\\Ricord-1a chest only\\Converted second run\\images_quick_check',pat))]\n",
    "    root,images = file_struct[0],file_struct[2]\n",
    "    imgs =[np.array(Image.open(os.path.join(root,img))) for img in images]\n",
    "    print(pat)\n",
    "    browse_images(imgs,images)\n",
    "    break"
   ]
  },
  {
   "cell_type": "code",
   "execution_count": null,
   "id": "96b2aa43",
   "metadata": {},
   "outputs": [],
   "source": [
    "parameters = r\"C:\\Users\\MegaMert\\Documents\\GitHub\\precision-medicine-toolbox\\examples\\example_ct_parameters.yaml\"\n",
    "features = data_ct_nrrd.extract_features(parameters, loggenabled=True)"
   ]
  },
  {
   "cell_type": "code",
   "execution_count": null,
   "id": "f9451d64",
   "metadata": {},
   "outputs": [],
   "source": [
    "sb.set(context='poster', style='white')\n",
    "data_ct_nrrd.pre_process(ref_img_path = r'E:\\Internship Mass storage\\First 3 datasets\\Ricord-1a chest only\\Converted second run\\converted_nrrds\\LUNG1-001_1-1\\image.nrrd',\n",
    "                         save_path = r'E:\\Internship Mass storage\\First 3 datasets\\Ricord-1a chest only\\Converted second run\\Preprocessed',\n",
    "                         hist_match = False,        # boolean\n",
    "                         subcateneus_fat = False,   # boolean\n",
    "                         fat_value = 774,           # this is a dummy value, \n",
    "                                                    # you would need to find that value for each image\n",
    "                         percentile_scaling = False, # boolean\n",
    "                         window_filtering_params = (1500,-600), #Window Filtering [WW,WL]\n",
    "                         binning = 255,             # this is a dummy value, it takes False or int \n",
    "                                                    # (# of bins for intensity resampling)\n",
    "                         verbosity = True,          # boolean\n",
    "                         z_score = True,           # boolean \n",
    "                         hist_equalize = True,     # boolean\n",
    "                         norm_coeff = (1000.,500.), # these are dummy values, you would need to estimate real mu and sigma\n",
    "                                                    # it takes None or tuple: (mu,sigma)\n",
    "                         visualize = True)"
   ]
  },
  {
   "cell_type": "code",
   "execution_count": null,
   "id": "05256868",
   "metadata": {},
   "outputs": [],
   "source": [
    "features.head(3)"
   ]
  },
  {
   "cell_type": "code",
   "execution_count": null,
   "id": "447e8ff5",
   "metadata": {},
   "outputs": [],
   "source": [
    "writer = pd.ExcelWriter(r'C:\\Users\\MegaMert\\Documents\\GitHub\\precision-medicine-toolbox\\data/features/extracted_features.xlsx') \n",
    "features.to_excel(writer, 'Sheet1')\n",
    "writer.save()"
   ]
  },
  {
   "cell_type": "code",
   "execution_count": null,
   "id": "9c97cbec",
   "metadata": {},
   "outputs": [],
   "source": []
  }
 ],
 "metadata": {
  "kernelspec": {
   "display_name": "Python 3 (ipykernel)",
   "language": "python",
   "name": "python3"
  },
  "language_info": {
   "codemirror_mode": {
    "name": "ipython",
    "version": 3
   },
   "file_extension": ".py",
   "mimetype": "text/x-python",
   "name": "python",
   "nbconvert_exporter": "python",
   "pygments_lexer": "ipython3",
   "version": "3.9.7"
  }
 },
 "nbformat": 4,
 "nbformat_minor": 5
}
