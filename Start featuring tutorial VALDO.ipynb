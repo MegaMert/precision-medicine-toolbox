{
 "cells": [
  {
   "cell_type": "code",
   "execution_count": 1,
   "id": "b57c2930",
   "metadata": {},
   "outputs": [],
   "source": [
    "import os,sys\n",
    "from pmtool.AnalysisBox import AnalysisBox\n",
    "import pandas as pd"
   ]
  },
  {
   "cell_type": "code",
   "execution_count": null,
   "id": "88d4e877",
   "metadata": {},
   "outputs": [],
   "source": [
    "parameters = {\n",
    "    'feature_path': r\"E:\\Internship Mass storage\\First 3 datasets\\VALDO dataset/extracted_features.xlsx\", # path to csv/xls file with features\n",
    "    'outcome_path': \"../data/features/extended_clinical_df.xlsx\", #unknown\n",
    "    'patient_column': 'Patient', # name of column with patient ID\n",
    "    'patient_in_outcome_column': 'PatientID', # name of column with patient ID in clinical data file\n",
    "    'outcome_column': '1yearsurvival' # name of outcome column\n",
    "}"
   ]
  },
  {
   "cell_type": "code",
   "execution_count": null,
   "id": "35c0bdf0",
   "metadata": {},
   "outputs": [],
   "source": [
    "fs = AnalysisBox(**parameters)"
   ]
  },
  {
   "cell_type": "code",
   "execution_count": null,
   "id": "e5e2edd6",
   "metadata": {},
   "outputs": [],
   "source": [
    "print ('Patient IDs: ', fs._patient_name[:10])\n",
    "print ('\\nFeature names: ', fs._feature_column[:10])"
   ]
  },
  {
   "cell_type": "code",
   "execution_count": null,
   "id": "dbd2eec2",
   "metadata": {},
   "outputs": [],
   "source": [
    "# put this here for the mutliclass setup: fs._feature_outcome_dataframe[fs._feature_outcome_dataframe['Overall.Stage'].isnull()]\n",
    "fs.handle_nan(axis=0)\n",
    "\n"
   ]
  },
  {
   "cell_type": "code",
   "execution_count": null,
   "id": "e17e40c9",
   "metadata": {},
   "outputs": [],
   "source": [
    "fs._feature_outcome_dataframe.head(5) # not included in multiclass setup"
   ]
  },
  {
   "cell_type": "code",
   "execution_count": null,
   "id": "7cab7276",
   "metadata": {},
   "outputs": [],
   "source": [
    "fs.plot_distribution(fs._feature_column[:8]) # add: fs.plot_distribution(fs._feature_column[:8], ['I', 'IIIb'])"
   ]
  },
  {
   "cell_type": "code",
   "execution_count": null,
   "id": "4b1f807a",
   "metadata": {},
   "outputs": [],
   "source": [
    "fs.plot_correlation_matrix(fs._feature_column[:8]) # not included in multiclass instead: fs.plot_distribution(fs._feature_column[:8], ['I', 'IIIb'])\n"
   ]
  },
  {
   "cell_type": "code",
   "execution_count": null,
   "id": "a9aac944",
   "metadata": {},
   "outputs": [],
   "source": [
    "fs.plot_MW_p(fs._feature_column[:8]) # change for mutliclass to: fs.plot_MW_p(fs._feature_column[:100], ['I', 'IIIb'])"
   ]
  },
  {
   "cell_type": "code",
   "execution_count": null,
   "id": "d4ce6cd8",
   "metadata": {},
   "outputs": [],
   "source": [
    "fs.plot_univariate_roc(fs._feature_column[:8], auc_threshold=0.70) # change for mutliclass to: fs.plot_univariate_roc(fs._feature_column[:100], ['I', 'IIIb'])"
   ]
  },
  {
   "cell_type": "code",
   "execution_count": null,
   "id": "3492076c",
   "metadata": {},
   "outputs": [],
   "source": [
    "fs.calculate_basic_stats(volume_feature='original_shape_VoxelVolume')"
   ]
  },
  {
   "cell_type": "code",
   "execution_count": null,
   "id": "70408fcd",
   "metadata": {},
   "outputs": [],
   "source": [
    "print('Basic statistics for each feature')\n",
    "pd.read_excel('../data/features/extracted_features_full_basic_stats.xlsx')"
   ]
  },
  {
   "cell_type": "code",
   "execution_count": null,
   "id": "389ef0f8",
   "metadata": {},
   "outputs": [],
   "source": [
    "fs.volume_analysis(volume_feature='original_shape_VoxelVolume')"
   ]
  }
 ],
 "metadata": {
  "kernelspec": {
   "display_name": "Python 3 (ipykernel)",
   "language": "python",
   "name": "python3"
  },
  "language_info": {
   "codemirror_mode": {
    "name": "ipython",
    "version": 3
   },
   "file_extension": ".py",
   "mimetype": "text/x-python",
   "name": "python",
   "nbconvert_exporter": "python",
   "pygments_lexer": "ipython3",
   "version": "3.9.7"
  }
 },
 "nbformat": 4,
 "nbformat_minor": 5
}
