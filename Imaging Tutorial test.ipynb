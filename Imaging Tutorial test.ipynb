{
 "cells": [
  {
   "cell_type": "code",
   "execution_count": 3,
   "id": "63ce90a2",
   "metadata": {},
   "outputs": [],
   "source": [
    "import os,sys\n",
    "from pmtool.ToolBox import ToolBox\n",
    "import pandas as pd\n",
    "from pandas import DataFrame\n",
    "import matplotlib.pyplot as plt\n",
    "import numpy as np\n",
    "import seaborn as sb\n",
    "\n",
    "%matplotlib inline"
   ]
  },
  {
   "cell_type": "code",
   "execution_count": 4,
   "id": "1ad101d7",
   "metadata": {},
   "outputs": [
    {
     "name": "stderr",
     "output_type": "stream",
     "text": [
      "  0%|          | 0/423 [00:00<?, ?it/s]C:\\Users\\MegaMert\\Documents\\GitHub\\precision-medicine-toolbox\\pmtool\\DataSet.py:98: UserWarning: No dcm data found for patient:LICENSE check the folder, ensure that dicom files ends with .dcm\n",
      "  warn('No dcm data found for patient:%s check the folder, ensure that dicom files ends with .dcm'%patient)\n",
      "100%|██████████| 423/423 [03:15<00:00,  2.16it/s]"
     ]
    },
    {
     "name": "stdout",
     "output_type": "stream",
     "text": [
      "it ran\n"
     ]
    },
    {
     "name": "stderr",
     "output_type": "stream",
     "text": [
      "\n"
     ]
    }
   ],
   "source": [
    "parameters = {'data_path': r'C:\\Users\\MegaMert\\Desktop\\Internship files\\Tutorial data\\manifest-1649682145244\\NSCLC-Radiomics', # path to your DICOM data\n",
    "              'data_type': 'dcm', # original data format: DICOM\n",
    "              'multi_rts_per_pat': False}   # when False, it will look only for 1 rtstruct in the patient folder, \n",
    "                                            # this will speed up the process, \n",
    "                                            # if you have more then 1 rtstruct per patient, set it to True\n",
    "data_dcms = ToolBox(**parameters)\n",
    "print(\"it ran\")"
   ]
  },
  {
   "cell_type": "code",
   "execution_count": 5,
   "id": "2ff7d648",
   "metadata": {},
   "outputs": [
    {
     "name": "stderr",
     "output_type": "stream",
     "text": [
      "Patients processed:  32%|███▏      | 137/422 [01:35<03:18,  1.44it/s]\n"
     ]
    },
    {
     "ename": "KeyboardInterrupt",
     "evalue": "",
     "output_type": "error",
     "traceback": [
      "\u001b[1;31m---------------------------------------------------------------------------\u001b[0m",
      "\u001b[1;31mKeyboardInterrupt\u001b[0m                         Traceback (most recent call last)",
      "\u001b[1;32m~\\AppData\\Local\\Temp/ipykernel_21196/391291870.py\u001b[0m in \u001b[0;36m<module>\u001b[1;34m\u001b[0m\n\u001b[1;32m----> 1\u001b[1;33m \u001b[0mdataset_description\u001b[0m \u001b[1;33m=\u001b[0m \u001b[0mdata_dcms\u001b[0m\u001b[1;33m.\u001b[0m\u001b[0mget_dataset_description\u001b[0m\u001b[1;33m(\u001b[0m\u001b[1;33m)\u001b[0m\u001b[1;33m\u001b[0m\u001b[1;33m\u001b[0m\u001b[0m\n\u001b[0m\u001b[0;32m      2\u001b[0m \u001b[0mdataset_description\u001b[0m\u001b[1;33m.\u001b[0m\u001b[0mhead\u001b[0m\u001b[1;33m(\u001b[0m\u001b[1;36m10\u001b[0m\u001b[1;33m)\u001b[0m\u001b[1;33m\u001b[0m\u001b[1;33m\u001b[0m\u001b[0m\n",
      "\u001b[1;32m~\\Documents\\GitHub\\precision-medicine-toolbox\\pmtool\\ToolBox.py\u001b[0m in \u001b[0;36mget_dataset_description\u001b[1;34m(self, parameter_list)\u001b[0m\n\u001b[0;32m     58\u001b[0m                 \u001b[0mimage\u001b[0m\u001b[1;33m,\u001b[0m\u001b[0m_\u001b[0m \u001b[1;33m=\u001b[0m \u001b[0mself\u001b[0m\u001b[1;33m.\u001b[0m\u001b[0m__read_scan\u001b[0m\u001b[1;33m(\u001b[0m\u001b[0mpath\u001b[0m\u001b[1;33m[\u001b[0m\u001b[1;36m0\u001b[0m\u001b[1;33m]\u001b[0m\u001b[1;33m)\u001b[0m\u001b[1;33m\u001b[0m\u001b[1;33m\u001b[0m\u001b[0m\n\u001b[0;32m     59\u001b[0m                 \u001b[1;32mfor\u001b[0m \u001b[0mi\u001b[0m\u001b[1;33m,\u001b[0m\u001b[0mtemp_slice\u001b[0m \u001b[1;32min\u001b[0m \u001b[0menumerate\u001b[0m\u001b[1;33m(\u001b[0m\u001b[0mimage\u001b[0m\u001b[1;33m)\u001b[0m\u001b[1;33m:\u001b[0m\u001b[1;33m\u001b[0m\u001b[1;33m\u001b[0m\u001b[0m\n\u001b[1;32m---> 60\u001b[1;33m                     \u001b[0mdataset_stats\u001b[0m \u001b[1;33m=\u001b[0m \u001b[0mdataset_stats\u001b[0m\u001b[1;33m.\u001b[0m\u001b[0mappend\u001b[0m\u001b[1;33m(\u001b[0m\u001b[0mpd\u001b[0m\u001b[1;33m.\u001b[0m\u001b[0mSeries\u001b[0m\u001b[1;33m(\u001b[0m\u001b[1;33m[\u001b[0m\u001b[0mpat\u001b[0m\u001b[1;33m,\u001b[0m\u001b[0mstr\u001b[0m\u001b[1;33m(\u001b[0m\u001b[0mi\u001b[0m\u001b[1;33m)\u001b[0m\u001b[1;33m,\u001b[0m\u001b[1;33m*\u001b[0m\u001b[1;33m[\u001b[0m\u001b[0mself\u001b[0m\u001b[1;33m.\u001b[0m\u001b[0m__val_check\u001b[0m\u001b[1;33m(\u001b[0m\u001b[0mtemp_slice\u001b[0m\u001b[1;33m,\u001b[0m\u001b[0mx\u001b[0m\u001b[1;33m)\u001b[0m \u001b[1;32mfor\u001b[0m \u001b[0mx\u001b[0m \u001b[1;32min\u001b[0m \u001b[0mparams_list\u001b[0m\u001b[1;33m]\u001b[0m\u001b[1;33m]\u001b[0m\u001b[1;33m,\u001b[0m\u001b[0mindex\u001b[0m \u001b[1;33m=\u001b[0m \u001b[1;33m[\u001b[0m\u001b[1;34m'patient'\u001b[0m\u001b[1;33m,\u001b[0m\u001b[1;34m'slice#'\u001b[0m\u001b[1;33m,\u001b[0m\u001b[1;33m*\u001b[0m\u001b[0mparams_list\u001b[0m\u001b[1;33m]\u001b[0m\u001b[1;33m)\u001b[0m\u001b[1;33m,\u001b[0m\u001b[0mignore_index\u001b[0m\u001b[1;33m=\u001b[0m\u001b[1;32mTrue\u001b[0m\u001b[1;33m)\u001b[0m\u001b[1;33m\u001b[0m\u001b[1;33m\u001b[0m\u001b[0m\n\u001b[0m\u001b[0;32m     61\u001b[0m \u001b[1;33m\u001b[0m\u001b[0m\n\u001b[0;32m     62\u001b[0m             \u001b[1;32mreturn\u001b[0m \u001b[0mdataset_stats\u001b[0m\u001b[1;33m\u001b[0m\u001b[1;33m\u001b[0m\u001b[0m\n",
      "\u001b[1;32m~\\anaconda3\\lib\\site-packages\\pandas\\core\\frame.py\u001b[0m in \u001b[0;36mappend\u001b[1;34m(self, other, ignore_index, verify_integrity, sort)\u001b[0m\n\u001b[0;32m   8963\u001b[0m             \u001b[0mto_concat\u001b[0m \u001b[1;33m=\u001b[0m \u001b[1;33m[\u001b[0m\u001b[0mself\u001b[0m\u001b[1;33m,\u001b[0m \u001b[0mother\u001b[0m\u001b[1;33m]\u001b[0m\u001b[1;33m\u001b[0m\u001b[1;33m\u001b[0m\u001b[0m\n\u001b[0;32m   8964\u001b[0m         return (\n\u001b[1;32m-> 8965\u001b[1;33m             concat(\n\u001b[0m\u001b[0;32m   8966\u001b[0m                 \u001b[0mto_concat\u001b[0m\u001b[1;33m,\u001b[0m\u001b[1;33m\u001b[0m\u001b[1;33m\u001b[0m\u001b[0m\n\u001b[0;32m   8967\u001b[0m                 \u001b[0mignore_index\u001b[0m\u001b[1;33m=\u001b[0m\u001b[0mignore_index\u001b[0m\u001b[1;33m,\u001b[0m\u001b[1;33m\u001b[0m\u001b[1;33m\u001b[0m\u001b[0m\n",
      "\u001b[1;32m~\\anaconda3\\lib\\site-packages\\pandas\\util\\_decorators.py\u001b[0m in \u001b[0;36mwrapper\u001b[1;34m(*args, **kwargs)\u001b[0m\n\u001b[0;32m    309\u001b[0m                     \u001b[0mstacklevel\u001b[0m\u001b[1;33m=\u001b[0m\u001b[0mstacklevel\u001b[0m\u001b[1;33m,\u001b[0m\u001b[1;33m\u001b[0m\u001b[1;33m\u001b[0m\u001b[0m\n\u001b[0;32m    310\u001b[0m                 )\n\u001b[1;32m--> 311\u001b[1;33m             \u001b[1;32mreturn\u001b[0m \u001b[0mfunc\u001b[0m\u001b[1;33m(\u001b[0m\u001b[1;33m*\u001b[0m\u001b[0margs\u001b[0m\u001b[1;33m,\u001b[0m \u001b[1;33m**\u001b[0m\u001b[0mkwargs\u001b[0m\u001b[1;33m)\u001b[0m\u001b[1;33m\u001b[0m\u001b[1;33m\u001b[0m\u001b[0m\n\u001b[0m\u001b[0;32m    312\u001b[0m \u001b[1;33m\u001b[0m\u001b[0m\n\u001b[0;32m    313\u001b[0m         \u001b[1;32mreturn\u001b[0m \u001b[0mwrapper\u001b[0m\u001b[1;33m\u001b[0m\u001b[1;33m\u001b[0m\u001b[0m\n",
      "\u001b[1;32m~\\anaconda3\\lib\\site-packages\\pandas\\core\\reshape\\concat.py\u001b[0m in \u001b[0;36mconcat\u001b[1;34m(objs, axis, join, ignore_index, keys, levels, names, verify_integrity, sort, copy)\u001b[0m\n\u001b[0;32m    305\u001b[0m     )\n\u001b[0;32m    306\u001b[0m \u001b[1;33m\u001b[0m\u001b[0m\n\u001b[1;32m--> 307\u001b[1;33m     \u001b[1;32mreturn\u001b[0m \u001b[0mop\u001b[0m\u001b[1;33m.\u001b[0m\u001b[0mget_result\u001b[0m\u001b[1;33m(\u001b[0m\u001b[1;33m)\u001b[0m\u001b[1;33m\u001b[0m\u001b[1;33m\u001b[0m\u001b[0m\n\u001b[0m\u001b[0;32m    308\u001b[0m \u001b[1;33m\u001b[0m\u001b[0m\n\u001b[0;32m    309\u001b[0m \u001b[1;33m\u001b[0m\u001b[0m\n",
      "\u001b[1;32m~\\anaconda3\\lib\\site-packages\\pandas\\core\\reshape\\concat.py\u001b[0m in \u001b[0;36mget_result\u001b[1;34m(self)\u001b[0m\n\u001b[0;32m    530\u001b[0m                 \u001b[0mmgrs_indexers\u001b[0m\u001b[1;33m.\u001b[0m\u001b[0mappend\u001b[0m\u001b[1;33m(\u001b[0m\u001b[1;33m(\u001b[0m\u001b[0mobj\u001b[0m\u001b[1;33m.\u001b[0m\u001b[0m_mgr\u001b[0m\u001b[1;33m,\u001b[0m \u001b[0mindexers\u001b[0m\u001b[1;33m)\u001b[0m\u001b[1;33m)\u001b[0m\u001b[1;33m\u001b[0m\u001b[1;33m\u001b[0m\u001b[0m\n\u001b[0;32m    531\u001b[0m \u001b[1;33m\u001b[0m\u001b[0m\n\u001b[1;32m--> 532\u001b[1;33m             new_data = concatenate_managers(\n\u001b[0m\u001b[0;32m    533\u001b[0m                 \u001b[0mmgrs_indexers\u001b[0m\u001b[1;33m,\u001b[0m \u001b[0mself\u001b[0m\u001b[1;33m.\u001b[0m\u001b[0mnew_axes\u001b[0m\u001b[1;33m,\u001b[0m \u001b[0mconcat_axis\u001b[0m\u001b[1;33m=\u001b[0m\u001b[0mself\u001b[0m\u001b[1;33m.\u001b[0m\u001b[0mbm_axis\u001b[0m\u001b[1;33m,\u001b[0m \u001b[0mcopy\u001b[0m\u001b[1;33m=\u001b[0m\u001b[0mself\u001b[0m\u001b[1;33m.\u001b[0m\u001b[0mcopy\u001b[0m\u001b[1;33m\u001b[0m\u001b[1;33m\u001b[0m\u001b[0m\n\u001b[0;32m    534\u001b[0m             )\n",
      "\u001b[1;32m~\\anaconda3\\lib\\site-packages\\pandas\\core\\internals\\concat.py\u001b[0m in \u001b[0;36mconcatenate_managers\u001b[1;34m(mgrs_indexers, axes, concat_axis, copy)\u001b[0m\n\u001b[0;32m    224\u001b[0m             \u001b[0mfastpath\u001b[0m \u001b[1;33m=\u001b[0m \u001b[0mblk\u001b[0m\u001b[1;33m.\u001b[0m\u001b[0mvalues\u001b[0m\u001b[1;33m.\u001b[0m\u001b[0mdtype\u001b[0m \u001b[1;33m==\u001b[0m \u001b[0mvalues\u001b[0m\u001b[1;33m.\u001b[0m\u001b[0mdtype\u001b[0m\u001b[1;33m\u001b[0m\u001b[1;33m\u001b[0m\u001b[0m\n\u001b[0;32m    225\u001b[0m         \u001b[1;32melse\u001b[0m\u001b[1;33m:\u001b[0m\u001b[1;33m\u001b[0m\u001b[1;33m\u001b[0m\u001b[0m\n\u001b[1;32m--> 226\u001b[1;33m             \u001b[0mvalues\u001b[0m \u001b[1;33m=\u001b[0m \u001b[0m_concatenate_join_units\u001b[0m\u001b[1;33m(\u001b[0m\u001b[0mjoin_units\u001b[0m\u001b[1;33m,\u001b[0m \u001b[0mconcat_axis\u001b[0m\u001b[1;33m,\u001b[0m \u001b[0mcopy\u001b[0m\u001b[1;33m=\u001b[0m\u001b[0mcopy\u001b[0m\u001b[1;33m)\u001b[0m\u001b[1;33m\u001b[0m\u001b[1;33m\u001b[0m\u001b[0m\n\u001b[0m\u001b[0;32m    227\u001b[0m             \u001b[0mfastpath\u001b[0m \u001b[1;33m=\u001b[0m \u001b[1;32mFalse\u001b[0m\u001b[1;33m\u001b[0m\u001b[1;33m\u001b[0m\u001b[0m\n\u001b[0;32m    228\u001b[0m \u001b[1;33m\u001b[0m\u001b[0m\n",
      "\u001b[1;32m~\\anaconda3\\lib\\site-packages\\pandas\\core\\internals\\concat.py\u001b[0m in \u001b[0;36m_concatenate_join_units\u001b[1;34m(join_units, concat_axis, copy)\u001b[0m\n\u001b[0;32m    521\u001b[0m \u001b[1;33m\u001b[0m\u001b[0m\n\u001b[0;32m    522\u001b[0m     \u001b[1;32melse\u001b[0m\u001b[1;33m:\u001b[0m\u001b[1;33m\u001b[0m\u001b[1;33m\u001b[0m\u001b[0m\n\u001b[1;32m--> 523\u001b[1;33m         \u001b[0mconcat_values\u001b[0m \u001b[1;33m=\u001b[0m \u001b[0mconcat_compat\u001b[0m\u001b[1;33m(\u001b[0m\u001b[0mto_concat\u001b[0m\u001b[1;33m,\u001b[0m \u001b[0maxis\u001b[0m\u001b[1;33m=\u001b[0m\u001b[0mconcat_axis\u001b[0m\u001b[1;33m)\u001b[0m\u001b[1;33m\u001b[0m\u001b[1;33m\u001b[0m\u001b[0m\n\u001b[0m\u001b[0;32m    524\u001b[0m \u001b[1;33m\u001b[0m\u001b[0m\n\u001b[0;32m    525\u001b[0m     \u001b[1;32mreturn\u001b[0m \u001b[0mconcat_values\u001b[0m\u001b[1;33m\u001b[0m\u001b[1;33m\u001b[0m\u001b[0m\n",
      "\u001b[1;32m~\\anaconda3\\lib\\site-packages\\pandas\\core\\dtypes\\concat.py\u001b[0m in \u001b[0;36mconcat_compat\u001b[1;34m(to_concat, axis, ea_compat_axis)\u001b[0m\n\u001b[0;32m    149\u001b[0m                 \u001b[0mto_concat\u001b[0m \u001b[1;33m=\u001b[0m \u001b[1;33m[\u001b[0m\u001b[0mx\u001b[0m\u001b[1;33m.\u001b[0m\u001b[0mastype\u001b[0m\u001b[1;33m(\u001b[0m\u001b[1;34m\"object\"\u001b[0m\u001b[1;33m)\u001b[0m \u001b[1;32mfor\u001b[0m \u001b[0mx\u001b[0m \u001b[1;32min\u001b[0m \u001b[0mto_concat\u001b[0m\u001b[1;33m]\u001b[0m\u001b[1;33m\u001b[0m\u001b[1;33m\u001b[0m\u001b[0m\n\u001b[0;32m    150\u001b[0m \u001b[1;33m\u001b[0m\u001b[0m\n\u001b[1;32m--> 151\u001b[1;33m     \u001b[1;32mreturn\u001b[0m \u001b[0mnp\u001b[0m\u001b[1;33m.\u001b[0m\u001b[0mconcatenate\u001b[0m\u001b[1;33m(\u001b[0m\u001b[0mto_concat\u001b[0m\u001b[1;33m,\u001b[0m \u001b[0maxis\u001b[0m\u001b[1;33m=\u001b[0m\u001b[0maxis\u001b[0m\u001b[1;33m)\u001b[0m\u001b[1;33m\u001b[0m\u001b[1;33m\u001b[0m\u001b[0m\n\u001b[0m\u001b[0;32m    152\u001b[0m \u001b[1;33m\u001b[0m\u001b[0m\n\u001b[0;32m    153\u001b[0m \u001b[1;33m\u001b[0m\u001b[0m\n",
      "\u001b[1;32m<__array_function__ internals>\u001b[0m in \u001b[0;36mconcatenate\u001b[1;34m(*args, **kwargs)\u001b[0m\n",
      "\u001b[1;31mKeyboardInterrupt\u001b[0m: "
     ]
    }
   ],
   "source": [
    "dataset_description = data_dcms.get_dataset_description() \n",
    "dataset_description.head(10)"
   ]
  },
  {
   "cell_type": "code",
   "execution_count": 3,
   "id": "4ab66475",
   "metadata": {},
   "outputs": [
    {
     "name": "stdout",
     "output_type": "stream",
     "text": [
      "Unique modalities found:  CT\n"
     ]
    }
   ],
   "source": [
    "print('Unique modalities found: ', np.unique(dataset_description.Modality.values)[0])"
   ]
  },
  {
   "cell_type": "code",
   "execution_count": 4,
   "id": "b1790f2b",
   "metadata": {},
   "outputs": [
    {
     "name": "stderr",
     "output_type": "stream",
     "text": [
      "  0%|          | 0/423 [00:00<?, ?it/s]C:\\Users\\MegaMert\\Documents\\GitHub\\precision-medicine-toolbox\\pmtool\\DataSet.py:98: UserWarning: No dcm data found for patient:LICENSE check the folder, ensure that dicom files ends with .dcm\n",
      "  warn('No dcm data found for patient:%s check the folder, ensure that dicom files ends with .dcm'%patient)\n",
      "100%|██████████| 423/423 [03:24<00:00,  2.07it/s]\n",
      "Patients processed: 100%|██████████| 422/422 [08:01<00:00,  1.14s/it]\n"
     ]
    },
    {
     "data": {
      "text/html": [
       "<div>\n",
       "<style scoped>\n",
       "    .dataframe tbody tr th:only-of-type {\n",
       "        vertical-align: middle;\n",
       "    }\n",
       "\n",
       "    .dataframe tbody tr th {\n",
       "        vertical-align: top;\n",
       "    }\n",
       "\n",
       "    .dataframe thead th {\n",
       "        text-align: right;\n",
       "    }\n",
       "</style>\n",
       "<table border=\"1\" class=\"dataframe\">\n",
       "  <thead>\n",
       "    <tr style=\"text-align: right;\">\n",
       "      <th></th>\n",
       "      <th>PatientName</th>\n",
       "      <th>ConvolutionKernel</th>\n",
       "      <th>SliceThickness</th>\n",
       "      <th>PixelSpacing</th>\n",
       "      <th>KVP</th>\n",
       "      <th>Exposure</th>\n",
       "      <th>XRayTubeCurrent</th>\n",
       "      <th>SeriesDate</th>\n",
       "      <th>patient</th>\n",
       "      <th>slice#</th>\n",
       "    </tr>\n",
       "  </thead>\n",
       "  <tbody>\n",
       "    <tr>\n",
       "      <th>0</th>\n",
       "      <td>(L, U, N, G, 1, -, 0, 0, 1)</td>\n",
       "      <td>B19f</td>\n",
       "      <td>3.0</td>\n",
       "      <td>[0.9765625, 0.9765625]</td>\n",
       "      <td>120.0</td>\n",
       "      <td>400</td>\n",
       "      <td>80</td>\n",
       "      <td>20080918</td>\n",
       "      <td>LUNG1-001_1-1</td>\n",
       "      <td>0</td>\n",
       "    </tr>\n",
       "    <tr>\n",
       "      <th>1</th>\n",
       "      <td>(L, U, N, G, 1, -, 0, 0, 1)</td>\n",
       "      <td>B19f</td>\n",
       "      <td>3.0</td>\n",
       "      <td>[0.9765625, 0.9765625]</td>\n",
       "      <td>120.0</td>\n",
       "      <td>400</td>\n",
       "      <td>80</td>\n",
       "      <td>20080918</td>\n",
       "      <td>LUNG1-001_1-1</td>\n",
       "      <td>1</td>\n",
       "    </tr>\n",
       "    <tr>\n",
       "      <th>2</th>\n",
       "      <td>(L, U, N, G, 1, -, 0, 0, 1)</td>\n",
       "      <td>B19f</td>\n",
       "      <td>3.0</td>\n",
       "      <td>[0.9765625, 0.9765625]</td>\n",
       "      <td>120.0</td>\n",
       "      <td>400</td>\n",
       "      <td>80</td>\n",
       "      <td>20080918</td>\n",
       "      <td>LUNG1-001_1-1</td>\n",
       "      <td>2</td>\n",
       "    </tr>\n",
       "    <tr>\n",
       "      <th>3</th>\n",
       "      <td>(L, U, N, G, 1, -, 0, 0, 1)</td>\n",
       "      <td>B19f</td>\n",
       "      <td>3.0</td>\n",
       "      <td>[0.9765625, 0.9765625]</td>\n",
       "      <td>120.0</td>\n",
       "      <td>400</td>\n",
       "      <td>80</td>\n",
       "      <td>20080918</td>\n",
       "      <td>LUNG1-001_1-1</td>\n",
       "      <td>3</td>\n",
       "    </tr>\n",
       "    <tr>\n",
       "      <th>4</th>\n",
       "      <td>(L, U, N, G, 1, -, 0, 0, 1)</td>\n",
       "      <td>B19f</td>\n",
       "      <td>3.0</td>\n",
       "      <td>[0.9765625, 0.9765625]</td>\n",
       "      <td>120.0</td>\n",
       "      <td>400</td>\n",
       "      <td>80</td>\n",
       "      <td>20080918</td>\n",
       "      <td>LUNG1-001_1-1</td>\n",
       "      <td>4</td>\n",
       "    </tr>\n",
       "    <tr>\n",
       "      <th>5</th>\n",
       "      <td>(L, U, N, G, 1, -, 0, 0, 1)</td>\n",
       "      <td>B19f</td>\n",
       "      <td>3.0</td>\n",
       "      <td>[0.9765625, 0.9765625]</td>\n",
       "      <td>120.0</td>\n",
       "      <td>400</td>\n",
       "      <td>80</td>\n",
       "      <td>20080918</td>\n",
       "      <td>LUNG1-001_1-1</td>\n",
       "      <td>5</td>\n",
       "    </tr>\n",
       "    <tr>\n",
       "      <th>6</th>\n",
       "      <td>(L, U, N, G, 1, -, 0, 0, 1)</td>\n",
       "      <td>B19f</td>\n",
       "      <td>3.0</td>\n",
       "      <td>[0.9765625, 0.9765625]</td>\n",
       "      <td>120.0</td>\n",
       "      <td>400</td>\n",
       "      <td>80</td>\n",
       "      <td>20080918</td>\n",
       "      <td>LUNG1-001_1-1</td>\n",
       "      <td>6</td>\n",
       "    </tr>\n",
       "    <tr>\n",
       "      <th>7</th>\n",
       "      <td>(L, U, N, G, 1, -, 0, 0, 1)</td>\n",
       "      <td>B19f</td>\n",
       "      <td>3.0</td>\n",
       "      <td>[0.9765625, 0.9765625]</td>\n",
       "      <td>120.0</td>\n",
       "      <td>400</td>\n",
       "      <td>80</td>\n",
       "      <td>20080918</td>\n",
       "      <td>LUNG1-001_1-1</td>\n",
       "      <td>7</td>\n",
       "    </tr>\n",
       "    <tr>\n",
       "      <th>8</th>\n",
       "      <td>(L, U, N, G, 1, -, 0, 0, 1)</td>\n",
       "      <td>B19f</td>\n",
       "      <td>3.0</td>\n",
       "      <td>[0.9765625, 0.9765625]</td>\n",
       "      <td>120.0</td>\n",
       "      <td>400</td>\n",
       "      <td>80</td>\n",
       "      <td>20080918</td>\n",
       "      <td>LUNG1-001_1-1</td>\n",
       "      <td>8</td>\n",
       "    </tr>\n",
       "    <tr>\n",
       "      <th>9</th>\n",
       "      <td>(L, U, N, G, 1, -, 0, 0, 1)</td>\n",
       "      <td>B19f</td>\n",
       "      <td>3.0</td>\n",
       "      <td>[0.9765625, 0.9765625]</td>\n",
       "      <td>120.0</td>\n",
       "      <td>400</td>\n",
       "      <td>80</td>\n",
       "      <td>20080918</td>\n",
       "      <td>LUNG1-001_1-1</td>\n",
       "      <td>9</td>\n",
       "    </tr>\n",
       "  </tbody>\n",
       "</table>\n",
       "</div>"
      ],
      "text/plain": [
       "                   PatientName ConvolutionKernel  SliceThickness  \\\n",
       "0  (L, U, N, G, 1, -, 0, 0, 1)              B19f             3.0   \n",
       "1  (L, U, N, G, 1, -, 0, 0, 1)              B19f             3.0   \n",
       "2  (L, U, N, G, 1, -, 0, 0, 1)              B19f             3.0   \n",
       "3  (L, U, N, G, 1, -, 0, 0, 1)              B19f             3.0   \n",
       "4  (L, U, N, G, 1, -, 0, 0, 1)              B19f             3.0   \n",
       "5  (L, U, N, G, 1, -, 0, 0, 1)              B19f             3.0   \n",
       "6  (L, U, N, G, 1, -, 0, 0, 1)              B19f             3.0   \n",
       "7  (L, U, N, G, 1, -, 0, 0, 1)              B19f             3.0   \n",
       "8  (L, U, N, G, 1, -, 0, 0, 1)              B19f             3.0   \n",
       "9  (L, U, N, G, 1, -, 0, 0, 1)              B19f             3.0   \n",
       "\n",
       "             PixelSpacing    KVP Exposure XRayTubeCurrent SeriesDate  \\\n",
       "0  [0.9765625, 0.9765625]  120.0      400              80   20080918   \n",
       "1  [0.9765625, 0.9765625]  120.0      400              80   20080918   \n",
       "2  [0.9765625, 0.9765625]  120.0      400              80   20080918   \n",
       "3  [0.9765625, 0.9765625]  120.0      400              80   20080918   \n",
       "4  [0.9765625, 0.9765625]  120.0      400              80   20080918   \n",
       "5  [0.9765625, 0.9765625]  120.0      400              80   20080918   \n",
       "6  [0.9765625, 0.9765625]  120.0      400              80   20080918   \n",
       "7  [0.9765625, 0.9765625]  120.0      400              80   20080918   \n",
       "8  [0.9765625, 0.9765625]  120.0      400              80   20080918   \n",
       "9  [0.9765625, 0.9765625]  120.0      400              80   20080918   \n",
       "\n",
       "         patient slice#  \n",
       "0  LUNG1-001_1-1      0  \n",
       "1  LUNG1-001_1-1      1  \n",
       "2  LUNG1-001_1-1      2  \n",
       "3  LUNG1-001_1-1      3  \n",
       "4  LUNG1-001_1-1      4  \n",
       "5  LUNG1-001_1-1      5  \n",
       "6  LUNG1-001_1-1      6  \n",
       "7  LUNG1-001_1-1      7  \n",
       "8  LUNG1-001_1-1      8  \n",
       "9  LUNG1-001_1-1      9  "
      ]
     },
     "execution_count": 4,
     "metadata": {},
     "output_type": "execute_result"
    }
   ],
   "source": [
    "ct_dcms = ToolBox(**parameters)\n",
    "dataset_description = ct_dcms.get_dataset_description('CT') \n",
    "dataset_description.head(10)"
   ]
  },
  {
   "cell_type": "code",
   "execution_count": null,
   "id": "49121f98",
   "metadata": {},
   "outputs": [],
   "source": [
    "sb.set(context='poster', style='whitegrid')\n",
    "\n",
    "study_date = sorted([ 'Nan' if x=='' or x=='NaN' else str(x[0:4]) for x in list(dataset_description['SeriesDate'])])[2:]\n",
    "conv_kernel =['Nan' if x=='' or x=='NaN' else x for x in list(dataset_description['ConvolutionKernel'])]\n",
    "tube_current =[-1 if x=='' or x=='NaN' else x for x in list(dataset_description['XRayTubeCurrent'])]\n",
    "exposure =[-1 if x=='' or x=='NaN' else x for x in list(dataset_description['Exposure'])]\n",
    "ps = sorted([(x[0]) for x in list(filter(lambda x: x != 'NaN', dataset_description['PixelSpacing'].values))])\n",
    "sl_th = sorted([str(x)[0:3] for x in list(filter(lambda x: x != 'NaN', dataset_description['SliceThickness'].values))])\n",
    "figures,descriptions = [study_date,conv_kernel,tube_current,exposure,ps,sl_th],['Study Date','Conv Kernel','Tube Current','Exposure','Pixel spacing','Slice Thickness']\n",
    "\n",
    "fig,ax = plt.subplots(2,3,figsize=(25,15))\n",
    "for i in range(2):\n",
    "    for j in range(3):\n",
    "        ax[i,j].hist(figures.pop(0),alpha=0.7)\n",
    "        ax[i,j].set_title(descriptions.pop(0),fontsize=20)"
   ]
  },
  {
   "cell_type": "code",
   "execution_count": 6,
   "id": "ef903443",
   "metadata": {},
   "outputs": [],
   "source": [
    "qc_params = {'specific_modality': 'ct', # target modality: CT\n",
    "            'thickness_range': [2,5], # slice thickness should be in range of 2..5 mm\n",
    "            'spacing_range': [0.5,1.25], # pixel spacing should be in range of 0.5..1.25 mm\n",
    "            'scan_length_range': [5,170], # scan should contain from 5 to 170 slices\n",
    "            'axial_res': [512,512], # the axial resolution should be 512x512\n",
    "            'kernels_list': ['standard','lung','b19f']} # the following kernels are acceptable"
   ]
  },
  {
   "cell_type": "code",
   "execution_count": 7,
   "id": "e9a60b89",
   "metadata": {},
   "outputs": [
    {
     "name": "stderr",
     "output_type": "stream",
     "text": [
      "  0%|          | 2/422 [00:01<04:24,  1.59it/s]"
     ]
    },
    {
     "name": "stdout",
     "output_type": "stream",
     "text": [
      "Cannot perform conv kernel check for pat: LUNG1-002_1-1\n"
     ]
    },
    {
     "name": "stderr",
     "output_type": "stream",
     "text": [
      "\r",
      "  1%|          | 3/422 [00:01<03:58,  1.75it/s]"
     ]
    },
    {
     "name": "stdout",
     "output_type": "stream",
     "text": [
      "Cannot perform conv kernel check for pat: LUNG1-003_1-1\n"
     ]
    },
    {
     "name": "stderr",
     "output_type": "stream",
     "text": [
      "  1%|          | 5/422 [00:02<03:33,  1.95it/s]"
     ]
    },
    {
     "name": "stdout",
     "output_type": "stream",
     "text": [
      "Cannot perform conv kernel check for pat: LUNG1-005_1-1\n"
     ]
    },
    {
     "name": "stderr",
     "output_type": "stream",
     "text": [
      "\r",
      "  1%|▏         | 6/422 [00:03<04:06,  1.69it/s]"
     ]
    },
    {
     "name": "stdout",
     "output_type": "stream",
     "text": [
      "Cannot perform conv kernel check for pat: LUNG1-006_1-1\n"
     ]
    },
    {
     "name": "stderr",
     "output_type": "stream",
     "text": [
      "  2%|▏         | 8/422 [00:04<04:06,  1.68it/s]"
     ]
    },
    {
     "name": "stdout",
     "output_type": "stream",
     "text": [
      "Cannot perform conv kernel check for pat: LUNG1-008_1-1\n"
     ]
    },
    {
     "name": "stderr",
     "output_type": "stream",
     "text": [
      "\r",
      "  2%|▏         | 9/422 [00:05<03:54,  1.76it/s]"
     ]
    },
    {
     "name": "stdout",
     "output_type": "stream",
     "text": [
      "Cannot perform conv kernel check for pat: LUNG1-009_1-1\n"
     ]
    },
    {
     "name": "stderr",
     "output_type": "stream",
     "text": [
      "\r",
      "  2%|▏         | 10/422 [00:05<03:34,  1.92it/s]"
     ]
    },
    {
     "name": "stdout",
     "output_type": "stream",
     "text": [
      "Cannot perform conv kernel check for pat: LUNG1-010_1-1\n"
     ]
    },
    {
     "name": "stderr",
     "output_type": "stream",
     "text": [
      "\r",
      "  3%|▎         | 11/422 [00:06<03:21,  2.04it/s]"
     ]
    },
    {
     "name": "stdout",
     "output_type": "stream",
     "text": [
      "Cannot perform conv kernel check for pat: LUNG1-011_1-1\n"
     ]
    },
    {
     "name": "stderr",
     "output_type": "stream",
     "text": [
      "\r",
      "  3%|▎         | 12/422 [00:06<03:21,  2.04it/s]"
     ]
    },
    {
     "name": "stdout",
     "output_type": "stream",
     "text": [
      "Cannot perform conv kernel check for pat: LUNG1-012_1-1\n"
     ]
    },
    {
     "name": "stderr",
     "output_type": "stream",
     "text": [
      "  3%|▎         | 14/422 [00:07<03:23,  2.01it/s]"
     ]
    },
    {
     "name": "stdout",
     "output_type": "stream",
     "text": [
      "Cannot perform conv kernel check for pat: LUNG1-014_1-1\n"
     ]
    },
    {
     "name": "stderr",
     "output_type": "stream",
     "text": [
      "\r",
      "  4%|▎         | 15/422 [00:08<03:29,  1.94it/s]"
     ]
    },
    {
     "name": "stdout",
     "output_type": "stream",
     "text": [
      "Cannot perform conv kernel check for pat: LUNG1-015_1-1\n"
     ]
    },
    {
     "name": "stderr",
     "output_type": "stream",
     "text": [
      "\r",
      "  4%|▍         | 16/422 [00:08<03:15,  2.08it/s]"
     ]
    },
    {
     "name": "stdout",
     "output_type": "stream",
     "text": [
      "Cannot perform conv kernel check for pat: LUNG1-016_1-1\n"
     ]
    },
    {
     "name": "stderr",
     "output_type": "stream",
     "text": [
      "\r",
      "  4%|▍         | 17/422 [00:09<03:27,  1.96it/s]"
     ]
    },
    {
     "name": "stdout",
     "output_type": "stream",
     "text": [
      "Cannot perform conv kernel check for pat: LUNG1-017_1-1\n"
     ]
    },
    {
     "name": "stderr",
     "output_type": "stream",
     "text": [
      "\r",
      "  4%|▍         | 18/422 [00:09<03:30,  1.92it/s]"
     ]
    },
    {
     "name": "stdout",
     "output_type": "stream",
     "text": [
      "Cannot perform conv kernel check for pat: LUNG1-018_1-1\n"
     ]
    },
    {
     "name": "stderr",
     "output_type": "stream",
     "text": [
      "\r",
      "  5%|▍         | 19/422 [00:10<03:23,  1.98it/s]"
     ]
    },
    {
     "name": "stdout",
     "output_type": "stream",
     "text": [
      "Cannot perform conv kernel check for pat: LUNG1-019_1-1\n"
     ]
    },
    {
     "name": "stderr",
     "output_type": "stream",
     "text": [
      "\r",
      "  5%|▍         | 20/422 [00:10<03:47,  1.76it/s]"
     ]
    },
    {
     "name": "stdout",
     "output_type": "stream",
     "text": [
      "Cannot perform conv kernel check for pat: LUNG1-020_1-1\n"
     ]
    },
    {
     "name": "stderr",
     "output_type": "stream",
     "text": [
      "\r",
      "  5%|▍         | 21/422 [00:11<04:34,  1.46it/s]"
     ]
    },
    {
     "name": "stdout",
     "output_type": "stream",
     "text": [
      "Cannot perform conv kernel check for pat: LUNG1-021_1-1\n"
     ]
    },
    {
     "name": "stderr",
     "output_type": "stream",
     "text": [
      "\r",
      "  5%|▌         | 22/422 [00:12<04:21,  1.53it/s]"
     ]
    },
    {
     "name": "stdout",
     "output_type": "stream",
     "text": [
      "Cannot perform conv kernel check for pat: LUNG1-022_1-1\n"
     ]
    },
    {
     "name": "stderr",
     "output_type": "stream",
     "text": [
      "\r",
      "  5%|▌         | 23/422 [00:12<04:09,  1.60it/s]"
     ]
    },
    {
     "name": "stdout",
     "output_type": "stream",
     "text": [
      "Cannot perform conv kernel check for pat: LUNG1-023_1-1\n"
     ]
    },
    {
     "name": "stderr",
     "output_type": "stream",
     "text": [
      "\r",
      "  6%|▌         | 24/422 [00:13<03:48,  1.74it/s]"
     ]
    },
    {
     "name": "stdout",
     "output_type": "stream",
     "text": [
      "Cannot perform conv kernel check for pat: LUNG1-024_1-1\n"
     ]
    },
    {
     "name": "stderr",
     "output_type": "stream",
     "text": [
      "\r",
      "  6%|▌         | 25/422 [00:13<03:37,  1.83it/s]"
     ]
    },
    {
     "name": "stdout",
     "output_type": "stream",
     "text": [
      "Cannot perform conv kernel check for pat: LUNG1-025_1-1\n"
     ]
    },
    {
     "name": "stderr",
     "output_type": "stream",
     "text": [
      "\r",
      "  6%|▌         | 26/422 [00:14<03:33,  1.85it/s]"
     ]
    },
    {
     "name": "stdout",
     "output_type": "stream",
     "text": [
      "Cannot perform conv kernel check for pat: LUNG1-026_1-1\n"
     ]
    },
    {
     "name": "stderr",
     "output_type": "stream",
     "text": [
      "\r",
      "  6%|▋         | 27/422 [00:14<03:29,  1.89it/s]"
     ]
    },
    {
     "name": "stdout",
     "output_type": "stream",
     "text": [
      "Cannot perform conv kernel check for pat: LUNG1-027_1-1\n"
     ]
    },
    {
     "name": "stderr",
     "output_type": "stream",
     "text": [
      "\r",
      "  7%|▋         | 28/422 [00:15<03:25,  1.92it/s]"
     ]
    },
    {
     "name": "stdout",
     "output_type": "stream",
     "text": [
      "Cannot perform conv kernel check for pat: LUNG1-028_1-1\n"
     ]
    },
    {
     "name": "stderr",
     "output_type": "stream",
     "text": [
      "  7%|▋         | 30/422 [00:16<03:30,  1.86it/s]"
     ]
    },
    {
     "name": "stdout",
     "output_type": "stream",
     "text": [
      "Cannot perform conv kernel check for pat: LUNG1-030_1-1\n"
     ]
    },
    {
     "name": "stderr",
     "output_type": "stream",
     "text": [
      "\r",
      "  7%|▋         | 31/422 [00:17<03:56,  1.65it/s]"
     ]
    },
    {
     "name": "stdout",
     "output_type": "stream",
     "text": [
      "Cannot perform conv kernel check for pat: LUNG1-031_1-1\n"
     ]
    },
    {
     "name": "stderr",
     "output_type": "stream",
     "text": [
      "  8%|▊         | 33/422 [00:18<04:03,  1.60it/s]"
     ]
    },
    {
     "name": "stdout",
     "output_type": "stream",
     "text": [
      "Cannot perform conv kernel check for pat: LUNG1-033_1-1\n"
     ]
    },
    {
     "name": "stderr",
     "output_type": "stream",
     "text": [
      "\r",
      "  8%|▊         | 34/422 [00:19<03:41,  1.75it/s]"
     ]
    },
    {
     "name": "stdout",
     "output_type": "stream",
     "text": [
      "Cannot perform conv kernel check for pat: LUNG1-034_1-1\n"
     ]
    },
    {
     "name": "stderr",
     "output_type": "stream",
     "text": [
      "\r",
      "  8%|▊         | 35/422 [00:19<03:28,  1.86it/s]"
     ]
    },
    {
     "name": "stdout",
     "output_type": "stream",
     "text": [
      "Cannot perform conv kernel check for pat: LUNG1-035_1-1\n"
     ]
    },
    {
     "name": "stderr",
     "output_type": "stream",
     "text": [
      "  9%|▉         | 37/422 [00:20<03:42,  1.73it/s]"
     ]
    },
    {
     "name": "stdout",
     "output_type": "stream",
     "text": [
      "Cannot perform conv kernel check for pat: LUNG1-037_1-1\n"
     ]
    },
    {
     "name": "stderr",
     "output_type": "stream",
     "text": [
      "\r",
      "  9%|▉         | 38/422 [00:21<04:15,  1.50it/s]"
     ]
    },
    {
     "name": "stdout",
     "output_type": "stream",
     "text": [
      "Cannot perform conv kernel check for pat: LUNG1-038_1-1\n"
     ]
    },
    {
     "name": "stderr",
     "output_type": "stream",
     "text": [
      "\r",
      "  9%|▉         | 39/422 [00:22<03:48,  1.68it/s]"
     ]
    },
    {
     "name": "stdout",
     "output_type": "stream",
     "text": [
      "Cannot perform conv kernel check for pat: LUNG1-039_1-1\n"
     ]
    },
    {
     "name": "stderr",
     "output_type": "stream",
     "text": [
      "\r",
      "  9%|▉         | 40/422 [00:22<03:32,  1.80it/s]"
     ]
    },
    {
     "name": "stdout",
     "output_type": "stream",
     "text": [
      "Cannot perform conv kernel check for pat: LUNG1-040_1-1\n"
     ]
    },
    {
     "name": "stderr",
     "output_type": "stream",
     "text": [
      "\r",
      " 10%|▉         | 41/422 [00:23<03:22,  1.88it/s]"
     ]
    },
    {
     "name": "stdout",
     "output_type": "stream",
     "text": [
      "Cannot perform conv kernel check for pat: LUNG1-041_1-1\n"
     ]
    },
    {
     "name": "stderr",
     "output_type": "stream",
     "text": [
      "\r",
      " 10%|▉         | 42/422 [00:23<03:12,  1.98it/s]"
     ]
    },
    {
     "name": "stdout",
     "output_type": "stream",
     "text": [
      "Cannot perform conv kernel check for pat: LUNG1-042_1-1\n"
     ]
    },
    {
     "name": "stderr",
     "output_type": "stream",
     "text": [
      "\r",
      " 10%|█         | 43/422 [00:24<03:07,  2.02it/s]"
     ]
    },
    {
     "name": "stdout",
     "output_type": "stream",
     "text": [
      "Cannot perform conv kernel check for pat: LUNG1-043_1-1\n"
     ]
    },
    {
     "name": "stderr",
     "output_type": "stream",
     "text": [
      "\r",
      " 10%|█         | 44/422 [00:24<03:26,  1.83it/s]"
     ]
    },
    {
     "name": "stdout",
     "output_type": "stream",
     "text": [
      "Cannot perform conv kernel check for pat: LUNG1-044_1-1\n"
     ]
    },
    {
     "name": "stderr",
     "output_type": "stream",
     "text": [
      "\r",
      " 11%|█         | 45/422 [00:25<03:22,  1.86it/s]"
     ]
    },
    {
     "name": "stdout",
     "output_type": "stream",
     "text": [
      "Cannot perform conv kernel check for pat: LUNG1-045_1-1\n"
     ]
    },
    {
     "name": "stderr",
     "output_type": "stream",
     "text": [
      "\r",
      " 11%|█         | 46/422 [00:25<03:07,  2.01it/s]"
     ]
    },
    {
     "name": "stdout",
     "output_type": "stream",
     "text": [
      "Cannot perform conv kernel check for pat: LUNG1-046_1-1\n"
     ]
    },
    {
     "name": "stderr",
     "output_type": "stream",
     "text": [
      "\r",
      " 11%|█         | 47/422 [00:26<03:09,  1.98it/s]"
     ]
    },
    {
     "name": "stdout",
     "output_type": "stream",
     "text": [
      "Cannot perform conv kernel check for pat: LUNG1-047_1-1\n"
     ]
    },
    {
     "name": "stderr",
     "output_type": "stream",
     "text": [
      " 12%|█▏        | 49/422 [00:27<03:26,  1.80it/s]"
     ]
    },
    {
     "name": "stdout",
     "output_type": "stream",
     "text": [
      "Cannot perform conv kernel check for pat: LUNG1-049_1-1\n"
     ]
    },
    {
     "name": "stderr",
     "output_type": "stream",
     "text": [
      "\r",
      " 12%|█▏        | 50/422 [00:27<03:19,  1.86it/s]"
     ]
    },
    {
     "name": "stdout",
     "output_type": "stream",
     "text": [
      "Cannot perform conv kernel check for pat: LUNG1-050_1-1\n"
     ]
    },
    {
     "name": "stderr",
     "output_type": "stream",
     "text": [
      " 12%|█▏        | 52/422 [00:29<03:29,  1.76it/s]"
     ]
    },
    {
     "name": "stdout",
     "output_type": "stream",
     "text": [
      "Cannot perform conv kernel check for pat: LUNG1-052_1-1\n"
     ]
    },
    {
     "name": "stderr",
     "output_type": "stream",
     "text": [
      "\r",
      " 13%|█▎        | 53/422 [00:29<03:15,  1.89it/s]"
     ]
    },
    {
     "name": "stdout",
     "output_type": "stream",
     "text": [
      "Cannot perform conv kernel check for pat: LUNG1-053_1-1\n"
     ]
    },
    {
     "name": "stderr",
     "output_type": "stream",
     "text": [
      "\r",
      " 13%|█▎        | 54/422 [00:30<03:18,  1.85it/s]"
     ]
    },
    {
     "name": "stdout",
     "output_type": "stream",
     "text": [
      "Cannot perform conv kernel check for pat: LUNG1-054_1-1\n"
     ]
    },
    {
     "name": "stderr",
     "output_type": "stream",
     "text": [
      "\r",
      " 13%|█▎        | 55/422 [00:30<03:21,  1.83it/s]"
     ]
    },
    {
     "name": "stdout",
     "output_type": "stream",
     "text": [
      "Cannot perform conv kernel check for pat: LUNG1-055_1-1\n"
     ]
    },
    {
     "name": "stderr",
     "output_type": "stream",
     "text": [
      " 14%|█▎        | 57/422 [00:32<03:40,  1.65it/s]"
     ]
    },
    {
     "name": "stdout",
     "output_type": "stream",
     "text": [
      "Cannot perform conv kernel check for pat: LUNG1-057_1-1\n"
     ]
    },
    {
     "name": "stderr",
     "output_type": "stream",
     "text": [
      "\r",
      " 14%|█▎        | 58/422 [00:33<05:11,  1.17it/s]"
     ]
    },
    {
     "name": "stdout",
     "output_type": "stream",
     "text": [
      "Cannot perform conv kernel check for pat: LUNG1-058_1-1\n"
     ]
    },
    {
     "name": "stderr",
     "output_type": "stream",
     "text": [
      "\r",
      " 14%|█▍        | 59/422 [00:33<04:31,  1.34it/s]"
     ]
    },
    {
     "name": "stdout",
     "output_type": "stream",
     "text": [
      "Cannot perform conv kernel check for pat: LUNG1-059_1-1\n"
     ]
    },
    {
     "name": "stderr",
     "output_type": "stream",
     "text": [
      "\r",
      " 14%|█▍        | 60/422 [00:34<04:16,  1.41it/s]"
     ]
    },
    {
     "name": "stdout",
     "output_type": "stream",
     "text": [
      "Cannot perform conv kernel check for pat: LUNG1-060_1-1\n"
     ]
    },
    {
     "name": "stderr",
     "output_type": "stream",
     "text": [
      "\r",
      " 14%|█▍        | 61/422 [00:35<03:54,  1.54it/s]"
     ]
    },
    {
     "name": "stdout",
     "output_type": "stream",
     "text": [
      "Cannot perform conv kernel check for pat: LUNG1-061_1-1\n"
     ]
    },
    {
     "name": "stderr",
     "output_type": "stream",
     "text": [
      "\r",
      " 15%|█▍        | 62/422 [00:35<03:36,  1.66it/s]"
     ]
    },
    {
     "name": "stdout",
     "output_type": "stream",
     "text": [
      "Cannot perform conv kernel check for pat: LUNG1-062_1-1\n"
     ]
    },
    {
     "name": "stderr",
     "output_type": "stream",
     "text": [
      "\r",
      " 15%|█▍        | 63/422 [00:36<03:27,  1.73it/s]"
     ]
    },
    {
     "name": "stdout",
     "output_type": "stream",
     "text": [
      "Cannot perform conv kernel check for pat: LUNG1-063_1-1\n"
     ]
    },
    {
     "name": "stderr",
     "output_type": "stream",
     "text": [
      "\r",
      " 15%|█▌        | 64/422 [00:36<03:18,  1.80it/s]"
     ]
    },
    {
     "name": "stdout",
     "output_type": "stream",
     "text": [
      "Cannot perform conv kernel check for pat: LUNG1-064_1-1\n"
     ]
    },
    {
     "name": "stderr",
     "output_type": "stream",
     "text": [
      " 16%|█▌        | 66/422 [00:38<03:53,  1.52it/s]"
     ]
    },
    {
     "name": "stdout",
     "output_type": "stream",
     "text": [
      "Cannot perform conv kernel check for pat: LUNG1-066_1-1\n"
     ]
    },
    {
     "name": "stderr",
     "output_type": "stream",
     "text": [
      " 16%|█▌        | 68/422 [00:39<04:00,  1.47it/s]"
     ]
    },
    {
     "name": "stdout",
     "output_type": "stream",
     "text": [
      "Cannot perform conv kernel check for pat: LUNG1-068_1-1\n"
     ]
    },
    {
     "name": "stderr",
     "output_type": "stream",
     "text": [
      "\r",
      " 16%|█▋        | 69/422 [00:40<04:06,  1.43it/s]"
     ]
    },
    {
     "name": "stdout",
     "output_type": "stream",
     "text": [
      "Cannot perform conv kernel check for pat: LUNG1-069_1-1\n"
     ]
    },
    {
     "name": "stderr",
     "output_type": "stream",
     "text": [
      "\r",
      " 17%|█▋        | 70/422 [00:40<03:45,  1.56it/s]"
     ]
    },
    {
     "name": "stdout",
     "output_type": "stream",
     "text": [
      "Cannot perform conv kernel check for pat: LUNG1-070_1-1\n"
     ]
    },
    {
     "name": "stderr",
     "output_type": "stream",
     "text": [
      " 18%|█▊        | 74/422 [00:43<03:49,  1.52it/s]"
     ]
    },
    {
     "name": "stdout",
     "output_type": "stream",
     "text": [
      "Cannot perform conv kernel check for pat: LUNG1-074_1-1\n"
     ]
    },
    {
     "name": "stderr",
     "output_type": "stream",
     "text": [
      " 18%|█▊        | 76/422 [00:45<03:54,  1.47it/s]"
     ]
    },
    {
     "name": "stdout",
     "output_type": "stream",
     "text": [
      "Cannot perform conv kernel check for pat: LUNG1-076_1-1\n"
     ]
    },
    {
     "name": "stderr",
     "output_type": "stream",
     "text": [
      " 18%|█▊        | 78/422 [00:46<03:44,  1.53it/s]"
     ]
    },
    {
     "name": "stdout",
     "output_type": "stream",
     "text": [
      "Cannot perform conv kernel check for pat: LUNG1-078_1-1\n"
     ]
    },
    {
     "name": "stderr",
     "output_type": "stream",
     "text": [
      " 19%|█▉        | 81/422 [00:48<03:22,  1.69it/s]"
     ]
    },
    {
     "name": "stdout",
     "output_type": "stream",
     "text": [
      "Cannot perform conv kernel check for pat: LUNG1-081_1-1\n"
     ]
    },
    {
     "name": "stderr",
     "output_type": "stream",
     "text": [
      " 20%|██        | 85/422 [00:50<03:35,  1.57it/s]"
     ]
    },
    {
     "name": "stdout",
     "output_type": "stream",
     "text": [
      "Cannot perform conv kernel check for pat: LUNG1-085_1-1\n"
     ]
    },
    {
     "name": "stderr",
     "output_type": "stream",
     "text": [
      " 21%|██        | 87/422 [00:52<03:39,  1.53it/s]"
     ]
    },
    {
     "name": "stdout",
     "output_type": "stream",
     "text": [
      "Cannot perform conv kernel check for pat: LUNG1-087_1-1\n"
     ]
    },
    {
     "name": "stderr",
     "output_type": "stream",
     "text": [
      "\r",
      " 21%|██        | 88/422 [00:52<03:30,  1.58it/s]"
     ]
    },
    {
     "name": "stdout",
     "output_type": "stream",
     "text": [
      "Cannot perform conv kernel check for pat: LUNG1-088_1-1\n"
     ]
    },
    {
     "name": "stderr",
     "output_type": "stream",
     "text": [
      "\r",
      " 21%|██        | 89/422 [00:53<03:11,  1.74it/s]"
     ]
    },
    {
     "name": "stdout",
     "output_type": "stream",
     "text": [
      "Cannot perform conv kernel check for pat: LUNG1-089_1-1\n"
     ]
    },
    {
     "name": "stderr",
     "output_type": "stream",
     "text": [
      " 22%|██▏       | 91/422 [00:54<03:17,  1.67it/s]"
     ]
    },
    {
     "name": "stdout",
     "output_type": "stream",
     "text": [
      "Cannot perform conv kernel check for pat: LUNG1-091_1-1\n"
     ]
    },
    {
     "name": "stderr",
     "output_type": "stream",
     "text": [
      " 23%|██▎       | 95/422 [00:57<03:19,  1.64it/s]"
     ]
    },
    {
     "name": "stdout",
     "output_type": "stream",
     "text": [
      "Cannot perform conv kernel check for pat: LUNG1-095_1-1\n"
     ]
    },
    {
     "name": "stderr",
     "output_type": "stream",
     "text": [
      " 24%|██▍       | 101/422 [01:00<03:04,  1.74it/s]"
     ]
    },
    {
     "name": "stdout",
     "output_type": "stream",
     "text": [
      "Cannot perform conv kernel check for pat: LUNG1-101_1-1\n"
     ]
    },
    {
     "name": "stderr",
     "output_type": "stream",
     "text": [
      " 25%|██▌       | 107/422 [01:05<03:38,  1.44it/s]"
     ]
    },
    {
     "name": "stdout",
     "output_type": "stream",
     "text": [
      "Cannot perform conv kernel check for pat: LUNG1-107_1-1\n"
     ]
    },
    {
     "name": "stderr",
     "output_type": "stream",
     "text": [
      " 28%|██▊       | 117/422 [01:12<03:15,  1.56it/s]"
     ]
    },
    {
     "name": "stdout",
     "output_type": "stream",
     "text": [
      "Cannot perform conv kernel check for pat: LUNG1-117_1-1\n"
     ]
    },
    {
     "name": "stderr",
     "output_type": "stream",
     "text": [
      " 30%|██▉       | 125/422 [01:17<02:48,  1.77it/s]"
     ]
    },
    {
     "name": "stdout",
     "output_type": "stream",
     "text": [
      "Cannot perform conv kernel check for pat: LUNG1-125_1-1\n"
     ]
    },
    {
     "name": "stderr",
     "output_type": "stream",
     "text": [
      " 32%|███▏      | 137/422 [01:25<02:57,  1.61it/s]"
     ]
    },
    {
     "name": "stdout",
     "output_type": "stream",
     "text": [
      "Cannot perform conv kernel check for pat: LUNG1-137_1-1\n"
     ]
    },
    {
     "name": "stderr",
     "output_type": "stream",
     "text": [
      " 33%|███▎      | 140/422 [01:26<02:33,  1.83it/s]"
     ]
    },
    {
     "name": "stdout",
     "output_type": "stream",
     "text": [
      "Cannot perform conv kernel check for pat: LUNG1-140_1-1\n"
     ]
    },
    {
     "name": "stderr",
     "output_type": "stream",
     "text": [
      " 35%|███▌      | 149/422 [01:32<02:37,  1.73it/s]"
     ]
    },
    {
     "name": "stdout",
     "output_type": "stream",
     "text": [
      "Cannot perform conv kernel check for pat: LUNG1-149_1-1\n"
     ]
    },
    {
     "name": "stderr",
     "output_type": "stream",
     "text": [
      " 36%|███▋      | 154/422 [01:34<02:43,  1.64it/s]"
     ]
    },
    {
     "name": "stdout",
     "output_type": "stream",
     "text": [
      "Cannot perform conv kernel check for pat: LUNG1-154_1-1\n"
     ]
    },
    {
     "name": "stderr",
     "output_type": "stream",
     "text": [
      "\r",
      " 37%|███▋      | 155/422 [01:35<02:39,  1.68it/s]"
     ]
    },
    {
     "name": "stdout",
     "output_type": "stream",
     "text": [
      "Cannot perform conv kernel check for pat: LUNG1-155_1-1\n"
     ]
    },
    {
     "name": "stderr",
     "output_type": "stream",
     "text": [
      " 37%|███▋      | 158/422 [01:37<02:28,  1.78it/s]"
     ]
    },
    {
     "name": "stdout",
     "output_type": "stream",
     "text": [
      "Cannot perform conv kernel check for pat: LUNG1-158_1-1\n"
     ]
    },
    {
     "name": "stderr",
     "output_type": "stream",
     "text": [
      "\r",
      " 38%|███▊      | 159/422 [01:37<02:22,  1.84it/s]"
     ]
    },
    {
     "name": "stdout",
     "output_type": "stream",
     "text": [
      "Cannot perform conv kernel check for pat: LUNG1-159_1-1\n"
     ]
    },
    {
     "name": "stderr",
     "output_type": "stream",
     "text": [
      " 40%|████      | 170/422 [01:44<02:24,  1.74it/s]"
     ]
    },
    {
     "name": "stdout",
     "output_type": "stream",
     "text": [
      "Cannot perform conv kernel check for pat: LUNG1-170_1-1\n"
     ]
    },
    {
     "name": "stderr",
     "output_type": "stream",
     "text": [
      " 41%|████      | 173/422 [01:46<02:29,  1.67it/s]"
     ]
    },
    {
     "name": "stdout",
     "output_type": "stream",
     "text": [
      "Cannot perform conv kernel check for pat: LUNG1-173_1-1\n"
     ]
    },
    {
     "name": "stderr",
     "output_type": "stream",
     "text": [
      " 42%|████▏     | 177/422 [01:48<02:12,  1.85it/s]"
     ]
    },
    {
     "name": "stdout",
     "output_type": "stream",
     "text": [
      "Cannot perform conv kernel check for pat: LUNG1-177_1-1\n"
     ]
    },
    {
     "name": "stderr",
     "output_type": "stream",
     "text": [
      " 43%|████▎     | 180/422 [01:50<02:25,  1.66it/s]"
     ]
    },
    {
     "name": "stdout",
     "output_type": "stream",
     "text": [
      "Cannot perform conv kernel check for pat: LUNG1-180_1-1\n"
     ]
    },
    {
     "name": "stderr",
     "output_type": "stream",
     "text": [
      " 43%|████▎     | 182/422 [01:51<02:29,  1.60it/s]"
     ]
    },
    {
     "name": "stdout",
     "output_type": "stream",
     "text": [
      "Cannot perform conv kernel check for pat: LUNG1-182_1-1\n"
     ]
    },
    {
     "name": "stderr",
     "output_type": "stream",
     "text": [
      " 44%|████▎     | 184/422 [01:53<02:38,  1.51it/s]"
     ]
    },
    {
     "name": "stdout",
     "output_type": "stream",
     "text": [
      "Cannot perform conv kernel check for pat: LUNG1-184_1-1\n"
     ]
    },
    {
     "name": "stderr",
     "output_type": "stream",
     "text": [
      "\r",
      " 44%|████▍     | 185/422 [01:53<02:33,  1.54it/s]"
     ]
    },
    {
     "name": "stdout",
     "output_type": "stream",
     "text": [
      "Cannot perform conv kernel check for pat: LUNG1-185_1-1\n"
     ]
    },
    {
     "name": "stderr",
     "output_type": "stream",
     "text": [
      "\r",
      " 44%|████▍     | 186/422 [01:54<02:30,  1.56it/s]"
     ]
    },
    {
     "name": "stdout",
     "output_type": "stream",
     "text": [
      "Cannot perform conv kernel check for pat: LUNG1-186_1-1\n"
     ]
    },
    {
     "name": "stderr",
     "output_type": "stream",
     "text": [
      "\r",
      " 44%|████▍     | 187/422 [01:54<02:15,  1.74it/s]"
     ]
    },
    {
     "name": "stdout",
     "output_type": "stream",
     "text": [
      "Cannot perform conv kernel check for pat: LUNG1-187_1-1\n"
     ]
    },
    {
     "name": "stderr",
     "output_type": "stream",
     "text": [
      "\r",
      " 45%|████▍     | 188/422 [01:55<02:13,  1.75it/s]"
     ]
    },
    {
     "name": "stdout",
     "output_type": "stream",
     "text": [
      "Cannot perform conv kernel check for pat: LUNG1-188_1-1\n"
     ]
    },
    {
     "name": "stderr",
     "output_type": "stream",
     "text": [
      " 45%|████▌     | 190/422 [01:56<02:06,  1.83it/s]"
     ]
    },
    {
     "name": "stdout",
     "output_type": "stream",
     "text": [
      "Cannot perform conv kernel check for pat: LUNG1-190_1-1\n"
     ]
    },
    {
     "name": "stderr",
     "output_type": "stream",
     "text": [
      " 46%|████▌     | 194/422 [01:58<02:19,  1.63it/s]"
     ]
    },
    {
     "name": "stdout",
     "output_type": "stream",
     "text": [
      "Cannot perform conv kernel check for pat: LUNG1-194_1-1\n"
     ]
    },
    {
     "name": "stderr",
     "output_type": "stream",
     "text": [
      " 47%|████▋     | 198/422 [02:01<02:14,  1.66it/s]"
     ]
    },
    {
     "name": "stdout",
     "output_type": "stream",
     "text": [
      "Cannot perform conv kernel check for pat: LUNG1-198_1-1\n"
     ]
    },
    {
     "name": "stderr",
     "output_type": "stream",
     "text": [
      " 48%|████▊     | 201/422 [02:02<02:19,  1.59it/s]"
     ]
    },
    {
     "name": "stdout",
     "output_type": "stream",
     "text": [
      "Cannot perform conv kernel check for pat: LUNG1-201_1-1\n"
     ]
    },
    {
     "name": "stderr",
     "output_type": "stream",
     "text": [
      " 48%|████▊     | 203/422 [02:04<02:15,  1.62it/s]"
     ]
    },
    {
     "name": "stdout",
     "output_type": "stream",
     "text": [
      "Cannot perform conv kernel check for pat: LUNG1-203_1-1\n"
     ]
    },
    {
     "name": "stderr",
     "output_type": "stream",
     "text": [
      "\r",
      " 48%|████▊     | 204/422 [02:04<02:17,  1.59it/s]"
     ]
    },
    {
     "name": "stdout",
     "output_type": "stream",
     "text": [
      "Cannot perform conv kernel check for pat: LUNG1-204_1-1\n"
     ]
    },
    {
     "name": "stderr",
     "output_type": "stream",
     "text": [
      " 49%|████▉     | 207/422 [02:06<02:14,  1.59it/s]"
     ]
    },
    {
     "name": "stdout",
     "output_type": "stream",
     "text": [
      "Cannot perform conv kernel check for pat: LUNG1-207_1-1\n"
     ]
    },
    {
     "name": "stderr",
     "output_type": "stream",
     "text": [
      " 50%|████▉     | 209/422 [02:07<02:12,  1.60it/s]"
     ]
    },
    {
     "name": "stdout",
     "output_type": "stream",
     "text": [
      "Cannot perform conv kernel check for pat: LUNG1-209_1-1\n"
     ]
    },
    {
     "name": "stderr",
     "output_type": "stream",
     "text": [
      " 54%|█████▍    | 228/422 [02:18<01:42,  1.89it/s]"
     ]
    },
    {
     "name": "stdout",
     "output_type": "stream",
     "text": [
      "Cannot perform conv kernel check for pat: LUNG1-228_1-1\n"
     ]
    },
    {
     "name": "stderr",
     "output_type": "stream",
     "text": [
      "100%|██████████| 422/422 [04:24<00:00,  1.60it/s]\n"
     ]
    }
   ],
   "source": [
    "qc_dataframe = ct_dcms.get_quality_checks(qc_params)"
   ]
  },
  {
   "cell_type": "code",
   "execution_count": 8,
   "id": "d18b31c8",
   "metadata": {},
   "outputs": [
    {
     "data": {
      "text/html": [
       "<div>\n",
       "<style scoped>\n",
       "    .dataframe tbody tr th:only-of-type {\n",
       "        vertical-align: middle;\n",
       "    }\n",
       "\n",
       "    .dataframe tbody tr th {\n",
       "        vertical-align: top;\n",
       "    }\n",
       "\n",
       "    .dataframe thead th {\n",
       "        text-align: right;\n",
       "    }\n",
       "</style>\n",
       "<table border=\"1\" class=\"dataframe\">\n",
       "  <thead>\n",
       "    <tr style=\"text-align: right;\">\n",
       "      <th></th>\n",
       "      <th>Patient id</th>\n",
       "      <th>Modality is acceptable</th>\n",
       "      <th>Projection is axial</th>\n",
       "      <th>Complete scan (no missing/overlapping slices)</th>\n",
       "      <th>Scan len is in range</th>\n",
       "      <th>Slice thickness is in range</th>\n",
       "      <th>Slice thickness is consistent</th>\n",
       "      <th>Pixel spacing is in range</th>\n",
       "      <th>Convolutional kernel tag is present</th>\n",
       "      <th>Convolutional kernel is acceptable</th>\n",
       "      <th>Axial pr. resolution is acceptable</th>\n",
       "      <th>Intensity intercept/slope tags are present</th>\n",
       "    </tr>\n",
       "  </thead>\n",
       "  <tbody>\n",
       "    <tr>\n",
       "      <th>0</th>\n",
       "      <td>LUNG1-001_1-1</td>\n",
       "      <td>1</td>\n",
       "      <td>1</td>\n",
       "      <td>1</td>\n",
       "      <td>1</td>\n",
       "      <td>1</td>\n",
       "      <td>1</td>\n",
       "      <td>1</td>\n",
       "      <td>1</td>\n",
       "      <td>1</td>\n",
       "      <td>1</td>\n",
       "      <td>1</td>\n",
       "    </tr>\n",
       "    <tr>\n",
       "      <th>1</th>\n",
       "      <td>LUNG1-002_1-1</td>\n",
       "      <td>1</td>\n",
       "      <td>1</td>\n",
       "      <td>1</td>\n",
       "      <td>1</td>\n",
       "      <td>1</td>\n",
       "      <td>1</td>\n",
       "      <td>1</td>\n",
       "      <td>0</td>\n",
       "      <td>NaN</td>\n",
       "      <td>1</td>\n",
       "      <td>1</td>\n",
       "    </tr>\n",
       "    <tr>\n",
       "      <th>2</th>\n",
       "      <td>LUNG1-003_1-1</td>\n",
       "      <td>1</td>\n",
       "      <td>1</td>\n",
       "      <td>1</td>\n",
       "      <td>1</td>\n",
       "      <td>1</td>\n",
       "      <td>1</td>\n",
       "      <td>1</td>\n",
       "      <td>0</td>\n",
       "      <td>NaN</td>\n",
       "      <td>1</td>\n",
       "      <td>1</td>\n",
       "    </tr>\n",
       "    <tr>\n",
       "      <th>3</th>\n",
       "      <td>LUNG1-004_1-1</td>\n",
       "      <td>1</td>\n",
       "      <td>1</td>\n",
       "      <td>1</td>\n",
       "      <td>1</td>\n",
       "      <td>1</td>\n",
       "      <td>1</td>\n",
       "      <td>1</td>\n",
       "      <td>1</td>\n",
       "      <td>0</td>\n",
       "      <td>1</td>\n",
       "      <td>1</td>\n",
       "    </tr>\n",
       "    <tr>\n",
       "      <th>4</th>\n",
       "      <td>LUNG1-005_1-1</td>\n",
       "      <td>1</td>\n",
       "      <td>1</td>\n",
       "      <td>1</td>\n",
       "      <td>1</td>\n",
       "      <td>1</td>\n",
       "      <td>1</td>\n",
       "      <td>1</td>\n",
       "      <td>0</td>\n",
       "      <td>NaN</td>\n",
       "      <td>1</td>\n",
       "      <td>1</td>\n",
       "    </tr>\n",
       "    <tr>\n",
       "      <th>...</th>\n",
       "      <td>...</td>\n",
       "      <td>...</td>\n",
       "      <td>...</td>\n",
       "      <td>...</td>\n",
       "      <td>...</td>\n",
       "      <td>...</td>\n",
       "      <td>...</td>\n",
       "      <td>...</td>\n",
       "      <td>...</td>\n",
       "      <td>...</td>\n",
       "      <td>...</td>\n",
       "      <td>...</td>\n",
       "    </tr>\n",
       "    <tr>\n",
       "      <th>417</th>\n",
       "      <td>LUNG1-418_1-1</td>\n",
       "      <td>1</td>\n",
       "      <td>1</td>\n",
       "      <td>1</td>\n",
       "      <td>1</td>\n",
       "      <td>1</td>\n",
       "      <td>1</td>\n",
       "      <td>1</td>\n",
       "      <td>1</td>\n",
       "      <td>1</td>\n",
       "      <td>1</td>\n",
       "      <td>1</td>\n",
       "    </tr>\n",
       "    <tr>\n",
       "      <th>418</th>\n",
       "      <td>LUNG1-419_1-1</td>\n",
       "      <td>1</td>\n",
       "      <td>1</td>\n",
       "      <td>1</td>\n",
       "      <td>1</td>\n",
       "      <td>1</td>\n",
       "      <td>1</td>\n",
       "      <td>1</td>\n",
       "      <td>1</td>\n",
       "      <td>1</td>\n",
       "      <td>1</td>\n",
       "      <td>1</td>\n",
       "    </tr>\n",
       "    <tr>\n",
       "      <th>419</th>\n",
       "      <td>LUNG1-420_1-1</td>\n",
       "      <td>1</td>\n",
       "      <td>1</td>\n",
       "      <td>1</td>\n",
       "      <td>1</td>\n",
       "      <td>1</td>\n",
       "      <td>1</td>\n",
       "      <td>1</td>\n",
       "      <td>1</td>\n",
       "      <td>1</td>\n",
       "      <td>1</td>\n",
       "      <td>1</td>\n",
       "    </tr>\n",
       "    <tr>\n",
       "      <th>420</th>\n",
       "      <td>LUNG1-421_1-1</td>\n",
       "      <td>1</td>\n",
       "      <td>1</td>\n",
       "      <td>1</td>\n",
       "      <td>1</td>\n",
       "      <td>1</td>\n",
       "      <td>1</td>\n",
       "      <td>1</td>\n",
       "      <td>1</td>\n",
       "      <td>1</td>\n",
       "      <td>1</td>\n",
       "      <td>1</td>\n",
       "    </tr>\n",
       "    <tr>\n",
       "      <th>421</th>\n",
       "      <td>LUNG1-422_1-1</td>\n",
       "      <td>1</td>\n",
       "      <td>1</td>\n",
       "      <td>1</td>\n",
       "      <td>1</td>\n",
       "      <td>1</td>\n",
       "      <td>1</td>\n",
       "      <td>1</td>\n",
       "      <td>1</td>\n",
       "      <td>0</td>\n",
       "      <td>1</td>\n",
       "      <td>1</td>\n",
       "    </tr>\n",
       "  </tbody>\n",
       "</table>\n",
       "<p>422 rows × 12 columns</p>\n",
       "</div>"
      ],
      "text/plain": [
       "        Patient id Modality is acceptable Projection is axial  \\\n",
       "0    LUNG1-001_1-1                      1                   1   \n",
       "1    LUNG1-002_1-1                      1                   1   \n",
       "2    LUNG1-003_1-1                      1                   1   \n",
       "3    LUNG1-004_1-1                      1                   1   \n",
       "4    LUNG1-005_1-1                      1                   1   \n",
       "..             ...                    ...                 ...   \n",
       "417  LUNG1-418_1-1                      1                   1   \n",
       "418  LUNG1-419_1-1                      1                   1   \n",
       "419  LUNG1-420_1-1                      1                   1   \n",
       "420  LUNG1-421_1-1                      1                   1   \n",
       "421  LUNG1-422_1-1                      1                   1   \n",
       "\n",
       "    Complete scan (no missing/overlapping slices) Scan len is in range  \\\n",
       "0                                               1                    1   \n",
       "1                                               1                    1   \n",
       "2                                               1                    1   \n",
       "3                                               1                    1   \n",
       "4                                               1                    1   \n",
       "..                                            ...                  ...   \n",
       "417                                             1                    1   \n",
       "418                                             1                    1   \n",
       "419                                             1                    1   \n",
       "420                                             1                    1   \n",
       "421                                             1                    1   \n",
       "\n",
       "    Slice thickness is in range Slice thickness is consistent  \\\n",
       "0                             1                             1   \n",
       "1                             1                             1   \n",
       "2                             1                             1   \n",
       "3                             1                             1   \n",
       "4                             1                             1   \n",
       "..                          ...                           ...   \n",
       "417                           1                             1   \n",
       "418                           1                             1   \n",
       "419                           1                             1   \n",
       "420                           1                             1   \n",
       "421                           1                             1   \n",
       "\n",
       "    Pixel spacing is in range Convolutional kernel tag is present  \\\n",
       "0                           1                                   1   \n",
       "1                           1                                   0   \n",
       "2                           1                                   0   \n",
       "3                           1                                   1   \n",
       "4                           1                                   0   \n",
       "..                        ...                                 ...   \n",
       "417                         1                                   1   \n",
       "418                         1                                   1   \n",
       "419                         1                                   1   \n",
       "420                         1                                   1   \n",
       "421                         1                                   1   \n",
       "\n",
       "    Convolutional kernel is acceptable Axial pr. resolution is acceptable  \\\n",
       "0                                    1                                  1   \n",
       "1                                  NaN                                  1   \n",
       "2                                  NaN                                  1   \n",
       "3                                    0                                  1   \n",
       "4                                  NaN                                  1   \n",
       "..                                 ...                                ...   \n",
       "417                                  1                                  1   \n",
       "418                                  1                                  1   \n",
       "419                                  1                                  1   \n",
       "420                                  1                                  1   \n",
       "421                                  0                                  1   \n",
       "\n",
       "    Intensity intercept/slope tags are present  \n",
       "0                                            1  \n",
       "1                                            1  \n",
       "2                                            1  \n",
       "3                                            1  \n",
       "4                                            1  \n",
       "..                                         ...  \n",
       "417                                          1  \n",
       "418                                          1  \n",
       "419                                          1  \n",
       "420                                          1  \n",
       "421                                          1  \n",
       "\n",
       "[422 rows x 12 columns]"
      ]
     },
     "execution_count": 8,
     "metadata": {},
     "output_type": "execute_result"
    }
   ],
   "source": [
    "qc_dataframe"
   ]
  },
  {
   "cell_type": "code",
   "execution_count": 9,
   "id": "832d7cd1",
   "metadata": {},
   "outputs": [
    {
     "name": "stderr",
     "output_type": "stream",
     "text": [
      "  0%|          | 0/423 [00:00<?, ?it/s]C:\\Users\\MegaMert\\Documents\\GitHub\\precision-medicine-toolbox\\pmtool\\DataSet.py:98: UserWarning: No dcm data found for patient:LICENSE check the folder, ensure that dicom files ends with .dcm\n",
      "  warn('No dcm data found for patient:%s check the folder, ensure that dicom files ends with .dcm'%patient)\n",
      "100%|██████████| 423/423 [02:59<00:00,  2.35it/s]\n"
     ]
    }
   ],
   "source": [
    "export_path = r'C:\\Users\\MegaMert\\Desktop\\Internship files\\Tutorial data\\Converted'\n",
    "region_of_interest = 'all'\n",
    "data_ct = ToolBox(**parameters) \n"
   ]
  },
  {
   "cell_type": "code",
   "execution_count": 10,
   "id": "75339b83",
   "metadata": {},
   "outputs": [
    {
     "name": "stderr",
     "output_type": "stream",
     "text": [
      "Patients converted: 100%|██████████| 422/422 [12:24<00:00,  1.76s/it]\n"
     ]
    }
   ],
   "source": [
    "data_ct.convert_to_nrrd(export_path, 'gtv')"
   ]
  },
  {
   "cell_type": "code",
   "execution_count": 4,
   "id": "8b07a5e8",
   "metadata": {},
   "outputs": [
    {
     "name": "stderr",
     "output_type": "stream",
     "text": [
      "0it [00:00, ?it/s]\n"
     ]
    }
   ],
   "source": [
    "data_ct_nrrd = ToolBox(data_path = r'C:\\Users\\MegaMert\\Desktop\\Internship files\\Tutorial data\\Converted\\Test', data_type='nrrd')\n"
   ]
  },
  {
   "cell_type": "code",
   "execution_count": null,
   "id": "fd6ee3cb",
   "metadata": {},
   "outputs": [
    {
     "name": "stderr",
     "output_type": "stream",
     "text": [
      "Patients processed:  78%|███████▊  | 84/108 [12:07<03:18,  8.27s/it]"
     ]
    }
   ],
   "source": [
    "data_ct_nrrd.get_jpegs(r'C:\\Users\\MegaMert\\Desktop\\Internship files\\Tutorial data\\Converted') # the function will create 'images_quick_check' folder in the specified directory "
   ]
  },
  {
   "cell_type": "code",
   "execution_count": 8,
   "id": "e8ac7494",
   "metadata": {},
   "outputs": [],
   "source": [
    "from ipywidgets import interact\n",
    "import numpy as np\n",
    "from PIL import Image\n",
    "\n",
    "def browse_images(images,names):\n",
    "    n = len(images)\n",
    "    def view_image(i):\n",
    "        plt.figure(figsize=(20,10))\n",
    "        plt.imshow(images[i])#, cmap=plt.cm.gray_r, interpolation='nearest')\n",
    "        plt.title('Slice: %s' % names[i])\n",
    "        plt.axis('off')\n",
    "        plt.show()\n",
    "    interact(view_image, i=(0,n-1))\n",
    "\n",
    "for pat,_ in data_ct_nrrd:\n",
    "    _,file_struct = [*os.walk(os.path.join(r'C:\\Users\\MegaMert\\Desktop\\Internship files\\Tutorial data\\Converted\\images_quick_check',pat))]\n",
    "    root,images = file_struct[0],file_struct[2]\n",
    "    imgs =[np.array(Image.open(os.path.join(root,img))) for img in images]\n",
    "    print(pat)\n",
    "    browse_images(imgs,images)\n",
    "    break"
   ]
  },
  {
   "cell_type": "code",
   "execution_count": 9,
   "id": "96b2aa43",
   "metadata": {},
   "outputs": [
    {
     "name": "stderr",
     "output_type": "stream",
     "text": [
      "Patients processed: 100%|██████████| 108/108 [15:43<00:00,  8.74s/it]\n"
     ]
    }
   ],
   "source": [
    "parameters = r\"C:\\Users\\MegaMert\\Documents\\GitHub\\precision-medicine-toolbox\\examples\\example_ct_parameters.yaml\"\n",
    "features = data_ct_nrrd.extract_features(parameters, loggenabled=True)"
   ]
  },
  {
   "cell_type": "code",
   "execution_count": null,
   "id": "f9451d64",
   "metadata": {},
   "outputs": [],
   "source": [
    "sb.set(context='poster', style='white')\n",
    "data_ct_nrrd.pre_process(ref_img_path = r'C:\\Users\\MegaMert\\Desktop\\Internship files\\Tutorial data\\Converted\\converted_nrrds\\LUNG1-001_1-1\\image.nrrd',\n",
    "                         save_path = r'C:\\Users\\MegaMert\\Desktop\\Internship files\\Tutorial data\\Converted\\Preprocessed',\n",
    "                         hist_match = False,        # boolean\n",
    "                         subcateneus_fat = False,   # boolean\n",
    "                         fat_value = 774,           # this is a dummy value, \n",
    "                                                    # you would need to find that value for each image\n",
    "                         percentile_scaling = False, # boolean\n",
    "                         window_filtering_params = (1500,-600), #Window Filtering [WW,WL]\n",
    "                         binning = 255,             # this is a dummy value, it takes False or int \n",
    "                                                    # (# of bins for intensity resampling)\n",
    "                         verbosity = True,          # boolean\n",
    "                         z_score = True,           # boolean \n",
    "                         hist_equalize = True,     # boolean\n",
    "                         norm_coeff = (1000.,500.), # these are dummy values, you would need to estimate real mu and sigma\n",
    "                                                    # it takes None or tuple: (mu,sigma)\n",
    "                         visualize = True)"
   ]
  },
  {
   "cell_type": "code",
   "execution_count": 10,
   "id": "05256868",
   "metadata": {},
   "outputs": [
    {
     "data": {
      "text/html": [
       "<div>\n",
       "<style scoped>\n",
       "    .dataframe tbody tr th:only-of-type {\n",
       "        vertical-align: middle;\n",
       "    }\n",
       "\n",
       "    .dataframe tbody tr th {\n",
       "        vertical-align: top;\n",
       "    }\n",
       "\n",
       "    .dataframe thead th {\n",
       "        text-align: right;\n",
       "    }\n",
       "</style>\n",
       "<table border=\"1\" class=\"dataframe\">\n",
       "  <thead>\n",
       "    <tr style=\"text-align: right;\">\n",
       "      <th></th>\n",
       "      <th>diagnostics_Versions_PyRadiomics</th>\n",
       "      <th>diagnostics_Versions_Numpy</th>\n",
       "      <th>diagnostics_Versions_SimpleITK</th>\n",
       "      <th>diagnostics_Versions_PyWavelet</th>\n",
       "      <th>diagnostics_Versions_Python</th>\n",
       "      <th>diagnostics_Configuration_Settings</th>\n",
       "      <th>diagnostics_Configuration_EnabledImageTypes</th>\n",
       "      <th>diagnostics_Image-original_Hash</th>\n",
       "      <th>diagnostics_Image-original_Dimensionality</th>\n",
       "      <th>diagnostics_Image-original_Spacing</th>\n",
       "      <th>...</th>\n",
       "      <th>wavelet-LLL_gldm_HighGrayLevelEmphasis</th>\n",
       "      <th>wavelet-LLL_gldm_LargeDependenceEmphasis</th>\n",
       "      <th>wavelet-LLL_gldm_LargeDependenceHighGrayLevelEmphasis</th>\n",
       "      <th>wavelet-LLL_gldm_LargeDependenceLowGrayLevelEmphasis</th>\n",
       "      <th>wavelet-LLL_gldm_LowGrayLevelEmphasis</th>\n",
       "      <th>wavelet-LLL_gldm_SmallDependenceEmphasis</th>\n",
       "      <th>wavelet-LLL_gldm_SmallDependenceHighGrayLevelEmphasis</th>\n",
       "      <th>wavelet-LLL_gldm_SmallDependenceLowGrayLevelEmphasis</th>\n",
       "      <th>Patient</th>\n",
       "      <th>ROI</th>\n",
       "    </tr>\n",
       "  </thead>\n",
       "  <tbody>\n",
       "    <tr>\n",
       "      <th>0</th>\n",
       "      <td>v3.0.1</td>\n",
       "      <td>1.20.3</td>\n",
       "      <td>2.1.1</td>\n",
       "      <td>0.5.2</td>\n",
       "      <td>3.9.7</td>\n",
       "      <td>{'minimumROIDimensions': 2, 'minimumROISize': ...</td>\n",
       "      <td>{'Original': {}, 'LoG': {'sigma': [1.0, 2.0, 3...</td>\n",
       "      <td>5f90e953b2aa8f8f6e176fafcbb71cebe5b23b8b</td>\n",
       "      <td>3D</td>\n",
       "      <td>(0.9765625, 0.9765625, 3.0)</td>\n",
       "      <td>...</td>\n",
       "      <td>7972.117519631735</td>\n",
       "      <td>6.865691849444896</td>\n",
       "      <td>78554.59355537503</td>\n",
       "      <td>0.00170745805022931</td>\n",
       "      <td>0.0007290082487178971</td>\n",
       "      <td>0.5898053619535815</td>\n",
       "      <td>3885.3566040885776</td>\n",
       "      <td>0.0005789905550563673</td>\n",
       "      <td>LUNG1-359_1-1_GTV-1_mask</td>\n",
       "      <td>GTV-1_mask</td>\n",
       "    </tr>\n",
       "    <tr>\n",
       "      <th>1</th>\n",
       "      <td>v3.0.1</td>\n",
       "      <td>1.20.3</td>\n",
       "      <td>2.1.1</td>\n",
       "      <td>0.5.2</td>\n",
       "      <td>3.9.7</td>\n",
       "      <td>{'minimumROIDimensions': 2, 'minimumROISize': ...</td>\n",
       "      <td>{'Original': {}, 'LoG': {'sigma': [1.0, 2.0, 3...</td>\n",
       "      <td>5f90e953b2aa8f8f6e176fafcbb71cebe5b23b8b</td>\n",
       "      <td>3D</td>\n",
       "      <td>(0.9765625, 0.9765625, 3.0)</td>\n",
       "      <td>...</td>\n",
       "      <td>5109.5782982045275</td>\n",
       "      <td>66.24371584699453</td>\n",
       "      <td>352545.7369242779</td>\n",
       "      <td>0.012657111463957118</td>\n",
       "      <td>0.0003619177253578865</td>\n",
       "      <td>0.11499122818923925</td>\n",
       "      <td>493.8556447958576</td>\n",
       "      <td>0.00019054406027629807</td>\n",
       "      <td>LUNG1-359_1-1_gtv-2_mask</td>\n",
       "      <td>gtv-2_mask</td>\n",
       "    </tr>\n",
       "    <tr>\n",
       "      <th>2</th>\n",
       "      <td>v3.0.1</td>\n",
       "      <td>1.20.3</td>\n",
       "      <td>2.1.1</td>\n",
       "      <td>0.5.2</td>\n",
       "      <td>3.9.7</td>\n",
       "      <td>{'minimumROIDimensions': 2, 'minimumROISize': ...</td>\n",
       "      <td>{'Original': {}, 'LoG': {'sigma': [1.0, 2.0, 3...</td>\n",
       "      <td>2ed2ac82d49f08098b50be4b2aa450bf7103a406</td>\n",
       "      <td>3D</td>\n",
       "      <td>(0.9765625, 0.9765625, 3.0)</td>\n",
       "      <td>...</td>\n",
       "      <td>9521.069766324608</td>\n",
       "      <td>29.46173949805911</td>\n",
       "      <td>405324.2241535032</td>\n",
       "      <td>0.0028717097222723123</td>\n",
       "      <td>0.00023360750566343386</td>\n",
       "      <td>0.3811692961359455</td>\n",
       "      <td>2650.701401680598</td>\n",
       "      <td>0.00011806215510406878</td>\n",
       "      <td>LUNG1-360_1-1_GTV-1_mask</td>\n",
       "      <td>GTV-1_mask</td>\n",
       "    </tr>\n",
       "  </tbody>\n",
       "</table>\n",
       "<p>3 rows × 1257 columns</p>\n",
       "</div>"
      ],
      "text/plain": [
       "  diagnostics_Versions_PyRadiomics diagnostics_Versions_Numpy  \\\n",
       "0                           v3.0.1                     1.20.3   \n",
       "1                           v3.0.1                     1.20.3   \n",
       "2                           v3.0.1                     1.20.3   \n",
       "\n",
       "  diagnostics_Versions_SimpleITK diagnostics_Versions_PyWavelet  \\\n",
       "0                          2.1.1                          0.5.2   \n",
       "1                          2.1.1                          0.5.2   \n",
       "2                          2.1.1                          0.5.2   \n",
       "\n",
       "  diagnostics_Versions_Python  \\\n",
       "0                       3.9.7   \n",
       "1                       3.9.7   \n",
       "2                       3.9.7   \n",
       "\n",
       "                  diagnostics_Configuration_Settings  \\\n",
       "0  {'minimumROIDimensions': 2, 'minimumROISize': ...   \n",
       "1  {'minimumROIDimensions': 2, 'minimumROISize': ...   \n",
       "2  {'minimumROIDimensions': 2, 'minimumROISize': ...   \n",
       "\n",
       "         diagnostics_Configuration_EnabledImageTypes  \\\n",
       "0  {'Original': {}, 'LoG': {'sigma': [1.0, 2.0, 3...   \n",
       "1  {'Original': {}, 'LoG': {'sigma': [1.0, 2.0, 3...   \n",
       "2  {'Original': {}, 'LoG': {'sigma': [1.0, 2.0, 3...   \n",
       "\n",
       "            diagnostics_Image-original_Hash  \\\n",
       "0  5f90e953b2aa8f8f6e176fafcbb71cebe5b23b8b   \n",
       "1  5f90e953b2aa8f8f6e176fafcbb71cebe5b23b8b   \n",
       "2  2ed2ac82d49f08098b50be4b2aa450bf7103a406   \n",
       "\n",
       "  diagnostics_Image-original_Dimensionality  \\\n",
       "0                                        3D   \n",
       "1                                        3D   \n",
       "2                                        3D   \n",
       "\n",
       "  diagnostics_Image-original_Spacing  ...  \\\n",
       "0        (0.9765625, 0.9765625, 3.0)  ...   \n",
       "1        (0.9765625, 0.9765625, 3.0)  ...   \n",
       "2        (0.9765625, 0.9765625, 3.0)  ...   \n",
       "\n",
       "  wavelet-LLL_gldm_HighGrayLevelEmphasis  \\\n",
       "0                      7972.117519631735   \n",
       "1                     5109.5782982045275   \n",
       "2                      9521.069766324608   \n",
       "\n",
       "  wavelet-LLL_gldm_LargeDependenceEmphasis  \\\n",
       "0                        6.865691849444896   \n",
       "1                        66.24371584699453   \n",
       "2                        29.46173949805911   \n",
       "\n",
       "  wavelet-LLL_gldm_LargeDependenceHighGrayLevelEmphasis  \\\n",
       "0                                  78554.59355537503      \n",
       "1                                  352545.7369242779      \n",
       "2                                  405324.2241535032      \n",
       "\n",
       "  wavelet-LLL_gldm_LargeDependenceLowGrayLevelEmphasis  \\\n",
       "0                                0.00170745805022931     \n",
       "1                               0.012657111463957118     \n",
       "2                              0.0028717097222723123     \n",
       "\n",
       "  wavelet-LLL_gldm_LowGrayLevelEmphasis  \\\n",
       "0                 0.0007290082487178971   \n",
       "1                 0.0003619177253578865   \n",
       "2                0.00023360750566343386   \n",
       "\n",
       "  wavelet-LLL_gldm_SmallDependenceEmphasis  \\\n",
       "0                       0.5898053619535815   \n",
       "1                      0.11499122818923925   \n",
       "2                       0.3811692961359455   \n",
       "\n",
       "  wavelet-LLL_gldm_SmallDependenceHighGrayLevelEmphasis  \\\n",
       "0                                 3885.3566040885776      \n",
       "1                                  493.8556447958576      \n",
       "2                                  2650.701401680598      \n",
       "\n",
       "  wavelet-LLL_gldm_SmallDependenceLowGrayLevelEmphasis  \\\n",
       "0                              0.0005789905550563673     \n",
       "1                             0.00019054406027629807     \n",
       "2                             0.00011806215510406878     \n",
       "\n",
       "                    Patient         ROI  \n",
       "0  LUNG1-359_1-1_GTV-1_mask  GTV-1_mask  \n",
       "1  LUNG1-359_1-1_gtv-2_mask  gtv-2_mask  \n",
       "2  LUNG1-360_1-1_GTV-1_mask  GTV-1_mask  \n",
       "\n",
       "[3 rows x 1257 columns]"
      ]
     },
     "execution_count": 10,
     "metadata": {},
     "output_type": "execute_result"
    }
   ],
   "source": [
    "features.head(3)"
   ]
  },
  {
   "cell_type": "code",
   "execution_count": 12,
   "id": "447e8ff5",
   "metadata": {},
   "outputs": [],
   "source": [
    "writer = pd.ExcelWriter(r'C:\\Users\\MegaMert\\Documents\\GitHub\\precision-medicine-toolbox\\data/features/extracted_features.xlsx') \n",
    "features.to_excel(writer, 'Sheet1')\n",
    "writer.save()"
   ]
  },
  {
   "cell_type": "code",
   "execution_count": null,
   "id": "9c97cbec",
   "metadata": {},
   "outputs": [],
   "source": []
  }
 ],
 "metadata": {
  "kernelspec": {
   "display_name": "Python 3 (ipykernel)",
   "language": "python",
   "name": "python3"
  },
  "language_info": {
   "codemirror_mode": {
    "name": "ipython",
    "version": 3
   },
   "file_extension": ".py",
   "mimetype": "text/x-python",
   "name": "python",
   "nbconvert_exporter": "python",
   "pygments_lexer": "ipython3",
   "version": "3.9.7"
  }
 },
 "nbformat": 4,
 "nbformat_minor": 5
}
