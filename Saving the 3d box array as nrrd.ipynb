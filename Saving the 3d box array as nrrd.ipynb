{
 "cells": [
  {
   "cell_type": "code",
   "execution_count": 1,
   "id": "70c20dcc",
   "metadata": {},
   "outputs": [],
   "source": [
    "import numpy as np\n",
    "import nrrd\n",
    "import pydicom\n",
    "from pydicom import dcmread\n",
    "import os\n",
    "import numpy\n",
    "from os import listdir\n",
    "from os.path import isfile, join\n",
    "import pandas as pd\n",
    "from ipywidgets import interact\n",
    "import matplotlib.pyplot as plt\n",
    "from PIL import Image as im\n",
    "from matplotlib import pyplot, cm\n",
    "#Ideas from: https://pynrrd.readthedocs.io/en/latest/examples.html"
   ]
  },
  {
   "cell_type": "code",
   "execution_count": 2,
   "id": "2562de75",
   "metadata": {},
   "outputs": [],
   "source": [
    "target_folder = r\"E:\\Internship Mass storage\\First 3 datasets\\Duke_breast_MRI dataset\\Duke-Breast-Cancer-MRI\\Breast_MRI_190\\01-01-1990-NA-MRI BREAST BILATERAL WWO-57539\\600.000000-ax 3d dyn-08498\"\n",
    "mypath = target_folder\n",
    "onlyfiles = [f for f in listdir(mypath) if isfile(join(mypath, f))]\n",
    "filepaths = [target_folder + \"/\" + s for s in onlyfiles]\n",
    "\n",
    "mypath = target_folder\n",
    "onlyfiles = [f for f in listdir(mypath) if isfile(join(mypath, f))]\n",
    "testdict = {}\n",
    "sorteddict = {}\n",
    "for x in onlyfiles: # for loop to make a dictionary with all the filenames\n",
    "    tempfile = mypath + \"/\" + str(x)\n",
    "    testds = dcmread(tempfile)\n",
    "    position = testds.ImagePositionPatient[2]\n",
    "    testdict.update({tempfile: position})\n",
    "\n",
    "    #then put them in another dictionary ordered by z-coordinate by first retrieving the key and value for the highest value and then using a while loop to each time add the highest value to the sorted dictionary and then removing it from the first \n",
    "highestkey = max(testdict, key=testdict.get)\n",
    "highestvalue = testdict[highestkey]       \n",
    "while len(testdict) > 0:\n",
    "    highestkey = max(testdict, key=testdict.get)\n",
    "    highestvalue = testdict[highestkey]\n",
    "    sorteddict.update({highestkey: highestvalue})\n",
    "    testdict.pop(highestkey)\n",
    "\n",
    "filetitles = list(sorteddict.keys())\n",
    "RefDs = pydicom.read_file(filetitles[0])\n",
    "ConstPixelDims = (int(RefDs.Rows), int(RefDs.Columns), len(filetitles))\n",
    "ConstPixelSpacing = (float(RefDs.PixelSpacing[0]), float(RefDs.PixelSpacing[1]), float(RefDs.SliceThickness))"
   ]
  },
  {
   "cell_type": "code",
   "execution_count": 3,
   "id": "2392eb66",
   "metadata": {},
   "outputs": [],
   "source": [
    "def Make_mask(patientnr):\n",
    "    df = pd.read_excel (r'E:\\Internship Mass storage\\First 3 datasets\\Duke_breast_MRI dataset\\Annotation_Boxes.xlsx')\n",
    "    test = df.iloc[patientnr]\n",
    "    maskstats = pd.Series(test).values\n",
    "    ArrayMask = numpy.zeros(ConstPixelDims, dtype=RefDs.pixel_array.dtype)\n",
    "\n",
    "    for x in range (maskstats[1],maskstats[2]):\n",
    "        for y in range (maskstats[3],maskstats[4]):\n",
    "            for z in range (maskstats[5],maskstats[6]+1):\n",
    "                ArrayMask[x,y,z] = 1"
   ]
  },
  {
   "cell_type": "code",
   "execution_count": 4,
   "id": "863bc55b",
   "metadata": {},
   "outputs": [],
   "source": [
    "ArrayMask = numpy.zeros(ConstPixelDims, dtype=RefDs.pixel_array.dtype)\n",
    "for patientnr in range (0,922):\n",
    "    Make_mask(patientnr)\n",
    "    target_location = r'E:\\Internship Mass storage\\First 3 datasets\\Duke_breast_MRI dataset/Box_masks/'\n",
    "    target_file = target_location + str(patientnr + 1) + \".nrrd\"\n",
    "    data = ArrayMask\n",
    "    nrrd.write(target_file, data)"
   ]
  },
  {
   "cell_type": "code",
   "execution_count": null,
   "id": "0ffeeaa5",
   "metadata": {},
   "outputs": [],
   "source": []
  }
 ],
 "metadata": {
  "kernelspec": {
   "display_name": "Python 3 (ipykernel)",
   "language": "python",
   "name": "python3"
  },
  "language_info": {
   "codemirror_mode": {
    "name": "ipython",
    "version": 3
   },
   "file_extension": ".py",
   "mimetype": "text/x-python",
   "name": "python",
   "nbconvert_exporter": "python",
   "pygments_lexer": "ipython3",
   "version": "3.9.7"
  }
 },
 "nbformat": 4,
 "nbformat_minor": 5
}
