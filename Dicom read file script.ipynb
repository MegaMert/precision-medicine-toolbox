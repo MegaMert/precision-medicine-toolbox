{
 "cells": [
  {
   "cell_type": "code",
   "execution_count": 2,
   "id": "9675b1db",
   "metadata": {},
   "outputs": [
    {
     "name": "stdout",
     "output_type": "stream",
     "text": [
      "Dataset.file_meta -------------------------------\n",
      "(0002, 0000) File Meta Information Group Length  UL: 204\n",
      "(0002, 0001) File Meta Information Version       OB: b'\\x00\\x01'\n",
      "(0002, 0002) Media Storage SOP Class UID         UI: MR Image Storage\n",
      "(0002, 0003) Media Storage SOP Instance UID      UI: 1.3.6.1.4.1.14519.5.2.1.162254382453384131622179020950511557028\n",
      "(0002, 0010) Transfer Syntax UID                 UI: Implicit VR Little Endian\n",
      "(0002, 0012) Implementation Class UID            UI: 1.3.6.1.4.1.22213.1.143\n",
      "(0002, 0013) Implementation Version Name         SH: '0.5'\n",
      "(0002, 0016) Source Application Entity Title     AE: 'POSDA'\n",
      "-------------------------------------------------\n",
      "(0008, 0005) Specific Character Set              CS: 'ISO_IR 100'\n",
      "(0008, 0008) Image Type                          CS: ['ORIGINAL', 'PRIMARY', 'M', 'DIS2D']\n",
      "(0008, 0012) Instance Creation Date              DA: '19900101'\n",
      "(0008, 0013) Instance Creation Time              TM: '082012.187000'\n",
      "(0008, 0016) SOP Class UID                       UI: MR Image Storage\n",
      "(0008, 0018) SOP Instance UID                    UI: 1.3.6.1.4.1.14519.5.2.1.162254382453384131622179020950511557028\n",
      "(0008, 0020) Study Date                          DA: '19900101'\n",
      "(0008, 0021) Series Date                         DA: '19900101'\n",
      "(0008, 0022) Acquisition Date                    DA: '19900101'\n",
      "(0008, 0023) Content Date                        DA: '19900101'\n",
      "(0008, 0030) Study Time                          TM: '080801.515000'\n",
      "(0008, 0031) Series Time                         TM: '081937.046000'\n",
      "(0008, 0032) Acquisition Time                    TM: '081732.400000'\n",
      "(0008, 0033) Content Time                        TM: '082012.187000'\n",
      "(0008, 0050) Accession Number                    SH: ''\n",
      "(0008, 0060) Modality                            CS: 'MR'\n",
      "(0008, 0070) Manufacturer                        LO: 'SIEMENS'\n",
      "(0008, 0090) Referring Physician's Name          PN: ''\n",
      "(0008, 1030) Study Description                   LO: 'MRI BREAST BILATERAL W/WO'\n",
      "(0008, 1032)  Procedure Code Sequence  1 item(s) ---- \n",
      "   (0008, 0100) Code Value                          SH: '0085X'\n",
      "   (0008, 0102) Coding Scheme Designator            SH: 'GEIIS'\n",
      "   (0008, 0103) Coding Scheme Version               SH: '0'\n",
      "   (0008, 0104) Code Meaning                        LO: 'MRI BREAST BILATERAL W WO'\n",
      "   ---------\n",
      "(0008, 103e) Series Description                  LO: 'ax dyn pre'\n",
      "(0008, 1090) Manufacturer's Model Name           LO: 'Avanto'\n",
      "(0010, 0010) Patient's Name                      PN: 'Breast_MRI_001'\n",
      "(0010, 0020) Patient ID                          LO: 'Breast_MRI_001'\n",
      "(0010, 0030) Patient's Birth Date                DA: ''\n",
      "(0010, 0040) Patient's Sex                       CS: 'F'\n",
      "(0010, 1010) Patient's Age                       AS: '041Y'\n",
      "(0010, 1020) Patient's Size                      DS: '1.6002032025'\n",
      "(0010, 1030) Patient's Weight                    DS: '90.2648931123'\n",
      "(0010, 21c0) Pregnancy Status                    US: 4\n",
      "(0010, 4000) Patient Comments                    LT: ''\n",
      "(0012, 0062) Patient Identity Removed            CS: 'YES'\n",
      "(0012, 0063) De-identification Method            LO: 'DICOMANON (rev R2010a) - PS 3.15-2008 Table E.1-1 - nondefault'\n",
      "(0013, 0010) Private Creator                     LO: 'CTP'\n",
      "(0013, 1010) Private tag data                    UN: Array of 22 elements\n",
      "(0013, 1013) Private tag data                    UN: b'88622928'\n",
      "(0018, 0015) Body Part Examined                  CS: 'BREAST'\n",
      "(0018, 0020) Scanning Sequence                   CS: 'GR'\n",
      "(0018, 0021) Sequence Variant                    CS: ['SP', 'OSP']\n",
      "(0018, 0022) Scan Options                        CS: ['PFP', 'FS']\n",
      "(0018, 0023) MR Acquisition Type                 CS: '3D'\n",
      "(0018, 0025) Angio Flag                          CS: 'Y'\n",
      "(0018, 0050) Slice Thickness                     DS: '1.1000000238419'\n",
      "(0018, 0080) Repetition Time                     DS: '4.12'\n",
      "(0018, 0081) Echo Time                           DS: '1.36'\n",
      "(0018, 0083) Number of Averages                  DS: '1.0'\n",
      "(0018, 0084) Imaging Frequency                   DS: '63.67661'\n",
      "(0018, 0085) Imaged Nucleus                      SH: '1H'\n",
      "(0018, 0086) Echo Number(s)                      IS: '1'\n",
      "(0018, 0087) Magnetic Field Strength             DS: '1.5'\n",
      "(0018, 0089) Number of Phase Encoding Steps      IS: '409'\n",
      "(0018, 0091) Echo Train Length                   IS: '1'\n",
      "(0018, 0093) Percent Sampling                    DS: '100.0'\n",
      "(0018, 0094) Percent Phase Field of View         DS: '100.0'\n",
      "(0018, 0095) Pixel Bandwidth                     DS: '320.0'\n",
      "(0018, 1000) Device Serial Number                LO: ''\n",
      "(0018, 1020) Software Versions                   LO: 'syngo MR B13 4VB13A'\n",
      "(0018, 1030) Protocol Name                       LO: ''\n",
      "(0018, 1200) Date of Last Calibration            DA: '19900101'\n",
      "(0018, 1251) Transmit Coil Name                  SH: 'Body'\n",
      "(0018, 1310) Acquisition Matrix                  US: [0, 448, 448, 0]\n",
      "(0018, 1312) In-plane Phase Encoding Direction   CS: 'ROW'\n",
      "(0018, 1314) Flip Angle                          DS: '12.0'\n",
      "(0018, 1315) Variable Flip Angle Flag            CS: 'N'\n",
      "(0018, 1316) SAR                                 DS: '0.3067459848455'\n",
      "(0018, 1318) dB/dt                               DS: '0.0'\n",
      "(0018, 5100) Patient Position                    CS: 'FFP'\n",
      "(0020, 000d) Study Instance UID                  UI: 1.3.6.1.4.1.14519.5.2.1.186051521067863971269584893740842397538\n",
      "(0020, 000e) Series Instance UID                 UI: 1.3.6.1.4.1.14519.5.2.1.185777849803665244536713316058283493877\n",
      "(0020, 0010) Study ID                            SH: ''\n",
      "(0020, 0011) Series Number                       IS: '3'\n",
      "(0020, 0012) Acquisition Number                  IS: '1'\n",
      "(0020, 0013) Instance Number                     IS: '1'\n",
      "(0020, 0032) Image Position (Patient)            DS: [-191.80030483817, -176.12590213898, 86.606538507263]\n",
      "(0020, 0037) Image Orientation (Patient)         DS: [0.9993283937409, -2.051034E-10, 0.036643709737, 2.049657E-10, 1, 7.5158E-12]\n",
      "(0020, 0052) Frame of Reference UID              UI: 1.3.6.1.4.1.14519.5.2.1.45736569925431297170708374639092465328\n",
      "(0020, 1040) Position Reference Indicator        LO: ''\n",
      "(0020, 1041) Slice Location                      DS: '93.576647711884'\n",
      "(0028, 0002) Samples per Pixel                   US: 1\n",
      "(0028, 0004) Photometric Interpretation          CS: 'MONOCHROME2'\n",
      "(0028, 0010) Rows                                US: 448\n",
      "(0028, 0011) Columns                             US: 448\n",
      "(0028, 0030) Pixel Spacing                       DS: [0.80357140302658, 0.80357140302658]\n",
      "(0028, 0100) Bits Allocated                      US: 16\n",
      "(0028, 0101) Bits Stored                         US: 12\n",
      "(0028, 0102) High Bit                            US: 11\n",
      "(0028, 0103) Pixel Representation                US: 0\n",
      "(0028, 0106) Smallest Image Pixel Value          US: 0\n",
      "(0028, 0107) Largest Image Pixel Value           US: 129\n",
      "(0028, 1050) Window Center                       DS: '53.0'\n",
      "(0028, 1051) Window Width                        DS: '145.0'\n",
      "(0032, 1060) Requested Procedure Description     LO: 'MRI BREAST BILATERAL W + W/O'\n",
      "(0040, 0254) Performed Procedure Step Descriptio LO: 'MRI BREAST BILATERAL W + W/O'\n",
      "(0040, 2017) Filler Order Number / Imaging Servi LO: ''\n",
      "(0088, 0140) Storage Media File-set UID          UI: 1.3.6.1.4.1.14519.5.2.1.281949768489412648962353822266799178366\n",
      "(7fe0, 0010) Pixel Data                          OW: Array of 401408 elements\n"
     ]
    }
   ],
   "source": [
    "from pydicom import dcmread\n",
    "import matplotlib.pyplot as plt\n",
    "from ipywidgets import interact\n",
    "import numpy as np\n",
    "from PIL import Image \n",
    "# for now I can just leave this the same but if I wnat to start applying it I should make it a ninput\n",
    "target_folder = r\"E:\\Internship Mass storage\\First 3 datasets\\Duke_breast_MRI dataset\\Duke-Breast-Cancer-MRI\\Breast_MRI_002\\01-01-1990-NA-MRI BREAST BILATERAL W  WO-51972\\3.000000-ax t1-40797\"\n",
    "\n",
    "#test reading one dicom file\n",
    "ds = dcmread(r\"E:\\Internship Mass storage\\First 3 datasets\\Duke_breast_MRI dataset\\Duke-Breast-Cancer-MRI\\Breast_MRI_001\\01-01-1990-NA-MRI BREAST BILATERAL WWO-97538\\3.000000-ax dyn pre-93877\\1-001.dcm\")\n",
    "print(ds)"
   ]
  },
  {
   "cell_type": "code",
   "execution_count": 3,
   "id": "6c4b844e",
   "metadata": {},
   "outputs": [
    {
     "name": "stdout",
     "output_type": "stream",
     "text": [
      "['1-01.dcm', '1-02.dcm', '1-03.dcm', '1-04.dcm', '1-05.dcm', '1-06.dcm', '1-07.dcm', '1-08.dcm', '1-09.dcm', '1-10.dcm', '1-11.dcm', '1-12.dcm', '1-13.dcm', '1-14.dcm', '1-15.dcm', '1-16.dcm', '1-17.dcm', '1-18.dcm', '1-19.dcm', '1-20.dcm', '1-21.dcm', '1-22.dcm', '1-23.dcm', '1-24.dcm', '1-25.dcm', '1-26.dcm', '1-27.dcm', '1-28.dcm', '1-29.dcm', '1-30.dcm', '1-31.dcm', '1-32.dcm', '1-33.dcm', '1-34.dcm', '1-35.dcm', '1-36.dcm', '1-37.dcm', '1-38.dcm', '1-39.dcm', '1-40.dcm', '1-41.dcm', '1-42.dcm', '1-43.dcm', '1-44.dcm', '1-45.dcm', '1-46.dcm', '1-47.dcm', '1-48.dcm', '1-49.dcm', '1-50.dcm', '1-51.dcm', '1-52.dcm', '1-53.dcm', '1-54.dcm', '1-55.dcm', '1-56.dcm', '1-57.dcm', '1-58.dcm', '1-59.dcm', '1-60.dcm']\n"
     ]
    }
   ],
   "source": [
    "from os import listdir\n",
    "from os.path import isfile, join\n",
    "mypath = target_folder\n",
    "onlyfiles = [f for f in listdir(mypath) if isfile(join(mypath, f))]\n",
    "print(onlyfiles)"
   ]
  },
  {
   "cell_type": "code",
   "execution_count": 4,
   "id": "994bf7db",
   "metadata": {},
   "outputs": [
    {
     "name": "stdout",
     "output_type": "stream",
     "text": [
      "{}\n",
      "{'E:\\\\Internship Mass storage\\\\First 3 datasets\\\\Duke_breast_MRI dataset\\\\Duke-Breast-Cancer-MRI\\\\Breast_MRI_002\\\\01-01-1990-NA-MRI BREAST BILATERAL W  WO-51972\\\\3.000000-ax t1-40797/1-01.dcm': '89.7563', 'E:\\\\Internship Mass storage\\\\First 3 datasets\\\\Duke_breast_MRI dataset\\\\Duke-Breast-Cancer-MRI\\\\Breast_MRI_002\\\\01-01-1990-NA-MRI BREAST BILATERAL W  WO-51972\\\\3.000000-ax t1-40797/1-02.dcm': '86.7563', 'E:\\\\Internship Mass storage\\\\First 3 datasets\\\\Duke_breast_MRI dataset\\\\Duke-Breast-Cancer-MRI\\\\Breast_MRI_002\\\\01-01-1990-NA-MRI BREAST BILATERAL W  WO-51972\\\\3.000000-ax t1-40797/1-03.dcm': '83.7563', 'E:\\\\Internship Mass storage\\\\First 3 datasets\\\\Duke_breast_MRI dataset\\\\Duke-Breast-Cancer-MRI\\\\Breast_MRI_002\\\\01-01-1990-NA-MRI BREAST BILATERAL W  WO-51972\\\\3.000000-ax t1-40797/1-04.dcm': '80.7563', 'E:\\\\Internship Mass storage\\\\First 3 datasets\\\\Duke_breast_MRI dataset\\\\Duke-Breast-Cancer-MRI\\\\Breast_MRI_002\\\\01-01-1990-NA-MRI BREAST BILATERAL W  WO-51972\\\\3.000000-ax t1-40797/1-05.dcm': '77.7563', 'E:\\\\Internship Mass storage\\\\First 3 datasets\\\\Duke_breast_MRI dataset\\\\Duke-Breast-Cancer-MRI\\\\Breast_MRI_002\\\\01-01-1990-NA-MRI BREAST BILATERAL W  WO-51972\\\\3.000000-ax t1-40797/1-06.dcm': '74.7563', 'E:\\\\Internship Mass storage\\\\First 3 datasets\\\\Duke_breast_MRI dataset\\\\Duke-Breast-Cancer-MRI\\\\Breast_MRI_002\\\\01-01-1990-NA-MRI BREAST BILATERAL W  WO-51972\\\\3.000000-ax t1-40797/1-07.dcm': '71.7563', 'E:\\\\Internship Mass storage\\\\First 3 datasets\\\\Duke_breast_MRI dataset\\\\Duke-Breast-Cancer-MRI\\\\Breast_MRI_002\\\\01-01-1990-NA-MRI BREAST BILATERAL W  WO-51972\\\\3.000000-ax t1-40797/1-08.dcm': '68.7563', 'E:\\\\Internship Mass storage\\\\First 3 datasets\\\\Duke_breast_MRI dataset\\\\Duke-Breast-Cancer-MRI\\\\Breast_MRI_002\\\\01-01-1990-NA-MRI BREAST BILATERAL W  WO-51972\\\\3.000000-ax t1-40797/1-09.dcm': '65.7563', 'E:\\\\Internship Mass storage\\\\First 3 datasets\\\\Duke_breast_MRI dataset\\\\Duke-Breast-Cancer-MRI\\\\Breast_MRI_002\\\\01-01-1990-NA-MRI BREAST BILATERAL W  WO-51972\\\\3.000000-ax t1-40797/1-10.dcm': '62.7563', 'E:\\\\Internship Mass storage\\\\First 3 datasets\\\\Duke_breast_MRI dataset\\\\Duke-Breast-Cancer-MRI\\\\Breast_MRI_002\\\\01-01-1990-NA-MRI BREAST BILATERAL W  WO-51972\\\\3.000000-ax t1-40797/1-11.dcm': '59.7563', 'E:\\\\Internship Mass storage\\\\First 3 datasets\\\\Duke_breast_MRI dataset\\\\Duke-Breast-Cancer-MRI\\\\Breast_MRI_002\\\\01-01-1990-NA-MRI BREAST BILATERAL W  WO-51972\\\\3.000000-ax t1-40797/1-12.dcm': '56.7563', 'E:\\\\Internship Mass storage\\\\First 3 datasets\\\\Duke_breast_MRI dataset\\\\Duke-Breast-Cancer-MRI\\\\Breast_MRI_002\\\\01-01-1990-NA-MRI BREAST BILATERAL W  WO-51972\\\\3.000000-ax t1-40797/1-13.dcm': '53.7563', 'E:\\\\Internship Mass storage\\\\First 3 datasets\\\\Duke_breast_MRI dataset\\\\Duke-Breast-Cancer-MRI\\\\Breast_MRI_002\\\\01-01-1990-NA-MRI BREAST BILATERAL W  WO-51972\\\\3.000000-ax t1-40797/1-14.dcm': '50.7563', 'E:\\\\Internship Mass storage\\\\First 3 datasets\\\\Duke_breast_MRI dataset\\\\Duke-Breast-Cancer-MRI\\\\Breast_MRI_002\\\\01-01-1990-NA-MRI BREAST BILATERAL W  WO-51972\\\\3.000000-ax t1-40797/1-15.dcm': '47.7563', 'E:\\\\Internship Mass storage\\\\First 3 datasets\\\\Duke_breast_MRI dataset\\\\Duke-Breast-Cancer-MRI\\\\Breast_MRI_002\\\\01-01-1990-NA-MRI BREAST BILATERAL W  WO-51972\\\\3.000000-ax t1-40797/1-16.dcm': '44.7563', 'E:\\\\Internship Mass storage\\\\First 3 datasets\\\\Duke_breast_MRI dataset\\\\Duke-Breast-Cancer-MRI\\\\Breast_MRI_002\\\\01-01-1990-NA-MRI BREAST BILATERAL W  WO-51972\\\\3.000000-ax t1-40797/1-17.dcm': '41.7563', 'E:\\\\Internship Mass storage\\\\First 3 datasets\\\\Duke_breast_MRI dataset\\\\Duke-Breast-Cancer-MRI\\\\Breast_MRI_002\\\\01-01-1990-NA-MRI BREAST BILATERAL W  WO-51972\\\\3.000000-ax t1-40797/1-18.dcm': '38.7563', 'E:\\\\Internship Mass storage\\\\First 3 datasets\\\\Duke_breast_MRI dataset\\\\Duke-Breast-Cancer-MRI\\\\Breast_MRI_002\\\\01-01-1990-NA-MRI BREAST BILATERAL W  WO-51972\\\\3.000000-ax t1-40797/1-19.dcm': '35.7563', 'E:\\\\Internship Mass storage\\\\First 3 datasets\\\\Duke_breast_MRI dataset\\\\Duke-Breast-Cancer-MRI\\\\Breast_MRI_002\\\\01-01-1990-NA-MRI BREAST BILATERAL W  WO-51972\\\\3.000000-ax t1-40797/1-20.dcm': '32.7563', 'E:\\\\Internship Mass storage\\\\First 3 datasets\\\\Duke_breast_MRI dataset\\\\Duke-Breast-Cancer-MRI\\\\Breast_MRI_002\\\\01-01-1990-NA-MRI BREAST BILATERAL W  WO-51972\\\\3.000000-ax t1-40797/1-21.dcm': '29.7563', 'E:\\\\Internship Mass storage\\\\First 3 datasets\\\\Duke_breast_MRI dataset\\\\Duke-Breast-Cancer-MRI\\\\Breast_MRI_002\\\\01-01-1990-NA-MRI BREAST BILATERAL W  WO-51972\\\\3.000000-ax t1-40797/1-22.dcm': '26.7563', 'E:\\\\Internship Mass storage\\\\First 3 datasets\\\\Duke_breast_MRI dataset\\\\Duke-Breast-Cancer-MRI\\\\Breast_MRI_002\\\\01-01-1990-NA-MRI BREAST BILATERAL W  WO-51972\\\\3.000000-ax t1-40797/1-23.dcm': '23.7563', 'E:\\\\Internship Mass storage\\\\First 3 datasets\\\\Duke_breast_MRI dataset\\\\Duke-Breast-Cancer-MRI\\\\Breast_MRI_002\\\\01-01-1990-NA-MRI BREAST BILATERAL W  WO-51972\\\\3.000000-ax t1-40797/1-24.dcm': '20.7563', 'E:\\\\Internship Mass storage\\\\First 3 datasets\\\\Duke_breast_MRI dataset\\\\Duke-Breast-Cancer-MRI\\\\Breast_MRI_002\\\\01-01-1990-NA-MRI BREAST BILATERAL W  WO-51972\\\\3.000000-ax t1-40797/1-25.dcm': '17.7563', 'E:\\\\Internship Mass storage\\\\First 3 datasets\\\\Duke_breast_MRI dataset\\\\Duke-Breast-Cancer-MRI\\\\Breast_MRI_002\\\\01-01-1990-NA-MRI BREAST BILATERAL W  WO-51972\\\\3.000000-ax t1-40797/1-26.dcm': '14.7563', 'E:\\\\Internship Mass storage\\\\First 3 datasets\\\\Duke_breast_MRI dataset\\\\Duke-Breast-Cancer-MRI\\\\Breast_MRI_002\\\\01-01-1990-NA-MRI BREAST BILATERAL W  WO-51972\\\\3.000000-ax t1-40797/1-27.dcm': '11.7563', 'E:\\\\Internship Mass storage\\\\First 3 datasets\\\\Duke_breast_MRI dataset\\\\Duke-Breast-Cancer-MRI\\\\Breast_MRI_002\\\\01-01-1990-NA-MRI BREAST BILATERAL W  WO-51972\\\\3.000000-ax t1-40797/1-28.dcm': '8.75634', 'E:\\\\Internship Mass storage\\\\First 3 datasets\\\\Duke_breast_MRI dataset\\\\Duke-Breast-Cancer-MRI\\\\Breast_MRI_002\\\\01-01-1990-NA-MRI BREAST BILATERAL W  WO-51972\\\\3.000000-ax t1-40797/1-29.dcm': '5.75634', 'E:\\\\Internship Mass storage\\\\First 3 datasets\\\\Duke_breast_MRI dataset\\\\Duke-Breast-Cancer-MRI\\\\Breast_MRI_002\\\\01-01-1990-NA-MRI BREAST BILATERAL W  WO-51972\\\\3.000000-ax t1-40797/1-30.dcm': '2.75634', 'E:\\\\Internship Mass storage\\\\First 3 datasets\\\\Duke_breast_MRI dataset\\\\Duke-Breast-Cancer-MRI\\\\Breast_MRI_002\\\\01-01-1990-NA-MRI BREAST BILATERAL W  WO-51972\\\\3.000000-ax t1-40797/1-31.dcm': '-0.24366', 'E:\\\\Internship Mass storage\\\\First 3 datasets\\\\Duke_breast_MRI dataset\\\\Duke-Breast-Cancer-MRI\\\\Breast_MRI_002\\\\01-01-1990-NA-MRI BREAST BILATERAL W  WO-51972\\\\3.000000-ax t1-40797/1-32.dcm': '-3.24366', 'E:\\\\Internship Mass storage\\\\First 3 datasets\\\\Duke_breast_MRI dataset\\\\Duke-Breast-Cancer-MRI\\\\Breast_MRI_002\\\\01-01-1990-NA-MRI BREAST BILATERAL W  WO-51972\\\\3.000000-ax t1-40797/1-33.dcm': '-6.24366', 'E:\\\\Internship Mass storage\\\\First 3 datasets\\\\Duke_breast_MRI dataset\\\\Duke-Breast-Cancer-MRI\\\\Breast_MRI_002\\\\01-01-1990-NA-MRI BREAST BILATERAL W  WO-51972\\\\3.000000-ax t1-40797/1-34.dcm': '-9.24366', 'E:\\\\Internship Mass storage\\\\First 3 datasets\\\\Duke_breast_MRI dataset\\\\Duke-Breast-Cancer-MRI\\\\Breast_MRI_002\\\\01-01-1990-NA-MRI BREAST BILATERAL W  WO-51972\\\\3.000000-ax t1-40797/1-35.dcm': '-12.2437', 'E:\\\\Internship Mass storage\\\\First 3 datasets\\\\Duke_breast_MRI dataset\\\\Duke-Breast-Cancer-MRI\\\\Breast_MRI_002\\\\01-01-1990-NA-MRI BREAST BILATERAL W  WO-51972\\\\3.000000-ax t1-40797/1-36.dcm': '-15.2437', 'E:\\\\Internship Mass storage\\\\First 3 datasets\\\\Duke_breast_MRI dataset\\\\Duke-Breast-Cancer-MRI\\\\Breast_MRI_002\\\\01-01-1990-NA-MRI BREAST BILATERAL W  WO-51972\\\\3.000000-ax t1-40797/1-37.dcm': '-18.2437', 'E:\\\\Internship Mass storage\\\\First 3 datasets\\\\Duke_breast_MRI dataset\\\\Duke-Breast-Cancer-MRI\\\\Breast_MRI_002\\\\01-01-1990-NA-MRI BREAST BILATERAL W  WO-51972\\\\3.000000-ax t1-40797/1-38.dcm': '-21.2437', 'E:\\\\Internship Mass storage\\\\First 3 datasets\\\\Duke_breast_MRI dataset\\\\Duke-Breast-Cancer-MRI\\\\Breast_MRI_002\\\\01-01-1990-NA-MRI BREAST BILATERAL W  WO-51972\\\\3.000000-ax t1-40797/1-39.dcm': '-24.2437', 'E:\\\\Internship Mass storage\\\\First 3 datasets\\\\Duke_breast_MRI dataset\\\\Duke-Breast-Cancer-MRI\\\\Breast_MRI_002\\\\01-01-1990-NA-MRI BREAST BILATERAL W  WO-51972\\\\3.000000-ax t1-40797/1-40.dcm': '-27.2437', 'E:\\\\Internship Mass storage\\\\First 3 datasets\\\\Duke_breast_MRI dataset\\\\Duke-Breast-Cancer-MRI\\\\Breast_MRI_002\\\\01-01-1990-NA-MRI BREAST BILATERAL W  WO-51972\\\\3.000000-ax t1-40797/1-41.dcm': '-30.2437', 'E:\\\\Internship Mass storage\\\\First 3 datasets\\\\Duke_breast_MRI dataset\\\\Duke-Breast-Cancer-MRI\\\\Breast_MRI_002\\\\01-01-1990-NA-MRI BREAST BILATERAL W  WO-51972\\\\3.000000-ax t1-40797/1-42.dcm': '-33.2437', 'E:\\\\Internship Mass storage\\\\First 3 datasets\\\\Duke_breast_MRI dataset\\\\Duke-Breast-Cancer-MRI\\\\Breast_MRI_002\\\\01-01-1990-NA-MRI BREAST BILATERAL W  WO-51972\\\\3.000000-ax t1-40797/1-43.dcm': '-36.2437', 'E:\\\\Internship Mass storage\\\\First 3 datasets\\\\Duke_breast_MRI dataset\\\\Duke-Breast-Cancer-MRI\\\\Breast_MRI_002\\\\01-01-1990-NA-MRI BREAST BILATERAL W  WO-51972\\\\3.000000-ax t1-40797/1-44.dcm': '-39.2437', 'E:\\\\Internship Mass storage\\\\First 3 datasets\\\\Duke_breast_MRI dataset\\\\Duke-Breast-Cancer-MRI\\\\Breast_MRI_002\\\\01-01-1990-NA-MRI BREAST BILATERAL W  WO-51972\\\\3.000000-ax t1-40797/1-45.dcm': '-42.2437', 'E:\\\\Internship Mass storage\\\\First 3 datasets\\\\Duke_breast_MRI dataset\\\\Duke-Breast-Cancer-MRI\\\\Breast_MRI_002\\\\01-01-1990-NA-MRI BREAST BILATERAL W  WO-51972\\\\3.000000-ax t1-40797/1-46.dcm': '-45.2437', 'E:\\\\Internship Mass storage\\\\First 3 datasets\\\\Duke_breast_MRI dataset\\\\Duke-Breast-Cancer-MRI\\\\Breast_MRI_002\\\\01-01-1990-NA-MRI BREAST BILATERAL W  WO-51972\\\\3.000000-ax t1-40797/1-47.dcm': '-48.2437', 'E:\\\\Internship Mass storage\\\\First 3 datasets\\\\Duke_breast_MRI dataset\\\\Duke-Breast-Cancer-MRI\\\\Breast_MRI_002\\\\01-01-1990-NA-MRI BREAST BILATERAL W  WO-51972\\\\3.000000-ax t1-40797/1-48.dcm': '-51.2437', 'E:\\\\Internship Mass storage\\\\First 3 datasets\\\\Duke_breast_MRI dataset\\\\Duke-Breast-Cancer-MRI\\\\Breast_MRI_002\\\\01-01-1990-NA-MRI BREAST BILATERAL W  WO-51972\\\\3.000000-ax t1-40797/1-49.dcm': '-54.2437', 'E:\\\\Internship Mass storage\\\\First 3 datasets\\\\Duke_breast_MRI dataset\\\\Duke-Breast-Cancer-MRI\\\\Breast_MRI_002\\\\01-01-1990-NA-MRI BREAST BILATERAL W  WO-51972\\\\3.000000-ax t1-40797/1-50.dcm': '-57.2437', 'E:\\\\Internship Mass storage\\\\First 3 datasets\\\\Duke_breast_MRI dataset\\\\Duke-Breast-Cancer-MRI\\\\Breast_MRI_002\\\\01-01-1990-NA-MRI BREAST BILATERAL W  WO-51972\\\\3.000000-ax t1-40797/1-51.dcm': '-60.2437', 'E:\\\\Internship Mass storage\\\\First 3 datasets\\\\Duke_breast_MRI dataset\\\\Duke-Breast-Cancer-MRI\\\\Breast_MRI_002\\\\01-01-1990-NA-MRI BREAST BILATERAL W  WO-51972\\\\3.000000-ax t1-40797/1-52.dcm': '-63.2437', 'E:\\\\Internship Mass storage\\\\First 3 datasets\\\\Duke_breast_MRI dataset\\\\Duke-Breast-Cancer-MRI\\\\Breast_MRI_002\\\\01-01-1990-NA-MRI BREAST BILATERAL W  WO-51972\\\\3.000000-ax t1-40797/1-53.dcm': '-66.2437', 'E:\\\\Internship Mass storage\\\\First 3 datasets\\\\Duke_breast_MRI dataset\\\\Duke-Breast-Cancer-MRI\\\\Breast_MRI_002\\\\01-01-1990-NA-MRI BREAST BILATERAL W  WO-51972\\\\3.000000-ax t1-40797/1-54.dcm': '-69.2437', 'E:\\\\Internship Mass storage\\\\First 3 datasets\\\\Duke_breast_MRI dataset\\\\Duke-Breast-Cancer-MRI\\\\Breast_MRI_002\\\\01-01-1990-NA-MRI BREAST BILATERAL W  WO-51972\\\\3.000000-ax t1-40797/1-55.dcm': '-72.2437', 'E:\\\\Internship Mass storage\\\\First 3 datasets\\\\Duke_breast_MRI dataset\\\\Duke-Breast-Cancer-MRI\\\\Breast_MRI_002\\\\01-01-1990-NA-MRI BREAST BILATERAL W  WO-51972\\\\3.000000-ax t1-40797/1-56.dcm': '-75.2437', 'E:\\\\Internship Mass storage\\\\First 3 datasets\\\\Duke_breast_MRI dataset\\\\Duke-Breast-Cancer-MRI\\\\Breast_MRI_002\\\\01-01-1990-NA-MRI BREAST BILATERAL W  WO-51972\\\\3.000000-ax t1-40797/1-57.dcm': '-78.2437', 'E:\\\\Internship Mass storage\\\\First 3 datasets\\\\Duke_breast_MRI dataset\\\\Duke-Breast-Cancer-MRI\\\\Breast_MRI_002\\\\01-01-1990-NA-MRI BREAST BILATERAL W  WO-51972\\\\3.000000-ax t1-40797/1-58.dcm': '-81.2437', 'E:\\\\Internship Mass storage\\\\First 3 datasets\\\\Duke_breast_MRI dataset\\\\Duke-Breast-Cancer-MRI\\\\Breast_MRI_002\\\\01-01-1990-NA-MRI BREAST BILATERAL W  WO-51972\\\\3.000000-ax t1-40797/1-59.dcm': '-84.2437', 'E:\\\\Internship Mass storage\\\\First 3 datasets\\\\Duke_breast_MRI dataset\\\\Duke-Breast-Cancer-MRI\\\\Breast_MRI_002\\\\01-01-1990-NA-MRI BREAST BILATERAL W  WO-51972\\\\3.000000-ax t1-40797/1-60.dcm': '-87.2437'}\n"
     ]
    }
   ],
   "source": [
    "testdict = {}\n",
    "sorteddict = {}\n",
    "for x in onlyfiles: # for loop to make a dictionary with all the filenames\n",
    "    tempfile = mypath + \"/\" + str(x)\n",
    "    testds = dcmread(tempfile)\n",
    "    position = testds.ImagePositionPatient[2]\n",
    "    testdict.update({tempfile: position})\n",
    "\n",
    "    #then put them in another dictionary ordered by z-coordinate by first retrieving the key and value for the highest value and then using a while loop to each time add the highest value to the sorted dictionary and then removing it from the first \n",
    "highestkey = max(testdict, key=testdict.get)\n",
    "highestvalue = testdict[highestkey]       \n",
    "while len(testdict) > 0:\n",
    "    highestkey = max(testdict, key=testdict.get)\n",
    "    highestvalue = testdict[highestkey]\n",
    "    sorteddict.update({highestkey: highestvalue})\n",
    "    testdict.pop(highestkey)\n",
    "    \n",
    "print(testdict)\n",
    "print(sorteddict)"
   ]
  },
  {
   "cell_type": "code",
   "execution_count": 5,
   "id": "6d6dc225",
   "metadata": {},
   "outputs": [],
   "source": [
    "def show_image(slice):\n",
    "    sliceds = dcmread(slice)\n",
    "    plt.imshow(sliceds.pixel_array, cmap=plt.cm.bone)\n",
    "\n",
    "    #for testing my base function:\n",
    "#show_image(r\"E:\\Internship Mass storage\\First 3 datasets\\Duke_breast_MRI dataset\\Duke-Breast-Cancer-MRI\\Breast_MRI_002\\01-01-1990-NA-MRI BREAST BILATERAL W  WO-51972\\3.000000-ax t1-40797/1-01.dcm\")\n",
    "\n"
   ]
  },
  {
   "cell_type": "code",
   "execution_count": 6,
   "id": "78093a5c",
   "metadata": {},
   "outputs": [
    {
     "data": {
      "application/vnd.jupyter.widget-view+json": {
       "model_id": "4462b300d1304c36843feb97247fe8c5",
       "version_major": 2,
       "version_minor": 0
      },
      "text/plain": [
       "interactive(children=(IntSlider(value=29, description='x', max=59), Output()), _dom_classes=('widget-interact'…"
      ]
     },
     "metadata": {},
     "output_type": "display_data"
    },
    {
     "data": {
      "text/plain": [
       "<function __main__.imageselector(x)>"
      ]
     },
     "execution_count": 6,
     "metadata": {},
     "output_type": "execute_result"
    }
   ],
   "source": [
    "n = len(sorteddict)\n",
    "filetitles = list(sorteddict.keys())\n",
    "def imageselector(x):\n",
    "    plt.figure(figsize=(20,10))\n",
    "    plt.title(\"Image file: \" + filetitles[x])\n",
    "    show_image(filetitles[x])\n",
    "    plt.axis('off')\n",
    "interact(imageselector, x = (0, n-1))\n"
   ]
  },
  {
   "cell_type": "code",
   "execution_count": null,
   "id": "e1e4f002",
   "metadata": {},
   "outputs": [],
   "source": []
  }
 ],
 "metadata": {
  "kernelspec": {
   "display_name": "Python 3 (ipykernel)",
   "language": "python",
   "name": "python3"
  },
  "language_info": {
   "codemirror_mode": {
    "name": "ipython",
    "version": 3
   },
   "file_extension": ".py",
   "mimetype": "text/x-python",
   "name": "python",
   "nbconvert_exporter": "python",
   "pygments_lexer": "ipython3",
   "version": "3.9.7"
  }
 },
 "nbformat": 4,
 "nbformat_minor": 5
}
