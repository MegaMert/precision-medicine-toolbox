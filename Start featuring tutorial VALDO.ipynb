{
 "cells": [
  {
   "cell_type": "code",
   "execution_count": 3,
   "id": "b57c2930",
   "metadata": {},
   "outputs": [],
   "source": [
    "import os,sys\n",
    "from AnalysisBoxTest import AnalysisBox\n",
    "from FeaturesSetTest import FeaturesSet\n",
    "\n",
    "import pandas as pd"
   ]
  },
  {
   "cell_type": "code",
   "execution_count": 4,
   "id": "88d4e877",
   "metadata": {},
   "outputs": [],
   "source": [
    "parameters = {\n",
    "    'feature_path': r\"E:\\Internship Mass storage\\First 3 datasets\\VALDO dataset/Stable features for correlation.xlsx\", # path to csv/xls file with features\n",
    "    'outcome_path': \"\", #unknown\n",
    "    'patient_column': 'Patient', # name of column with patient ID\n",
    "    'patient_in_outcome_column': 'PatientID', # name of column with patient ID in clinical data file\n",
    "    'outcome_column': '1yearsurvival' # name of outcome column\n",
    "}"
   ]
  },
  {
   "cell_type": "code",
   "execution_count": 5,
   "id": "35c0bdf0",
   "metadata": {},
   "outputs": [
    {
     "name": "stdout",
     "output_type": "stream",
     "text": [
      "Number of observations: 0\n",
      "Class labels: []\n",
      "Classes balance: []\n"
     ]
    }
   ],
   "source": [
    "fs = AnalysisBox(**parameters)"
   ]
  },
  {
   "cell_type": "code",
   "execution_count": 4,
   "id": "e5e2edd6",
   "metadata": {},
   "outputs": [],
   "source": [
    "#print ('Patient IDs: ', fs._patient_name[:10]) both based on outcome file which is not presented in this dataset\n",
    "#print ('\\nFeature names: ', fs._feature_column[:10])"
   ]
  },
  {
   "cell_type": "code",
   "execution_count": 4,
   "id": "dbd2eec2",
   "metadata": {},
   "outputs": [],
   "source": [
    "# put this here for the mutliclass setup: fs._feature_outcome_dataframe[fs._feature_outcome_dataframe['Overall.Stage'].isnull()]\n",
    "#fs.handle_nan(axis=0)\n",
    "\n"
   ]
  },
  {
   "cell_type": "code",
   "execution_count": 10,
   "id": "e17e40c9",
   "metadata": {},
   "outputs": [],
   "source": [
    "#fs._feature_outcome_dataframe.head(5) # not included in multiclass setup"
   ]
  },
  {
   "cell_type": "code",
   "execution_count": 4,
   "id": "7cab7276",
   "metadata": {},
   "outputs": [
    {
     "name": "stdout",
     "output_type": "stream",
     "text": [
      "Outcome column should be presented\n"
     ]
    }
   ],
   "source": [
    "fs.plot_distribution(fs._feature_column[:8]) # add: fs.plot_distribution(fs._feature_column[:8], ['I', 'IIIb'])"
   ]
  },
  {
   "cell_type": "code",
   "execution_count": 5,
   "id": "a9aac944",
   "metadata": {},
   "outputs": [
    {
     "name": "stdout",
     "output_type": "stream",
     "text": [
      "Outcome column should be presented\n"
     ]
    }
   ],
   "source": [
    "fs.plot_MW_p(fs._feature_column[:8]) # change for mutliclass to: fs.plot_MW_p(fs._feature_column[:100], ['I', 'IIIb'])"
   ]
  },
  {
   "cell_type": "code",
   "execution_count": 6,
   "id": "4b1f807a",
   "metadata": {},
   "outputs": [],
   "source": [
    "fs.plot_correlation_matrix(fs._feature_column[:]) # not included in multiclass instead: fs.plot_distribution(fs._feature_column[:8], ['I', 'IIIb'])\n"
   ]
  },
  {
   "cell_type": "code",
   "execution_count": 11,
   "id": "d4ce6cd8",
   "metadata": {},
   "outputs": [
    {
     "name": "stdout",
     "output_type": "stream",
     "text": [
      "Outcome column should be presented\n"
     ]
    }
   ],
   "source": [
    "fs.plot_univariate_roc(fs._feature_column[:8], auc_threshold=0.70) # change for mutliclass to: fs.plot_univariate_roc(fs._feature_column[:100], ['I', 'IIIb'])"
   ]
  },
  {
   "cell_type": "code",
   "execution_count": 14,
   "id": "3492076c",
   "metadata": {},
   "outputs": [],
   "source": [
    "fs.calculate_basic_stats(volume_feature='original_shape_VoxelVolume')"
   ]
  },
  {
   "cell_type": "code",
   "execution_count": 15,
   "id": "70408fcd",
   "metadata": {},
   "outputs": [
    {
     "name": "stdout",
     "output_type": "stream",
     "text": [
      "Basic statistics for each feature\n"
     ]
    },
    {
     "data": {
      "text/html": [
       "<div>\n",
       "<style scoped>\n",
       "    .dataframe tbody tr th:only-of-type {\n",
       "        vertical-align: middle;\n",
       "    }\n",
       "\n",
       "    .dataframe tbody tr th {\n",
       "        vertical-align: top;\n",
       "    }\n",
       "\n",
       "    .dataframe thead th {\n",
       "        text-align: right;\n",
       "    }\n",
       "</style>\n",
       "<table border=\"1\" class=\"dataframe\">\n",
       "  <thead>\n",
       "    <tr style=\"text-align: right;\">\n",
       "      <th></th>\n",
       "      <th>Unnamed: 0</th>\n",
       "      <th>NaN</th>\n",
       "      <th>Mean</th>\n",
       "      <th>Std</th>\n",
       "      <th>Min</th>\n",
       "      <th>Max</th>\n",
       "      <th>volume_corr</th>\n",
       "    </tr>\n",
       "  </thead>\n",
       "  <tbody>\n",
       "    <tr>\n",
       "      <th>0</th>\n",
       "      <td>original_shape_Maximum2DDiameterColumn</td>\n",
       "      <td>0</td>\n",
       "      <td>3.642447</td>\n",
       "      <td>1.727305</td>\n",
       "      <td>1.000000</td>\n",
       "      <td>15.811388</td>\n",
       "      <td>0.820400</td>\n",
       "    </tr>\n",
       "    <tr>\n",
       "      <th>1</th>\n",
       "      <td>original_shape_Maximum2DDiameterRow</td>\n",
       "      <td>0</td>\n",
       "      <td>3.366430</td>\n",
       "      <td>1.701387</td>\n",
       "      <td>1.000000</td>\n",
       "      <td>14.422205</td>\n",
       "      <td>0.839424</td>\n",
       "    </tr>\n",
       "    <tr>\n",
       "      <th>2</th>\n",
       "      <td>original_shape_Maximum2DDiameterSlice</td>\n",
       "      <td>0</td>\n",
       "      <td>4.048885</td>\n",
       "      <td>1.966813</td>\n",
       "      <td>1.000000</td>\n",
       "      <td>15.524175</td>\n",
       "      <td>0.834154</td>\n",
       "    </tr>\n",
       "    <tr>\n",
       "      <th>3</th>\n",
       "      <td>original_shape_Maximum3DDiameter</td>\n",
       "      <td>0</td>\n",
       "      <td>4.629104</td>\n",
       "      <td>2.320048</td>\n",
       "      <td>2.236068</td>\n",
       "      <td>16.186414</td>\n",
       "      <td>0.898015</td>\n",
       "    </tr>\n",
       "    <tr>\n",
       "      <th>4</th>\n",
       "      <td>original_shape_MeshVolume</td>\n",
       "      <td>0</td>\n",
       "      <td>8.311385</td>\n",
       "      <td>10.156253</td>\n",
       "      <td>0.333333</td>\n",
       "      <td>114.666667</td>\n",
       "      <td>0.988962</td>\n",
       "    </tr>\n",
       "    <tr>\n",
       "      <th>...</th>\n",
       "      <td>...</td>\n",
       "      <td>...</td>\n",
       "      <td>...</td>\n",
       "      <td>...</td>\n",
       "      <td>...</td>\n",
       "      <td>...</td>\n",
       "      <td>...</td>\n",
       "    </tr>\n",
       "    <tr>\n",
       "      <th>90</th>\n",
       "      <td>original_gldm_LargeDependenceLowGrayLevelEmphasis</td>\n",
       "      <td>0</td>\n",
       "      <td>0.228749</td>\n",
       "      <td>0.298277</td>\n",
       "      <td>0.019757</td>\n",
       "      <td>2.666800</td>\n",
       "      <td>-0.780643</td>\n",
       "    </tr>\n",
       "    <tr>\n",
       "      <th>91</th>\n",
       "      <td>original_gldm_LowGrayLevelEmphasis</td>\n",
       "      <td>0</td>\n",
       "      <td>0.164184</td>\n",
       "      <td>0.111269</td>\n",
       "      <td>0.018063</td>\n",
       "      <td>0.666800</td>\n",
       "      <td>-0.938574</td>\n",
       "    </tr>\n",
       "    <tr>\n",
       "      <th>92</th>\n",
       "      <td>original_gldm_SmallDependenceEmphasis</td>\n",
       "      <td>0</td>\n",
       "      <td>0.898192</td>\n",
       "      <td>0.128396</td>\n",
       "      <td>0.250000</td>\n",
       "      <td>1.000000</td>\n",
       "      <td>-0.385940</td>\n",
       "    </tr>\n",
       "    <tr>\n",
       "      <th>93</th>\n",
       "      <td>original_gldm_SmallDependenceHighGrayLevelEmph...</td>\n",
       "      <td>0</td>\n",
       "      <td>856.591079</td>\n",
       "      <td>245.191427</td>\n",
       "      <td>212.500000</td>\n",
       "      <td>1627.285714</td>\n",
       "      <td>-0.406097</td>\n",
       "    </tr>\n",
       "    <tr>\n",
       "      <th>94</th>\n",
       "      <td>original_gldm_SmallDependenceLowGrayLevelEmphasis</td>\n",
       "      <td>0</td>\n",
       "      <td>0.148652</td>\n",
       "      <td>0.105300</td>\n",
       "      <td>0.005451</td>\n",
       "      <td>0.500200</td>\n",
       "      <td>-0.954013</td>\n",
       "    </tr>\n",
       "  </tbody>\n",
       "</table>\n",
       "<p>95 rows × 7 columns</p>\n",
       "</div>"
      ],
      "text/plain": [
       "                                           Unnamed: 0  NaN        Mean  \\\n",
       "0              original_shape_Maximum2DDiameterColumn    0    3.642447   \n",
       "1                 original_shape_Maximum2DDiameterRow    0    3.366430   \n",
       "2               original_shape_Maximum2DDiameterSlice    0    4.048885   \n",
       "3                    original_shape_Maximum3DDiameter    0    4.629104   \n",
       "4                           original_shape_MeshVolume    0    8.311385   \n",
       "..                                                ...  ...         ...   \n",
       "90  original_gldm_LargeDependenceLowGrayLevelEmphasis    0    0.228749   \n",
       "91                 original_gldm_LowGrayLevelEmphasis    0    0.164184   \n",
       "92              original_gldm_SmallDependenceEmphasis    0    0.898192   \n",
       "93  original_gldm_SmallDependenceHighGrayLevelEmph...    0  856.591079   \n",
       "94  original_gldm_SmallDependenceLowGrayLevelEmphasis    0    0.148652   \n",
       "\n",
       "           Std         Min          Max  volume_corr  \n",
       "0     1.727305    1.000000    15.811388     0.820400  \n",
       "1     1.701387    1.000000    14.422205     0.839424  \n",
       "2     1.966813    1.000000    15.524175     0.834154  \n",
       "3     2.320048    2.236068    16.186414     0.898015  \n",
       "4    10.156253    0.333333   114.666667     0.988962  \n",
       "..         ...         ...          ...          ...  \n",
       "90    0.298277    0.019757     2.666800    -0.780643  \n",
       "91    0.111269    0.018063     0.666800    -0.938574  \n",
       "92    0.128396    0.250000     1.000000    -0.385940  \n",
       "93  245.191427  212.500000  1627.285714    -0.406097  \n",
       "94    0.105300    0.005451     0.500200    -0.954013  \n",
       "\n",
       "[95 rows x 7 columns]"
      ]
     },
     "execution_count": 15,
     "metadata": {},
     "output_type": "execute_result"
    }
   ],
   "source": [
    "print('Basic statistics for each feature')\n",
    "pd.read_excel(r'E:\\Internship Mass storage\\First 3 datasets\\VALDO dataset/extracted_features_basic_stats.xlsx')"
   ]
  },
  {
   "cell_type": "code",
   "execution_count": 15,
   "id": "389ef0f8",
   "metadata": {},
   "outputs": [],
   "source": [
    "#fs.volume_analysis(volume_feature='original_shape_VoxelVolume')"
   ]
  },
  {
   "cell_type": "code",
   "execution_count": null,
   "id": "538ef936",
   "metadata": {},
   "outputs": [],
   "source": []
  }
 ],
 "metadata": {
  "kernelspec": {
   "display_name": "Python 3 (ipykernel)",
   "language": "python",
   "name": "python3"
  },
  "language_info": {
   "codemirror_mode": {
    "name": "ipython",
    "version": 3
   },
   "file_extension": ".py",
   "mimetype": "text/x-python",
   "name": "python",
   "nbconvert_exporter": "python",
   "pygments_lexer": "ipython3",
   "version": "3.9.7"
  }
 },
 "nbformat": 4,
 "nbformat_minor": 5
}
