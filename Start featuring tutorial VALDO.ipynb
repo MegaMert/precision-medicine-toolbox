{
 "cells": [
  {
   "cell_type": "code",
   "execution_count": 1,
   "id": "b57c2930",
   "metadata": {},
   "outputs": [],
   "source": [
    "import os,sys\n",
    "from AnalysisBoxTest import AnalysisBox\n",
    "from FeaturesSetTest import FeaturesSet\n",
    "\n",
    "import pandas as pd"
   ]
  },
  {
   "cell_type": "code",
   "execution_count": 2,
   "id": "88d4e877",
   "metadata": {},
   "outputs": [],
   "source": [
    "parameters = {\n",
    "    'feature_path': r\"E:\\Internship Mass storage\\First 3 datasets\\VALDO dataset/extracted_features.xlsx\", # path to csv/xls file with features\n",
    "    'outcome_path': \"\", #unknown\n",
    "    'patient_column': 'Patient', # name of column with patient ID\n",
    "    'patient_in_outcome_column': 'PatientID', # name of column with patient ID in clinical data file\n",
    "    'outcome_column': '1yearsurvival' # name of outcome column\n",
    "}"
   ]
  },
  {
   "cell_type": "code",
   "execution_count": 3,
   "id": "35c0bdf0",
   "metadata": {},
   "outputs": [
    {
     "name": "stdout",
     "output_type": "stream",
     "text": [
      "Number of observations: 0\n",
      "Class labels: []\n",
      "Classes balance: []\n"
     ]
    }
   ],
   "source": [
    "fs = AnalysisBox(**parameters)"
   ]
  },
  {
   "cell_type": "code",
   "execution_count": 4,
   "id": "e5e2edd6",
   "metadata": {},
   "outputs": [],
   "source": [
    "#print ('Patient IDs: ', fs._patient_name[:10]) both based on outcome file which is not presented in this dataset\n",
    "#print ('\\nFeature names: ', fs._feature_column[:10])"
   ]
  },
  {
   "cell_type": "code",
   "execution_count": 4,
   "id": "dbd2eec2",
   "metadata": {},
   "outputs": [],
   "source": [
    "# put this here for the mutliclass setup: fs._feature_outcome_dataframe[fs._feature_outcome_dataframe['Overall.Stage'].isnull()]\n",
    "#fs.handle_nan(axis=0)\n",
    "\n"
   ]
  },
  {
   "cell_type": "code",
   "execution_count": 10,
   "id": "e17e40c9",
   "metadata": {},
   "outputs": [],
   "source": [
    "#fs._feature_outcome_dataframe.head(5) # not included in multiclass setup"
   ]
  },
  {
   "cell_type": "code",
   "execution_count": 6,
   "id": "7cab7276",
   "metadata": {},
   "outputs": [
    {
     "name": "stdout",
     "output_type": "stream",
     "text": [
      "Outcome column should be presented\n"
     ]
    }
   ],
   "source": [
    "fs.plot_distribution(fs._feature_column[:8]) # add: fs.plot_distribution(fs._feature_column[:8], ['I', 'IIIb'])"
   ]
  },
  {
   "cell_type": "code",
   "execution_count": 7,
   "id": "a9aac944",
   "metadata": {},
   "outputs": [
    {
     "name": "stdout",
     "output_type": "stream",
     "text": [
      "Outcome column should be presented\n"
     ]
    }
   ],
   "source": [
    "fs.plot_MW_p(fs._feature_column[:8]) # change for mutliclass to: fs.plot_MW_p(fs._feature_column[:100], ['I', 'IIIb'])"
   ]
  },
  {
   "cell_type": "code",
   "execution_count": 16,
   "id": "4b1f807a",
   "metadata": {},
   "outputs": [],
   "source": [
    "fs.plot_correlation_matrix(fs._feature_column[:]) # not included in multiclass instead: fs.plot_distribution(fs._feature_column[:8], ['I', 'IIIb'])\n"
   ]
  },
  {
   "cell_type": "code",
   "execution_count": 11,
   "id": "d4ce6cd8",
   "metadata": {},
   "outputs": [
    {
     "name": "stdout",
     "output_type": "stream",
     "text": [
      "Outcome column should be presented\n"
     ]
    }
   ],
   "source": [
    "fs.plot_univariate_roc(fs._feature_column[:8], auc_threshold=0.70) # change for mutliclass to: fs.plot_univariate_roc(fs._feature_column[:100], ['I', 'IIIb'])"
   ]
  },
  {
   "cell_type": "code",
   "execution_count": 12,
   "id": "3492076c",
   "metadata": {},
   "outputs": [],
   "source": [
    "fs.calculate_basic_stats(volume_feature='original_shape_VoxelVolume')"
   ]
  },
  {
   "cell_type": "code",
   "execution_count": 13,
   "id": "70408fcd",
   "metadata": {},
   "outputs": [
    {
     "name": "stdout",
     "output_type": "stream",
     "text": [
      "Basic statistics for each feature\n"
     ]
    },
    {
     "data": {
      "text/html": [
       "<div>\n",
       "<style scoped>\n",
       "    .dataframe tbody tr th:only-of-type {\n",
       "        vertical-align: middle;\n",
       "    }\n",
       "\n",
       "    .dataframe tbody tr th {\n",
       "        vertical-align: top;\n",
       "    }\n",
       "\n",
       "    .dataframe thead th {\n",
       "        text-align: right;\n",
       "    }\n",
       "</style>\n",
       "<table border=\"1\" class=\"dataframe\">\n",
       "  <thead>\n",
       "    <tr style=\"text-align: right;\">\n",
       "      <th></th>\n",
       "      <th>Unnamed: 0</th>\n",
       "      <th>NaN</th>\n",
       "      <th>Mean</th>\n",
       "      <th>Std</th>\n",
       "      <th>Min</th>\n",
       "      <th>Max</th>\n",
       "      <th>volume_corr</th>\n",
       "    </tr>\n",
       "  </thead>\n",
       "  <tbody>\n",
       "    <tr>\n",
       "      <th>0</th>\n",
       "      <td>original_shape_Elongation</td>\n",
       "      <td>0</td>\n",
       "      <td>0.621781</td>\n",
       "      <td>0.263964</td>\n",
       "      <td>0.178516</td>\n",
       "      <td>0.977147</td>\n",
       "      <td>0.496503</td>\n",
       "    </tr>\n",
       "    <tr>\n",
       "      <th>1</th>\n",
       "      <td>original_shape_Flatness</td>\n",
       "      <td>0</td>\n",
       "      <td>0.363750</td>\n",
       "      <td>0.113838</td>\n",
       "      <td>0.141681</td>\n",
       "      <td>0.507391</td>\n",
       "      <td>0.286713</td>\n",
       "    </tr>\n",
       "    <tr>\n",
       "      <th>2</th>\n",
       "      <td>original_shape_LeastAxisLength</td>\n",
       "      <td>0</td>\n",
       "      <td>64.859307</td>\n",
       "      <td>39.435318</td>\n",
       "      <td>11.780616</td>\n",
       "      <td>117.267248</td>\n",
       "      <td>0.363636</td>\n",
       "    </tr>\n",
       "    <tr>\n",
       "      <th>3</th>\n",
       "      <td>original_shape_MajorAxisLength</td>\n",
       "      <td>0</td>\n",
       "      <td>165.353964</td>\n",
       "      <td>75.744089</td>\n",
       "      <td>83.148820</td>\n",
       "      <td>263.962016</td>\n",
       "      <td>0.454545</td>\n",
       "    </tr>\n",
       "    <tr>\n",
       "      <th>4</th>\n",
       "      <td>original_shape_Maximum2DDiameterColumn</td>\n",
       "      <td>0</td>\n",
       "      <td>129.127557</td>\n",
       "      <td>65.892397</td>\n",
       "      <td>60.133186</td>\n",
       "      <td>238.209991</td>\n",
       "      <td>0.440559</td>\n",
       "    </tr>\n",
       "    <tr>\n",
       "      <th>...</th>\n",
       "      <td>...</td>\n",
       "      <td>...</td>\n",
       "      <td>...</td>\n",
       "      <td>...</td>\n",
       "      <td>...</td>\n",
       "      <td>...</td>\n",
       "      <td>...</td>\n",
       "    </tr>\n",
       "    <tr>\n",
       "      <th>95</th>\n",
       "      <td>original_gldm_LargeDependenceLowGrayLevelEmphasis</td>\n",
       "      <td>0</td>\n",
       "      <td>0.011713</td>\n",
       "      <td>0.007035</td>\n",
       "      <td>0.005177</td>\n",
       "      <td>0.026885</td>\n",
       "      <td>-0.300699</td>\n",
       "    </tr>\n",
       "    <tr>\n",
       "      <th>96</th>\n",
       "      <td>original_gldm_LowGrayLevelEmphasis</td>\n",
       "      <td>0</td>\n",
       "      <td>0.006912</td>\n",
       "      <td>0.005317</td>\n",
       "      <td>0.003043</td>\n",
       "      <td>0.019867</td>\n",
       "      <td>-0.741259</td>\n",
       "    </tr>\n",
       "    <tr>\n",
       "      <th>97</th>\n",
       "      <td>original_gldm_SmallDependenceEmphasis</td>\n",
       "      <td>0</td>\n",
       "      <td>0.727654</td>\n",
       "      <td>0.096543</td>\n",
       "      <td>0.565644</td>\n",
       "      <td>0.839999</td>\n",
       "      <td>-0.195804</td>\n",
       "    </tr>\n",
       "    <tr>\n",
       "      <th>98</th>\n",
       "      <td>original_gldm_SmallDependenceHighGrayLevelEmph...</td>\n",
       "      <td>0</td>\n",
       "      <td>576.456462</td>\n",
       "      <td>152.090356</td>\n",
       "      <td>267.823202</td>\n",
       "      <td>773.798447</td>\n",
       "      <td>-0.076923</td>\n",
       "    </tr>\n",
       "    <tr>\n",
       "      <th>99</th>\n",
       "      <td>original_gldm_SmallDependenceLowGrayLevelEmphasis</td>\n",
       "      <td>0</td>\n",
       "      <td>0.005996</td>\n",
       "      <td>0.005171</td>\n",
       "      <td>0.001401</td>\n",
       "      <td>0.018635</td>\n",
       "      <td>-0.811189</td>\n",
       "    </tr>\n",
       "  </tbody>\n",
       "</table>\n",
       "<p>100 rows × 7 columns</p>\n",
       "</div>"
      ],
      "text/plain": [
       "                                           Unnamed: 0  NaN        Mean  \\\n",
       "0                           original_shape_Elongation    0    0.621781   \n",
       "1                             original_shape_Flatness    0    0.363750   \n",
       "2                      original_shape_LeastAxisLength    0   64.859307   \n",
       "3                      original_shape_MajorAxisLength    0  165.353964   \n",
       "4              original_shape_Maximum2DDiameterColumn    0  129.127557   \n",
       "..                                                ...  ...         ...   \n",
       "95  original_gldm_LargeDependenceLowGrayLevelEmphasis    0    0.011713   \n",
       "96                 original_gldm_LowGrayLevelEmphasis    0    0.006912   \n",
       "97              original_gldm_SmallDependenceEmphasis    0    0.727654   \n",
       "98  original_gldm_SmallDependenceHighGrayLevelEmph...    0  576.456462   \n",
       "99  original_gldm_SmallDependenceLowGrayLevelEmphasis    0    0.005996   \n",
       "\n",
       "           Std         Min         Max  volume_corr  \n",
       "0     0.263964    0.178516    0.977147     0.496503  \n",
       "1     0.113838    0.141681    0.507391     0.286713  \n",
       "2    39.435318   11.780616  117.267248     0.363636  \n",
       "3    75.744089   83.148820  263.962016     0.454545  \n",
       "4    65.892397   60.133186  238.209991     0.440559  \n",
       "..         ...         ...         ...          ...  \n",
       "95    0.007035    0.005177    0.026885    -0.300699  \n",
       "96    0.005317    0.003043    0.019867    -0.741259  \n",
       "97    0.096543    0.565644    0.839999    -0.195804  \n",
       "98  152.090356  267.823202  773.798447    -0.076923  \n",
       "99    0.005171    0.001401    0.018635    -0.811189  \n",
       "\n",
       "[100 rows x 7 columns]"
      ]
     },
     "execution_count": 13,
     "metadata": {},
     "output_type": "execute_result"
    }
   ],
   "source": [
    "print('Basic statistics for each feature')\n",
    "pd.read_excel(r'E:\\Internship Mass storage\\First 3 datasets\\VALDO dataset/extracted_features_basic_stats.xlsx')"
   ]
  },
  {
   "cell_type": "code",
   "execution_count": 15,
   "id": "389ef0f8",
   "metadata": {},
   "outputs": [],
   "source": [
    "#fs.volume_analysis(volume_feature='original_shape_VoxelVolume')"
   ]
  },
  {
   "cell_type": "code",
   "execution_count": null,
   "id": "538ef936",
   "metadata": {},
   "outputs": [],
   "source": []
  }
 ],
 "metadata": {
  "kernelspec": {
   "display_name": "Python 3 (ipykernel)",
   "language": "python",
   "name": "python3"
  },
  "language_info": {
   "codemirror_mode": {
    "name": "ipython",
    "version": 3
   },
   "file_extension": ".py",
   "mimetype": "text/x-python",
   "name": "python",
   "nbconvert_exporter": "python",
   "pygments_lexer": "ipython3",
   "version": "3.9.7"
  }
 },
 "nbformat": 4,
 "nbformat_minor": 5
}
