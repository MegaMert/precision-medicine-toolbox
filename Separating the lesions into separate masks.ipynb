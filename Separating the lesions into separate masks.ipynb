{
 "cells": [
  {
   "cell_type": "code",
   "execution_count": 2,
   "id": "394b0d42",
   "metadata": {},
   "outputs": [],
   "source": [
    "import numpy as np\n",
    "import nrrd\n",
    "import os\n",
    "from os import listdir\n",
    "from os.path import isfile, join\n",
    "from skimage import morphology"
   ]
  },
  {
   "cell_type": "code",
   "execution_count": 23,
   "id": "8d984944",
   "metadata": {},
   "outputs": [
    {
     "name": "stdout",
     "output_type": "stream",
     "text": [
      "['E:\\\\Internship Mass storage\\\\First 3 datasets\\\\VALDO dataset\\\\Test/sub-101', 'E:\\\\Internship Mass storage\\\\First 3 datasets\\\\VALDO dataset\\\\Test/sub-102', 'E:\\\\Internship Mass storage\\\\First 3 datasets\\\\VALDO dataset\\\\Test/sub-103', 'E:\\\\Internship Mass storage\\\\First 3 datasets\\\\VALDO dataset\\\\Test/sub-104', 'E:\\\\Internship Mass storage\\\\First 3 datasets\\\\VALDO dataset\\\\Test/sub-105', 'E:\\\\Internship Mass storage\\\\First 3 datasets\\\\VALDO dataset\\\\Test/sub-106', 'E:\\\\Internship Mass storage\\\\First 3 datasets\\\\VALDO dataset\\\\Test/sub-209', 'E:\\\\Internship Mass storage\\\\First 3 datasets\\\\VALDO dataset\\\\Test/sub-211', 'E:\\\\Internship Mass storage\\\\First 3 datasets\\\\VALDO dataset\\\\Test/sub-219', 'E:\\\\Internship Mass storage\\\\First 3 datasets\\\\VALDO dataset\\\\Test/sub-223', 'E:\\\\Internship Mass storage\\\\First 3 datasets\\\\VALDO dataset\\\\Test/sub-224', 'E:\\\\Internship Mass storage\\\\First 3 datasets\\\\VALDO dataset\\\\Test/sub-231']\n"
     ]
    }
   ],
   "source": [
    "mypath = r\"E:\\Internship Mass storage\\First 3 datasets\\VALDO dataset\\Test\"\n",
    "maskidentifier = \"Segmask\"\n",
    "patients = os.listdir(mypath)\n",
    "patientpaths = []\n",
    "for sub in patients:\n",
    "    patientpath = mypath + \"/\" + sub\n",
    "    patientpaths.append(patientpath)\n",
    "print(patientpaths)"
   ]
  },
  {
   "cell_type": "code",
   "execution_count": 24,
   "id": "4378f6ad",
   "metadata": {},
   "outputs": [],
   "source": [
    "for patientdirectory in patientpaths:\n",
    "    onlyfiles = [f for f in listdir(patientdirectory) if isfile(join(patientdirectory, f))]\n",
    "    filepaths = [patientdirectory + \"/\" + s for s in onlyfiles]\n",
    "    allmaskfiles = []\n",
    "    allmasks = []\n",
    "    imagevolume0, imageheader0 = nrrd.read(filepaths[0])\n",
    "    for nrrds in filepaths:\n",
    "        if maskidentifier in nrrds:\n",
    "            allmaskfiles.append(nrrds)\n",
    "    for mask in allmaskfiles:\n",
    "        imagevolume1, imageheader1 = nrrd.read(mask)\n",
    "        labelskimage = skimage.morphology.label(imagevolume1, return_num = True)\n",
    "        labelarray = labelskimage[0]\n",
    "        labelcount = labelskimage[1]\n",
    "        for labelnr in range(1, labelcount + 1):\n",
    "            lesionmaskarray = np.where(imagevolume1 != 0, 0, imagevolume1)\n",
    "            for x in range(0, imagevolume1.shape[0]):\n",
    "                for y in range(0, imagevolume1.shape[1]):\n",
    "                    for z in range(0, imagevolume1.shape[2]):\n",
    "                        if labelarray[x,y,z] == labelnr:\n",
    "                            lesionmaskarray[x,y,z] = 1\n",
    "            patientfile = mask.replace(mypath, '')\n",
    "            patientname = patientfile.replace('/tconsensusmask.nrrd', ' ')\n",
    "            target_file = patientdirectory + '/lesion'+ str(labelnr) + '.nrrd'\n",
    "            nrrd.write(target_file, lesionmaskarray)  \n",
    "        \n",
    "        "
   ]
  },
  {
   "cell_type": "code",
   "execution_count": 3,
   "id": "eefbcbdc",
   "metadata": {},
   "outputs": [],
   "source": [
    "path = r'E:\\Internship Mass storage\\First 3 datasets\\VALDO dataset\\Test\\sub-209\\Test'\n",
    "files = os.listdir(path)\n",
    "i = \"sub-209\"\n",
    "\n",
    "for index, file in enumerate(files):\n",
    "    os.rename(os.path.join(path, file), os.path.join(path, ''.join([str(index), '.jpg'])))\n"
   ]
  },
  {
   "cell_type": "code",
   "execution_count": 38,
   "id": "0ef420e9",
   "metadata": {},
   "outputs": [],
   "source": [
    "import os\n",
    "lesion = \"lesion\"\n",
    "for f in os.listdir(r'E:\\Internship Mass storage\\First 3 datasets\\VALDO dataset\\Test\\sub-209'):\n",
    "                    original = r'E:\\Internship Mass storage\\First 3 datasets\\VALDO dataset\\Test\\sub-209/' + f\n",
    "                    renamed = r'E:\\Internship Mass storage\\First 3 datasets\\VALDO dataset\\Test\\sub-209\\mask' + f\n",
    "                    if lesion in f:\n",
    "                        os.rename(original, renamed)"
   ]
  },
  {
   "cell_type": "code",
   "execution_count": null,
   "id": "1d265fed",
   "metadata": {},
   "outputs": [],
   "source": []
  }
 ],
 "metadata": {
  "kernelspec": {
   "display_name": "Python 3 (ipykernel)",
   "language": "python",
   "name": "python3"
  },
  "language_info": {
   "codemirror_mode": {
    "name": "ipython",
    "version": 3
   },
   "file_extension": ".py",
   "mimetype": "text/x-python",
   "name": "python",
   "nbconvert_exporter": "python",
   "pygments_lexer": "ipython3",
   "version": "3.9.7"
  }
 },
 "nbformat": 4,
 "nbformat_minor": 5
}
